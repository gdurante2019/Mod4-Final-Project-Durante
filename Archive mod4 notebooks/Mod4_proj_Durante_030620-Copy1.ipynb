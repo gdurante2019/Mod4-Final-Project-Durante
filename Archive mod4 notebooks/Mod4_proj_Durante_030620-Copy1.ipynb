{
 "cells": [
  {
   "cell_type": "markdown",
   "metadata": {
    "toc": true
   },
   "source": [
    "<h1>Table of Contents<span class=\"tocSkip\"></span></h1>\n",
    "<div class=\"toc\"><ul class=\"toc-item\"><li><span><a href=\"#Mod-4-Project---Starter-Notebook\" data-toc-modified-id=\"Mod-4-Project---Starter-Notebook-1\">Mod 4 Project - Starter Notebook</a></span></li><li><span><a href=\"#Some-Notes-Before-Starting\" data-toc-modified-id=\"Some-Notes-Before-Starting-2\">Some Notes Before Starting</a></span><ul class=\"toc-item\"><li><span><a href=\"#Wide-Format-vs-Long-Format\" data-toc-modified-id=\"Wide-Format-vs-Long-Format-2.1\">Wide Format vs Long Format</a></span></li></ul></li><li><span><a href=\"#Helper-Functions-Provided\" data-toc-modified-id=\"Helper-Functions-Provided-3\">Helper Functions Provided</a></span></li><li><span><a href=\"#Step-1:-Load-the-Data/Filtering-for-Chosen-Zipcodes\" data-toc-modified-id=\"Step-1:-Load-the-Data/Filtering-for-Chosen-Zipcodes-4\">Step 1: Load the Data/Filtering for Chosen Zipcodes</a></span></li><li><span><a href=\"#Step-2:-Data-Preprocessing\" data-toc-modified-id=\"Step-2:-Data-Preprocessing-5\">Step 2: Data Preprocessing</a></span><ul class=\"toc-item\"><li><span><a href=\"#Convert-time-data-type-to-datetime-format\" data-toc-modified-id=\"Convert-time-data-type-to-datetime-format-5.1\">Convert time data type to datetime format</a></span></li><li><span><a href=\"#Fix-problem-with-ZIP-codes-beginning-with-'0'\" data-toc-modified-id=\"Fix-problem-with-ZIP-codes-beginning-with-'0'-5.2\">Fix problem with ZIP codes beginning with '0'</a></span></li><li><span><a href=\"#Creating-US-dataframe-(df_melt)-using-melt-function\" data-toc-modified-id=\"Creating-US-dataframe-(df_melt)-using-melt-function-5.3\">Creating US dataframe (df_melt) using melt function</a></span><ul class=\"toc-item\"><li><span><a href=\"#Creating-new-column,-MetroState,-to-address-duplicate-metro-names-in-different-states-(e.g.,-Aberdeen-in-multiple-states)\" data-toc-modified-id=\"Creating-new-column,-MetroState,-to-address-duplicate-metro-names-in-different-states-(e.g.,-Aberdeen-in-multiple-states)-5.3.1\">Creating new column, MetroState, to address duplicate metro names in different states (e.g., Aberdeen in multiple states)</a></span></li></ul></li></ul></li><li><span><a href=\"#Step-3A:--Exploratory-Data-Analysis--Creating-dataframes-of-values-by-different-geographic-units\" data-toc-modified-id=\"Step-3A:--Exploratory-Data-Analysis--Creating-dataframes-of-values-by-different-geographic-units-6\">Step 3A:  Exploratory Data Analysis--Creating dataframes of values by different geographic units</a></span><ul class=\"toc-item\"><li><span><a href=\"#Creating-US-dataframes\" data-toc-modified-id=\"Creating-US-dataframes-6.1\">Creating US dataframes</a></span><ul class=\"toc-item\"><li><span><a href=\"#Creating-df_metro-(US-metro-df)-with-monthly-values-by-Zip\" data-toc-modified-id=\"Creating-df_metro-(US-metro-df)-with-monthly-values-by-Zip-6.1.1\">Creating df_metro (US metro df) with monthly values by Zip</a></span></li><li><span><a href=\"#Creating-df_metro_cities-(US-Metros-df-with-City-mean-values)\" data-toc-modified-id=\"Creating-df_metro_cities-(US-Metros-df-with-City-mean-values)-6.1.2\">Creating df_metro_cities (US Metros df with <em>City</em> mean values)</a></span></li><li><span><a href=\"#Creating-df_metro_values-(US-Metros-df-with-Metro-mean-values)\" data-toc-modified-id=\"Creating-df_metro_values-(US-Metros-df-with-Metro-mean-values)-6.1.3\">Creating df_metro_values (US Metros df with <em>Metro</em> mean values)</a></span></li></ul></li><li><span><a href=\"#Function-for-creating-a-dataframe-based-on-particular-geographic-unit-(e.g.,-MetroState-area,-City,-CountyName)\" data-toc-modified-id=\"Function-for-creating-a-dataframe-based-on-particular-geographic-unit-(e.g.,-MetroState-area,-City,-CountyName)-6.2\">Function for creating a dataframe based on particular geographic unit (e.g., MetroState area, City, CountyName)</a></span></li><li><span><a href=\"#Creating-Sacramento-Metro-dataframes\" data-toc-modified-id=\"Creating-Sacramento-Metro-dataframes-6.3\">Creating Sacramento Metro dataframes</a></span><ul class=\"toc-item\"><li><span><a href=\"#df_sac:--Sac-Metro-dataframe,-values-by-Zip-code\" data-toc-modified-id=\"df_sac:--Sac-Metro-dataframe,-values-by-Zip-code-6.3.1\">df_sac:  Sac Metro dataframe, values by Zip code</a></span></li><li><span><a href=\"#df_metro_sac:--Sacramento,-CA-metro-area-values-dataframe\" data-toc-modified-id=\"df_metro_sac:--Sacramento,-CA-metro-area-values-dataframe-6.3.2\">df_metro_sac:  Sacramento, CA metro area values dataframe</a></span></li></ul></li></ul></li><li><span><a href=\"#Step-3B:--Creating-lists-and-dictionaries-for-iterating-through-dataframes\" data-toc-modified-id=\"Step-3B:--Creating-lists-and-dictionaries-for-iterating-through-dataframes-7\">Step 3B:  Creating lists and dictionaries for iterating through dataframes</a></span><ul class=\"toc-item\"><li><span><a href=\"#Function-to-print-first-n-number-of-items-in-a-dictionary\" data-toc-modified-id=\"Function-to-print-first-n-number-of-items-in-a-dictionary-7.1\">Function to print first n number of items in a dictionary</a></span></li><li><span><a href=\"#Search-metro-area-by-str.contains\" data-toc-modified-id=\"Search-metro-area-by-str.contains-7.2\">Search metro area by str.contains</a></span></li><li><span><a href=\"#dict_cities_one_metro:--Function-to-create-dictionary-of-cities-in-one-metro-area\" data-toc-modified-id=\"dict_cities_one_metro:--Function-to-create-dictionary-of-cities-in-one-metro-area-7.3\">dict_cities_one_metro:  Function to create dictionary of cities in one metro area</a></span></li><li><span><a href=\"#US-lists-and-dictionaries\" data-toc-modified-id=\"US-lists-and-dictionaries-7.4\">US lists and dictionaries</a></span><ul class=\"toc-item\"><li><span><a href=\"#Create-df-with-just-the-first-date-entry-for-each-zip-code\" data-toc-modified-id=\"Create-df-with-just-the-first-date-entry-for-each-zip-code-7.4.1\">Create df with just the first date entry for each zip code</a></span></li><li><span><a href=\"#Creating-list-of-unique-metro-areas-(metro_state_list)\" data-toc-modified-id=\"Creating-list-of-unique-metro-areas-(metro_state_list)-7.4.2\">Creating list of unique metro areas (metro_state_list)</a></span></li><li><span><a href=\"#Create-ordict_zips_sizerank-(dictionary-of-zip-codes-and-size-ranks)\" data-toc-modified-id=\"Create-ordict_zips_sizerank-(dictionary-of-zip-codes-and-size-ranks)-7.4.3\">Create ordict_zips_sizerank (dictionary of zip codes and size ranks)</a></span></li><li><span><a href=\"#Create-dict_sizerank_zips-(dictionary-of-size-ranks-and-zip-codes--keys:values-reversed-from-previous-dictionary)\" data-toc-modified-id=\"Create-dict_sizerank_zips-(dictionary-of-size-ranks-and-zip-codes--keys:values-reversed-from-previous-dictionary)-7.4.4\">Create dict_sizerank_zips (dictionary of size ranks and zip codes--keys:values reversed from previous dictionary)</a></span></li><li><span><a href=\"#Creating-dict_metrostate_zips-(dictionary-with-zips-per-unique-metro-area-(MetroState))\" data-toc-modified-id=\"Creating-dict_metrostate_zips-(dictionary-with-zips-per-unique-metro-area-(MetroState))-7.4.5\">Creating dict_metrostate_zips (dictionary with zips per unique metro area (MetroState))</a></span></li><li><span><a href=\"#Creating-ordict_num_metro_zip_counts_sorted-(dictionary-reverse-sorting-of-number-of-zip-codes-in-a-unique-metro-area)\" data-toc-modified-id=\"Creating-ordict_num_metro_zip_counts_sorted-(dictionary-reverse-sorting-of-number-of-zip-codes-in-a-unique-metro-area)-7.4.6\">Creating ordict_num_metro_zip_counts_sorted (dictionary reverse-sorting of number of zip codes in a unique <em>metro area</em>)</a></span></li><li><span><a href=\"#Creating-dict_allcities_zips-(zips-for-each-city)\" data-toc-modified-id=\"Creating-dict_allcities_zips-(zips-for-each-city)-7.4.7\">Creating dict_allcities_zips (zips for each city)</a></span></li><li><span><a href=\"#Creating-ordict_allcities_zips-(ordered-dictionary-of-zips-by-city,-sorted-by-city-name)\" data-toc-modified-id=\"Creating-ordict_allcities_zips-(ordered-dictionary-of-zips-by-city,-sorted-by-city-name)-7.4.8\">Creating ordict_allcities_zips (ordered dictionary of zips by city, sorted by city name)</a></span></li><li><span><a href=\"#Create-ordict_num_city_zips_sorted-(dictionary-reverse-sorting-counts-of-zip-codes-by-city)\" data-toc-modified-id=\"Create-ordict_num_city_zips_sorted-(dictionary-reverse-sorting-counts-of-zip-codes-by-city)-7.4.9\">Create ordict_num_city_zips_sorted (dictionary reverse-sorting <em>counts</em> of zip codes by city)</a></span></li><li><span><a href=\"#Creating-dict_metro_size-(dictionary-of-metro-areas-and-number-of-data-points-(proxy-for-size-of-metro-area))\" data-toc-modified-id=\"Creating-dict_metro_size-(dictionary-of-metro-areas-and-number-of-data-points-(proxy-for-size-of-metro-area))-7.4.10\">Creating dict_metro_size (dictionary of metro areas and number of data points (proxy for size of metro area))</a></span><ul class=\"toc-item\"><li><span><a href=\"#Creating-dictionary-object-of-dict_metro_size\" data-toc-modified-id=\"Creating-dictionary-object-of-dict_metro_size-7.4.10.1\">Creating dictionary object of dict_metro_size</a></span></li><li><span><a href=\"#Creating-list--(list-of-tuples)-from-dict_metro_size-object\" data-toc-modified-id=\"Creating-list--(list-of-tuples)-from-dict_metro_size-object-7.4.10.2\">Creating list  (list of tuples) from dict_metro_size object</a></span></li><li><span><a href=\"#Creating-list-of-tuples-of-the-thirty-largest-metro-areas\" data-toc-modified-id=\"Creating-list-of-tuples-of-the-thirty-largest-metro-areas-7.4.10.3\">Creating list of tuples of the thirty largest metro areas</a></span></li><li><span><a href=\"#Creating-list-from-[0]-index-in-each-tuple\" data-toc-modified-id=\"Creating-list-from-[0]-index-in-each-tuple-7.4.10.4\">Creating list from [0] index in each tuple</a></span></li><li><span><a href=\"#Creating-list-of-tuples-of-the-fifty-largest-metro-areas\" data-toc-modified-id=\"Creating-list-of-tuples-of-the-fifty-largest-metro-areas-7.4.10.5\">Creating list of tuples of the fifty largest metro areas</a></span></li><li><span><a href=\"#Creating-list-from-[0]-index-in-each-tuple\" data-toc-modified-id=\"Creating-list-from-[0]-index-in-each-tuple-7.4.10.6\">Creating list from [0] index in each tuple</a></span></li></ul></li><li><span><a href=\"#Creating-dict_metro_cities-(dictionary-of-MetroState-areas-and-cities-within-each)\" data-toc-modified-id=\"Creating-dict_metro_cities-(dictionary-of-MetroState-areas-and-cities-within-each)-7.4.11\">Creating dict_metro_cities (dictionary of MetroState areas and cities within each)</a></span><ul class=\"toc-item\"><li><span><a href=\"#List-of-metro-cities\" data-toc-modified-id=\"List-of-metro-cities-7.4.11.1\">List of metro cities</a></span></li><li><span><a href=\"#Creating-dict_metro_cities-(dictionary-of-metro-areas-and-the-cities-in-each)\" data-toc-modified-id=\"Creating-dict_metro_cities-(dictionary-of-metro-areas-and-the-cities-in-each)-7.4.11.2\">Creating dict_metro_cities (dictionary of metro areas and the cities in each)</a></span></li><li><span><a href=\"#Creating-dict_sorted_metro_cities-(dictionary-of-metro-areas,-sorted-from-largest-to-smallest,-and-the-cities-in-each)\" data-toc-modified-id=\"Creating-dict_sorted_metro_cities-(dictionary-of-metro-areas,-sorted-from-largest-to-smallest,-and-the-cities-in-each)-7.4.11.3\">Creating dict_sorted_metro_cities (dictionary of metro areas, sorted from largest to smallest, and the cities in each)</a></span></li></ul></li><li><span><a href=\"#Steps-for-creating-list-of-cities-in-a-metro-area,-sorted-from-largest-to-smallest-in-terms-of-#-of-zip-codes-in-city\" data-toc-modified-id=\"Steps-for-creating-list-of-cities-in-a-metro-area,-sorted-from-largest-to-smallest-in-terms-of-#-of-zip-codes-in-city-7.4.12\">Steps for creating list of cities in a metro area, sorted from largest to smallest in terms of # of zip codes in city</a></span></li><li><span><a href=\"#city_metro_list-function-creating-a-dataframe-AND-a-list-of-cities-in-a-metro-area,-sorted-from-largest-to-smallest\" data-toc-modified-id=\"city_metro_list-function-creating-a-dataframe-AND-a-list-of-cities-in-a-metro-area,-sorted-from-largest-to-smallest-7.4.13\">city_metro_list function creating a dataframe AND a list of cities in a metro area, sorted from largest to smallest</a></span></li></ul></li><li><span><a href=\"#Sacramento-lists-and-dictionaries\" data-toc-modified-id=\"Sacramento-lists-and-dictionaries-7.5\">Sacramento lists and dictionaries</a></span><ul class=\"toc-item\"><li><span><a href=\"#Creating-sac_metro_cities-list-from-df_sac\" data-toc-modified-id=\"Creating-sac_metro_cities-list-from-df_sac-7.5.1\">Creating sac_metro_cities list from df_sac</a></span></li><li><span><a href=\"#Creating-sac_metro_zips-list-from-zips-in-Sac-Metro-area\" data-toc-modified-id=\"Creating-sac_metro_zips-list-from-zips-in-Sac-Metro-area-7.5.2\">Creating sac_metro_zips list from zips in Sac Metro area</a></span></li><li><span><a href=\"#Creating-sac_metro_cty-list-from-df_sac\" data-toc-modified-id=\"Creating-sac_metro_cty-list-from-df_sac-7.5.3\">Creating sac_metro_cty list from df_sac</a></span></li><li><span><a href=\"#Creating-dict_zips_cities-dictionary-to-graph-zips-by-city\" data-toc-modified-id=\"Creating-dict_zips_cities-dictionary-to-graph-zips-by-city-7.5.4\">Creating dict_zips_cities dictionary to graph zips by city</a></span></li><li><span><a href=\"#Creating-sacto_zips-(list-of-zip-codes-in-City-Sacramento)\" data-toc-modified-id=\"Creating-sacto_zips-(list-of-zip-codes-in-City-Sacramento)-7.5.5\">Creating sacto_zips (list of zip codes in City Sacramento)</a></span></li></ul></li></ul></li><li><span><a href=\"#Step-3C:-Visualization-functions--plotting-time-series-values\" data-toc-modified-id=\"Step-3C:-Visualization-functions--plotting-time-series-values-8\">Step 3C: Visualization functions--plotting time series values</a></span><ul class=\"toc-item\"><li><span><a href=\"#Plotting-function:--plot_ts-(based-on-James-Irving's-study-group)\" data-toc-modified-id=\"Plotting-function:--plot_ts-(based-on-James-Irving's-study-group)-8.1\">Plotting function:  plot_ts (based on James Irving's study group)</a></span></li><li><span><a href=\"#Plotting-function:--plot_single_geog-function-(plots-a-single-geographic-unit)\" data-toc-modified-id=\"Plotting-function:--plot_single_geog-function-(plots-a-single-geographic-unit)-8.2\">Plotting function:  plot_single_geog function (plots a single geographic unit)</a></span></li><li><span><a href=\"#Plot-function:--plot_ts_metros()\" data-toc-modified-id=\"Plot-function:--plot_ts_metros()-8.3\">Plot function:  plot_ts_metros()</a></span><ul class=\"toc-item\"><li><span><a href=\"#Plotting-top-30-metro-areas\" data-toc-modified-id=\"Plotting-top-30-metro-areas-8.3.1\">Plotting top 30 metro areas</a></span></li></ul></li><li><span><a href=\"#Plotting-function:---plot_ts_cities-(plot-values-by-city)\" data-toc-modified-id=\"Plotting-function:---plot_ts_cities-(plot-values-by-city)-8.4\">Plotting function:   plot_ts_cities (plot values by city)</a></span></li><li><span><a href=\"#Plotting-function:--plot_ts_metro_cities-(metro-area-by-city)\" data-toc-modified-id=\"Plotting-function:--plot_ts_metro_cities-(metro-area-by-city)-8.5\">Plotting function:  plot_ts_metro_cities (metro area by city)</a></span><ul class=\"toc-item\"><li><span><a href=\"#Plotting-city-values-in-Sacramento-CA-metro-area\" data-toc-modified-id=\"Plotting-city-values-in-Sacramento-CA-metro-area-8.5.1\">Plotting city values in Sacramento CA metro area</a></span></li></ul></li><li><span><a href=\"#Plot-function:--plot_ts_zips-(plots-individual-zip-codes-in-a-list-provided-to-the-function)\" data-toc-modified-id=\"Plot-function:--plot_ts_zips-(plots-individual-zip-codes-in-a-list-provided-to-the-function)-8.6\">Plot function:  plot_ts_zips (plots individual zip codes in a list provided to the function)</a></span></li><li><span><a href=\"#Plotting-function:--plot_single_geog-function:--plots-a-single-geographic-unit\" data-toc-modified-id=\"Plotting-function:--plot_single_geog-function:--plots-a-single-geographic-unit-8.7\">Plotting function:  plot_single_geog function:  plots a single geographic unit</a></span></li><li><span><a href=\"#Plotting-function:--plot_ts_zips_by_city-(Metro-area-cities-with-zip-codes)\" data-toc-modified-id=\"Plotting-function:--plot_ts_zips_by_city-(Metro-area-cities-with-zip-codes)-8.8\">Plotting function:  plot_ts_zips_by_city (Metro area cities with zip codes)</a></span></li><li><span><a href=\"#Plotting-Sacramento-values-by-zip-code,-grouped-by-city-or-within-a-city\" data-toc-modified-id=\"Plotting-Sacramento-values-by-zip-code,-grouped-by-city-or-within-a-city-8.9\">Plotting Sacramento values by zip code, grouped by city or within a city</a></span><ul class=\"toc-item\"><li><span><a href=\"#Plots-of-zip-codes-in-City-of-Sacramento\" data-toc-modified-id=\"Plots-of-zip-codes-in-City-of-Sacramento-8.9.1\">Plots of zip codes in City of Sacramento</a></span></li><li><span><a href=\"#Plotting-cities-and-zip-codes-within-Sacramento-Metro-area\" data-toc-modified-id=\"Plotting-cities-and-zip-codes-within-Sacramento-Metro-area-8.9.2\">Plotting cities and zip codes within Sacramento Metro area</a></span></li><li><span><a href=\"#Creating-df_sac_mo_city-(monthly-values-by-City)\" data-toc-modified-id=\"Creating-df_sac_mo_city-(monthly-values-by-City)-8.9.3\">Creating df_sac_mo_city (monthly values by <em>City</em>)</a></span></li><li><span><a href=\"#Plotting-value-by-city-in-Sacto-Metro-area\" data-toc-modified-id=\"Plotting-value-by-city-in-Sacto-Metro-area-8.9.4\">Plotting value by city in Sacto Metro area</a></span></li></ul></li><li><span><a href=\"#Boxplots\" data-toc-modified-id=\"Boxplots-8.10\">Boxplots</a></span><ul class=\"toc-item\"><li><span><a href=\"#Plotting-boxplots-for-each-city-in-Sacto-Metro-region\" data-toc-modified-id=\"Plotting-boxplots-for-each-city-in-Sacto-Metro-region-8.10.1\">Plotting boxplots for each city in Sacto Metro region</a></span></li><li><span><a href=\"#Plotting-boxplots-for-each-zip-in-Sac-Metro,-by-city\" data-toc-modified-id=\"Plotting-boxplots-for-each-zip-in-Sac-Metro,-by-city-8.10.2\">Plotting boxplots for each zip in Sac Metro, by city</a></span></li><li><span><a href=\"#Violin-plot-for-Sacramento-city-zip-codes\" data-toc-modified-id=\"Violin-plot-for-Sacramento-city-zip-codes-8.10.3\">Violin plot for Sacramento city zip codes</a></span></li><li><span><a href=\"#Line-plot-for-Davis,-CA,-marking-height-of-market-bubble,-drop-of-housing-index-on-national-level,-and-min-for-Davis-post-crash\" data-toc-modified-id=\"Line-plot-for-Davis,-CA,-marking-height-of-market-bubble,-drop-of-housing-index-on-national-level,-and-min-for-Davis-post-crash-8.10.4\">Line plot for Davis, CA, marking height of market bubble, drop of housing index on national level, and min for Davis post crash</a></span></li></ul></li></ul></li><li><span><a href=\"#Step-3D:--Visualizations\" data-toc-modified-id=\"Step-3D:--Visualizations-9\">Step 3D:  Visualizations</a></span><ul class=\"toc-item\"><li><span><a href=\"#Set-ts-=-zip-code-for-initial-test\" data-toc-modified-id=\"Set-ts-=-zip-code-for-initial-test-9.1\">Set ts = zip code for initial test</a></span></li><li><span><a href=\"#Creating-ACF-and-PACF-plots\" data-toc-modified-id=\"Creating-ACF-and-PACF-plots-9.2\">Creating ACF and PACF plots</a></span></li><li><span><a href=\"#Seasonal-Decomposition\" data-toc-modified-id=\"Seasonal-Decomposition-9.3\">Seasonal Decomposition</a></span></li></ul></li><li><span><a href=\"#Step-4:--ARIMA-Modeling\" data-toc-modified-id=\"Step-4:--ARIMA-Modeling-10\">Step 4:  ARIMA Modeling</a></span><ul class=\"toc-item\"><li><span><a href=\"#Creating-p,-d,-q,-and-m-values-for-running-ARIMA-model\" data-toc-modified-id=\"Creating-p,-d,-q,-and-m-values-for-running-ARIMA-model-10.1\">Creating p, d, q, and m values for running ARIMA model</a></span></li><li><span><a href=\"#Setting-up-functions-for-running-ARIMA-models\" data-toc-modified-id=\"Setting-up-functions-for-running-ARIMA-models-10.2\">Setting up functions for running ARIMA models</a></span></li><li><span><a href=\"#Function-to-find-best-p,d,q-parameters-for-ARIMA-model\" data-toc-modified-id=\"Function-to-find-best-p,d,q-parameters-for-ARIMA-model-10.3\">Function to find best p,d,q parameters for ARIMA model</a></span></li></ul></li><li><span><a href=\"#Step-5:-Interpreting-Results\" data-toc-modified-id=\"Step-5:-Interpreting-Results-11\">Step 5: Interpreting Results</a></span><ul class=\"toc-item\"><li><span><a href=\"#Create-ARIMA-model-and-show-summary-results-table\" data-toc-modified-id=\"Create-ARIMA-model-and-show-summary-results-table-11.1\">Create ARIMA model and show summary results table</a></span></li><li><span><a href=\"#Create-forecast-model\" data-toc-modified-id=\"Create-forecast-model-11.2\">Create forecast model</a></span></li><li><span><a href=\"#Create-dataframe-to-hold-these-values-and-join-to-existing-dataframe\" data-toc-modified-id=\"Create-dataframe-to-hold-these-values-and-join-to-existing-dataframe-11.3\">Create dataframe to hold these values and join to existing dataframe</a></span></li><li><span><a href=\"#Create-df_new-with-historical-and-forecasted-values\" data-toc-modified-id=\"Create-df_new-with-historical-and-forecasted-values-11.4\">Create df_new with historical and forecasted values</a></span></li><li><span><a href=\"#Plot-forecast-results\" data-toc-modified-id=\"Plot-forecast-results-11.5\">Plot forecast results</a></span></li><li><span><a href=\"#Figure-out-percent-change-in-home-values\" data-toc-modified-id=\"Figure-out-percent-change-in-home-values-11.6\">Figure out percent change in home values</a></span></li><li><span><a href=\"#Compute-and-print-predicted,-best,-and-worst-case-scenarios\" data-toc-modified-id=\"Compute-and-print-predicted,-best,-and-worst-case-scenarios-11.7\">Compute and print predicted, best, and worst case scenarios</a></span></li></ul></li><li><span><a href=\"#Dallas-Fort-Worth-TX-Metro-Area:--FUNCTIONS-to-run\" data-toc-modified-id=\"Dallas-Fort-Worth-TX-Metro-Area:--FUNCTIONS-to-run-12\">Dallas-Fort Worth TX Metro Area:  FUNCTIONS to run</a></span><ul class=\"toc-item\"><li><span><a href=\"#Create-ts-dataframe-for-single-geographic-area\" data-toc-modified-id=\"Create-ts-dataframe-for-single-geographic-area-12.1\">Create ts dataframe for <em>single</em> geographic area</a></span></li><li><span><a href=\"#Dallas-Fort-Worth-TX\" data-toc-modified-id=\"Dallas-Fort-Worth-TX-12.2\">Dallas-Fort Worth TX</a></span><ul class=\"toc-item\"><li><span><a href=\"#Create-dataframe-containing-values-for-just-this-geographic-unit\" data-toc-modified-id=\"Create-dataframe-containing-values-for-just-this-geographic-unit-12.2.1\">Create dataframe containing values for just this geographic unit</a></span></li><li><span><a href=\"#Visualizations\" data-toc-modified-id=\"Visualizations-12.2.2\">Visualizations</a></span><ul class=\"toc-item\"><li><span><a href=\"#plot_ts:--Plot-zip-code(s)-of-interest-over-time,-with-market-highs-and-lows\" data-toc-modified-id=\"plot_ts:--Plot-zip-code(s)-of-interest-over-time,-with-market-highs-and-lows-12.2.2.1\">plot_ts:  Plot zip code(s) of interest over time, with market highs and lows</a></span></li><li><span><a href=\"#plot_ts_metros:--Plot-values-by-Metro-area\" data-toc-modified-id=\"plot_ts_metros:--Plot-values-by-Metro-area-12.2.2.2\">plot_ts_metros:  Plot values by Metro area</a></span></li><li><span><a href=\"#plot_ts_metro_cities:--Plot-values-by-Metro-area-AND-city\" data-toc-modified-id=\"plot_ts_metro_cities:--Plot-values-by-Metro-area-AND-city-12.2.2.3\">plot_ts_metro_cities:  Plot values by Metro area AND city</a></span></li><li><span><a href=\"#plot_ts_cities:--Plot-values-by-CITY-in-a-Metro-area\" data-toc-modified-id=\"plot_ts_cities:--Plot-values-by-CITY-in-a-Metro-area-12.2.2.4\">plot_ts_cities:  Plot values by <em>CITY</em> in a Metro area</a></span></li><li><span><a href=\"#Function-to-plot-individual-zip-codes-within-a-city\" data-toc-modified-id=\"Function-to-plot-individual-zip-codes-within-a-city-12.2.2.5\">Function to plot individual zip codes within a city</a></span></li><li><span><a href=\"#Function-to-plot-zip-codes-by-city-in-a-metro-area\" data-toc-modified-id=\"Function-to-plot-zip-codes-by-city-in-a-metro-area-12.2.2.6\">Function to plot zip codes by city in a metro area</a></span></li><li><span><a href=\"#Function-to-plot-zip-codes-by-Metro-area\" data-toc-modified-id=\"Function-to-plot-zip-codes-by-Metro-area-12.2.2.7\">Function to plot zip codes by Metro area</a></span></li><li><span><a href=\"#Boxplot-by-city-in-a-metro-area\" data-toc-modified-id=\"Boxplot-by-city-in-a-metro-area-12.2.2.8\">Boxplot by city in a metro area</a></span></li><li><span><a href=\"#Boxplot-of-zip-codes-by-city-in-a-metro-area\" data-toc-modified-id=\"Boxplot-of-zip-codes-by-city-in-a-metro-area-12.2.2.9\">Boxplot of zip codes by city in a metro area</a></span></li><li><span><a href=\"#Violin-plots-over-time-(example)\" data-toc-modified-id=\"Violin-plots-over-time-(example)-12.2.2.10\">Violin plots over time (example)</a></span></li></ul></li><li><span><a href=\"#Plot-ACF-and-PACF-for-ts-dataframe\" data-toc-modified-id=\"Plot-ACF-and-PACF-for-ts-dataframe-12.2.3\">Plot ACF and PACF for ts dataframe</a></span></li><li><span><a href=\"#Plot-seasonal-decomposition-for-ts-dataframe\" data-toc-modified-id=\"Plot-seasonal-decomposition-for-ts-dataframe-12.2.4\">Plot seasonal decomposition for ts dataframe</a></span></li></ul></li><li><span><a href=\"#ARIMA-model-parameters-and-optimization\" data-toc-modified-id=\"ARIMA-model-parameters-and-optimization-12.3\">ARIMA model parameters and optimization</a></span><ul class=\"toc-item\"><li><span><a href=\"#Generate-list-of-(p,d,q)-and-(p,d,q,m)-values\" data-toc-modified-id=\"Generate-list-of-(p,d,q)-and-(p,d,q,m)-values-12.3.1\">Generate list of (p,d,q) and (p,d,q,m) values</a></span></li><li><span><a href=\"#Run-ARIMA-model-on-ts-dataframe-with-list-of-p,d,q-values\" data-toc-modified-id=\"Run-ARIMA-model-on-ts-dataframe-with-list-of-p,d,q-values-12.3.2\">Run ARIMA model on ts dataframe with list of p,d,q values</a></span></li><li><span><a href=\"#Generate-model-fit-summary\" data-toc-modified-id=\"Generate-model-fit-summary-12.3.3\">Generate model fit summary</a></span></li></ul></li><li><span><a href=\"#ARIMA-modeling-results:--predictions-and-visualization\" data-toc-modified-id=\"ARIMA-modeling-results:--predictions-and-visualization-12.4\">ARIMA modeling results:  predictions and visualization</a></span><ul class=\"toc-item\"><li><span><a href=\"#Produce-forecasts-from-ARIMA-model-fit\" data-toc-modified-id=\"Produce-forecasts-from-ARIMA-model-fit-12.4.1\">Produce forecasts from ARIMA model fit</a></span></li><li><span><a href=\"#Create-dataframe-to-hold-forecast-results\" data-toc-modified-id=\"Create-dataframe-to-hold-forecast-results-12.4.2\">Create dataframe to hold forecast results</a></span></li><li><span><a href=\"#Create-new-dataframe-concatenating-historic-values-and-forecast-results\" data-toc-modified-id=\"Create-new-dataframe-concatenating-historic-values-and-forecast-results-12.4.3\">Create new dataframe concatenating historic values and forecast results</a></span></li><li><span><a href=\"#Calculate-predicted,-lower-bound,-and-upper-bound-forecasted-prices\" data-toc-modified-id=\"Calculate-predicted,-lower-bound,-and-upper-bound-forecasted-prices-12.4.4\">Calculate predicted, lower bound, and upper bound forecasted prices</a></span></li><li><span><a href=\"#Plot-forecast-with-confidence-intervals\" data-toc-modified-id=\"Plot-forecast-with-confidence-intervals-12.4.5\">Plot forecast with confidence intervals</a></span></li><li><span><a href=\"#Print-summary-of-predicted,-worst-case,-and-best-case-scenarios\" data-toc-modified-id=\"Print-summary-of-predicted,-worst-case,-and-best-case-scenarios-12.4.6\">Print summary of predicted, worst-case, and best-case scenarios</a></span></li></ul></li></ul></li><li><span><a href=\"#SacMetro:-95619----FUNCTIONS-to-run\" data-toc-modified-id=\"SacMetro:-95619----FUNCTIONS-to-run-13\">SacMetro: 95619 -- FUNCTIONS to run</a></span><ul class=\"toc-item\"><li><span><a href=\"#Create-ts-dataframe-for-single-geographic-area\" data-toc-modified-id=\"Create-ts-dataframe-for-single-geographic-area-13.1\">Create ts dataframe for <em>single</em> geographic area</a></span></li><li><span><a href=\"#SacMetro:--95619-(Diamond-Springs)\" data-toc-modified-id=\"SacMetro:--95619-(Diamond-Springs)-13.2\">SacMetro:  95619 (Diamond Springs)</a></span><ul class=\"toc-item\"><li><span><a href=\"#Create-dataframe-containing-values-for-just-this-geographic-unit\" data-toc-modified-id=\"Create-dataframe-containing-values-for-just-this-geographic-unit-13.2.1\">Create dataframe containing values for just this geographic unit</a></span></li><li><span><a href=\"#Visualizations\" data-toc-modified-id=\"Visualizations-13.2.2\">Visualizations</a></span><ul class=\"toc-item\"><li><span><a href=\"#plot_ts:--Plot-zip-code(s)-of-interest-over-time,-with-market-highs-and-lows\" data-toc-modified-id=\"plot_ts:--Plot-zip-code(s)-of-interest-over-time,-with-market-highs-and-lows-13.2.2.1\">plot_ts:  Plot zip code(s) of interest over time, with market highs and lows</a></span></li><li><span><a href=\"#Boxplot-of-zip-code\" data-toc-modified-id=\"Boxplot-of-zip-code-13.2.2.2\">Boxplot of zip code</a></span></li></ul></li><li><span><a href=\"#Plot-ACF-and-PACF-for-ts-dataframe\" data-toc-modified-id=\"Plot-ACF-and-PACF-for-ts-dataframe-13.2.3\">Plot ACF and PACF for ts dataframe</a></span></li><li><span><a href=\"#Plot-seasonal-decomposition-for-ts-dataframe\" data-toc-modified-id=\"Plot-seasonal-decomposition-for-ts-dataframe-13.2.4\">Plot seasonal decomposition for ts dataframe</a></span></li></ul></li><li><span><a href=\"#ARIMA-model-parameters-and-optimization\" data-toc-modified-id=\"ARIMA-model-parameters-and-optimization-13.3\">ARIMA model parameters and optimization</a></span><ul class=\"toc-item\"><li><span><a href=\"#Generate-list-of-(p,d,q)-and-(p,d,q,m)-values\" data-toc-modified-id=\"Generate-list-of-(p,d,q)-and-(p,d,q,m)-values-13.3.1\">Generate list of (p,d,q) and (p,d,q,m) values</a></span></li><li><span><a href=\"#Run-ARIMA-model-on-ts-dataframe-with-list-of-p,d,q-values\" data-toc-modified-id=\"Run-ARIMA-model-on-ts-dataframe-with-list-of-p,d,q-values-13.3.2\">Run ARIMA model on ts dataframe with list of p,d,q values</a></span></li><li><span><a href=\"#Generate-model-fit-summary\" data-toc-modified-id=\"Generate-model-fit-summary-13.3.3\">Generate model fit summary</a></span></li></ul></li><li><span><a href=\"#ARIMA-modeling-results:--predictions-and-visualization\" data-toc-modified-id=\"ARIMA-modeling-results:--predictions-and-visualization-13.4\">ARIMA modeling results:  predictions and visualization</a></span><ul class=\"toc-item\"><li><span><a href=\"#Produce-forecasts-from-ARIMA-model-fit\" data-toc-modified-id=\"Produce-forecasts-from-ARIMA-model-fit-13.4.1\">Produce forecasts from ARIMA model fit</a></span></li><li><span><a href=\"#Create-dataframe-to-hold-forecast-results\" data-toc-modified-id=\"Create-dataframe-to-hold-forecast-results-13.4.2\">Create dataframe to hold forecast results</a></span></li><li><span><a href=\"#Create-new-dataframe-concatenating-historic-values-and-forecast-results\" data-toc-modified-id=\"Create-new-dataframe-concatenating-historic-values-and-forecast-results-13.4.3\">Create new dataframe concatenating historic values and forecast results</a></span></li><li><span><a href=\"#Calculate-predicted,-lower-bound,-and-upper-bound-forecasted-prices\" data-toc-modified-id=\"Calculate-predicted,-lower-bound,-and-upper-bound-forecasted-prices-13.4.4\">Calculate predicted, lower bound, and upper bound forecasted prices</a></span></li><li><span><a href=\"#Plot-forecast-with-confidence-intervals\" data-toc-modified-id=\"Plot-forecast-with-confidence-intervals-13.4.5\">Plot forecast with confidence intervals</a></span></li><li><span><a href=\"#Print-summary-of-predicted,-worst-case,-and-best-case-scenarios\" data-toc-modified-id=\"Print-summary-of-predicted,-worst-case,-and-best-case-scenarios-13.4.6\">Print summary of predicted, worst-case, and best-case scenarios</a></span></li></ul></li><li><span><a href=\"#Recommendation--Zip-code-95619:--potential-investment-candidate\" data-toc-modified-id=\"Recommendation--Zip-code-95619:--potential-investment-candidate-13.5\">Recommendation--Zip code 95619:  potential investment candidate</a></span></li></ul></li><li><span><a href=\"#SacMetro:-95864----FUNCTIONS-to-run\" data-toc-modified-id=\"SacMetro:-95864----FUNCTIONS-to-run-14\">SacMetro: 95864 -- FUNCTIONS to run</a></span><ul class=\"toc-item\"><li><span><a href=\"#Create-ts-dataframe-for-single-geographic-area\" data-toc-modified-id=\"Create-ts-dataframe-for-single-geographic-area-14.1\">Create ts dataframe for <em>single</em> geographic area</a></span></li><li><span><a href=\"#SacMetro:--95864-(Arden-Arcade)\" data-toc-modified-id=\"SacMetro:--95864-(Arden-Arcade)-14.2\">SacMetro:  95864 (Arden-Arcade)</a></span><ul class=\"toc-item\"><li><span><a href=\"#Create-dataframe-containing-values-for-just-this-geographic-unit\" data-toc-modified-id=\"Create-dataframe-containing-values-for-just-this-geographic-unit-14.2.1\">Create dataframe containing values for just this geographic unit</a></span></li><li><span><a href=\"#Visualizations\" data-toc-modified-id=\"Visualizations-14.2.2\">Visualizations</a></span><ul class=\"toc-item\"><li><span><a href=\"#plot_ts:--Plot-zip-code(s)-of-interest-over-time,-with-market-highs-and-lows\" data-toc-modified-id=\"plot_ts:--Plot-zip-code(s)-of-interest-over-time,-with-market-highs-and-lows-14.2.2.1\">plot_ts:  Plot zip code(s) of interest over time, with market highs and lows</a></span></li><li><span><a href=\"#Boxplot-of-zip-codes-by-city-in-a-metro-area\" data-toc-modified-id=\"Boxplot-of-zip-codes-by-city-in-a-metro-area-14.2.2.2\">Boxplot of zip codes by city in a metro area</a></span></li></ul></li><li><span><a href=\"#Plot-ACF-and-PACF-for-ts-dataframe\" data-toc-modified-id=\"Plot-ACF-and-PACF-for-ts-dataframe-14.2.3\">Plot ACF and PACF for ts dataframe</a></span></li><li><span><a href=\"#Plot-seasonal-decomposition-for-ts-dataframe\" data-toc-modified-id=\"Plot-seasonal-decomposition-for-ts-dataframe-14.2.4\">Plot seasonal decomposition for ts dataframe</a></span></li></ul></li><li><span><a href=\"#ARIMA-model-parameters-and-optimization\" data-toc-modified-id=\"ARIMA-model-parameters-and-optimization-14.3\">ARIMA model parameters and optimization</a></span><ul class=\"toc-item\"><li><span><a href=\"#Run-ARIMA-model-on-ts-dataframe-with-list-of-p,d,q-values\" data-toc-modified-id=\"Run-ARIMA-model-on-ts-dataframe-with-list-of-p,d,q-values-14.3.1\">Run ARIMA model on ts dataframe with list of p,d,q values</a></span></li><li><span><a href=\"#Generate-model-fit-summary\" data-toc-modified-id=\"Generate-model-fit-summary-14.3.2\">Generate model fit summary</a></span></li></ul></li><li><span><a href=\"#ARIMA-modeling-results:--predictions-and-visualization\" data-toc-modified-id=\"ARIMA-modeling-results:--predictions-and-visualization-14.4\">ARIMA modeling results:  predictions and visualization</a></span><ul class=\"toc-item\"><li><span><a href=\"#Produce-forecasts-from-ARIMA-model-fit\" data-toc-modified-id=\"Produce-forecasts-from-ARIMA-model-fit-14.4.1\">Produce forecasts from ARIMA model fit</a></span></li><li><span><a href=\"#Create-dataframe-to-hold-forecast-results\" data-toc-modified-id=\"Create-dataframe-to-hold-forecast-results-14.4.2\">Create dataframe to hold forecast results</a></span></li><li><span><a href=\"#Create-new-dataframe-concatenating-historic-values-and-forecast-results\" data-toc-modified-id=\"Create-new-dataframe-concatenating-historic-values-and-forecast-results-14.4.3\">Create new dataframe concatenating historic values and forecast results</a></span></li><li><span><a href=\"#Calculate-predicted,-lower-bound,-and-upper-bound-forecasted-prices\" data-toc-modified-id=\"Calculate-predicted,-lower-bound,-and-upper-bound-forecasted-prices-14.4.4\">Calculate predicted, lower bound, and upper bound forecasted prices</a></span></li><li><span><a href=\"#Plot-forecast-with-confidence-intervals\" data-toc-modified-id=\"Plot-forecast-with-confidence-intervals-14.4.5\">Plot forecast with confidence intervals</a></span></li><li><span><a href=\"#Print-summary-of-predicted,-worst-case,-and-best-case-scenarios\" data-toc-modified-id=\"Print-summary-of-predicted,-worst-case,-and-best-case-scenarios-14.4.6\">Print summary of predicted, worst-case, and best-case scenarios</a></span></li></ul></li><li><span><a href=\"#Recommendation-for-ZIP-code-95864:--Don't-invest\" data-toc-modified-id=\"Recommendation-for-ZIP-code-95864:--Don't-invest-14.5\">Recommendation for ZIP code 95864:  Don't invest</a></span></li></ul></li><li><span><a href=\"#SacMetro:--95831----FUNCTIONS-to-run-for-each-geographic-area\" data-toc-modified-id=\"SacMetro:--95831----FUNCTIONS-to-run-for-each-geographic-area-15\">SacMetro:  95831 -- FUNCTIONS to run for each geographic area</a></span><ul class=\"toc-item\"><li><span><a href=\"#Create-ts-dataframe-for-single-geographic-area\" data-toc-modified-id=\"Create-ts-dataframe-for-single-geographic-area-15.1\">Create ts dataframe for <em>single</em> geographic area</a></span></li><li><span><a href=\"#SacMetro:--95831-(Sacramento)\" data-toc-modified-id=\"SacMetro:--95831-(Sacramento)-15.2\">SacMetro:  95831 (Sacramento)</a></span><ul class=\"toc-item\"><li><span><a href=\"#Create-dataframe-containing-values-for-just-this-geographic-unit\" data-toc-modified-id=\"Create-dataframe-containing-values-for-just-this-geographic-unit-15.2.1\">Create dataframe containing values for just this geographic unit</a></span></li><li><span><a href=\"#Visualizations\" data-toc-modified-id=\"Visualizations-15.2.2\">Visualizations</a></span><ul class=\"toc-item\"><li><span><a href=\"#plot_ts:--Plot-zip-code(s)-of-interest-over-time,-with-market-highs-and-lows\" data-toc-modified-id=\"plot_ts:--Plot-zip-code(s)-of-interest-over-time,-with-market-highs-and-lows-15.2.2.1\">plot_ts:  Plot zip code(s) of interest over time, with market highs and lows</a></span></li><li><span><a href=\"#Boxplot-of-zip-code\" data-toc-modified-id=\"Boxplot-of-zip-code-15.2.2.2\">Boxplot of zip code</a></span></li></ul></li><li><span><a href=\"#Plot-ACF-and-PACF-for-ts-dataframe\" data-toc-modified-id=\"Plot-ACF-and-PACF-for-ts-dataframe-15.2.3\">Plot ACF and PACF for ts dataframe</a></span></li><li><span><a href=\"#Plot-seasonal-decomposition-for-ts-dataframe\" data-toc-modified-id=\"Plot-seasonal-decomposition-for-ts-dataframe-15.2.4\">Plot seasonal decomposition for ts dataframe</a></span></li></ul></li><li><span><a href=\"#ARIMA-model-parameters-and-optimization\" data-toc-modified-id=\"ARIMA-model-parameters-and-optimization-15.3\">ARIMA model parameters and optimization</a></span><ul class=\"toc-item\"><li><span><a href=\"#Generate-list-of-(p,d,q)-and-(p,d,q,m)-values\" data-toc-modified-id=\"Generate-list-of-(p,d,q)-and-(p,d,q,m)-values-15.3.1\">Generate list of (p,d,q) and (p,d,q,m) values</a></span></li><li><span><a href=\"#Run-ARIMA-model-on-ts-dataframe-with-list-of-p,d,q-values\" data-toc-modified-id=\"Run-ARIMA-model-on-ts-dataframe-with-list-of-p,d,q-values-15.3.2\">Run ARIMA model on ts dataframe with list of p,d,q values</a></span></li><li><span><a href=\"#Generate-model-fit-summary\" data-toc-modified-id=\"Generate-model-fit-summary-15.3.3\">Generate model fit summary</a></span></li></ul></li><li><span><a href=\"#ARIMA-modeling-results:--predictions-and-visualization\" data-toc-modified-id=\"ARIMA-modeling-results:--predictions-and-visualization-15.4\">ARIMA modeling results:  predictions and visualization</a></span><ul class=\"toc-item\"><li><span><a href=\"#Produce-forecasts-from-ARIMA-model-fit\" data-toc-modified-id=\"Produce-forecasts-from-ARIMA-model-fit-15.4.1\">Produce forecasts from ARIMA model fit</a></span></li><li><span><a href=\"#Create-dataframe-to-hold-forecast-results\" data-toc-modified-id=\"Create-dataframe-to-hold-forecast-results-15.4.2\">Create dataframe to hold forecast results</a></span></li><li><span><a href=\"#Create-new-dataframe-concatenating-historic-values-and-forecast-results\" data-toc-modified-id=\"Create-new-dataframe-concatenating-historic-values-and-forecast-results-15.4.3\">Create new dataframe concatenating historic values and forecast results</a></span></li><li><span><a href=\"#Calculate-predicted,-lower-bound,-and-upper-bound-forecasted-prices\" data-toc-modified-id=\"Calculate-predicted,-lower-bound,-and-upper-bound-forecasted-prices-15.4.4\">Calculate predicted, lower bound, and upper bound forecasted prices</a></span></li><li><span><a href=\"#Plot-forecast-with-confidence-intervals\" data-toc-modified-id=\"Plot-forecast-with-confidence-intervals-15.4.5\">Plot forecast with confidence intervals</a></span></li><li><span><a href=\"#Print-summary-of-predicted,-worst-case,-and-best-case-scenarios\" data-toc-modified-id=\"Print-summary-of-predicted,-worst-case,-and-best-case-scenarios-15.4.6\">Print summary of predicted, worst-case, and best-case scenarios</a></span></li><li><span><a href=\"#Zip-code-95831:--don't-invest;-lots-of-downside-risk\" data-toc-modified-id=\"Zip-code-95831:--don't-invest;-lots-of-downside-risk-15.4.7\">Zip code 95831:  don't invest; lots of downside risk</a></span></li></ul></li></ul></li><li><span><a href=\"#SacMetro:--96142----FUNCTIONS-to-run-for-each-geographic-area\" data-toc-modified-id=\"SacMetro:--96142----FUNCTIONS-to-run-for-each-geographic-area-16\">SacMetro:  96142 -- FUNCTIONS to run for each geographic area</a></span><ul class=\"toc-item\"><li><span><a href=\"#Create-ts-dataframe-for-single-geographic-area\" data-toc-modified-id=\"Create-ts-dataframe-for-single-geographic-area-16.1\">Create ts dataframe for <em>single</em> geographic area</a></span></li><li><span><a href=\"#SacMetro:--96142-(Tahoma)\" data-toc-modified-id=\"SacMetro:--96142-(Tahoma)-16.2\">SacMetro:  96142 (Tahoma)</a></span><ul class=\"toc-item\"><li><span><a href=\"#Create-dataframe-containing-values-for-just-this-geographic-unit\" data-toc-modified-id=\"Create-dataframe-containing-values-for-just-this-geographic-unit-16.2.1\">Create dataframe containing values for just this geographic unit</a></span></li><li><span><a href=\"#Visualizations\" data-toc-modified-id=\"Visualizations-16.2.2\">Visualizations</a></span><ul class=\"toc-item\"><li><span><a href=\"#plot_ts:--Plot-zip-code(s)-of-interest-over-time,-with-market-highs-and-lows\" data-toc-modified-id=\"plot_ts:--Plot-zip-code(s)-of-interest-over-time,-with-market-highs-and-lows-16.2.2.1\">plot_ts:  Plot zip code(s) of interest over time, with market highs and lows</a></span></li><li><span><a href=\"#Boxplot-of-zip-code\" data-toc-modified-id=\"Boxplot-of-zip-code-16.2.2.2\">Boxplot of zip code</a></span></li></ul></li><li><span><a href=\"#Plot-ACF-and-PACF-for-ts-dataframe\" data-toc-modified-id=\"Plot-ACF-and-PACF-for-ts-dataframe-16.2.3\">Plot ACF and PACF for ts dataframe</a></span></li><li><span><a href=\"#Plot-seasonal-decomposition-for-ts-dataframe\" data-toc-modified-id=\"Plot-seasonal-decomposition-for-ts-dataframe-16.2.4\">Plot seasonal decomposition for ts dataframe</a></span></li></ul></li><li><span><a href=\"#ARIMA-model-parameters-and-optimization\" data-toc-modified-id=\"ARIMA-model-parameters-and-optimization-16.3\">ARIMA model parameters and optimization</a></span><ul class=\"toc-item\"><li><span><a href=\"#Generate-list-of-(p,d,q)-and-(p,d,q,m)-values\" data-toc-modified-id=\"Generate-list-of-(p,d,q)-and-(p,d,q,m)-values-16.3.1\">Generate list of (p,d,q) and (p,d,q,m) values</a></span></li><li><span><a href=\"#Run-ARIMA-model-on-ts-dataframe-with-list-of-p,d,q-values\" data-toc-modified-id=\"Run-ARIMA-model-on-ts-dataframe-with-list-of-p,d,q-values-16.3.2\">Run ARIMA model on ts dataframe with list of p,d,q values</a></span></li><li><span><a href=\"#Generate-model-fit-summary\" data-toc-modified-id=\"Generate-model-fit-summary-16.3.3\">Generate model fit summary</a></span></li></ul></li><li><span><a href=\"#ARIMA-modeling-results:--predictions-and-visualization\" data-toc-modified-id=\"ARIMA-modeling-results:--predictions-and-visualization-16.4\">ARIMA modeling results:  predictions and visualization</a></span><ul class=\"toc-item\"><li><span><a href=\"#Produce-forecasts-from-ARIMA-model-fit\" data-toc-modified-id=\"Produce-forecasts-from-ARIMA-model-fit-16.4.1\">Produce forecasts from ARIMA model fit</a></span></li><li><span><a href=\"#Create-dataframe-to-hold-forecast-results\" data-toc-modified-id=\"Create-dataframe-to-hold-forecast-results-16.4.2\">Create dataframe to hold forecast results</a></span></li><li><span><a href=\"#Create-new-dataframe-concatenating-historic-values-and-forecast-results\" data-toc-modified-id=\"Create-new-dataframe-concatenating-historic-values-and-forecast-results-16.4.3\">Create new dataframe concatenating historic values and forecast results</a></span></li><li><span><a href=\"#Calculate-predicted,-lower-bound,-and-upper-bound-forecasted-prices\" data-toc-modified-id=\"Calculate-predicted,-lower-bound,-and-upper-bound-forecasted-prices-16.4.4\">Calculate predicted, lower bound, and upper bound forecasted prices</a></span></li><li><span><a href=\"#Plot-forecast-with-confidence-intervals\" data-toc-modified-id=\"Plot-forecast-with-confidence-intervals-16.4.5\">Plot forecast with confidence intervals</a></span></li><li><span><a href=\"#Print-summary-of-predicted,-worst-case,-and-best-case-scenarios\" data-toc-modified-id=\"Print-summary-of-predicted,-worst-case,-and-best-case-scenarios-16.4.6\">Print summary of predicted, worst-case, and best-case scenarios</a></span></li><li><span><a href=\"#Zip-code-96142:--Potentially-solid-gains,-with-possibly-large-upside-or-downside\" data-toc-modified-id=\"Zip-code-96142:--Potentially-solid-gains,-with-possibly-large-upside-or-downside-16.4.7\">Zip code 96142:  Potentially solid gains, with possibly large upside or downside</a></span></li></ul></li></ul></li><li><span><a href=\"#SacMetro:--95811----FUNCTIONS-to-run\" data-toc-modified-id=\"SacMetro:--95811----FUNCTIONS-to-run-17\">SacMetro:  95811 -- FUNCTIONS to run</a></span><ul class=\"toc-item\"><li><span><a href=\"#Create-ts-dataframe-for-single-geographic-area\" data-toc-modified-id=\"Create-ts-dataframe-for-single-geographic-area-17.1\">Create ts dataframe for <em>single</em> geographic area</a></span></li><li><span><a href=\"#SacMetro:--95811-(Sacramento)\" data-toc-modified-id=\"SacMetro:--95811-(Sacramento)-17.2\">SacMetro:  95811 (Sacramento)</a></span><ul class=\"toc-item\"><li><span><a href=\"#Create-dataframe-containing-values-for-just-this-geographic-unit\" data-toc-modified-id=\"Create-dataframe-containing-values-for-just-this-geographic-unit-17.2.1\">Create dataframe containing values for just this geographic unit</a></span></li><li><span><a href=\"#Visualizations\" data-toc-modified-id=\"Visualizations-17.2.2\">Visualizations</a></span><ul class=\"toc-item\"><li><span><a href=\"#plot_ts:--Plot-zip-code(s)-of-interest-over-time,-with-market-highs-and-lows\" data-toc-modified-id=\"plot_ts:--Plot-zip-code(s)-of-interest-over-time,-with-market-highs-and-lows-17.2.2.1\">plot_ts:  Plot zip code(s) of interest over time, with market highs and lows</a></span></li><li><span><a href=\"#Boxplot-of-zip-code\" data-toc-modified-id=\"Boxplot-of-zip-code-17.2.2.2\">Boxplot of zip code</a></span></li></ul></li><li><span><a href=\"#Plot-ACF-and-PACF-for-ts-dataframe\" data-toc-modified-id=\"Plot-ACF-and-PACF-for-ts-dataframe-17.2.3\">Plot ACF and PACF for ts dataframe</a></span></li><li><span><a href=\"#Plot-seasonal-decomposition-for-ts-dataframe\" data-toc-modified-id=\"Plot-seasonal-decomposition-for-ts-dataframe-17.2.4\">Plot seasonal decomposition for ts dataframe</a></span></li></ul></li><li><span><a href=\"#ARIMA-model-parameters-and-optimization\" data-toc-modified-id=\"ARIMA-model-parameters-and-optimization-17.3\">ARIMA model parameters and optimization</a></span><ul class=\"toc-item\"><li><span><a href=\"#Generate-list-of-(p,d,q)-and-(p,d,q,m)-values\" data-toc-modified-id=\"Generate-list-of-(p,d,q)-and-(p,d,q,m)-values-17.3.1\">Generate list of (p,d,q) and (p,d,q,m) values</a></span></li><li><span><a href=\"#Run-ARIMA-model-on-ts-dataframe-with-list-of-p,d,q-values\" data-toc-modified-id=\"Run-ARIMA-model-on-ts-dataframe-with-list-of-p,d,q-values-17.3.2\">Run ARIMA model on ts dataframe with list of p,d,q values</a></span></li><li><span><a href=\"#Generate-model-fit-summary\" data-toc-modified-id=\"Generate-model-fit-summary-17.3.3\">Generate model fit summary</a></span></li></ul></li><li><span><a href=\"#ARIMA-modeling-results:--predictions-and-visualization\" data-toc-modified-id=\"ARIMA-modeling-results:--predictions-and-visualization-17.4\">ARIMA modeling results:  predictions and visualization</a></span><ul class=\"toc-item\"><li><span><a href=\"#Produce-forecasts-from-ARIMA-model-fit\" data-toc-modified-id=\"Produce-forecasts-from-ARIMA-model-fit-17.4.1\">Produce forecasts from ARIMA model fit</a></span></li><li><span><a href=\"#Create-dataframe-to-hold-forecast-results\" data-toc-modified-id=\"Create-dataframe-to-hold-forecast-results-17.4.2\">Create dataframe to hold forecast results</a></span></li><li><span><a href=\"#Create-new-dataframe-concatenating-historic-values-and-forecast-results\" data-toc-modified-id=\"Create-new-dataframe-concatenating-historic-values-and-forecast-results-17.4.3\">Create new dataframe concatenating historic values and forecast results</a></span></li><li><span><a href=\"#Calculate-predicted,-lower-bound,-and-upper-bound-forecasted-prices\" data-toc-modified-id=\"Calculate-predicted,-lower-bound,-and-upper-bound-forecasted-prices-17.4.4\">Calculate predicted, lower bound, and upper bound forecasted prices</a></span></li><li><span><a href=\"#Plot-forecast-with-confidence-intervals\" data-toc-modified-id=\"Plot-forecast-with-confidence-intervals-17.4.5\">Plot forecast with confidence intervals</a></span></li><li><span><a href=\"#Print-summary-of-predicted,-worst-case,-and-best-case-scenarios\" data-toc-modified-id=\"Print-summary-of-predicted,-worst-case,-and-best-case-scenarios-17.4.6\">Print summary of predicted, worst-case, and best-case scenarios</a></span></li><li><span><a href=\"#Zip-code-95811:--Don't-invest--mediocre-predicted-returns-with-significant-potential-downside-(but-also-significant-potential-upside)\" data-toc-modified-id=\"Zip-code-95811:--Don't-invest--mediocre-predicted-returns-with-significant-potential-downside-(but-also-significant-potential-upside)-17.4.7\">Zip code 95811:  Don't invest--mediocre predicted returns with significant potential downside (but also significant potential upside)</a></span></li></ul></li></ul></li><li><span><a href=\"#SacMetro:--95818----FUNCTIONS-to-run\" data-toc-modified-id=\"SacMetro:--95818----FUNCTIONS-to-run-18\">SacMetro:  95818 -- FUNCTIONS to run</a></span><ul class=\"toc-item\"><li><span><a href=\"#Create-ts-dataframe-for-single-geographic-area\" data-toc-modified-id=\"Create-ts-dataframe-for-single-geographic-area-18.1\">Create ts dataframe for <em>single</em> geographic area</a></span></li><li><span><a href=\"#SacMetro:--95818-(Sacramento)\" data-toc-modified-id=\"SacMetro:--95818-(Sacramento)-18.2\">SacMetro:  95818 (Sacramento)</a></span><ul class=\"toc-item\"><li><span><a href=\"#Create-dataframe-containing-values-for-just-this-geographic-unit\" data-toc-modified-id=\"Create-dataframe-containing-values-for-just-this-geographic-unit-18.2.1\">Create dataframe containing values for just this geographic unit</a></span></li><li><span><a href=\"#Visualizations\" data-toc-modified-id=\"Visualizations-18.2.2\">Visualizations</a></span><ul class=\"toc-item\"><li><span><a href=\"#plot_ts:--Plot-zip-code(s)-of-interest-over-time,-with-market-highs-and-lows\" data-toc-modified-id=\"plot_ts:--Plot-zip-code(s)-of-interest-over-time,-with-market-highs-and-lows-18.2.2.1\">plot_ts:  Plot zip code(s) of interest over time, with market highs and lows</a></span></li><li><span><a href=\"#Boxplot-of-zip-code\" data-toc-modified-id=\"Boxplot-of-zip-code-18.2.2.2\">Boxplot of zip code</a></span></li></ul></li><li><span><a href=\"#Plot-ACF-and-PACF-for-ts-dataframe\" data-toc-modified-id=\"Plot-ACF-and-PACF-for-ts-dataframe-18.2.3\">Plot ACF and PACF for ts dataframe</a></span></li><li><span><a href=\"#Plot-seasonal-decomposition-for-ts-dataframe\" data-toc-modified-id=\"Plot-seasonal-decomposition-for-ts-dataframe-18.2.4\">Plot seasonal decomposition for ts dataframe</a></span></li></ul></li><li><span><a href=\"#ARIMA-model-parameters-and-optimization\" data-toc-modified-id=\"ARIMA-model-parameters-and-optimization-18.3\">ARIMA model parameters and optimization</a></span><ul class=\"toc-item\"><li><span><a href=\"#Generate-list-of-(p,d,q)-and-(p,d,q,m)-values\" data-toc-modified-id=\"Generate-list-of-(p,d,q)-and-(p,d,q,m)-values-18.3.1\">Generate list of (p,d,q) and (p,d,q,m) values</a></span></li><li><span><a href=\"#Run-ARIMA-model-on-ts-dataframe-with-list-of-p,d,q-values\" data-toc-modified-id=\"Run-ARIMA-model-on-ts-dataframe-with-list-of-p,d,q-values-18.3.2\">Run ARIMA model on ts dataframe with list of p,d,q values</a></span></li><li><span><a href=\"#Generate-model-fit-summary\" data-toc-modified-id=\"Generate-model-fit-summary-18.3.3\">Generate model fit summary</a></span></li></ul></li><li><span><a href=\"#ARIMA-modeling-results:--predictions-and-visualization\" data-toc-modified-id=\"ARIMA-modeling-results:--predictions-and-visualization-18.4\">ARIMA modeling results:  predictions and visualization</a></span><ul class=\"toc-item\"><li><span><a href=\"#Produce-forecasts-from-ARIMA-model-fit\" data-toc-modified-id=\"Produce-forecasts-from-ARIMA-model-fit-18.4.1\">Produce forecasts from ARIMA model fit</a></span></li><li><span><a href=\"#Create-dataframe-to-hold-forecast-results\" data-toc-modified-id=\"Create-dataframe-to-hold-forecast-results-18.4.2\">Create dataframe to hold forecast results</a></span></li><li><span><a href=\"#Create-new-dataframe-concatenating-historic-values-and-forecast-results\" data-toc-modified-id=\"Create-new-dataframe-concatenating-historic-values-and-forecast-results-18.4.3\">Create new dataframe concatenating historic values and forecast results</a></span></li><li><span><a href=\"#Calculate-predicted,-lower-bound,-and-upper-bound-forecasted-prices\" data-toc-modified-id=\"Calculate-predicted,-lower-bound,-and-upper-bound-forecasted-prices-18.4.4\">Calculate predicted, lower bound, and upper bound forecasted prices</a></span></li><li><span><a href=\"#Plot-forecast-with-confidence-intervals\" data-toc-modified-id=\"Plot-forecast-with-confidence-intervals-18.4.5\">Plot forecast with confidence intervals</a></span></li><li><span><a href=\"#Print-summary-of-predicted,-worst-case,-and-best-case-scenarios\" data-toc-modified-id=\"Print-summary-of-predicted,-worst-case,-and-best-case-scenarios-18.4.6\">Print summary of predicted, worst-case, and best-case scenarios</a></span></li></ul></li><li><span><a href=\"#Zip-code-95818:--Do-not-invest--negative-predicted-return\" data-toc-modified-id=\"Zip-code-95818:--Do-not-invest--negative-predicted-return-18.5\">Zip code 95818:  Do not invest--negative predicted return</a></span></li></ul></li><li><span><a href=\"#SacMetro:--95630----FUNCTIONS-to-run\" data-toc-modified-id=\"SacMetro:--95630----FUNCTIONS-to-run-19\">SacMetro:  95630 -- FUNCTIONS to run</a></span><ul class=\"toc-item\"><li><span><a href=\"#Create-ts-dataframe-for-single-geographic-area\" data-toc-modified-id=\"Create-ts-dataframe-for-single-geographic-area-19.1\">Create ts dataframe for <em>single</em> geographic area</a></span></li><li><span><a href=\"#SacMetro:--95630-(Folsom)\" data-toc-modified-id=\"SacMetro:--95630-(Folsom)-19.2\">SacMetro:  95630 (Folsom)</a></span><ul class=\"toc-item\"><li><span><a href=\"#Create-dataframe-containing-values-for-just-this-geographic-unit\" data-toc-modified-id=\"Create-dataframe-containing-values-for-just-this-geographic-unit-19.2.1\">Create dataframe containing values for just this geographic unit</a></span></li><li><span><a href=\"#Visualizations\" data-toc-modified-id=\"Visualizations-19.2.2\">Visualizations</a></span><ul class=\"toc-item\"><li><span><a href=\"#plot_ts:--Plot-zip-code(s)-of-interest-over-time,-with-market-highs-and-lows\" data-toc-modified-id=\"plot_ts:--Plot-zip-code(s)-of-interest-over-time,-with-market-highs-and-lows-19.2.2.1\">plot_ts:  Plot zip code(s) of interest over time, with market highs and lows</a></span></li><li><span><a href=\"#Boxplot-of-zip-code\" data-toc-modified-id=\"Boxplot-of-zip-code-19.2.2.2\">Boxplot of zip code</a></span></li></ul></li><li><span><a href=\"#Plot-ACF-and-PACF-for-ts-dataframe\" data-toc-modified-id=\"Plot-ACF-and-PACF-for-ts-dataframe-19.2.3\">Plot ACF and PACF for ts dataframe</a></span></li><li><span><a href=\"#Plot-seasonal-decomposition-for-ts-dataframe\" data-toc-modified-id=\"Plot-seasonal-decomposition-for-ts-dataframe-19.2.4\">Plot seasonal decomposition for ts dataframe</a></span></li></ul></li><li><span><a href=\"#ARIMA-model-parameters-and-optimization\" data-toc-modified-id=\"ARIMA-model-parameters-and-optimization-19.3\">ARIMA model parameters and optimization</a></span><ul class=\"toc-item\"><li><span><a href=\"#Generate-list-of-(p,d,q)-and-(p,d,q,m)-values\" data-toc-modified-id=\"Generate-list-of-(p,d,q)-and-(p,d,q,m)-values-19.3.1\">Generate list of (p,d,q) and (p,d,q,m) values</a></span></li><li><span><a href=\"#Run-ARIMA-model-on-ts-dataframe-with-list-of-p,d,q-values\" data-toc-modified-id=\"Run-ARIMA-model-on-ts-dataframe-with-list-of-p,d,q-values-19.3.2\">Run ARIMA model on ts dataframe with list of p,d,q values</a></span></li><li><span><a href=\"#Generate-model-fit-summary\" data-toc-modified-id=\"Generate-model-fit-summary-19.3.3\">Generate model fit summary</a></span></li></ul></li><li><span><a href=\"#ARIMA-modeling-results:--predictions-and-visualization\" data-toc-modified-id=\"ARIMA-modeling-results:--predictions-and-visualization-19.4\">ARIMA modeling results:  predictions and visualization</a></span><ul class=\"toc-item\"><li><span><a href=\"#Produce-forecasts-from-ARIMA-model-fit\" data-toc-modified-id=\"Produce-forecasts-from-ARIMA-model-fit-19.4.1\">Produce forecasts from ARIMA model fit</a></span></li><li><span><a href=\"#Create-dataframe-to-hold-forecast-results\" data-toc-modified-id=\"Create-dataframe-to-hold-forecast-results-19.4.2\">Create dataframe to hold forecast results</a></span></li><li><span><a href=\"#Create-new-dataframe-concatenating-historic-values-and-forecast-results\" data-toc-modified-id=\"Create-new-dataframe-concatenating-historic-values-and-forecast-results-19.4.3\">Create new dataframe concatenating historic values and forecast results</a></span></li><li><span><a href=\"#Calculate-predicted,-lower-bound,-and-upper-bound-forecasted-prices\" data-toc-modified-id=\"Calculate-predicted,-lower-bound,-and-upper-bound-forecasted-prices-19.4.4\">Calculate predicted, lower bound, and upper bound forecasted prices</a></span></li><li><span><a href=\"#Plot-forecast-with-confidence-intervals\" data-toc-modified-id=\"Plot-forecast-with-confidence-intervals-19.4.5\">Plot forecast with confidence intervals</a></span></li><li><span><a href=\"#Print-summary-of-predicted,-worst-case,-and-best-case-scenarios\" data-toc-modified-id=\"Print-summary-of-predicted,-worst-case,-and-best-case-scenarios-19.4.6\">Print summary of predicted, worst-case, and best-case scenarios</a></span></li></ul></li><li><span><a href=\"#Zip-code-95630:--Mediocre-earning-potential,-significant-downside-risk-(but-equally-possible-upside-risk)\" data-toc-modified-id=\"Zip-code-95630:--Mediocre-earning-potential,-significant-downside-risk-(but-equally-possible-upside-risk)-19.5\">Zip code 95630:  Mediocre earning potential, significant downside risk (but equally possible upside risk)</a></span></li></ul></li><li><span><a href=\"#SacMetro:--96140----FUNCTIONS-to-run\" data-toc-modified-id=\"SacMetro:--96140----FUNCTIONS-to-run-20\">SacMetro:  96140 -- FUNCTIONS to run</a></span><ul class=\"toc-item\"><li><span><a href=\"#Create-ts-dataframe-for-single-geographic-area\" data-toc-modified-id=\"Create-ts-dataframe-for-single-geographic-area-20.1\">Create ts dataframe for <em>single</em> geographic area</a></span></li><li><span><a href=\"#SacMetro:--96140-(Carnelian-Bay)\" data-toc-modified-id=\"SacMetro:--96140-(Carnelian-Bay)-20.2\">SacMetro:  96140 (Carnelian Bay)</a></span><ul class=\"toc-item\"><li><span><a href=\"#Create-dataframe-containing-values-for-just-this-geographic-unit\" data-toc-modified-id=\"Create-dataframe-containing-values-for-just-this-geographic-unit-20.2.1\">Create dataframe containing values for just this geographic unit</a></span></li><li><span><a href=\"#Visualizations\" data-toc-modified-id=\"Visualizations-20.2.2\">Visualizations</a></span><ul class=\"toc-item\"><li><span><a href=\"#plot_ts:--Plot-zip-code(s)-of-interest-over-time,-with-market-highs-and-lows\" data-toc-modified-id=\"plot_ts:--Plot-zip-code(s)-of-interest-over-time,-with-market-highs-and-lows-20.2.2.1\">plot_ts:  Plot zip code(s) of interest over time, with market highs and lows</a></span></li><li><span><a href=\"#Boxplot-of-zip-code\" data-toc-modified-id=\"Boxplot-of-zip-code-20.2.2.2\">Boxplot of zip code</a></span></li></ul></li><li><span><a href=\"#Plot-ACF-and-PACF-for-ts-dataframe\" data-toc-modified-id=\"Plot-ACF-and-PACF-for-ts-dataframe-20.2.3\">Plot ACF and PACF for ts dataframe</a></span></li><li><span><a href=\"#Plot-seasonal-decomposition-for-ts-dataframe\" data-toc-modified-id=\"Plot-seasonal-decomposition-for-ts-dataframe-20.2.4\">Plot seasonal decomposition for ts dataframe</a></span></li></ul></li><li><span><a href=\"#ARIMA-model-parameters-and-optimization\" data-toc-modified-id=\"ARIMA-model-parameters-and-optimization-20.3\">ARIMA model parameters and optimization</a></span><ul class=\"toc-item\"><li><span><a href=\"#Generate-list-of-(p,d,q)-and-(p,d,q,m)-values\" data-toc-modified-id=\"Generate-list-of-(p,d,q)-and-(p,d,q,m)-values-20.3.1\">Generate list of (p,d,q) and (p,d,q,m) values</a></span></li><li><span><a href=\"#Run-ARIMA-model-on-ts-dataframe-with-list-of-p,d,q-values\" data-toc-modified-id=\"Run-ARIMA-model-on-ts-dataframe-with-list-of-p,d,q-values-20.3.2\">Run ARIMA model on ts dataframe with list of p,d,q values</a></span></li><li><span><a href=\"#Generate-model-fit-summary\" data-toc-modified-id=\"Generate-model-fit-summary-20.3.3\">Generate model fit summary</a></span></li></ul></li><li><span><a href=\"#ARIMA-modeling-results:--predictions-and-visualization\" data-toc-modified-id=\"ARIMA-modeling-results:--predictions-and-visualization-20.4\">ARIMA modeling results:  predictions and visualization</a></span><ul class=\"toc-item\"><li><span><a href=\"#Produce-forecasts-from-ARIMA-model-fit\" data-toc-modified-id=\"Produce-forecasts-from-ARIMA-model-fit-20.4.1\">Produce forecasts from ARIMA model fit</a></span></li><li><span><a href=\"#Create-dataframe-to-hold-forecast-results\" data-toc-modified-id=\"Create-dataframe-to-hold-forecast-results-20.4.2\">Create dataframe to hold forecast results</a></span></li><li><span><a href=\"#Create-new-dataframe-concatenating-historic-values-and-forecast-results\" data-toc-modified-id=\"Create-new-dataframe-concatenating-historic-values-and-forecast-results-20.4.3\">Create new dataframe concatenating historic values and forecast results</a></span></li><li><span><a href=\"#Calculate-predicted,-lower-bound,-and-upper-bound-forecasted-prices\" data-toc-modified-id=\"Calculate-predicted,-lower-bound,-and-upper-bound-forecasted-prices-20.4.4\">Calculate predicted, lower bound, and upper bound forecasted prices</a></span></li><li><span><a href=\"#Plot-forecast-with-confidence-intervals\" data-toc-modified-id=\"Plot-forecast-with-confidence-intervals-20.4.5\">Plot forecast with confidence intervals</a></span></li><li><span><a href=\"#Print-summary-of-predicted,-worst-case,-and-best-case-scenarios\" data-toc-modified-id=\"Print-summary-of-predicted,-worst-case,-and-best-case-scenarios-20.4.6\">Print summary of predicted, worst-case, and best-case scenarios</a></span></li></ul></li><li><span><a href=\"#Zip-code-96140\" data-toc-modified-id=\"Zip-code-96140-20.5\">Zip code 96140</a></span></li></ul></li><li><span><a href=\"#SacMetro:--95672----FUNCTIONS-to-run\" data-toc-modified-id=\"SacMetro:--95672----FUNCTIONS-to-run-21\">SacMetro:  95672 -- FUNCTIONS to run</a></span><ul class=\"toc-item\"><li><span><a href=\"#Create-ts-dataframe-for-single-geographic-area\" data-toc-modified-id=\"Create-ts-dataframe-for-single-geographic-area-21.1\">Create ts dataframe for <em>single</em> geographic area</a></span></li><li><span><a href=\"#SacMetro:--95672-(Rescue)\" data-toc-modified-id=\"SacMetro:--95672-(Rescue)-21.2\">SacMetro:  95672 (Rescue)</a></span><ul class=\"toc-item\"><li><span><a href=\"#Create-dataframe-containing-values-for-just-this-geographic-unit\" data-toc-modified-id=\"Create-dataframe-containing-values-for-just-this-geographic-unit-21.2.1\">Create dataframe containing values for just this geographic unit</a></span></li><li><span><a href=\"#Visualizations\" data-toc-modified-id=\"Visualizations-21.2.2\">Visualizations</a></span><ul class=\"toc-item\"><li><span><a href=\"#plot_ts:--Plot-zip-code(s)-of-interest-over-time,-with-market-highs-and-lows\" data-toc-modified-id=\"plot_ts:--Plot-zip-code(s)-of-interest-over-time,-with-market-highs-and-lows-21.2.2.1\">plot_ts:  Plot zip code(s) of interest over time, with market highs and lows</a></span></li><li><span><a href=\"#Boxplot-of-zip-code\" data-toc-modified-id=\"Boxplot-of-zip-code-21.2.2.2\">Boxplot of zip code</a></span></li></ul></li><li><span><a href=\"#Plot-ACF-and-PACF-for-ts-dataframe\" data-toc-modified-id=\"Plot-ACF-and-PACF-for-ts-dataframe-21.2.3\">Plot ACF and PACF for ts dataframe</a></span></li><li><span><a href=\"#Plot-seasonal-decomposition-for-ts-dataframe\" data-toc-modified-id=\"Plot-seasonal-decomposition-for-ts-dataframe-21.2.4\">Plot seasonal decomposition for ts dataframe</a></span></li></ul></li><li><span><a href=\"#ARIMA-model-parameters-and-optimization\" data-toc-modified-id=\"ARIMA-model-parameters-and-optimization-21.3\">ARIMA model parameters and optimization</a></span><ul class=\"toc-item\"><li><span><a href=\"#Generate-list-of-(p,d,q)-and-(p,d,q,m)-values\" data-toc-modified-id=\"Generate-list-of-(p,d,q)-and-(p,d,q,m)-values-21.3.1\">Generate list of (p,d,q) and (p,d,q,m) values</a></span></li><li><span><a href=\"#Run-ARIMA-model-on-ts-dataframe-with-list-of-p,d,q-values\" data-toc-modified-id=\"Run-ARIMA-model-on-ts-dataframe-with-list-of-p,d,q-values-21.3.2\">Run ARIMA model on ts dataframe with list of p,d,q values</a></span></li><li><span><a href=\"#Generate-model-fit-summary\" data-toc-modified-id=\"Generate-model-fit-summary-21.3.3\">Generate model fit summary</a></span></li></ul></li><li><span><a href=\"#ARIMA-modeling-results:--predictions-and-visualization\" data-toc-modified-id=\"ARIMA-modeling-results:--predictions-and-visualization-21.4\">ARIMA modeling results:  predictions and visualization</a></span><ul class=\"toc-item\"><li><span><a href=\"#Produce-forecasts-from-ARIMA-model-fit\" data-toc-modified-id=\"Produce-forecasts-from-ARIMA-model-fit-21.4.1\">Produce forecasts from ARIMA model fit</a></span></li><li><span><a href=\"#Create-dataframe-to-hold-forecast-results\" data-toc-modified-id=\"Create-dataframe-to-hold-forecast-results-21.4.2\">Create dataframe to hold forecast results</a></span></li><li><span><a href=\"#Create-new-dataframe-concatenating-historic-values-and-forecast-results\" data-toc-modified-id=\"Create-new-dataframe-concatenating-historic-values-and-forecast-results-21.4.3\">Create new dataframe concatenating historic values and forecast results</a></span></li><li><span><a href=\"#Calculate-predicted,-lower-bound,-and-upper-bound-forecasted-prices\" data-toc-modified-id=\"Calculate-predicted,-lower-bound,-and-upper-bound-forecasted-prices-21.4.4\">Calculate predicted, lower bound, and upper bound forecasted prices</a></span></li><li><span><a href=\"#Plot-forecast-with-confidence-intervals\" data-toc-modified-id=\"Plot-forecast-with-confidence-intervals-21.4.5\">Plot forecast with confidence intervals</a></span></li><li><span><a href=\"#Print-summary-of-predicted,-worst-case,-and-best-case-scenarios\" data-toc-modified-id=\"Print-summary-of-predicted,-worst-case,-and-best-case-scenarios-21.4.6\">Print summary of predicted, worst-case, and best-case scenarios</a></span></li></ul></li><li><span><a href=\"#Zip-code-95672\" data-toc-modified-id=\"Zip-code-95672-21.5\">Zip code 95672</a></span></li></ul></li><li><span><a href=\"#SacMetro:--95636----FUNCTIONS-to-run\" data-toc-modified-id=\"SacMetro:--95636----FUNCTIONS-to-run-22\">SacMetro:  95636 -- FUNCTIONS to run</a></span><ul class=\"toc-item\"><li><span><a href=\"#Create-ts-dataframe-for-single-geographic-area\" data-toc-modified-id=\"Create-ts-dataframe-for-single-geographic-area-22.1\">Create ts dataframe for <em>single</em> geographic area</a></span></li><li><span><a href=\"#SacMetro:--95636-(Somerset)\" data-toc-modified-id=\"SacMetro:--95636-(Somerset)-22.2\">SacMetro:  95636 (Somerset)</a></span><ul class=\"toc-item\"><li><span><a href=\"#Create-dataframe-containing-values-for-just-this-geographic-unit\" data-toc-modified-id=\"Create-dataframe-containing-values-for-just-this-geographic-unit-22.2.1\">Create dataframe containing values for just this geographic unit</a></span></li><li><span><a href=\"#Visualizations\" data-toc-modified-id=\"Visualizations-22.2.2\">Visualizations</a></span><ul class=\"toc-item\"><li><span><a href=\"#plot_ts:--Plot-zip-code(s)-of-interest-over-time,-with-market-highs-and-lows\" data-toc-modified-id=\"plot_ts:--Plot-zip-code(s)-of-interest-over-time,-with-market-highs-and-lows-22.2.2.1\">plot_ts:  Plot zip code(s) of interest over time, with market highs and lows</a></span></li><li><span><a href=\"#Boxplot-of-zip-code\" data-toc-modified-id=\"Boxplot-of-zip-code-22.2.2.2\">Boxplot of zip code</a></span></li></ul></li><li><span><a href=\"#Plot-ACF-and-PACF-for-ts-dataframe\" data-toc-modified-id=\"Plot-ACF-and-PACF-for-ts-dataframe-22.2.3\">Plot ACF and PACF for ts dataframe</a></span></li><li><span><a href=\"#Plot-seasonal-decomposition-for-ts-dataframe\" data-toc-modified-id=\"Plot-seasonal-decomposition-for-ts-dataframe-22.2.4\">Plot seasonal decomposition for ts dataframe</a></span></li></ul></li><li><span><a href=\"#ARIMA-model-parameters-and-optimization\" data-toc-modified-id=\"ARIMA-model-parameters-and-optimization-22.3\">ARIMA model parameters and optimization</a></span><ul class=\"toc-item\"><li><span><a href=\"#Generate-list-of-(p,d,q)-and-(p,d,q,m)-values\" data-toc-modified-id=\"Generate-list-of-(p,d,q)-and-(p,d,q,m)-values-22.3.1\">Generate list of (p,d,q) and (p,d,q,m) values</a></span></li><li><span><a href=\"#Run-ARIMA-model-on-ts-dataframe-with-list-of-p,d,q-values\" data-toc-modified-id=\"Run-ARIMA-model-on-ts-dataframe-with-list-of-p,d,q-values-22.3.2\">Run ARIMA model on ts dataframe with list of p,d,q values</a></span></li><li><span><a href=\"#Generate-model-fit-summary\" data-toc-modified-id=\"Generate-model-fit-summary-22.3.3\">Generate model fit summary</a></span></li></ul></li><li><span><a href=\"#ARIMA-modeling-results:--predictions-and-visualization\" data-toc-modified-id=\"ARIMA-modeling-results:--predictions-and-visualization-22.4\">ARIMA modeling results:  predictions and visualization</a></span><ul class=\"toc-item\"><li><span><a href=\"#Produce-forecasts-from-ARIMA-model-fit\" data-toc-modified-id=\"Produce-forecasts-from-ARIMA-model-fit-22.4.1\">Produce forecasts from ARIMA model fit</a></span></li><li><span><a href=\"#Create-dataframe-to-hold-forecast-results\" data-toc-modified-id=\"Create-dataframe-to-hold-forecast-results-22.4.2\">Create dataframe to hold forecast results</a></span></li><li><span><a href=\"#Create-new-dataframe-concatenating-historic-values-and-forecast-results\" data-toc-modified-id=\"Create-new-dataframe-concatenating-historic-values-and-forecast-results-22.4.3\">Create new dataframe concatenating historic values and forecast results</a></span></li><li><span><a href=\"#Calculate-predicted,-lower-bound,-and-upper-bound-forecasted-prices\" data-toc-modified-id=\"Calculate-predicted,-lower-bound,-and-upper-bound-forecasted-prices-22.4.4\">Calculate predicted, lower bound, and upper bound forecasted prices</a></span></li><li><span><a href=\"#Plot-forecast-with-confidence-intervals\" data-toc-modified-id=\"Plot-forecast-with-confidence-intervals-22.4.5\">Plot forecast with confidence intervals</a></span></li><li><span><a href=\"#Print-summary-of-predicted,-worst-case,-and-best-case-scenarios\" data-toc-modified-id=\"Print-summary-of-predicted,-worst-case,-and-best-case-scenarios-22.4.6\">Print summary of predicted, worst-case, and best-case scenarios</a></span></li></ul></li><li><span><a href=\"#Zip-code-95636:--Good-return-predicted,-very-large-potential-upside,-large-potential-downside\" data-toc-modified-id=\"Zip-code-95636:--Good-return-predicted,-very-large-potential-upside,-large-potential-downside-22.5\">Zip code 95636:  Good return predicted, very large potential upside, large potential downside</a></span></li></ul></li><li><span><a href=\"#Ancillary-Functions\" data-toc-modified-id=\"Ancillary-Functions-23\">Ancillary Functions</a></span></li></ul></div>"
   ]
  },
  {
   "cell_type": "markdown",
   "metadata": {},
   "source": [
    "# Mod 4 Project - Starter Notebook\n",
    "\n",
    "This notebook has been provided to you so that you can make use of the following starter code to help with the trickier parts of preprocessing the Zillow dataset. \n",
    "\n",
    "The notebook contains a rough outline the general order you'll likely want to take in this project. You'll notice that most of the areas are left blank. This is so that it's more obvious exactly when you should make use of the starter code provided for preprocessing. \n",
    "\n",
    "**_NOTE:_** The number of empty cells are not meant to infer how much or how little code should be involved in any given step--we've just provided a few for your convenience. Add, delete, and change things around in this notebook as needed!\n",
    "\n",
    "# Some Notes Before Starting\n",
    "\n",
    "This project will be one of the more challenging projects you complete in this program. This is because working with Time Series data is a bit different than working with regular datasets. In order to make this a bit less frustrating and help you understand what you need to do (and when you need to do it), we'll quickly review the dataset formats that you'll encounter in this project. \n",
    "\n",
    "## Wide Format vs Long Format\n",
    "\n",
    "If you take a look at the format of the data in `zillow_data.csv`, you'll notice that the actual Time Series values are stored as separate columns. Here's a sample: \n",
    "\n",
    "<img src='~/../images/df_head.png'>\n",
    "\n",
    "You'll notice that the first seven columns look like any other dataset you're used to working with. However, column 8 refers to the median housing sales values for April 1996, column 9 for May 1996, and so on. This This is called **_Wide Format_**, and it makes the dataframe intuitive and easy to read. However, there are problems with this format when it comes to actually learning from the data, because the data only makes sense if you know the name of the column that the data can be found it. Since column names are metadata, our algorithms will miss out on what dates each value is for. This means that before we pass this data to our ARIMA model, we'll need to reshape our dataset to **_Long Format_**. Reshaped into long format, the dataframe above would now look like:\n",
    "\n",
    "<img src='~/../images/melted1.png'>\n",
    "\n",
    "There are now many more rows in this dataset--one for each unique time and zipcode combination in the data! Once our dataset is in this format, we'll be able to train an ARIMA model on it. The method used to convert from Wide to Long is `pd.melt()`, and it is common to refer to our dataset as 'melted' after the transition to denote that it is in long format. \n",
    "\n",
    "# Helper Functions Provided\n",
    "\n",
    "Melting a dataset can be tricky if you've never done it before, so you'll see that we have provided a sample function, `melt_data()`, to help you with this step below. Also provided is:\n",
    "\n",
    "* `get_datetimes()`, a function to deal with converting the column values for datetimes as a pandas series of datetime objects\n",
    "* Some good parameters for matplotlib to help make your visualizations more readable. \n",
    "\n",
    "Good luck!\n"
   ]
  },
  {
   "cell_type": "markdown",
   "metadata": {},
   "source": [
    "# Step 1: Load the Data/Filtering for Chosen Zipcodes"
   ]
  },
  {
   "cell_type": "code",
   "execution_count": 1,
   "metadata": {
    "scrolled": true
   },
   "outputs": [],
   "source": [
    "# !pip install -U Helper_functions"
   ]
  },
  {
   "cell_type": "code",
   "execution_count": 2,
   "metadata": {},
   "outputs": [],
   "source": [
    "from Helper_functions import *\n",
    "import Helper_functions as hf"
   ]
  },
  {
   "cell_type": "code",
   "execution_count": 3,
   "metadata": {},
   "outputs": [],
   "source": [
    "import numpy as np\n",
    "import pandas as pd\n",
    "import matplotlib \n",
    "import matplotlib.pyplot as plt\n",
    "import matplotlib as mpl\n",
    "%matplotlib inline\n",
    "import seaborn as sn"
   ]
  },
  {
   "cell_type": "code",
   "execution_count": 4,
   "metadata": {},
   "outputs": [],
   "source": [
    "pd.set_option(\"display.max_rows\", 1000)"
   ]
  },
  {
   "cell_type": "code",
   "execution_count": 5,
   "metadata": {},
   "outputs": [
    {
     "data": {
      "text/plain": [
       "1000"
      ]
     },
     "execution_count": 5,
     "metadata": {},
     "output_type": "execute_result"
    }
   ],
   "source": [
    "pd.get_option(\"display.max_rows\")"
   ]
  },
  {
   "cell_type": "code",
   "execution_count": 6,
   "metadata": {},
   "outputs": [],
   "source": [
    "df = pd.read_csv('zillow_data.csv')"
   ]
  },
  {
   "cell_type": "code",
   "execution_count": 7,
   "metadata": {
    "scrolled": false
   },
   "outputs": [
    {
     "data": {
      "text/html": [
       "<div>\n",
       "<style scoped>\n",
       "    .dataframe tbody tr th:only-of-type {\n",
       "        vertical-align: middle;\n",
       "    }\n",
       "\n",
       "    .dataframe tbody tr th {\n",
       "        vertical-align: top;\n",
       "    }\n",
       "\n",
       "    .dataframe thead th {\n",
       "        text-align: right;\n",
       "    }\n",
       "</style>\n",
       "<table border=\"1\" class=\"dataframe\">\n",
       "  <thead>\n",
       "    <tr style=\"text-align: right;\">\n",
       "      <th></th>\n",
       "      <th>RegionID</th>\n",
       "      <th>RegionName</th>\n",
       "      <th>City</th>\n",
       "      <th>State</th>\n",
       "      <th>Metro</th>\n",
       "      <th>CountyName</th>\n",
       "      <th>SizeRank</th>\n",
       "      <th>1996-04</th>\n",
       "      <th>1996-05</th>\n",
       "      <th>1996-06</th>\n",
       "      <th>...</th>\n",
       "      <th>2017-07</th>\n",
       "      <th>2017-08</th>\n",
       "      <th>2017-09</th>\n",
       "      <th>2017-10</th>\n",
       "      <th>2017-11</th>\n",
       "      <th>2017-12</th>\n",
       "      <th>2018-01</th>\n",
       "      <th>2018-02</th>\n",
       "      <th>2018-03</th>\n",
       "      <th>2018-04</th>\n",
       "    </tr>\n",
       "  </thead>\n",
       "  <tbody>\n",
       "    <tr>\n",
       "      <td>0</td>\n",
       "      <td>84654</td>\n",
       "      <td>60657</td>\n",
       "      <td>Chicago</td>\n",
       "      <td>IL</td>\n",
       "      <td>Chicago</td>\n",
       "      <td>Cook</td>\n",
       "      <td>1</td>\n",
       "      <td>334200.0</td>\n",
       "      <td>335400.0</td>\n",
       "      <td>336500.0</td>\n",
       "      <td>...</td>\n",
       "      <td>1005500</td>\n",
       "      <td>1007500</td>\n",
       "      <td>1007800</td>\n",
       "      <td>1009600</td>\n",
       "      <td>1013300</td>\n",
       "      <td>1018700</td>\n",
       "      <td>1024400</td>\n",
       "      <td>1030700</td>\n",
       "      <td>1033800</td>\n",
       "      <td>1030600</td>\n",
       "    </tr>\n",
       "    <tr>\n",
       "      <td>1</td>\n",
       "      <td>90668</td>\n",
       "      <td>75070</td>\n",
       "      <td>McKinney</td>\n",
       "      <td>TX</td>\n",
       "      <td>Dallas-Fort Worth</td>\n",
       "      <td>Collin</td>\n",
       "      <td>2</td>\n",
       "      <td>235700.0</td>\n",
       "      <td>236900.0</td>\n",
       "      <td>236700.0</td>\n",
       "      <td>...</td>\n",
       "      <td>308000</td>\n",
       "      <td>310000</td>\n",
       "      <td>312500</td>\n",
       "      <td>314100</td>\n",
       "      <td>315000</td>\n",
       "      <td>316600</td>\n",
       "      <td>318100</td>\n",
       "      <td>319600</td>\n",
       "      <td>321100</td>\n",
       "      <td>321800</td>\n",
       "    </tr>\n",
       "    <tr>\n",
       "      <td>2</td>\n",
       "      <td>91982</td>\n",
       "      <td>77494</td>\n",
       "      <td>Katy</td>\n",
       "      <td>TX</td>\n",
       "      <td>Houston</td>\n",
       "      <td>Harris</td>\n",
       "      <td>3</td>\n",
       "      <td>210400.0</td>\n",
       "      <td>212200.0</td>\n",
       "      <td>212200.0</td>\n",
       "      <td>...</td>\n",
       "      <td>321000</td>\n",
       "      <td>320600</td>\n",
       "      <td>320200</td>\n",
       "      <td>320400</td>\n",
       "      <td>320800</td>\n",
       "      <td>321200</td>\n",
       "      <td>321200</td>\n",
       "      <td>323000</td>\n",
       "      <td>326900</td>\n",
       "      <td>329900</td>\n",
       "    </tr>\n",
       "    <tr>\n",
       "      <td>3</td>\n",
       "      <td>84616</td>\n",
       "      <td>60614</td>\n",
       "      <td>Chicago</td>\n",
       "      <td>IL</td>\n",
       "      <td>Chicago</td>\n",
       "      <td>Cook</td>\n",
       "      <td>4</td>\n",
       "      <td>498100.0</td>\n",
       "      <td>500900.0</td>\n",
       "      <td>503100.0</td>\n",
       "      <td>...</td>\n",
       "      <td>1289800</td>\n",
       "      <td>1287700</td>\n",
       "      <td>1287400</td>\n",
       "      <td>1291500</td>\n",
       "      <td>1296600</td>\n",
       "      <td>1299000</td>\n",
       "      <td>1302700</td>\n",
       "      <td>1306400</td>\n",
       "      <td>1308500</td>\n",
       "      <td>1307000</td>\n",
       "    </tr>\n",
       "    <tr>\n",
       "      <td>4</td>\n",
       "      <td>93144</td>\n",
       "      <td>79936</td>\n",
       "      <td>El Paso</td>\n",
       "      <td>TX</td>\n",
       "      <td>El Paso</td>\n",
       "      <td>El Paso</td>\n",
       "      <td>5</td>\n",
       "      <td>77300.0</td>\n",
       "      <td>77300.0</td>\n",
       "      <td>77300.0</td>\n",
       "      <td>...</td>\n",
       "      <td>119100</td>\n",
       "      <td>119400</td>\n",
       "      <td>120000</td>\n",
       "      <td>120300</td>\n",
       "      <td>120300</td>\n",
       "      <td>120300</td>\n",
       "      <td>120300</td>\n",
       "      <td>120500</td>\n",
       "      <td>121000</td>\n",
       "      <td>121500</td>\n",
       "    </tr>\n",
       "  </tbody>\n",
       "</table>\n",
       "<p>5 rows × 272 columns</p>\n",
       "</div>"
      ],
      "text/plain": [
       "   RegionID  RegionName      City State              Metro CountyName  \\\n",
       "0     84654       60657   Chicago    IL            Chicago       Cook   \n",
       "1     90668       75070  McKinney    TX  Dallas-Fort Worth     Collin   \n",
       "2     91982       77494      Katy    TX            Houston     Harris   \n",
       "3     84616       60614   Chicago    IL            Chicago       Cook   \n",
       "4     93144       79936   El Paso    TX            El Paso    El Paso   \n",
       "\n",
       "   SizeRank   1996-04   1996-05   1996-06  ...  2017-07  2017-08  2017-09  \\\n",
       "0         1  334200.0  335400.0  336500.0  ...  1005500  1007500  1007800   \n",
       "1         2  235700.0  236900.0  236700.0  ...   308000   310000   312500   \n",
       "2         3  210400.0  212200.0  212200.0  ...   321000   320600   320200   \n",
       "3         4  498100.0  500900.0  503100.0  ...  1289800  1287700  1287400   \n",
       "4         5   77300.0   77300.0   77300.0  ...   119100   119400   120000   \n",
       "\n",
       "   2017-10  2017-11  2017-12  2018-01  2018-02  2018-03  2018-04  \n",
       "0  1009600  1013300  1018700  1024400  1030700  1033800  1030600  \n",
       "1   314100   315000   316600   318100   319600   321100   321800  \n",
       "2   320400   320800   321200   321200   323000   326900   329900  \n",
       "3  1291500  1296600  1299000  1302700  1306400  1308500  1307000  \n",
       "4   120300   120300   120300   120300   120500   121000   121500  \n",
       "\n",
       "[5 rows x 272 columns]"
      ]
     },
     "execution_count": 7,
     "metadata": {},
     "output_type": "execute_result"
    }
   ],
   "source": [
    "df.head()"
   ]
  },
  {
   "cell_type": "code",
   "execution_count": 8,
   "metadata": {},
   "outputs": [
    {
     "data": {
      "text/html": [
       "<div>\n",
       "<style scoped>\n",
       "    .dataframe tbody tr th:only-of-type {\n",
       "        vertical-align: middle;\n",
       "    }\n",
       "\n",
       "    .dataframe tbody tr th {\n",
       "        vertical-align: top;\n",
       "    }\n",
       "\n",
       "    .dataframe thead th {\n",
       "        text-align: right;\n",
       "    }\n",
       "</style>\n",
       "<table border=\"1\" class=\"dataframe\">\n",
       "  <thead>\n",
       "    <tr style=\"text-align: right;\">\n",
       "      <th></th>\n",
       "      <th>RegionID</th>\n",
       "      <th>RegionName</th>\n",
       "      <th>City</th>\n",
       "      <th>State</th>\n",
       "      <th>Metro</th>\n",
       "      <th>CountyName</th>\n",
       "      <th>SizeRank</th>\n",
       "      <th>1996-04</th>\n",
       "      <th>1996-05</th>\n",
       "      <th>1996-06</th>\n",
       "      <th>...</th>\n",
       "      <th>2017-07</th>\n",
       "      <th>2017-08</th>\n",
       "      <th>2017-09</th>\n",
       "      <th>2017-10</th>\n",
       "      <th>2017-11</th>\n",
       "      <th>2017-12</th>\n",
       "      <th>2018-01</th>\n",
       "      <th>2018-02</th>\n",
       "      <th>2018-03</th>\n",
       "      <th>2018-04</th>\n",
       "    </tr>\n",
       "  </thead>\n",
       "  <tbody>\n",
       "    <tr>\n",
       "      <td>954</td>\n",
       "      <td>98312</td>\n",
       "      <td>95616</td>\n",
       "      <td>Davis</td>\n",
       "      <td>CA</td>\n",
       "      <td>Sacramento</td>\n",
       "      <td>Yolo</td>\n",
       "      <td>955</td>\n",
       "      <td>202500.0</td>\n",
       "      <td>202500.0</td>\n",
       "      <td>202500.0</td>\n",
       "      <td>...</td>\n",
       "      <td>683600</td>\n",
       "      <td>682800</td>\n",
       "      <td>679400</td>\n",
       "      <td>674400</td>\n",
       "      <td>677200</td>\n",
       "      <td>687700</td>\n",
       "      <td>696700</td>\n",
       "      <td>697500</td>\n",
       "      <td>695000</td>\n",
       "      <td>692300</td>\n",
       "    </tr>\n",
       "  </tbody>\n",
       "</table>\n",
       "<p>1 rows × 272 columns</p>\n",
       "</div>"
      ],
      "text/plain": [
       "     RegionID  RegionName   City State       Metro CountyName  SizeRank  \\\n",
       "954     98312       95616  Davis    CA  Sacramento       Yolo       955   \n",
       "\n",
       "      1996-04   1996-05   1996-06  ...  2017-07  2017-08  2017-09  2017-10  \\\n",
       "954  202500.0  202500.0  202500.0  ...   683600   682800   679400   674400   \n",
       "\n",
       "     2017-11  2017-12  2018-01  2018-02  2018-03  2018-04  \n",
       "954   677200   687700   696700   697500   695000   692300  \n",
       "\n",
       "[1 rows x 272 columns]"
      ]
     },
     "execution_count": 8,
     "metadata": {},
     "output_type": "execute_result"
    }
   ],
   "source": [
    "df.loc[df.RegionName == 95616]     # also acceptable:  df.loc[df['RegionName'] == 95616]\n"
   ]
  },
  {
   "cell_type": "markdown",
   "metadata": {},
   "source": [
    "# Step 2: Data Preprocessing"
   ]
  },
  {
   "cell_type": "markdown",
   "metadata": {},
   "source": [
    "## Convert time data type to datetime format"
   ]
  },
  {
   "cell_type": "code",
   "execution_count": 9,
   "metadata": {},
   "outputs": [],
   "source": [
    "def get_datetimes(df):\n",
    "    return pd.to_datetime(df.columns.values[7:], format='%Y-%m', errors = 'raise')"
   ]
  },
  {
   "cell_type": "code",
   "execution_count": 10,
   "metadata": {
    "scrolled": true
   },
   "outputs": [
    {
     "data": {
      "text/plain": [
       "DatetimeIndex(['1996-04-01', '1996-05-01', '1996-06-01', '1996-07-01',\n",
       "               '1996-08-01', '1996-09-01', '1996-10-01', '1996-11-01',\n",
       "               '1996-12-01', '1997-01-01',\n",
       "               ...\n",
       "               '2017-07-01', '2017-08-01', '2017-09-01', '2017-10-01',\n",
       "               '2017-11-01', '2017-12-01', '2018-01-01', '2018-02-01',\n",
       "               '2018-03-01', '2018-04-01'],\n",
       "              dtype='datetime64[ns]', length=265, freq=None)"
      ]
     },
     "execution_count": 10,
     "metadata": {},
     "output_type": "execute_result"
    }
   ],
   "source": [
    "get_datetimes(df)"
   ]
  },
  {
   "cell_type": "markdown",
   "metadata": {},
   "source": [
    "## Fix problem with ZIP codes beginning with '0'\n",
    "\n",
    "I have surmised that RegionName is the ZIP code for each entry.  RegionName values with only 4 digits represent ZIP codes that actually begin with '0'.  So that I can work with ZIP codes in the data set, I will need to add that zero onto every 4-digit RegionName value.  Once that's completed, I'll rename this column \"ZipCode\".  "
   ]
  },
  {
   "cell_type": "code",
   "execution_count": 11,
   "metadata": {},
   "outputs": [
    {
     "data": {
      "text/html": [
       "<div>\n",
       "<style scoped>\n",
       "    .dataframe tbody tr th:only-of-type {\n",
       "        vertical-align: middle;\n",
       "    }\n",
       "\n",
       "    .dataframe tbody tr th {\n",
       "        vertical-align: top;\n",
       "    }\n",
       "\n",
       "    .dataframe thead th {\n",
       "        text-align: right;\n",
       "    }\n",
       "</style>\n",
       "<table border=\"1\" class=\"dataframe\">\n",
       "  <thead>\n",
       "    <tr style=\"text-align: right;\">\n",
       "      <th></th>\n",
       "      <th>RegionID</th>\n",
       "      <th>RegionName</th>\n",
       "      <th>City</th>\n",
       "      <th>State</th>\n",
       "      <th>Metro</th>\n",
       "      <th>CountyName</th>\n",
       "      <th>SizeRank</th>\n",
       "      <th>1996-04</th>\n",
       "      <th>1996-05</th>\n",
       "      <th>1996-06</th>\n",
       "      <th>...</th>\n",
       "      <th>2017-07</th>\n",
       "      <th>2017-08</th>\n",
       "      <th>2017-09</th>\n",
       "      <th>2017-10</th>\n",
       "      <th>2017-11</th>\n",
       "      <th>2017-12</th>\n",
       "      <th>2018-01</th>\n",
       "      <th>2018-02</th>\n",
       "      <th>2018-03</th>\n",
       "      <th>2018-04</th>\n",
       "    </tr>\n",
       "  </thead>\n",
       "  <tbody>\n",
       "    <tr>\n",
       "      <td>0</td>\n",
       "      <td>84654</td>\n",
       "      <td>60657</td>\n",
       "      <td>Chicago</td>\n",
       "      <td>IL</td>\n",
       "      <td>Chicago</td>\n",
       "      <td>Cook</td>\n",
       "      <td>1</td>\n",
       "      <td>334200.0</td>\n",
       "      <td>335400.0</td>\n",
       "      <td>336500.0</td>\n",
       "      <td>...</td>\n",
       "      <td>1005500</td>\n",
       "      <td>1007500</td>\n",
       "      <td>1007800</td>\n",
       "      <td>1009600</td>\n",
       "      <td>1013300</td>\n",
       "      <td>1018700</td>\n",
       "      <td>1024400</td>\n",
       "      <td>1030700</td>\n",
       "      <td>1033800</td>\n",
       "      <td>1030600</td>\n",
       "    </tr>\n",
       "    <tr>\n",
       "      <td>1</td>\n",
       "      <td>90668</td>\n",
       "      <td>75070</td>\n",
       "      <td>McKinney</td>\n",
       "      <td>TX</td>\n",
       "      <td>Dallas-Fort Worth</td>\n",
       "      <td>Collin</td>\n",
       "      <td>2</td>\n",
       "      <td>235700.0</td>\n",
       "      <td>236900.0</td>\n",
       "      <td>236700.0</td>\n",
       "      <td>...</td>\n",
       "      <td>308000</td>\n",
       "      <td>310000</td>\n",
       "      <td>312500</td>\n",
       "      <td>314100</td>\n",
       "      <td>315000</td>\n",
       "      <td>316600</td>\n",
       "      <td>318100</td>\n",
       "      <td>319600</td>\n",
       "      <td>321100</td>\n",
       "      <td>321800</td>\n",
       "    </tr>\n",
       "    <tr>\n",
       "      <td>2</td>\n",
       "      <td>91982</td>\n",
       "      <td>77494</td>\n",
       "      <td>Katy</td>\n",
       "      <td>TX</td>\n",
       "      <td>Houston</td>\n",
       "      <td>Harris</td>\n",
       "      <td>3</td>\n",
       "      <td>210400.0</td>\n",
       "      <td>212200.0</td>\n",
       "      <td>212200.0</td>\n",
       "      <td>...</td>\n",
       "      <td>321000</td>\n",
       "      <td>320600</td>\n",
       "      <td>320200</td>\n",
       "      <td>320400</td>\n",
       "      <td>320800</td>\n",
       "      <td>321200</td>\n",
       "      <td>321200</td>\n",
       "      <td>323000</td>\n",
       "      <td>326900</td>\n",
       "      <td>329900</td>\n",
       "    </tr>\n",
       "    <tr>\n",
       "      <td>3</td>\n",
       "      <td>84616</td>\n",
       "      <td>60614</td>\n",
       "      <td>Chicago</td>\n",
       "      <td>IL</td>\n",
       "      <td>Chicago</td>\n",
       "      <td>Cook</td>\n",
       "      <td>4</td>\n",
       "      <td>498100.0</td>\n",
       "      <td>500900.0</td>\n",
       "      <td>503100.0</td>\n",
       "      <td>...</td>\n",
       "      <td>1289800</td>\n",
       "      <td>1287700</td>\n",
       "      <td>1287400</td>\n",
       "      <td>1291500</td>\n",
       "      <td>1296600</td>\n",
       "      <td>1299000</td>\n",
       "      <td>1302700</td>\n",
       "      <td>1306400</td>\n",
       "      <td>1308500</td>\n",
       "      <td>1307000</td>\n",
       "    </tr>\n",
       "    <tr>\n",
       "      <td>4</td>\n",
       "      <td>93144</td>\n",
       "      <td>79936</td>\n",
       "      <td>El Paso</td>\n",
       "      <td>TX</td>\n",
       "      <td>El Paso</td>\n",
       "      <td>El Paso</td>\n",
       "      <td>5</td>\n",
       "      <td>77300.0</td>\n",
       "      <td>77300.0</td>\n",
       "      <td>77300.0</td>\n",
       "      <td>...</td>\n",
       "      <td>119100</td>\n",
       "      <td>119400</td>\n",
       "      <td>120000</td>\n",
       "      <td>120300</td>\n",
       "      <td>120300</td>\n",
       "      <td>120300</td>\n",
       "      <td>120300</td>\n",
       "      <td>120500</td>\n",
       "      <td>121000</td>\n",
       "      <td>121500</td>\n",
       "    </tr>\n",
       "    <tr>\n",
       "      <td>5</td>\n",
       "      <td>91733</td>\n",
       "      <td>77084</td>\n",
       "      <td>Houston</td>\n",
       "      <td>TX</td>\n",
       "      <td>Houston</td>\n",
       "      <td>Harris</td>\n",
       "      <td>6</td>\n",
       "      <td>95000.0</td>\n",
       "      <td>95200.0</td>\n",
       "      <td>95400.0</td>\n",
       "      <td>...</td>\n",
       "      <td>157900</td>\n",
       "      <td>158700</td>\n",
       "      <td>160200</td>\n",
       "      <td>161900</td>\n",
       "      <td>162800</td>\n",
       "      <td>162800</td>\n",
       "      <td>162800</td>\n",
       "      <td>162900</td>\n",
       "      <td>163500</td>\n",
       "      <td>164300</td>\n",
       "    </tr>\n",
       "    <tr>\n",
       "      <td>6</td>\n",
       "      <td>61807</td>\n",
       "      <td>10467</td>\n",
       "      <td>New York</td>\n",
       "      <td>NY</td>\n",
       "      <td>New York</td>\n",
       "      <td>Bronx</td>\n",
       "      <td>7</td>\n",
       "      <td>152900.0</td>\n",
       "      <td>152700.0</td>\n",
       "      <td>152600.0</td>\n",
       "      <td>...</td>\n",
       "      <td>394400</td>\n",
       "      <td>400000</td>\n",
       "      <td>407300</td>\n",
       "      <td>411600</td>\n",
       "      <td>413200</td>\n",
       "      <td>414300</td>\n",
       "      <td>413900</td>\n",
       "      <td>411400</td>\n",
       "      <td>413200</td>\n",
       "      <td>417900</td>\n",
       "    </tr>\n",
       "  </tbody>\n",
       "</table>\n",
       "<p>7 rows × 272 columns</p>\n",
       "</div>"
      ],
      "text/plain": [
       "   RegionID  RegionName      City State              Metro CountyName  \\\n",
       "0     84654       60657   Chicago    IL            Chicago       Cook   \n",
       "1     90668       75070  McKinney    TX  Dallas-Fort Worth     Collin   \n",
       "2     91982       77494      Katy    TX            Houston     Harris   \n",
       "3     84616       60614   Chicago    IL            Chicago       Cook   \n",
       "4     93144       79936   El Paso    TX            El Paso    El Paso   \n",
       "5     91733       77084   Houston    TX            Houston     Harris   \n",
       "6     61807       10467  New York    NY           New York      Bronx   \n",
       "\n",
       "   SizeRank   1996-04   1996-05   1996-06  ...  2017-07  2017-08  2017-09  \\\n",
       "0         1  334200.0  335400.0  336500.0  ...  1005500  1007500  1007800   \n",
       "1         2  235700.0  236900.0  236700.0  ...   308000   310000   312500   \n",
       "2         3  210400.0  212200.0  212200.0  ...   321000   320600   320200   \n",
       "3         4  498100.0  500900.0  503100.0  ...  1289800  1287700  1287400   \n",
       "4         5   77300.0   77300.0   77300.0  ...   119100   119400   120000   \n",
       "5         6   95000.0   95200.0   95400.0  ...   157900   158700   160200   \n",
       "6         7  152900.0  152700.0  152600.0  ...   394400   400000   407300   \n",
       "\n",
       "   2017-10  2017-11  2017-12  2018-01  2018-02  2018-03  2018-04  \n",
       "0  1009600  1013300  1018700  1024400  1030700  1033800  1030600  \n",
       "1   314100   315000   316600   318100   319600   321100   321800  \n",
       "2   320400   320800   321200   321200   323000   326900   329900  \n",
       "3  1291500  1296600  1299000  1302700  1306400  1308500  1307000  \n",
       "4   120300   120300   120300   120300   120500   121000   121500  \n",
       "5   161900   162800   162800   162800   162900   163500   164300  \n",
       "6   411600   413200   414300   413900   411400   413200   417900  \n",
       "\n",
       "[7 rows x 272 columns]"
      ]
     },
     "execution_count": 11,
     "metadata": {},
     "output_type": "execute_result"
    }
   ],
   "source": [
    "df.head(7)"
   ]
  },
  {
   "cell_type": "code",
   "execution_count": 12,
   "metadata": {
    "scrolled": true
   },
   "outputs": [
    {
     "data": {
      "text/html": [
       "<div>\n",
       "<style scoped>\n",
       "    .dataframe tbody tr th:only-of-type {\n",
       "        vertical-align: middle;\n",
       "    }\n",
       "\n",
       "    .dataframe tbody tr th {\n",
       "        vertical-align: top;\n",
       "    }\n",
       "\n",
       "    .dataframe thead th {\n",
       "        text-align: right;\n",
       "    }\n",
       "</style>\n",
       "<table border=\"1\" class=\"dataframe\">\n",
       "  <thead>\n",
       "    <tr style=\"text-align: right;\">\n",
       "      <th></th>\n",
       "      <th>RegionID</th>\n",
       "      <th>RegionName</th>\n",
       "      <th>City</th>\n",
       "      <th>State</th>\n",
       "      <th>Metro</th>\n",
       "      <th>CountyName</th>\n",
       "      <th>SizeRank</th>\n",
       "      <th>1996-04</th>\n",
       "      <th>1996-05</th>\n",
       "      <th>1996-06</th>\n",
       "      <th>...</th>\n",
       "      <th>2017-07</th>\n",
       "      <th>2017-08</th>\n",
       "      <th>2017-09</th>\n",
       "      <th>2017-10</th>\n",
       "      <th>2017-11</th>\n",
       "      <th>2017-12</th>\n",
       "      <th>2018-01</th>\n",
       "      <th>2018-02</th>\n",
       "      <th>2018-03</th>\n",
       "      <th>2018-04</th>\n",
       "    </tr>\n",
       "  </thead>\n",
       "  <tbody>\n",
       "    <tr>\n",
       "      <td>5850</td>\n",
       "      <td>58196</td>\n",
       "      <td>1001</td>\n",
       "      <td>Agawam</td>\n",
       "      <td>MA</td>\n",
       "      <td>Springfield</td>\n",
       "      <td>Hampden</td>\n",
       "      <td>5851</td>\n",
       "      <td>113100.0</td>\n",
       "      <td>112800.0</td>\n",
       "      <td>112600.0</td>\n",
       "      <td>...</td>\n",
       "      <td>213900</td>\n",
       "      <td>215700</td>\n",
       "      <td>218200</td>\n",
       "      <td>220100</td>\n",
       "      <td>221100</td>\n",
       "      <td>221700</td>\n",
       "      <td>221700</td>\n",
       "      <td>221700</td>\n",
       "      <td>222700</td>\n",
       "      <td>223600</td>\n",
       "    </tr>\n",
       "    <tr>\n",
       "      <td>4199</td>\n",
       "      <td>58197</td>\n",
       "      <td>1002</td>\n",
       "      <td>Amherst</td>\n",
       "      <td>MA</td>\n",
       "      <td>Springfield</td>\n",
       "      <td>Hampshire</td>\n",
       "      <td>4200</td>\n",
       "      <td>161000.0</td>\n",
       "      <td>160100.0</td>\n",
       "      <td>159300.0</td>\n",
       "      <td>...</td>\n",
       "      <td>333700</td>\n",
       "      <td>334800</td>\n",
       "      <td>336700</td>\n",
       "      <td>338900</td>\n",
       "      <td>340400</td>\n",
       "      <td>342000</td>\n",
       "      <td>344500</td>\n",
       "      <td>347400</td>\n",
       "      <td>350600</td>\n",
       "      <td>353300</td>\n",
       "    </tr>\n",
       "    <tr>\n",
       "      <td>11213</td>\n",
       "      <td>58200</td>\n",
       "      <td>1005</td>\n",
       "      <td>Barre</td>\n",
       "      <td>MA</td>\n",
       "      <td>Worcester</td>\n",
       "      <td>Worcester</td>\n",
       "      <td>11214</td>\n",
       "      <td>103100.0</td>\n",
       "      <td>103400.0</td>\n",
       "      <td>103600.0</td>\n",
       "      <td>...</td>\n",
       "      <td>205600</td>\n",
       "      <td>206800</td>\n",
       "      <td>208800</td>\n",
       "      <td>210400</td>\n",
       "      <td>211300</td>\n",
       "      <td>213300</td>\n",
       "      <td>215600</td>\n",
       "      <td>217900</td>\n",
       "      <td>219500</td>\n",
       "      <td>220700</td>\n",
       "    </tr>\n",
       "    <tr>\n",
       "      <td>6850</td>\n",
       "      <td>58201</td>\n",
       "      <td>1007</td>\n",
       "      <td>Belchertown</td>\n",
       "      <td>MA</td>\n",
       "      <td>Springfield</td>\n",
       "      <td>Hampshire</td>\n",
       "      <td>6851</td>\n",
       "      <td>133400.0</td>\n",
       "      <td>132700.0</td>\n",
       "      <td>132000.0</td>\n",
       "      <td>...</td>\n",
       "      <td>266100</td>\n",
       "      <td>266300</td>\n",
       "      <td>267000</td>\n",
       "      <td>267500</td>\n",
       "      <td>268000</td>\n",
       "      <td>268100</td>\n",
       "      <td>268100</td>\n",
       "      <td>268800</td>\n",
       "      <td>270000</td>\n",
       "      <td>270600</td>\n",
       "    </tr>\n",
       "    <tr>\n",
       "      <td>14547</td>\n",
       "      <td>58202</td>\n",
       "      <td>1008</td>\n",
       "      <td>Blandford</td>\n",
       "      <td>MA</td>\n",
       "      <td>Springfield</td>\n",
       "      <td>Hampden</td>\n",
       "      <td>14548</td>\n",
       "      <td>117500.0</td>\n",
       "      <td>117300.0</td>\n",
       "      <td>117100.0</td>\n",
       "      <td>...</td>\n",
       "      <td>202400</td>\n",
       "      <td>202900</td>\n",
       "      <td>205900</td>\n",
       "      <td>208500</td>\n",
       "      <td>207500</td>\n",
       "      <td>205400</td>\n",
       "      <td>204500</td>\n",
       "      <td>206800</td>\n",
       "      <td>210900</td>\n",
       "      <td>214200</td>\n",
       "    </tr>\n",
       "    <tr>\n",
       "      <td>11702</td>\n",
       "      <td>58204</td>\n",
       "      <td>1010</td>\n",
       "      <td>Brimfield</td>\n",
       "      <td>MA</td>\n",
       "      <td>Springfield</td>\n",
       "      <td>Hampden</td>\n",
       "      <td>11703</td>\n",
       "      <td>115800.0</td>\n",
       "      <td>115700.0</td>\n",
       "      <td>115500.0</td>\n",
       "      <td>...</td>\n",
       "      <td>246400</td>\n",
       "      <td>247500</td>\n",
       "      <td>249100</td>\n",
       "      <td>248800</td>\n",
       "      <td>245400</td>\n",
       "      <td>243800</td>\n",
       "      <td>244600</td>\n",
       "      <td>246700</td>\n",
       "      <td>248800</td>\n",
       "      <td>250900</td>\n",
       "    </tr>\n",
       "    <tr>\n",
       "      <td>14475</td>\n",
       "      <td>58205</td>\n",
       "      <td>1011</td>\n",
       "      <td>Chester</td>\n",
       "      <td>MA</td>\n",
       "      <td>Springfield</td>\n",
       "      <td>Hampden</td>\n",
       "      <td>14476</td>\n",
       "      <td>87000.0</td>\n",
       "      <td>87000.0</td>\n",
       "      <td>87100.0</td>\n",
       "      <td>...</td>\n",
       "      <td>160200</td>\n",
       "      <td>156700</td>\n",
       "      <td>156600</td>\n",
       "      <td>157700</td>\n",
       "      <td>155400</td>\n",
       "      <td>151400</td>\n",
       "      <td>150100</td>\n",
       "      <td>150100</td>\n",
       "      <td>149500</td>\n",
       "      <td>149100</td>\n",
       "    </tr>\n",
       "  </tbody>\n",
       "</table>\n",
       "<p>7 rows × 272 columns</p>\n",
       "</div>"
      ],
      "text/plain": [
       "       RegionID  RegionName         City State        Metro CountyName  \\\n",
       "5850      58196        1001       Agawam    MA  Springfield    Hampden   \n",
       "4199      58197        1002      Amherst    MA  Springfield  Hampshire   \n",
       "11213     58200        1005        Barre    MA    Worcester  Worcester   \n",
       "6850      58201        1007  Belchertown    MA  Springfield  Hampshire   \n",
       "14547     58202        1008    Blandford    MA  Springfield    Hampden   \n",
       "11702     58204        1010    Brimfield    MA  Springfield    Hampden   \n",
       "14475     58205        1011      Chester    MA  Springfield    Hampden   \n",
       "\n",
       "       SizeRank   1996-04   1996-05   1996-06  ...  2017-07  2017-08  2017-09  \\\n",
       "5850       5851  113100.0  112800.0  112600.0  ...   213900   215700   218200   \n",
       "4199       4200  161000.0  160100.0  159300.0  ...   333700   334800   336700   \n",
       "11213     11214  103100.0  103400.0  103600.0  ...   205600   206800   208800   \n",
       "6850       6851  133400.0  132700.0  132000.0  ...   266100   266300   267000   \n",
       "14547     14548  117500.0  117300.0  117100.0  ...   202400   202900   205900   \n",
       "11702     11703  115800.0  115700.0  115500.0  ...   246400   247500   249100   \n",
       "14475     14476   87000.0   87000.0   87100.0  ...   160200   156700   156600   \n",
       "\n",
       "       2017-10  2017-11  2017-12  2018-01  2018-02  2018-03  2018-04  \n",
       "5850    220100   221100   221700   221700   221700   222700   223600  \n",
       "4199    338900   340400   342000   344500   347400   350600   353300  \n",
       "11213   210400   211300   213300   215600   217900   219500   220700  \n",
       "6850    267500   268000   268100   268100   268800   270000   270600  \n",
       "14547   208500   207500   205400   204500   206800   210900   214200  \n",
       "11702   248800   245400   243800   244600   246700   248800   250900  \n",
       "14475   157700   155400   151400   150100   150100   149500   149100  \n",
       "\n",
       "[7 rows x 272 columns]"
      ]
     },
     "execution_count": 12,
     "metadata": {},
     "output_type": "execute_result"
    }
   ],
   "source": [
    "# df.RegionName.sort_values().head(10)\n",
    "\n",
    "df.sort_values(by=\"RegionName\").head(7)"
   ]
  },
  {
   "cell_type": "code",
   "execution_count": 13,
   "metadata": {
    "scrolled": true
   },
   "outputs": [
    {
     "data": {
      "text/plain": [
       "dtype('O')"
      ]
     },
     "execution_count": 13,
     "metadata": {},
     "output_type": "execute_result"
    }
   ],
   "source": [
    "df['RegionName'] = df.RegionName.astype(str)\n",
    "df['RegionName'].dtype\n"
   ]
  },
  {
   "cell_type": "code",
   "execution_count": 14,
   "metadata": {},
   "outputs": [
    {
     "data": {
      "text/html": [
       "<div>\n",
       "<style scoped>\n",
       "    .dataframe tbody tr th:only-of-type {\n",
       "        vertical-align: middle;\n",
       "    }\n",
       "\n",
       "    .dataframe tbody tr th {\n",
       "        vertical-align: top;\n",
       "    }\n",
       "\n",
       "    .dataframe thead th {\n",
       "        text-align: right;\n",
       "    }\n",
       "</style>\n",
       "<table border=\"1\" class=\"dataframe\">\n",
       "  <thead>\n",
       "    <tr style=\"text-align: right;\">\n",
       "      <th></th>\n",
       "      <th>RegionID</th>\n",
       "      <th>Zip</th>\n",
       "      <th>City</th>\n",
       "      <th>State</th>\n",
       "      <th>Metro</th>\n",
       "      <th>CountyName</th>\n",
       "      <th>SizeRank</th>\n",
       "      <th>1996-04</th>\n",
       "      <th>1996-05</th>\n",
       "      <th>1996-06</th>\n",
       "      <th>...</th>\n",
       "      <th>2017-07</th>\n",
       "      <th>2017-08</th>\n",
       "      <th>2017-09</th>\n",
       "      <th>2017-10</th>\n",
       "      <th>2017-11</th>\n",
       "      <th>2017-12</th>\n",
       "      <th>2018-01</th>\n",
       "      <th>2018-02</th>\n",
       "      <th>2018-03</th>\n",
       "      <th>2018-04</th>\n",
       "    </tr>\n",
       "  </thead>\n",
       "  <tbody>\n",
       "    <tr>\n",
       "      <td>0</td>\n",
       "      <td>84654</td>\n",
       "      <td>60657</td>\n",
       "      <td>Chicago</td>\n",
       "      <td>IL</td>\n",
       "      <td>Chicago</td>\n",
       "      <td>Cook</td>\n",
       "      <td>1</td>\n",
       "      <td>334200.0</td>\n",
       "      <td>335400.0</td>\n",
       "      <td>336500.0</td>\n",
       "      <td>...</td>\n",
       "      <td>1005500</td>\n",
       "      <td>1007500</td>\n",
       "      <td>1007800</td>\n",
       "      <td>1009600</td>\n",
       "      <td>1013300</td>\n",
       "      <td>1018700</td>\n",
       "      <td>1024400</td>\n",
       "      <td>1030700</td>\n",
       "      <td>1033800</td>\n",
       "      <td>1030600</td>\n",
       "    </tr>\n",
       "    <tr>\n",
       "      <td>1</td>\n",
       "      <td>90668</td>\n",
       "      <td>75070</td>\n",
       "      <td>McKinney</td>\n",
       "      <td>TX</td>\n",
       "      <td>Dallas-Fort Worth</td>\n",
       "      <td>Collin</td>\n",
       "      <td>2</td>\n",
       "      <td>235700.0</td>\n",
       "      <td>236900.0</td>\n",
       "      <td>236700.0</td>\n",
       "      <td>...</td>\n",
       "      <td>308000</td>\n",
       "      <td>310000</td>\n",
       "      <td>312500</td>\n",
       "      <td>314100</td>\n",
       "      <td>315000</td>\n",
       "      <td>316600</td>\n",
       "      <td>318100</td>\n",
       "      <td>319600</td>\n",
       "      <td>321100</td>\n",
       "      <td>321800</td>\n",
       "    </tr>\n",
       "    <tr>\n",
       "      <td>2</td>\n",
       "      <td>91982</td>\n",
       "      <td>77494</td>\n",
       "      <td>Katy</td>\n",
       "      <td>TX</td>\n",
       "      <td>Houston</td>\n",
       "      <td>Harris</td>\n",
       "      <td>3</td>\n",
       "      <td>210400.0</td>\n",
       "      <td>212200.0</td>\n",
       "      <td>212200.0</td>\n",
       "      <td>...</td>\n",
       "      <td>321000</td>\n",
       "      <td>320600</td>\n",
       "      <td>320200</td>\n",
       "      <td>320400</td>\n",
       "      <td>320800</td>\n",
       "      <td>321200</td>\n",
       "      <td>321200</td>\n",
       "      <td>323000</td>\n",
       "      <td>326900</td>\n",
       "      <td>329900</td>\n",
       "    </tr>\n",
       "    <tr>\n",
       "      <td>3</td>\n",
       "      <td>84616</td>\n",
       "      <td>60614</td>\n",
       "      <td>Chicago</td>\n",
       "      <td>IL</td>\n",
       "      <td>Chicago</td>\n",
       "      <td>Cook</td>\n",
       "      <td>4</td>\n",
       "      <td>498100.0</td>\n",
       "      <td>500900.0</td>\n",
       "      <td>503100.0</td>\n",
       "      <td>...</td>\n",
       "      <td>1289800</td>\n",
       "      <td>1287700</td>\n",
       "      <td>1287400</td>\n",
       "      <td>1291500</td>\n",
       "      <td>1296600</td>\n",
       "      <td>1299000</td>\n",
       "      <td>1302700</td>\n",
       "      <td>1306400</td>\n",
       "      <td>1308500</td>\n",
       "      <td>1307000</td>\n",
       "    </tr>\n",
       "    <tr>\n",
       "      <td>4</td>\n",
       "      <td>93144</td>\n",
       "      <td>79936</td>\n",
       "      <td>El Paso</td>\n",
       "      <td>TX</td>\n",
       "      <td>El Paso</td>\n",
       "      <td>El Paso</td>\n",
       "      <td>5</td>\n",
       "      <td>77300.0</td>\n",
       "      <td>77300.0</td>\n",
       "      <td>77300.0</td>\n",
       "      <td>...</td>\n",
       "      <td>119100</td>\n",
       "      <td>119400</td>\n",
       "      <td>120000</td>\n",
       "      <td>120300</td>\n",
       "      <td>120300</td>\n",
       "      <td>120300</td>\n",
       "      <td>120300</td>\n",
       "      <td>120500</td>\n",
       "      <td>121000</td>\n",
       "      <td>121500</td>\n",
       "    </tr>\n",
       "  </tbody>\n",
       "</table>\n",
       "<p>5 rows × 272 columns</p>\n",
       "</div>"
      ],
      "text/plain": [
       "   RegionID    Zip      City State              Metro CountyName  SizeRank  \\\n",
       "0     84654  60657   Chicago    IL            Chicago       Cook         1   \n",
       "1     90668  75070  McKinney    TX  Dallas-Fort Worth     Collin         2   \n",
       "2     91982  77494      Katy    TX            Houston     Harris         3   \n",
       "3     84616  60614   Chicago    IL            Chicago       Cook         4   \n",
       "4     93144  79936   El Paso    TX            El Paso    El Paso         5   \n",
       "\n",
       "    1996-04   1996-05   1996-06  ...  2017-07  2017-08  2017-09  2017-10  \\\n",
       "0  334200.0  335400.0  336500.0  ...  1005500  1007500  1007800  1009600   \n",
       "1  235700.0  236900.0  236700.0  ...   308000   310000   312500   314100   \n",
       "2  210400.0  212200.0  212200.0  ...   321000   320600   320200   320400   \n",
       "3  498100.0  500900.0  503100.0  ...  1289800  1287700  1287400  1291500   \n",
       "4   77300.0   77300.0   77300.0  ...   119100   119400   120000   120300   \n",
       "\n",
       "   2017-11  2017-12  2018-01  2018-02  2018-03  2018-04  \n",
       "0  1013300  1018700  1024400  1030700  1033800  1030600  \n",
       "1   315000   316600   318100   319600   321100   321800  \n",
       "2   320800   321200   321200   323000   326900   329900  \n",
       "3  1296600  1299000  1302700  1306400  1308500  1307000  \n",
       "4   120300   120300   120300   120500   121000   121500  \n",
       "\n",
       "[5 rows x 272 columns]"
      ]
     },
     "execution_count": 14,
     "metadata": {},
     "output_type": "execute_result"
    }
   ],
   "source": [
    "df.rename(columns={'RegionName': 'Zip'}, inplace=True)\n",
    "df.columns\n",
    "df.head()"
   ]
  },
  {
   "cell_type": "code",
   "execution_count": 15,
   "metadata": {
    "scrolled": false
   },
   "outputs": [
    {
     "data": {
      "text/html": [
       "<div>\n",
       "<style scoped>\n",
       "    .dataframe tbody tr th:only-of-type {\n",
       "        vertical-align: middle;\n",
       "    }\n",
       "\n",
       "    .dataframe tbody tr th {\n",
       "        vertical-align: top;\n",
       "    }\n",
       "\n",
       "    .dataframe thead th {\n",
       "        text-align: right;\n",
       "    }\n",
       "</style>\n",
       "<table border=\"1\" class=\"dataframe\">\n",
       "  <thead>\n",
       "    <tr style=\"text-align: right;\">\n",
       "      <th></th>\n",
       "      <th>RegionID</th>\n",
       "      <th>Zip</th>\n",
       "      <th>City</th>\n",
       "      <th>State</th>\n",
       "      <th>Metro</th>\n",
       "      <th>CountyName</th>\n",
       "      <th>SizeRank</th>\n",
       "      <th>1996-04</th>\n",
       "      <th>1996-05</th>\n",
       "      <th>1996-06</th>\n",
       "      <th>...</th>\n",
       "      <th>2017-07</th>\n",
       "      <th>2017-08</th>\n",
       "      <th>2017-09</th>\n",
       "      <th>2017-10</th>\n",
       "      <th>2017-11</th>\n",
       "      <th>2017-12</th>\n",
       "      <th>2018-01</th>\n",
       "      <th>2018-02</th>\n",
       "      <th>2018-03</th>\n",
       "      <th>2018-04</th>\n",
       "    </tr>\n",
       "  </thead>\n",
       "  <tbody>\n",
       "    <tr>\n",
       "      <td>5850</td>\n",
       "      <td>58196</td>\n",
       "      <td>01001</td>\n",
       "      <td>Agawam</td>\n",
       "      <td>MA</td>\n",
       "      <td>Springfield</td>\n",
       "      <td>Hampden</td>\n",
       "      <td>5851</td>\n",
       "      <td>113100.0</td>\n",
       "      <td>112800.0</td>\n",
       "      <td>112600.0</td>\n",
       "      <td>...</td>\n",
       "      <td>213900</td>\n",
       "      <td>215700</td>\n",
       "      <td>218200</td>\n",
       "      <td>220100</td>\n",
       "      <td>221100</td>\n",
       "      <td>221700</td>\n",
       "      <td>221700</td>\n",
       "      <td>221700</td>\n",
       "      <td>222700</td>\n",
       "      <td>223600</td>\n",
       "    </tr>\n",
       "    <tr>\n",
       "      <td>4199</td>\n",
       "      <td>58197</td>\n",
       "      <td>01002</td>\n",
       "      <td>Amherst</td>\n",
       "      <td>MA</td>\n",
       "      <td>Springfield</td>\n",
       "      <td>Hampshire</td>\n",
       "      <td>4200</td>\n",
       "      <td>161000.0</td>\n",
       "      <td>160100.0</td>\n",
       "      <td>159300.0</td>\n",
       "      <td>...</td>\n",
       "      <td>333700</td>\n",
       "      <td>334800</td>\n",
       "      <td>336700</td>\n",
       "      <td>338900</td>\n",
       "      <td>340400</td>\n",
       "      <td>342000</td>\n",
       "      <td>344500</td>\n",
       "      <td>347400</td>\n",
       "      <td>350600</td>\n",
       "      <td>353300</td>\n",
       "    </tr>\n",
       "    <tr>\n",
       "      <td>11213</td>\n",
       "      <td>58200</td>\n",
       "      <td>01005</td>\n",
       "      <td>Barre</td>\n",
       "      <td>MA</td>\n",
       "      <td>Worcester</td>\n",
       "      <td>Worcester</td>\n",
       "      <td>11214</td>\n",
       "      <td>103100.0</td>\n",
       "      <td>103400.0</td>\n",
       "      <td>103600.0</td>\n",
       "      <td>...</td>\n",
       "      <td>205600</td>\n",
       "      <td>206800</td>\n",
       "      <td>208800</td>\n",
       "      <td>210400</td>\n",
       "      <td>211300</td>\n",
       "      <td>213300</td>\n",
       "      <td>215600</td>\n",
       "      <td>217900</td>\n",
       "      <td>219500</td>\n",
       "      <td>220700</td>\n",
       "    </tr>\n",
       "    <tr>\n",
       "      <td>6850</td>\n",
       "      <td>58201</td>\n",
       "      <td>01007</td>\n",
       "      <td>Belchertown</td>\n",
       "      <td>MA</td>\n",
       "      <td>Springfield</td>\n",
       "      <td>Hampshire</td>\n",
       "      <td>6851</td>\n",
       "      <td>133400.0</td>\n",
       "      <td>132700.0</td>\n",
       "      <td>132000.0</td>\n",
       "      <td>...</td>\n",
       "      <td>266100</td>\n",
       "      <td>266300</td>\n",
       "      <td>267000</td>\n",
       "      <td>267500</td>\n",
       "      <td>268000</td>\n",
       "      <td>268100</td>\n",
       "      <td>268100</td>\n",
       "      <td>268800</td>\n",
       "      <td>270000</td>\n",
       "      <td>270600</td>\n",
       "    </tr>\n",
       "    <tr>\n",
       "      <td>14547</td>\n",
       "      <td>58202</td>\n",
       "      <td>01008</td>\n",
       "      <td>Blandford</td>\n",
       "      <td>MA</td>\n",
       "      <td>Springfield</td>\n",
       "      <td>Hampden</td>\n",
       "      <td>14548</td>\n",
       "      <td>117500.0</td>\n",
       "      <td>117300.0</td>\n",
       "      <td>117100.0</td>\n",
       "      <td>...</td>\n",
       "      <td>202400</td>\n",
       "      <td>202900</td>\n",
       "      <td>205900</td>\n",
       "      <td>208500</td>\n",
       "      <td>207500</td>\n",
       "      <td>205400</td>\n",
       "      <td>204500</td>\n",
       "      <td>206800</td>\n",
       "      <td>210900</td>\n",
       "      <td>214200</td>\n",
       "    </tr>\n",
       "  </tbody>\n",
       "</table>\n",
       "<p>5 rows × 272 columns</p>\n",
       "</div>"
      ],
      "text/plain": [
       "       RegionID    Zip         City State        Metro CountyName  SizeRank  \\\n",
       "5850      58196  01001       Agawam    MA  Springfield    Hampden      5851   \n",
       "4199      58197  01002      Amherst    MA  Springfield  Hampshire      4200   \n",
       "11213     58200  01005        Barre    MA    Worcester  Worcester     11214   \n",
       "6850      58201  01007  Belchertown    MA  Springfield  Hampshire      6851   \n",
       "14547     58202  01008    Blandford    MA  Springfield    Hampden     14548   \n",
       "\n",
       "        1996-04   1996-05   1996-06  ...  2017-07  2017-08  2017-09  2017-10  \\\n",
       "5850   113100.0  112800.0  112600.0  ...   213900   215700   218200   220100   \n",
       "4199   161000.0  160100.0  159300.0  ...   333700   334800   336700   338900   \n",
       "11213  103100.0  103400.0  103600.0  ...   205600   206800   208800   210400   \n",
       "6850   133400.0  132700.0  132000.0  ...   266100   266300   267000   267500   \n",
       "14547  117500.0  117300.0  117100.0  ...   202400   202900   205900   208500   \n",
       "\n",
       "       2017-11  2017-12  2018-01  2018-02  2018-03  2018-04  \n",
       "5850    221100   221700   221700   221700   222700   223600  \n",
       "4199    340400   342000   344500   347400   350600   353300  \n",
       "11213   211300   213300   215600   217900   219500   220700  \n",
       "6850    268000   268100   268100   268800   270000   270600  \n",
       "14547   207500   205400   204500   206800   210900   214200  \n",
       "\n",
       "[5 rows x 272 columns]"
      ]
     },
     "execution_count": 15,
     "metadata": {},
     "output_type": "execute_result"
    }
   ],
   "source": [
    "zips = []\n",
    "\n",
    "for i in df['Zip']:\n",
    "    if len(i) < 5:\n",
    "        i = '0' + i\n",
    "        zips.append(i)\n",
    "    else:\n",
    "        zips.append(i)\n",
    "\n",
    "zips\n",
    "df['Zip'] = pd.Series(zips)\n",
    "df.sort_values(by='Zip').head()\n",
    "# df.head()"
   ]
  },
  {
   "cell_type": "markdown",
   "metadata": {},
   "source": [
    "## Creating US dataframe (df_melt) using melt function"
   ]
  },
  {
   "cell_type": "code",
   "execution_count": 16,
   "metadata": {},
   "outputs": [],
   "source": [
    "def melt_data(df):\n",
    "    melted = pd.melt(df, id_vars=['RegionID', 'Zip', 'City', 'State', 'Metro', 'CountyName', 'SizeRank'], var_name='time')\n",
    "    melted['time'] = pd.to_datetime(melted['time'], infer_datetime_format=False)\n",
    "    melted = melted.dropna(subset=['value'])\n",
    "    return melted   "
   ]
  },
  {
   "cell_type": "code",
   "execution_count": 17,
   "metadata": {},
   "outputs": [],
   "source": [
    "df_melt = melt_data(df)\n"
   ]
  },
  {
   "cell_type": "code",
   "execution_count": 18,
   "metadata": {
    "scrolled": true
   },
   "outputs": [
    {
     "data": {
      "text/html": [
       "<div>\n",
       "<style scoped>\n",
       "    .dataframe tbody tr th:only-of-type {\n",
       "        vertical-align: middle;\n",
       "    }\n",
       "\n",
       "    .dataframe tbody tr th {\n",
       "        vertical-align: top;\n",
       "    }\n",
       "\n",
       "    .dataframe thead th {\n",
       "        text-align: right;\n",
       "    }\n",
       "</style>\n",
       "<table border=\"1\" class=\"dataframe\">\n",
       "  <thead>\n",
       "    <tr style=\"text-align: right;\">\n",
       "      <th></th>\n",
       "      <th>RegionID</th>\n",
       "      <th>Zip</th>\n",
       "      <th>City</th>\n",
       "      <th>State</th>\n",
       "      <th>Metro</th>\n",
       "      <th>CountyName</th>\n",
       "      <th>SizeRank</th>\n",
       "      <th>time</th>\n",
       "      <th>value</th>\n",
       "    </tr>\n",
       "  </thead>\n",
       "  <tbody>\n",
       "    <tr>\n",
       "      <td>0</td>\n",
       "      <td>84654</td>\n",
       "      <td>60657</td>\n",
       "      <td>Chicago</td>\n",
       "      <td>IL</td>\n",
       "      <td>Chicago</td>\n",
       "      <td>Cook</td>\n",
       "      <td>1</td>\n",
       "      <td>1996-04-01</td>\n",
       "      <td>334200.0</td>\n",
       "    </tr>\n",
       "    <tr>\n",
       "      <td>1</td>\n",
       "      <td>90668</td>\n",
       "      <td>75070</td>\n",
       "      <td>McKinney</td>\n",
       "      <td>TX</td>\n",
       "      <td>Dallas-Fort Worth</td>\n",
       "      <td>Collin</td>\n",
       "      <td>2</td>\n",
       "      <td>1996-04-01</td>\n",
       "      <td>235700.0</td>\n",
       "    </tr>\n",
       "    <tr>\n",
       "      <td>2</td>\n",
       "      <td>91982</td>\n",
       "      <td>77494</td>\n",
       "      <td>Katy</td>\n",
       "      <td>TX</td>\n",
       "      <td>Houston</td>\n",
       "      <td>Harris</td>\n",
       "      <td>3</td>\n",
       "      <td>1996-04-01</td>\n",
       "      <td>210400.0</td>\n",
       "    </tr>\n",
       "    <tr>\n",
       "      <td>3</td>\n",
       "      <td>84616</td>\n",
       "      <td>60614</td>\n",
       "      <td>Chicago</td>\n",
       "      <td>IL</td>\n",
       "      <td>Chicago</td>\n",
       "      <td>Cook</td>\n",
       "      <td>4</td>\n",
       "      <td>1996-04-01</td>\n",
       "      <td>498100.0</td>\n",
       "    </tr>\n",
       "    <tr>\n",
       "      <td>4</td>\n",
       "      <td>93144</td>\n",
       "      <td>79936</td>\n",
       "      <td>El Paso</td>\n",
       "      <td>TX</td>\n",
       "      <td>El Paso</td>\n",
       "      <td>El Paso</td>\n",
       "      <td>5</td>\n",
       "      <td>1996-04-01</td>\n",
       "      <td>77300.0</td>\n",
       "    </tr>\n",
       "  </tbody>\n",
       "</table>\n",
       "</div>"
      ],
      "text/plain": [
       "   RegionID    Zip      City State              Metro CountyName  SizeRank  \\\n",
       "0     84654  60657   Chicago    IL            Chicago       Cook         1   \n",
       "1     90668  75070  McKinney    TX  Dallas-Fort Worth     Collin         2   \n",
       "2     91982  77494      Katy    TX            Houston     Harris         3   \n",
       "3     84616  60614   Chicago    IL            Chicago       Cook         4   \n",
       "4     93144  79936   El Paso    TX            El Paso    El Paso         5   \n",
       "\n",
       "        time     value  \n",
       "0 1996-04-01  334200.0  \n",
       "1 1996-04-01  235700.0  \n",
       "2 1996-04-01  210400.0  \n",
       "3 1996-04-01  498100.0  \n",
       "4 1996-04-01   77300.0  "
      ]
     },
     "execution_count": 18,
     "metadata": {},
     "output_type": "execute_result"
    }
   ],
   "source": [
    "df_melt.head()"
   ]
  },
  {
   "cell_type": "code",
   "execution_count": 19,
   "metadata": {},
   "outputs": [
    {
     "name": "stdout",
     "output_type": "stream",
     "text": [
      "<class 'pandas.core.frame.DataFrame'>\n",
      "Int64Index: 3744704 entries, 0 to 3901594\n",
      "Data columns (total 9 columns):\n",
      "RegionID      int64\n",
      "Zip           object\n",
      "City          object\n",
      "State         object\n",
      "Metro         object\n",
      "CountyName    object\n",
      "SizeRank      int64\n",
      "time          datetime64[ns]\n",
      "value         float64\n",
      "dtypes: datetime64[ns](1), float64(1), int64(2), object(5)\n",
      "memory usage: 285.7+ MB\n"
     ]
    }
   ],
   "source": [
    "df_melt.info()"
   ]
  },
  {
   "cell_type": "code",
   "execution_count": 20,
   "metadata": {},
   "outputs": [
    {
     "data": {
      "text/html": [
       "<div>\n",
       "<style scoped>\n",
       "    .dataframe tbody tr th:only-of-type {\n",
       "        vertical-align: middle;\n",
       "    }\n",
       "\n",
       "    .dataframe tbody tr th {\n",
       "        vertical-align: top;\n",
       "    }\n",
       "\n",
       "    .dataframe thead th {\n",
       "        text-align: right;\n",
       "    }\n",
       "</style>\n",
       "<table border=\"1\" class=\"dataframe\">\n",
       "  <thead>\n",
       "    <tr style=\"text-align: right;\">\n",
       "      <th></th>\n",
       "      <th>RegionID</th>\n",
       "      <th>Zip</th>\n",
       "      <th>City</th>\n",
       "      <th>State</th>\n",
       "      <th>Metro</th>\n",
       "      <th>CountyName</th>\n",
       "      <th>SizeRank</th>\n",
       "      <th>value</th>\n",
       "    </tr>\n",
       "    <tr>\n",
       "      <th>time</th>\n",
       "      <th></th>\n",
       "      <th></th>\n",
       "      <th></th>\n",
       "      <th></th>\n",
       "      <th></th>\n",
       "      <th></th>\n",
       "      <th></th>\n",
       "      <th></th>\n",
       "    </tr>\n",
       "  </thead>\n",
       "  <tbody>\n",
       "    <tr>\n",
       "      <td>1996-04-01</td>\n",
       "      <td>84654</td>\n",
       "      <td>60657</td>\n",
       "      <td>Chicago</td>\n",
       "      <td>IL</td>\n",
       "      <td>Chicago</td>\n",
       "      <td>Cook</td>\n",
       "      <td>1</td>\n",
       "      <td>334200.0</td>\n",
       "    </tr>\n",
       "    <tr>\n",
       "      <td>1996-04-01</td>\n",
       "      <td>90668</td>\n",
       "      <td>75070</td>\n",
       "      <td>McKinney</td>\n",
       "      <td>TX</td>\n",
       "      <td>Dallas-Fort Worth</td>\n",
       "      <td>Collin</td>\n",
       "      <td>2</td>\n",
       "      <td>235700.0</td>\n",
       "    </tr>\n",
       "    <tr>\n",
       "      <td>1996-04-01</td>\n",
       "      <td>91982</td>\n",
       "      <td>77494</td>\n",
       "      <td>Katy</td>\n",
       "      <td>TX</td>\n",
       "      <td>Houston</td>\n",
       "      <td>Harris</td>\n",
       "      <td>3</td>\n",
       "      <td>210400.0</td>\n",
       "    </tr>\n",
       "    <tr>\n",
       "      <td>1996-04-01</td>\n",
       "      <td>84616</td>\n",
       "      <td>60614</td>\n",
       "      <td>Chicago</td>\n",
       "      <td>IL</td>\n",
       "      <td>Chicago</td>\n",
       "      <td>Cook</td>\n",
       "      <td>4</td>\n",
       "      <td>498100.0</td>\n",
       "    </tr>\n",
       "    <tr>\n",
       "      <td>1996-04-01</td>\n",
       "      <td>93144</td>\n",
       "      <td>79936</td>\n",
       "      <td>El Paso</td>\n",
       "      <td>TX</td>\n",
       "      <td>El Paso</td>\n",
       "      <td>El Paso</td>\n",
       "      <td>5</td>\n",
       "      <td>77300.0</td>\n",
       "    </tr>\n",
       "    <tr>\n",
       "      <td>...</td>\n",
       "      <td>...</td>\n",
       "      <td>...</td>\n",
       "      <td>...</td>\n",
       "      <td>...</td>\n",
       "      <td>...</td>\n",
       "      <td>...</td>\n",
       "      <td>...</td>\n",
       "      <td>...</td>\n",
       "    </tr>\n",
       "    <tr>\n",
       "      <td>2018-04-01</td>\n",
       "      <td>58333</td>\n",
       "      <td>01338</td>\n",
       "      <td>Ashfield</td>\n",
       "      <td>MA</td>\n",
       "      <td>Greenfield Town</td>\n",
       "      <td>Franklin</td>\n",
       "      <td>14719</td>\n",
       "      <td>209300.0</td>\n",
       "    </tr>\n",
       "    <tr>\n",
       "      <td>2018-04-01</td>\n",
       "      <td>59107</td>\n",
       "      <td>03293</td>\n",
       "      <td>Woodstock</td>\n",
       "      <td>NH</td>\n",
       "      <td>Claremont</td>\n",
       "      <td>Grafton</td>\n",
       "      <td>14720</td>\n",
       "      <td>225800.0</td>\n",
       "    </tr>\n",
       "    <tr>\n",
       "      <td>2018-04-01</td>\n",
       "      <td>75672</td>\n",
       "      <td>40404</td>\n",
       "      <td>Berea</td>\n",
       "      <td>KY</td>\n",
       "      <td>Richmond</td>\n",
       "      <td>Madison</td>\n",
       "      <td>14721</td>\n",
       "      <td>133400.0</td>\n",
       "    </tr>\n",
       "    <tr>\n",
       "      <td>2018-04-01</td>\n",
       "      <td>93733</td>\n",
       "      <td>81225</td>\n",
       "      <td>Mount Crested Butte</td>\n",
       "      <td>CO</td>\n",
       "      <td>NaN</td>\n",
       "      <td>Gunnison</td>\n",
       "      <td>14722</td>\n",
       "      <td>664400.0</td>\n",
       "    </tr>\n",
       "    <tr>\n",
       "      <td>2018-04-01</td>\n",
       "      <td>95851</td>\n",
       "      <td>89155</td>\n",
       "      <td>Mesquite</td>\n",
       "      <td>NV</td>\n",
       "      <td>Las Vegas</td>\n",
       "      <td>Clark</td>\n",
       "      <td>14723</td>\n",
       "      <td>357200.0</td>\n",
       "    </tr>\n",
       "  </tbody>\n",
       "</table>\n",
       "<p>3744704 rows × 8 columns</p>\n",
       "</div>"
      ],
      "text/plain": [
       "            RegionID    Zip                 City State              Metro  \\\n",
       "time                                                                        \n",
       "1996-04-01     84654  60657              Chicago    IL            Chicago   \n",
       "1996-04-01     90668  75070             McKinney    TX  Dallas-Fort Worth   \n",
       "1996-04-01     91982  77494                 Katy    TX            Houston   \n",
       "1996-04-01     84616  60614              Chicago    IL            Chicago   \n",
       "1996-04-01     93144  79936              El Paso    TX            El Paso   \n",
       "...              ...    ...                  ...   ...                ...   \n",
       "2018-04-01     58333  01338             Ashfield    MA    Greenfield Town   \n",
       "2018-04-01     59107  03293            Woodstock    NH          Claremont   \n",
       "2018-04-01     75672  40404                Berea    KY           Richmond   \n",
       "2018-04-01     93733  81225  Mount Crested Butte    CO                NaN   \n",
       "2018-04-01     95851  89155             Mesquite    NV          Las Vegas   \n",
       "\n",
       "           CountyName  SizeRank     value  \n",
       "time                                       \n",
       "1996-04-01       Cook         1  334200.0  \n",
       "1996-04-01     Collin         2  235700.0  \n",
       "1996-04-01     Harris         3  210400.0  \n",
       "1996-04-01       Cook         4  498100.0  \n",
       "1996-04-01    El Paso         5   77300.0  \n",
       "...               ...       ...       ...  \n",
       "2018-04-01   Franklin     14719  209300.0  \n",
       "2018-04-01    Grafton     14720  225800.0  \n",
       "2018-04-01    Madison     14721  133400.0  \n",
       "2018-04-01   Gunnison     14722  664400.0  \n",
       "2018-04-01      Clark     14723  357200.0  \n",
       "\n",
       "[3744704 rows x 8 columns]"
      ]
     },
     "execution_count": 20,
     "metadata": {},
     "output_type": "execute_result"
    }
   ],
   "source": [
    "df_melt.set_index('time')"
   ]
  },
  {
   "cell_type": "code",
   "execution_count": 21,
   "metadata": {},
   "outputs": [],
   "source": [
    "## Dropping RegionID:\n",
    "\n",
    "df_melt.drop('RegionID', axis=1, inplace=True)"
   ]
  },
  {
   "cell_type": "code",
   "execution_count": 22,
   "metadata": {},
   "outputs": [
    {
     "data": {
      "text/html": [
       "<div>\n",
       "<style scoped>\n",
       "    .dataframe tbody tr th:only-of-type {\n",
       "        vertical-align: middle;\n",
       "    }\n",
       "\n",
       "    .dataframe tbody tr th {\n",
       "        vertical-align: top;\n",
       "    }\n",
       "\n",
       "    .dataframe thead th {\n",
       "        text-align: right;\n",
       "    }\n",
       "</style>\n",
       "<table border=\"1\" class=\"dataframe\">\n",
       "  <thead>\n",
       "    <tr style=\"text-align: right;\">\n",
       "      <th></th>\n",
       "      <th>Zip</th>\n",
       "      <th>City</th>\n",
       "      <th>State</th>\n",
       "      <th>Metro</th>\n",
       "      <th>CountyName</th>\n",
       "      <th>SizeRank</th>\n",
       "      <th>time</th>\n",
       "      <th>value</th>\n",
       "    </tr>\n",
       "  </thead>\n",
       "  <tbody>\n",
       "    <tr>\n",
       "      <td>0</td>\n",
       "      <td>60657</td>\n",
       "      <td>Chicago</td>\n",
       "      <td>IL</td>\n",
       "      <td>Chicago</td>\n",
       "      <td>Cook</td>\n",
       "      <td>1</td>\n",
       "      <td>1996-04-01</td>\n",
       "      <td>334200.0</td>\n",
       "    </tr>\n",
       "    <tr>\n",
       "      <td>1</td>\n",
       "      <td>75070</td>\n",
       "      <td>McKinney</td>\n",
       "      <td>TX</td>\n",
       "      <td>Dallas-Fort Worth</td>\n",
       "      <td>Collin</td>\n",
       "      <td>2</td>\n",
       "      <td>1996-04-01</td>\n",
       "      <td>235700.0</td>\n",
       "    </tr>\n",
       "    <tr>\n",
       "      <td>2</td>\n",
       "      <td>77494</td>\n",
       "      <td>Katy</td>\n",
       "      <td>TX</td>\n",
       "      <td>Houston</td>\n",
       "      <td>Harris</td>\n",
       "      <td>3</td>\n",
       "      <td>1996-04-01</td>\n",
       "      <td>210400.0</td>\n",
       "    </tr>\n",
       "    <tr>\n",
       "      <td>3</td>\n",
       "      <td>60614</td>\n",
       "      <td>Chicago</td>\n",
       "      <td>IL</td>\n",
       "      <td>Chicago</td>\n",
       "      <td>Cook</td>\n",
       "      <td>4</td>\n",
       "      <td>1996-04-01</td>\n",
       "      <td>498100.0</td>\n",
       "    </tr>\n",
       "    <tr>\n",
       "      <td>4</td>\n",
       "      <td>79936</td>\n",
       "      <td>El Paso</td>\n",
       "      <td>TX</td>\n",
       "      <td>El Paso</td>\n",
       "      <td>El Paso</td>\n",
       "      <td>5</td>\n",
       "      <td>1996-04-01</td>\n",
       "      <td>77300.0</td>\n",
       "    </tr>\n",
       "  </tbody>\n",
       "</table>\n",
       "</div>"
      ],
      "text/plain": [
       "     Zip      City State              Metro CountyName  SizeRank       time  \\\n",
       "0  60657   Chicago    IL            Chicago       Cook         1 1996-04-01   \n",
       "1  75070  McKinney    TX  Dallas-Fort Worth     Collin         2 1996-04-01   \n",
       "2  77494      Katy    TX            Houston     Harris         3 1996-04-01   \n",
       "3  60614   Chicago    IL            Chicago       Cook         4 1996-04-01   \n",
       "4  79936   El Paso    TX            El Paso    El Paso         5 1996-04-01   \n",
       "\n",
       "      value  \n",
       "0  334200.0  \n",
       "1  235700.0  \n",
       "2  210400.0  \n",
       "3  498100.0  \n",
       "4   77300.0  "
      ]
     },
     "execution_count": 22,
     "metadata": {},
     "output_type": "execute_result"
    }
   ],
   "source": [
    "df_melt.head()"
   ]
  },
  {
   "cell_type": "markdown",
   "metadata": {},
   "source": [
    "Dataframe is sorted by SizeRank by default."
   ]
  },
  {
   "cell_type": "code",
   "execution_count": 23,
   "metadata": {},
   "outputs": [
    {
     "data": {
      "text/plain": [
       "Zip                0\n",
       "City               0\n",
       "State              0\n",
       "Metro         236023\n",
       "CountyName         0\n",
       "SizeRank           0\n",
       "time               0\n",
       "value              0\n",
       "dtype: int64"
      ]
     },
     "execution_count": 23,
     "metadata": {},
     "output_type": "execute_result"
    }
   ],
   "source": [
    "df_melt.isna().sum()"
   ]
  },
  {
   "cell_type": "code",
   "execution_count": 24,
   "metadata": {
    "scrolled": true
   },
   "outputs": [
    {
     "data": {
      "text/plain": [
       "Zip           0\n",
       "City          0\n",
       "State         0\n",
       "Metro         0\n",
       "CountyName    0\n",
       "SizeRank      0\n",
       "time          0\n",
       "value         0\n",
       "dtype: int64"
      ]
     },
     "execution_count": 24,
     "metadata": {},
     "output_type": "execute_result"
    }
   ],
   "source": [
    "df_melt['Metro'].fillna('Missing', inplace=True)\n",
    "df_melt.isna().sum()"
   ]
  },
  {
   "cell_type": "code",
   "execution_count": 25,
   "metadata": {},
   "outputs": [
    {
     "data": {
      "text/html": [
       "<div>\n",
       "<style scoped>\n",
       "    .dataframe tbody tr th:only-of-type {\n",
       "        vertical-align: middle;\n",
       "    }\n",
       "\n",
       "    .dataframe tbody tr th {\n",
       "        vertical-align: top;\n",
       "    }\n",
       "\n",
       "    .dataframe thead th {\n",
       "        text-align: right;\n",
       "    }\n",
       "</style>\n",
       "<table border=\"1\" class=\"dataframe\">\n",
       "  <thead>\n",
       "    <tr style=\"text-align: right;\">\n",
       "      <th></th>\n",
       "      <th>Zip</th>\n",
       "      <th>City</th>\n",
       "      <th>State</th>\n",
       "      <th>Metro</th>\n",
       "      <th>CountyName</th>\n",
       "      <th>SizeRank</th>\n",
       "      <th>time</th>\n",
       "      <th>value</th>\n",
       "    </tr>\n",
       "  </thead>\n",
       "  <tbody>\n",
       "    <tr>\n",
       "      <td>5850</td>\n",
       "      <td>01001</td>\n",
       "      <td>Agawam</td>\n",
       "      <td>MA</td>\n",
       "      <td>Springfield</td>\n",
       "      <td>Hampden</td>\n",
       "      <td>5851</td>\n",
       "      <td>1996-04-01</td>\n",
       "      <td>113100.0</td>\n",
       "    </tr>\n",
       "    <tr>\n",
       "      <td>20573</td>\n",
       "      <td>01001</td>\n",
       "      <td>Agawam</td>\n",
       "      <td>MA</td>\n",
       "      <td>Springfield</td>\n",
       "      <td>Hampden</td>\n",
       "      <td>5851</td>\n",
       "      <td>1996-05-01</td>\n",
       "      <td>112800.0</td>\n",
       "    </tr>\n",
       "    <tr>\n",
       "      <td>35296</td>\n",
       "      <td>01001</td>\n",
       "      <td>Agawam</td>\n",
       "      <td>MA</td>\n",
       "      <td>Springfield</td>\n",
       "      <td>Hampden</td>\n",
       "      <td>5851</td>\n",
       "      <td>1996-06-01</td>\n",
       "      <td>112600.0</td>\n",
       "    </tr>\n",
       "    <tr>\n",
       "      <td>50019</td>\n",
       "      <td>01001</td>\n",
       "      <td>Agawam</td>\n",
       "      <td>MA</td>\n",
       "      <td>Springfield</td>\n",
       "      <td>Hampden</td>\n",
       "      <td>5851</td>\n",
       "      <td>1996-07-01</td>\n",
       "      <td>112300.0</td>\n",
       "    </tr>\n",
       "    <tr>\n",
       "      <td>64742</td>\n",
       "      <td>01001</td>\n",
       "      <td>Agawam</td>\n",
       "      <td>MA</td>\n",
       "      <td>Springfield</td>\n",
       "      <td>Hampden</td>\n",
       "      <td>5851</td>\n",
       "      <td>1996-08-01</td>\n",
       "      <td>112100.0</td>\n",
       "    </tr>\n",
       "    <tr>\n",
       "      <td>...</td>\n",
       "      <td>...</td>\n",
       "      <td>...</td>\n",
       "      <td>...</td>\n",
       "      <td>...</td>\n",
       "      <td>...</td>\n",
       "      <td>...</td>\n",
       "      <td>...</td>\n",
       "      <td>...</td>\n",
       "    </tr>\n",
       "    <tr>\n",
       "      <td>3835273</td>\n",
       "      <td>99901</td>\n",
       "      <td>Ketchikan</td>\n",
       "      <td>AK</td>\n",
       "      <td>Ketchikan</td>\n",
       "      <td>Ketchikan Gateway</td>\n",
       "      <td>7294</td>\n",
       "      <td>2017-12-01</td>\n",
       "      <td>291900.0</td>\n",
       "    </tr>\n",
       "    <tr>\n",
       "      <td>3849996</td>\n",
       "      <td>99901</td>\n",
       "      <td>Ketchikan</td>\n",
       "      <td>AK</td>\n",
       "      <td>Ketchikan</td>\n",
       "      <td>Ketchikan Gateway</td>\n",
       "      <td>7294</td>\n",
       "      <td>2018-01-01</td>\n",
       "      <td>294200.0</td>\n",
       "    </tr>\n",
       "    <tr>\n",
       "      <td>3864719</td>\n",
       "      <td>99901</td>\n",
       "      <td>Ketchikan</td>\n",
       "      <td>AK</td>\n",
       "      <td>Ketchikan</td>\n",
       "      <td>Ketchikan Gateway</td>\n",
       "      <td>7294</td>\n",
       "      <td>2018-02-01</td>\n",
       "      <td>297500.0</td>\n",
       "    </tr>\n",
       "    <tr>\n",
       "      <td>3879442</td>\n",
       "      <td>99901</td>\n",
       "      <td>Ketchikan</td>\n",
       "      <td>AK</td>\n",
       "      <td>Ketchikan</td>\n",
       "      <td>Ketchikan Gateway</td>\n",
       "      <td>7294</td>\n",
       "      <td>2018-03-01</td>\n",
       "      <td>302100.0</td>\n",
       "    </tr>\n",
       "    <tr>\n",
       "      <td>3894165</td>\n",
       "      <td>99901</td>\n",
       "      <td>Ketchikan</td>\n",
       "      <td>AK</td>\n",
       "      <td>Ketchikan</td>\n",
       "      <td>Ketchikan Gateway</td>\n",
       "      <td>7294</td>\n",
       "      <td>2018-04-01</td>\n",
       "      <td>305100.0</td>\n",
       "    </tr>\n",
       "  </tbody>\n",
       "</table>\n",
       "<p>3744704 rows × 8 columns</p>\n",
       "</div>"
      ],
      "text/plain": [
       "           Zip       City State        Metro         CountyName  SizeRank  \\\n",
       "5850     01001     Agawam    MA  Springfield            Hampden      5851   \n",
       "20573    01001     Agawam    MA  Springfield            Hampden      5851   \n",
       "35296    01001     Agawam    MA  Springfield            Hampden      5851   \n",
       "50019    01001     Agawam    MA  Springfield            Hampden      5851   \n",
       "64742    01001     Agawam    MA  Springfield            Hampden      5851   \n",
       "...        ...        ...   ...          ...                ...       ...   \n",
       "3835273  99901  Ketchikan    AK    Ketchikan  Ketchikan Gateway      7294   \n",
       "3849996  99901  Ketchikan    AK    Ketchikan  Ketchikan Gateway      7294   \n",
       "3864719  99901  Ketchikan    AK    Ketchikan  Ketchikan Gateway      7294   \n",
       "3879442  99901  Ketchikan    AK    Ketchikan  Ketchikan Gateway      7294   \n",
       "3894165  99901  Ketchikan    AK    Ketchikan  Ketchikan Gateway      7294   \n",
       "\n",
       "              time     value  \n",
       "5850    1996-04-01  113100.0  \n",
       "20573   1996-05-01  112800.0  \n",
       "35296   1996-06-01  112600.0  \n",
       "50019   1996-07-01  112300.0  \n",
       "64742   1996-08-01  112100.0  \n",
       "...            ...       ...  \n",
       "3835273 2017-12-01  291900.0  \n",
       "3849996 2018-01-01  294200.0  \n",
       "3864719 2018-02-01  297500.0  \n",
       "3879442 2018-03-01  302100.0  \n",
       "3894165 2018-04-01  305100.0  \n",
       "\n",
       "[3744704 rows x 8 columns]"
      ]
     },
     "execution_count": 25,
     "metadata": {},
     "output_type": "execute_result"
    }
   ],
   "source": [
    "# Sorting by zip code, then time\n",
    "\n",
    "df_melt.sort_values(by=['Zip', 'time'])"
   ]
  },
  {
   "cell_type": "markdown",
   "metadata": {},
   "source": [
    "Note that a few zip codes are missing; these rows were eliminated when Zip codes with NaN values in the 'value' column were dropped."
   ]
  },
  {
   "cell_type": "code",
   "execution_count": 26,
   "metadata": {
    "scrolled": true
   },
   "outputs": [
    {
     "data": {
      "text/plain": [
       "Zip           14723\n",
       "City           7554\n",
       "State            51\n",
       "Metro           702\n",
       "CountyName     1212\n",
       "SizeRank      14723\n",
       "time            265\n",
       "value         24372\n",
       "dtype: int64"
      ]
     },
     "execution_count": 26,
     "metadata": {},
     "output_type": "execute_result"
    }
   ],
   "source": [
    "df_melt.nunique()"
   ]
  },
  {
   "cell_type": "markdown",
   "metadata": {},
   "source": [
    "### Creating new column, MetroState, to address duplicate metro names in different states (e.g., Aberdeen in multiple states)"
   ]
  },
  {
   "cell_type": "code",
   "execution_count": 27,
   "metadata": {},
   "outputs": [],
   "source": [
    "df_melt['MetroState'] = df_melt['Metro'] + ' ' + df_melt['State']"
   ]
  },
  {
   "cell_type": "code",
   "execution_count": 28,
   "metadata": {
    "scrolled": true
   },
   "outputs": [
    {
     "data": {
      "text/html": [
       "<div>\n",
       "<style scoped>\n",
       "    .dataframe tbody tr th:only-of-type {\n",
       "        vertical-align: middle;\n",
       "    }\n",
       "\n",
       "    .dataframe tbody tr th {\n",
       "        vertical-align: top;\n",
       "    }\n",
       "\n",
       "    .dataframe thead th {\n",
       "        text-align: right;\n",
       "    }\n",
       "</style>\n",
       "<table border=\"1\" class=\"dataframe\">\n",
       "  <thead>\n",
       "    <tr style=\"text-align: right;\">\n",
       "      <th></th>\n",
       "      <th>Zip</th>\n",
       "      <th>City</th>\n",
       "      <th>State</th>\n",
       "      <th>Metro</th>\n",
       "      <th>CountyName</th>\n",
       "      <th>SizeRank</th>\n",
       "      <th>time</th>\n",
       "      <th>value</th>\n",
       "      <th>MetroState</th>\n",
       "    </tr>\n",
       "  </thead>\n",
       "  <tbody>\n",
       "    <tr>\n",
       "      <td>0</td>\n",
       "      <td>60657</td>\n",
       "      <td>Chicago</td>\n",
       "      <td>IL</td>\n",
       "      <td>Chicago</td>\n",
       "      <td>Cook</td>\n",
       "      <td>1</td>\n",
       "      <td>1996-04-01</td>\n",
       "      <td>334200.0</td>\n",
       "      <td>Chicago IL</td>\n",
       "    </tr>\n",
       "    <tr>\n",
       "      <td>1</td>\n",
       "      <td>75070</td>\n",
       "      <td>McKinney</td>\n",
       "      <td>TX</td>\n",
       "      <td>Dallas-Fort Worth</td>\n",
       "      <td>Collin</td>\n",
       "      <td>2</td>\n",
       "      <td>1996-04-01</td>\n",
       "      <td>235700.0</td>\n",
       "      <td>Dallas-Fort Worth TX</td>\n",
       "    </tr>\n",
       "    <tr>\n",
       "      <td>2</td>\n",
       "      <td>77494</td>\n",
       "      <td>Katy</td>\n",
       "      <td>TX</td>\n",
       "      <td>Houston</td>\n",
       "      <td>Harris</td>\n",
       "      <td>3</td>\n",
       "      <td>1996-04-01</td>\n",
       "      <td>210400.0</td>\n",
       "      <td>Houston TX</td>\n",
       "    </tr>\n",
       "    <tr>\n",
       "      <td>3</td>\n",
       "      <td>60614</td>\n",
       "      <td>Chicago</td>\n",
       "      <td>IL</td>\n",
       "      <td>Chicago</td>\n",
       "      <td>Cook</td>\n",
       "      <td>4</td>\n",
       "      <td>1996-04-01</td>\n",
       "      <td>498100.0</td>\n",
       "      <td>Chicago IL</td>\n",
       "    </tr>\n",
       "    <tr>\n",
       "      <td>4</td>\n",
       "      <td>79936</td>\n",
       "      <td>El Paso</td>\n",
       "      <td>TX</td>\n",
       "      <td>El Paso</td>\n",
       "      <td>El Paso</td>\n",
       "      <td>5</td>\n",
       "      <td>1996-04-01</td>\n",
       "      <td>77300.0</td>\n",
       "      <td>El Paso TX</td>\n",
       "    </tr>\n",
       "  </tbody>\n",
       "</table>\n",
       "</div>"
      ],
      "text/plain": [
       "     Zip      City State              Metro CountyName  SizeRank       time  \\\n",
       "0  60657   Chicago    IL            Chicago       Cook         1 1996-04-01   \n",
       "1  75070  McKinney    TX  Dallas-Fort Worth     Collin         2 1996-04-01   \n",
       "2  77494      Katy    TX            Houston     Harris         3 1996-04-01   \n",
       "3  60614   Chicago    IL            Chicago       Cook         4 1996-04-01   \n",
       "4  79936   El Paso    TX            El Paso    El Paso         5 1996-04-01   \n",
       "\n",
       "      value            MetroState  \n",
       "0  334200.0            Chicago IL  \n",
       "1  235700.0  Dallas-Fort Worth TX  \n",
       "2  210400.0            Houston TX  \n",
       "3  498100.0            Chicago IL  \n",
       "4   77300.0            El Paso TX  "
      ]
     },
     "execution_count": 28,
     "metadata": {},
     "output_type": "execute_result"
    }
   ],
   "source": [
    "df_melt.head()"
   ]
  },
  {
   "cell_type": "markdown",
   "metadata": {},
   "source": [
    "# Step 3A:  Exploratory Data Analysis--Creating dataframes of values by different geographic units"
   ]
  },
  {
   "cell_type": "markdown",
   "metadata": {},
   "source": [
    "## Creating US dataframes "
   ]
  },
  {
   "cell_type": "markdown",
   "metadata": {},
   "source": [
    "### Creating df_metro (US metro df) with monthly values by Zip"
   ]
  },
  {
   "cell_type": "code",
   "execution_count": 29,
   "metadata": {},
   "outputs": [],
   "source": [
    "df_melt.set_index('time', inplace=True)"
   ]
  },
  {
   "cell_type": "code",
   "execution_count": 30,
   "metadata": {
    "scrolled": true
   },
   "outputs": [
    {
     "data": {
      "text/html": [
       "<div>\n",
       "<style scoped>\n",
       "    .dataframe tbody tr th:only-of-type {\n",
       "        vertical-align: middle;\n",
       "    }\n",
       "\n",
       "    .dataframe tbody tr th {\n",
       "        vertical-align: top;\n",
       "    }\n",
       "\n",
       "    .dataframe thead th {\n",
       "        text-align: right;\n",
       "    }\n",
       "</style>\n",
       "<table border=\"1\" class=\"dataframe\">\n",
       "  <thead>\n",
       "    <tr style=\"text-align: right;\">\n",
       "      <th></th>\n",
       "      <th>Zip</th>\n",
       "      <th>City</th>\n",
       "      <th>State</th>\n",
       "      <th>Metro</th>\n",
       "      <th>CountyName</th>\n",
       "      <th>SizeRank</th>\n",
       "      <th>value</th>\n",
       "      <th>MetroState</th>\n",
       "    </tr>\n",
       "    <tr>\n",
       "      <th>time</th>\n",
       "      <th></th>\n",
       "      <th></th>\n",
       "      <th></th>\n",
       "      <th></th>\n",
       "      <th></th>\n",
       "      <th></th>\n",
       "      <th></th>\n",
       "      <th></th>\n",
       "    </tr>\n",
       "  </thead>\n",
       "  <tbody>\n",
       "    <tr>\n",
       "      <td>1996-04-01</td>\n",
       "      <td>60657</td>\n",
       "      <td>Chicago</td>\n",
       "      <td>IL</td>\n",
       "      <td>Chicago</td>\n",
       "      <td>Cook</td>\n",
       "      <td>1</td>\n",
       "      <td>334200.0</td>\n",
       "      <td>Chicago IL</td>\n",
       "    </tr>\n",
       "    <tr>\n",
       "      <td>1996-04-01</td>\n",
       "      <td>75070</td>\n",
       "      <td>McKinney</td>\n",
       "      <td>TX</td>\n",
       "      <td>Dallas-Fort Worth</td>\n",
       "      <td>Collin</td>\n",
       "      <td>2</td>\n",
       "      <td>235700.0</td>\n",
       "      <td>Dallas-Fort Worth TX</td>\n",
       "    </tr>\n",
       "    <tr>\n",
       "      <td>1996-04-01</td>\n",
       "      <td>77494</td>\n",
       "      <td>Katy</td>\n",
       "      <td>TX</td>\n",
       "      <td>Houston</td>\n",
       "      <td>Harris</td>\n",
       "      <td>3</td>\n",
       "      <td>210400.0</td>\n",
       "      <td>Houston TX</td>\n",
       "    </tr>\n",
       "    <tr>\n",
       "      <td>1996-04-01</td>\n",
       "      <td>60614</td>\n",
       "      <td>Chicago</td>\n",
       "      <td>IL</td>\n",
       "      <td>Chicago</td>\n",
       "      <td>Cook</td>\n",
       "      <td>4</td>\n",
       "      <td>498100.0</td>\n",
       "      <td>Chicago IL</td>\n",
       "    </tr>\n",
       "    <tr>\n",
       "      <td>1996-04-01</td>\n",
       "      <td>79936</td>\n",
       "      <td>El Paso</td>\n",
       "      <td>TX</td>\n",
       "      <td>El Paso</td>\n",
       "      <td>El Paso</td>\n",
       "      <td>5</td>\n",
       "      <td>77300.0</td>\n",
       "      <td>El Paso TX</td>\n",
       "    </tr>\n",
       "  </tbody>\n",
       "</table>\n",
       "</div>"
      ],
      "text/plain": [
       "              Zip      City State              Metro CountyName  SizeRank  \\\n",
       "time                                                                        \n",
       "1996-04-01  60657   Chicago    IL            Chicago       Cook         1   \n",
       "1996-04-01  75070  McKinney    TX  Dallas-Fort Worth     Collin         2   \n",
       "1996-04-01  77494      Katy    TX            Houston     Harris         3   \n",
       "1996-04-01  60614   Chicago    IL            Chicago       Cook         4   \n",
       "1996-04-01  79936   El Paso    TX            El Paso    El Paso         5   \n",
       "\n",
       "               value            MetroState  \n",
       "time                                        \n",
       "1996-04-01  334200.0            Chicago IL  \n",
       "1996-04-01  235700.0  Dallas-Fort Worth TX  \n",
       "1996-04-01  210400.0            Houston TX  \n",
       "1996-04-01  498100.0            Chicago IL  \n",
       "1996-04-01   77300.0            El Paso TX  "
      ]
     },
     "execution_count": 30,
     "metadata": {},
     "output_type": "execute_result"
    }
   ],
   "source": [
    "df_melt.head()"
   ]
  },
  {
   "cell_type": "markdown",
   "metadata": {},
   "source": [
    "Note:  the dataframe is sorted by zipcode SizeRank by default.  "
   ]
  },
  {
   "cell_type": "code",
   "execution_count": 31,
   "metadata": {},
   "outputs": [],
   "source": [
    "df_metro = df_melt.groupby(['Metro', 'MetroState', 'CountyName', 'City', 'Zip', 'time']).mean().reset_index()\n"
   ]
  },
  {
   "cell_type": "code",
   "execution_count": 32,
   "metadata": {
    "scrolled": true
   },
   "outputs": [
    {
     "data": {
      "text/html": [
       "<div>\n",
       "<style scoped>\n",
       "    .dataframe tbody tr th:only-of-type {\n",
       "        vertical-align: middle;\n",
       "    }\n",
       "\n",
       "    .dataframe tbody tr th {\n",
       "        vertical-align: top;\n",
       "    }\n",
       "\n",
       "    .dataframe thead th {\n",
       "        text-align: right;\n",
       "    }\n",
       "</style>\n",
       "<table border=\"1\" class=\"dataframe\">\n",
       "  <thead>\n",
       "    <tr style=\"text-align: right;\">\n",
       "      <th></th>\n",
       "      <th>Metro</th>\n",
       "      <th>MetroState</th>\n",
       "      <th>CountyName</th>\n",
       "      <th>City</th>\n",
       "      <th>Zip</th>\n",
       "      <th>time</th>\n",
       "      <th>SizeRank</th>\n",
       "      <th>value</th>\n",
       "    </tr>\n",
       "  </thead>\n",
       "  <tbody>\n",
       "    <tr>\n",
       "      <td>0</td>\n",
       "      <td>Aberdeen</td>\n",
       "      <td>Aberdeen WA</td>\n",
       "      <td>Grays Harbor</td>\n",
       "      <td>Aberdeen</td>\n",
       "      <td>98520</td>\n",
       "      <td>1996-04-01</td>\n",
       "      <td>5029</td>\n",
       "      <td>86600.0</td>\n",
       "    </tr>\n",
       "    <tr>\n",
       "      <td>1</td>\n",
       "      <td>Aberdeen</td>\n",
       "      <td>Aberdeen WA</td>\n",
       "      <td>Grays Harbor</td>\n",
       "      <td>Aberdeen</td>\n",
       "      <td>98520</td>\n",
       "      <td>1996-05-01</td>\n",
       "      <td>5029</td>\n",
       "      <td>86300.0</td>\n",
       "    </tr>\n",
       "    <tr>\n",
       "      <td>2</td>\n",
       "      <td>Aberdeen</td>\n",
       "      <td>Aberdeen WA</td>\n",
       "      <td>Grays Harbor</td>\n",
       "      <td>Aberdeen</td>\n",
       "      <td>98520</td>\n",
       "      <td>1996-06-01</td>\n",
       "      <td>5029</td>\n",
       "      <td>86100.0</td>\n",
       "    </tr>\n",
       "    <tr>\n",
       "      <td>3</td>\n",
       "      <td>Aberdeen</td>\n",
       "      <td>Aberdeen WA</td>\n",
       "      <td>Grays Harbor</td>\n",
       "      <td>Aberdeen</td>\n",
       "      <td>98520</td>\n",
       "      <td>1996-07-01</td>\n",
       "      <td>5029</td>\n",
       "      <td>85900.0</td>\n",
       "    </tr>\n",
       "    <tr>\n",
       "      <td>4</td>\n",
       "      <td>Aberdeen</td>\n",
       "      <td>Aberdeen WA</td>\n",
       "      <td>Grays Harbor</td>\n",
       "      <td>Aberdeen</td>\n",
       "      <td>98520</td>\n",
       "      <td>1996-08-01</td>\n",
       "      <td>5029</td>\n",
       "      <td>85700.0</td>\n",
       "    </tr>\n",
       "    <tr>\n",
       "      <td>5</td>\n",
       "      <td>Aberdeen</td>\n",
       "      <td>Aberdeen WA</td>\n",
       "      <td>Grays Harbor</td>\n",
       "      <td>Aberdeen</td>\n",
       "      <td>98520</td>\n",
       "      <td>1996-09-01</td>\n",
       "      <td>5029</td>\n",
       "      <td>85600.0</td>\n",
       "    </tr>\n",
       "    <tr>\n",
       "      <td>6</td>\n",
       "      <td>Aberdeen</td>\n",
       "      <td>Aberdeen WA</td>\n",
       "      <td>Grays Harbor</td>\n",
       "      <td>Aberdeen</td>\n",
       "      <td>98520</td>\n",
       "      <td>1996-10-01</td>\n",
       "      <td>5029</td>\n",
       "      <td>85600.0</td>\n",
       "    </tr>\n",
       "    <tr>\n",
       "      <td>7</td>\n",
       "      <td>Aberdeen</td>\n",
       "      <td>Aberdeen WA</td>\n",
       "      <td>Grays Harbor</td>\n",
       "      <td>Aberdeen</td>\n",
       "      <td>98520</td>\n",
       "      <td>1996-11-01</td>\n",
       "      <td>5029</td>\n",
       "      <td>85700.0</td>\n",
       "    </tr>\n",
       "    <tr>\n",
       "      <td>8</td>\n",
       "      <td>Aberdeen</td>\n",
       "      <td>Aberdeen WA</td>\n",
       "      <td>Grays Harbor</td>\n",
       "      <td>Aberdeen</td>\n",
       "      <td>98520</td>\n",
       "      <td>1996-12-01</td>\n",
       "      <td>5029</td>\n",
       "      <td>85800.0</td>\n",
       "    </tr>\n",
       "    <tr>\n",
       "      <td>9</td>\n",
       "      <td>Aberdeen</td>\n",
       "      <td>Aberdeen WA</td>\n",
       "      <td>Grays Harbor</td>\n",
       "      <td>Aberdeen</td>\n",
       "      <td>98520</td>\n",
       "      <td>1997-01-01</td>\n",
       "      <td>5029</td>\n",
       "      <td>85900.0</td>\n",
       "    </tr>\n",
       "  </tbody>\n",
       "</table>\n",
       "</div>"
      ],
      "text/plain": [
       "      Metro   MetroState    CountyName      City    Zip       time  SizeRank  \\\n",
       "0  Aberdeen  Aberdeen WA  Grays Harbor  Aberdeen  98520 1996-04-01      5029   \n",
       "1  Aberdeen  Aberdeen WA  Grays Harbor  Aberdeen  98520 1996-05-01      5029   \n",
       "2  Aberdeen  Aberdeen WA  Grays Harbor  Aberdeen  98520 1996-06-01      5029   \n",
       "3  Aberdeen  Aberdeen WA  Grays Harbor  Aberdeen  98520 1996-07-01      5029   \n",
       "4  Aberdeen  Aberdeen WA  Grays Harbor  Aberdeen  98520 1996-08-01      5029   \n",
       "5  Aberdeen  Aberdeen WA  Grays Harbor  Aberdeen  98520 1996-09-01      5029   \n",
       "6  Aberdeen  Aberdeen WA  Grays Harbor  Aberdeen  98520 1996-10-01      5029   \n",
       "7  Aberdeen  Aberdeen WA  Grays Harbor  Aberdeen  98520 1996-11-01      5029   \n",
       "8  Aberdeen  Aberdeen WA  Grays Harbor  Aberdeen  98520 1996-12-01      5029   \n",
       "9  Aberdeen  Aberdeen WA  Grays Harbor  Aberdeen  98520 1997-01-01      5029   \n",
       "\n",
       "     value  \n",
       "0  86600.0  \n",
       "1  86300.0  \n",
       "2  86100.0  \n",
       "3  85900.0  \n",
       "4  85700.0  \n",
       "5  85600.0  \n",
       "6  85600.0  \n",
       "7  85700.0  \n",
       "8  85800.0  \n",
       "9  85900.0  "
      ]
     },
     "execution_count": 32,
     "metadata": {},
     "output_type": "execute_result"
    }
   ],
   "source": [
    "df_metro.head(10)"
   ]
  },
  {
   "cell_type": "code",
   "execution_count": 33,
   "metadata": {},
   "outputs": [
    {
     "name": "stdout",
     "output_type": "stream",
     "text": [
      "<class 'pandas.core.frame.DataFrame'>\n",
      "RangeIndex: 3744704 entries, 0 to 3744703\n",
      "Data columns (total 8 columns):\n",
      "Metro         object\n",
      "MetroState    object\n",
      "CountyName    object\n",
      "City          object\n",
      "Zip           object\n",
      "time          datetime64[ns]\n",
      "SizeRank      int64\n",
      "value         float64\n",
      "dtypes: datetime64[ns](1), float64(1), int64(1), object(5)\n",
      "memory usage: 228.6+ MB\n"
     ]
    }
   ],
   "source": [
    "df_metro.info()"
   ]
  },
  {
   "cell_type": "code",
   "execution_count": 34,
   "metadata": {},
   "outputs": [],
   "source": [
    "df_metro.set_index('time', inplace=True)"
   ]
  },
  {
   "cell_type": "code",
   "execution_count": 35,
   "metadata": {},
   "outputs": [
    {
     "data": {
      "text/html": [
       "<div>\n",
       "<style scoped>\n",
       "    .dataframe tbody tr th:only-of-type {\n",
       "        vertical-align: middle;\n",
       "    }\n",
       "\n",
       "    .dataframe tbody tr th {\n",
       "        vertical-align: top;\n",
       "    }\n",
       "\n",
       "    .dataframe thead th {\n",
       "        text-align: right;\n",
       "    }\n",
       "</style>\n",
       "<table border=\"1\" class=\"dataframe\">\n",
       "  <thead>\n",
       "    <tr style=\"text-align: right;\">\n",
       "      <th></th>\n",
       "      <th>Metro</th>\n",
       "      <th>MetroState</th>\n",
       "      <th>CountyName</th>\n",
       "      <th>City</th>\n",
       "      <th>Zip</th>\n",
       "      <th>SizeRank</th>\n",
       "      <th>value</th>\n",
       "    </tr>\n",
       "    <tr>\n",
       "      <th>time</th>\n",
       "      <th></th>\n",
       "      <th></th>\n",
       "      <th></th>\n",
       "      <th></th>\n",
       "      <th></th>\n",
       "      <th></th>\n",
       "      <th></th>\n",
       "    </tr>\n",
       "  </thead>\n",
       "  <tbody>\n",
       "    <tr>\n",
       "      <td>1996-04-01</td>\n",
       "      <td>Aberdeen</td>\n",
       "      <td>Aberdeen WA</td>\n",
       "      <td>Grays Harbor</td>\n",
       "      <td>Aberdeen</td>\n",
       "      <td>98520</td>\n",
       "      <td>5029</td>\n",
       "      <td>86600.0</td>\n",
       "    </tr>\n",
       "    <tr>\n",
       "      <td>1996-05-01</td>\n",
       "      <td>Aberdeen</td>\n",
       "      <td>Aberdeen WA</td>\n",
       "      <td>Grays Harbor</td>\n",
       "      <td>Aberdeen</td>\n",
       "      <td>98520</td>\n",
       "      <td>5029</td>\n",
       "      <td>86300.0</td>\n",
       "    </tr>\n",
       "    <tr>\n",
       "      <td>1996-06-01</td>\n",
       "      <td>Aberdeen</td>\n",
       "      <td>Aberdeen WA</td>\n",
       "      <td>Grays Harbor</td>\n",
       "      <td>Aberdeen</td>\n",
       "      <td>98520</td>\n",
       "      <td>5029</td>\n",
       "      <td>86100.0</td>\n",
       "    </tr>\n",
       "    <tr>\n",
       "      <td>1996-07-01</td>\n",
       "      <td>Aberdeen</td>\n",
       "      <td>Aberdeen WA</td>\n",
       "      <td>Grays Harbor</td>\n",
       "      <td>Aberdeen</td>\n",
       "      <td>98520</td>\n",
       "      <td>5029</td>\n",
       "      <td>85900.0</td>\n",
       "    </tr>\n",
       "    <tr>\n",
       "      <td>1996-08-01</td>\n",
       "      <td>Aberdeen</td>\n",
       "      <td>Aberdeen WA</td>\n",
       "      <td>Grays Harbor</td>\n",
       "      <td>Aberdeen</td>\n",
       "      <td>98520</td>\n",
       "      <td>5029</td>\n",
       "      <td>85700.0</td>\n",
       "    </tr>\n",
       "  </tbody>\n",
       "</table>\n",
       "</div>"
      ],
      "text/plain": [
       "               Metro   MetroState    CountyName      City    Zip  SizeRank  \\\n",
       "time                                                                         \n",
       "1996-04-01  Aberdeen  Aberdeen WA  Grays Harbor  Aberdeen  98520      5029   \n",
       "1996-05-01  Aberdeen  Aberdeen WA  Grays Harbor  Aberdeen  98520      5029   \n",
       "1996-06-01  Aberdeen  Aberdeen WA  Grays Harbor  Aberdeen  98520      5029   \n",
       "1996-07-01  Aberdeen  Aberdeen WA  Grays Harbor  Aberdeen  98520      5029   \n",
       "1996-08-01  Aberdeen  Aberdeen WA  Grays Harbor  Aberdeen  98520      5029   \n",
       "\n",
       "              value  \n",
       "time                 \n",
       "1996-04-01  86600.0  \n",
       "1996-05-01  86300.0  \n",
       "1996-06-01  86100.0  \n",
       "1996-07-01  85900.0  \n",
       "1996-08-01  85700.0  "
      ]
     },
     "execution_count": 35,
     "metadata": {},
     "output_type": "execute_result"
    }
   ],
   "source": [
    "df_metro.head()"
   ]
  },
  {
   "cell_type": "code",
   "execution_count": 36,
   "metadata": {
    "scrolled": false
   },
   "outputs": [
    {
     "data": {
      "text/plain": [
       "Metro           702\n",
       "MetroState      865\n",
       "CountyName     1212\n",
       "City           7554\n",
       "Zip           14723\n",
       "SizeRank      14723\n",
       "value         24372\n",
       "dtype: int64"
      ]
     },
     "execution_count": 36,
     "metadata": {},
     "output_type": "execute_result"
    }
   ],
   "source": [
    "df_metro.nunique()"
   ]
  },
  {
   "cell_type": "markdown",
   "metadata": {},
   "source": [
    "### Creating df_metro_cities (US Metros df with *City* mean values)"
   ]
  },
  {
   "cell_type": "code",
   "execution_count": 37,
   "metadata": {},
   "outputs": [],
   "source": [
    "df_metro_cities = df_metro.groupby(['MetroState', 'CountyName', 'City', 'time']).mean().reset_index()"
   ]
  },
  {
   "cell_type": "code",
   "execution_count": 38,
   "metadata": {
    "scrolled": false
   },
   "outputs": [
    {
     "data": {
      "text/html": [
       "<div>\n",
       "<style scoped>\n",
       "    .dataframe tbody tr th:only-of-type {\n",
       "        vertical-align: middle;\n",
       "    }\n",
       "\n",
       "    .dataframe tbody tr th {\n",
       "        vertical-align: top;\n",
       "    }\n",
       "\n",
       "    .dataframe thead th {\n",
       "        text-align: right;\n",
       "    }\n",
       "</style>\n",
       "<table border=\"1\" class=\"dataframe\">\n",
       "  <thead>\n",
       "    <tr style=\"text-align: right;\">\n",
       "      <th></th>\n",
       "      <th>MetroState</th>\n",
       "      <th>CountyName</th>\n",
       "      <th>City</th>\n",
       "      <th>time</th>\n",
       "      <th>SizeRank</th>\n",
       "      <th>value</th>\n",
       "    </tr>\n",
       "  </thead>\n",
       "  <tbody>\n",
       "    <tr>\n",
       "      <td>0</td>\n",
       "      <td>Aberdeen WA</td>\n",
       "      <td>Grays Harbor</td>\n",
       "      <td>Aberdeen</td>\n",
       "      <td>1996-04-01</td>\n",
       "      <td>5029.0</td>\n",
       "      <td>86600.0</td>\n",
       "    </tr>\n",
       "    <tr>\n",
       "      <td>1</td>\n",
       "      <td>Aberdeen WA</td>\n",
       "      <td>Grays Harbor</td>\n",
       "      <td>Aberdeen</td>\n",
       "      <td>1996-05-01</td>\n",
       "      <td>5029.0</td>\n",
       "      <td>86300.0</td>\n",
       "    </tr>\n",
       "    <tr>\n",
       "      <td>2</td>\n",
       "      <td>Aberdeen WA</td>\n",
       "      <td>Grays Harbor</td>\n",
       "      <td>Aberdeen</td>\n",
       "      <td>1996-06-01</td>\n",
       "      <td>5029.0</td>\n",
       "      <td>86100.0</td>\n",
       "    </tr>\n",
       "    <tr>\n",
       "      <td>3</td>\n",
       "      <td>Aberdeen WA</td>\n",
       "      <td>Grays Harbor</td>\n",
       "      <td>Aberdeen</td>\n",
       "      <td>1996-07-01</td>\n",
       "      <td>5029.0</td>\n",
       "      <td>85900.0</td>\n",
       "    </tr>\n",
       "    <tr>\n",
       "      <td>4</td>\n",
       "      <td>Aberdeen WA</td>\n",
       "      <td>Grays Harbor</td>\n",
       "      <td>Aberdeen</td>\n",
       "      <td>1996-08-01</td>\n",
       "      <td>5029.0</td>\n",
       "      <td>85700.0</td>\n",
       "    </tr>\n",
       "    <tr>\n",
       "      <td>5</td>\n",
       "      <td>Aberdeen WA</td>\n",
       "      <td>Grays Harbor</td>\n",
       "      <td>Aberdeen</td>\n",
       "      <td>1996-09-01</td>\n",
       "      <td>5029.0</td>\n",
       "      <td>85600.0</td>\n",
       "    </tr>\n",
       "    <tr>\n",
       "      <td>6</td>\n",
       "      <td>Aberdeen WA</td>\n",
       "      <td>Grays Harbor</td>\n",
       "      <td>Aberdeen</td>\n",
       "      <td>1996-10-01</td>\n",
       "      <td>5029.0</td>\n",
       "      <td>85600.0</td>\n",
       "    </tr>\n",
       "    <tr>\n",
       "      <td>7</td>\n",
       "      <td>Aberdeen WA</td>\n",
       "      <td>Grays Harbor</td>\n",
       "      <td>Aberdeen</td>\n",
       "      <td>1996-11-01</td>\n",
       "      <td>5029.0</td>\n",
       "      <td>85700.0</td>\n",
       "    </tr>\n",
       "    <tr>\n",
       "      <td>8</td>\n",
       "      <td>Aberdeen WA</td>\n",
       "      <td>Grays Harbor</td>\n",
       "      <td>Aberdeen</td>\n",
       "      <td>1996-12-01</td>\n",
       "      <td>5029.0</td>\n",
       "      <td>85800.0</td>\n",
       "    </tr>\n",
       "    <tr>\n",
       "      <td>9</td>\n",
       "      <td>Aberdeen WA</td>\n",
       "      <td>Grays Harbor</td>\n",
       "      <td>Aberdeen</td>\n",
       "      <td>1997-01-01</td>\n",
       "      <td>5029.0</td>\n",
       "      <td>85900.0</td>\n",
       "    </tr>\n",
       "  </tbody>\n",
       "</table>\n",
       "</div>"
      ],
      "text/plain": [
       "    MetroState    CountyName      City       time  SizeRank    value\n",
       "0  Aberdeen WA  Grays Harbor  Aberdeen 1996-04-01    5029.0  86600.0\n",
       "1  Aberdeen WA  Grays Harbor  Aberdeen 1996-05-01    5029.0  86300.0\n",
       "2  Aberdeen WA  Grays Harbor  Aberdeen 1996-06-01    5029.0  86100.0\n",
       "3  Aberdeen WA  Grays Harbor  Aberdeen 1996-07-01    5029.0  85900.0\n",
       "4  Aberdeen WA  Grays Harbor  Aberdeen 1996-08-01    5029.0  85700.0\n",
       "5  Aberdeen WA  Grays Harbor  Aberdeen 1996-09-01    5029.0  85600.0\n",
       "6  Aberdeen WA  Grays Harbor  Aberdeen 1996-10-01    5029.0  85600.0\n",
       "7  Aberdeen WA  Grays Harbor  Aberdeen 1996-11-01    5029.0  85700.0\n",
       "8  Aberdeen WA  Grays Harbor  Aberdeen 1996-12-01    5029.0  85800.0\n",
       "9  Aberdeen WA  Grays Harbor  Aberdeen 1997-01-01    5029.0  85900.0"
      ]
     },
     "execution_count": 38,
     "metadata": {},
     "output_type": "execute_result"
    }
   ],
   "source": [
    "df_metro_cities.head(10)"
   ]
  },
  {
   "cell_type": "code",
   "execution_count": 39,
   "metadata": {},
   "outputs": [],
   "source": [
    "df_metro_cities.set_index('time', inplace=True)"
   ]
  },
  {
   "cell_type": "code",
   "execution_count": 40,
   "metadata": {},
   "outputs": [],
   "source": [
    "df_metro_cities.drop('SizeRank', axis=1, inplace=True)"
   ]
  },
  {
   "cell_type": "code",
   "execution_count": 41,
   "metadata": {},
   "outputs": [
    {
     "data": {
      "text/html": [
       "<div>\n",
       "<style scoped>\n",
       "    .dataframe tbody tr th:only-of-type {\n",
       "        vertical-align: middle;\n",
       "    }\n",
       "\n",
       "    .dataframe tbody tr th {\n",
       "        vertical-align: top;\n",
       "    }\n",
       "\n",
       "    .dataframe thead th {\n",
       "        text-align: right;\n",
       "    }\n",
       "</style>\n",
       "<table border=\"1\" class=\"dataframe\">\n",
       "  <thead>\n",
       "    <tr style=\"text-align: right;\">\n",
       "      <th></th>\n",
       "      <th>MetroState</th>\n",
       "      <th>CountyName</th>\n",
       "      <th>City</th>\n",
       "      <th>value</th>\n",
       "    </tr>\n",
       "    <tr>\n",
       "      <th>time</th>\n",
       "      <th></th>\n",
       "      <th></th>\n",
       "      <th></th>\n",
       "      <th></th>\n",
       "    </tr>\n",
       "  </thead>\n",
       "  <tbody>\n",
       "    <tr>\n",
       "      <td>1996-04-01</td>\n",
       "      <td>Aberdeen WA</td>\n",
       "      <td>Grays Harbor</td>\n",
       "      <td>Aberdeen</td>\n",
       "      <td>86600.0</td>\n",
       "    </tr>\n",
       "    <tr>\n",
       "      <td>1996-05-01</td>\n",
       "      <td>Aberdeen WA</td>\n",
       "      <td>Grays Harbor</td>\n",
       "      <td>Aberdeen</td>\n",
       "      <td>86300.0</td>\n",
       "    </tr>\n",
       "    <tr>\n",
       "      <td>1996-06-01</td>\n",
       "      <td>Aberdeen WA</td>\n",
       "      <td>Grays Harbor</td>\n",
       "      <td>Aberdeen</td>\n",
       "      <td>86100.0</td>\n",
       "    </tr>\n",
       "    <tr>\n",
       "      <td>1996-07-01</td>\n",
       "      <td>Aberdeen WA</td>\n",
       "      <td>Grays Harbor</td>\n",
       "      <td>Aberdeen</td>\n",
       "      <td>85900.0</td>\n",
       "    </tr>\n",
       "    <tr>\n",
       "      <td>1996-08-01</td>\n",
       "      <td>Aberdeen WA</td>\n",
       "      <td>Grays Harbor</td>\n",
       "      <td>Aberdeen</td>\n",
       "      <td>85700.0</td>\n",
       "    </tr>\n",
       "  </tbody>\n",
       "</table>\n",
       "</div>"
      ],
      "text/plain": [
       "             MetroState    CountyName      City    value\n",
       "time                                                    \n",
       "1996-04-01  Aberdeen WA  Grays Harbor  Aberdeen  86600.0\n",
       "1996-05-01  Aberdeen WA  Grays Harbor  Aberdeen  86300.0\n",
       "1996-06-01  Aberdeen WA  Grays Harbor  Aberdeen  86100.0\n",
       "1996-07-01  Aberdeen WA  Grays Harbor  Aberdeen  85900.0\n",
       "1996-08-01  Aberdeen WA  Grays Harbor  Aberdeen  85700.0"
      ]
     },
     "execution_count": 41,
     "metadata": {},
     "output_type": "execute_result"
    }
   ],
   "source": [
    "df_metro_cities.head()"
   ]
  },
  {
   "cell_type": "code",
   "execution_count": 42,
   "metadata": {},
   "outputs": [
    {
     "data": {
      "text/plain": [
       "MetroState      865\n",
       "CountyName     1212\n",
       "City           7554\n",
       "value         83532\n",
       "dtype: int64"
      ]
     },
     "execution_count": 42,
     "metadata": {},
     "output_type": "execute_result"
    }
   ],
   "source": [
    "df_metro_cities.nunique()"
   ]
  },
  {
   "cell_type": "code",
   "execution_count": 43,
   "metadata": {},
   "outputs": [
    {
     "data": {
      "text/plain": [
       "865"
      ]
     },
     "execution_count": 43,
     "metadata": {},
     "output_type": "execute_result"
    }
   ],
   "source": [
    "df_metro_cities.MetroState.nunique()"
   ]
  },
  {
   "cell_type": "code",
   "execution_count": 44,
   "metadata": {},
   "outputs": [
    {
     "data": {
      "text/plain": [
       "pandas.core.series.Series"
      ]
     },
     "execution_count": 44,
     "metadata": {},
     "output_type": "execute_result"
    }
   ],
   "source": [
    "type(df_metro_cities.MetroState)"
   ]
  },
  {
   "cell_type": "code",
   "execution_count": 45,
   "metadata": {},
   "outputs": [
    {
     "data": {
      "text/plain": [
       "2659069"
      ]
     },
     "execution_count": 45,
     "metadata": {},
     "output_type": "execute_result"
    }
   ],
   "source": [
    "df_metro_cities.MetroState.count()"
   ]
  },
  {
   "cell_type": "markdown",
   "metadata": {},
   "source": [
    "### Creating df_metro_values (US Metros df with *Metro* mean values)"
   ]
  },
  {
   "cell_type": "code",
   "execution_count": 46,
   "metadata": {},
   "outputs": [],
   "source": [
    "df_metro_values = df_melt.groupby(['MetroState', 'State', 'time']).mean().reset_index()"
   ]
  },
  {
   "cell_type": "code",
   "execution_count": 47,
   "metadata": {
    "scrolled": false
   },
   "outputs": [
    {
     "data": {
      "text/html": [
       "<div>\n",
       "<style scoped>\n",
       "    .dataframe tbody tr th:only-of-type {\n",
       "        vertical-align: middle;\n",
       "    }\n",
       "\n",
       "    .dataframe tbody tr th {\n",
       "        vertical-align: top;\n",
       "    }\n",
       "\n",
       "    .dataframe thead th {\n",
       "        text-align: right;\n",
       "    }\n",
       "</style>\n",
       "<table border=\"1\" class=\"dataframe\">\n",
       "  <thead>\n",
       "    <tr style=\"text-align: right;\">\n",
       "      <th></th>\n",
       "      <th>MetroState</th>\n",
       "      <th>State</th>\n",
       "      <th>time</th>\n",
       "      <th>SizeRank</th>\n",
       "      <th>value</th>\n",
       "    </tr>\n",
       "  </thead>\n",
       "  <tbody>\n",
       "    <tr>\n",
       "      <td>0</td>\n",
       "      <td>Aberdeen WA</td>\n",
       "      <td>WA</td>\n",
       "      <td>1996-04-01</td>\n",
       "      <td>10259.5</td>\n",
       "      <td>95910.0</td>\n",
       "    </tr>\n",
       "    <tr>\n",
       "      <td>1</td>\n",
       "      <td>Aberdeen WA</td>\n",
       "      <td>WA</td>\n",
       "      <td>1996-05-01</td>\n",
       "      <td>10259.5</td>\n",
       "      <td>95840.0</td>\n",
       "    </tr>\n",
       "    <tr>\n",
       "      <td>2</td>\n",
       "      <td>Aberdeen WA</td>\n",
       "      <td>WA</td>\n",
       "      <td>1996-06-01</td>\n",
       "      <td>10259.5</td>\n",
       "      <td>95800.0</td>\n",
       "    </tr>\n",
       "    <tr>\n",
       "      <td>3</td>\n",
       "      <td>Aberdeen WA</td>\n",
       "      <td>WA</td>\n",
       "      <td>1996-07-01</td>\n",
       "      <td>10259.5</td>\n",
       "      <td>95760.0</td>\n",
       "    </tr>\n",
       "    <tr>\n",
       "      <td>4</td>\n",
       "      <td>Aberdeen WA</td>\n",
       "      <td>WA</td>\n",
       "      <td>1996-08-01</td>\n",
       "      <td>10259.5</td>\n",
       "      <td>95710.0</td>\n",
       "    </tr>\n",
       "  </tbody>\n",
       "</table>\n",
       "</div>"
      ],
      "text/plain": [
       "    MetroState State       time  SizeRank    value\n",
       "0  Aberdeen WA    WA 1996-04-01   10259.5  95910.0\n",
       "1  Aberdeen WA    WA 1996-05-01   10259.5  95840.0\n",
       "2  Aberdeen WA    WA 1996-06-01   10259.5  95800.0\n",
       "3  Aberdeen WA    WA 1996-07-01   10259.5  95760.0\n",
       "4  Aberdeen WA    WA 1996-08-01   10259.5  95710.0"
      ]
     },
     "execution_count": 47,
     "metadata": {},
     "output_type": "execute_result"
    }
   ],
   "source": [
    "df_metro_values.head()"
   ]
  },
  {
   "cell_type": "code",
   "execution_count": 48,
   "metadata": {},
   "outputs": [],
   "source": [
    "df_metro_values = df_metro_values.set_index('time')"
   ]
  },
  {
   "cell_type": "code",
   "execution_count": 49,
   "metadata": {},
   "outputs": [],
   "source": [
    "df_metro_values.drop('SizeRank', axis=1, inplace=True)"
   ]
  },
  {
   "cell_type": "code",
   "execution_count": 50,
   "metadata": {},
   "outputs": [
    {
     "data": {
      "text/html": [
       "<div>\n",
       "<style scoped>\n",
       "    .dataframe tbody tr th:only-of-type {\n",
       "        vertical-align: middle;\n",
       "    }\n",
       "\n",
       "    .dataframe tbody tr th {\n",
       "        vertical-align: top;\n",
       "    }\n",
       "\n",
       "    .dataframe thead th {\n",
       "        text-align: right;\n",
       "    }\n",
       "</style>\n",
       "<table border=\"1\" class=\"dataframe\">\n",
       "  <thead>\n",
       "    <tr style=\"text-align: right;\">\n",
       "      <th></th>\n",
       "      <th>MetroState</th>\n",
       "      <th>State</th>\n",
       "      <th>value</th>\n",
       "    </tr>\n",
       "    <tr>\n",
       "      <th>time</th>\n",
       "      <th></th>\n",
       "      <th></th>\n",
       "      <th></th>\n",
       "    </tr>\n",
       "  </thead>\n",
       "  <tbody>\n",
       "    <tr>\n",
       "      <td>1996-04-01</td>\n",
       "      <td>Aberdeen WA</td>\n",
       "      <td>WA</td>\n",
       "      <td>95910.0</td>\n",
       "    </tr>\n",
       "    <tr>\n",
       "      <td>1996-05-01</td>\n",
       "      <td>Aberdeen WA</td>\n",
       "      <td>WA</td>\n",
       "      <td>95840.0</td>\n",
       "    </tr>\n",
       "    <tr>\n",
       "      <td>1996-06-01</td>\n",
       "      <td>Aberdeen WA</td>\n",
       "      <td>WA</td>\n",
       "      <td>95800.0</td>\n",
       "    </tr>\n",
       "    <tr>\n",
       "      <td>1996-07-01</td>\n",
       "      <td>Aberdeen WA</td>\n",
       "      <td>WA</td>\n",
       "      <td>95760.0</td>\n",
       "    </tr>\n",
       "    <tr>\n",
       "      <td>1996-08-01</td>\n",
       "      <td>Aberdeen WA</td>\n",
       "      <td>WA</td>\n",
       "      <td>95710.0</td>\n",
       "    </tr>\n",
       "  </tbody>\n",
       "</table>\n",
       "</div>"
      ],
      "text/plain": [
       "             MetroState State    value\n",
       "time                                  \n",
       "1996-04-01  Aberdeen WA    WA  95910.0\n",
       "1996-05-01  Aberdeen WA    WA  95840.0\n",
       "1996-06-01  Aberdeen WA    WA  95800.0\n",
       "1996-07-01  Aberdeen WA    WA  95760.0\n",
       "1996-08-01  Aberdeen WA    WA  95710.0"
      ]
     },
     "execution_count": 50,
     "metadata": {},
     "output_type": "execute_result"
    }
   ],
   "source": [
    "df_metro_values.head()"
   ]
  },
  {
   "cell_type": "code",
   "execution_count": 51,
   "metadata": {},
   "outputs": [
    {
     "data": {
      "text/plain": [
       "Lake Charles LA    265\n",
       "Jacksonville IL    265\n",
       "Savannah GA        265\n",
       "Coos Bay OR        265\n",
       "Fayetteville AR    265\n",
       "Name: MetroState, dtype: int64"
      ]
     },
     "execution_count": 51,
     "metadata": {},
     "output_type": "execute_result"
    }
   ],
   "source": [
    "df_metro_values.MetroState.value_counts().head()"
   ]
  },
  {
   "cell_type": "code",
   "execution_count": 52,
   "metadata": {},
   "outputs": [
    {
     "data": {
      "text/plain": [
       "MetroState       865\n",
       "State             51\n",
       "value         101543\n",
       "dtype: int64"
      ]
     },
     "execution_count": 52,
     "metadata": {},
     "output_type": "execute_result"
    }
   ],
   "source": [
    "df_metro_values.nunique()"
   ]
  },
  {
   "cell_type": "code",
   "execution_count": 53,
   "metadata": {
    "scrolled": true
   },
   "outputs": [
    {
     "name": "stdout",
     "output_type": "stream",
     "text": [
      "<class 'pandas.core.frame.DataFrame'>\n",
      "DatetimeIndex: 218935 entries, 1996-04-01 to 2018-04-01\n",
      "Data columns (total 3 columns):\n",
      "MetroState    218935 non-null object\n",
      "State         218935 non-null object\n",
      "value         218935 non-null float64\n",
      "dtypes: float64(1), object(2)\n",
      "memory usage: 6.7+ MB\n"
     ]
    }
   ],
   "source": [
    "df_metro_values.info()"
   ]
  },
  {
   "cell_type": "code",
   "execution_count": null,
   "metadata": {},
   "outputs": [],
   "source": []
  },
  {
   "cell_type": "markdown",
   "metadata": {},
   "source": [
    "## Function for creating a dataframe based on particular geographic unit (e.g., MetroState area, City, CountyName)"
   ]
  },
  {
   "cell_type": "code",
   "execution_count": 54,
   "metadata": {},
   "outputs": [],
   "source": [
    "# need to set df equal to dataframe with appropriate geographic grouping\n",
    "\n",
    "def df_geog(df=df_metro_cities, col = 'CountyName', geog = 'Yolo'):\n",
    "    # Create subset dataframe containing just the geographic unit (e.g., 'MetroState', 'City', etc.) area in question\n",
    "    df_metro_cities_geog = df_metro_cities.loc[df_metro_cities[col] == geog]\n",
    "    return df_metro_cities_geog\n",
    "  "
   ]
  },
  {
   "cell_type": "code",
   "execution_count": 55,
   "metadata": {
    "scrolled": false
   },
   "outputs": [
    {
     "data": {
      "text/html": [
       "<div>\n",
       "<style scoped>\n",
       "    .dataframe tbody tr th:only-of-type {\n",
       "        vertical-align: middle;\n",
       "    }\n",
       "\n",
       "    .dataframe tbody tr th {\n",
       "        vertical-align: top;\n",
       "    }\n",
       "\n",
       "    .dataframe thead th {\n",
       "        text-align: right;\n",
       "    }\n",
       "</style>\n",
       "<table border=\"1\" class=\"dataframe\">\n",
       "  <thead>\n",
       "    <tr style=\"text-align: right;\">\n",
       "      <th></th>\n",
       "      <th>MetroState</th>\n",
       "      <th>CountyName</th>\n",
       "      <th>City</th>\n",
       "      <th>value</th>\n",
       "    </tr>\n",
       "    <tr>\n",
       "      <th>time</th>\n",
       "      <th></th>\n",
       "      <th></th>\n",
       "      <th></th>\n",
       "      <th></th>\n",
       "    </tr>\n",
       "  </thead>\n",
       "  <tbody>\n",
       "    <tr>\n",
       "      <td>1996-04-01</td>\n",
       "      <td>Sacramento CA</td>\n",
       "      <td>Yolo</td>\n",
       "      <td>Davis</td>\n",
       "      <td>189100.0</td>\n",
       "    </tr>\n",
       "    <tr>\n",
       "      <td>1996-05-01</td>\n",
       "      <td>Sacramento CA</td>\n",
       "      <td>Yolo</td>\n",
       "      <td>Davis</td>\n",
       "      <td>189200.0</td>\n",
       "    </tr>\n",
       "    <tr>\n",
       "      <td>1996-06-01</td>\n",
       "      <td>Sacramento CA</td>\n",
       "      <td>Yolo</td>\n",
       "      <td>Davis</td>\n",
       "      <td>189350.0</td>\n",
       "    </tr>\n",
       "    <tr>\n",
       "      <td>1996-07-01</td>\n",
       "      <td>Sacramento CA</td>\n",
       "      <td>Yolo</td>\n",
       "      <td>Davis</td>\n",
       "      <td>189600.0</td>\n",
       "    </tr>\n",
       "    <tr>\n",
       "      <td>1996-08-01</td>\n",
       "      <td>Sacramento CA</td>\n",
       "      <td>Yolo</td>\n",
       "      <td>Davis</td>\n",
       "      <td>189900.0</td>\n",
       "    </tr>\n",
       "    <tr>\n",
       "      <td>...</td>\n",
       "      <td>...</td>\n",
       "      <td>...</td>\n",
       "      <td>...</td>\n",
       "      <td>...</td>\n",
       "    </tr>\n",
       "    <tr>\n",
       "      <td>2017-12-01</td>\n",
       "      <td>Sacramento CA</td>\n",
       "      <td>Yolo</td>\n",
       "      <td>Woodland</td>\n",
       "      <td>371400.0</td>\n",
       "    </tr>\n",
       "    <tr>\n",
       "      <td>2018-01-01</td>\n",
       "      <td>Sacramento CA</td>\n",
       "      <td>Yolo</td>\n",
       "      <td>Woodland</td>\n",
       "      <td>377350.0</td>\n",
       "    </tr>\n",
       "    <tr>\n",
       "      <td>2018-02-01</td>\n",
       "      <td>Sacramento CA</td>\n",
       "      <td>Yolo</td>\n",
       "      <td>Woodland</td>\n",
       "      <td>380150.0</td>\n",
       "    </tr>\n",
       "    <tr>\n",
       "      <td>2018-03-01</td>\n",
       "      <td>Sacramento CA</td>\n",
       "      <td>Yolo</td>\n",
       "      <td>Woodland</td>\n",
       "      <td>381000.0</td>\n",
       "    </tr>\n",
       "    <tr>\n",
       "      <td>2018-04-01</td>\n",
       "      <td>Sacramento CA</td>\n",
       "      <td>Yolo</td>\n",
       "      <td>Woodland</td>\n",
       "      <td>381000.0</td>\n",
       "    </tr>\n",
       "  </tbody>\n",
       "</table>\n",
       "<p>1325 rows × 4 columns</p>\n",
       "</div>"
      ],
      "text/plain": [
       "               MetroState CountyName      City     value\n",
       "time                                                    \n",
       "1996-04-01  Sacramento CA       Yolo     Davis  189100.0\n",
       "1996-05-01  Sacramento CA       Yolo     Davis  189200.0\n",
       "1996-06-01  Sacramento CA       Yolo     Davis  189350.0\n",
       "1996-07-01  Sacramento CA       Yolo     Davis  189600.0\n",
       "1996-08-01  Sacramento CA       Yolo     Davis  189900.0\n",
       "...                   ...        ...       ...       ...\n",
       "2017-12-01  Sacramento CA       Yolo  Woodland  371400.0\n",
       "2018-01-01  Sacramento CA       Yolo  Woodland  377350.0\n",
       "2018-02-01  Sacramento CA       Yolo  Woodland  380150.0\n",
       "2018-03-01  Sacramento CA       Yolo  Woodland  381000.0\n",
       "2018-04-01  Sacramento CA       Yolo  Woodland  381000.0\n",
       "\n",
       "[1325 rows x 4 columns]"
      ]
     },
     "execution_count": 55,
     "metadata": {},
     "output_type": "execute_result"
    }
   ],
   "source": [
    "df_geog()"
   ]
  },
  {
   "cell_type": "markdown",
   "metadata": {
    "heading_collapsed": true
   },
   "source": [
    "##### Example:  NYNY MetroState area, grouped by cities"
   ]
  },
  {
   "cell_type": "code",
   "execution_count": 56,
   "metadata": {
    "hidden": true
   },
   "outputs": [],
   "source": [
    "df_nyny_cities = df_geog(df=df_metro_cities, col = 'MetroState', geog = 'New York NY')\n"
   ]
  },
  {
   "cell_type": "code",
   "execution_count": 57,
   "metadata": {
    "hidden": true
   },
   "outputs": [
    {
     "data": {
      "text/html": [
       "<div>\n",
       "<style scoped>\n",
       "    .dataframe tbody tr th:only-of-type {\n",
       "        vertical-align: middle;\n",
       "    }\n",
       "\n",
       "    .dataframe tbody tr th {\n",
       "        vertical-align: top;\n",
       "    }\n",
       "\n",
       "    .dataframe thead th {\n",
       "        text-align: right;\n",
       "    }\n",
       "</style>\n",
       "<table border=\"1\" class=\"dataframe\">\n",
       "  <thead>\n",
       "    <tr style=\"text-align: right;\">\n",
       "      <th></th>\n",
       "      <th>MetroState</th>\n",
       "      <th>CountyName</th>\n",
       "      <th>City</th>\n",
       "      <th>value</th>\n",
       "    </tr>\n",
       "    <tr>\n",
       "      <th>time</th>\n",
       "      <th></th>\n",
       "      <th></th>\n",
       "      <th></th>\n",
       "      <th></th>\n",
       "    </tr>\n",
       "  </thead>\n",
       "  <tbody>\n",
       "    <tr>\n",
       "      <td>1996-04-01</td>\n",
       "      <td>New York NY</td>\n",
       "      <td>Bronx</td>\n",
       "      <td>New York</td>\n",
       "      <td>179727.272727</td>\n",
       "    </tr>\n",
       "    <tr>\n",
       "      <td>1996-05-01</td>\n",
       "      <td>New York NY</td>\n",
       "      <td>Bronx</td>\n",
       "      <td>New York</td>\n",
       "      <td>180009.090909</td>\n",
       "    </tr>\n",
       "    <tr>\n",
       "      <td>1996-06-01</td>\n",
       "      <td>New York NY</td>\n",
       "      <td>Bronx</td>\n",
       "      <td>New York</td>\n",
       "      <td>180254.545455</td>\n",
       "    </tr>\n",
       "    <tr>\n",
       "      <td>1996-07-01</td>\n",
       "      <td>New York NY</td>\n",
       "      <td>Bronx</td>\n",
       "      <td>New York</td>\n",
       "      <td>180354.545455</td>\n",
       "    </tr>\n",
       "    <tr>\n",
       "      <td>1996-08-01</td>\n",
       "      <td>New York NY</td>\n",
       "      <td>Bronx</td>\n",
       "      <td>New York</td>\n",
       "      <td>180372.727273</td>\n",
       "    </tr>\n",
       "    <tr>\n",
       "      <td>...</td>\n",
       "      <td>...</td>\n",
       "      <td>...</td>\n",
       "      <td>...</td>\n",
       "      <td>...</td>\n",
       "    </tr>\n",
       "    <tr>\n",
       "      <td>2017-12-01</td>\n",
       "      <td>New York NY</td>\n",
       "      <td>Westchester</td>\n",
       "      <td>Yorktown</td>\n",
       "      <td>402150.000000</td>\n",
       "    </tr>\n",
       "    <tr>\n",
       "      <td>2018-01-01</td>\n",
       "      <td>New York NY</td>\n",
       "      <td>Westchester</td>\n",
       "      <td>Yorktown</td>\n",
       "      <td>402700.000000</td>\n",
       "    </tr>\n",
       "    <tr>\n",
       "      <td>2018-02-01</td>\n",
       "      <td>New York NY</td>\n",
       "      <td>Westchester</td>\n",
       "      <td>Yorktown</td>\n",
       "      <td>402950.000000</td>\n",
       "    </tr>\n",
       "    <tr>\n",
       "      <td>2018-03-01</td>\n",
       "      <td>New York NY</td>\n",
       "      <td>Westchester</td>\n",
       "      <td>Yorktown</td>\n",
       "      <td>403350.000000</td>\n",
       "    </tr>\n",
       "    <tr>\n",
       "      <td>2018-04-01</td>\n",
       "      <td>New York NY</td>\n",
       "      <td>Westchester</td>\n",
       "      <td>Yorktown</td>\n",
       "      <td>404250.000000</td>\n",
       "    </tr>\n",
       "  </tbody>\n",
       "</table>\n",
       "<p>61923 rows × 4 columns</p>\n",
       "</div>"
      ],
      "text/plain": [
       "             MetroState   CountyName      City          value\n",
       "time                                                         \n",
       "1996-04-01  New York NY        Bronx  New York  179727.272727\n",
       "1996-05-01  New York NY        Bronx  New York  180009.090909\n",
       "1996-06-01  New York NY        Bronx  New York  180254.545455\n",
       "1996-07-01  New York NY        Bronx  New York  180354.545455\n",
       "1996-08-01  New York NY        Bronx  New York  180372.727273\n",
       "...                 ...          ...       ...            ...\n",
       "2017-12-01  New York NY  Westchester  Yorktown  402150.000000\n",
       "2018-01-01  New York NY  Westchester  Yorktown  402700.000000\n",
       "2018-02-01  New York NY  Westchester  Yorktown  402950.000000\n",
       "2018-03-01  New York NY  Westchester  Yorktown  403350.000000\n",
       "2018-04-01  New York NY  Westchester  Yorktown  404250.000000\n",
       "\n",
       "[61923 rows x 4 columns]"
      ]
     },
     "execution_count": 57,
     "metadata": {},
     "output_type": "execute_result"
    }
   ],
   "source": [
    "df_nyny_cities"
   ]
  },
  {
   "cell_type": "markdown",
   "metadata": {},
   "source": [
    "##### Example:  Las Vegas NV MetroState area"
   ]
  },
  {
   "cell_type": "code",
   "execution_count": 58,
   "metadata": {},
   "outputs": [],
   "source": [
    "df_las_vegas = df_geog(df=df_metro_cities, col = 'MetroState', geog = 'Las Vegas NV')"
   ]
  },
  {
   "cell_type": "code",
   "execution_count": 59,
   "metadata": {
    "scrolled": false
   },
   "outputs": [
    {
     "data": {
      "text/html": [
       "<div>\n",
       "<style scoped>\n",
       "    .dataframe tbody tr th:only-of-type {\n",
       "        vertical-align: middle;\n",
       "    }\n",
       "\n",
       "    .dataframe tbody tr th {\n",
       "        vertical-align: top;\n",
       "    }\n",
       "\n",
       "    .dataframe thead th {\n",
       "        text-align: right;\n",
       "    }\n",
       "</style>\n",
       "<table border=\"1\" class=\"dataframe\">\n",
       "  <thead>\n",
       "    <tr style=\"text-align: right;\">\n",
       "      <th></th>\n",
       "      <th>MetroState</th>\n",
       "      <th>CountyName</th>\n",
       "      <th>City</th>\n",
       "      <th>value</th>\n",
       "    </tr>\n",
       "    <tr>\n",
       "      <th>time</th>\n",
       "      <th></th>\n",
       "      <th></th>\n",
       "      <th></th>\n",
       "      <th></th>\n",
       "    </tr>\n",
       "  </thead>\n",
       "  <tbody>\n",
       "    <tr>\n",
       "      <td>1996-04-01</td>\n",
       "      <td>Las Vegas NV</td>\n",
       "      <td>Clark</td>\n",
       "      <td>Boulder City</td>\n",
       "      <td>154600.0</td>\n",
       "    </tr>\n",
       "    <tr>\n",
       "      <td>1996-05-01</td>\n",
       "      <td>Las Vegas NV</td>\n",
       "      <td>Clark</td>\n",
       "      <td>Boulder City</td>\n",
       "      <td>154500.0</td>\n",
       "    </tr>\n",
       "    <tr>\n",
       "      <td>1996-06-01</td>\n",
       "      <td>Las Vegas NV</td>\n",
       "      <td>Clark</td>\n",
       "      <td>Boulder City</td>\n",
       "      <td>154300.0</td>\n",
       "    </tr>\n",
       "    <tr>\n",
       "      <td>1996-07-01</td>\n",
       "      <td>Las Vegas NV</td>\n",
       "      <td>Clark</td>\n",
       "      <td>Boulder City</td>\n",
       "      <td>154100.0</td>\n",
       "    </tr>\n",
       "    <tr>\n",
       "      <td>1996-08-01</td>\n",
       "      <td>Las Vegas NV</td>\n",
       "      <td>Clark</td>\n",
       "      <td>Boulder City</td>\n",
       "      <td>153900.0</td>\n",
       "    </tr>\n",
       "    <tr>\n",
       "      <td>...</td>\n",
       "      <td>...</td>\n",
       "      <td>...</td>\n",
       "      <td>...</td>\n",
       "      <td>...</td>\n",
       "    </tr>\n",
       "    <tr>\n",
       "      <td>2017-12-01</td>\n",
       "      <td>Las Vegas NV</td>\n",
       "      <td>Clark</td>\n",
       "      <td>Overton</td>\n",
       "      <td>196100.0</td>\n",
       "    </tr>\n",
       "    <tr>\n",
       "      <td>2018-01-01</td>\n",
       "      <td>Las Vegas NV</td>\n",
       "      <td>Clark</td>\n",
       "      <td>Overton</td>\n",
       "      <td>197600.0</td>\n",
       "    </tr>\n",
       "    <tr>\n",
       "      <td>2018-02-01</td>\n",
       "      <td>Las Vegas NV</td>\n",
       "      <td>Clark</td>\n",
       "      <td>Overton</td>\n",
       "      <td>200200.0</td>\n",
       "    </tr>\n",
       "    <tr>\n",
       "      <td>2018-03-01</td>\n",
       "      <td>Las Vegas NV</td>\n",
       "      <td>Clark</td>\n",
       "      <td>Overton</td>\n",
       "      <td>204300.0</td>\n",
       "    </tr>\n",
       "    <tr>\n",
       "      <td>2018-04-01</td>\n",
       "      <td>Las Vegas NV</td>\n",
       "      <td>Clark</td>\n",
       "      <td>Overton</td>\n",
       "      <td>207200.0</td>\n",
       "    </tr>\n",
       "  </tbody>\n",
       "</table>\n",
       "<p>2385 rows × 4 columns</p>\n",
       "</div>"
      ],
      "text/plain": [
       "              MetroState CountyName          City     value\n",
       "time                                                       \n",
       "1996-04-01  Las Vegas NV      Clark  Boulder City  154600.0\n",
       "1996-05-01  Las Vegas NV      Clark  Boulder City  154500.0\n",
       "1996-06-01  Las Vegas NV      Clark  Boulder City  154300.0\n",
       "1996-07-01  Las Vegas NV      Clark  Boulder City  154100.0\n",
       "1996-08-01  Las Vegas NV      Clark  Boulder City  153900.0\n",
       "...                  ...        ...           ...       ...\n",
       "2017-12-01  Las Vegas NV      Clark       Overton  196100.0\n",
       "2018-01-01  Las Vegas NV      Clark       Overton  197600.0\n",
       "2018-02-01  Las Vegas NV      Clark       Overton  200200.0\n",
       "2018-03-01  Las Vegas NV      Clark       Overton  204300.0\n",
       "2018-04-01  Las Vegas NV      Clark       Overton  207200.0\n",
       "\n",
       "[2385 rows x 4 columns]"
      ]
     },
     "execution_count": 59,
     "metadata": {},
     "output_type": "execute_result"
    }
   ],
   "source": [
    "df_las_vegas"
   ]
  },
  {
   "cell_type": "markdown",
   "metadata": {},
   "source": [
    "## Creating Sacramento Metro dataframes"
   ]
  },
  {
   "cell_type": "markdown",
   "metadata": {},
   "source": [
    "### df_sac:  Sac Metro dataframe, values by Zip code"
   ]
  },
  {
   "cell_type": "code",
   "execution_count": 60,
   "metadata": {},
   "outputs": [],
   "source": [
    "df_sac = df_melt.loc[df_melt.Metro == 'Sacramento']"
   ]
  },
  {
   "cell_type": "code",
   "execution_count": 61,
   "metadata": {
    "scrolled": true
   },
   "outputs": [
    {
     "data": {
      "text/html": [
       "<div>\n",
       "<style scoped>\n",
       "    .dataframe tbody tr th:only-of-type {\n",
       "        vertical-align: middle;\n",
       "    }\n",
       "\n",
       "    .dataframe tbody tr th {\n",
       "        vertical-align: top;\n",
       "    }\n",
       "\n",
       "    .dataframe thead th {\n",
       "        text-align: right;\n",
       "    }\n",
       "</style>\n",
       "<table border=\"1\" class=\"dataframe\">\n",
       "  <thead>\n",
       "    <tr style=\"text-align: right;\">\n",
       "      <th></th>\n",
       "      <th>Zip</th>\n",
       "      <th>City</th>\n",
       "      <th>State</th>\n",
       "      <th>Metro</th>\n",
       "      <th>CountyName</th>\n",
       "      <th>SizeRank</th>\n",
       "      <th>value</th>\n",
       "      <th>MetroState</th>\n",
       "    </tr>\n",
       "    <tr>\n",
       "      <th>time</th>\n",
       "      <th></th>\n",
       "      <th></th>\n",
       "      <th></th>\n",
       "      <th></th>\n",
       "      <th></th>\n",
       "      <th></th>\n",
       "      <th></th>\n",
       "      <th></th>\n",
       "    </tr>\n",
       "  </thead>\n",
       "  <tbody>\n",
       "    <tr>\n",
       "      <td>1996-04-01</td>\n",
       "      <td>95630</td>\n",
       "      <td>Folsom</td>\n",
       "      <td>CA</td>\n",
       "      <td>Sacramento</td>\n",
       "      <td>Sacramento</td>\n",
       "      <td>94</td>\n",
       "      <td>190000.0</td>\n",
       "      <td>Sacramento CA</td>\n",
       "    </tr>\n",
       "    <tr>\n",
       "      <td>1996-04-01</td>\n",
       "      <td>95608</td>\n",
       "      <td>Carmichael</td>\n",
       "      <td>CA</td>\n",
       "      <td>Sacramento</td>\n",
       "      <td>Sacramento</td>\n",
       "      <td>127</td>\n",
       "      <td>151100.0</td>\n",
       "      <td>Sacramento CA</td>\n",
       "    </tr>\n",
       "    <tr>\n",
       "      <td>1996-04-01</td>\n",
       "      <td>95823</td>\n",
       "      <td>Sacramento</td>\n",
       "      <td>CA</td>\n",
       "      <td>Sacramento</td>\n",
       "      <td>Sacramento</td>\n",
       "      <td>147</td>\n",
       "      <td>91500.0</td>\n",
       "      <td>Sacramento CA</td>\n",
       "    </tr>\n",
       "    <tr>\n",
       "      <td>1996-04-01</td>\n",
       "      <td>95747</td>\n",
       "      <td>Roseville</td>\n",
       "      <td>CA</td>\n",
       "      <td>Sacramento</td>\n",
       "      <td>Placer</td>\n",
       "      <td>243</td>\n",
       "      <td>192700.0</td>\n",
       "      <td>Sacramento CA</td>\n",
       "    </tr>\n",
       "    <tr>\n",
       "      <td>1996-04-01</td>\n",
       "      <td>95758</td>\n",
       "      <td>Elk Grove</td>\n",
       "      <td>CA</td>\n",
       "      <td>Sacramento</td>\n",
       "      <td>Sacramento</td>\n",
       "      <td>347</td>\n",
       "      <td>146800.0</td>\n",
       "      <td>Sacramento CA</td>\n",
       "    </tr>\n",
       "    <tr>\n",
       "      <td>...</td>\n",
       "      <td>...</td>\n",
       "      <td>...</td>\n",
       "      <td>...</td>\n",
       "      <td>...</td>\n",
       "      <td>...</td>\n",
       "      <td>...</td>\n",
       "      <td>...</td>\n",
       "      <td>...</td>\n",
       "    </tr>\n",
       "    <tr>\n",
       "      <td>2018-04-01</td>\n",
       "      <td>95664</td>\n",
       "      <td>Pilot Hill</td>\n",
       "      <td>CA</td>\n",
       "      <td>Sacramento</td>\n",
       "      <td>El Dorado</td>\n",
       "      <td>14327</td>\n",
       "      <td>546500.0</td>\n",
       "      <td>Sacramento CA</td>\n",
       "    </tr>\n",
       "    <tr>\n",
       "      <td>2018-04-01</td>\n",
       "      <td>96142</td>\n",
       "      <td>Tahoma</td>\n",
       "      <td>CA</td>\n",
       "      <td>Sacramento</td>\n",
       "      <td>El Dorado</td>\n",
       "      <td>14472</td>\n",
       "      <td>523600.0</td>\n",
       "      <td>Sacramento CA</td>\n",
       "    </tr>\n",
       "    <tr>\n",
       "      <td>2018-04-01</td>\n",
       "      <td>96141</td>\n",
       "      <td>Homewood</td>\n",
       "      <td>CA</td>\n",
       "      <td>Sacramento</td>\n",
       "      <td>Placer</td>\n",
       "      <td>14566</td>\n",
       "      <td>689700.0</td>\n",
       "      <td>Sacramento CA</td>\n",
       "    </tr>\n",
       "    <tr>\n",
       "      <td>2018-04-01</td>\n",
       "      <td>95636</td>\n",
       "      <td>Somerset</td>\n",
       "      <td>CA</td>\n",
       "      <td>Sacramento</td>\n",
       "      <td>El Dorado</td>\n",
       "      <td>14632</td>\n",
       "      <td>241200.0</td>\n",
       "      <td>Sacramento CA</td>\n",
       "    </tr>\n",
       "    <tr>\n",
       "      <td>2018-04-01</td>\n",
       "      <td>96148</td>\n",
       "      <td>Tahoe Vista</td>\n",
       "      <td>CA</td>\n",
       "      <td>Sacramento</td>\n",
       "      <td>Placer</td>\n",
       "      <td>14681</td>\n",
       "      <td>605000.0</td>\n",
       "      <td>Sacramento CA</td>\n",
       "    </tr>\n",
       "  </tbody>\n",
       "</table>\n",
       "<p>23960 rows × 8 columns</p>\n",
       "</div>"
      ],
      "text/plain": [
       "              Zip         City State       Metro  CountyName  SizeRank  \\\n",
       "time                                                                     \n",
       "1996-04-01  95630       Folsom    CA  Sacramento  Sacramento        94   \n",
       "1996-04-01  95608   Carmichael    CA  Sacramento  Sacramento       127   \n",
       "1996-04-01  95823   Sacramento    CA  Sacramento  Sacramento       147   \n",
       "1996-04-01  95747    Roseville    CA  Sacramento      Placer       243   \n",
       "1996-04-01  95758    Elk Grove    CA  Sacramento  Sacramento       347   \n",
       "...           ...          ...   ...         ...         ...       ...   \n",
       "2018-04-01  95664   Pilot Hill    CA  Sacramento   El Dorado     14327   \n",
       "2018-04-01  96142       Tahoma    CA  Sacramento   El Dorado     14472   \n",
       "2018-04-01  96141     Homewood    CA  Sacramento      Placer     14566   \n",
       "2018-04-01  95636     Somerset    CA  Sacramento   El Dorado     14632   \n",
       "2018-04-01  96148  Tahoe Vista    CA  Sacramento      Placer     14681   \n",
       "\n",
       "               value     MetroState  \n",
       "time                                 \n",
       "1996-04-01  190000.0  Sacramento CA  \n",
       "1996-04-01  151100.0  Sacramento CA  \n",
       "1996-04-01   91500.0  Sacramento CA  \n",
       "1996-04-01  192700.0  Sacramento CA  \n",
       "1996-04-01  146800.0  Sacramento CA  \n",
       "...              ...            ...  \n",
       "2018-04-01  546500.0  Sacramento CA  \n",
       "2018-04-01  523600.0  Sacramento CA  \n",
       "2018-04-01  689700.0  Sacramento CA  \n",
       "2018-04-01  241200.0  Sacramento CA  \n",
       "2018-04-01  605000.0  Sacramento CA  \n",
       "\n",
       "[23960 rows x 8 columns]"
      ]
     },
     "execution_count": 61,
     "metadata": {},
     "output_type": "execute_result"
    }
   ],
   "source": [
    "df_sac"
   ]
  },
  {
   "cell_type": "markdown",
   "metadata": {},
   "source": [
    "### df_metro_sac:  Sacramento, CA metro area values dataframe"
   ]
  },
  {
   "cell_type": "code",
   "execution_count": 62,
   "metadata": {},
   "outputs": [],
   "source": [
    "# Example:  Sacramento CA \n",
    "\n",
    "df_metro_sac = df_metro_values.loc[df_metro_values['MetroState'] == 'Sacramento CA'].head()"
   ]
  },
  {
   "cell_type": "code",
   "execution_count": 63,
   "metadata": {
    "scrolled": true
   },
   "outputs": [
    {
     "data": {
      "text/html": [
       "<div>\n",
       "<style scoped>\n",
       "    .dataframe tbody tr th:only-of-type {\n",
       "        vertical-align: middle;\n",
       "    }\n",
       "\n",
       "    .dataframe tbody tr th {\n",
       "        vertical-align: top;\n",
       "    }\n",
       "\n",
       "    .dataframe thead th {\n",
       "        text-align: right;\n",
       "    }\n",
       "</style>\n",
       "<table border=\"1\" class=\"dataframe\">\n",
       "  <thead>\n",
       "    <tr style=\"text-align: right;\">\n",
       "      <th></th>\n",
       "      <th>MetroState</th>\n",
       "      <th>State</th>\n",
       "      <th>value</th>\n",
       "    </tr>\n",
       "    <tr>\n",
       "      <th>time</th>\n",
       "      <th></th>\n",
       "      <th></th>\n",
       "      <th></th>\n",
       "    </tr>\n",
       "  </thead>\n",
       "  <tbody>\n",
       "    <tr>\n",
       "      <td>1996-04-01</td>\n",
       "      <td>Sacramento CA</td>\n",
       "      <td>CA</td>\n",
       "      <td>147985.555556</td>\n",
       "    </tr>\n",
       "    <tr>\n",
       "      <td>1996-05-01</td>\n",
       "      <td>Sacramento CA</td>\n",
       "      <td>CA</td>\n",
       "      <td>147713.333333</td>\n",
       "    </tr>\n",
       "    <tr>\n",
       "      <td>1996-06-01</td>\n",
       "      <td>Sacramento CA</td>\n",
       "      <td>CA</td>\n",
       "      <td>147456.666667</td>\n",
       "    </tr>\n",
       "    <tr>\n",
       "      <td>1996-07-01</td>\n",
       "      <td>Sacramento CA</td>\n",
       "      <td>CA</td>\n",
       "      <td>147211.111111</td>\n",
       "    </tr>\n",
       "    <tr>\n",
       "      <td>1996-08-01</td>\n",
       "      <td>Sacramento CA</td>\n",
       "      <td>CA</td>\n",
       "      <td>147023.333333</td>\n",
       "    </tr>\n",
       "  </tbody>\n",
       "</table>\n",
       "</div>"
      ],
      "text/plain": [
       "               MetroState State          value\n",
       "time                                          \n",
       "1996-04-01  Sacramento CA    CA  147985.555556\n",
       "1996-05-01  Sacramento CA    CA  147713.333333\n",
       "1996-06-01  Sacramento CA    CA  147456.666667\n",
       "1996-07-01  Sacramento CA    CA  147211.111111\n",
       "1996-08-01  Sacramento CA    CA  147023.333333"
      ]
     },
     "execution_count": 63,
     "metadata": {},
     "output_type": "execute_result"
    }
   ],
   "source": [
    "df_metro_sac.head()"
   ]
  },
  {
   "cell_type": "code",
   "execution_count": null,
   "metadata": {},
   "outputs": [],
   "source": []
  },
  {
   "cell_type": "markdown",
   "metadata": {},
   "source": [
    "# Step 3B:  Creating lists and dictionaries for iterating through dataframes"
   ]
  },
  {
   "cell_type": "markdown",
   "metadata": {},
   "source": [
    "## Function to print first n number of items in a dictionary\n"
   ]
  },
  {
   "cell_type": "code",
   "execution_count": 64,
   "metadata": {},
   "outputs": [],
   "source": [
    "# function to print first n number of items in a dictionary\n",
    "\n",
    "def print_first_n(dictionary, n):\n",
    "    return {k: dictionary[k] for k in list(dictionary)[:n]}"
   ]
  },
  {
   "cell_type": "markdown",
   "metadata": {},
   "source": [
    "## Search metro area by str.contains"
   ]
  },
  {
   "cell_type": "code",
   "execution_count": 65,
   "metadata": {},
   "outputs": [],
   "source": [
    "# df_metro_values[df_metro_values['MetroState'].str.contains('New York', regex=False)]\n"
   ]
  },
  {
   "cell_type": "markdown",
   "metadata": {},
   "source": [
    "## dict_cities_one_metro:  Function to create dictionary of cities in one metro area"
   ]
  },
  {
   "cell_type": "code",
   "execution_count": 66,
   "metadata": {},
   "outputs": [],
   "source": [
    "def dict_cities_one_metro(dict_metro_cities, metarea):\n",
    "    dict_cities_one_metro = {metarea: dict_metro_cities[metarea]}\n",
    "    return dict_cities_one_metro"
   ]
  },
  {
   "cell_type": "code",
   "execution_count": 67,
   "metadata": {},
   "outputs": [
    {
     "ename": "NameError",
     "evalue": "name 'dict_metro_cities' is not defined",
     "output_type": "error",
     "traceback": [
      "\u001b[0;31m---------------------------------------------------------------------------\u001b[0m",
      "\u001b[0;31mNameError\u001b[0m                                 Traceback (most recent call last)",
      "\u001b[0;32m<ipython-input-67-8dbe7a358ca8>\u001b[0m in \u001b[0;36m<module>\u001b[0;34m\u001b[0m\n\u001b[0;32m----> 1\u001b[0;31m \u001b[0mdict_nyny_cities\u001b[0m \u001b[0;34m=\u001b[0m \u001b[0mdict_cities_one_metro\u001b[0m\u001b[0;34m(\u001b[0m\u001b[0mdict_metro_cities\u001b[0m\u001b[0;34m,\u001b[0m \u001b[0mmetarea\u001b[0m\u001b[0;34m=\u001b[0m\u001b[0;34m'New York NY'\u001b[0m\u001b[0;34m)\u001b[0m\u001b[0;34m\u001b[0m\u001b[0;34m\u001b[0m\u001b[0m\n\u001b[0m\u001b[1;32m      2\u001b[0m \u001b[0;31m# print(dict_nyny_cities)\u001b[0m\u001b[0;34m\u001b[0m\u001b[0;34m\u001b[0m\u001b[0;34m\u001b[0m\u001b[0m\n",
      "\u001b[0;31mNameError\u001b[0m: name 'dict_metro_cities' is not defined"
     ]
    }
   ],
   "source": [
    "dict_nyny_cities = dict_cities_one_metro(dict_metro_cities, metarea='New York NY')\n",
    "# print(dict_nyny_cities)"
   ]
  },
  {
   "cell_type": "markdown",
   "metadata": {},
   "source": [
    "## US lists and dictionaries"
   ]
  },
  {
   "cell_type": "markdown",
   "metadata": {},
   "source": [
    "### Create df with just the first date entry for each zip code\n",
    "To create a dictionary, we just need one row with a given zip code; we don't need all of the data values for that zip code; we just need one row with all of the pertinent information related to zip code."
   ]
  },
  {
   "cell_type": "code",
   "execution_count": null,
   "metadata": {},
   "outputs": [],
   "source": [
    "df_metro_zips_yr1 = df_metro.loc['1996-12-01']\n"
   ]
  },
  {
   "cell_type": "code",
   "execution_count": null,
   "metadata": {
    "scrolled": true
   },
   "outputs": [],
   "source": [
    "df_metro_zips_yr1.head(10) "
   ]
  },
  {
   "cell_type": "code",
   "execution_count": null,
   "metadata": {},
   "outputs": [],
   "source": [
    "df_metro_zips_yr1.sort_values(by='SizeRank').head()"
   ]
  },
  {
   "cell_type": "code",
   "execution_count": null,
   "metadata": {},
   "outputs": [],
   "source": []
  },
  {
   "cell_type": "markdown",
   "metadata": {},
   "source": [
    "### Creating list of unique metro areas (metro_state_list)"
   ]
  },
  {
   "cell_type": "code",
   "execution_count": null,
   "metadata": {},
   "outputs": [],
   "source": [
    "metro_state_list = list(set(df_melt['MetroState']))"
   ]
  },
  {
   "cell_type": "code",
   "execution_count": null,
   "metadata": {},
   "outputs": [],
   "source": [
    "len(metro_state_list)"
   ]
  },
  {
   "cell_type": "code",
   "execution_count": null,
   "metadata": {},
   "outputs": [],
   "source": [
    "print(metro_state_list[:10])"
   ]
  },
  {
   "cell_type": "markdown",
   "metadata": {},
   "source": [
    "### Create ordict_zips_sizerank (dictionary of zip codes and size ranks)"
   ]
  },
  {
   "cell_type": "code",
   "execution_count": null,
   "metadata": {},
   "outputs": [],
   "source": [
    "from collections import defaultdict\n",
    "\n",
    "dict_zips_sizerank = defaultdict(list)\n",
    "\n",
    "for idx,row in df_metro_zips_yr1.iterrows():\n",
    "    dict_zips_sizerank[row['Zip']].append(row['SizeRank'])\n",
    "    \n",
    "print(type(dict_zips_sizerank))"
   ]
  },
  {
   "cell_type": "code",
   "execution_count": null,
   "metadata": {},
   "outputs": [],
   "source": [
    "print_first_n(dict_zips_sizerank, n=10)"
   ]
  },
  {
   "cell_type": "code",
   "execution_count": null,
   "metadata": {},
   "outputs": [],
   "source": [
    "from collections import OrderedDict\n",
    "\n",
    "# Create Ordered dictionary of zip codes, ranked by size, largest to smallest\n",
    "ordict_zips_sizerank = OrderedDict(sorted(dict_zips_sizerank.items(), key=lambda item: item[1], reverse=False))\n",
    "type(ordict_zips_sizerank)\n"
   ]
  },
  {
   "cell_type": "markdown",
   "metadata": {},
   "source": [
    "##### Print first 10 key:value pairs of dictionary, to make sure that output is as expected"
   ]
  },
  {
   "cell_type": "code",
   "execution_count": null,
   "metadata": {},
   "outputs": [],
   "source": [
    "print_first_n(ordict_zips_sizerank, n=10)"
   ]
  },
  {
   "cell_type": "markdown",
   "metadata": {},
   "source": [
    "### Create dict_sizerank_zips (dictionary of size ranks and zip codes--keys:values reversed from previous dictionary)"
   ]
  },
  {
   "cell_type": "code",
   "execution_count": null,
   "metadata": {},
   "outputs": [],
   "source": [
    "from collections import defaultdict\n",
    "\n",
    "dict_sizerank_zips = defaultdict(list)\n",
    "\n",
    "for idx,row in df_metro_zips_yr1.iterrows():\n",
    "    dict_sizerank_zips[row['SizeRank']].append(row['Zip'])\n",
    "    \n",
    "print(type(dict_sizerank_zips))"
   ]
  },
  {
   "cell_type": "code",
   "execution_count": null,
   "metadata": {},
   "outputs": [],
   "source": [
    "print_first_n(dict_sizerank_zips, n=10)"
   ]
  },
  {
   "cell_type": "code",
   "execution_count": null,
   "metadata": {},
   "outputs": [],
   "source": [
    "sorted(dict_sizerank_zips.items())[:10]"
   ]
  },
  {
   "cell_type": "markdown",
   "metadata": {},
   "source": [
    "### Creating dict_metrostate_zips (dictionary with zips per unique metro area (MetroState))"
   ]
  },
  {
   "cell_type": "code",
   "execution_count": null,
   "metadata": {},
   "outputs": [],
   "source": [
    "from collections import defaultdict\n",
    "\n",
    "dict_metrostate_zips = defaultdict(list)\n",
    "\n",
    "for idx,row in df_metro_zips_yr1.iterrows():\n",
    "    dict_metrostate_zips[row['MetroState']].append(row['Zip'])\n",
    "    \n",
    "print(type(dict_metrostate_zips))"
   ]
  },
  {
   "cell_type": "code",
   "execution_count": null,
   "metadata": {},
   "outputs": [],
   "source": [
    "print(print_first_n(dict_metrostate_zips, n=10))"
   ]
  },
  {
   "cell_type": "code",
   "execution_count": null,
   "metadata": {},
   "outputs": [],
   "source": [
    "len(dict_metrostate_zips['New York NY'])"
   ]
  },
  {
   "cell_type": "code",
   "execution_count": null,
   "metadata": {},
   "outputs": [],
   "source": [
    "len(dict_metrostate_zips['New York NJ'])"
   ]
  },
  {
   "cell_type": "code",
   "execution_count": null,
   "metadata": {},
   "outputs": [],
   "source": [
    "len(dict_metrostate_zips['New York PA'])"
   ]
  },
  {
   "cell_type": "markdown",
   "metadata": {},
   "source": [
    "### Creating ordict_num_metro_zip_counts_sorted (dictionary reverse-sorting of number of zip codes in a unique *metro area*)"
   ]
  },
  {
   "cell_type": "code",
   "execution_count": null,
   "metadata": {},
   "outputs": [],
   "source": [
    "dict_num_metro_zip_counts = {key: len(dict_metrostate_zips[key]) for key in dict_metrostate_zips.keys()}\n"
   ]
  },
  {
   "cell_type": "code",
   "execution_count": null,
   "metadata": {
    "scrolled": false
   },
   "outputs": [],
   "source": [
    "print_first_n(dict_num_metro_zip_counts, n=10)\n"
   ]
  },
  {
   "cell_type": "code",
   "execution_count": null,
   "metadata": {},
   "outputs": [],
   "source": [
    "# Create Ordered dictionary\n",
    "ordict_metro_zips_sizerank = OrderedDict(sorted(dict_num_metro_zip_counts.items(), key=lambda item: item[1], reverse=True))\n",
    "type(ordict_metro_zips_sizerank)"
   ]
  },
  {
   "cell_type": "code",
   "execution_count": null,
   "metadata": {
    "scrolled": false
   },
   "outputs": [],
   "source": [
    "# print(ordict_metro_zips_sizerank)  # prints dictionary of metro areas ranked by number of zip codes (largest # first)\n",
    "\n",
    "{k: ordict_metro_zips_sizerank[k] for k in list(ordict_metro_zips_sizerank)[:10]}  # prints top 10 metro areas by number of zip codes"
   ]
  },
  {
   "cell_type": "markdown",
   "metadata": {},
   "source": [
    "### Creating dict_allcities_zips (zips for each city)"
   ]
  },
  {
   "cell_type": "code",
   "execution_count": null,
   "metadata": {},
   "outputs": [],
   "source": [
    "from collections import defaultdict\n",
    "\n",
    "dict_allcities_zips = defaultdict(list)\n",
    "\n",
    "for idx,row in df_metro_zips_yr1.iterrows():\n",
    "    dict_allcities_zips[row['City']].append(row['Zip'])\n",
    "    \n",
    "print(type(dict_allcities_zips))"
   ]
  },
  {
   "cell_type": "code",
   "execution_count": null,
   "metadata": {
    "scrolled": false
   },
   "outputs": [],
   "source": [
    "print_first_n(dict_allcities_zips, n=10)  # not sorted in any particular way\n"
   ]
  },
  {
   "cell_type": "code",
   "execution_count": null,
   "metadata": {},
   "outputs": [],
   "source": [
    "len(dict_allcities_zips)"
   ]
  },
  {
   "cell_type": "code",
   "execution_count": null,
   "metadata": {
    "scrolled": true
   },
   "outputs": [],
   "source": [
    "len(dict_allcities_zips['New York'])"
   ]
  },
  {
   "cell_type": "markdown",
   "metadata": {},
   "source": [
    "### Creating ordict_allcities_zips (ordered dictionary of zips by city, sorted by city name)"
   ]
  },
  {
   "cell_type": "code",
   "execution_count": null,
   "metadata": {},
   "outputs": [],
   "source": [
    "from collections import OrderedDict\n",
    "\n",
    "# Create ORDERED dictionary for zips in each city, so that we don't have to use the sort function and end up with a tuple\n",
    "\n",
    "ordict_allcities_zips = OrderedDict(sorted(dict_allcities_zips.items(), reverse=False))\n",
    "type(ordict_allcities_zips)\n"
   ]
  },
  {
   "cell_type": "code",
   "execution_count": null,
   "metadata": {},
   "outputs": [],
   "source": [
    "print_first_n(ordict_allcities_zips, n=10)   # reminder of what is contained in function:  {k: ordict_allcities_zips[k] for k in list(ordict_allcities_zips)[:n]} "
   ]
  },
  {
   "cell_type": "markdown",
   "metadata": {},
   "source": [
    "### Create ordict_num_city_zips_sorted (dictionary reverse-sorting *counts* of zip codes by city)"
   ]
  },
  {
   "cell_type": "code",
   "execution_count": null,
   "metadata": {},
   "outputs": [],
   "source": [
    "dict_num_city_zips = {key: len(dict_allcities_zips[key]) for key in dict_allcities_zips.keys()}"
   ]
  },
  {
   "cell_type": "code",
   "execution_count": null,
   "metadata": {
    "scrolled": false
   },
   "outputs": [],
   "source": [
    "len(dict_num_city_zips)"
   ]
  },
  {
   "cell_type": "code",
   "execution_count": null,
   "metadata": {},
   "outputs": [],
   "source": [
    "dict_num_city_zips"
   ]
  },
  {
   "cell_type": "code",
   "execution_count": null,
   "metadata": {},
   "outputs": [],
   "source": [
    "# Create Ordered dictionary\n",
    "ordict_city_zips_sorted = OrderedDict(sorted(dict_num_city_zips.items(), key=lambda item: item[1], reverse=True))\n",
    "type(ordict_city_zips_sorted)"
   ]
  },
  {
   "cell_type": "code",
   "execution_count": null,
   "metadata": {
    "scrolled": false
   },
   "outputs": [],
   "source": [
    "print_first_n(ordict_city_zips_sorted, n=10)"
   ]
  },
  {
   "cell_type": "markdown",
   "metadata": {},
   "source": [
    "### Creating dict_metro_size (dictionary of metro areas and number of data points (proxy for size of metro area))"
   ]
  },
  {
   "cell_type": "code",
   "execution_count": null,
   "metadata": {},
   "outputs": [],
   "source": [
    "dict_metro_size = dict(df_metro.MetroState.value_counts())\n",
    "# dict_metro_size"
   ]
  },
  {
   "cell_type": "code",
   "execution_count": null,
   "metadata": {
    "scrolled": true
   },
   "outputs": [],
   "source": [
    "len(dict_metro_size)"
   ]
  },
  {
   "cell_type": "code",
   "execution_count": null,
   "metadata": {},
   "outputs": [],
   "source": [
    "dict_metro_size"
   ]
  },
  {
   "cell_type": "code",
   "execution_count": null,
   "metadata": {},
   "outputs": [],
   "source": [
    "list_metro_size = list(dict_metro_size.keys())\n",
    "list_metro_size"
   ]
  },
  {
   "cell_type": "markdown",
   "metadata": {},
   "source": [
    "#### Creating dictionary object of dict_metro_size"
   ]
  },
  {
   "cell_type": "code",
   "execution_count": null,
   "metadata": {},
   "outputs": [],
   "source": [
    "dict_obj = dict_metro_size.items()"
   ]
  },
  {
   "cell_type": "code",
   "execution_count": null,
   "metadata": {},
   "outputs": [],
   "source": [
    "type(dict_obj)"
   ]
  },
  {
   "cell_type": "markdown",
   "metadata": {},
   "source": [
    "#### Creating list  (list of tuples) from dict_metro_size object"
   ]
  },
  {
   "cell_type": "code",
   "execution_count": null,
   "metadata": {},
   "outputs": [],
   "source": [
    "dict_obj_list = list(dict_obj)"
   ]
  },
  {
   "cell_type": "code",
   "execution_count": null,
   "metadata": {},
   "outputs": [],
   "source": [
    "dict_obj_list[:10]"
   ]
  },
  {
   "cell_type": "markdown",
   "metadata": {},
   "source": [
    "#### Creating list of tuples of the thirty largest metro areas"
   ]
  },
  {
   "cell_type": "code",
   "execution_count": null,
   "metadata": {
    "scrolled": true
   },
   "outputs": [],
   "source": [
    "list_tup_large_metros_30 = dict_obj_list[:30]\n",
    "list_tup_large_metros_30[:5]"
   ]
  },
  {
   "cell_type": "code",
   "execution_count": null,
   "metadata": {
    "scrolled": true
   },
   "outputs": [],
   "source": [
    "len(list_tup_large_metros_30)"
   ]
  },
  {
   "cell_type": "markdown",
   "metadata": {},
   "source": [
    "#### Creating list from [0] index in each tuple\n"
   ]
  },
  {
   "cell_type": "code",
   "execution_count": null,
   "metadata": {
    "scrolled": false
   },
   "outputs": [],
   "source": [
    "list_tup_large_metros_30\n",
    "b = map(lambda x: x[0], list_tup_large_metros_30)\n",
    "large_metro_list_30 = list(b)\n",
    "large_metro_list_30[:5]         # in order of size"
   ]
  },
  {
   "cell_type": "markdown",
   "metadata": {},
   "source": [
    "#### Creating list of tuples of the fifty largest metro areas"
   ]
  },
  {
   "cell_type": "code",
   "execution_count": null,
   "metadata": {},
   "outputs": [],
   "source": [
    "# b = map(lambda x: x[0], tup)"
   ]
  },
  {
   "cell_type": "code",
   "execution_count": null,
   "metadata": {},
   "outputs": [],
   "source": [
    "list_tup_large_metros_50 = dict_obj_list[:50]\n",
    "len(list_tup_large_metros_50)"
   ]
  },
  {
   "cell_type": "code",
   "execution_count": null,
   "metadata": {},
   "outputs": [],
   "source": [
    "list_tup_large_metros_50[:20]"
   ]
  },
  {
   "cell_type": "markdown",
   "metadata": {},
   "source": [
    "#### Creating list from [0] index in each tuple"
   ]
  },
  {
   "cell_type": "code",
   "execution_count": null,
   "metadata": {},
   "outputs": [],
   "source": [
    "list_tup_large_metros_50                # in order of size\n",
    "b = map(lambda x: x[0], list_tup_large_metros_50)\n",
    "large_metro_list_50 = list(b)          "
   ]
  },
  {
   "cell_type": "code",
   "execution_count": null,
   "metadata": {},
   "outputs": [],
   "source": [
    "len(large_metro_list_50)"
   ]
  },
  {
   "cell_type": "code",
   "execution_count": null,
   "metadata": {},
   "outputs": [],
   "source": [
    "large_metro_list_50[:5]"
   ]
  },
  {
   "cell_type": "markdown",
   "metadata": {
    "heading_collapsed": true
   },
   "source": [
    "### Creating dict_metro_cities (dictionary of MetroState areas and cities within each)"
   ]
  },
  {
   "cell_type": "markdown",
   "metadata": {
    "hidden": true
   },
   "source": [
    "#### List of metro cities"
   ]
  },
  {
   "cell_type": "code",
   "execution_count": null,
   "metadata": {
    "hidden": true,
    "scrolled": false
   },
   "outputs": [],
   "source": [
    "metro_cities = list(set(df_metro_zips_yr1.City))\n",
    "metro_cities.sort()\n",
    "metro_cities[:10]"
   ]
  },
  {
   "cell_type": "markdown",
   "metadata": {
    "hidden": true
   },
   "source": [
    "#### Creating dict_metro_cities (dictionary of metro areas and the cities in each)"
   ]
  },
  {
   "cell_type": "code",
   "execution_count": null,
   "metadata": {
    "hidden": true
   },
   "outputs": [],
   "source": [
    "df_metro_cities_mo1 = df_metro_cities.loc['1996-04-01']"
   ]
  },
  {
   "cell_type": "code",
   "execution_count": null,
   "metadata": {
    "hidden": true,
    "scrolled": false
   },
   "outputs": [],
   "source": [
    "from collections import defaultdict\n",
    "\n",
    "dict_metro_cities = defaultdict(list)\n",
    "\n",
    "for idx,row in df_metro_cities_mo1.iterrows():\n",
    "    dict_metro_cities[row['MetroState']].append(row['City'])\n",
    "    \n",
    "print(type(dict_metro_cities))"
   ]
  },
  {
   "cell_type": "code",
   "execution_count": null,
   "metadata": {
    "hidden": true,
    "scrolled": false
   },
   "outputs": [],
   "source": [
    "print_first_n(dict_metro_cities, n=3)  # print(dict_metro_cities)"
   ]
  },
  {
   "cell_type": "code",
   "execution_count": null,
   "metadata": {
    "hidden": true
   },
   "outputs": [],
   "source": [
    "len(dict_metro_cities)"
   ]
  },
  {
   "cell_type": "code",
   "execution_count": null,
   "metadata": {
    "hidden": true
   },
   "outputs": [],
   "source": [
    "len(dict_metro_cities['New York NY'])"
   ]
  },
  {
   "cell_type": "code",
   "execution_count": null,
   "metadata": {
    "hidden": true
   },
   "outputs": [],
   "source": [
    "len(dict_metro_cities['New York NJ'])"
   ]
  },
  {
   "cell_type": "markdown",
   "metadata": {
    "hidden": true
   },
   "source": [
    "#### Creating dict_sorted_metro_cities (dictionary of metro areas, sorted from largest to smallest, and the cities in each)"
   ]
  },
  {
   "cell_type": "code",
   "execution_count": null,
   "metadata": {
    "hidden": true,
    "scrolled": true
   },
   "outputs": [],
   "source": [
    "# Create ORDERED cities-by-metro dictionary, ordered by size of metro, sorting by another dictionary!\n",
    "\n",
    "dict_sorted_metros_cities = OrderedDict([(x, dict_metro_cities[x]) for x in dict_metro_size])\n",
    "print_first_n(dict_sorted_metros_cities, n=3)"
   ]
  },
  {
   "cell_type": "markdown",
   "metadata": {
    "heading_collapsed": true
   },
   "source": [
    "### Steps for creating list of cities in a metro area, sorted from largest to smallest in terms of # of zip codes in city"
   ]
  },
  {
   "cell_type": "code",
   "execution_count": null,
   "metadata": {
    "hidden": true
   },
   "outputs": [],
   "source": [
    "# Create subset dataframe containing just MetroState area in question\n",
    "\n",
    "df_metro_cities_nyny = df_metro_cities.loc[df_metro_cities['MetroState'] == 'New York NY']\n",
    "df_metro_cities_nyny.head()\n"
   ]
  },
  {
   "cell_type": "code",
   "execution_count": null,
   "metadata": {
    "hidden": true
   },
   "outputs": [],
   "source": [
    "# Using dict_sorted_metros_cities, create list of all cities in the MetroState area of interest\n",
    "\n",
    "metro_cities_nyny = dict_sorted_metros_cities['New York NY']\n",
    "metro_cities_nyny[:20]"
   ]
  },
  {
   "cell_type": "code",
   "execution_count": null,
   "metadata": {
    "hidden": true
   },
   "outputs": [],
   "source": [
    "# Create dictionary of cities and zip codes in the metro area (will do a reverse sort of count of zip codes after)\n",
    "\n",
    "from collections import defaultdict\n",
    "\n",
    "dict_nyny_zips = defaultdict(list)\n",
    "\n",
    "for idx,row in df_metro_zips_yr1.loc[df_metro_zips_yr1['MetroState'] == 'New York NY'].iterrows():\n",
    "    dict_nyny_zips[row['City']].append(row['Zip'])\n",
    "    \n",
    "print(type(dict_nyny_zips))\n",
    "\n"
   ]
  },
  {
   "cell_type": "code",
   "execution_count": null,
   "metadata": {
    "hidden": true
   },
   "outputs": [],
   "source": [
    "print_first_n(dict_nyny_zips, n=10)"
   ]
  },
  {
   "cell_type": "code",
   "execution_count": null,
   "metadata": {
    "hidden": true
   },
   "outputs": [],
   "source": [
    "# create dictionary containing the number of zip codes in each city\n",
    "\n",
    "dict_num_nyny_zips = {key: len(dict_nyny_zips[key]) for key in dict_nyny_zips.keys()}"
   ]
  },
  {
   "cell_type": "code",
   "execution_count": null,
   "metadata": {
    "hidden": true
   },
   "outputs": [],
   "source": [
    "dict_num_nyny_zips"
   ]
  },
  {
   "cell_type": "code",
   "execution_count": null,
   "metadata": {
    "hidden": true
   },
   "outputs": [],
   "source": [
    "# Create Ordered dictionary sorting cities from most zip codes to least\n",
    "\n",
    "ordict_nyny_zips_sorted = OrderedDict(sorted(dict_num_nyny_zips.items(), key=lambda item: item[1], reverse=True))\n",
    "type(ordict_nyny_zips_sorted)"
   ]
  },
  {
   "cell_type": "code",
   "execution_count": null,
   "metadata": {
    "hidden": true
   },
   "outputs": [],
   "source": [
    "print_first_n(ordict_nyny_zips_sorted, n=10)"
   ]
  },
  {
   "cell_type": "code",
   "execution_count": null,
   "metadata": {
    "hidden": true
   },
   "outputs": [],
   "source": [
    "# create list of cities that is sorted by size (as determined by number of zip codes)\n",
    "\n",
    "nyny_metro_cities_sorted = list(ordict_nyny_zips_sorted.keys())"
   ]
  },
  {
   "cell_type": "code",
   "execution_count": null,
   "metadata": {
    "hidden": true
   },
   "outputs": [],
   "source": [
    "nyny_metro_cities_sorted[:10]   # list of cities in NY NY metro area, sorted by number of zip codes in city"
   ]
  },
  {
   "cell_type": "markdown",
   "metadata": {},
   "source": [
    "### city_metro_list function creating a dataframe AND a list of cities in a metro area, sorted from largest to smallest"
   ]
  },
  {
   "cell_type": "code",
   "execution_count": null,
   "metadata": {},
   "outputs": [],
   "source": [
    "def city_metro_list(df_metro_cities, dict_sorted_metros_cities, col = 'MetroState', metarea = 'New York NY'):\n",
    "    \n",
    "    '''Function creates subset dataframe AND a list of cities in a metro area, sorted from largest to smallest by number of \n",
    "    zip codes within that city'''\n",
    "    \n",
    "    # Create subset dataframe containing just MetroState area in question\n",
    "    df_metro_cities_metarea = df_metro_cities.loc[df_metro_cities[col] == metarea]\n",
    "    ts = df_metro_cities_metarea\n",
    "    \n",
    "    # Using dict_sorted_metros_cities, create list of all cities in the MetroState area of interest\n",
    "    metro_cities_metarea = dict_sorted_metros_cities[metarea]\n",
    "    \n",
    "    # Create dictionary of cities and zips in metro area\n",
    "    from collections import defaultdict\n",
    "    dict_metarea_zips = defaultdict(list)\n",
    "    for idx,row in df_metro_zips_yr1.loc[df_metro_zips_yr1[col] == metarea].iterrows():\n",
    "        dict_metarea_zips[row['City']].append(row['Zip'])\n",
    "        \n",
    "    # create dictionary containing the number of zip codes in each city\n",
    "    dict_num_metarea_zips = {key: len(dict_metarea_zips[key]) for key in dict_metarea_zips.keys()}\n",
    "    \n",
    "    # Create Ordered dictionary sorting cities from most zip codes to least\n",
    "    ordict_metarea_zips_sorted = OrderedDict(sorted(dict_num_metarea_zips.items(), key=lambda item: item[1], reverse=True))\n",
    "    \n",
    "    # create list of cities that is sorted by size (as determined by number of zip codes)\n",
    "    metarea_cities_sorted = list(ordict_metarea_zips_sorted.keys())\n",
    "    \n",
    "    return ts, metarea_cities_sorted\n"
   ]
  },
  {
   "cell_type": "code",
   "execution_count": null,
   "metadata": {},
   "outputs": [],
   "source": [
    "df_nyny_cities, nyny_city_list = city_metro_list(df_metro_cities, dict_sorted_metros_cities, col = 'MetroState', metarea = 'New York NY')\n"
   ]
  },
  {
   "cell_type": "code",
   "execution_count": null,
   "metadata": {
    "scrolled": true
   },
   "outputs": [],
   "source": [
    "df_nyny_cities.head()"
   ]
  },
  {
   "cell_type": "code",
   "execution_count": null,
   "metadata": {
    "scrolled": false
   },
   "outputs": [],
   "source": [
    "nyny_city_list[:10]"
   ]
  },
  {
   "cell_type": "markdown",
   "metadata": {},
   "source": [
    "## Sacramento lists and dictionaries"
   ]
  },
  {
   "cell_type": "markdown",
   "metadata": {},
   "source": [
    "### Creating sac_metro_cities list from df_sac"
   ]
  },
  {
   "cell_type": "code",
   "execution_count": null,
   "metadata": {},
   "outputs": [],
   "source": [
    "sac_metro_cities = list(set(df_sac.City))\n",
    "sac_metro_cities[:10]"
   ]
  },
  {
   "cell_type": "code",
   "execution_count": null,
   "metadata": {
    "scrolled": true
   },
   "outputs": [],
   "source": [
    "sac_metro_cities.sort()\n",
    "sac_metro_cities\n"
   ]
  },
  {
   "cell_type": "code",
   "execution_count": null,
   "metadata": {
    "scrolled": true
   },
   "outputs": [],
   "source": [
    "df_sac['value'].loc[df_sac['City'] == 'Applegate'].head()"
   ]
  },
  {
   "cell_type": "markdown",
   "metadata": {},
   "source": [
    "### Creating sac_metro_zips list from zips in Sac Metro area"
   ]
  },
  {
   "cell_type": "code",
   "execution_count": null,
   "metadata": {},
   "outputs": [],
   "source": [
    "sac_metro_zips = list(set(df_sac.Zip))\n",
    "sac_metro_zips[:10]"
   ]
  },
  {
   "cell_type": "markdown",
   "metadata": {},
   "source": [
    "### Creating sac_metro_cty list from df_sac"
   ]
  },
  {
   "cell_type": "code",
   "execution_count": null,
   "metadata": {},
   "outputs": [],
   "source": [
    "sac_metro_cty = list(set(df_sac.CountyName))\n",
    "sac_metro_cty"
   ]
  },
  {
   "cell_type": "markdown",
   "metadata": {},
   "source": [
    "### Creating dict_zips_cities dictionary to graph zips by city"
   ]
  },
  {
   "cell_type": "code",
   "execution_count": null,
   "metadata": {},
   "outputs": [],
   "source": [
    "df_sac_mo_one = df_sac.groupby(['CountyName', 'City', 'Zip']).mean().reset_index()"
   ]
  },
  {
   "cell_type": "code",
   "execution_count": null,
   "metadata": {
    "scrolled": false
   },
   "outputs": [],
   "source": [
    "df_sac_mo_one.sort_values(by=['Zip']).head(30)\n",
    "\n",
    "#### Seeking to create the dictionary showing just the unique zip code instance rather than repeating it for each row of data) "
   ]
  },
  {
   "cell_type": "code",
   "execution_count": null,
   "metadata": {
    "scrolled": true
   },
   "outputs": [],
   "source": [
    "from collections import defaultdict\n",
    "\n",
    "dict_sac_zips_cities = defaultdict(list)\n",
    "\n",
    "for idx,row in df_sac_mo_one.iterrows():\n",
    "    dict_sac_zips_cities[row['City']].append(row['Zip'])\n",
    "    \n",
    "print(dict_sac_zips_cities)"
   ]
  },
  {
   "cell_type": "code",
   "execution_count": null,
   "metadata": {
    "scrolled": false
   },
   "outputs": [],
   "source": [
    "for key in sorted(dict_sac_zips_cities):\n",
    "    print(f\"{key}: {dict_sac_zips_cities[key]}\")"
   ]
  },
  {
   "cell_type": "markdown",
   "metadata": {},
   "source": [
    "### Creating sacto_zips (list of zip codes in City Sacramento)"
   ]
  },
  {
   "cell_type": "code",
   "execution_count": null,
   "metadata": {},
   "outputs": [],
   "source": [
    "sacto_zips = list(set(df_sacto_city_zips['Zip']))\n",
    "len(sacto_zips)"
   ]
  },
  {
   "cell_type": "markdown",
   "metadata": {},
   "source": [
    "# Step 3C: Visualization functions--plotting time series values"
   ]
  },
  {
   "cell_type": "code",
   "execution_count": null,
   "metadata": {},
   "outputs": [],
   "source": [
    "# Here's the code for graphing over the dictionary\n",
    "\n",
    "# for key in sorted(dict_zips_cities.keys()):\n",
    "#     fig, ax = plt.subplots(figsize=(8, 4))\n",
    "#     plt.title(f\"{key}\")\n",
    "#     for val in dict_zips_cities[key]:\n",
    "#         df_sac[df_sac['Zip'] == val].plot(ax = ax)\n",
    "#         ax.legend(dict_zips_cities[key], ncol=3)"
   ]
  },
  {
   "cell_type": "markdown",
   "metadata": {},
   "source": [
    "## Plotting function:  plot_ts (based on James Irving's study group)"
   ]
  },
  {
   "cell_type": "code",
   "execution_count": null,
   "metadata": {},
   "outputs": [],
   "source": [
    "# Framework from James Irving's study group for creating a plotting function that allows\n",
    "# entry of zip codes of interest\n",
    "\n",
    "def plot_ts(df_melt, col='value', zipcodes=['95616'], figsize=(12,8)):\n",
    "    \n",
    "    fig, ax = plt.subplots()\n",
    "    \n",
    "    for zc in zipcodes:\n",
    "        ts = df_melt[col].loc[df_melt['Zip'] == zc]\n",
    "        ts.plot(figsize=figsize, label = str(zc), ax=ax)\n",
    "\n",
    "    max_ = ts.loc['2004':'2010'].idxmax()  # 625600\n",
    "    crash = '01-2009'\n",
    "    min_ = ts.loc[crash:].idxmin()\n",
    "    max_all = ts.idxmax()\n",
    "    min_all = ts.idxmin()\n",
    "    mean_all = ts.mean()\n",
    "\n",
    "    ax.axvline('2004-01-01', label=f'2004', color = 'black')\n",
    "    ax.axvline('2011-12-01', label=f'2010', color = 'black')\n",
    "    ax.axvline(max_, label='Max Price in 2004 - 2010 timeframe', color = 'green', ls=':')\n",
    "    ax.axvline(crash, label = 'Housing Index Drops', color='black', ls=':')\n",
    "    ax.axvline(min_, label=f'Min Price Post Crash (2004 - 2010 timeframe) {min_}', color = 'red', ls=':')\n",
    "    ax.axvline(max_all, label='All time series max', color = 'green', ls=':')\n",
    "    ax.axvline(mean_all, label = 'All time series mean', color='red', ls=':')\n",
    "    ax.axvline(min_all, label=f'All time series min: {min_}', color = 'red', ls=':')\n",
    "\n",
    "    ax.legend()\n",
    "    \n",
    "    return fig, ax\n",
    "\n"
   ]
  },
  {
   "cell_type": "code",
   "execution_count": null,
   "metadata": {
    "scrolled": false
   },
   "outputs": [],
   "source": [
    "fig, ax = plot_ts(df_melt, zipcodes=['95616', '92008', '90035', '90025', '60625', '57701'])"
   ]
  },
  {
   "cell_type": "markdown",
   "metadata": {},
   "source": [
    "## Plotting function:  plot_single_geog function (plots a single geographic unit)"
   ]
  },
  {
   "cell_type": "code",
   "execution_count": null,
   "metadata": {},
   "outputs": [],
   "source": [
    "# Be sure to use df with appropriate value grouping (e.g., metro, city, zip)\n",
    "\n",
    "def plot_single_geog(df, col = 'value', col2 = 'MetroState', metunit = 'Sacramento CA', figsize=(12, 6)):\n",
    "    ts = df[col].loc[df[col2] == metunit]\n",
    "    ax = ts.plot(figsize=figsize, title = metunit, label = 'Raw Price')\n",
    "\n",
    "    max_ = ts.loc['2004':'2010'].idxmax()  \n",
    "    crash = '01-2009'\n",
    "    min_ = ts.loc[crash:].idxmin()\n",
    "    val_2003 = ts.loc['2003-01-01']\n",
    "\n",
    "    ax.axvline(max_, label='Max Price', color = 'green', ls=':')\n",
    "    ax.axvline(crash, label = 'Housing Index Drops', color='red', ls=':')\n",
    "    ax.axvline(min_, label=f'Min Price Post Crash {min_}', color = 'black')\n",
    "    ax.axhline(val_2003, label='2003-01-01 value', color = 'blue', ls='-.', alpha=0.15)\n",
    "\n",
    "    ax.legend()\n",
    "\n",
    "# plot_ts_metros(df_metro_values, metros, col='value', x = (12, 8), nrows = 1, ncols = 1, legend=True, set_ylim = False, ylim = 1500000)\n",
    "    \n",
    "# plot_ts(df_melt, col='value', zipcodes=['95616'])"
   ]
  },
  {
   "cell_type": "code",
   "execution_count": null,
   "metadata": {
    "scrolled": false
   },
   "outputs": [],
   "source": [
    "plot_single_geog(df_metro_values, col = 'value', col2 = 'MetroState', \n",
    "                 metunit = 'Dallas-Fort Worth TX', figsize=(12, 6))\n",
    "\n"
   ]
  },
  {
   "cell_type": "code",
   "execution_count": null,
   "metadata": {},
   "outputs": [],
   "source": [
    "plot_single_geog(df_metro_values, col = 'value', col2 = 'MetroState', \n",
    "                 metunit = 'Philadelphia PA', figsize=(12, 6))\n",
    "\n"
   ]
  },
  {
   "cell_type": "code",
   "execution_count": null,
   "metadata": {},
   "outputs": [],
   "source": [
    "plot_single_geog(df_metro_values, col = 'value', col2 = 'MetroState', \n",
    "                 metunit = 'Pittsburgh PA', figsize=(12, 6))\n"
   ]
  },
  {
   "cell_type": "code",
   "execution_count": null,
   "metadata": {},
   "outputs": [],
   "source": [
    "plot_single_geog(df_metro_values, col = 'value', col2 = 'MetroState', \n",
    "                 metunit = 'St. Louis MO', figsize=(12, 6))\n",
    "\n"
   ]
  },
  {
   "cell_type": "code",
   "execution_count": null,
   "metadata": {},
   "outputs": [],
   "source": [
    "plot_single_geog(df_metro_values, col = 'value', col2 = 'MetroState', \n",
    "                 metunit = 'Denver CO', figsize=(12, 6))\n"
   ]
  },
  {
   "cell_type": "code",
   "execution_count": null,
   "metadata": {},
   "outputs": [],
   "source": []
  },
  {
   "cell_type": "markdown",
   "metadata": {},
   "source": [
    "## Plot function:  plot_ts_metros()"
   ]
  },
  {
   "cell_type": "code",
   "execution_count": null,
   "metadata": {
    "scrolled": true
   },
   "outputs": [],
   "source": [
    "# Adapted from James Irving's study group:   \n",
    "    \n",
    "def plot_ts_metros(df, metros, col='value', x = (18, 80), nrows = 15, ncols = 2, legend=True, set_ylim = True, ylim = 1500000):\n",
    "    \n",
    "    fig = plt.figure(figsize=(18, 80))\n",
    "    \n",
    "    for i, met in enumerate(metros, start=1):\n",
    "        ax = fig.add_subplot(15,2,i)\n",
    "        \n",
    "        ts = df[col].loc[df['MetroState'] == met]\n",
    "        ts.plot(title = str(met), ax=ax)\n",
    "\n",
    "        max_ = ts.loc['2004':'2011'].idxmax()  \n",
    "        crash = '01-2009'\n",
    "        min_ = ts.loc[crash:].idxmin()\n",
    "        val_2003 = ts.loc['2003-01-01']\n",
    "\n",
    "        max_all = ts.idxmax()\n",
    "        min_all = ts.idxmin()\n",
    "\n",
    "        ax.axvline(max_, label=f'Max Price: {max_}', color = 'orange', ls=':')\n",
    "        ax.axvline(crash, label = 'Housing Index Drops', color='black')\n",
    "        ax.axvline(min_, label=f'Min Price Post Crash: {min_}', color = 'red', ls=':')\n",
    "        ax.axvline(max_all, label=f'All time series max {max_all}', color = 'green', ls=':')\n",
    "        ax.axvline(min_all, label=f'All time series min: {min_all}', color = 'red', ls=':')\n",
    "        try:\n",
    "            ax.axhline(val_2003, label='2003-01-01 value', color = 'blue', ls='-.', alpha=0.15)\n",
    "        except:\n",
    "            continue\n",
    "\n",
    "        if set_ylim:\n",
    "            ax.set_ylim(top=1000000)\n",
    "        if legend:\n",
    "            ax.legend()\n",
    "    \n",
    "        fig.tight_layout()\n",
    "    \n",
    "    return fig, ax\n"
   ]
  },
  {
   "cell_type": "markdown",
   "metadata": {},
   "source": [
    "### Plotting top 30 metro areas"
   ]
  },
  {
   "cell_type": "code",
   "execution_count": null,
   "metadata": {
    "scrolled": false
   },
   "outputs": [],
   "source": [
    "# Plotting top 30 metros; no standardized y-axis\n",
    "\n",
    "fig, ax = plot_ts_metros(df_metro_values, large_metro_list_30, set_ylim = False)"
   ]
  },
  {
   "cell_type": "code",
   "execution_count": null,
   "metadata": {
    "scrolled": true
   },
   "outputs": [],
   "source": [
    "# Plotting top 30 metros; standardized y-axis\n",
    "\n",
    "fig, ax = plot_ts_metros(df_metro_values, large_metro_list_30, x = (18, 80), nrows = 15, ncols = 2, set_ylim = True, ylim = 1000000)  "
   ]
  },
  {
   "cell_type": "markdown",
   "metadata": {},
   "source": [
    "## Plotting function:   plot_ts_cities (plot values by city)"
   ]
  },
  {
   "cell_type": "code",
   "execution_count": null,
   "metadata": {},
   "outputs": [],
   "source": [
    "# Adapted from James Irving's study group:\n",
    "    \n",
    "def plot_ts_cities(df, cities, col='value', x = (18, 100), nrows=30, ncols=2, \n",
    "                   legend=True, set_ylim = False, ylim = 1400000):\n",
    "    \n",
    "    fig = plt.figure(figsize=x)\n",
    "    \n",
    "    for i, city in enumerate(cities, start=1):\n",
    "        ax = fig.add_subplot(nrows, ncols, i)\n",
    "        \n",
    "        ts = df[col].loc[df['City'] == city]\n",
    "        ts.plot(title = str(city), ax=ax)\n",
    "\n",
    "        try:\n",
    "            max_ = ts.loc['2004':'2011'].idxmax() \n",
    "        except:\n",
    "            continue\n",
    "        crash = '01-2009'\n",
    "        min_ = ts.loc[crash:].idxmin()\n",
    "        try:\n",
    "            val_2003 = ts.loc['2003-01-01']\n",
    "        except:\n",
    "            continue\n",
    "\n",
    "        max_all = ts.idxmax()\n",
    "        min_all = ts.idxmin()\n",
    "\n",
    "        ax.axvline(max_, label=f'Max Price: {max_}', color = 'orange', ls=':')\n",
    "        ax.axvline(crash, label = 'Housing Index Drops', color='black')\n",
    "        ax.axvline(min_, label=f'Min Price Post Crash: {min_}', color = 'red', ls=':')\n",
    "        ax.axvline(max_all, label=f'All time series max {max_all}', color = 'green', ls=':')\n",
    "        ax.axvline(min_all, label=f'All time series min: {min_all}', color = 'red', ls=':')\n",
    "        try:\n",
    "            ax.axhline(val_2003, label='2003-01-01 value', color = 'blue', ls='-.', alpha=0.15)\n",
    "        except:\n",
    "            continue\n",
    "        if set_ylim:\n",
    "            ax.set_ylim(ylim)\n",
    "        if legend:\n",
    "            ax.legend(loc=\"best\")\n",
    "\n",
    "        fig.tight_layout()\n",
    "    \n",
    "    return fig, ax\n"
   ]
  },
  {
   "cell_type": "code",
   "execution_count": null,
   "metadata": {},
   "outputs": [],
   "source": [
    "df_nyny_cities"
   ]
  },
  {
   "cell_type": "code",
   "execution_count": null,
   "metadata": {
    "scrolled": false
   },
   "outputs": [],
   "source": [
    "plot_ts_cities(df_nyny_cities, nyny_metro_cities_sorted[1:40], col='value')"
   ]
  },
  {
   "cell_type": "markdown",
   "metadata": {},
   "source": [
    "## Plotting function:  plot_ts_metro_cities (metro area by city)"
   ]
  },
  {
   "cell_type": "code",
   "execution_count": null,
   "metadata": {},
   "outputs": [],
   "source": [
    "def plot_ts_metro_cities(df, dict_metro_cities, col='value', x = (18, 80), \n",
    "                         nrows=20, ncols=2, legend=False, set_ylim=False, ylim = 1400000):\n",
    "    \n",
    "    fig = plt.figure(figsize=x)\n",
    "    \n",
    "    for i, key in enumerate(sorted(dict_metro_cities.keys()), start=1):\n",
    "        ax = fig.add_subplot(nrows, ncols, i)\n",
    "        for val in dict_metro_cities[key]:\n",
    "            ts = df[col].loc[df['City'] == val]\n",
    "            try: \n",
    "                max_ = ts.loc['2004':'2011'].idxmax()  \n",
    "            except:\n",
    "                continue\n",
    "\n",
    "        ts.plot(title = f'{key}: {val}', ax=ax)\n",
    "\n",
    "        max_ = ts.loc['2004':'2011'].idxmax()  \n",
    "        crash = '01-2009'\n",
    "        min_ = ts.loc[crash:].idxmin()\n",
    "        val_2003 = ts.loc['2003-01-01']\n",
    "\n",
    "        max_all = ts.idxmax()\n",
    "        min_all = ts.idxmin()\n",
    "\n",
    "        ax.axvline(max_, label=f'Max Price: {max_}', color = 'orange', ls=':')\n",
    "        ax.axvline(crash, label = 'Housing Index Drops', color='black')\n",
    "        ax.axvline(min_, label=f'Min Price Post Crash: {min_}', color = 'red', ls=':')\n",
    "        ax.axvline(max_all, label=f'All time series max {max_all}', color = 'green', ls=':')\n",
    "        ax.axvline(min_all, label=f'All time series min: {min_all}', color = 'red', ls=':')\n",
    "        try:\n",
    "            ax.axhline(val_2003, label='2003-01-01 value', color = 'blue', ls='-.', alpha=0.15)\n",
    "        except:\n",
    "            continue\n",
    "        if set_ylim:\n",
    "            ax.set_ylim(top=ylim)\n",
    "        if legend:\n",
    "            ax.legend()\n",
    "    \n",
    "        fig.tight_layout()\n",
    "    \n",
    "    return fig, ax\n"
   ]
  },
  {
   "cell_type": "code",
   "execution_count": null,
   "metadata": {},
   "outputs": [],
   "source": [
    "# df_metro_cities_nyny.head()"
   ]
  },
  {
   "cell_type": "markdown",
   "metadata": {},
   "source": [
    "### Plotting city values in Sacramento CA metro area"
   ]
  },
  {
   "cell_type": "code",
   "execution_count": null,
   "metadata": {},
   "outputs": [],
   "source": [
    "df_sacmet_city_values, sacmet_city_list = city_metro_list(df_metro_cities, dict_sorted_metros_cities, \n",
    "                                                          col = 'MetroState', metarea = 'Sacramento CA')\n",
    "\n",
    "# df_nyny_cities, nyny_city_list = city_metro_list(df_metro_cities, dict_sorted_metros_cities, \n",
    "#                                                  col = 'MetroState', metarea = 'New York NY')"
   ]
  },
  {
   "cell_type": "code",
   "execution_count": null,
   "metadata": {
    "scrolled": true
   },
   "outputs": [],
   "source": [
    "df_sacmet_city_values.tail()"
   ]
  },
  {
   "cell_type": "code",
   "execution_count": null,
   "metadata": {
    "scrolled": true
   },
   "outputs": [],
   "source": [
    "sacmet_city_list.sort() # sort list before running in function to see city names alphabetically"
   ]
  },
  {
   "cell_type": "code",
   "execution_count": null,
   "metadata": {},
   "outputs": [],
   "source": [
    "print(sacmet_city_list)"
   ]
  },
  {
   "cell_type": "code",
   "execution_count": null,
   "metadata": {
    "scrolled": false
   },
   "outputs": [],
   "source": [
    "plot_ts_cities(df_sacmet_city_values, sacmet_city_list, col='value')\n"
   ]
  },
  {
   "cell_type": "markdown",
   "metadata": {},
   "source": [
    "## Plot function:  plot_ts_zips (plots individual zip codes in a list provided to the function)"
   ]
  },
  {
   "cell_type": "code",
   "execution_count": null,
   "metadata": {},
   "outputs": [],
   "source": [
    "# Adapted from James Irving's study group:\n",
    "    \n",
    "def plot_ts_zips(df, zipcodes, col='value', x = (18, 60), nrows=15, ncols=2, \n",
    "                 legend=True, set_ylim = False, ylim = 800000):\n",
    "    \n",
    "    fig = plt.figure(figsize=x)\n",
    "    \n",
    "    for i, zc in enumerate(zipcodes, start=1):\n",
    "        ax = fig.add_subplot(nrows, ncols, i)\n",
    "        \n",
    "        ts = df[col].loc[df['Zip'] == zc]\n",
    "        ts.plot(title = zc, ax=ax)\n",
    "        \n",
    "        try: \n",
    "            max_ = ts.loc['2004':'2011'].idxmax()  \n",
    "        except:\n",
    "            continue\n",
    "\n",
    "        crash = '01-2009'\n",
    "        min_ = ts.loc[crash:].idxmin()\n",
    "        val_2003 = ts.loc['2003-01-01']\n",
    "\n",
    "        max_all = ts.idxmax()\n",
    "        min_all = ts.idxmin()\n",
    "\n",
    "        ax.axvline(max_, label=f'Max Price: {max_}', color = 'orange', ls=':')\n",
    "        ax.axvline(crash, label = 'Housing Index Drops', color='black')\n",
    "        ax.axvline(min_, label=f'Min Price Post Crash: {min_}', color = 'red', ls=':')\n",
    "        ax.axvline(max_all, label=f'All time series max {max_all}', color = 'green', ls=':')\n",
    "        ax.axvline(min_all, label=f'All time series min: {min_all}', color = 'red', ls=':')\n",
    "        ax.axhline(val_2003, label='2003-01-01 value', color = 'blue', ls='-.', alpha=0.15)\n",
    "        if set_ylim:\n",
    "            ax.set_ylim(ylim)\n",
    "        if legend:\n",
    "            ax.legend(loc='best')\n",
    "    \n",
    "        fig.tight_layout()\n",
    "    \n",
    "    return fig, ax\n"
   ]
  },
  {
   "cell_type": "markdown",
   "metadata": {},
   "source": [
    "## Plotting function:  plot_single_geog function:  plots a single geographic unit"
   ]
  },
  {
   "cell_type": "code",
   "execution_count": null,
   "metadata": {},
   "outputs": [],
   "source": [
    "# Be sure to use df with appropriate value grouping (e.g., metro, city, zip)\n",
    "\n",
    "def plot_single_geog(df, col = 'value', col2 = 'MetroState', metunit = 'Sacramento CA', figsize=(12, 6)):\n",
    "    ts = df[col].loc[df[col2] == metunit]\n",
    "    ax = ts.plot(figsize=figsize, title = metunit, label = 'Raw Price')\n",
    "\n",
    "    max_ = ts.loc['2004':'2010'].idxmax()  \n",
    "    crash = '01-2009'\n",
    "    min_ = ts.loc[crash:].idxmin()\n",
    "    val_2003 = ts.loc['2003-01-01']\n",
    "\n",
    "    ax.axvline(max_, label='Max Price', color = 'green', ls=':')\n",
    "    ax.axvline(crash, label = 'Housing Index Drops', color='red', ls=':')\n",
    "    ax.axvline(min_, label=f'Min Price Post Crash {min_}', color = 'black')\n",
    "    ax.axhline(val_2003, label='2003-01-01 value', color = 'blue', ls='-.', alpha=0.15)\n",
    "\n",
    "    ax.legend()\n",
    "\n",
    "# plot_ts_metros(df_metro_values, metros, col='value', x = (12, 8), nrows = 1, ncols = 1, legend=True, set_ylim = False, ylim = 1500000)\n",
    "    \n",
    "# plot_ts(df_melt, col='value', zipcodes=['95616'])"
   ]
  },
  {
   "cell_type": "markdown",
   "metadata": {},
   "source": [
    "## Plotting function:  plot_ts_zips_by_city (Metro area cities with zip codes)"
   ]
  },
  {
   "cell_type": "code",
   "execution_count": null,
   "metadata": {
    "scrolled": true
   },
   "outputs": [],
   "source": [
    "# Function below adapted from James Irving's study group:\n",
    "    \n",
    "def plot_ts_zips_by_city(df, dict_zips_cities, col='value', x = (18, 100), \n",
    "                         nrows=30, ncols=2, legend=True, set_ylim = False, ylim = 1400000):\n",
    "    \n",
    "    fig = plt.figure(figsize=x)\n",
    "    \n",
    "    for i, key in enumerate(sorted(dict_zips_cities.keys()), start=1):\n",
    "        ax = fig.add_subplot(nrows, ncols, i)\n",
    "        for val in dict_zips_cities[key]:\n",
    "            ts = df[col].loc[df['Zip'] == val]\n",
    "            try: \n",
    "                max_ = ts.loc['2004':'2011'].idxmax()  \n",
    "            except:\n",
    "                continue\n",
    "            \n",
    "            crash = '01-2009'\n",
    "#             min_val = ts.loc[crash:].min()   # purpose of var is to use to graph horizontal line at price at 2003-01-01\n",
    "            min_ = ts.loc[crash:].idxmin()\n",
    "            ts.plot(title = key, ax=ax)\n",
    "#             val_2003 = ts.loc['2003-01-01']  # This is for graphic horizontal line at 2003 value, but can't \n",
    "                                               # get it to work on multiple zip plots \n",
    "            max_all = ts.idxmax()\n",
    "            min_all = ts.idxmin()\n",
    "\n",
    "            ax.axvline(max_, label = val, color = 'orange', ls=':')               \n",
    "            ax.axvline(crash, color='black')                         # no labels\n",
    "            ax.axvline(min_, color = 'red', ls=':')\n",
    "            ax.axvline(max_all, color = 'green', ls=':')  \n",
    "            ax.axvline(min_all, color = 'red', ls=':')  \n",
    "            ax.axvline('2003-01-01', color = 'blue', ls='-.', alpha=0.15)   # for label, insert the following:  label='2003-01-01'\n",
    "            \n",
    "            if set_ylim:\n",
    "                ax.set_ylim(ylim)\n",
    "            if legend:\n",
    "                ax.legend(loc=\"best\")\n",
    "    \n",
    "        fig.tight_layout()\n",
    "    \n",
    "    return fig, ax\n",
    "\n",
    "#  Ignore code below unless labels for each vertical line are desired\n",
    "\n",
    "#  ax.axvline(max_, label=f'Max Price: {max_}', color = 'orange', ls=':')              # contains labels\n",
    "#  ax.axvline(crash, label = 'Housing Index Drops', color='black')                     # contains labels\n",
    "#  ax.axvline(min_, label=f'Min Price Post Crash: {min_}', color = 'red', ls=':')      # contains labels\n",
    "#  ax.axhline(min_val, label=f'Min Price Post Crash: {min_}', color = 'red', ls='-.', alpha=0.15)  # can't get this to work on multiple zip plots \n",
    "#  ax.axvline(max_all, label=f'All time series max {max_all}', color = 'green', ls=':')  # contains labels\n",
    "#  ax.axvline(min_all, label=f'All time series min: {min_all}', color = 'red', ls=':')   # contains labels\n",
    "#  ax.axhline(ts.loc['2003-01-01'], label='2003-01-01 value', color = 'blue', ls='-.', alpha=0.15)  # can't get this to work on multiple zip plots \n",
    "\n"
   ]
  },
  {
   "cell_type": "markdown",
   "metadata": {},
   "source": [
    "## Plotting Sacramento values by zip code, grouped by city or within a city"
   ]
  },
  {
   "cell_type": "code",
   "execution_count": null,
   "metadata": {},
   "outputs": [],
   "source": [
    "df_sacto_city_zips = df_sac.loc[df_sac['City'] == 'Sacramento']\n",
    "df_sacto_city_zips.head()"
   ]
  },
  {
   "cell_type": "code",
   "execution_count": null,
   "metadata": {},
   "outputs": [],
   "source": [
    "df_sacto_city_zips['Zip'].value_counts()"
   ]
  },
  {
   "cell_type": "code",
   "execution_count": null,
   "metadata": {},
   "outputs": [],
   "source": [
    "sacto_zips = list(set(df_sacto_city_zips['Zip']))\n",
    "len(sacto_zips)"
   ]
  },
  {
   "cell_type": "code",
   "execution_count": null,
   "metadata": {
    "scrolled": true
   },
   "outputs": [],
   "source": [
    "ts = df_sacto_city_zips['value'].loc[df_sacto_city_zips['Zip'] == '95823']\n",
    "ts.head()"
   ]
  },
  {
   "cell_type": "markdown",
   "metadata": {},
   "source": [
    "### Plots of zip codes in City of Sacramento"
   ]
  },
  {
   "cell_type": "code",
   "execution_count": null,
   "metadata": {
    "scrolled": false
   },
   "outputs": [],
   "source": [
    "fig, ax = plot_ts_zips(df_sacto_city_zips, sacto_zips)\n"
   ]
  },
  {
   "cell_type": "markdown",
   "metadata": {},
   "source": [
    "### Plotting cities and zip codes within Sacramento Metro area "
   ]
  },
  {
   "cell_type": "code",
   "execution_count": null,
   "metadata": {},
   "outputs": [],
   "source": [
    "sorted(dict_sac_zips_cities)[:10]"
   ]
  },
  {
   "cell_type": "code",
   "execution_count": null,
   "metadata": {
    "scrolled": false
   },
   "outputs": [],
   "source": [
    "fig, ax = plot_ts_zips_by_city(df_sac, dict_sac_zips_cities, x=(18, 100), legend=True)\n"
   ]
  },
  {
   "cell_type": "markdown",
   "metadata": {},
   "source": [
    "### Creating df_sac_mo_city (monthly values by *City*)"
   ]
  },
  {
   "cell_type": "code",
   "execution_count": null,
   "metadata": {},
   "outputs": [],
   "source": [
    "df_sac_mo_city = df_sac"
   ]
  },
  {
   "cell_type": "code",
   "execution_count": null,
   "metadata": {},
   "outputs": [],
   "source": [
    "df_sac_mo_city.head()"
   ]
  },
  {
   "cell_type": "code",
   "execution_count": null,
   "metadata": {},
   "outputs": [],
   "source": [
    "df_sac_mo_city = df_sac.groupby(['CountyName', 'City', 'time']).mean()\n",
    "df_sac_mo_city.head()"
   ]
  },
  {
   "cell_type": "code",
   "execution_count": null,
   "metadata": {},
   "outputs": [],
   "source": [
    "df_sac_mo_city.reset_index(inplace=True)"
   ]
  },
  {
   "cell_type": "code",
   "execution_count": null,
   "metadata": {},
   "outputs": [],
   "source": [
    "df_sac_mo_city.set_index('time', inplace=True)"
   ]
  },
  {
   "cell_type": "code",
   "execution_count": null,
   "metadata": {
    "scrolled": false
   },
   "outputs": [],
   "source": [
    "# df_sac_mo_city.loc['1996-04-01':'2000-12-31']\n",
    "\n",
    "df_sac_mo_city"
   ]
  },
  {
   "cell_type": "code",
   "execution_count": null,
   "metadata": {},
   "outputs": [],
   "source": [
    "# df_sac_mo_city.drop('SizeRank', axis=1, inplace=True)"
   ]
  },
  {
   "cell_type": "code",
   "execution_count": null,
   "metadata": {},
   "outputs": [],
   "source": [
    "df_sac_mo_city.head()"
   ]
  },
  {
   "cell_type": "markdown",
   "metadata": {},
   "source": [
    "### Plotting value by city in Sacto Metro area"
   ]
  },
  {
   "cell_type": "code",
   "execution_count": null,
   "metadata": {
    "scrolled": false
   },
   "outputs": [],
   "source": [
    "fig, ax = plot_ts_cities(df_sac_mo_city, sac_metro_cities)"
   ]
  },
  {
   "cell_type": "code",
   "execution_count": null,
   "metadata": {},
   "outputs": [],
   "source": [
    "df_davis = df_sac.loc[df_sac['City'] == 'Davis']"
   ]
  },
  {
   "cell_type": "code",
   "execution_count": null,
   "metadata": {},
   "outputs": [],
   "source": [
    "df_davis.sort_values(by=['Zip', 'time'], inplace=True)\n",
    "df_davis.head()"
   ]
  },
  {
   "cell_type": "code",
   "execution_count": null,
   "metadata": {},
   "outputs": [],
   "source": [
    "# for zipcode in df_davis['Zip']:     # zipcodes for Davis\n",
    "#     print(zipcode, df_davis['value'])\n",
    "\n",
    "for zipcode in df_davis['Zip']:\n",
    "    df_davis['value'].loc[df_davis['Zip'] == zipcode].plot(figsize=(12, 7))\n",
    "\n",
    "# Seasonality appears not to be a big factor in this city in the Sacramento Valley of California"
   ]
  },
  {
   "cell_type": "code",
   "execution_count": null,
   "metadata": {
    "scrolled": true
   },
   "outputs": [],
   "source": [
    "df_davis_201415 = df_davis.loc['2004':'2015']\n",
    "df_davis_201415.head()"
   ]
  },
  {
   "cell_type": "code",
   "execution_count": null,
   "metadata": {
    "scrolled": false
   },
   "outputs": [],
   "source": [
    "for zipcode in df_davis_201415['Zip']:     # zipcodes for Woodland\n",
    "    df_davis_201415['value'].loc[df_davis_201415['Zip'] == zipcode].plot(figsize=(12, 7))\n",
    "\n",
    "    \n",
    "# very little seasonality is evident"
   ]
  },
  {
   "cell_type": "markdown",
   "metadata": {},
   "source": [
    "## Boxplots"
   ]
  },
  {
   "cell_type": "markdown",
   "metadata": {},
   "source": [
    "### Plotting boxplots for each city in Sacto Metro region"
   ]
  },
  {
   "cell_type": "code",
   "execution_count": null,
   "metadata": {
    "scrolled": false
   },
   "outputs": [],
   "source": [
    "# fig, ax = plt.subplots(figsize=(40,40))\n",
    "\n",
    "fig = plt.figure(figsize=(18, 40))\n",
    "\n",
    "for i, city in enumerate(sac_metro_cities, start=1):\n",
    "    ax = fig.add_subplot(10,6,i)\n",
    "    df_sac_mo_city.loc[df_sac_mo_city['City'] == city].boxplot(ax = ax)\n",
    "    ax.set_title(f'{city}')\n",
    "    fig.tight_layout()\n"
   ]
  },
  {
   "cell_type": "markdown",
   "metadata": {},
   "source": [
    "### Plotting boxplots for each zip in Sac Metro, by city"
   ]
  },
  {
   "cell_type": "code",
   "execution_count": null,
   "metadata": {
    "scrolled": true
   },
   "outputs": [],
   "source": [
    "fig = plt.figure(figsize=(18, 30))\n",
    "\n",
    "for i, zc in enumerate(sac_metro_zips[:48], start=1):\n",
    "    ax = fig.add_subplot(8,6,i)\n",
    "    ts = df_sac.loc[df_sac['Zip'] == zc]\n",
    "    ts.boxplot(column = 'value', ax = ax)\n",
    "    ax.set_title(f'{zc}')\n",
    "    fig.tight_layout()\n"
   ]
  },
  {
   "cell_type": "code",
   "execution_count": null,
   "metadata": {},
   "outputs": [],
   "source": [
    "print(len(dict_sac_zips_cities))"
   ]
  },
  {
   "cell_type": "code",
   "execution_count": null,
   "metadata": {},
   "outputs": [],
   "source": [
    "# first20pairs = {k: dict_sac_zips_cities[k] for k in list(dict_sac_zips_cities)[:20]}\n",
    "# type(first20pairs)"
   ]
  },
  {
   "cell_type": "code",
   "execution_count": null,
   "metadata": {},
   "outputs": [],
   "source": [
    "fig = plt.figure(figsize=(18, 50))\n",
    "\n",
    "for i, (city, zc) in enumerate(dict_sac_zips_cities.copy().items(), start=1):\n",
    "    ax = fig.add_subplot(14,6,i)\n",
    "    ax.set_title(f'{city}')\n",
    "    for i, zc in enumerate(dict_sac_zips_cities.copy()[city], start=1):\n",
    "        ts = df_sac.loc[df_sac['Zip'] == zc]\n",
    "        ts.boxplot(column = 'value')\n",
    "        fig.tight_layout()\n"
   ]
  },
  {
   "cell_type": "code",
   "execution_count": null,
   "metadata": {},
   "outputs": [],
   "source": [
    "df_sac_city = df_sac.loc[df_sac['City'] == 'Sacramento']\n",
    "\n",
    "df_sac_city.head()"
   ]
  },
  {
   "cell_type": "code",
   "execution_count": null,
   "metadata": {},
   "outputs": [],
   "source": [
    "sacto_zips = list(set(df_sac_city['Zip']))\n",
    "len(sacto_zips)\n"
   ]
  },
  {
   "cell_type": "code",
   "execution_count": null,
   "metadata": {},
   "outputs": [],
   "source": [
    "df_sac_city.boxplot(by='Zip', column = 'value', figsize=(16, 6))\n"
   ]
  },
  {
   "cell_type": "markdown",
   "metadata": {},
   "source": [
    "### Violin plot for Sacramento city zip codes"
   ]
  },
  {
   "cell_type": "code",
   "execution_count": null,
   "metadata": {},
   "outputs": [],
   "source": [
    "import seaborn as sns\n"
   ]
  },
  {
   "cell_type": "code",
   "execution_count": null,
   "metadata": {
    "scrolled": false
   },
   "outputs": [],
   "source": [
    "# got figure size  modification example from https://exceptionshub.com/how-do-i-change-the-figure-size-for-a-seaborn-plot.html\n",
    "\n",
    "# fig, ax = plt.subplots()\n",
    "# fig.set_size_inches(16, 6)\n",
    "# sns.violinplot(x=\"Zip\", y=\"value\", data=df_44, scale=\"count\", inner=\"stick\", ax=ax)\n",
    "\n",
    "fig, ax = plt.subplots()\n",
    "fig.set_size_inches(16, 6)\n",
    "sns.violinplot(x=\"Zip\", y=\"value\", data=df_sac_city, scale=\"width\", inner=\"quartile\", ax=ax)"
   ]
  },
  {
   "cell_type": "code",
   "execution_count": null,
   "metadata": {},
   "outputs": [],
   "source": [
    "df_sac_city_1996_1999 = df_sac_city.loc['1996-04-01':'1999-12-01']\n",
    "df_sac_city_1996_1999.tail()"
   ]
  },
  {
   "cell_type": "code",
   "execution_count": null,
   "metadata": {},
   "outputs": [],
   "source": [
    "fig, ax = plt.subplots()\n",
    "fig.set_size_inches(16, 6)\n",
    "sns.violinplot(x=\"Zip\", y=\"value\", data=df_sac_city_1996_1999, scale=\"width\", inner=\"quartile\", ax=ax)"
   ]
  },
  {
   "cell_type": "code",
   "execution_count": null,
   "metadata": {},
   "outputs": [],
   "source": [
    "df_sac_city_2000_2003 = df_sac_city.loc['2000-01-01':'2003-12-01']\n",
    "df_sac_city_2000_2003.head()"
   ]
  },
  {
   "cell_type": "code",
   "execution_count": null,
   "metadata": {},
   "outputs": [],
   "source": [
    "fig, ax = plt.subplots()\n",
    "fig.set_size_inches(16, 6)\n",
    "sns.violinplot(x=\"Zip\", y=\"value\", data=df_sac_city_2000_2003, scale=\"width\", inner=\"quartile\", ax=ax)"
   ]
  },
  {
   "cell_type": "code",
   "execution_count": null,
   "metadata": {},
   "outputs": [],
   "source": [
    "df_sac_city_2004_2006 = df_sac_city.loc['2004-01-01':'2006-12-01']\n",
    "df_sac_city_2004_2006.head()"
   ]
  },
  {
   "cell_type": "code",
   "execution_count": null,
   "metadata": {},
   "outputs": [],
   "source": [
    "fig, ax = plt.subplots()\n",
    "fig.set_size_inches(16, 6)\n",
    "sns.violinplot(x=\"Zip\", y=\"value\", data=df_sac_city_2004_2006, scale=\"width\", inner=\"quartile\", ax=ax)"
   ]
  },
  {
   "cell_type": "code",
   "execution_count": null,
   "metadata": {},
   "outputs": [],
   "source": [
    "df_sac_city_2007_2012 = df_sac_city.loc['2007-01-01':'2012-12-01']\n",
    "df_sac_city_2007_2012.head()"
   ]
  },
  {
   "cell_type": "code",
   "execution_count": null,
   "metadata": {},
   "outputs": [],
   "source": [
    "fig, ax = plt.subplots()\n",
    "fig.set_size_inches(16, 6)\n",
    "sns.violinplot(x=\"Zip\", y=\"value\", data=df_sac_city_2007_2012, scale=\"width\", inner=\"quartile\", ax=ax)"
   ]
  },
  {
   "cell_type": "code",
   "execution_count": null,
   "metadata": {},
   "outputs": [],
   "source": [
    "df_sac_city_2013_2018 = df_sac_city.loc['2013-01-01':'2018']\n",
    "df_sac_city_2013_2018.tail()"
   ]
  },
  {
   "cell_type": "code",
   "execution_count": null,
   "metadata": {},
   "outputs": [],
   "source": [
    "fig, ax = plt.subplots()\n",
    "fig.set_size_inches(16, 6)\n",
    "sns.violinplot(x=\"Zip\", y=\"value\", data=df_sac_city_2013_2018, scale=\"width\", inner=\"quartile\", ax=ax)"
   ]
  },
  {
   "cell_type": "markdown",
   "metadata": {},
   "source": [
    "### Line plot for Davis, CA, marking height of market bubble, drop of housing index on national level, and min for Davis post crash"
   ]
  },
  {
   "cell_type": "code",
   "execution_count": null,
   "metadata": {
    "scrolled": false
   },
   "outputs": [],
   "source": [
    "# Looking at a single zip code (mine)\n",
    "\n",
    "ts = df_sac['value'].loc[df_sac['Zip'] == '95616']\n",
    "ax = ts.plot(figsize=(10, 6), label = 'Raw Price')\n",
    "\n",
    "max_ = ts.loc['2004':'2010'].idxmax()  # 625600\n",
    "crash = '01-2009'\n",
    "min_ = ts.loc[crash:].idxmin()\n",
    "\n",
    "\n",
    "ax.axvline(max_, label='Max Price', color = 'green', ls=':')\n",
    "ax.axvline(crash, label = 'Housing Index Drops', color='red', ls=':')\n",
    "ax.axvline(min_, label=f'Min Price Post Crash {min_}', color = 'black')\n",
    "ax.legend()"
   ]
  },
  {
   "cell_type": "markdown",
   "metadata": {},
   "source": [
    "# Step 3D:  Visualizations"
   ]
  },
  {
   "cell_type": "markdown",
   "metadata": {},
   "source": [
    "## Set ts = zip code for initial test\n"
   ]
  },
  {
   "cell_type": "code",
   "execution_count": null,
   "metadata": {
    "scrolled": true
   },
   "outputs": [],
   "source": [
    "ts = df_melt.loc[df_melt['Zip'] == '95616']"
   ]
  },
  {
   "cell_type": "code",
   "execution_count": null,
   "metadata": {},
   "outputs": [],
   "source": [
    "ts.head()"
   ]
  },
  {
   "cell_type": "code",
   "execution_count": null,
   "metadata": {},
   "outputs": [],
   "source": [
    "ts = ts.resample('MS').asfreq()"
   ]
  },
  {
   "cell_type": "code",
   "execution_count": null,
   "metadata": {},
   "outputs": [],
   "source": [
    "ts.head()"
   ]
  },
  {
   "cell_type": "code",
   "execution_count": null,
   "metadata": {
    "scrolled": false
   },
   "outputs": [],
   "source": [
    "plot_ts(df_melt, col='value', zipcodes=['95616'])"
   ]
  },
  {
   "cell_type": "code",
   "execution_count": null,
   "metadata": {
    "scrolled": true
   },
   "outputs": [],
   "source": [
    "plot_single_geog(df_metro_values, col = 'value', col2 = 'MetroState', \n",
    "                 metunit = 'Dallas-Fort Worth TX', figsize=(12, 6))\n",
    "\n"
   ]
  },
  {
   "cell_type": "code",
   "execution_count": null,
   "metadata": {},
   "outputs": [],
   "source": [
    "plot_single_geog(df_metro_values, col = 'value', col2 = 'MetroState', \n",
    "                 metunit = 'Philadelphia PA', figsize=(12, 6))\n",
    "\n"
   ]
  },
  {
   "cell_type": "code",
   "execution_count": null,
   "metadata": {},
   "outputs": [],
   "source": [
    "plot_single_geog(df_metro_values, col = 'value', col2 = 'MetroState', \n",
    "                 metunit = 'Pittsburgh PA', figsize=(12, 6))\n"
   ]
  },
  {
   "cell_type": "code",
   "execution_count": null,
   "metadata": {},
   "outputs": [],
   "source": [
    "plot_single_geog(df_metro_values, col = 'value', col2 = 'MetroState', \n",
    "                 metunit = 'St. Louis MO', figsize=(12, 6))\n",
    "\n"
   ]
  },
  {
   "cell_type": "code",
   "execution_count": null,
   "metadata": {},
   "outputs": [],
   "source": [
    "plot_single_geog(df_metro_values, col = 'value', col2 = 'MetroState', \n",
    "                 metunit = 'Denver CO', figsize=(12, 6))\n"
   ]
  },
  {
   "cell_type": "code",
   "execution_count": null,
   "metadata": {},
   "outputs": [],
   "source": []
  },
  {
   "cell_type": "markdown",
   "metadata": {},
   "source": [
    "## Creating ACF and PACF plots"
   ]
  },
  {
   "cell_type": "code",
   "execution_count": null,
   "metadata": {},
   "outputs": [],
   "source": [
    "from statsmodels.tsa.seasonal import seasonal_decompose\n",
    "from statsmodels.graphics.tsaplots import plot_acf, plot_pacf\n",
    "from pandas.plotting import autocorrelation_plot, lag_plot"
   ]
  },
  {
   "cell_type": "code",
   "execution_count": null,
   "metadata": {
    "scrolled": true
   },
   "outputs": [],
   "source": [
    "ts.head(3)"
   ]
  },
  {
   "cell_type": "code",
   "execution_count": null,
   "metadata": {},
   "outputs": [],
   "source": [
    "ts = ts.drop('SizeRank', axis=1)"
   ]
  },
  {
   "cell_type": "code",
   "execution_count": null,
   "metadata": {},
   "outputs": [],
   "source": [
    "ts.head(3)"
   ]
  },
  {
   "cell_type": "code",
   "execution_count": null,
   "metadata": {},
   "outputs": [],
   "source": [
    "ts = ts['value']"
   ]
  },
  {
   "cell_type": "code",
   "execution_count": null,
   "metadata": {
    "scrolled": false
   },
   "outputs": [],
   "source": [
    "def plot_acf_pacf(ts, figsize=(10,6), lags=15):\n",
    "    fig, ax = plt.subplots(nrows=2, figsize=figsize)\n",
    "    plot_acf(ts, ax=ax[0], lags=lags)\n",
    "    plot_pacf(ts, ax=ax[1], lags=lags)\n",
    "    plt.tight_layout()\n",
    "    \n",
    "    for a in ax:\n",
    "        a.xaxis.set_major_locator(mpl.ticker.MaxNLocator(min_n_ticks=lags, integer=True))\n",
    "        a.xaxis.grid()\n",
    "    \n",
    "plot_acf_pacf(ts)"
   ]
  },
  {
   "cell_type": "markdown",
   "metadata": {},
   "source": [
    "## Seasonal Decomposition"
   ]
  },
  {
   "cell_type": "code",
   "execution_count": null,
   "metadata": {},
   "outputs": [],
   "source": [
    "# from James Irving's study group\n",
    "# plot seasonal decomposition\n",
    "\n",
    "def plot_seasonal_decomp(ts):\n",
    "    decomp = seasonal_decompose(ts)\n",
    "    ts_seasonal = decomp.seasonal\n",
    "\n",
    "    ax = ts_seasonal.plot()\n",
    "    fig = ax.get_figure()\n",
    "    fig.set_size_inches(18,6)\n",
    "\n",
    "    min_ = ts_seasonal.idxmin()\n",
    "    max_ = ts_seasonal.idxmax()\n",
    "    max_2 = ts_seasonal.loc[min_:].idxmax()\n",
    "    min_2 = ts_seasonal.loc[max_2:].idxmin()\n",
    "\n",
    "\n",
    "    ax.axvline(min_, label=min_, c='orange')\n",
    "    ax.axvline(max_, c='orange', ls=':')\n",
    "    ax.axvline(min_2, c='orange')\n",
    "    ax.axvline(max_2, c='orange', ls=':')\n",
    "\n",
    "    period = min_2 - min_ \n",
    "    ax.set_title(f'Season Length = {period}')\n",
    "    \n",
    "    return fig, ax\n",
    "\n",
    "# Seasonality isn't much of a factor... maybe 0.1% in recent years from the lowest point in the year to the highest "
   ]
  },
  {
   "cell_type": "code",
   "execution_count": null,
   "metadata": {},
   "outputs": [],
   "source": [
    "plot_seasonal_decomp(ts)"
   ]
  },
  {
   "cell_type": "markdown",
   "metadata": {},
   "source": [
    "# Step 4:  ARIMA Modeling"
   ]
  },
  {
   "cell_type": "code",
   "execution_count": null,
   "metadata": {},
   "outputs": [],
   "source": [
    "print(type(ts))\n",
    "ts.head()  # check ts; should be a series with time as index and values"
   ]
  },
  {
   "cell_type": "markdown",
   "metadata": {},
   "source": [
    "## Creating p, d, q, and m values for running ARIMA model"
   ]
  },
  {
   "cell_type": "code",
   "execution_count": null,
   "metadata": {},
   "outputs": [],
   "source": [
    "import itertools\n",
    "\n",
    "p_range = [0, 1, 2, 4, 8, 10]\n",
    "q_range = range(0, 3)\n",
    "d_range = range(1, 3)\n",
    "m_range = (0, 6, 12)\n",
    "\n",
    "pdq = list(itertools.product(p_range, d_range, q_range))\n",
    "print(pdq)\n",
    "print()\n",
    "PDQM = list(itertools.product(p_range, d_range, q_range, m_range))\n",
    "print(PDQM[:20])"
   ]
  },
  {
   "cell_type": "code",
   "execution_count": null,
   "metadata": {
    "scrolled": true
   },
   "outputs": [],
   "source": [
    "def make_pdq_pdqm(p_range=(0,4), d_range=(0,3), q_range=(0,4), make_seasonal=True,\n",
    "                  m_values=(0,12)):\n",
    "    import itertools\n",
    "    p_values =range(p_range[0],p_range[1])\n",
    "    d_values =range(d_range[0],d_range[1])\n",
    "    q_values =range(q_range[0],q_range[1])\n",
    "    \n",
    "    params = {}\n",
    "    params['pdq'] = list(itertools.product(p_values, d_values, q_values))\n",
    "    \n",
    "    if make_seasonal:\n",
    "        params['PDQm'] = list(itertools.product(p_values, d_values, q_values, m_values))\n",
    "    return params\n",
    "\n",
    "params = make_pdq_pdqm()\n",
    "print(params.keys())\n",
    "print(params['pdq'][:20])\n",
    "params['PDQm'][:20]\n",
    "    "
   ]
  },
  {
   "cell_type": "markdown",
   "metadata": {},
   "source": [
    "## Setting up functions for running ARIMA models"
   ]
  },
  {
   "cell_type": "code",
   "execution_count": null,
   "metadata": {},
   "outputs": [],
   "source": [
    "ts = df_melt['value'].loc[df_melt['Zip'] == '95616']"
   ]
  },
  {
   "cell_type": "code",
   "execution_count": null,
   "metadata": {},
   "outputs": [],
   "source": [
    "ts.head()"
   ]
  },
  {
   "cell_type": "code",
   "execution_count": null,
   "metadata": {},
   "outputs": [],
   "source": [
    "import warnings\n",
    "from statsmodels.tsa.arima_model import ARIMA\n",
    "import statsmodels.api as sm\n",
    "from sklearn.metrics import mean_squared_error\n"
   ]
  },
  {
   "cell_type": "code",
   "execution_count": null,
   "metadata": {},
   "outputs": [],
   "source": [
    "def arima_predict_error(X, arima_order):\n",
    "    train_size = int(len(X) * .85)\n",
    "    train, test = X[0:train_size], X[train_size:]\n",
    "    predictions = list()\n",
    "    history = [x for x in train]\n",
    "    for t in range(len(test)):\n",
    "        model = ARIMA(history, order = arima_order)\n",
    "        model_fit = model.fit(disp=0)\n",
    "        y_hat = model_fit.forecast()[0]\n",
    "        predictions.append(y_hat)\n",
    "        history.append(test[t])\n",
    "    error = mean_squared_error(test, predictions)\n",
    "    return error\n",
    "\n",
    "def eval_arima_models(data, p_values, d_values, q_values):\n",
    "    data = data.astype('float32')\n",
    "    best_score, best_cfg = float(\"inf\"), None\n",
    "    for p in p_values:\n",
    "        for d in d_values:\n",
    "            for q in q_values:\n",
    "                order = (p,d,q)\n",
    "                try:\n",
    "                    mse = arima_predict_error(data, order)\n",
    "                    if mse < best_score:\n",
    "                        best_score, best_cfg = mse, order\n",
    "                    print('ARIMA%s MSE=%.3f' % (order,mse))\n",
    "                except:\n",
    "                    continue\n",
    "    print('Best ARIMA%s MSE=%.3f' % (best_cfg, best_score))\n"
   ]
  },
  {
   "cell_type": "markdown",
   "metadata": {},
   "source": [
    "## Function to find best p,d,q parameters for ARIMA model"
   ]
  },
  {
   "cell_type": "code",
   "execution_count": null,
   "metadata": {},
   "outputs": [],
   "source": [
    "# evaluate parameters\n",
    "p_values = [0, 1, 2, 4, 8, 10]\n",
    "d_values = range(0, 3)\n",
    "q_values = range(0, 3)\n",
    "warnings.filterwarnings(\"ignore\")\n",
    "# eval_arima_models(ts.values, p_values, d_values, q_values)    "
   ]
  },
  {
   "cell_type": "markdown",
   "metadata": {},
   "source": [
    "# Step 5: Interpreting Results"
   ]
  },
  {
   "cell_type": "markdown",
   "metadata": {},
   "source": [
    "## Create ARIMA model and show summary results table"
   ]
  },
  {
   "cell_type": "code",
   "execution_count": null,
   "metadata": {},
   "outputs": [],
   "source": [
    "# Define function\n",
    "\n",
    "def arima_zipcode(ts, order=None):\n",
    "    model = ARIMA(ts.values, order = order)\n",
    "    model_fit = model.fit(disp=0)\n",
    "    print(model_fit.summary())\n",
    "    return model_fit"
   ]
  },
  {
   "cell_type": "code",
   "execution_count": null,
   "metadata": {
    "scrolled": true
   },
   "outputs": [],
   "source": [
    "model_fit_davis = arima_zipcode(ts, order = (1,1,1))"
   ]
  },
  {
   "cell_type": "code",
   "execution_count": null,
   "metadata": {},
   "outputs": [],
   "source": [
    "model_fit_davis"
   ]
  },
  {
   "cell_type": "markdown",
   "metadata": {},
   "source": [
    "## Create forecast model"
   ]
  },
  {
   "cell_type": "code",
   "execution_count": null,
   "metadata": {},
   "outputs": [],
   "source": [
    "# Define function\n",
    "\n",
    "def forecast(model_fit, months=24, confint=2):\n",
    "    forecast = model_fit.forecast(months)\n",
    "    actual_forecast = forecast[0]\n",
    "    std_error = forecast[1]\n",
    "    forecast_confint = forecast[confint]\n",
    "    return actual_forecast, std_error, forecast_confint   # note that this leaves behind the middle range of numbers in the forecast result"
   ]
  },
  {
   "cell_type": "code",
   "execution_count": null,
   "metadata": {},
   "outputs": [],
   "source": [
    "actual_forecast, std_error, forecast_confint = forecast(model_fit_davis)"
   ]
  },
  {
   "cell_type": "code",
   "execution_count": null,
   "metadata": {},
   "outputs": [],
   "source": [
    "actual_forecast, std_error, forecast_confint  # note standard error balloons the \n",
    "                                              # further into the future we go"
   ]
  },
  {
   "cell_type": "code",
   "execution_count": null,
   "metadata": {},
   "outputs": [],
   "source": [
    "forecast = model_fit_davis.forecast(24)"
   ]
  },
  {
   "cell_type": "code",
   "execution_count": null,
   "metadata": {},
   "outputs": [],
   "source": [
    "forecast"
   ]
  },
  {
   "cell_type": "markdown",
   "metadata": {},
   "source": [
    "## Create dataframe to hold these values and join to existing dataframe"
   ]
  },
  {
   "cell_type": "code",
   "execution_count": null,
   "metadata": {},
   "outputs": [],
   "source": [
    "# Define function\n",
    "\n",
    "def forecast_df(col = 'time', daterange = pd.date_range(start='2018-05-01', end='2020-04-01', freq='MS'), \n",
    "                actual_forecast=actual_forecast, forecast_confint = forecast_confint):\n",
    "    df_forecast = pd.DataFrame({col: daterange})\n",
    "    df_forecast['forecast'] = actual_forecast\n",
    "    df_forecast['forecast_lower'] = forecast_confint[:, 0]\n",
    "    df_forecast['forecast_upper'] = forecast_confint[:, 1]\n",
    "    df_forecast.set_index('time', inplace=True)\n",
    "    return df_forecast"
   ]
  },
  {
   "cell_type": "code",
   "execution_count": null,
   "metadata": {
    "scrolled": true
   },
   "outputs": [],
   "source": [
    "df_forecast = forecast_df()"
   ]
  },
  {
   "cell_type": "markdown",
   "metadata": {},
   "source": [
    "## Create df_new with historical and forecasted values"
   ]
  },
  {
   "cell_type": "code",
   "execution_count": null,
   "metadata": {},
   "outputs": [],
   "source": [
    "ts.head()"
   ]
  },
  {
   "cell_type": "code",
   "execution_count": null,
   "metadata": {},
   "outputs": [],
   "source": [
    "def concat_values_forecast(ts, df_forecast):\n",
    "    df_new = pd.concat([ts, df_forecast])\n",
    "    df_new = df_new.rename(columns = {0: 'value'})\n",
    "    return df_new"
   ]
  },
  {
   "cell_type": "code",
   "execution_count": null,
   "metadata": {},
   "outputs": [],
   "source": [
    "df_new = concat_values_forecast(ts, df_forecast)"
   ]
  },
  {
   "cell_type": "code",
   "execution_count": null,
   "metadata": {},
   "outputs": [],
   "source": [
    "df_new"
   ]
  },
  {
   "cell_type": "code",
   "execution_count": null,
   "metadata": {},
   "outputs": [],
   "source": [
    "df_new.head()"
   ]
  },
  {
   "cell_type": "code",
   "execution_count": null,
   "metadata": {},
   "outputs": [],
   "source": [
    "df_new.tail()"
   ]
  },
  {
   "cell_type": "markdown",
   "metadata": {},
   "source": [
    "## Plot forecast results"
   ]
  },
  {
   "cell_type": "code",
   "execution_count": null,
   "metadata": {},
   "outputs": [],
   "source": [
    "# Define function\n",
    "\n",
    "def plot_forecast(df = df_new, figsize=(12,8), geog='95616'):\n",
    "    fig = plt.figure(figsize=figsize)\n",
    "    plt.plot(df_new['value'], label='Raw Data')\n",
    "    plt.plot(df_new['forecast'], label='Forecast')\n",
    "    plt.fill_between(df_new.index, df_new['forecast_lower'], df_new['forecast_upper'], color='k', alpha = 0.2, \n",
    "                 label='Confidence Interval')\n",
    "    plt.legend(loc = 'upper left')\n",
    "    plt.title(f'Forecast for {geog}')\n"
   ]
  },
  {
   "cell_type": "code",
   "execution_count": null,
   "metadata": {},
   "outputs": [],
   "source": [
    "plot_forecast()"
   ]
  },
  {
   "cell_type": "markdown",
   "metadata": {},
   "source": [
    "## Figure out percent change in home values"
   ]
  },
  {
   "cell_type": "code",
   "execution_count": null,
   "metadata": {},
   "outputs": [],
   "source": [
    "# Define functions\n",
    "\n",
    "def forecast_values(df = df_new, date = '2020-04-01'):\n",
    "    forecasted_price = df.loc['2020-04-01', 'forecast']\n",
    "    forecasted_lower = df.loc['2020-04-01', 'forecast_lower']\n",
    "    forecasted_upper = df.loc['2020-04-01', 'forecast_upper']    \n",
    "    return forecasted_price, forecasted_lower, forecasted_upper"
   ]
  },
  {
   "cell_type": "code",
   "execution_count": null,
   "metadata": {},
   "outputs": [],
   "source": [
    "forecasted_price, forecasted_lower, forecasted_upper = forecast_values()"
   ]
  },
  {
   "cell_type": "code",
   "execution_count": null,
   "metadata": {},
   "outputs": [],
   "source": [
    "forecasted_price, forecasted_lower, forecasted_upper"
   ]
  },
  {
   "cell_type": "code",
   "execution_count": null,
   "metadata": {},
   "outputs": [],
   "source": [
    "def last_value(df = df_new, date = '2018-04-01'):\n",
    "    last_value = df.loc[date, 'value']\n",
    "    return last_value\n"
   ]
  },
  {
   "cell_type": "code",
   "execution_count": null,
   "metadata": {},
   "outputs": [],
   "source": [
    "last_value = last_value()"
   ]
  },
  {
   "cell_type": "code",
   "execution_count": null,
   "metadata": {},
   "outputs": [],
   "source": [
    "last_value"
   ]
  },
  {
   "cell_type": "markdown",
   "metadata": {},
   "source": [
    "## Compute and print predicted, best, and worst case scenarios"
   ]
  },
  {
   "cell_type": "code",
   "execution_count": null,
   "metadata": {},
   "outputs": [],
   "source": [
    "# Define function\n",
    "\n",
    "def pred_best_worst(pred, low, high, last, date='April 1, 2020'):\n",
    "    pred_pct_change = (((pred - last) / last) * 100)\n",
    "    print(f'By the model prediction, I would expect to see a {round(pred_pct_change, 3)}% change in price by April 1, 2020')\n",
    "    lower_pct_change = ((low - last) / last) * 100\n",
    "    print(f'At the lower bound of the confidence interval, I would expect to see a {round(lower_pct_change, 3)}% change in price by April 1, 2020')\n",
    "    upper_pct_change = ((high - last) / last) * 100\n",
    "    print(f'At the upper bound of the confidence interval, I would expect to see a {round(upper_pct_change, 3)}% change in price by April 1, 2020')\n",
    "        "
   ]
  },
  {
   "cell_type": "code",
   "execution_count": null,
   "metadata": {},
   "outputs": [],
   "source": [
    "pred_best_worst(pred=forecasted_price, low=forecasted_lower, high=forecasted_upper, last=last_value, date='April 1, 2020')"
   ]
  },
  {
   "cell_type": "markdown",
   "metadata": {
    "heading_collapsed": true
   },
   "source": [
    "# Dallas-Fort Worth TX Metro Area:  FUNCTIONS to run"
   ]
  },
  {
   "cell_type": "markdown",
   "metadata": {
    "hidden": true
   },
   "source": [
    "## Create ts dataframe for *single* geographic area"
   ]
  },
  {
   "cell_type": "markdown",
   "metadata": {
    "hidden": true
   },
   "source": [
    "## Dallas-Fort Worth TX"
   ]
  },
  {
   "cell_type": "code",
   "execution_count": null,
   "metadata": {
    "hidden": true
   },
   "outputs": [],
   "source": [
    "# print(sorted(metro_state_list))"
   ]
  },
  {
   "cell_type": "code",
   "execution_count": null,
   "metadata": {
    "hidden": true
   },
   "outputs": [],
   "source": [
    "geog_area = 'Dallas-Fort Worth TX'"
   ]
  },
  {
   "cell_type": "markdown",
   "metadata": {
    "hidden": true
   },
   "source": [
    "### Create dataframe containing values for just this geographic unit"
   ]
  },
  {
   "cell_type": "code",
   "execution_count": null,
   "metadata": {
    "hidden": true
   },
   "outputs": [],
   "source": [
    "# df_geog = df_geog(df=df_metro_cities, col = 'MetroState', geog = 'New York NY')\n",
    "\n",
    "# If using a different geographic unit, such as city or metro area, change 'Zip' column accordingly\n",
    "# ts = df_metro_values.loc[df_metro_values['MetroState'] == geog_area]  # ts for all of the following functions should have only one zipcode\n",
    "# ts.head()\n",
    "\n",
    "ts_dallas = df_metro_values.loc[df_metro_values['MetroState'] == geog_area]  # ts for all of the following functions should have only one zipcode\n",
    "ts_dallas.head()\n"
   ]
  },
  {
   "cell_type": "code",
   "execution_count": null,
   "metadata": {
    "hidden": true,
    "scrolled": true
   },
   "outputs": [],
   "source": [
    "# ts.head()\n",
    "\n",
    "ts_dallas.head()"
   ]
  },
  {
   "cell_type": "code",
   "execution_count": null,
   "metadata": {
    "hidden": true
   },
   "outputs": [],
   "source": [
    "# ts = ts.value\n",
    "\n",
    "ts_dallas_values = ts_dallas.value"
   ]
  },
  {
   "cell_type": "code",
   "execution_count": null,
   "metadata": {
    "hidden": true
   },
   "outputs": [],
   "source": [
    "# ts.head()\n",
    "\n",
    "ts_dallas_values.head()"
   ]
  },
  {
   "cell_type": "markdown",
   "metadata": {
    "hidden": true
   },
   "source": [
    "### Visualizations"
   ]
  },
  {
   "cell_type": "markdown",
   "metadata": {
    "hidden": true
   },
   "source": [
    "#### plot_ts:  Plot zip code(s) of interest over time, with market highs and lows"
   ]
  },
  {
   "cell_type": "code",
   "execution_count": null,
   "metadata": {
    "hidden": true,
    "scrolled": false
   },
   "outputs": [],
   "source": [
    "# fig, ax = plot_ts(df_melt, zipcodes=['95616', '92008', '90035', '90025', '60625', '57701'])  # enter desired zip code(s)\n"
   ]
  },
  {
   "cell_type": "markdown",
   "metadata": {
    "hidden": true
   },
   "source": [
    "#### plot_ts_metros:  Plot values by Metro area"
   ]
  },
  {
   "cell_type": "code",
   "execution_count": null,
   "metadata": {
    "hidden": true
   },
   "outputs": [],
   "source": [
    "# fig, ax = plot_ts_metros(df, metros, col='value', x = (18, 80), nrows = 15, ncols = 2, legend=True, set_ylim = True, ylim = 1500000)\n",
    "# select dataframe that has grouped values by METRO area, and metro area list\n",
    "\n",
    "# fig, ax = plot_ts_metros(df_metro_values, large_metro_list_30, col='value', x = (18, 40), nrows = 15, ncols = 2, set_ylim = False, ylim = 1500000)\n"
   ]
  },
  {
   "cell_type": "markdown",
   "metadata": {
    "hidden": true
   },
   "source": [
    "####  plot_ts_metro_cities:  Plot values by Metro area AND city"
   ]
  },
  {
   "cell_type": "code",
   "execution_count": null,
   "metadata": {
    "hidden": true,
    "scrolled": true
   },
   "outputs": [],
   "source": [
    "# select dataframe that has grouped values by METRO area and CITY \n",
    "\n",
    "# fig, ax = plot_ts_metro_cities(df, metro_cities, col='value', x = (18, 80), \n",
    "#                          nrows=20, ncols=2, legend=False, set_ylim=False, ylim = 1400000)\n"
   ]
  },
  {
   "cell_type": "markdown",
   "metadata": {
    "hidden": true
   },
   "source": [
    "####  plot_ts_cities:  Plot values by *CITY* in a Metro area"
   ]
  },
  {
   "cell_type": "markdown",
   "metadata": {
    "hidden": true
   },
   "source": [
    "##### First, create cities df for that metro area, and a list of cities for just that metro area"
   ]
  },
  {
   "cell_type": "code",
   "execution_count": null,
   "metadata": {
    "hidden": true,
    "scrolled": true
   },
   "outputs": [],
   "source": [
    "df_metro_cities.head(3)"
   ]
  },
  {
   "cell_type": "code",
   "execution_count": null,
   "metadata": {
    "hidden": true
   },
   "outputs": [],
   "source": [
    "ts_dallas_cities = df_metro_cities.loc[df_metro_cities['MetroState'] == geog_area]"
   ]
  },
  {
   "cell_type": "code",
   "execution_count": null,
   "metadata": {
    "hidden": true
   },
   "outputs": [],
   "source": [
    "ts_dallas_cities.head(3)"
   ]
  },
  {
   "cell_type": "code",
   "execution_count": null,
   "metadata": {
    "hidden": true
   },
   "outputs": [],
   "source": [
    "dallas_cities = list(set(ts_dallas_cities.City))\n",
    "dallas_cities.sort()\n",
    "print(dallas_cities)   # check to see that function was successful"
   ]
  },
  {
   "cell_type": "code",
   "execution_count": null,
   "metadata": {
    "hidden": true
   },
   "outputs": [],
   "source": [
    "len(dallas_cities)"
   ]
  },
  {
   "cell_type": "markdown",
   "metadata": {
    "hidden": true
   },
   "source": [
    "##### Plot function"
   ]
  },
  {
   "cell_type": "code",
   "execution_count": null,
   "metadata": {
    "hidden": true
   },
   "outputs": [],
   "source": [
    "# fig, ax = plot_ts_cities(df, cities, col='value', x = (18, 100), nrows=30, ncols=2, \n",
    "#                    legend=True, set_ylim = False, ylim = 1400000)\n",
    "\n",
    "# fig, ax = plot_ts_cities(ts_dallas_cities, dallas_cities, col='value', x = (18, 100), nrows=30, ncols=2)\n"
   ]
  },
  {
   "cell_type": "markdown",
   "metadata": {
    "hidden": true
   },
   "source": [
    "#### Function to plot individual zip codes within a city "
   ]
  },
  {
   "cell_type": "code",
   "execution_count": null,
   "metadata": {
    "hidden": true
   },
   "outputs": [],
   "source": [
    "# plot_ts_zips(df, zipcodes, col='value', x = (18, 40), nrows=15, ncols=2, \n",
    "#                  legend=True, set_ylim = False, ylim = 800000)\n",
    "\n",
    "# fig, ax = plot_ts_zips(df_sacto_city_zips, sacto_zips, x = (18, 60))\n"
   ]
  },
  {
   "cell_type": "markdown",
   "metadata": {
    "hidden": true
   },
   "source": [
    "#### Function to plot zip codes by city in a metro area"
   ]
  },
  {
   "cell_type": "code",
   "execution_count": null,
   "metadata": {
    "hidden": true,
    "scrolled": false
   },
   "outputs": [],
   "source": [
    "# plot_ts_zips_by_city(df, dict_zips_cities, col='value', x = (18, 100), \n",
    "#                          nrows=30, ncols=2, legend=True, set_ylim = False, ylim = 1400000)\n",
    "\n",
    "# fig, ax = plot_ts_zips_by_city(df_sac, dict_sac_zips_cities, col='value', x = (18, 100), \n",
    "#                          nrows=30, ncols=2, legend=True, set_ylim = False, ylim = 1400000)"
   ]
  },
  {
   "cell_type": "markdown",
   "metadata": {
    "hidden": true
   },
   "source": [
    "#### Function to plot zip codes by Metro area"
   ]
  },
  {
   "cell_type": "code",
   "execution_count": null,
   "metadata": {
    "hidden": true
   },
   "outputs": [],
   "source": [
    "# fig, ax = plot_ts_metros(df, metros, col='value', x = (18, 80), nrows = 15, ncols = 2, legend=True, set_ylim = True, ylim = 1500000)\n",
    "\n",
    "# fig, ax = plot_ts_metros(df_metro_values, large_metro_list_30, col='value', x = (18, 40), nrows = 15, ncols = 2, legend=False, set_ylim = False, ylim = 1500000)\n"
   ]
  },
  {
   "cell_type": "markdown",
   "metadata": {
    "hidden": true
   },
   "source": [
    "#### Boxplot by city in a metro area"
   ]
  },
  {
   "cell_type": "code",
   "execution_count": null,
   "metadata": {
    "hidden": true
   },
   "outputs": [],
   "source": [
    "# note--check for SizeRank column and drop if needed\n",
    "\n",
    "fig = plt.figure(figsize=(18, 60))\n",
    "\n",
    "for i, city in enumerate(dallas_cities, start=1):\n",
    "    ax = fig.add_subplot(13,8,i)\n",
    "    ts_dallas_cities.loc[ts_dallas_cities['City'] == city].boxplot(ax = ax)\n",
    "    ax.set_title(f'{city}')\n",
    "    fig.tight_layout()\n",
    "    "
   ]
  },
  {
   "cell_type": "markdown",
   "metadata": {
    "hidden": true
   },
   "source": [
    "#### Boxplot of zip codes by city in a metro area"
   ]
  },
  {
   "cell_type": "code",
   "execution_count": null,
   "metadata": {
    "hidden": true
   },
   "outputs": [],
   "source": [
    "# note--check for SizeRank column and drop if needed\n",
    "\n",
    "# fig = plt.figure(figsize=(18, 30))\n",
    "\n",
    "# for i, zc in enumerate(sac_metro_zips[:48], start=1):\n",
    "#     ax = fig.add_subplot(8,6,i)\n",
    "#     ts = df_sac.loc[df_sac['Zip'] == zc]\n",
    "#     ts.boxplot(column = 'value', ax = ax)\n",
    "#     ax.set_title(f'{zc}')\n",
    "#     fig.tight_layout()\n"
   ]
  },
  {
   "cell_type": "markdown",
   "metadata": {
    "hidden": true
   },
   "source": [
    "#### Violin plots over time (example)"
   ]
  },
  {
   "cell_type": "markdown",
   "metadata": {
    "hidden": true
   },
   "source": [
    "##### Violin plot for Sacramento city zip codes"
   ]
  },
  {
   "cell_type": "code",
   "execution_count": null,
   "metadata": {
    "hidden": true
   },
   "outputs": [],
   "source": [
    "import seaborn as sns\n"
   ]
  },
  {
   "cell_type": "code",
   "execution_count": null,
   "metadata": {
    "hidden": true
   },
   "outputs": [],
   "source": [
    "ts_dallas_cities = ts_dallas_cities.sort_values(by=['City', 'time'])\n",
    "ts_dallas_cities.City.unique()"
   ]
  },
  {
   "cell_type": "code",
   "execution_count": null,
   "metadata": {
    "hidden": true,
    "scrolled": true
   },
   "outputs": [],
   "source": [
    "# got figure size modification example from https://exceptionshub.com/how-do-i-change-the-figure-size-for-a-seaborn-plot.html\n",
    "\n",
    "# fig, ax = plt.subplots()\n",
    "# fig.set_size_inches(16, 6)\n",
    "# sns.violinplot(x=\"Zip\", y=\"value\", data=df_44, scale=\"count\", inner=\"stick\", ax=ax)\n",
    "\n",
    "fig, ax = plt.subplots()\n",
    "fig.set_size_inches(16, 6)\n",
    "fig.tight_layout()\n",
    "sns.violinplot(x=\"City\", y=\"value\", data=ts_dallas_cities, scale=\"width\", inner=\"quartile\", ax=ax)\n"
   ]
  },
  {
   "cell_type": "code",
   "execution_count": null,
   "metadata": {
    "hidden": true,
    "scrolled": true
   },
   "outputs": [],
   "source": [
    "# df[df['Year'] < 2014][df['Color' == 'Red'][['Product','Color']]\n",
    "\n",
    "cities_over_200k = []\n",
    "\n",
    "for city in dallas_cities:\n",
    "    x = ts_dallas_cities['value'].loc[ts_dallas_cities['City'] == city]\n",
    "    if x.min() > 200000:\n",
    "        print(city, x.min())\n",
    "        cities_over_200k.append(city)\n",
    "\n",
    "cities_over_200k\n"
   ]
  },
  {
   "cell_type": "code",
   "execution_count": null,
   "metadata": {
    "hidden": true
   },
   "outputs": [],
   "source": [
    "# fig, ax = plt.subplots()\n",
    "# fig.set_size_inches(16, 6)\n",
    "# fig.tight_layout()\n",
    "# sns.violinplot(x=\"City\", y=\"value\", data=ts_dallas_cities, scale=\"width\", inner=\"quartile\", ax=ax)\n"
   ]
  },
  {
   "cell_type": "code",
   "execution_count": null,
   "metadata": {
    "hidden": true
   },
   "outputs": [],
   "source": [
    "# df_sac_city_1996_1999 = df_sac_city.loc['1996-04-01':'1999-12-01']\n",
    "# df_sac_city_1996_1999.tail()"
   ]
  },
  {
   "cell_type": "code",
   "execution_count": null,
   "metadata": {
    "hidden": true
   },
   "outputs": [],
   "source": [
    "# fig, ax = plt.subplots()\n",
    "# fig.set_size_inches(16, 6)\n",
    "# sns.violinplot(x=\"Zip\", y=\"value\", data=df_sac_city_1996_1999, scale=\"width\", inner=\"quartile\", ax=ax)\n"
   ]
  },
  {
   "cell_type": "code",
   "execution_count": null,
   "metadata": {
    "hidden": true
   },
   "outputs": [],
   "source": [
    "# df_sac_city_2000_2003 = df_sac_city.loc['2000-01-01':'2003-12-01']\n",
    "# df_sac_city_2000_2003.head()"
   ]
  },
  {
   "cell_type": "code",
   "execution_count": null,
   "metadata": {
    "hidden": true
   },
   "outputs": [],
   "source": [
    "# fig, ax = plt.subplots()\n",
    "# fig.set_size_inches(16, 6)\n",
    "# sns.violinplot(x=\"Zip\", y=\"value\", data=df_sac_city_2000_2003, scale=\"width\", inner=\"quartile\", ax=ax)\n"
   ]
  },
  {
   "cell_type": "code",
   "execution_count": null,
   "metadata": {
    "hidden": true
   },
   "outputs": [],
   "source": [
    "# df_sac_city_2004_2006 = df_sac_city.loc['2004-01-01':'2006-12-01']\n",
    "# df_sac_city_2004_2006.head()"
   ]
  },
  {
   "cell_type": "code",
   "execution_count": null,
   "metadata": {
    "hidden": true
   },
   "outputs": [],
   "source": [
    "# fig, ax = plt.subplots()\n",
    "# fig.set_size_inches(16, 6)\n",
    "# sns.violinplot(x=\"Zip\", y=\"value\", data=df_sac_city_2004_2006, scale=\"width\", inner=\"quartile\", ax=ax)\n"
   ]
  },
  {
   "cell_type": "code",
   "execution_count": null,
   "metadata": {
    "hidden": true
   },
   "outputs": [],
   "source": [
    "# df_sac_city_2007_2012 = df_sac_city.loc['2007-01-01':'2012-12-01']\n",
    "# df_sac_city_2007_2012.head()"
   ]
  },
  {
   "cell_type": "code",
   "execution_count": null,
   "metadata": {
    "hidden": true
   },
   "outputs": [],
   "source": [
    "# fig, ax = plt.subplots()\n",
    "# fig.set_size_inches(16, 6)\n",
    "# sns.violinplot(x=\"Zip\", y=\"value\", data=df_sac_city_2007_2012, scale=\"width\", inner=\"quartile\", ax=ax)\n"
   ]
  },
  {
   "cell_type": "code",
   "execution_count": null,
   "metadata": {
    "hidden": true
   },
   "outputs": [],
   "source": [
    "# df_sac_city_2013_2018 = df_sac_city.loc['2013-01-01':'2018']\n",
    "# df_sac_city_2013_2018.tail()"
   ]
  },
  {
   "cell_type": "code",
   "execution_count": null,
   "metadata": {
    "hidden": true
   },
   "outputs": [],
   "source": [
    "# fig, ax = plt.subplots()\n",
    "# fig.set_size_inches(16, 6)\n",
    "# sns.violinplot(x=\"Zip\", y=\"value\", data=df_sac_city_2013_2018, scale=\"width\", inner=\"quartile\", ax=ax)\n"
   ]
  },
  {
   "cell_type": "markdown",
   "metadata": {
    "hidden": true
   },
   "source": [
    "### Plot ACF and PACF for ts dataframe"
   ]
  },
  {
   "cell_type": "code",
   "execution_count": null,
   "metadata": {
    "hidden": true
   },
   "outputs": [],
   "source": [
    "import warnings\n",
    "from statsmodels.tsa.arima_model import ARIMA\n",
    "import statsmodels.api as sm\n",
    "from sklearn.metrics import mean_squared_error\n",
    "from statsmodels.tsa.seasonal import seasonal_decompose\n",
    "from  statsmodels.graphics.tsaplots import plot_acf,plot_pacf\n",
    "from pandas.plotting import autocorrelation_plot,lag_plot\n"
   ]
  },
  {
   "cell_type": "code",
   "execution_count": null,
   "metadata": {
    "hidden": true,
    "scrolled": true
   },
   "outputs": [],
   "source": [
    "# note that ts must only contain values and time as index\n",
    "\n",
    "# plot_acf_pacf(ts, figsize=(10,6), lags=15)  # note that ts must only contain values and time as index\n",
    "\n",
    "plot_acf_pacf(ts_dallas_values, figsize=(10,6), lags=15)"
   ]
  },
  {
   "cell_type": "markdown",
   "metadata": {
    "hidden": true
   },
   "source": [
    "### Plot seasonal decomposition for ts dataframe"
   ]
  },
  {
   "cell_type": "code",
   "execution_count": null,
   "metadata": {
    "hidden": true,
    "scrolled": false
   },
   "outputs": [],
   "source": [
    "# plot_seasonal_decomp(ts)\n",
    "\n",
    "plot_seasonal_decomp(ts_dallas_values)\n"
   ]
  },
  {
   "cell_type": "markdown",
   "metadata": {
    "hidden": true
   },
   "source": [
    "## ARIMA model parameters and optimization"
   ]
  },
  {
   "cell_type": "markdown",
   "metadata": {
    "hidden": true
   },
   "source": [
    "### Generate list of (p,d,q) and (p,d,q,m) values"
   ]
  },
  {
   "cell_type": "code",
   "execution_count": null,
   "metadata": {
    "hidden": true,
    "scrolled": true
   },
   "outputs": [],
   "source": [
    "params = make_pdq_pdqm(p_range=(0,10), d_range=(0,3), q_range=(0,4), make_seasonal=True,\n",
    "                  m_values=(0,12))\n",
    "print(params['pdq'])"
   ]
  },
  {
   "cell_type": "markdown",
   "metadata": {
    "hidden": true
   },
   "source": [
    "### Run ARIMA model on ts dataframe with list of p,d,q values "
   ]
  },
  {
   "cell_type": "code",
   "execution_count": null,
   "metadata": {
    "hidden": true
   },
   "outputs": [],
   "source": [
    "p_values = [0, 1, 2, 4, 6, 8]\n",
    "d_values = range(0, 3)\n",
    "q_values = range(0, 3)\n",
    "warnings.filterwarnings(\"ignore\")"
   ]
  },
  {
   "cell_type": "code",
   "execution_count": null,
   "metadata": {
    "hidden": true
   },
   "outputs": [],
   "source": [
    "# eval_arima_models(ts, p_values, d_values, q_values)  # don't run this until you have some time, since it take time\n",
    "# note that ts must only contain values and time as index\n",
    "\n",
    "# eval_arima_models(ts_dallas_values, p_values, d_values, q_values)  # don't run this until you have some time, since it take time"
   ]
  },
  {
   "cell_type": "markdown",
   "metadata": {
    "hidden": true
   },
   "source": [
    "### Generate model fit summary"
   ]
  },
  {
   "cell_type": "code",
   "execution_count": null,
   "metadata": {
    "hidden": true,
    "scrolled": true
   },
   "outputs": [],
   "source": [
    "# model_fit = arima_zipcode(ts, order = None)   # change order = tuple to correspond to the best MSE produced by previous function\n",
    "\n",
    "model_fit_dallas = arima_zipcode(ts_dallas_values, order = (8,2,0))"
   ]
  },
  {
   "cell_type": "markdown",
   "metadata": {
    "hidden": true
   },
   "source": [
    "## ARIMA modeling results:  predictions and visualization"
   ]
  },
  {
   "cell_type": "markdown",
   "metadata": {
    "hidden": true
   },
   "source": [
    "### Produce forecasts from ARIMA model fit"
   ]
  },
  {
   "cell_type": "code",
   "execution_count": null,
   "metadata": {
    "hidden": true
   },
   "outputs": [],
   "source": [
    "def forecast(model_fit, months=24, confint=2):\n",
    "    forecast = model_fit.forecast(months)\n",
    "    actual_forecast = forecast[0]\n",
    "    std_error = forecast[1]\n",
    "    forecast_confint = forecast[confint]\n",
    "    return actual_forecast, std_error, forecast_confint  \n",
    "\n",
    "# actual_forecast, forecast_confint = forecast(model_fit, months=24, confint=2)\n",
    "\n",
    "actual_forecast, std_error, forecast_confint = forecast(model_fit_dallas)\n",
    "\n",
    "# actual_forecast, forecast_confint = forecast(model_fit_dallas, months=24, confint=2)"
   ]
  },
  {
   "cell_type": "code",
   "execution_count": null,
   "metadata": {
    "hidden": true
   },
   "outputs": [],
   "source": [
    "actual_forecast, std_error, forecast_confint"
   ]
  },
  {
   "cell_type": "markdown",
   "metadata": {
    "hidden": true
   },
   "source": [
    "### Create dataframe to hold forecast results"
   ]
  },
  {
   "cell_type": "code",
   "execution_count": null,
   "metadata": {
    "hidden": true
   },
   "outputs": [],
   "source": [
    "# df_forecast = forecast_df(col = 'time', daterange = pd.date_range(start='2018-05-01', end='2020-04-01', freq='MS'), \n",
    "#                 actual_forecast=actual_forecast, forecast_confint = forecast_confint)\n",
    "\n",
    "df_forecast = forecast_df(col = 'time', daterange = pd.date_range(start='2018-05-01', end='2020-04-01', freq='MS'), \n",
    "                actual_forecast=actual_forecast, forecast_confint = forecast_confint)"
   ]
  },
  {
   "cell_type": "markdown",
   "metadata": {
    "hidden": true
   },
   "source": [
    "### Create new dataframe concatenating historic values and forecast results"
   ]
  },
  {
   "cell_type": "code",
   "execution_count": null,
   "metadata": {
    "hidden": true
   },
   "outputs": [],
   "source": [
    "# df_new = concat_values_forecast(ts, df_forecast)\n",
    "\n",
    "df_new = concat_values_forecast(ts_dallas_values, df_forecast)"
   ]
  },
  {
   "cell_type": "code",
   "execution_count": null,
   "metadata": {
    "hidden": true
   },
   "outputs": [],
   "source": [
    "df_new"
   ]
  },
  {
   "cell_type": "markdown",
   "metadata": {
    "hidden": true
   },
   "source": [
    "### Calculate predicted, lower bound, and upper bound forecasted prices"
   ]
  },
  {
   "cell_type": "code",
   "execution_count": null,
   "metadata": {
    "hidden": true
   },
   "outputs": [],
   "source": [
    "def forecast_values(df=df_new, date = '2020-04-01'):\n",
    "    forecasted_price = df.loc[date, 'forecast']\n",
    "    forecasted_lower = df.loc[date, 'forecast_lower']\n",
    "    forecasted_upper = df.loc[date,  'forecast_upper']    \n",
    "    return forecasted_price, forecasted_lower, forecasted_upper\n",
    "\n",
    "\n",
    "forecasted_price, forecasted_lower, forecasted_upper = forecast_values()"
   ]
  },
  {
   "cell_type": "code",
   "execution_count": null,
   "metadata": {
    "hidden": true
   },
   "outputs": [],
   "source": [
    "forecasted_price, forecasted_lower, forecasted_upper  # predicted, best-case, and worst-case prices in 2020"
   ]
  },
  {
   "cell_type": "code",
   "execution_count": null,
   "metadata": {
    "hidden": true
   },
   "outputs": [],
   "source": [
    "last_value = df_new['value'].loc['2018-04-01']"
   ]
  },
  {
   "cell_type": "code",
   "execution_count": null,
   "metadata": {
    "hidden": true
   },
   "outputs": [],
   "source": [
    "last_value"
   ]
  },
  {
   "cell_type": "markdown",
   "metadata": {
    "hidden": true
   },
   "source": [
    "### Plot forecast with confidence intervals"
   ]
  },
  {
   "cell_type": "code",
   "execution_count": null,
   "metadata": {
    "hidden": true
   },
   "outputs": [],
   "source": [
    "# plot_forecast(df = df_new, figsize=(12,8), geog=None)\n",
    "\n",
    "plot_forecast(df = df_new, figsize=(12,8), geog='Dallas-Ft Worth TX')"
   ]
  },
  {
   "cell_type": "markdown",
   "metadata": {
    "hidden": true
   },
   "source": [
    "### Print summary of predicted, worst-case, and best-case scenarios"
   ]
  },
  {
   "cell_type": "code",
   "execution_count": null,
   "metadata": {
    "hidden": true,
    "scrolled": true
   },
   "outputs": [],
   "source": [
    "# def pred_best_worst(pred, low, high, last, date='April 1, 2020'):\n",
    "#     pred_pct_change = (((pred - last) / last) * 100)\n",
    "#     print(f'By the model prediction, I would expect to see a {round(pred_pct_change, 3)}% change in price by April 1, 2020')\n",
    "#     lower_pct_change = ((low - last) / last) * 100\n",
    "#     print(f'At the lower bound of the confidence interval, I would expect to see a {round(lower_pct_change, 3)}% change in price by April 1, 2020')\n",
    "#     upper_pct_change = ((high - last) / last) * 100\n",
    "#     print(f'At the upper bound of the confidence interval, I would expect to see a {round(upper_pct_change, 3)}% change in price by April 1, 2020')\n",
    "        \n",
    "\n",
    "pred_best_worst(pred=forecasted_price, low=forecasted_lower, high=forecasted_upper, last=last_value, date='April 1, 2020')"
   ]
  },
  {
   "cell_type": "code",
   "execution_count": null,
   "metadata": {
    "hidden": true
   },
   "outputs": [],
   "source": []
  },
  {
   "cell_type": "markdown",
   "metadata": {},
   "source": [
    "# SacMetro: 95619 -- FUNCTIONS to run"
   ]
  },
  {
   "cell_type": "markdown",
   "metadata": {},
   "source": [
    "## Create ts dataframe for *single* geographic area"
   ]
  },
  {
   "cell_type": "markdown",
   "metadata": {},
   "source": [
    "## SacMetro:  95619 (Diamond Springs)"
   ]
  },
  {
   "cell_type": "code",
   "execution_count": null,
   "metadata": {},
   "outputs": [],
   "source": [
    "# print(sorted(metro_state_list))"
   ]
  },
  {
   "cell_type": "code",
   "execution_count": null,
   "metadata": {},
   "outputs": [],
   "source": [
    "geog_area = '95619'"
   ]
  },
  {
   "cell_type": "markdown",
   "metadata": {},
   "source": [
    "### Create dataframe containing values for just this geographic unit"
   ]
  },
  {
   "cell_type": "code",
   "execution_count": null,
   "metadata": {},
   "outputs": [],
   "source": [
    "ts_95619 = df_sac.loc[df_sac['Zip'] == geog_area]  # ts for all of the following functions should have only one zipcode\n",
    "ts_95619.head()\n"
   ]
  },
  {
   "cell_type": "code",
   "execution_count": null,
   "metadata": {
    "scrolled": true
   },
   "outputs": [],
   "source": [
    "# ts.head()\n",
    "\n",
    "ts_95619.head()"
   ]
  },
  {
   "cell_type": "code",
   "execution_count": null,
   "metadata": {},
   "outputs": [],
   "source": [
    "# ts = ts.value\n",
    "\n",
    "ts_95619_values = ts_95619.value"
   ]
  },
  {
   "cell_type": "code",
   "execution_count": null,
   "metadata": {},
   "outputs": [],
   "source": [
    "# ts.head()\n",
    "\n",
    "ts_95619_values.head()"
   ]
  },
  {
   "cell_type": "markdown",
   "metadata": {},
   "source": [
    "### Visualizations"
   ]
  },
  {
   "cell_type": "markdown",
   "metadata": {},
   "source": [
    "#### plot_ts:  Plot zip code(s) of interest over time, with market highs and lows"
   ]
  },
  {
   "cell_type": "code",
   "execution_count": null,
   "metadata": {
    "scrolled": false
   },
   "outputs": [],
   "source": [
    "# fig, ax = plot_ts(df_melt, zipcodes=['95616', '92008', '90035', '90025', '60625', '57701'])  # enter desired zip code(s)\n",
    "\n",
    "fig, ax = plot_ts(df_melt, zipcodes=['95619'])  # enter desired zip code(s)"
   ]
  },
  {
   "cell_type": "markdown",
   "metadata": {},
   "source": [
    "#### Boxplot of zip code"
   ]
  },
  {
   "cell_type": "code",
   "execution_count": null,
   "metadata": {},
   "outputs": [],
   "source": [
    "# # note--check for SizeRank column and drop if needed\n",
    "\n",
    "# fig = plt.figure(figsize=(18, 30))\n",
    "\n",
    "# for i, zc in enumerate(sac_metro_zips[:48], start=1):\n",
    "#     ax = fig.add_subplot(8,6,i)\n",
    "#     ts = df_sac.loc[df_sac['Zip'] == zc]\n",
    "#     ts.boxplot(column = 'value', ax = ax)\n",
    "#     ax.set_title(f'{zc}')\n",
    "#     fig.tight_layout()\n",
    "\n",
    "ts_95619.boxplot(column = 'value')\n",
    "plt.title('95619');\n",
    "\n"
   ]
  },
  {
   "cell_type": "markdown",
   "metadata": {},
   "source": [
    "### Plot ACF and PACF for ts dataframe"
   ]
  },
  {
   "cell_type": "code",
   "execution_count": null,
   "metadata": {},
   "outputs": [],
   "source": [
    "import warnings\n",
    "from statsmodels.tsa.arima_model import ARIMA\n",
    "import statsmodels.api as sm\n",
    "from sklearn.metrics import mean_squared_error\n",
    "from statsmodels.tsa.seasonal import seasonal_decompose\n",
    "from  statsmodels.graphics.tsaplots import plot_acf,plot_pacf\n",
    "from pandas.plotting import autocorrelation_plot,lag_plot\n"
   ]
  },
  {
   "cell_type": "code",
   "execution_count": null,
   "metadata": {
    "scrolled": false
   },
   "outputs": [],
   "source": [
    "# plot_acf_pacf(ts, figsize=(10,6), lags=15)  # note that ts must only contain values and time as index\n",
    "\n",
    "plot_acf_pacf(ts_95619_values, figsize=(10,6), lags=15)"
   ]
  },
  {
   "cell_type": "markdown",
   "metadata": {},
   "source": [
    "### Plot seasonal decomposition for ts dataframe"
   ]
  },
  {
   "cell_type": "code",
   "execution_count": null,
   "metadata": {
    "scrolled": false
   },
   "outputs": [],
   "source": [
    "# plot_seasonal_decomp(ts)\n",
    "\n",
    "plot_seasonal_decomp(ts_95619_values)\n",
    "\n",
    "# Seasonality does not appear to be a significant factor in this zip code."
   ]
  },
  {
   "cell_type": "markdown",
   "metadata": {},
   "source": [
    "## ARIMA model parameters and optimization"
   ]
  },
  {
   "cell_type": "markdown",
   "metadata": {},
   "source": [
    "### Generate list of (p,d,q) and (p,d,q,m) values"
   ]
  },
  {
   "cell_type": "code",
   "execution_count": null,
   "metadata": {
    "scrolled": true
   },
   "outputs": [],
   "source": [
    "params = make_pdq_pdqm(p_range=(0,10), d_range=(0,3), q_range=(0,4), make_seasonal=True,\n",
    "                  m_values=(0,12))\n",
    "print(params['pdq'])"
   ]
  },
  {
   "cell_type": "markdown",
   "metadata": {},
   "source": [
    "### Run ARIMA model on ts dataframe with list of p,d,q values "
   ]
  },
  {
   "cell_type": "code",
   "execution_count": null,
   "metadata": {},
   "outputs": [],
   "source": [
    "p_values = [0, 1, 2, 4, 6, 8]\n",
    "d_values = range(0, 3)\n",
    "q_values = range(0, 3)\n",
    "warnings.filterwarnings(\"ignore\")"
   ]
  },
  {
   "cell_type": "code",
   "execution_count": null,
   "metadata": {},
   "outputs": [],
   "source": [
    "# eval_arima_models(ts, p_values, d_values, q_values)  # don't run this until you have some time, since it take time\n",
    "# note that ts must only contain values and time as index\n",
    "\n",
    "# eval_arima_models(ts_95619_values, p_values, d_values, q_values)  # don't run this until you have some time, since it takes time\n"
   ]
  },
  {
   "cell_type": "markdown",
   "metadata": {},
   "source": [
    "### Generate model fit summary"
   ]
  },
  {
   "cell_type": "code",
   "execution_count": null,
   "metadata": {
    "scrolled": true
   },
   "outputs": [],
   "source": [
    "# model_fit = arima_zipcode(ts, order = None)   # change order = tuple to correspond to the best MSE produced by previous function\n",
    "\n",
    "# Best ARIMA(2, 1, 2) MSE=1084744.932\n",
    "\n",
    "model_fit_95619 = arima_zipcode(ts_95619_values, order = (2,1,2))"
   ]
  },
  {
   "cell_type": "markdown",
   "metadata": {},
   "source": [
    "## ARIMA modeling results:  predictions and visualization"
   ]
  },
  {
   "cell_type": "markdown",
   "metadata": {},
   "source": [
    "### Produce forecasts from ARIMA model fit"
   ]
  },
  {
   "cell_type": "code",
   "execution_count": null,
   "metadata": {},
   "outputs": [],
   "source": [
    "def forecast(model_fit, months=24, confint=2):\n",
    "    forecast = model_fit.forecast(months)\n",
    "    actual_forecast = forecast[0]\n",
    "    std_error = forecast[1]\n",
    "    forecast_confint = forecast[confint]\n",
    "    return actual_forecast, std_error, forecast_confint  \n",
    "\n",
    "# actual_forecast, forecast_confint = forecast(model_fit, months=24, confint=2)\n",
    "\n",
    "actual_forecast, std_error, forecast_confint = forecast(model_fit_95619)\n",
    "\n",
    "# actual_forecast, forecast_confint = forecast(model_fit_dallas, months=24, confint=2)"
   ]
  },
  {
   "cell_type": "code",
   "execution_count": null,
   "metadata": {},
   "outputs": [],
   "source": [
    "actual_forecast, std_error, forecast_confint"
   ]
  },
  {
   "cell_type": "markdown",
   "metadata": {},
   "source": [
    "### Create dataframe to hold forecast results"
   ]
  },
  {
   "cell_type": "code",
   "execution_count": null,
   "metadata": {},
   "outputs": [],
   "source": [
    "# df_forecast = forecast_df(col = 'time', daterange = pd.date_range(start='2018-05-01', end='2020-04-01', freq='MS'), \n",
    "#                 actual_forecast=actual_forecast, forecast_confint = forecast_confint)\n",
    "\n",
    "df_forecast = forecast_df(col = 'time', daterange = pd.date_range(start='2018-05-01', end='2020-04-01', freq='MS'), \n",
    "                actual_forecast=actual_forecast, forecast_confint = forecast_confint)"
   ]
  },
  {
   "cell_type": "markdown",
   "metadata": {},
   "source": [
    "### Create new dataframe concatenating historic values and forecast results"
   ]
  },
  {
   "cell_type": "code",
   "execution_count": null,
   "metadata": {},
   "outputs": [],
   "source": [
    "# df_new = concat_values_forecast(ts, df_forecast)\n",
    "\n",
    "df_new = concat_values_forecast(ts_95619_values, df_forecast)"
   ]
  },
  {
   "cell_type": "code",
   "execution_count": null,
   "metadata": {},
   "outputs": [],
   "source": [
    "df_new"
   ]
  },
  {
   "cell_type": "markdown",
   "metadata": {},
   "source": [
    "### Calculate predicted, lower bound, and upper bound forecasted prices"
   ]
  },
  {
   "cell_type": "code",
   "execution_count": null,
   "metadata": {},
   "outputs": [],
   "source": [
    "def forecast_values(df=df_new, date = '2020-04-01'):\n",
    "    forecasted_price = df.loc[date, 'forecast']\n",
    "    forecasted_lower = df.loc[date, 'forecast_lower']\n",
    "    forecasted_upper = df.loc[date,  'forecast_upper']    \n",
    "    return forecasted_price, forecasted_lower, forecasted_upper\n",
    "\n",
    "\n",
    "forecasted_price, forecasted_lower, forecasted_upper = forecast_values()"
   ]
  },
  {
   "cell_type": "code",
   "execution_count": null,
   "metadata": {},
   "outputs": [],
   "source": [
    "forecasted_price, forecasted_lower, forecasted_upper  # predicted, best-case, and worst-case prices in 2020"
   ]
  },
  {
   "cell_type": "code",
   "execution_count": null,
   "metadata": {},
   "outputs": [],
   "source": [
    "last_value = df_new['value'].loc['2018-04-01']"
   ]
  },
  {
   "cell_type": "code",
   "execution_count": null,
   "metadata": {},
   "outputs": [],
   "source": [
    "last_value"
   ]
  },
  {
   "cell_type": "markdown",
   "metadata": {},
   "source": [
    "### Plot forecast with confidence intervals"
   ]
  },
  {
   "cell_type": "code",
   "execution_count": null,
   "metadata": {},
   "outputs": [],
   "source": [
    "# plot_forecast(df = df_new, figsize=(12,8), geog=None)\n",
    "\n",
    "plot_forecast(df = df_new, figsize=(12,8), geog='95619')"
   ]
  },
  {
   "cell_type": "markdown",
   "metadata": {},
   "source": [
    "### Print summary of predicted, worst-case, and best-case scenarios"
   ]
  },
  {
   "cell_type": "code",
   "execution_count": null,
   "metadata": {
    "scrolled": true
   },
   "outputs": [],
   "source": [
    "# def pred_best_worst(pred, low, high, last, date='April 1, 2020'):\n",
    "#     pred_pct_change = (((pred - last) / last) * 100)\n",
    "#     print(f'By the model prediction, I would expect to see a {round(pred_pct_change, 3)}% change in price by April 1, 2020')\n",
    "#     lower_pct_change = ((low - last) / last) * 100\n",
    "#     print(f'At the lower bound of the confidence interval, I would expect to see a {round(lower_pct_change, 3)}% change in price by April 1, 2020')\n",
    "#     upper_pct_change = ((high - last) / last) * 100\n",
    "#     print(f'At the upper bound of the confidence interval, I would expect to see a {round(upper_pct_change, 3)}% change in price by April 1, 2020')\n",
    "        \n",
    "\n",
    "pred_best_worst(pred=forecasted_price, low=forecasted_lower, high=forecasted_upper, last=last_value, date='April 1, 2020')"
   ]
  },
  {
   "cell_type": "markdown",
   "metadata": {},
   "source": [
    "## Recommendation--Zip code 95619:  potential investment candidate\n",
    "\n",
    "By the model prediction, I would expect to see a 10.799% change in price by April 1, 2020\n",
    "At the lower bound of the confidence interval, I would expect to see a -14.266% change in price by April 1, 2020\n",
    "At the upper bound of the confidence interval, I would expect to see a 35.863% change in price by April 1, 2020\n",
    "\n"
   ]
  },
  {
   "cell_type": "markdown",
   "metadata": {
    "heading_collapsed": true
   },
   "source": [
    "# SacMetro: 95864 -- FUNCTIONS to run"
   ]
  },
  {
   "cell_type": "markdown",
   "metadata": {
    "hidden": true
   },
   "source": [
    "## Create ts dataframe for *single* geographic area"
   ]
  },
  {
   "cell_type": "markdown",
   "metadata": {
    "hidden": true
   },
   "source": [
    "## SacMetro:  95864 (Arden-Arcade)"
   ]
  },
  {
   "cell_type": "code",
   "execution_count": null,
   "metadata": {
    "hidden": true
   },
   "outputs": [],
   "source": [
    "# print(sorted(metro_state_list))"
   ]
  },
  {
   "cell_type": "code",
   "execution_count": null,
   "metadata": {
    "hidden": true
   },
   "outputs": [],
   "source": [
    "geog_area = '95864'"
   ]
  },
  {
   "cell_type": "markdown",
   "metadata": {
    "hidden": true
   },
   "source": [
    "### Create dataframe containing values for just this geographic unit"
   ]
  },
  {
   "cell_type": "code",
   "execution_count": null,
   "metadata": {
    "hidden": true
   },
   "outputs": [],
   "source": [
    "# df_geog = df_geog(df=df_metro_cities, col = 'MetroState', geog = 'New York NY')\n",
    "\n",
    "# If using a different geographic unit, such as city or metro area, change 'Zip' column accordingly\n",
    "# ts = df_metro_values.loc[df_metro_values['MetroState'] == geog_area]  # ts for all of the following functions should have only one zipcode\n",
    "# ts.head()\n",
    "\n",
    "ts_95864 = df_sac.loc[df_sac['Zip'] == geog_area]  # ts for all of the following functions should have only one zipcode\n",
    "ts_95864.head()\n"
   ]
  },
  {
   "cell_type": "code",
   "execution_count": null,
   "metadata": {
    "hidden": true,
    "scrolled": true
   },
   "outputs": [],
   "source": [
    "# ts.head()\n",
    "\n",
    "ts.head()"
   ]
  },
  {
   "cell_type": "code",
   "execution_count": null,
   "metadata": {
    "hidden": true
   },
   "outputs": [],
   "source": [
    "# ts = ts.value\n",
    "\n",
    "ts_95864_values = ts.value"
   ]
  },
  {
   "cell_type": "code",
   "execution_count": null,
   "metadata": {
    "hidden": true
   },
   "outputs": [],
   "source": [
    "# ts.head()\n",
    "\n",
    "ts_95864_values.head()"
   ]
  },
  {
   "cell_type": "markdown",
   "metadata": {
    "hidden": true
   },
   "source": [
    "### Visualizations"
   ]
  },
  {
   "cell_type": "markdown",
   "metadata": {
    "hidden": true
   },
   "source": [
    "#### plot_ts:  Plot zip code(s) of interest over time, with market highs and lows"
   ]
  },
  {
   "cell_type": "code",
   "execution_count": null,
   "metadata": {
    "hidden": true,
    "scrolled": false
   },
   "outputs": [],
   "source": [
    "# fig, ax = plot_ts(df_melt, zipcodes=['95616', '92008', '90035', '90025', '60625', '57701'])  # enter desired zip code(s)\n",
    "\n",
    "fig, ax = plot_ts(df_melt, zipcodes=['95864'])  # enter desired zip code(s)"
   ]
  },
  {
   "cell_type": "markdown",
   "metadata": {
    "hidden": true
   },
   "source": [
    "#### Boxplot of zip codes by city in a metro area"
   ]
  },
  {
   "cell_type": "code",
   "execution_count": null,
   "metadata": {
    "hidden": true
   },
   "outputs": [],
   "source": [
    "# for i, zc in enumerate(sac_metro_zips[:48], start=1):\n",
    "#     ax = fig.add_subplot(8,6,i)\n",
    "#     ts = df_sac.loc[df_sac['Zip'] == zc]\n",
    "#     ts.boxplot(column = 'value', ax = ax)\n",
    "#     ax.set_title(f'{zc}')\n",
    "#     fig.tight_layout()\n",
    "\n",
    "ts_95864.boxplot(column = 'value')\n",
    "plt.title('95864');\n"
   ]
  },
  {
   "cell_type": "markdown",
   "metadata": {
    "hidden": true
   },
   "source": [
    "### Plot ACF and PACF for ts dataframe"
   ]
  },
  {
   "cell_type": "code",
   "execution_count": null,
   "metadata": {
    "hidden": true
   },
   "outputs": [],
   "source": [
    "import warnings\n",
    "from statsmodels.tsa.arima_model import ARIMA\n",
    "import statsmodels.api as sm\n",
    "from sklearn.metrics import mean_squared_error\n",
    "from statsmodels.tsa.seasonal import seasonal_decompose\n",
    "from  statsmodels.graphics.tsaplots import plot_acf,plot_pacf\n",
    "from pandas.plotting import autocorrelation_plot,lag_plot\n"
   ]
  },
  {
   "cell_type": "code",
   "execution_count": null,
   "metadata": {
    "hidden": true,
    "scrolled": true
   },
   "outputs": [],
   "source": [
    "# note that ts must only contain values and time as index\n",
    "\n",
    "# plot_acf_pacf(ts, figsize=(10,6), lags=15)  # note that ts must only contain values and time as index\n",
    "\n",
    "plot_acf_pacf(ts_95864_values, figsize=(10,6), lags=15)"
   ]
  },
  {
   "cell_type": "markdown",
   "metadata": {
    "hidden": true
   },
   "source": [
    "### Plot seasonal decomposition for ts dataframe"
   ]
  },
  {
   "cell_type": "code",
   "execution_count": null,
   "metadata": {
    "hidden": true,
    "scrolled": false
   },
   "outputs": [],
   "source": [
    "# plot_seasonal_decomp(ts)\n",
    "\n",
    "plot_seasonal_decomp(ts_95864_values)\n"
   ]
  },
  {
   "cell_type": "markdown",
   "metadata": {
    "hidden": true
   },
   "source": [
    "## ARIMA model parameters and optimization"
   ]
  },
  {
   "cell_type": "markdown",
   "metadata": {
    "hidden": true
   },
   "source": [
    "### Run ARIMA model on ts dataframe with list of p,d,q values "
   ]
  },
  {
   "cell_type": "code",
   "execution_count": null,
   "metadata": {
    "hidden": true
   },
   "outputs": [],
   "source": [
    "p_values = [0, 1, 2, 4, 6, 8]\n",
    "d_values = range(0, 3)\n",
    "q_values = range(0, 3)\n",
    "warnings.filterwarnings(\"ignore\")"
   ]
  },
  {
   "cell_type": "code",
   "execution_count": null,
   "metadata": {
    "hidden": true
   },
   "outputs": [],
   "source": [
    "# eval_arima_models(ts, p_values, d_values, q_values)  # don't run this until you have some time, since it take time\n",
    "# note that ts must only contain values and time as index\n",
    "\n",
    "# eval_arima_models(ts_95864_values, p_values, d_values, q_values)  # don't run this until you have some time, since it take time"
   ]
  },
  {
   "cell_type": "markdown",
   "metadata": {
    "hidden": true
   },
   "source": [
    "### Generate model fit summary"
   ]
  },
  {
   "cell_type": "code",
   "execution_count": null,
   "metadata": {
    "hidden": true,
    "scrolled": true
   },
   "outputs": [],
   "source": [
    "# model_fit = arima_zipcode(ts, order = None)   # change order = tuple to correspond to the best MSE produced by previous function\n",
    "\n",
    "# Best ARIMA(4, 1, 1) MSE=1137443.820\n",
    "\n",
    "model_fit_95864 = arima_zipcode(ts_95864_values, order = (4,1,1))"
   ]
  },
  {
   "cell_type": "markdown",
   "metadata": {
    "hidden": true
   },
   "source": [
    "## ARIMA modeling results:  predictions and visualization"
   ]
  },
  {
   "cell_type": "markdown",
   "metadata": {
    "hidden": true
   },
   "source": [
    "### Produce forecasts from ARIMA model fit"
   ]
  },
  {
   "cell_type": "code",
   "execution_count": null,
   "metadata": {
    "hidden": true
   },
   "outputs": [],
   "source": [
    "def forecast(model_fit_95864, months=24, confint=2):\n",
    "    forecast = model_fit.forecast(months)\n",
    "    actual_forecast = forecast[0]\n",
    "    std_error = forecast[1]\n",
    "    forecast_confint = forecast[confint]\n",
    "    return actual_forecast, std_error, forecast_confint  \n",
    "\n",
    "# actual_forecast, forecast_confint = forecast(model_fit, months=24, confint=2)\n",
    "\n",
    "actual_forecast, std_error, forecast_confint = forecast(model_fit)\n",
    "\n",
    "# actual_forecast, forecast_confint = forecast(model_fit_dallas, months=24, confint=2)"
   ]
  },
  {
   "cell_type": "code",
   "execution_count": null,
   "metadata": {
    "hidden": true
   },
   "outputs": [],
   "source": [
    "actual_forecast, std_error, forecast_confint"
   ]
  },
  {
   "cell_type": "markdown",
   "metadata": {
    "hidden": true
   },
   "source": [
    "### Create dataframe to hold forecast results"
   ]
  },
  {
   "cell_type": "code",
   "execution_count": null,
   "metadata": {
    "hidden": true
   },
   "outputs": [],
   "source": [
    "# df_forecast = forecast_df(col = 'time', daterange = pd.date_range(start='2018-05-01', end='2020-04-01', freq='MS'), \n",
    "#                 actual_forecast=actual_forecast, forecast_confint = forecast_confint)\n",
    "\n",
    "df_forecast = forecast_df(col = 'time', daterange = pd.date_range(start='2018-05-01', end='2020-04-01', freq='MS'), \n",
    "                actual_forecast=actual_forecast, forecast_confint = forecast_confint)"
   ]
  },
  {
   "cell_type": "markdown",
   "metadata": {
    "hidden": true
   },
   "source": [
    "### Create new dataframe concatenating historic values and forecast results"
   ]
  },
  {
   "cell_type": "code",
   "execution_count": null,
   "metadata": {
    "hidden": true
   },
   "outputs": [],
   "source": [
    "# df_new = concat_values_forecast(ts, df_forecast)\n",
    "\n",
    "df_new = concat_values_forecast(ts_95864_values, df_forecast)"
   ]
  },
  {
   "cell_type": "code",
   "execution_count": null,
   "metadata": {
    "hidden": true
   },
   "outputs": [],
   "source": [
    "df_new"
   ]
  },
  {
   "cell_type": "markdown",
   "metadata": {
    "hidden": true
   },
   "source": [
    "### Calculate predicted, lower bound, and upper bound forecasted prices"
   ]
  },
  {
   "cell_type": "code",
   "execution_count": null,
   "metadata": {
    "hidden": true
   },
   "outputs": [],
   "source": [
    "def forecast_values(df=df_new, date = '2020-04-01'):\n",
    "    forecasted_price = df.loc[date, 'forecast']\n",
    "    forecasted_lower = df.loc[date, 'forecast_lower']\n",
    "    forecasted_upper = df.loc[date,  'forecast_upper']    \n",
    "    return forecasted_price, forecasted_lower, forecasted_upper\n",
    "\n",
    "\n",
    "forecasted_price, forecasted_lower, forecasted_upper = forecast_values()"
   ]
  },
  {
   "cell_type": "code",
   "execution_count": null,
   "metadata": {
    "hidden": true
   },
   "outputs": [],
   "source": [
    "forecasted_price, forecasted_lower, forecasted_upper  # predicted, best-case, and worst-case prices in 2020"
   ]
  },
  {
   "cell_type": "code",
   "execution_count": null,
   "metadata": {
    "hidden": true
   },
   "outputs": [],
   "source": [
    "last_value = df_new['value'].loc['2018-04-01']"
   ]
  },
  {
   "cell_type": "code",
   "execution_count": null,
   "metadata": {
    "hidden": true
   },
   "outputs": [],
   "source": [
    "last_value"
   ]
  },
  {
   "cell_type": "markdown",
   "metadata": {
    "hidden": true
   },
   "source": [
    "### Plot forecast with confidence intervals"
   ]
  },
  {
   "cell_type": "code",
   "execution_count": null,
   "metadata": {
    "hidden": true
   },
   "outputs": [],
   "source": [
    "# plot_forecast(df = df_new, figsize=(12,8), geog=None)\n",
    "\n",
    "plot_forecast(df = df_new, figsize=(12,8), geog='')"
   ]
  },
  {
   "cell_type": "markdown",
   "metadata": {
    "hidden": true
   },
   "source": [
    "### Print summary of predicted, worst-case, and best-case scenarios"
   ]
  },
  {
   "cell_type": "code",
   "execution_count": null,
   "metadata": {
    "hidden": true,
    "scrolled": true
   },
   "outputs": [],
   "source": [
    "# def pred_best_worst(pred, low, high, last, date='April 1, 2020'):\n",
    "#     pred_pct_change = (((pred - last) / last) * 100)\n",
    "#     print(f'By the model prediction, I would expect to see a {round(pred_pct_change, 3)}% change in price by April 1, 2020')\n",
    "#     lower_pct_change = ((low - last) / last) * 100\n",
    "#     print(f'At the lower bound of the confidence interval, I would expect to see a {round(lower_pct_change, 3)}% change in price by April 1, 2020')\n",
    "#     upper_pct_change = ((high - last) / last) * 100\n",
    "#     print(f'At the upper bound of the confidence interval, I would expect to see a {round(upper_pct_change, 3)}% change in price by April 1, 2020')\n",
    "        \n",
    "\n",
    "pred_best_worst(pred=forecasted_price, low=forecasted_lower, high=forecasted_upper, last=last_value, date='April 1, 2020')"
   ]
  },
  {
   "cell_type": "markdown",
   "metadata": {
    "hidden": true
   },
   "source": [
    "## Recommendation for ZIP code 95864:  Don't invest"
   ]
  },
  {
   "cell_type": "markdown",
   "metadata": {
    "hidden": true
   },
   "source": [
    "By the model prediction, I would expect to see a -4.669% change in price by April 1, 2020\n",
    "At the lower bound of the confidence interval, I would expect to see a -26.572% change in price by April 1, 2020\n",
    "At the upper bound of the confidence interval, I would expect to see a 17.233% change in price by April 1, 2020"
   ]
  },
  {
   "cell_type": "code",
   "execution_count": null,
   "metadata": {
    "hidden": true
   },
   "outputs": [],
   "source": []
  },
  {
   "cell_type": "markdown",
   "metadata": {
    "heading_collapsed": true
   },
   "source": [
    "# SacMetro:  95831 -- FUNCTIONS to run for each geographic area"
   ]
  },
  {
   "cell_type": "markdown",
   "metadata": {
    "hidden": true
   },
   "source": [
    "## Create ts dataframe for *single* geographic area"
   ]
  },
  {
   "cell_type": "markdown",
   "metadata": {
    "hidden": true
   },
   "source": [
    "## SacMetro:  95831 (Sacramento)"
   ]
  },
  {
   "cell_type": "code",
   "execution_count": null,
   "metadata": {
    "hidden": true
   },
   "outputs": [],
   "source": [
    "# print(sorted(metro_state_list))"
   ]
  },
  {
   "cell_type": "code",
   "execution_count": null,
   "metadata": {
    "hidden": true
   },
   "outputs": [],
   "source": [
    "geog_area = '95831'"
   ]
  },
  {
   "cell_type": "markdown",
   "metadata": {
    "hidden": true
   },
   "source": [
    "### Create dataframe containing values for just this geographic unit"
   ]
  },
  {
   "cell_type": "code",
   "execution_count": null,
   "metadata": {
    "hidden": true
   },
   "outputs": [],
   "source": [
    "ts_95831 = df_sac.loc[df_sac['Zip'] == geog_area]  # ts for all of the following functions should have only one zipcode\n",
    "ts_95831.head()\n"
   ]
  },
  {
   "cell_type": "code",
   "execution_count": null,
   "metadata": {
    "hidden": true,
    "scrolled": true
   },
   "outputs": [],
   "source": [
    "# ts.head()\n",
    "\n",
    "ts_95831.head()"
   ]
  },
  {
   "cell_type": "code",
   "execution_count": null,
   "metadata": {
    "hidden": true
   },
   "outputs": [],
   "source": [
    "# ts = ts.value\n",
    "\n",
    "ts_95831_values = ts_95831.value"
   ]
  },
  {
   "cell_type": "code",
   "execution_count": null,
   "metadata": {
    "hidden": true
   },
   "outputs": [],
   "source": [
    "# ts.head()\n",
    "\n",
    "ts_95831_values.head()"
   ]
  },
  {
   "cell_type": "markdown",
   "metadata": {
    "hidden": true
   },
   "source": [
    "### Visualizations"
   ]
  },
  {
   "cell_type": "markdown",
   "metadata": {
    "hidden": true
   },
   "source": [
    "#### plot_ts:  Plot zip code(s) of interest over time, with market highs and lows"
   ]
  },
  {
   "cell_type": "code",
   "execution_count": null,
   "metadata": {
    "hidden": true,
    "scrolled": false
   },
   "outputs": [],
   "source": [
    "# fig, ax = plot_ts(df_melt, zipcodes=['95616', '92008', '90035', '90025', '60625', '57701'])  # enter desired zip code(s)\n",
    "\n",
    "fig, ax = plot_ts(df_melt, zipcodes=['95831'])  # enter desired zip code(s)"
   ]
  },
  {
   "cell_type": "markdown",
   "metadata": {
    "hidden": true
   },
   "source": [
    "#### Boxplot of zip code"
   ]
  },
  {
   "cell_type": "code",
   "execution_count": null,
   "metadata": {
    "hidden": true
   },
   "outputs": [],
   "source": [
    "# # note--check for SizeRank column and drop if needed\n",
    "\n",
    "# fig = plt.figure(figsize=(18, 30))\n",
    "\n",
    "# for i, zc in enumerate(sac_metro_zips[:48], start=1):\n",
    "#     ax = fig.add_subplot(8,6,i)\n",
    "#     ts = df_sac.loc[df_sac['Zip'] == zc]\n",
    "#     ts.boxplot(column = 'value', ax = ax)\n",
    "#     ax.set_title(f'{zc}')\n",
    "#     fig.tight_layout()\n",
    "\n",
    "ts_95831.boxplot(column = 'value')\n",
    "plt.title('95831');\n",
    "\n"
   ]
  },
  {
   "cell_type": "markdown",
   "metadata": {
    "hidden": true
   },
   "source": [
    "### Plot ACF and PACF for ts dataframe"
   ]
  },
  {
   "cell_type": "code",
   "execution_count": null,
   "metadata": {
    "hidden": true
   },
   "outputs": [],
   "source": [
    "import warnings\n",
    "from statsmodels.tsa.arima_model import ARIMA\n",
    "import statsmodels.api as sm\n",
    "from sklearn.metrics import mean_squared_error\n",
    "from statsmodels.tsa.seasonal import seasonal_decompose\n",
    "from  statsmodels.graphics.tsaplots import plot_acf,plot_pacf\n",
    "from pandas.plotting import autocorrelation_plot,lag_plot\n"
   ]
  },
  {
   "cell_type": "code",
   "execution_count": null,
   "metadata": {
    "hidden": true,
    "scrolled": false
   },
   "outputs": [],
   "source": [
    "# plot_acf_pacf(ts, figsize=(10,6), lags=15)  # note that ts must only contain values and time as index\n",
    "\n",
    "plot_acf_pacf(ts_95831_values, figsize=(10,6), lags=15)"
   ]
  },
  {
   "cell_type": "markdown",
   "metadata": {
    "hidden": true
   },
   "source": [
    "### Plot seasonal decomposition for ts dataframe"
   ]
  },
  {
   "cell_type": "code",
   "execution_count": null,
   "metadata": {
    "hidden": true,
    "scrolled": false
   },
   "outputs": [],
   "source": [
    "# plot_seasonal_decomp(ts)\n",
    "\n",
    "plot_seasonal_decomp(ts_95831_values)\n",
    "\n",
    "# Seasonality does not appear to be a significant factor in this zip code."
   ]
  },
  {
   "cell_type": "markdown",
   "metadata": {
    "hidden": true
   },
   "source": [
    "## ARIMA model parameters and optimization"
   ]
  },
  {
   "cell_type": "markdown",
   "metadata": {
    "hidden": true
   },
   "source": [
    "### Generate list of (p,d,q) and (p,d,q,m) values"
   ]
  },
  {
   "cell_type": "code",
   "execution_count": null,
   "metadata": {
    "hidden": true,
    "scrolled": true
   },
   "outputs": [],
   "source": [
    "params = make_pdq_pdqm(p_range=(0,10), d_range=(0,3), q_range=(0,4), make_seasonal=True,\n",
    "                  m_values=(0,12))\n",
    "print(params['pdq'])"
   ]
  },
  {
   "cell_type": "markdown",
   "metadata": {
    "hidden": true
   },
   "source": [
    "### Run ARIMA model on ts dataframe with list of p,d,q values "
   ]
  },
  {
   "cell_type": "code",
   "execution_count": null,
   "metadata": {
    "hidden": true
   },
   "outputs": [],
   "source": [
    "p_values = [0, 1, 2, 4, 6, 8]\n",
    "d_values = range(0, 3)\n",
    "q_values = range(0, 3)\n",
    "warnings.filterwarnings(\"ignore\")"
   ]
  },
  {
   "cell_type": "code",
   "execution_count": null,
   "metadata": {
    "hidden": true
   },
   "outputs": [],
   "source": [
    "# eval_arima_models(ts, p_values, d_values, q_values)  # don't run this until you have some time, since it take time\n",
    "# note that ts must only contain values and time as index\n",
    "\n",
    "eval_arima_models(ts_95831_values, p_values, d_values, q_values)  # don't run this until you have some time, since it takes time\n"
   ]
  },
  {
   "cell_type": "markdown",
   "metadata": {
    "hidden": true
   },
   "source": [
    "### Generate model fit summary"
   ]
  },
  {
   "cell_type": "code",
   "execution_count": null,
   "metadata": {
    "hidden": true,
    "scrolled": true
   },
   "outputs": [],
   "source": [
    "# model_fit = arima_zipcode(ts, order = None)   # change order = tuple to correspond to the best MSE produced by previous function\n",
    "\n",
    "# Best ARIMA(6, 0, 2) MSE=955633.913\n",
    "\n",
    "model_fit_95831 = arima_zipcode(ts_95831_values, order = (6,0,2))\n"
   ]
  },
  {
   "cell_type": "markdown",
   "metadata": {
    "hidden": true
   },
   "source": [
    "## ARIMA modeling results:  predictions and visualization"
   ]
  },
  {
   "cell_type": "markdown",
   "metadata": {
    "hidden": true
   },
   "source": [
    "### Produce forecasts from ARIMA model fit"
   ]
  },
  {
   "cell_type": "code",
   "execution_count": null,
   "metadata": {
    "hidden": true
   },
   "outputs": [],
   "source": [
    "def forecast(model_fit, months=24, confint=2):\n",
    "    forecast = model_fit.forecast(months)\n",
    "    actual_forecast = forecast[0]\n",
    "    std_error = forecast[1]\n",
    "    forecast_confint = forecast[confint]\n",
    "    return actual_forecast, std_error, forecast_confint  \n",
    "\n",
    "# actual_forecast, forecast_confint = forecast(model_fit, months=24, confint=2)\n",
    "\n",
    "actual_forecast, std_error, forecast_confint = forecast(model_fit_95831)\n",
    "\n",
    "# actual_forecast, forecast_confint = forecast(model_fit_dallas, months=24, confint=2)"
   ]
  },
  {
   "cell_type": "code",
   "execution_count": null,
   "metadata": {
    "hidden": true
   },
   "outputs": [],
   "source": [
    "actual_forecast, std_error, forecast_confint"
   ]
  },
  {
   "cell_type": "markdown",
   "metadata": {
    "hidden": true
   },
   "source": [
    "### Create dataframe to hold forecast results"
   ]
  },
  {
   "cell_type": "code",
   "execution_count": null,
   "metadata": {
    "hidden": true
   },
   "outputs": [],
   "source": [
    "# df_forecast = forecast_df(col = 'time', daterange = pd.date_range(start='2018-05-01', end='2020-04-01', freq='MS'), \n",
    "#                 actual_forecast=actual_forecast, forecast_confint = forecast_confint)\n",
    "\n",
    "df_forecast = forecast_df(col = 'time', daterange = pd.date_range(start='2018-05-01', end='2020-04-01', freq='MS'), \n",
    "                actual_forecast=actual_forecast, forecast_confint = forecast_confint)"
   ]
  },
  {
   "cell_type": "markdown",
   "metadata": {
    "hidden": true
   },
   "source": [
    "### Create new dataframe concatenating historic values and forecast results"
   ]
  },
  {
   "cell_type": "code",
   "execution_count": null,
   "metadata": {
    "hidden": true
   },
   "outputs": [],
   "source": [
    "# df_new = concat_values_forecast(ts, df_forecast)\n",
    "\n",
    "df_new = concat_values_forecast(ts_95831_values, df_forecast)"
   ]
  },
  {
   "cell_type": "code",
   "execution_count": null,
   "metadata": {
    "hidden": true
   },
   "outputs": [],
   "source": [
    "df_new"
   ]
  },
  {
   "cell_type": "markdown",
   "metadata": {
    "hidden": true
   },
   "source": [
    "### Calculate predicted, lower bound, and upper bound forecasted prices"
   ]
  },
  {
   "cell_type": "code",
   "execution_count": null,
   "metadata": {
    "hidden": true
   },
   "outputs": [],
   "source": [
    "def forecast_values(df=df_new, date = '2020-04-01'):\n",
    "    forecasted_price = df.loc[date, 'forecast']\n",
    "    forecasted_lower = df.loc[date, 'forecast_lower']\n",
    "    forecasted_upper = df.loc[date,  'forecast_upper']    \n",
    "    return forecasted_price, forecasted_lower, forecasted_upper\n",
    "\n",
    "\n",
    "forecasted_price, forecasted_lower, forecasted_upper = forecast_values()"
   ]
  },
  {
   "cell_type": "code",
   "execution_count": null,
   "metadata": {
    "hidden": true
   },
   "outputs": [],
   "source": [
    "forecasted_price, forecasted_lower, forecasted_upper  # predicted, best-case, and worst-case prices in 2020"
   ]
  },
  {
   "cell_type": "code",
   "execution_count": null,
   "metadata": {
    "hidden": true
   },
   "outputs": [],
   "source": [
    "last_value = df_new['value'].loc['2018-04-01']"
   ]
  },
  {
   "cell_type": "code",
   "execution_count": null,
   "metadata": {
    "hidden": true
   },
   "outputs": [],
   "source": [
    "last_value"
   ]
  },
  {
   "cell_type": "markdown",
   "metadata": {
    "hidden": true
   },
   "source": [
    "### Plot forecast with confidence intervals"
   ]
  },
  {
   "cell_type": "code",
   "execution_count": null,
   "metadata": {
    "hidden": true
   },
   "outputs": [],
   "source": [
    "# plot_forecast(df = df_new, figsize=(12,8), geog=None)\n",
    "\n",
    "plot_forecast(df = df_new, figsize=(12,8), geog='95619')"
   ]
  },
  {
   "cell_type": "markdown",
   "metadata": {
    "hidden": true
   },
   "source": [
    "### Print summary of predicted, worst-case, and best-case scenarios"
   ]
  },
  {
   "cell_type": "code",
   "execution_count": null,
   "metadata": {
    "hidden": true,
    "scrolled": true
   },
   "outputs": [],
   "source": [
    "# def pred_best_worst(pred, low, high, last, date='April 1, 2020'):\n",
    "#     pred_pct_change = (((pred - last) / last) * 100)\n",
    "#     print(f'By the model prediction, I would expect to see a {round(pred_pct_change, 3)}% change in price by April 1, 2020')\n",
    "#     lower_pct_change = ((low - last) / last) * 100\n",
    "#     print(f'At the lower bound of the confidence interval, I would expect to see a {round(lower_pct_change, 3)}% change in price by April 1, 2020')\n",
    "#     upper_pct_change = ((high - last) / last) * 100\n",
    "#     print(f'At the upper bound of the confidence interval, I would expect to see a {round(upper_pct_change, 3)}% change in price by April 1, 2020')\n",
    "        \n",
    "\n",
    "pred_best_worst(pred=forecasted_price, low=forecasted_lower, high=forecasted_upper, last=last_value, date='April 1, 2020')"
   ]
  },
  {
   "cell_type": "markdown",
   "metadata": {
    "hidden": true
   },
   "source": [
    "### Zip code 95831:  don't invest; lots of downside risk\n",
    "\n",
    "By the model prediction, I would expect to see a -13.413% change in price by April 1, 2020\n",
    "At the lower bound of the confidence interval, I would expect to see a -32.77% change in price by April 1, 2020\n",
    "At the upper bound of the confidence interval, I would expect to see a 5.945% change in price by April 1, 2020"
   ]
  },
  {
   "cell_type": "code",
   "execution_count": null,
   "metadata": {
    "hidden": true
   },
   "outputs": [],
   "source": []
  },
  {
   "cell_type": "markdown",
   "metadata": {},
   "source": [
    "# SacMetro:  96142 -- FUNCTIONS to run for each geographic area"
   ]
  },
  {
   "cell_type": "markdown",
   "metadata": {},
   "source": [
    "## Create ts dataframe for *single* geographic area"
   ]
  },
  {
   "cell_type": "markdown",
   "metadata": {},
   "source": [
    "## SacMetro:  96142 (Tahoma)"
   ]
  },
  {
   "cell_type": "code",
   "execution_count": null,
   "metadata": {},
   "outputs": [],
   "source": [
    "# print(sorted(metro_state_list))"
   ]
  },
  {
   "cell_type": "code",
   "execution_count": null,
   "metadata": {},
   "outputs": [],
   "source": [
    "geog_area = '96142'"
   ]
  },
  {
   "cell_type": "markdown",
   "metadata": {},
   "source": [
    "### Create dataframe containing values for just this geographic unit"
   ]
  },
  {
   "cell_type": "code",
   "execution_count": null,
   "metadata": {},
   "outputs": [],
   "source": [
    "ts_96142 = df_sac.loc[df_sac['Zip'] == geog_area]  # ts for all of the following functions should have only one zipcode\n",
    "ts_96142.head()\n"
   ]
  },
  {
   "cell_type": "code",
   "execution_count": null,
   "metadata": {
    "scrolled": true
   },
   "outputs": [],
   "source": [
    "# ts.head()\n",
    "\n",
    "ts_96142.head()"
   ]
  },
  {
   "cell_type": "code",
   "execution_count": null,
   "metadata": {},
   "outputs": [],
   "source": [
    "# ts = ts.value\n",
    "\n",
    "ts_96142_values = ts_96142.value"
   ]
  },
  {
   "cell_type": "code",
   "execution_count": null,
   "metadata": {},
   "outputs": [],
   "source": [
    "# ts.head()\n",
    "\n",
    "ts_96142_values.head()"
   ]
  },
  {
   "cell_type": "code",
   "execution_count": null,
   "metadata": {},
   "outputs": [],
   "source": [
    "ts_96142_values.tail()"
   ]
  },
  {
   "cell_type": "markdown",
   "metadata": {},
   "source": [
    "### Visualizations"
   ]
  },
  {
   "cell_type": "markdown",
   "metadata": {},
   "source": [
    "#### plot_ts:  Plot zip code(s) of interest over time, with market highs and lows"
   ]
  },
  {
   "cell_type": "code",
   "execution_count": null,
   "metadata": {
    "scrolled": true
   },
   "outputs": [],
   "source": [
    "# fig, ax = plot_ts(df_melt, zipcodes=['95616', '92008', '90035', '90025', '60625', '57701'])  # enter desired zip code(s)\n",
    "\n",
    "fig, ax = plot_ts(df_melt, zipcodes=['96142'])  # enter desired zip code(s)"
   ]
  },
  {
   "cell_type": "code",
   "execution_count": null,
   "metadata": {},
   "outputs": [],
   "source": [
    "ts_96142"
   ]
  },
  {
   "cell_type": "markdown",
   "metadata": {},
   "source": [
    "#### Boxplot of zip code"
   ]
  },
  {
   "cell_type": "code",
   "execution_count": null,
   "metadata": {},
   "outputs": [],
   "source": [
    "# # note--check for SizeRank column and drop if needed\n",
    "\n",
    "# fig = plt.figure(figsize=(18, 30))\n",
    "\n",
    "# for i, zc in enumerate(sac_metro_zips[:48], start=1):\n",
    "#     ax = fig.add_subplot(8,6,i)\n",
    "#     ts = df_sac.loc[df_sac['Zip'] == zc]\n",
    "#     ts.boxplot(column = 'value', ax = ax)\n",
    "#     ax.set_title(f'{zc}')\n",
    "#     fig.tight_layout()\n",
    "\n",
    "ts_96142.boxplot(column = 'value')\n",
    "plt.title('96142');\n",
    "\n"
   ]
  },
  {
   "cell_type": "markdown",
   "metadata": {},
   "source": [
    "### Plot ACF and PACF for ts dataframe"
   ]
  },
  {
   "cell_type": "code",
   "execution_count": null,
   "metadata": {},
   "outputs": [],
   "source": [
    "import warnings\n",
    "from statsmodels.tsa.arima_model import ARIMA\n",
    "import statsmodels.api as sm\n",
    "from sklearn.metrics import mean_squared_error\n",
    "from statsmodels.tsa.seasonal import seasonal_decompose\n",
    "from  statsmodels.graphics.tsaplots import plot_acf,plot_pacf\n",
    "from pandas.plotting import autocorrelation_plot,lag_plot\n"
   ]
  },
  {
   "cell_type": "code",
   "execution_count": null,
   "metadata": {
    "scrolled": false
   },
   "outputs": [],
   "source": [
    "# plot_acf_pacf(ts, figsize=(10,6), lags=15)  # note that ts must only contain values and time as index\n",
    "\n",
    "plot_acf_pacf(ts_96142_values, figsize=(10,6), lags=15)"
   ]
  },
  {
   "cell_type": "markdown",
   "metadata": {},
   "source": [
    "### Plot seasonal decomposition for ts dataframe"
   ]
  },
  {
   "cell_type": "code",
   "execution_count": null,
   "metadata": {
    "scrolled": false
   },
   "outputs": [],
   "source": [
    "# plot_seasonal_decomp(ts)\n",
    "\n",
    "plot_seasonal_decomp(ts_96142_values)\n",
    "\n",
    "# Seasonality does not appear to be a significant factor in this zip code."
   ]
  },
  {
   "cell_type": "markdown",
   "metadata": {},
   "source": [
    "## ARIMA model parameters and optimization"
   ]
  },
  {
   "cell_type": "markdown",
   "metadata": {},
   "source": [
    "### Generate list of (p,d,q) and (p,d,q,m) values"
   ]
  },
  {
   "cell_type": "code",
   "execution_count": null,
   "metadata": {
    "scrolled": true
   },
   "outputs": [],
   "source": [
    "params = make_pdq_pdqm(p_range=(0,10), d_range=(0,3), q_range=(0,4), make_seasonal=True,\n",
    "                  m_values=(0,12))\n",
    "print(params['pdq'])"
   ]
  },
  {
   "cell_type": "markdown",
   "metadata": {},
   "source": [
    "### Run ARIMA model on ts dataframe with list of p,d,q values "
   ]
  },
  {
   "cell_type": "code",
   "execution_count": null,
   "metadata": {},
   "outputs": [],
   "source": [
    "p_values = [0, 1, 2, 4, 6, 8]\n",
    "d_values = range(0, 3)\n",
    "q_values = range(0, 3)\n",
    "warnings.filterwarnings(\"ignore\")"
   ]
  },
  {
   "cell_type": "code",
   "execution_count": null,
   "metadata": {},
   "outputs": [],
   "source": [
    "# eval_arima_models(ts, p_values, d_values, q_values)  # don't run this until you have some time, since it take time\n",
    "# note that ts must only contain values and time as index\n",
    "\n",
    "eval_arima_models(ts_96142_values, p_values, d_values, q_values)  # don't run this until you have some time, since it takes time\n"
   ]
  },
  {
   "cell_type": "markdown",
   "metadata": {},
   "source": [
    "### Generate model fit summary"
   ]
  },
  {
   "cell_type": "code",
   "execution_count": null,
   "metadata": {
    "scrolled": true
   },
   "outputs": [],
   "source": [
    "# model_fit = arima_zipcode(ts, order = None)   # change order = tuple to correspond to the best MSE produced by previous function\n",
    "\n",
    "# Best ARIMA(6, 0, 2) MSE=955633.913\n",
    "\n",
    "model_fit_96142 = arima_zipcode(ts_96142_values, order = (6,0,2))\n"
   ]
  },
  {
   "cell_type": "markdown",
   "metadata": {},
   "source": [
    "## ARIMA modeling results:  predictions and visualization"
   ]
  },
  {
   "cell_type": "markdown",
   "metadata": {},
   "source": [
    "### Produce forecasts from ARIMA model fit"
   ]
  },
  {
   "cell_type": "code",
   "execution_count": null,
   "metadata": {},
   "outputs": [],
   "source": [
    "def forecast(model_fit, months=24, confint=2):\n",
    "    forecast = model_fit.forecast(months)\n",
    "    actual_forecast = forecast[0]\n",
    "    std_error = forecast[1]\n",
    "    forecast_confint = forecast[confint]\n",
    "    return actual_forecast, std_error, forecast_confint  \n",
    "\n",
    "# actual_forecast, forecast_confint = forecast(model_fit, months=24, confint=2)\n",
    "\n",
    "actual_forecast, std_error, forecast_confint = forecast(model_fit_96142)\n",
    "\n",
    "# actual_forecast, forecast_confint = forecast(model_fit_dallas, months=24, confint=2)"
   ]
  },
  {
   "cell_type": "code",
   "execution_count": null,
   "metadata": {},
   "outputs": [],
   "source": [
    "actual_forecast, std_error, forecast_confint"
   ]
  },
  {
   "cell_type": "markdown",
   "metadata": {},
   "source": [
    "### Create dataframe to hold forecast results"
   ]
  },
  {
   "cell_type": "code",
   "execution_count": null,
   "metadata": {},
   "outputs": [],
   "source": [
    "# df_forecast = forecast_df(col = 'time', daterange = pd.date_range(start='2018-05-01', end='2020-04-01', freq='MS'), \n",
    "#                 actual_forecast=actual_forecast, forecast_confint = forecast_confint)\n",
    "\n",
    "df_forecast = forecast_df(col = 'time', daterange = pd.date_range(start='2018-05-01', end='2020-04-01', freq='MS'), \n",
    "                actual_forecast=actual_forecast, forecast_confint = forecast_confint)"
   ]
  },
  {
   "cell_type": "markdown",
   "metadata": {},
   "source": [
    "### Create new dataframe concatenating historic values and forecast results"
   ]
  },
  {
   "cell_type": "code",
   "execution_count": null,
   "metadata": {},
   "outputs": [],
   "source": [
    "# df_new = concat_values_forecast(ts, df_forecast)\n",
    "\n",
    "df_new = concat_values_forecast(ts_96142_values, df_forecast)"
   ]
  },
  {
   "cell_type": "code",
   "execution_count": null,
   "metadata": {},
   "outputs": [],
   "source": [
    "df_new"
   ]
  },
  {
   "cell_type": "markdown",
   "metadata": {},
   "source": [
    "### Calculate predicted, lower bound, and upper bound forecasted prices"
   ]
  },
  {
   "cell_type": "code",
   "execution_count": null,
   "metadata": {},
   "outputs": [],
   "source": [
    "def forecast_values(df=df_new, date = '2020-04-01'):\n",
    "    forecasted_price = df.loc[date, 'forecast']\n",
    "    forecasted_lower = df.loc[date, 'forecast_lower']\n",
    "    forecasted_upper = df.loc[date,  'forecast_upper']    \n",
    "    return forecasted_price, forecasted_lower, forecasted_upper\n",
    "\n",
    "\n",
    "forecasted_price, forecasted_lower, forecasted_upper = forecast_values(df_new)"
   ]
  },
  {
   "cell_type": "code",
   "execution_count": null,
   "metadata": {},
   "outputs": [],
   "source": [
    "forecasted_price, forecasted_lower, forecasted_upper  # predicted, best-case, and worst-case prices in 2020"
   ]
  },
  {
   "cell_type": "code",
   "execution_count": null,
   "metadata": {},
   "outputs": [],
   "source": [
    "last_value = df_new['value'].loc['2018-04-01']"
   ]
  },
  {
   "cell_type": "code",
   "execution_count": null,
   "metadata": {},
   "outputs": [],
   "source": [
    "last_value"
   ]
  },
  {
   "cell_type": "markdown",
   "metadata": {},
   "source": [
    "### Plot forecast with confidence intervals"
   ]
  },
  {
   "cell_type": "code",
   "execution_count": null,
   "metadata": {},
   "outputs": [],
   "source": [
    "# plot_forecast(df = df_new, figsize=(12,8), geog=None)\n",
    "\n",
    "plot_forecast(df = df_new, figsize=(12,8), geog='96142')"
   ]
  },
  {
   "cell_type": "markdown",
   "metadata": {},
   "source": [
    "### Print summary of predicted, worst-case, and best-case scenarios"
   ]
  },
  {
   "cell_type": "code",
   "execution_count": null,
   "metadata": {
    "scrolled": true
   },
   "outputs": [],
   "source": [
    "# def pred_best_worst(pred, low, high, last, date='April 1, 2020'):\n",
    "#     pred_pct_change = (((pred - last) / last) * 100)\n",
    "#     print(f'By the model prediction, I would expect to see a {round(pred_pct_change, 3)}% change in price by April 1, 2020')\n",
    "#     lower_pct_change = ((low - last) / last) * 100\n",
    "#     print(f'At the lower bound of the confidence interval, I would expect to see a {round(lower_pct_change, 3)}% change in price by April 1, 2020')\n",
    "#     upper_pct_change = ((high - last) / last) * 100\n",
    "#     print(f'At the upper bound of the confidence interval, I would expect to see a {round(upper_pct_change, 3)}% change in price by April 1, 2020')\n",
    "        \n",
    "\n",
    "pred_best_worst(pred=forecasted_price, low=forecasted_lower, high=forecasted_upper, last=last_value, date='April 1, 2020')"
   ]
  },
  {
   "cell_type": "markdown",
   "metadata": {},
   "source": [
    "### Zip code 96142:  Potentially solid gains, with possibly large upside or downside\n",
    "\n",
    "By the model prediction, I would expect to see a 5.558% change in price by April 1, 2020\n",
    "At the lower bound of the confidence interval, I would expect to see a -21.275% change in price by April 1, 2020\n",
    "At the upper bound of the confidence interval, I would expect to see a 32.391% change in price by April 1, 2020\n",
    "\n"
   ]
  },
  {
   "cell_type": "code",
   "execution_count": null,
   "metadata": {},
   "outputs": [],
   "source": []
  },
  {
   "cell_type": "markdown",
   "metadata": {
    "heading_collapsed": true
   },
   "source": [
    "# SacMetro:  95811 -- FUNCTIONS to run "
   ]
  },
  {
   "cell_type": "markdown",
   "metadata": {
    "hidden": true
   },
   "source": [
    "## Create ts dataframe for *single* geographic area"
   ]
  },
  {
   "cell_type": "markdown",
   "metadata": {
    "hidden": true
   },
   "source": [
    "## SacMetro:  95811 (Sacramento)"
   ]
  },
  {
   "cell_type": "code",
   "execution_count": null,
   "metadata": {
    "hidden": true
   },
   "outputs": [],
   "source": [
    "# print(sorted(metro_state_list))"
   ]
  },
  {
   "cell_type": "code",
   "execution_count": null,
   "metadata": {
    "hidden": true
   },
   "outputs": [],
   "source": [
    "geog_area = '95811'"
   ]
  },
  {
   "cell_type": "markdown",
   "metadata": {
    "hidden": true
   },
   "source": [
    "### Create dataframe containing values for just this geographic unit"
   ]
  },
  {
   "cell_type": "code",
   "execution_count": null,
   "metadata": {
    "hidden": true
   },
   "outputs": [],
   "source": [
    "ts_95811 = df_sac.loc[df_sac['Zip'] == geog_area]  # ts for all of the following functions should have only one zipcode\n",
    "ts_95811.head()\n"
   ]
  },
  {
   "cell_type": "code",
   "execution_count": null,
   "metadata": {
    "hidden": true,
    "scrolled": true
   },
   "outputs": [],
   "source": [
    "# ts.head()\n",
    "\n",
    "ts_95811.head()"
   ]
  },
  {
   "cell_type": "code",
   "execution_count": null,
   "metadata": {
    "hidden": true
   },
   "outputs": [],
   "source": [
    "# ts = ts.value\n",
    "\n",
    "ts_95811_values = ts_95811.value"
   ]
  },
  {
   "cell_type": "code",
   "execution_count": null,
   "metadata": {
    "hidden": true
   },
   "outputs": [],
   "source": [
    "# ts.head()\n",
    "\n",
    "ts_95811_values.head()"
   ]
  },
  {
   "cell_type": "code",
   "execution_count": null,
   "metadata": {
    "hidden": true
   },
   "outputs": [],
   "source": [
    "ts_95811_values.tail()"
   ]
  },
  {
   "cell_type": "markdown",
   "metadata": {
    "hidden": true
   },
   "source": [
    "### Visualizations"
   ]
  },
  {
   "cell_type": "markdown",
   "metadata": {
    "hidden": true
   },
   "source": [
    "#### plot_ts:  Plot zip code(s) of interest over time, with market highs and lows"
   ]
  },
  {
   "cell_type": "code",
   "execution_count": null,
   "metadata": {
    "hidden": true,
    "scrolled": true
   },
   "outputs": [],
   "source": [
    "# fig, ax = plot_ts(df_melt, zipcodes=['95616', '92008', '90035', '90025', '60625', '57701'])  # enter desired zip code(s)\n",
    "\n",
    "fig, ax = plot_ts(df_melt, zipcodes=['95811'], figsize=(12,5))  # enter desired zip code(s)"
   ]
  },
  {
   "cell_type": "code",
   "execution_count": null,
   "metadata": {
    "hidden": true
   },
   "outputs": [],
   "source": [
    "ts_95811"
   ]
  },
  {
   "cell_type": "markdown",
   "metadata": {
    "hidden": true
   },
   "source": [
    "#### Boxplot of zip code"
   ]
  },
  {
   "cell_type": "code",
   "execution_count": null,
   "metadata": {
    "hidden": true
   },
   "outputs": [],
   "source": [
    "# # note--check for SizeRank column and drop if needed\n",
    "\n",
    "# fig = plt.figure(figsize=(18, 30))\n",
    "\n",
    "# for i, zc in enumerate(sac_metro_zips[:48], start=1):\n",
    "#     ax = fig.add_subplot(8,6,i)\n",
    "#     ts = df_sac.loc[df_sac['Zip'] == zc]\n",
    "#     ts.boxplot(column = 'value', ax = ax)\n",
    "#     ax.set_title(f'{zc}')\n",
    "#     fig.tight_layout()\n",
    "\n",
    "ts_95811.boxplot(column = 'value')\n",
    "plt.title('95811');\n",
    "\n"
   ]
  },
  {
   "cell_type": "markdown",
   "metadata": {
    "hidden": true
   },
   "source": [
    "### Plot ACF and PACF for ts dataframe"
   ]
  },
  {
   "cell_type": "code",
   "execution_count": null,
   "metadata": {
    "hidden": true
   },
   "outputs": [],
   "source": [
    "import warnings\n",
    "from statsmodels.tsa.arima_model import ARIMA\n",
    "import statsmodels.api as sm\n",
    "from sklearn.metrics import mean_squared_error\n",
    "from statsmodels.tsa.seasonal import seasonal_decompose\n",
    "from  statsmodels.graphics.tsaplots import plot_acf,plot_pacf\n",
    "from pandas.plotting import autocorrelation_plot,lag_plot\n"
   ]
  },
  {
   "cell_type": "code",
   "execution_count": null,
   "metadata": {
    "hidden": true,
    "scrolled": false
   },
   "outputs": [],
   "source": [
    "# plot_acf_pacf(ts, figsize=(10,6), lags=15)  # note that ts must only contain values and time as index\n",
    "\n",
    "plot_acf_pacf(ts_95811_values, figsize=(10,6), lags=15)"
   ]
  },
  {
   "cell_type": "markdown",
   "metadata": {
    "hidden": true
   },
   "source": [
    "### Plot seasonal decomposition for ts dataframe"
   ]
  },
  {
   "cell_type": "code",
   "execution_count": null,
   "metadata": {
    "hidden": true,
    "scrolled": false
   },
   "outputs": [],
   "source": [
    "# plot_seasonal_decomp(ts)\n",
    "\n",
    "plot_seasonal_decomp(ts_95811_values)\n",
    "\n",
    "# Seasonality does not appear to be a significant factor in this zip code."
   ]
  },
  {
   "cell_type": "markdown",
   "metadata": {
    "hidden": true
   },
   "source": [
    "## ARIMA model parameters and optimization"
   ]
  },
  {
   "cell_type": "markdown",
   "metadata": {
    "hidden": true
   },
   "source": [
    "### Generate list of (p,d,q) and (p,d,q,m) values"
   ]
  },
  {
   "cell_type": "code",
   "execution_count": null,
   "metadata": {
    "hidden": true,
    "scrolled": true
   },
   "outputs": [],
   "source": [
    "params = make_pdq_pdqm(p_range=(0,10), d_range=(0,3), q_range=(0,4), make_seasonal=True,\n",
    "                  m_values=(0,12))\n",
    "print(params['pdq'])"
   ]
  },
  {
   "cell_type": "markdown",
   "metadata": {
    "hidden": true
   },
   "source": [
    "### Run ARIMA model on ts dataframe with list of p,d,q values "
   ]
  },
  {
   "cell_type": "code",
   "execution_count": null,
   "metadata": {
    "hidden": true
   },
   "outputs": [],
   "source": [
    "p_values = [0, 1, 2, 4, 6, 8]\n",
    "d_values = range(0, 3)\n",
    "q_values = range(0, 3)\n",
    "warnings.filterwarnings(\"ignore\")"
   ]
  },
  {
   "cell_type": "code",
   "execution_count": null,
   "metadata": {
    "hidden": true
   },
   "outputs": [],
   "source": [
    "# eval_arima_models(ts, p_values, d_values, q_values)  # don't run this until you have some time, since it take time\n",
    "# note that ts must only contain values and time as index\n",
    "\n",
    "eval_arima_models(ts_95811_values, p_values, d_values, q_values)  # don't run this until you have some time, since it takes time\n"
   ]
  },
  {
   "cell_type": "markdown",
   "metadata": {
    "hidden": true
   },
   "source": [
    "### Generate model fit summary"
   ]
  },
  {
   "cell_type": "code",
   "execution_count": null,
   "metadata": {
    "hidden": true,
    "scrolled": true
   },
   "outputs": [],
   "source": [
    "# model_fit = arima_zipcode(ts, order = None)   # change order = tuple to correspond to the best MSE produced by previous function\n",
    "\n",
    "# Best ARIMA(4, 1, 2) MSE=3195605.437\n",
    "\n",
    "model_fit_95811 = arima_zipcode(ts_95811_values, order = (4,1,2))\n"
   ]
  },
  {
   "cell_type": "markdown",
   "metadata": {
    "hidden": true
   },
   "source": [
    "## ARIMA modeling results:  predictions and visualization"
   ]
  },
  {
   "cell_type": "markdown",
   "metadata": {
    "hidden": true
   },
   "source": [
    "### Produce forecasts from ARIMA model fit"
   ]
  },
  {
   "cell_type": "code",
   "execution_count": null,
   "metadata": {
    "hidden": true
   },
   "outputs": [],
   "source": [
    "def forecast(model_fit, months=24, confint=2):\n",
    "    forecast = model_fit.forecast(months)\n",
    "    actual_forecast = forecast[0]\n",
    "    std_error = forecast[1]\n",
    "    forecast_confint = forecast[confint]\n",
    "    return actual_forecast, std_error, forecast_confint  \n",
    "\n",
    "# actual_forecast, forecast_confint = forecast(model_fit, months=24, confint=2)\n",
    "\n",
    "actual_forecast, std_error, forecast_confint = forecast(model_fit_95811)\n",
    "\n",
    "# actual_forecast, forecast_confint = forecast(model_fit_dallas, months=24, confint=2)"
   ]
  },
  {
   "cell_type": "code",
   "execution_count": null,
   "metadata": {
    "hidden": true
   },
   "outputs": [],
   "source": [
    "actual_forecast, std_error, forecast_confint"
   ]
  },
  {
   "cell_type": "markdown",
   "metadata": {
    "hidden": true
   },
   "source": [
    "### Create dataframe to hold forecast results"
   ]
  },
  {
   "cell_type": "code",
   "execution_count": null,
   "metadata": {
    "hidden": true
   },
   "outputs": [],
   "source": [
    "# df_forecast = forecast_df(col = 'time', daterange = pd.date_range(start='2018-05-01', end='2020-04-01', freq='MS'), \n",
    "#                 actual_forecast=actual_forecast, forecast_confint = forecast_confint)\n",
    "\n",
    "df_forecast = forecast_df(col = 'time', daterange = pd.date_range(start='2018-05-01', end='2020-04-01', freq='MS'), \n",
    "                actual_forecast=actual_forecast, forecast_confint = forecast_confint)"
   ]
  },
  {
   "cell_type": "markdown",
   "metadata": {
    "hidden": true
   },
   "source": [
    "### Create new dataframe concatenating historic values and forecast results"
   ]
  },
  {
   "cell_type": "code",
   "execution_count": null,
   "metadata": {
    "hidden": true
   },
   "outputs": [],
   "source": [
    "# df_new = concat_values_forecast(ts, df_forecast)\n",
    "\n",
    "df_new = concat_values_forecast(ts_95811_values, df_forecast)"
   ]
  },
  {
   "cell_type": "code",
   "execution_count": null,
   "metadata": {
    "hidden": true
   },
   "outputs": [],
   "source": [
    "df_new"
   ]
  },
  {
   "cell_type": "markdown",
   "metadata": {
    "hidden": true
   },
   "source": [
    "### Calculate predicted, lower bound, and upper bound forecasted prices"
   ]
  },
  {
   "cell_type": "code",
   "execution_count": null,
   "metadata": {
    "hidden": true
   },
   "outputs": [],
   "source": [
    "def forecast_values(df=df_new, date = '2020-04-01'):\n",
    "    forecasted_price = df.loc[date, 'forecast']\n",
    "    forecasted_lower = df.loc[date, 'forecast_lower']\n",
    "    forecasted_upper = df.loc[date,  'forecast_upper']    \n",
    "    return forecasted_price, forecasted_lower, forecasted_upper\n",
    "\n",
    "\n",
    "forecasted_price, forecasted_lower, forecasted_upper = forecast_values(df_new)"
   ]
  },
  {
   "cell_type": "code",
   "execution_count": null,
   "metadata": {
    "hidden": true
   },
   "outputs": [],
   "source": [
    "forecasted_price, forecasted_lower, forecasted_upper  # predicted, best-case, and worst-case prices in 2020"
   ]
  },
  {
   "cell_type": "code",
   "execution_count": null,
   "metadata": {
    "hidden": true
   },
   "outputs": [],
   "source": [
    "last_value = df_new['value'].loc['2018-04-01']"
   ]
  },
  {
   "cell_type": "code",
   "execution_count": null,
   "metadata": {
    "hidden": true
   },
   "outputs": [],
   "source": [
    "last_value"
   ]
  },
  {
   "cell_type": "markdown",
   "metadata": {
    "hidden": true
   },
   "source": [
    "### Plot forecast with confidence intervals"
   ]
  },
  {
   "cell_type": "code",
   "execution_count": null,
   "metadata": {
    "hidden": true
   },
   "outputs": [],
   "source": [
    "# plot_forecast(df = df_new, figsize=(12,8), geog=None)\n",
    "\n",
    "plot_forecast(df = df_new, figsize=(12,8), geog='95811')"
   ]
  },
  {
   "cell_type": "markdown",
   "metadata": {
    "hidden": true
   },
   "source": [
    "### Print summary of predicted, worst-case, and best-case scenarios"
   ]
  },
  {
   "cell_type": "code",
   "execution_count": null,
   "metadata": {
    "hidden": true,
    "scrolled": true
   },
   "outputs": [],
   "source": [
    "# def pred_best_worst(pred, low, high, last, date='April 1, 2020'):\n",
    "#     pred_pct_change = (((pred - last) / last) * 100)\n",
    "#     print(f'By the model prediction, I would expect to see a {round(pred_pct_change, 3)}% change in price by April 1, 2020')\n",
    "#     lower_pct_change = ((low - last) / last) * 100\n",
    "#     print(f'At the lower bound of the confidence interval, I would expect to see a {round(lower_pct_change, 3)}% change in price by April 1, 2020')\n",
    "#     upper_pct_change = ((high - last) / last) * 100\n",
    "#     print(f'At the upper bound of the confidence interval, I would expect to see a {round(upper_pct_change, 3)}% change in price by April 1, 2020')\n",
    "        \n",
    "\n",
    "pred_best_worst(pred=forecasted_price, low=forecasted_lower, high=forecasted_upper, last=last_value, date='April 1, 2020')"
   ]
  },
  {
   "cell_type": "markdown",
   "metadata": {
    "hidden": true
   },
   "source": [
    "### Zip code 95811:  Don't invest--mediocre predicted returns with significant potential downside (but also significant potential upside)\n",
    "\n",
    "By the model prediction, I would expect to see a 2.254% change in price by April 1, 2020\n",
    "At the lower bound of the confidence interval, I would expect to see a -17.073% change in price by April 1, 2020\n",
    "At the upper bound of the confidence interval, I would expect to see a 21.582% change in price by April 1, 2020\n",
    "\n"
   ]
  },
  {
   "cell_type": "code",
   "execution_count": null,
   "metadata": {
    "hidden": true
   },
   "outputs": [],
   "source": []
  },
  {
   "cell_type": "markdown",
   "metadata": {
    "heading_collapsed": true
   },
   "source": [
    "# SacMetro:  95818 -- FUNCTIONS to run "
   ]
  },
  {
   "cell_type": "markdown",
   "metadata": {
    "hidden": true
   },
   "source": [
    "## Create ts dataframe for *single* geographic area"
   ]
  },
  {
   "cell_type": "markdown",
   "metadata": {
    "hidden": true
   },
   "source": [
    "## SacMetro:  95818 (Sacramento)"
   ]
  },
  {
   "cell_type": "code",
   "execution_count": null,
   "metadata": {
    "hidden": true
   },
   "outputs": [],
   "source": [
    "# print(sorted(metro_state_list))"
   ]
  },
  {
   "cell_type": "code",
   "execution_count": null,
   "metadata": {
    "hidden": true
   },
   "outputs": [],
   "source": [
    "geog_area = '95818'"
   ]
  },
  {
   "cell_type": "markdown",
   "metadata": {
    "hidden": true
   },
   "source": [
    "### Create dataframe containing values for just this geographic unit"
   ]
  },
  {
   "cell_type": "code",
   "execution_count": null,
   "metadata": {
    "hidden": true
   },
   "outputs": [],
   "source": [
    "ts_95818 = df_sac.loc[df_sac['Zip'] == geog_area]  # ts for all of the following functions should have only one zipcode\n",
    "ts_95818.head()\n"
   ]
  },
  {
   "cell_type": "code",
   "execution_count": null,
   "metadata": {
    "hidden": true,
    "scrolled": true
   },
   "outputs": [],
   "source": [
    "# ts.head()\n",
    "\n",
    "ts_95818.head()"
   ]
  },
  {
   "cell_type": "code",
   "execution_count": null,
   "metadata": {
    "hidden": true
   },
   "outputs": [],
   "source": [
    "# ts = ts.value\n",
    "\n",
    "ts_95818_values = ts_95818.value"
   ]
  },
  {
   "cell_type": "code",
   "execution_count": null,
   "metadata": {
    "hidden": true
   },
   "outputs": [],
   "source": [
    "# ts.head()\n",
    "\n",
    "ts_95818_values.head()"
   ]
  },
  {
   "cell_type": "code",
   "execution_count": null,
   "metadata": {
    "hidden": true
   },
   "outputs": [],
   "source": [
    "ts_95818_values.tail()"
   ]
  },
  {
   "cell_type": "markdown",
   "metadata": {
    "hidden": true
   },
   "source": [
    "### Visualizations"
   ]
  },
  {
   "cell_type": "markdown",
   "metadata": {
    "hidden": true
   },
   "source": [
    "#### plot_ts:  Plot zip code(s) of interest over time, with market highs and lows"
   ]
  },
  {
   "cell_type": "code",
   "execution_count": null,
   "metadata": {
    "hidden": true,
    "scrolled": true
   },
   "outputs": [],
   "source": [
    "# fig, ax = plot_ts(df_melt, zipcodes=['95616', '92008', '90035', '90025', '60625', '57701'])  # enter desired zip code(s)\n",
    "\n",
    "fig, ax = plot_ts(df_melt, zipcodes=['95818'], figsize=(12,6))  # enter desired zip code(s)"
   ]
  },
  {
   "cell_type": "code",
   "execution_count": null,
   "metadata": {
    "hidden": true
   },
   "outputs": [],
   "source": [
    "ts_95818"
   ]
  },
  {
   "cell_type": "markdown",
   "metadata": {
    "hidden": true
   },
   "source": [
    "#### Boxplot of zip code"
   ]
  },
  {
   "cell_type": "code",
   "execution_count": null,
   "metadata": {
    "hidden": true
   },
   "outputs": [],
   "source": [
    "# # note--check for SizeRank column and drop if needed\n",
    "\n",
    "# fig = plt.figure(figsize=(18, 30))\n",
    "\n",
    "# for i, zc in enumerate(sac_metro_zips[:48], start=1):\n",
    "#     ax = fig.add_subplot(8,6,i)\n",
    "#     ts = df_sac.loc[df_sac['Zip'] == zc]\n",
    "#     ts.boxplot(column = 'value', ax = ax)\n",
    "#     ax.set_title(f'{zc}')\n",
    "#     fig.tight_layout()\n",
    "\n",
    "ts_95818.boxplot(column = 'value')\n",
    "plt.title('95818');\n",
    "\n"
   ]
  },
  {
   "cell_type": "markdown",
   "metadata": {
    "hidden": true
   },
   "source": [
    "### Plot ACF and PACF for ts dataframe"
   ]
  },
  {
   "cell_type": "code",
   "execution_count": null,
   "metadata": {
    "hidden": true
   },
   "outputs": [],
   "source": [
    "import warnings\n",
    "from statsmodels.tsa.arima_model import ARIMA\n",
    "import statsmodels.api as sm\n",
    "from sklearn.metrics import mean_squared_error\n",
    "from statsmodels.tsa.seasonal import seasonal_decompose\n",
    "from  statsmodels.graphics.tsaplots import plot_acf,plot_pacf\n",
    "from pandas.plotting import autocorrelation_plot,lag_plot\n"
   ]
  },
  {
   "cell_type": "code",
   "execution_count": null,
   "metadata": {
    "hidden": true,
    "scrolled": false
   },
   "outputs": [],
   "source": [
    "# plot_acf_pacf(ts, figsize=(10,6), lags=15)  # note that ts must only contain values and time as index\n",
    "\n",
    "plot_acf_pacf(ts_95818_values, figsize=(10,6), lags=15)"
   ]
  },
  {
   "cell_type": "markdown",
   "metadata": {
    "hidden": true
   },
   "source": [
    "### Plot seasonal decomposition for ts dataframe"
   ]
  },
  {
   "cell_type": "code",
   "execution_count": null,
   "metadata": {
    "hidden": true,
    "scrolled": false
   },
   "outputs": [],
   "source": [
    "# plot_seasonal_decomp(ts)\n",
    "\n",
    "plot_seasonal_decomp(ts_95818_values)\n",
    "\n",
    "# Seasonality does not appear to be a significant factor in this zip code."
   ]
  },
  {
   "cell_type": "markdown",
   "metadata": {
    "hidden": true
   },
   "source": [
    "## ARIMA model parameters and optimization"
   ]
  },
  {
   "cell_type": "markdown",
   "metadata": {
    "hidden": true
   },
   "source": [
    "### Generate list of (p,d,q) and (p,d,q,m) values"
   ]
  },
  {
   "cell_type": "code",
   "execution_count": null,
   "metadata": {
    "hidden": true,
    "scrolled": true
   },
   "outputs": [],
   "source": [
    "params = make_pdq_pdqm(p_range=(0,10), d_range=(0,3), q_range=(0,4), make_seasonal=True,\n",
    "                  m_values=(0,12))\n",
    "print(params['pdq'])"
   ]
  },
  {
   "cell_type": "markdown",
   "metadata": {
    "hidden": true
   },
   "source": [
    "### Run ARIMA model on ts dataframe with list of p,d,q values "
   ]
  },
  {
   "cell_type": "code",
   "execution_count": null,
   "metadata": {
    "hidden": true
   },
   "outputs": [],
   "source": [
    "p_values = [0, 1, 2, 4, 6, 8]\n",
    "d_values = range(0, 3)\n",
    "q_values = range(0, 3)\n",
    "warnings.filterwarnings(\"ignore\")"
   ]
  },
  {
   "cell_type": "code",
   "execution_count": null,
   "metadata": {
    "hidden": true
   },
   "outputs": [],
   "source": [
    "# eval_arima_models(ts, p_values, d_values, q_values)  # don't run this until you have some time, since it take time\n",
    "# note that ts must only contain values and time as index\n",
    "\n",
    "eval_arima_models(ts_95818_values, p_values, d_values, q_values)  # don't run this until you have some time, since it takes time\n"
   ]
  },
  {
   "cell_type": "markdown",
   "metadata": {
    "hidden": true
   },
   "source": [
    "### Generate model fit summary"
   ]
  },
  {
   "cell_type": "code",
   "execution_count": null,
   "metadata": {
    "hidden": true,
    "scrolled": true
   },
   "outputs": [],
   "source": [
    "# model_fit = arima_zipcode(ts, order = None)   # change order = tuple to correspond to the best MSE produced by previous function\n",
    "\n",
    "# Best ARIMA(6, 2, 2) MSE=2089095.204\n",
    "\n",
    "model_fit_95818 = arima_zipcode(ts_95818_values, order = (6,2,2))\n"
   ]
  },
  {
   "cell_type": "markdown",
   "metadata": {
    "hidden": true
   },
   "source": [
    "## ARIMA modeling results:  predictions and visualization"
   ]
  },
  {
   "cell_type": "markdown",
   "metadata": {
    "hidden": true
   },
   "source": [
    "### Produce forecasts from ARIMA model fit"
   ]
  },
  {
   "cell_type": "code",
   "execution_count": null,
   "metadata": {
    "hidden": true
   },
   "outputs": [],
   "source": [
    "def forecast(model_fit, months=24, confint=2):\n",
    "    forecast = model_fit.forecast(months)\n",
    "    actual_forecast = forecast[0]\n",
    "    std_error = forecast[1]\n",
    "    forecast_confint = forecast[confint]\n",
    "    return actual_forecast, std_error, forecast_confint  \n",
    "\n",
    "# actual_forecast, forecast_confint = forecast(model_fit, months=24, confint=2)\n",
    "\n",
    "actual_forecast, std_error, forecast_confint = forecast(model_fit_95818)\n",
    "\n",
    "# actual_forecast, forecast_confint = forecast(model_fit_dallas, months=24, confint=2)"
   ]
  },
  {
   "cell_type": "code",
   "execution_count": null,
   "metadata": {
    "hidden": true
   },
   "outputs": [],
   "source": [
    "actual_forecast, std_error, forecast_confint"
   ]
  },
  {
   "cell_type": "markdown",
   "metadata": {
    "hidden": true
   },
   "source": [
    "### Create dataframe to hold forecast results"
   ]
  },
  {
   "cell_type": "code",
   "execution_count": null,
   "metadata": {
    "hidden": true
   },
   "outputs": [],
   "source": [
    "# df_forecast = forecast_df(col = 'time', daterange = pd.date_range(start='2018-05-01', end='2020-04-01', freq='MS'), \n",
    "#                 actual_forecast=actual_forecast, forecast_confint = forecast_confint)\n",
    "\n",
    "df_forecast = forecast_df(col = 'time', daterange = pd.date_range(start='2018-05-01', end='2020-04-01', freq='MS'), \n",
    "                actual_forecast=actual_forecast, forecast_confint = forecast_confint)"
   ]
  },
  {
   "cell_type": "markdown",
   "metadata": {
    "hidden": true
   },
   "source": [
    "### Create new dataframe concatenating historic values and forecast results"
   ]
  },
  {
   "cell_type": "code",
   "execution_count": null,
   "metadata": {
    "hidden": true
   },
   "outputs": [],
   "source": [
    "# df_new = concat_values_forecast(ts, df_forecast)\n",
    "\n",
    "df_new = concat_values_forecast(ts_95818_values, df_forecast)"
   ]
  },
  {
   "cell_type": "code",
   "execution_count": null,
   "metadata": {
    "hidden": true
   },
   "outputs": [],
   "source": [
    "df_new"
   ]
  },
  {
   "cell_type": "markdown",
   "metadata": {
    "hidden": true
   },
   "source": [
    "### Calculate predicted, lower bound, and upper bound forecasted prices"
   ]
  },
  {
   "cell_type": "code",
   "execution_count": null,
   "metadata": {
    "hidden": true
   },
   "outputs": [],
   "source": [
    "def forecast_values(df=df_new, date = '2020-04-01'):\n",
    "    forecasted_price = df.loc[date, 'forecast']\n",
    "    forecasted_lower = df.loc[date, 'forecast_lower']\n",
    "    forecasted_upper = df.loc[date,  'forecast_upper']    \n",
    "    return forecasted_price, forecasted_lower, forecasted_upper\n",
    "\n",
    "\n",
    "forecasted_price, forecasted_lower, forecasted_upper = forecast_values(df_new)"
   ]
  },
  {
   "cell_type": "code",
   "execution_count": null,
   "metadata": {
    "hidden": true
   },
   "outputs": [],
   "source": [
    "forecasted_price, forecasted_lower, forecasted_upper  # predicted, best-case, and worst-case prices in 2020"
   ]
  },
  {
   "cell_type": "code",
   "execution_count": null,
   "metadata": {
    "hidden": true
   },
   "outputs": [],
   "source": [
    "last_value = df_new['value'].loc['2018-04-01']"
   ]
  },
  {
   "cell_type": "code",
   "execution_count": null,
   "metadata": {
    "hidden": true
   },
   "outputs": [],
   "source": [
    "last_value"
   ]
  },
  {
   "cell_type": "markdown",
   "metadata": {
    "hidden": true
   },
   "source": [
    "### Plot forecast with confidence intervals"
   ]
  },
  {
   "cell_type": "code",
   "execution_count": null,
   "metadata": {
    "hidden": true
   },
   "outputs": [],
   "source": [
    "# plot_forecast(df = df_new, figsize=(12,8), geog=None)\n",
    "\n",
    "plot_forecast(df = df_new, figsize=(12,8), geog='95818')"
   ]
  },
  {
   "cell_type": "markdown",
   "metadata": {
    "hidden": true
   },
   "source": [
    "### Print summary of predicted, worst-case, and best-case scenarios"
   ]
  },
  {
   "cell_type": "code",
   "execution_count": null,
   "metadata": {
    "hidden": true,
    "scrolled": true
   },
   "outputs": [],
   "source": [
    "# def pred_best_worst(pred, low, high, last, date='April 1, 2020'):\n",
    "#     pred_pct_change = (((pred - last) / last) * 100)\n",
    "#     print(f'By the model prediction, I would expect to see a {round(pred_pct_change, 3)}% change in price by April 1, 2020')\n",
    "#     lower_pct_change = ((low - last) / last) * 100\n",
    "#     print(f'At the lower bound of the confidence interval, I would expect to see a {round(lower_pct_change, 3)}% change in price by April 1, 2020')\n",
    "#     upper_pct_change = ((high - last) / last) * 100\n",
    "#     print(f'At the upper bound of the confidence interval, I would expect to see a {round(upper_pct_change, 3)}% change in price by April 1, 2020')\n",
    "        \n",
    "\n",
    "pred_best_worst(pred=forecasted_price, low=forecasted_lower, high=forecasted_upper, last=last_value, date='April 1, 2020')"
   ]
  },
  {
   "cell_type": "markdown",
   "metadata": {
    "hidden": true
   },
   "source": [
    "## Zip code 95818:  Do not invest--negative predicted return\n",
    "\n",
    "By the model prediction, I would expect to see a -0.978% change in price by April 1, 2020\n",
    "At the lower bound of the confidence interval, I would expect to see a -25.772% change in price by April 1, 2020\n",
    "At the upper bound of the confidence interval, I would expect to see a 23.816% change in price by April 1, 2020\n"
   ]
  },
  {
   "cell_type": "code",
   "execution_count": null,
   "metadata": {
    "hidden": true
   },
   "outputs": [],
   "source": []
  },
  {
   "cell_type": "markdown",
   "metadata": {},
   "source": [
    "# SacMetro:  95630 -- FUNCTIONS to run "
   ]
  },
  {
   "cell_type": "markdown",
   "metadata": {},
   "source": [
    "## Create ts dataframe for *single* geographic area"
   ]
  },
  {
   "cell_type": "markdown",
   "metadata": {},
   "source": [
    "## SacMetro:  95630 (Folsom)"
   ]
  },
  {
   "cell_type": "code",
   "execution_count": null,
   "metadata": {},
   "outputs": [],
   "source": [
    "# print(sorted(metro_state_list))"
   ]
  },
  {
   "cell_type": "code",
   "execution_count": null,
   "metadata": {},
   "outputs": [],
   "source": [
    "geog_area = '95630'"
   ]
  },
  {
   "cell_type": "markdown",
   "metadata": {},
   "source": [
    "### Create dataframe containing values for just this geographic unit"
   ]
  },
  {
   "cell_type": "code",
   "execution_count": null,
   "metadata": {},
   "outputs": [],
   "source": [
    "ts_95630 = df_sac.loc[df_sac['Zip'] == geog_area]  # ts for all of the following functions should have only one zipcode\n",
    "ts_95630.head()\n"
   ]
  },
  {
   "cell_type": "code",
   "execution_count": null,
   "metadata": {
    "scrolled": true
   },
   "outputs": [],
   "source": [
    "# ts.head()\n",
    "\n",
    "ts_95630.head()"
   ]
  },
  {
   "cell_type": "code",
   "execution_count": null,
   "metadata": {},
   "outputs": [],
   "source": [
    "# ts = ts.value\n",
    "\n",
    "ts_95630_values = ts_95630.value"
   ]
  },
  {
   "cell_type": "code",
   "execution_count": null,
   "metadata": {},
   "outputs": [],
   "source": [
    "# ts.head()\n",
    "\n",
    "ts_95630_values.head()"
   ]
  },
  {
   "cell_type": "code",
   "execution_count": null,
   "metadata": {},
   "outputs": [],
   "source": [
    "ts_95630_values.tail()"
   ]
  },
  {
   "cell_type": "markdown",
   "metadata": {},
   "source": [
    "### Visualizations"
   ]
  },
  {
   "cell_type": "markdown",
   "metadata": {},
   "source": [
    "#### plot_ts:  Plot zip code(s) of interest over time, with market highs and lows"
   ]
  },
  {
   "cell_type": "code",
   "execution_count": null,
   "metadata": {
    "scrolled": true
   },
   "outputs": [],
   "source": [
    "# fig, ax = plot_ts(df_melt, zipcodes=['95616', '92008', '90035', '90025', '60625', '57701'])  # enter desired zip code(s)\n",
    "\n",
    "fig, ax = plot_ts(df_melt, zipcodes=['95630'], figsize=(12,6))  # enter desired zip code(s)"
   ]
  },
  {
   "cell_type": "code",
   "execution_count": null,
   "metadata": {},
   "outputs": [],
   "source": [
    "ts_95630"
   ]
  },
  {
   "cell_type": "markdown",
   "metadata": {},
   "source": [
    "#### Boxplot of zip code"
   ]
  },
  {
   "cell_type": "code",
   "execution_count": null,
   "metadata": {},
   "outputs": [],
   "source": [
    "# # note--check for SizeRank column and drop if needed\n",
    "\n",
    "# fig = plt.figure(figsize=(18, 30))\n",
    "\n",
    "# for i, zc in enumerate(sac_metro_zips[:48], start=1):\n",
    "#     ax = fig.add_subplot(8,6,i)\n",
    "#     ts = df_sac.loc[df_sac['Zip'] == zc]\n",
    "#     ts.boxplot(column = 'value', ax = ax)\n",
    "#     ax.set_title(f'{zc}')\n",
    "#     fig.tight_layout()\n",
    "\n",
    "ts_95630.boxplot(column = 'value')\n",
    "plt.title('95630');\n",
    "\n"
   ]
  },
  {
   "cell_type": "markdown",
   "metadata": {},
   "source": [
    "### Plot ACF and PACF for ts dataframe"
   ]
  },
  {
   "cell_type": "code",
   "execution_count": null,
   "metadata": {},
   "outputs": [],
   "source": [
    "import warnings\n",
    "from statsmodels.tsa.arima_model import ARIMA\n",
    "import statsmodels.api as sm\n",
    "from sklearn.metrics import mean_squared_error\n",
    "from statsmodels.tsa.seasonal import seasonal_decompose\n",
    "from  statsmodels.graphics.tsaplots import plot_acf,plot_pacf\n",
    "from pandas.plotting import autocorrelation_plot,lag_plot\n"
   ]
  },
  {
   "cell_type": "code",
   "execution_count": null,
   "metadata": {
    "scrolled": false
   },
   "outputs": [],
   "source": [
    "# plot_acf_pacf(ts, figsize=(10,6), lags=15)  # note that ts must only contain values and time as index\n",
    "\n",
    "plot_acf_pacf(ts_95630_values, figsize=(10,6), lags=15)"
   ]
  },
  {
   "cell_type": "markdown",
   "metadata": {},
   "source": [
    "### Plot seasonal decomposition for ts dataframe"
   ]
  },
  {
   "cell_type": "code",
   "execution_count": null,
   "metadata": {
    "scrolled": false
   },
   "outputs": [],
   "source": [
    "# plot_seasonal_decomp(ts)\n",
    "\n",
    "plot_seasonal_decomp(ts_95630_values)\n",
    "\n",
    "# Seasonality does not appear to be a significant factor in this zip code."
   ]
  },
  {
   "cell_type": "markdown",
   "metadata": {},
   "source": [
    "## ARIMA model parameters and optimization"
   ]
  },
  {
   "cell_type": "markdown",
   "metadata": {},
   "source": [
    "### Generate list of (p,d,q) and (p,d,q,m) values"
   ]
  },
  {
   "cell_type": "code",
   "execution_count": null,
   "metadata": {
    "scrolled": true
   },
   "outputs": [],
   "source": [
    "params = make_pdq_pdqm(p_range=(0,10), d_range=(0,3), q_range=(0,4), make_seasonal=True,\n",
    "                  m_values=(0,12))\n",
    "print(params['pdq'])"
   ]
  },
  {
   "cell_type": "markdown",
   "metadata": {},
   "source": [
    "### Run ARIMA model on ts dataframe with list of p,d,q values "
   ]
  },
  {
   "cell_type": "code",
   "execution_count": null,
   "metadata": {},
   "outputs": [],
   "source": [
    "p_values = [0, 1, 2, 4, 6, 8]\n",
    "d_values = range(0, 3)\n",
    "q_values = range(0, 3)\n",
    "warnings.filterwarnings(\"ignore\")"
   ]
  },
  {
   "cell_type": "code",
   "execution_count": null,
   "metadata": {},
   "outputs": [],
   "source": [
    "# eval_arima_models(ts, p_values, d_values, q_values)  # don't run this until you have some time, since it take time\n",
    "# note that ts must only contain values and time as index\n",
    "\n",
    "eval_arima_models(ts_95630_values, p_values, d_values, q_values)  # don't run this until you have some time, since it takes time\n"
   ]
  },
  {
   "cell_type": "markdown",
   "metadata": {},
   "source": [
    "### Generate model fit summary"
   ]
  },
  {
   "cell_type": "code",
   "execution_count": null,
   "metadata": {
    "scrolled": true
   },
   "outputs": [],
   "source": [
    "# model_fit = arima_zipcode(ts, order = None)   # change order = tuple to correspond to the best MSE produced by previous function\n",
    "\n",
    "# Best ARIMA(2, 2, 0) MSE=1373937.757\n",
    "\n",
    "model_fit_95630 = arima_zipcode(ts_95630_values, order = (2,2,0))\n"
   ]
  },
  {
   "cell_type": "markdown",
   "metadata": {},
   "source": [
    "## ARIMA modeling results:  predictions and visualization"
   ]
  },
  {
   "cell_type": "markdown",
   "metadata": {},
   "source": [
    "### Produce forecasts from ARIMA model fit"
   ]
  },
  {
   "cell_type": "code",
   "execution_count": null,
   "metadata": {},
   "outputs": [],
   "source": [
    "def forecast(model_fit, months=24, confint=2):\n",
    "    forecast = model_fit.forecast(months)\n",
    "    actual_forecast = forecast[0]\n",
    "    std_error = forecast[1]\n",
    "    forecast_confint = forecast[confint]\n",
    "    return actual_forecast, std_error, forecast_confint  \n",
    "\n",
    "# actual_forecast, forecast_confint = forecast(model_fit, months=24, confint=2)\n",
    "\n",
    "actual_forecast, std_error, forecast_confint = forecast(model_fit_95630)\n",
    "\n",
    "# actual_forecast, forecast_confint = forecast(model_fit_dallas, months=24, confint=2)"
   ]
  },
  {
   "cell_type": "code",
   "execution_count": null,
   "metadata": {},
   "outputs": [],
   "source": [
    "actual_forecast, std_error, forecast_confint"
   ]
  },
  {
   "cell_type": "markdown",
   "metadata": {},
   "source": [
    "### Create dataframe to hold forecast results"
   ]
  },
  {
   "cell_type": "code",
   "execution_count": null,
   "metadata": {},
   "outputs": [],
   "source": [
    "# df_forecast = forecast_df(col = 'time', daterange = pd.date_range(start='2018-05-01', end='2020-04-01', freq='MS'), \n",
    "#                 actual_forecast=actual_forecast, forecast_confint = forecast_confint)\n",
    "\n",
    "df_forecast = forecast_df(col = 'time', daterange = pd.date_range(start='2018-05-01', end='2020-04-01', freq='MS'), \n",
    "                actual_forecast=actual_forecast, forecast_confint = forecast_confint)"
   ]
  },
  {
   "cell_type": "markdown",
   "metadata": {},
   "source": [
    "### Create new dataframe concatenating historic values and forecast results"
   ]
  },
  {
   "cell_type": "code",
   "execution_count": null,
   "metadata": {},
   "outputs": [],
   "source": [
    "# df_new = concat_values_forecast(ts, df_forecast)\n",
    "\n",
    "df_new = concat_values_forecast(ts_95630_values, df_forecast)"
   ]
  },
  {
   "cell_type": "code",
   "execution_count": null,
   "metadata": {},
   "outputs": [],
   "source": [
    "df_new"
   ]
  },
  {
   "cell_type": "markdown",
   "metadata": {},
   "source": [
    "### Calculate predicted, lower bound, and upper bound forecasted prices"
   ]
  },
  {
   "cell_type": "code",
   "execution_count": null,
   "metadata": {},
   "outputs": [],
   "source": [
    "def forecast_values(df=df_new, date = '2020-04-01'):\n",
    "    forecasted_price = df.loc[date, 'forecast']\n",
    "    forecasted_lower = df.loc[date, 'forecast_lower']\n",
    "    forecasted_upper = df.loc[date,  'forecast_upper']    \n",
    "    return forecasted_price, forecasted_lower, forecasted_upper\n",
    "\n",
    "\n",
    "forecasted_price, forecasted_lower, forecasted_upper = forecast_values(df_new)"
   ]
  },
  {
   "cell_type": "code",
   "execution_count": null,
   "metadata": {},
   "outputs": [],
   "source": [
    "forecasted_price, forecasted_lower, forecasted_upper  # predicted, best-case, and worst-case prices in 2020"
   ]
  },
  {
   "cell_type": "code",
   "execution_count": null,
   "metadata": {},
   "outputs": [],
   "source": [
    "last_value = df_new['value'].loc['2018-04-01']"
   ]
  },
  {
   "cell_type": "code",
   "execution_count": null,
   "metadata": {},
   "outputs": [],
   "source": [
    "last_value"
   ]
  },
  {
   "cell_type": "markdown",
   "metadata": {},
   "source": [
    "### Plot forecast with confidence intervals"
   ]
  },
  {
   "cell_type": "code",
   "execution_count": null,
   "metadata": {},
   "outputs": [],
   "source": [
    "# plot_forecast(df = df_new, figsize=(12,8), geog=None)\n",
    "\n",
    "plot_forecast(df = df_new, figsize=(12,8), geog='95630')"
   ]
  },
  {
   "cell_type": "markdown",
   "metadata": {},
   "source": [
    "### Print summary of predicted, worst-case, and best-case scenarios"
   ]
  },
  {
   "cell_type": "code",
   "execution_count": null,
   "metadata": {
    "scrolled": true
   },
   "outputs": [],
   "source": [
    "# def pred_best_worst(pred, low, high, last, date='April 1, 2020'):\n",
    "#     pred_pct_change = (((pred - last) / last) * 100)\n",
    "#     print(f'By the model prediction, I would expect to see a {round(pred_pct_change, 3)}% change in price by April 1, 2020')\n",
    "#     lower_pct_change = ((low - last) / last) * 100\n",
    "#     print(f'At the lower bound of the confidence interval, I would expect to see a {round(lower_pct_change, 3)}% change in price by April 1, 2020')\n",
    "#     upper_pct_change = ((high - last) / last) * 100\n",
    "#     print(f'At the upper bound of the confidence interval, I would expect to see a {round(upper_pct_change, 3)}% change in price by April 1, 2020')\n",
    "        \n",
    "\n",
    "pred_best_worst(pred=forecasted_price, low=forecasted_lower, high=forecasted_upper, last=last_value, date='April 1, 2020')"
   ]
  },
  {
   "cell_type": "markdown",
   "metadata": {},
   "source": [
    "## Zip code 95630:  Mediocre earning potential, significant downside risk (but equally possible upside risk)\n",
    "\n",
    "By the model prediction, I would expect to see a 0.538% change in price by April 1, 2020\n",
    "At the lower bound of the confidence interval, I would expect to see a -21.171% change in price by April 1, 2020\n",
    "At the upper bound of the confidence interval, I would expect to see a 22.247% change in price by April 1, 2020\n"
   ]
  },
  {
   "cell_type": "markdown",
   "metadata": {},
   "source": [
    "# SacMetro:  96140 -- FUNCTIONS to run "
   ]
  },
  {
   "cell_type": "markdown",
   "metadata": {},
   "source": [
    "## Create ts dataframe for *single* geographic area"
   ]
  },
  {
   "cell_type": "markdown",
   "metadata": {},
   "source": [
    "## SacMetro:  96140 (Carnelian Bay)"
   ]
  },
  {
   "cell_type": "code",
   "execution_count": null,
   "metadata": {},
   "outputs": [],
   "source": [
    "# print(sorted(metro_state_list))"
   ]
  },
  {
   "cell_type": "code",
   "execution_count": null,
   "metadata": {},
   "outputs": [],
   "source": [
    "geog_area = '96140'"
   ]
  },
  {
   "cell_type": "markdown",
   "metadata": {},
   "source": [
    "### Create dataframe containing values for just this geographic unit"
   ]
  },
  {
   "cell_type": "code",
   "execution_count": null,
   "metadata": {},
   "outputs": [],
   "source": [
    "ts_96140 = df_sac.loc[df_sac['Zip'] == geog_area]  # ts for all of the following functions should have only one zipcode\n",
    "ts_96140.head()\n"
   ]
  },
  {
   "cell_type": "code",
   "execution_count": null,
   "metadata": {
    "scrolled": true
   },
   "outputs": [],
   "source": [
    "# ts.head()\n",
    "\n",
    "ts_96140.head()"
   ]
  },
  {
   "cell_type": "code",
   "execution_count": null,
   "metadata": {},
   "outputs": [],
   "source": [
    "# ts = ts.value\n",
    "\n",
    "ts_96140_values = ts_96140.value"
   ]
  },
  {
   "cell_type": "code",
   "execution_count": null,
   "metadata": {},
   "outputs": [],
   "source": [
    "# ts.head()\n",
    "\n",
    "ts_96140_values.head()"
   ]
  },
  {
   "cell_type": "code",
   "execution_count": null,
   "metadata": {},
   "outputs": [],
   "source": [
    "ts_96140_values.tail()"
   ]
  },
  {
   "cell_type": "markdown",
   "metadata": {},
   "source": [
    "### Visualizations"
   ]
  },
  {
   "cell_type": "markdown",
   "metadata": {},
   "source": [
    "#### plot_ts:  Plot zip code(s) of interest over time, with market highs and lows"
   ]
  },
  {
   "cell_type": "code",
   "execution_count": null,
   "metadata": {
    "scrolled": true
   },
   "outputs": [],
   "source": [
    "# fig, ax = plot_ts(df_melt, zipcodes=['95616', '92008', '90035', '90025', '60625', '57701'])  # enter desired zip code(s)\n",
    "\n",
    "fig, ax = plot_ts(df_melt, zipcodes=['96140'], figsize=(12,6))  # enter desired zip code(s)"
   ]
  },
  {
   "cell_type": "code",
   "execution_count": null,
   "metadata": {},
   "outputs": [],
   "source": [
    "ts_96140"
   ]
  },
  {
   "cell_type": "markdown",
   "metadata": {},
   "source": [
    "#### Boxplot of zip code"
   ]
  },
  {
   "cell_type": "code",
   "execution_count": null,
   "metadata": {},
   "outputs": [],
   "source": [
    "# # note--check for SizeRank column and drop if needed\n",
    "\n",
    "# fig = plt.figure(figsize=(18, 30))\n",
    "\n",
    "# for i, zc in enumerate(sac_metro_zips[:48], start=1):\n",
    "#     ax = fig.add_subplot(8,6,i)\n",
    "#     ts = df_sac.loc[df_sac['Zip'] == zc]\n",
    "#     ts.boxplot(column = 'value', ax = ax)\n",
    "#     ax.set_title(f'{zc}')\n",
    "#     fig.tight_layout()\n",
    "\n",
    "ts_96140.boxplot(column = 'value')\n",
    "plt.title('96140:  Carnelian Bay');\n",
    "\n"
   ]
  },
  {
   "cell_type": "markdown",
   "metadata": {},
   "source": [
    "### Plot ACF and PACF for ts dataframe"
   ]
  },
  {
   "cell_type": "code",
   "execution_count": null,
   "metadata": {},
   "outputs": [],
   "source": [
    "import warnings\n",
    "from statsmodels.tsa.arima_model import ARIMA\n",
    "import statsmodels.api as sm\n",
    "from sklearn.metrics import mean_squared_error\n",
    "from statsmodels.tsa.seasonal import seasonal_decompose\n",
    "from  statsmodels.graphics.tsaplots import plot_acf,plot_pacf\n",
    "from pandas.plotting import autocorrelation_plot,lag_plot\n"
   ]
  },
  {
   "cell_type": "code",
   "execution_count": null,
   "metadata": {
    "scrolled": false
   },
   "outputs": [],
   "source": [
    "# plot_acf_pacf(ts, figsize=(10,6), lags=15)  # note that ts must only contain values and time as index\n",
    "\n",
    "plot_acf_pacf(ts_96140_values, figsize=(10,6), lags=15)"
   ]
  },
  {
   "cell_type": "markdown",
   "metadata": {},
   "source": [
    "### Plot seasonal decomposition for ts dataframe"
   ]
  },
  {
   "cell_type": "code",
   "execution_count": null,
   "metadata": {
    "scrolled": false
   },
   "outputs": [],
   "source": [
    "# plot_seasonal_decomp(ts)\n",
    "\n",
    "plot_seasonal_decomp(ts_96140_values)\n",
    "\n",
    "# Seasonality does not appear to be a significant factor in this zip code."
   ]
  },
  {
   "cell_type": "markdown",
   "metadata": {},
   "source": [
    "## ARIMA model parameters and optimization"
   ]
  },
  {
   "cell_type": "markdown",
   "metadata": {},
   "source": [
    "### Generate list of (p,d,q) and (p,d,q,m) values"
   ]
  },
  {
   "cell_type": "code",
   "execution_count": null,
   "metadata": {
    "scrolled": true
   },
   "outputs": [],
   "source": [
    "params = make_pdq_pdqm(p_range=(0,10), d_range=(0,3), q_range=(0,4), make_seasonal=True,\n",
    "                  m_values=(0,12))\n",
    "print(params['pdq'])"
   ]
  },
  {
   "cell_type": "markdown",
   "metadata": {},
   "source": [
    "### Run ARIMA model on ts dataframe with list of p,d,q values "
   ]
  },
  {
   "cell_type": "code",
   "execution_count": null,
   "metadata": {},
   "outputs": [],
   "source": [
    "p_values = [0, 1, 2, 4, 6, 8]\n",
    "d_values = range(0, 3)\n",
    "q_values = range(0, 3)\n",
    "warnings.filterwarnings(\"ignore\")"
   ]
  },
  {
   "cell_type": "code",
   "execution_count": null,
   "metadata": {},
   "outputs": [],
   "source": [
    "# eval_arima_models(ts, p_values, d_values, q_values)  # don't run this until you have some time, since it take time\n",
    "# note that ts must only contain values and time as index\n",
    "\n",
    "eval_arima_models(ts_96140_values, p_values, d_values, q_values)  # don't run this until you have some time, since it takes time\n"
   ]
  },
  {
   "cell_type": "markdown",
   "metadata": {},
   "source": [
    "### Generate model fit summary"
   ]
  },
  {
   "cell_type": "code",
   "execution_count": null,
   "metadata": {
    "scrolled": true
   },
   "outputs": [],
   "source": [
    "# model_fit = arima_zipcode(ts, order = None)   # change order = tuple to correspond to the best MSE produced by previous function\n",
    "\n",
    "# Best ARIMA(4, 2, 1) MSE=3386317.647\n",
    "\n",
    "model_fit_96140 = arima_zipcode(ts_96140_values, order = (2,2,0))\n"
   ]
  },
  {
   "cell_type": "markdown",
   "metadata": {},
   "source": [
    "## ARIMA modeling results:  predictions and visualization"
   ]
  },
  {
   "cell_type": "markdown",
   "metadata": {},
   "source": [
    "### Produce forecasts from ARIMA model fit"
   ]
  },
  {
   "cell_type": "code",
   "execution_count": null,
   "metadata": {},
   "outputs": [],
   "source": [
    "def forecast(model_fit, months=24, confint=2):\n",
    "    forecast = model_fit.forecast(months)\n",
    "    actual_forecast = forecast[0]\n",
    "    std_error = forecast[1]\n",
    "    forecast_confint = forecast[confint]\n",
    "    return actual_forecast, std_error, forecast_confint  \n",
    "\n",
    "# actual_forecast, forecast_confint = forecast(model_fit, months=24, confint=2)\n",
    "\n",
    "actual_forecast, std_error, forecast_confint = forecast(model_fit_96140)\n",
    "\n",
    "# actual_forecast, forecast_confint = forecast(model_fit_dallas, months=24, confint=2)"
   ]
  },
  {
   "cell_type": "code",
   "execution_count": null,
   "metadata": {},
   "outputs": [],
   "source": [
    "actual_forecast, std_error, forecast_confint"
   ]
  },
  {
   "cell_type": "markdown",
   "metadata": {},
   "source": [
    "### Create dataframe to hold forecast results"
   ]
  },
  {
   "cell_type": "code",
   "execution_count": null,
   "metadata": {},
   "outputs": [],
   "source": [
    "# df_forecast = forecast_df(col = 'time', daterange = pd.date_range(start='2018-05-01', end='2020-04-01', freq='MS'), \n",
    "#                 actual_forecast=actual_forecast, forecast_confint = forecast_confint)\n",
    "\n",
    "df_forecast = forecast_df(col = 'time', daterange = pd.date_range(start='2018-05-01', end='2020-04-01', freq='MS'), \n",
    "                actual_forecast=actual_forecast, forecast_confint = forecast_confint)"
   ]
  },
  {
   "cell_type": "markdown",
   "metadata": {},
   "source": [
    "### Create new dataframe concatenating historic values and forecast results"
   ]
  },
  {
   "cell_type": "code",
   "execution_count": null,
   "metadata": {},
   "outputs": [],
   "source": [
    "# df_new = concat_values_forecast(ts, df_forecast)\n",
    "\n",
    "df_new = concat_values_forecast(ts_96140_values, df_forecast)"
   ]
  },
  {
   "cell_type": "code",
   "execution_count": null,
   "metadata": {},
   "outputs": [],
   "source": [
    "df_new"
   ]
  },
  {
   "cell_type": "markdown",
   "metadata": {},
   "source": [
    "### Calculate predicted, lower bound, and upper bound forecasted prices"
   ]
  },
  {
   "cell_type": "code",
   "execution_count": null,
   "metadata": {},
   "outputs": [],
   "source": [
    "def forecast_values(df=df_new, date = '2020-04-01'):\n",
    "    forecasted_price = df.loc[date, 'forecast']\n",
    "    forecasted_lower = df.loc[date, 'forecast_lower']\n",
    "    forecasted_upper = df.loc[date,  'forecast_upper']    \n",
    "    return forecasted_price, forecasted_lower, forecasted_upper\n",
    "\n",
    "\n",
    "forecasted_price, forecasted_lower, forecasted_upper = forecast_values(df_new)"
   ]
  },
  {
   "cell_type": "code",
   "execution_count": null,
   "metadata": {},
   "outputs": [],
   "source": [
    "forecasted_price, forecasted_lower, forecasted_upper  # predicted, best-case, and worst-case prices in 2020"
   ]
  },
  {
   "cell_type": "code",
   "execution_count": null,
   "metadata": {},
   "outputs": [],
   "source": [
    "last_value = df_new['value'].loc['2018-04-01']"
   ]
  },
  {
   "cell_type": "code",
   "execution_count": null,
   "metadata": {},
   "outputs": [],
   "source": [
    "last_value"
   ]
  },
  {
   "cell_type": "markdown",
   "metadata": {},
   "source": [
    "### Plot forecast with confidence intervals"
   ]
  },
  {
   "cell_type": "code",
   "execution_count": null,
   "metadata": {},
   "outputs": [],
   "source": [
    "# plot_forecast(df = df_new, figsize=(12,8), geog=None)\n",
    "\n",
    "plot_forecast(df = df_new, figsize=(12,8), geog='96140:  Carnelian Bay')"
   ]
  },
  {
   "cell_type": "markdown",
   "metadata": {},
   "source": [
    "### Print summary of predicted, worst-case, and best-case scenarios"
   ]
  },
  {
   "cell_type": "code",
   "execution_count": null,
   "metadata": {
    "scrolled": true
   },
   "outputs": [],
   "source": [
    "# def pred_best_worst(pred, low, high, last, date='April 1, 2020'):\n",
    "#     pred_pct_change = (((pred - last) / last) * 100)\n",
    "#     print(f'By the model prediction, I would expect to see a {round(pred_pct_change, 3)}% change in price by April 1, 2020')\n",
    "#     lower_pct_change = ((low - last) / last) * 100\n",
    "#     print(f'At the lower bound of the confidence interval, I would expect to see a {round(lower_pct_change, 3)}% change in price by April 1, 2020')\n",
    "#     upper_pct_change = ((high - last) / last) * 100\n",
    "#     print(f'At the upper bound of the confidence interval, I would expect to see a {round(upper_pct_change, 3)}% change in price by April 1, 2020')\n",
    "        \n",
    "\n",
    "pred_best_worst(pred=forecasted_price, low=forecasted_lower, high=forecasted_upper, last=last_value, date='April 1, 2020')"
   ]
  },
  {
   "cell_type": "markdown",
   "metadata": {},
   "source": [
    "## Zip code 96140\n",
    "\n",
    "By the model prediction, I would expect to see a 16.548% change in price by April 1, 2020\n",
    "At the lower bound of the confidence interval, I would expect to see a -33.909% change in price by April 1, 2020\n",
    "At the upper bound of the confidence interval, I would expect to see a 67.005% change in price by April 1, 2020\n"
   ]
  },
  {
   "cell_type": "markdown",
   "metadata": {},
   "source": [
    "# SacMetro:  95672 -- FUNCTIONS to run "
   ]
  },
  {
   "cell_type": "markdown",
   "metadata": {},
   "source": [
    "## Create ts dataframe for *single* geographic area"
   ]
  },
  {
   "cell_type": "markdown",
   "metadata": {},
   "source": [
    "## SacMetro:  95672 (Rescue)"
   ]
  },
  {
   "cell_type": "code",
   "execution_count": null,
   "metadata": {},
   "outputs": [],
   "source": [
    "# print(sorted(metro_state_list))"
   ]
  },
  {
   "cell_type": "code",
   "execution_count": null,
   "metadata": {},
   "outputs": [],
   "source": [
    "geog_area = '95672'"
   ]
  },
  {
   "cell_type": "markdown",
   "metadata": {},
   "source": [
    "### Create dataframe containing values for just this geographic unit"
   ]
  },
  {
   "cell_type": "code",
   "execution_count": null,
   "metadata": {},
   "outputs": [],
   "source": [
    "ts_95672 = df_sac.loc[df_sac['Zip'] == geog_area]  # ts for all of the following functions should have only one zipcode\n",
    "ts_95672.head()\n"
   ]
  },
  {
   "cell_type": "code",
   "execution_count": null,
   "metadata": {
    "scrolled": true
   },
   "outputs": [],
   "source": [
    "# ts.head()\n",
    "\n",
    "ts_95672.head()"
   ]
  },
  {
   "cell_type": "code",
   "execution_count": null,
   "metadata": {},
   "outputs": [],
   "source": [
    "# ts = ts.value\n",
    "\n",
    "ts_95672_values = ts_95672.value"
   ]
  },
  {
   "cell_type": "code",
   "execution_count": null,
   "metadata": {},
   "outputs": [],
   "source": [
    "# ts.head()\n",
    "\n",
    "ts_95672_values.head()"
   ]
  },
  {
   "cell_type": "code",
   "execution_count": null,
   "metadata": {},
   "outputs": [],
   "source": [
    "ts_95672_values.tail()"
   ]
  },
  {
   "cell_type": "markdown",
   "metadata": {},
   "source": [
    "### Visualizations"
   ]
  },
  {
   "cell_type": "markdown",
   "metadata": {},
   "source": [
    "#### plot_ts:  Plot zip code(s) of interest over time, with market highs and lows"
   ]
  },
  {
   "cell_type": "code",
   "execution_count": null,
   "metadata": {
    "scrolled": false
   },
   "outputs": [],
   "source": [
    "# fig, ax = plot_ts(df_melt, zipcodes=['95616', '92008', '90035', '90025', '60625', '57701'])  # enter desired zip code(s)\n",
    "\n",
    "fig, ax = plot_ts(df_melt, zipcodes=['95672'], figsize=(12,6))  # enter desired zip code(s)"
   ]
  },
  {
   "cell_type": "code",
   "execution_count": null,
   "metadata": {},
   "outputs": [],
   "source": [
    "ts_95672"
   ]
  },
  {
   "cell_type": "markdown",
   "metadata": {},
   "source": [
    "#### Boxplot of zip code"
   ]
  },
  {
   "cell_type": "code",
   "execution_count": null,
   "metadata": {},
   "outputs": [],
   "source": [
    "# # note--check for SizeRank column and drop if needed\n",
    "\n",
    "# fig = plt.figure(figsize=(18, 30))\n",
    "\n",
    "# for i, zc in enumerate(sac_metro_zips[:48], start=1):\n",
    "#     ax = fig.add_subplot(8,6,i)\n",
    "#     ts = df_sac.loc[df_sac['Zip'] == zc]\n",
    "#     ts.boxplot(column = 'value', ax = ax)\n",
    "#     ax.set_title(f'{zc}')\n",
    "#     fig.tight_layout()\n",
    "\n",
    "ts_95672.boxplot(column = 'value')\n",
    "plt.title('95672');\n",
    "\n"
   ]
  },
  {
   "cell_type": "markdown",
   "metadata": {},
   "source": [
    "### Plot ACF and PACF for ts dataframe"
   ]
  },
  {
   "cell_type": "code",
   "execution_count": null,
   "metadata": {},
   "outputs": [],
   "source": [
    "import warnings\n",
    "from statsmodels.tsa.arima_model import ARIMA\n",
    "import statsmodels.api as sm\n",
    "from sklearn.metrics import mean_squared_error\n",
    "from statsmodels.tsa.seasonal import seasonal_decompose\n",
    "from  statsmodels.graphics.tsaplots import plot_acf,plot_pacf\n",
    "from pandas.plotting import autocorrelation_plot,lag_plot\n"
   ]
  },
  {
   "cell_type": "code",
   "execution_count": null,
   "metadata": {
    "scrolled": false
   },
   "outputs": [],
   "source": [
    "# plot_acf_pacf(ts, figsize=(10,6), lags=15)  # note that ts must only contain values and time as index\n",
    "\n",
    "plot_acf_pacf(ts_95672_values, figsize=(10,6), lags=15)"
   ]
  },
  {
   "cell_type": "markdown",
   "metadata": {},
   "source": [
    "### Plot seasonal decomposition for ts dataframe"
   ]
  },
  {
   "cell_type": "code",
   "execution_count": null,
   "metadata": {
    "scrolled": false
   },
   "outputs": [],
   "source": [
    "# plot_seasonal_decomp(ts)\n",
    "\n",
    "plot_seasonal_decomp(ts_95672_values)\n",
    "\n",
    "# Seasonality does not appear to be a significant factor in this zip code."
   ]
  },
  {
   "cell_type": "markdown",
   "metadata": {},
   "source": [
    "## ARIMA model parameters and optimization"
   ]
  },
  {
   "cell_type": "markdown",
   "metadata": {},
   "source": [
    "### Generate list of (p,d,q) and (p,d,q,m) values"
   ]
  },
  {
   "cell_type": "code",
   "execution_count": null,
   "metadata": {
    "scrolled": true
   },
   "outputs": [],
   "source": [
    "params = make_pdq_pdqm(p_range=(0,10), d_range=(0,3), q_range=(0,4), make_seasonal=True,\n",
    "                  m_values=(0,12))\n",
    "print(params['pdq'])"
   ]
  },
  {
   "cell_type": "markdown",
   "metadata": {},
   "source": [
    "### Run ARIMA model on ts dataframe with list of p,d,q values "
   ]
  },
  {
   "cell_type": "code",
   "execution_count": null,
   "metadata": {},
   "outputs": [],
   "source": [
    "p_values = [0, 1, 2, 4, 6, 8]\n",
    "d_values = range(0, 3)\n",
    "q_values = range(0, 3)\n",
    "warnings.filterwarnings(\"ignore\")"
   ]
  },
  {
   "cell_type": "code",
   "execution_count": null,
   "metadata": {},
   "outputs": [],
   "source": [
    "# eval_arima_models(ts, p_values, d_values, q_values)  # don't run this until you have some time, since it take time\n",
    "# note that ts must only contain values and time as index\n",
    "\n",
    "eval_arima_models(ts_95672_values, p_values, d_values, q_values)  # don't run this until you have some time, since it takes time\n"
   ]
  },
  {
   "cell_type": "markdown",
   "metadata": {},
   "source": [
    "### Generate model fit summary"
   ]
  },
  {
   "cell_type": "code",
   "execution_count": null,
   "metadata": {
    "scrolled": true
   },
   "outputs": [],
   "source": [
    "# model_fit = arima_zipcode(ts, order = None)   # change order = tuple to correspond to the best MSE produced by previous function\n",
    "\n",
    "# Best ARIMA(8, 2, 0) MSE=3175806.269\n",
    "\n",
    "model_fit_95672 = arima_zipcode(ts_95672_values, order = (8,2,0))\n"
   ]
  },
  {
   "cell_type": "markdown",
   "metadata": {},
   "source": [
    "## ARIMA modeling results:  predictions and visualization"
   ]
  },
  {
   "cell_type": "markdown",
   "metadata": {},
   "source": [
    "### Produce forecasts from ARIMA model fit"
   ]
  },
  {
   "cell_type": "code",
   "execution_count": null,
   "metadata": {},
   "outputs": [],
   "source": [
    "def forecast(model_fit, months=24, confint=2):\n",
    "    forecast = model_fit.forecast(months)\n",
    "    actual_forecast = forecast[0]\n",
    "    std_error = forecast[1]\n",
    "    forecast_confint = forecast[confint]\n",
    "    return actual_forecast, std_error, forecast_confint  \n",
    "\n",
    "# actual_forecast, forecast_confint = forecast(model_fit, months=24, confint=2)\n",
    "\n",
    "actual_forecast, std_error, forecast_confint = forecast(model_fit_95672)\n",
    "\n",
    "# actual_forecast, forecast_confint = forecast(model_fit_dallas, months=24, confint=2)"
   ]
  },
  {
   "cell_type": "code",
   "execution_count": null,
   "metadata": {},
   "outputs": [],
   "source": [
    "actual_forecast, std_error, forecast_confint"
   ]
  },
  {
   "cell_type": "markdown",
   "metadata": {},
   "source": [
    "### Create dataframe to hold forecast results"
   ]
  },
  {
   "cell_type": "code",
   "execution_count": null,
   "metadata": {},
   "outputs": [],
   "source": [
    "# df_forecast = forecast_df(col = 'time', daterange = pd.date_range(start='2018-05-01', end='2020-04-01', freq='MS'), \n",
    "#                 actual_forecast=actual_forecast, forecast_confint = forecast_confint)\n",
    "\n",
    "df_forecast = forecast_df(col = 'time', daterange = pd.date_range(start='2018-05-01', end='2020-04-01', freq='MS'), \n",
    "                actual_forecast=actual_forecast, forecast_confint = forecast_confint)"
   ]
  },
  {
   "cell_type": "markdown",
   "metadata": {},
   "source": [
    "### Create new dataframe concatenating historic values and forecast results"
   ]
  },
  {
   "cell_type": "code",
   "execution_count": null,
   "metadata": {},
   "outputs": [],
   "source": [
    "# df_new = concat_values_forecast(ts, df_forecast)\n",
    "\n",
    "df_new = concat_values_forecast(ts_95672_values, df_forecast)"
   ]
  },
  {
   "cell_type": "code",
   "execution_count": null,
   "metadata": {},
   "outputs": [],
   "source": [
    "df_new"
   ]
  },
  {
   "cell_type": "markdown",
   "metadata": {},
   "source": [
    "### Calculate predicted, lower bound, and upper bound forecasted prices"
   ]
  },
  {
   "cell_type": "code",
   "execution_count": null,
   "metadata": {},
   "outputs": [],
   "source": [
    "def forecast_values(df=df_new, date = '2020-04-01'):\n",
    "    forecasted_price = df.loc[date, 'forecast']\n",
    "    forecasted_lower = df.loc[date, 'forecast_lower']\n",
    "    forecasted_upper = df.loc[date,  'forecast_upper']    \n",
    "    return forecasted_price, forecasted_lower, forecasted_upper\n",
    "\n",
    "\n",
    "forecasted_price, forecasted_lower, forecasted_upper = forecast_values(df_new)"
   ]
  },
  {
   "cell_type": "code",
   "execution_count": null,
   "metadata": {},
   "outputs": [],
   "source": [
    "forecasted_price, forecasted_lower, forecasted_upper  # predicted, best-case, and worst-case prices in 2020"
   ]
  },
  {
   "cell_type": "code",
   "execution_count": null,
   "metadata": {},
   "outputs": [],
   "source": [
    "last_value = df_new['value'].loc['2018-04-01']"
   ]
  },
  {
   "cell_type": "code",
   "execution_count": null,
   "metadata": {},
   "outputs": [],
   "source": [
    "last_value"
   ]
  },
  {
   "cell_type": "markdown",
   "metadata": {},
   "source": [
    "### Plot forecast with confidence intervals"
   ]
  },
  {
   "cell_type": "code",
   "execution_count": null,
   "metadata": {},
   "outputs": [],
   "source": [
    "# plot_forecast(df = df_new, figsize=(12,8), geog=None)\n",
    "\n",
    "plot_forecast(df = df_new, figsize=(12,8), geog='95672')"
   ]
  },
  {
   "cell_type": "markdown",
   "metadata": {},
   "source": [
    "### Print summary of predicted, worst-case, and best-case scenarios"
   ]
  },
  {
   "cell_type": "code",
   "execution_count": null,
   "metadata": {
    "scrolled": true
   },
   "outputs": [],
   "source": [
    "# def pred_best_worst(pred, low, high, last, date='April 1, 2020'):\n",
    "#     pred_pct_change = (((pred - last) / last) * 100)\n",
    "#     print(f'By the model prediction, I would expect to see a {round(pred_pct_change, 3)}% change in price by April 1, 2020')\n",
    "#     lower_pct_change = ((low - last) / last) * 100\n",
    "#     print(f'At the lower bound of the confidence interval, I would expect to see a {round(lower_pct_change, 3)}% change in price by April 1, 2020')\n",
    "#     upper_pct_change = ((high - last) / last) * 100\n",
    "#     print(f'At the upper bound of the confidence interval, I would expect to see a {round(upper_pct_change, 3)}% change in price by April 1, 2020')\n",
    "        \n",
    "\n",
    "pred_best_worst(pred=forecasted_price, low=forecasted_lower, high=forecasted_upper, last=last_value, date='April 1, 2020')"
   ]
  },
  {
   "cell_type": "markdown",
   "metadata": {},
   "source": [
    "## Zip code 95672\n",
    "\n",
    "By the model prediction, I would expect to see a 32.296% change in price by April 1, 2020\n",
    "At the lower bound of the confidence interval, I would expect to see a -2.975% change in price by April 1, 2020\n",
    "At the upper bound of the confidence interval, I would expect to see a 67.567% change in price by April 1, 2020\n",
    "\n"
   ]
  },
  {
   "cell_type": "code",
   "execution_count": null,
   "metadata": {},
   "outputs": [],
   "source": []
  },
  {
   "cell_type": "markdown",
   "metadata": {},
   "source": [
    "# SacMetro:  95636 -- FUNCTIONS to run "
   ]
  },
  {
   "cell_type": "markdown",
   "metadata": {},
   "source": [
    "## Create ts dataframe for *single* geographic area"
   ]
  },
  {
   "cell_type": "markdown",
   "metadata": {},
   "source": [
    "## SacMetro:  95636 (Somerset)"
   ]
  },
  {
   "cell_type": "code",
   "execution_count": null,
   "metadata": {},
   "outputs": [],
   "source": [
    "# print(sorted(metro_state_list))"
   ]
  },
  {
   "cell_type": "code",
   "execution_count": null,
   "metadata": {},
   "outputs": [],
   "source": [
    "geog_area = '95636'"
   ]
  },
  {
   "cell_type": "markdown",
   "metadata": {},
   "source": [
    "### Create dataframe containing values for just this geographic unit"
   ]
  },
  {
   "cell_type": "code",
   "execution_count": null,
   "metadata": {},
   "outputs": [],
   "source": [
    "ts_95636 = df_sac.loc[df_sac['Zip'] == geog_area]  # ts for all of the following functions should have only one zipcode\n",
    "ts_95636.head()\n"
   ]
  },
  {
   "cell_type": "code",
   "execution_count": null,
   "metadata": {
    "scrolled": true
   },
   "outputs": [],
   "source": [
    "# ts.head()\n",
    "\n",
    "ts_95636.head()"
   ]
  },
  {
   "cell_type": "code",
   "execution_count": null,
   "metadata": {},
   "outputs": [],
   "source": [
    "# ts = ts.value\n",
    "\n",
    "ts_95636_values = ts_95636.value"
   ]
  },
  {
   "cell_type": "code",
   "execution_count": null,
   "metadata": {},
   "outputs": [],
   "source": [
    "# ts.head()\n",
    "\n",
    "ts_95636_values.head()"
   ]
  },
  {
   "cell_type": "code",
   "execution_count": null,
   "metadata": {},
   "outputs": [],
   "source": [
    "ts_95636_values.tail()"
   ]
  },
  {
   "cell_type": "markdown",
   "metadata": {},
   "source": [
    "### Visualizations"
   ]
  },
  {
   "cell_type": "markdown",
   "metadata": {},
   "source": [
    "#### plot_ts:  Plot zip code(s) of interest over time, with market highs and lows"
   ]
  },
  {
   "cell_type": "code",
   "execution_count": null,
   "metadata": {
    "scrolled": true
   },
   "outputs": [],
   "source": [
    "# fig, ax = plot_ts(df_melt, zipcodes=['95616', '92008', '90035', '90025', '60625', '57701'])  # enter desired zip code(s)\n",
    "\n",
    "fig, ax = plot_ts(df_melt, zipcodes=['95636'], figsize=(12,6))  # enter desired zip code(s)"
   ]
  },
  {
   "cell_type": "code",
   "execution_count": null,
   "metadata": {},
   "outputs": [],
   "source": [
    "ts_95636"
   ]
  },
  {
   "cell_type": "markdown",
   "metadata": {},
   "source": [
    "#### Boxplot of zip code"
   ]
  },
  {
   "cell_type": "code",
   "execution_count": null,
   "metadata": {},
   "outputs": [],
   "source": [
    "# # note--check for SizeRank column and drop if needed\n",
    "\n",
    "# fig = plt.figure(figsize=(18, 30))\n",
    "\n",
    "# for i, zc in enumerate(sac_metro_zips[:48], start=1):\n",
    "#     ax = fig.add_subplot(8,6,i)\n",
    "#     ts = df_sac.loc[df_sac['Zip'] == zc]\n",
    "#     ts.boxplot(column = 'value', ax = ax)\n",
    "#     ax.set_title(f'{zc}')\n",
    "#     fig.tight_layout()\n",
    "\n",
    "ts_95636.boxplot(column = 'value')\n",
    "plt.title('95636');\n",
    "\n"
   ]
  },
  {
   "cell_type": "markdown",
   "metadata": {},
   "source": [
    "### Plot ACF and PACF for ts dataframe"
   ]
  },
  {
   "cell_type": "code",
   "execution_count": null,
   "metadata": {},
   "outputs": [],
   "source": [
    "import warnings\n",
    "from statsmodels.tsa.arima_model import ARIMA\n",
    "import statsmodels.api as sm\n",
    "from sklearn.metrics import mean_squared_error\n",
    "from statsmodels.tsa.seasonal import seasonal_decompose\n",
    "from  statsmodels.graphics.tsaplots import plot_acf,plot_pacf\n",
    "from pandas.plotting import autocorrelation_plot,lag_plot\n"
   ]
  },
  {
   "cell_type": "code",
   "execution_count": null,
   "metadata": {
    "scrolled": false
   },
   "outputs": [],
   "source": [
    "# plot_acf_pacf(ts, figsize=(10,6), lags=15)  # note that ts must only contain values and time as index\n",
    "\n",
    "plot_acf_pacf(ts_95636_values, figsize=(10,6), lags=15)"
   ]
  },
  {
   "cell_type": "markdown",
   "metadata": {},
   "source": [
    "### Plot seasonal decomposition for ts dataframe"
   ]
  },
  {
   "cell_type": "code",
   "execution_count": null,
   "metadata": {
    "scrolled": false
   },
   "outputs": [],
   "source": [
    "# plot_seasonal_decomp(ts)\n",
    "\n",
    "plot_seasonal_decomp(ts_95636_values)\n",
    "\n",
    "# Seasonality does not appear to be a significant factor in this zip code."
   ]
  },
  {
   "cell_type": "markdown",
   "metadata": {},
   "source": [
    "## ARIMA model parameters and optimization"
   ]
  },
  {
   "cell_type": "markdown",
   "metadata": {},
   "source": [
    "### Generate list of (p,d,q) and (p,d,q,m) values"
   ]
  },
  {
   "cell_type": "code",
   "execution_count": null,
   "metadata": {
    "scrolled": true
   },
   "outputs": [],
   "source": [
    "params = make_pdq_pdqm(p_range=(0,10), d_range=(0,3), q_range=(0,4), make_seasonal=True,\n",
    "                  m_values=(0,12))\n",
    "print(params['pdq'])"
   ]
  },
  {
   "cell_type": "markdown",
   "metadata": {},
   "source": [
    "### Run ARIMA model on ts dataframe with list of p,d,q values "
   ]
  },
  {
   "cell_type": "code",
   "execution_count": null,
   "metadata": {},
   "outputs": [],
   "source": [
    "p_values = [0, 1, 2, 4, 6, 8]\n",
    "d_values = range(0, 3)\n",
    "q_values = range(0, 3)\n",
    "warnings.filterwarnings(\"ignore\")"
   ]
  },
  {
   "cell_type": "code",
   "execution_count": null,
   "metadata": {},
   "outputs": [],
   "source": [
    "# eval_arima_models(ts, p_values, d_values, q_values)  # don't run this until you have some time, since it take time\n",
    "# note that ts must only contain values and time as index\n",
    "\n",
    "eval_arima_models(ts_95636_values, p_values, d_values, q_values)  # don't run this until you have some time, since it takes time\n"
   ]
  },
  {
   "cell_type": "markdown",
   "metadata": {},
   "source": [
    "### Generate model fit summary"
   ]
  },
  {
   "cell_type": "code",
   "execution_count": null,
   "metadata": {
    "scrolled": true
   },
   "outputs": [],
   "source": [
    "# model_fit = arima_zipcode(ts, order = None)   # change order = tuple to correspond to the best MSE produced by previous function\n",
    "\n",
    "# Best ARIMA(8, 2, 1) MSE=1389280.792\n",
    "\n",
    "model_fit_95636 = arima_zipcode(ts_95636_values, order = (8,2,1))\n"
   ]
  },
  {
   "cell_type": "markdown",
   "metadata": {},
   "source": [
    "## ARIMA modeling results:  predictions and visualization"
   ]
  },
  {
   "cell_type": "markdown",
   "metadata": {},
   "source": [
    "### Produce forecasts from ARIMA model fit"
   ]
  },
  {
   "cell_type": "code",
   "execution_count": null,
   "metadata": {},
   "outputs": [],
   "source": [
    "def forecast(model_fit, months=24, confint=2):\n",
    "    forecast = model_fit.forecast(months)\n",
    "    actual_forecast = forecast[0]\n",
    "    std_error = forecast[1]\n",
    "    forecast_confint = forecast[confint]\n",
    "    return actual_forecast, std_error, forecast_confint  \n",
    "\n",
    "# actual_forecast, forecast_confint = forecast(model_fit, months=24, confint=2)\n",
    "\n",
    "actual_forecast, std_error, forecast_confint = forecast(model_fit_95636)\n",
    "\n",
    "# actual_forecast, forecast_confint = forecast(model_fit_dallas, months=24, confint=2)"
   ]
  },
  {
   "cell_type": "code",
   "execution_count": null,
   "metadata": {},
   "outputs": [],
   "source": [
    "actual_forecast, std_error, forecast_confint"
   ]
  },
  {
   "cell_type": "markdown",
   "metadata": {},
   "source": [
    "### Create dataframe to hold forecast results"
   ]
  },
  {
   "cell_type": "code",
   "execution_count": null,
   "metadata": {},
   "outputs": [],
   "source": [
    "# df_forecast = forecast_df(col = 'time', daterange = pd.date_range(start='2018-05-01', end='2020-04-01', freq='MS'), \n",
    "#                 actual_forecast=actual_forecast, forecast_confint = forecast_confint)\n",
    "\n",
    "df_forecast = forecast_df(col = 'time', daterange = pd.date_range(start='2018-05-01', end='2020-04-01', freq='MS'), \n",
    "                actual_forecast=actual_forecast, forecast_confint = forecast_confint)"
   ]
  },
  {
   "cell_type": "markdown",
   "metadata": {},
   "source": [
    "### Create new dataframe concatenating historic values and forecast results"
   ]
  },
  {
   "cell_type": "code",
   "execution_count": null,
   "metadata": {},
   "outputs": [],
   "source": [
    "# df_new = concat_values_forecast(ts, df_forecast)\n",
    "\n",
    "df_new = concat_values_forecast(ts_95636_values, df_forecast)"
   ]
  },
  {
   "cell_type": "code",
   "execution_count": null,
   "metadata": {},
   "outputs": [],
   "source": [
    "df_new"
   ]
  },
  {
   "cell_type": "markdown",
   "metadata": {},
   "source": [
    "### Calculate predicted, lower bound, and upper bound forecasted prices"
   ]
  },
  {
   "cell_type": "code",
   "execution_count": null,
   "metadata": {},
   "outputs": [],
   "source": [
    "def forecast_values(df=df_new, date = '2020-04-01'):\n",
    "    forecasted_price = df.loc[date, 'forecast']\n",
    "    forecasted_lower = df.loc[date, 'forecast_lower']\n",
    "    forecasted_upper = df.loc[date,  'forecast_upper']    \n",
    "    return forecasted_price, forecasted_lower, forecasted_upper\n",
    "\n",
    "\n",
    "forecasted_price, forecasted_lower, forecasted_upper = forecast_values(df_new)"
   ]
  },
  {
   "cell_type": "code",
   "execution_count": null,
   "metadata": {},
   "outputs": [],
   "source": [
    "forecasted_price, forecasted_lower, forecasted_upper  # predicted, best-case, and worst-case prices in 2020"
   ]
  },
  {
   "cell_type": "code",
   "execution_count": null,
   "metadata": {},
   "outputs": [],
   "source": [
    "last_value = df_new['value'].loc['2018-04-01']"
   ]
  },
  {
   "cell_type": "code",
   "execution_count": null,
   "metadata": {},
   "outputs": [],
   "source": [
    "last_value"
   ]
  },
  {
   "cell_type": "markdown",
   "metadata": {},
   "source": [
    "### Plot forecast with confidence intervals"
   ]
  },
  {
   "cell_type": "code",
   "execution_count": null,
   "metadata": {
    "scrolled": false
   },
   "outputs": [],
   "source": [
    "# plot_forecast(df = df_new, figsize=(12,8), geog=None)\n",
    "\n",
    "plot_forecast(df = df_new, figsize=(12,8), geog='95636')"
   ]
  },
  {
   "cell_type": "markdown",
   "metadata": {},
   "source": [
    "### Print summary of predicted, worst-case, and best-case scenarios"
   ]
  },
  {
   "cell_type": "code",
   "execution_count": null,
   "metadata": {
    "scrolled": true
   },
   "outputs": [],
   "source": [
    "# def pred_best_worst(pred, low, high, last, date='April 1, 2020'):\n",
    "#     pred_pct_change = (((pred - last) / last) * 100)\n",
    "#     print(f'By the model prediction, I would expect to see a {round(pred_pct_change, 3)}% change in price by April 1, 2020')\n",
    "#     lower_pct_change = ((low - last) / last) * 100\n",
    "#     print(f'At the lower bound of the confidence interval, I would expect to see a {round(lower_pct_change, 3)}% change in price by April 1, 2020')\n",
    "#     upper_pct_change = ((high - last) / last) * 100\n",
    "#     print(f'At the upper bound of the confidence interval, I would expect to see a {round(upper_pct_change, 3)}% change in price by April 1, 2020')\n",
    "        \n",
    "\n",
    "pred_best_worst(pred=forecasted_price, low=forecasted_lower, high=forecasted_upper, last=last_value, date='April 1, 2020')"
   ]
  },
  {
   "cell_type": "markdown",
   "metadata": {},
   "source": [
    "## Zip code 95636:  Good return predicted, very large potential upside, large potential downside\n",
    "\n",
    "By the model prediction, I would expect to see a 11.207% change in price by April 1, 2020\n",
    "At the lower bound of the confidence interval, I would expect to see a -38.231% change in price by April 1, 2020\n",
    "At the upper bound of the confidence interval, I would expect to see a 60.646% change in price by April 1, 2020\n",
    "\n",
    "\n"
   ]
  },
  {
   "cell_type": "code",
   "execution_count": null,
   "metadata": {},
   "outputs": [],
   "source": []
  },
  {
   "cell_type": "code",
   "execution_count": null,
   "metadata": {},
   "outputs": [],
   "source": []
  },
  {
   "cell_type": "code",
   "execution_count": null,
   "metadata": {},
   "outputs": [],
   "source": []
  },
  {
   "cell_type": "code",
   "execution_count": null,
   "metadata": {},
   "outputs": [],
   "source": []
  },
  {
   "cell_type": "code",
   "execution_count": null,
   "metadata": {},
   "outputs": [],
   "source": []
  },
  {
   "cell_type": "code",
   "execution_count": null,
   "metadata": {},
   "outputs": [],
   "source": []
  },
  {
   "cell_type": "code",
   "execution_count": null,
   "metadata": {},
   "outputs": [],
   "source": []
  },
  {
   "cell_type": "markdown",
   "metadata": {},
   "source": [
    "# Ancillary Functions"
   ]
  },
  {
   "cell_type": "code",
   "execution_count": null,
   "metadata": {},
   "outputs": [],
   "source": [
    "# Here's the code for graphing over the dictionary\n",
    "\n",
    "# for key in sorted(dict_zips_cities.keys()):\n",
    "#     fig, ax = plt.subplots(figsize=(8, 4))\n",
    "#     plt.title(f\"{key}\")\n",
    "#     for val in dict_zips_cities[key]:\n",
    "#         df_sac[df_sac['Zip'] == val].plot(ax = ax)\n",
    "#         ax.legend(dict_zips_cities[key], ncol=3)"
   ]
  },
  {
   "cell_type": "code",
   "execution_count": null,
   "metadata": {},
   "outputs": [],
   "source": []
  },
  {
   "cell_type": "code",
   "execution_count": null,
   "metadata": {},
   "outputs": [],
   "source": []
  }
 ],
 "metadata": {
  "celltoolbar": "Raw Cell Format",
  "kernelspec": {
   "display_name": "Python [conda env:learn-env] *",
   "language": "python",
   "name": "conda-env-learn-env-py"
  },
  "language_info": {
   "codemirror_mode": {
    "name": "ipython",
    "version": 3
   },
   "file_extension": ".py",
   "mimetype": "text/x-python",
   "name": "python",
   "nbconvert_exporter": "python",
   "pygments_lexer": "ipython3",
   "version": "3.6.9"
  },
  "toc": {
   "base_numbering": 1,
   "nav_menu": {},
   "number_sections": false,
   "sideBar": true,
   "skip_h1_title": false,
   "title_cell": "Table of Contents",
   "title_sidebar": "Contents",
   "toc_cell": true,
   "toc_position": {
    "height": "540px",
    "left": "30px",
    "top": "150.05px",
    "width": "277.467px"
   },
   "toc_section_display": true,
   "toc_window_display": true
  }
 },
 "nbformat": 4,
 "nbformat_minor": 2
}

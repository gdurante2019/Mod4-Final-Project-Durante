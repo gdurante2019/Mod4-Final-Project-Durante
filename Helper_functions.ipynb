{
 "cells": [
  {
   "cell_type": "markdown",
   "metadata": {},
   "source": [
    "# Helper functions:  Mod4 project"
   ]
  },
  {
   "cell_type": "markdown",
   "metadata": {},
   "source": [
    "Be sure to import the required libraries"
   ]
  },
  {
   "cell_type": "code",
   "execution_count": 1,
   "metadata": {},
   "outputs": [],
   "source": [
    "import numpy as np\n",
    "import pandas as pd\n",
    "import matplotlib \n",
    "import matplotlib.pyplot as plt\n",
    "import matplotlib as mpl\n",
    "%matplotlib inline\n",
    "import seaborn as sn\n",
    "from collections import OrderedDict\n",
    "from collections import defaultdict"
   ]
  },
  {
   "cell_type": "markdown",
   "metadata": {},
   "source": [
    "### Get datetimes"
   ]
  },
  {
   "cell_type": "code",
   "execution_count": 2,
   "metadata": {},
   "outputs": [],
   "source": [
    "def get_datetimes(df):\n",
    "    return pd.to_datetime(df.columns.values[7:], format='%Y-%m', errors = 'raise')"
   ]
  },
  {
   "cell_type": "markdown",
   "metadata": {},
   "source": [
    "### Melt dataframe"
   ]
  },
  {
   "cell_type": "code",
   "execution_count": 3,
   "metadata": {},
   "outputs": [],
   "source": [
    "def melt_data(df):\n",
    "    melted = pd.melt(df, id_vars=['RegionID', 'Zip', 'City', 'State', 'Metro', 'CountyName', 'SizeRank'], var_name='time')\n",
    "    melted['time'] = pd.to_datetime(melted['time'], infer_datetime_format=False)\n",
    "    melted = melted.dropna(subset=['value'])\n",
    "    return melted "
   ]
  },
  {
   "cell_type": "markdown",
   "metadata": {},
   "source": [
    "### Function for creating a dataframe based on particular geographic unit (e.g., MetroState area, City, CountyName)"
   ]
  },
  {
   "cell_type": "code",
   "execution_count": 4,
   "metadata": {},
   "outputs": [],
   "source": [
    "# need to set df equal to dataframe with appropriate geographic grouping\n",
    "\n",
    "def df_geog(df, col, geog):\n",
    "    \n",
    "    '''  From Helper_functions python file.\n",
    "    Creates subset dataframe containing just the geographic unit \n",
    "    (e.g., 'MetroState' == 'Sacramento CA', 'City' == 'Davis', etc.) of interest.  \n",
    "    It is necessary to set df equal to a dataframe with the appropriate geographic grouping: \n",
    "    e.g., to plot values by city in a metro area, df = df_metro_cities, col = 'MetroState',\n",
    "    geog = 'Sacramento CA' (or metro area of interest). \n",
    "    '''\n",
    "    df_metro_cities_geog = df.loc[df[col] == geog]\n",
    "    return df_metro_cities_geog"
   ]
  },
  {
   "cell_type": "markdown",
   "metadata": {},
   "source": [
    "### Function to print first n number of items in a dictionary\n"
   ]
  },
  {
   "cell_type": "code",
   "execution_count": 5,
   "metadata": {},
   "outputs": [],
   "source": [
    "def print_first_n(dictionary, n):\n",
    "    return {k: dictionary[k] for k in list(dictionary)[:n]}"
   ]
  },
  {
   "cell_type": "markdown",
   "metadata": {},
   "source": [
    "### dict_cities_one_metro:  Function to create dictionary of *cities* in one *metro area*"
   ]
  },
  {
   "cell_type": "code",
   "execution_count": 6,
   "metadata": {},
   "outputs": [],
   "source": [
    "def dict_cities_one_metro(dict_metro_cities, metarea):\n",
    "    dict_cities_one_metro = {metarea: dict_metro_cities[metarea]}\n",
    "    return dict_cities_one_metro"
   ]
  },
  {
   "cell_type": "markdown",
   "metadata": {},
   "source": [
    "### city_metro_list function creating *dataframe* AND *list* of cities in a metro area, *sorted from largest to smallest*"
   ]
  },
  {
   "cell_type": "code",
   "execution_count": 8,
   "metadata": {},
   "outputs": [],
   "source": [
    "# def city_metro_list(df_metro_cities, dict_sorted_metros_cities, col, metarea):\n",
    "    \n",
    "#     ''' From Helper_functions python file.\n",
    "#     Function creates subset dataframe AND a list of cities in a metro area, sorted from largest to smallest by number of \n",
    "#     zip codes within that city'''\n",
    "    \n",
    "#     # Create subset dataframe containing just MetroState area in question\n",
    "#     df_metro_cities_metarea = df_metro_cities.loc[df_metro_cities[col] == metarea]\n",
    "#     ts = df_metro_cities_metarea\n",
    "    \n",
    "#     # Using dict_sorted_metros_cities, create list of all cities in the MetroState area of interest\n",
    "#     metro_cities_metarea = dict_sorted_metros_cities[metarea]\n",
    "    \n",
    "#     # Create dictionary of cities and zips in metro area\n",
    "#     from collections import defaultdict\n",
    "#     dict_metarea_zips = defaultdict(list)\n",
    "#     for idx,row in df_metro_zips_yr1.loc[df_metro_zips_yr1[col] == metarea].iterrows():\n",
    "#         dict_metarea_zips[row['City']].append(row['Zip'])\n",
    "        \n",
    "#     # create dictionary containing the number of zip codes in each city\n",
    "#     dict_num_metarea_zips = {key: len(dict_metarea_zips[key]) for key in dict_metarea_zips.keys()}\n",
    "    \n",
    "#     # Create Ordered dictionary sorting cities from most zip codes to least\n",
    "#     ordict_metarea_zips_sorted = OrderedDict(sorted(dict_num_metarea_zips.items(), key=lambda item: item[1], reverse=True))\n",
    "    \n",
    "#     # create list of cities that is sorted by size (as determined by number of zip codes)\n",
    "#     metarea_cities_sorted = list(ordict_metarea_zips_sorted.keys())\n",
    "    \n",
    "#     return ts, metarea_cities_sorted"
   ]
  },
  {
   "cell_type": "markdown",
   "metadata": {},
   "source": [
    "### Plotting function:  plot_ts (plots zip codes on one axes in one figure)"
   ]
  },
  {
   "cell_type": "code",
   "execution_count": 30,
   "metadata": {},
   "outputs": [],
   "source": [
    "# # Framework from James Irving's study group for creating a plotting function that allows\n",
    "# # entry of zip codes of interest\n",
    "\n",
    "# def plot_ts(df_melt, col='value', zipcodes=['95616'], figsize=(12,8)):\n",
    "    \n",
    "#     ''' From Helper_functions python file.\n",
    "#     Plots multiple zip code in a single axes/figure.  For each zip code, marks dates of:\n",
    "#     1) maximum value reached during the housing bubble; 2) minimum value after the crash;\n",
    "#     3) absolute minimum across entire time horizon (e.g., 1996 if you go back that far);\n",
    "#     4) absolute minimum across entire time horizon (may or may not be the height of the bubble);\n",
    "#     5) date when the national housing index (Case-Schiller) dropped.  \n",
    "#     '''\n",
    "    \n",
    "#     fig, ax = plt.subplots()\n",
    "    \n",
    "#     for zc in zipcodes:\n",
    "#         ts = df_melt[col].loc[df_melt['Zip'] == zc]\n",
    "#         ts.plot(figsize=figsize, label = str(zc), ax=ax)\n",
    "\n",
    "#     max_ = ts.loc['2004':'2010'].idxmax()  # 625600\n",
    "#     crash = '01-2009'\n",
    "#     min_ = ts.loc[crash:].idxmin()\n",
    "#     max_all = ts.idxmax()\n",
    "#     min_all = ts.idxmin()\n",
    "#     mean_all = ts.mean()\n",
    "\n",
    "#     ax.axvline('2004-01-01', label=f'2004', color = 'black')\n",
    "#     ax.axvline('2011-12-01', label=f'2010', color = 'black')\n",
    "#     ax.axvline(max_, label='Max Price in 2004 - 2010 timeframe', color = 'green', ls=':')\n",
    "#     ax.axvline(crash, label = 'Housing Index Drops', color='black', ls=':')\n",
    "#     ax.axvline(min_, label=f'Min Price Post Crash (2004 - 2010 timeframe) {min_}', color = 'red', ls=':')\n",
    "#     ax.axvline(max_all, label='All time series max', color = 'green', ls=':')\n",
    "#     ax.axvline(mean_all, label = 'All time series mean', color='red', ls=':')\n",
    "#     ax.axvline(min_all, label=f'All time series min: {min_}', color = 'red', ls=':')\n",
    "\n",
    "#     ax.legend()\n",
    "    \n",
    "#     return fig, ax\n",
    "\n"
   ]
  },
  {
   "cell_type": "markdown",
   "metadata": {},
   "source": [
    "### Plotting function:  plot_single_geog (plots a single geographic unit)"
   ]
  },
  {
   "cell_type": "code",
   "execution_count": 31,
   "metadata": {},
   "outputs": [],
   "source": [
    "def plot_single_geog(df, col = 'value', col2 = 'MetroState', metunit = 'Sacramento CA', figsize=(12, 6)):\n",
    "    \n",
    "    ''' From Helper_functions python file.\n",
    "    Plots housing values for individual geographic unit, e.g., MetroState, City, County.  \n",
    "    Be sure to use the appropriate dataframe for the selected grouping (df_metro_cities for \n",
    "    cities in a metro area, for example).  Specify nrows, ncols, and figsize to match size of list.\n",
    "    '''\n",
    "    \n",
    "    ts = df[col].loc[df[col2] == metunit]\n",
    "    ax = ts.plot(figsize=figsize, title = metunit, label = 'Raw Price')\n",
    "\n",
    "    max_ = ts.loc['2004':'2010'].idxmax()  \n",
    "    crash = '01-2009'\n",
    "    min_ = ts.loc[crash:].idxmin()\n",
    "    val_2003 = ts.loc['2003-01-01']\n",
    "\n",
    "    ax.axvline(max_, label='Max Price', color = 'green', ls=':')\n",
    "    ax.axvline(crash, label = 'Housing Index Drops', color='red', ls=':')\n",
    "    ax.axvline(min_, label=f'Min Price Post Crash {min_}', color = 'black')\n",
    "    ax.axhline(val_2003, label='2003-01-01 value', color = 'blue', ls='-.', alpha=0.15)\n",
    "\n",
    "    ax.legend()\n",
    "\n",
    "# plot_ts_metros(df_metro_values, metros, col='value', x = (12, 8), nrows = 1, ncols = 1, legend=True, set_ylim = False, ylim = 1500000)\n",
    "    \n",
    "# plot_ts(df_melt, col='value', zipcodes=['95616'])"
   ]
  },
  {
   "cell_type": "markdown",
   "metadata": {},
   "source": [
    "### Plotting function:  plot_ts_metros (plots values by metro area)"
   ]
  },
  {
   "cell_type": "code",
   "execution_count": 10,
   "metadata": {},
   "outputs": [],
   "source": [
    "# Adapted from James Irving's study group:   \n",
    "    \n",
    "def plot_ts_metros(df, metros, col='value', figsize = (18, 80), nrows = 15, ncols = 2, legend=True, set_ylim = True, ylim = 1500000):\n",
    "\n",
    "    ''' From Helper_functions python file.\n",
    "    Plots housing values by METRO area. Use dataframe that groups housing values at the \n",
    "    METRO (MetroState) level.  Need a list containing *subset* of METRO areas of interest.  \n",
    "    *DON'T* run this for all metro areas; select a *subset* and create the appropriate\n",
    "    list (e.g., top 30 metro areas).  Specify nrows, ncols, and figsize to match size of list.\n",
    "    '''\n",
    "    \n",
    "    fig = plt.figure(figsize=figsize)\n",
    "    \n",
    "    for i, met in enumerate(metros, start=1):\n",
    "        ax = fig.add_subplot(15,2,i)\n",
    "        \n",
    "        ts = df[col].loc[df['MetroState'] == met]\n",
    "        ts.plot(title = str(met), ax=ax)\n",
    "\n",
    "        max_ = ts.loc['2004':'2011'].idxmax()  \n",
    "        crash = '01-2009'\n",
    "        min_ = ts.loc[crash:].idxmin()\n",
    "        val_2003 = ts.loc['2003-01-01']\n",
    "\n",
    "        max_all = ts.idxmax()\n",
    "        min_all = ts.idxmin()\n",
    "\n",
    "        ax.axvline(max_, label=f'Max Price: {max_}', color = 'orange', ls=':')\n",
    "        ax.axvline(crash, label = 'Housing Index Drops', color='black')\n",
    "        ax.axvline(min_, label=f'Min Price Post Crash: {min_}', color = 'red', ls=':')\n",
    "        ax.axvline(max_all, label=f'All time series max {max_all}', color = 'green', ls=':')\n",
    "        ax.axvline(min_all, label=f'All time series min: {min_all}', color = 'red', ls=':')\n",
    "        try:\n",
    "            ax.axhline(val_2003, label='2003-01-01 value', color = 'blue', ls='-.', alpha=0.15)\n",
    "        except:\n",
    "            continue\n",
    "\n",
    "        if set_ylim:\n",
    "            ax.set_ylim(top=1000000)\n",
    "        if legend:\n",
    "            ax.legend()\n",
    "    \n",
    "        fig.tight_layout()\n",
    "    \n",
    "    return fig, ax\n"
   ]
  },
  {
   "cell_type": "markdown",
   "metadata": {},
   "source": [
    "### Plotting function:   plot_ts_cities (plot values by city in a metro area)"
   ]
  },
  {
   "cell_type": "code",
   "execution_count": 11,
   "metadata": {},
   "outputs": [],
   "source": [
    "# Adapted from James Irving's study group:\n",
    "    \n",
    "def plot_ts_cities(df, cities, col='value', figsize = (18, 100), nrows=30, ncols=2, \n",
    "                   legend=True, set_ylim = False, ylim = 1400000):\n",
    "    \n",
    "    ''' From Helper_functions python file.\n",
    "    Plots housing values by city within a metro area.  Need to use dataframe \n",
    "    with values by CITY for just that METRO (specify .loc in arguments that \n",
    "    column 'MetroState' == METRO). Need LIST of CITIES within that METRO area.  \n",
    "    Specify nrows, ncols, and figsize to match size of dataset.\n",
    "    '''\n",
    "    \n",
    "    fig = plt.figure(figsize=figsize)\n",
    "    \n",
    "    for i, city in enumerate(cities, start=1):\n",
    "        ax = fig.add_subplot(nrows, ncols, i)\n",
    "        \n",
    "        ts = df[col].loc[df['City'] == city]\n",
    "        ts.plot(title = str(city), ax=ax)\n",
    "\n",
    "        max_ = ts.loc['2004':'2011'].idxmax()  \n",
    "        crash = '01-2009'\n",
    "        min_ = ts.loc[crash:].idxmin()\n",
    "        val_2003 = ts.loc['2003-01-01']\n",
    "\n",
    "        max_all = ts.idxmax()\n",
    "        min_all = ts.idxmin()\n",
    "\n",
    "        ax.axvline(max_, label=f'Max Price: {max_}', color = 'orange', ls=':')\n",
    "        ax.axvline(crash, label = 'Housing Index Drops', color='black')\n",
    "        ax.axvline(min_, label=f'Min Price Post Crash: {min_}', color = 'red', ls=':')\n",
    "        ax.axvline(max_all, label=f'All time series max {max_all}', color = 'green', ls=':')\n",
    "        ax.axvline(min_all, label=f'All time series min: {min_all}', color = 'red', ls=':')\n",
    "        try:\n",
    "            ax.axhline(val_2003, label='2003-01-01 value', color = 'blue', ls='-.', alpha=0.15)\n",
    "        except:\n",
    "            continue\n",
    "            \n",
    "        if set_ylim:\n",
    "            ax.set_ylim(ylim)\n",
    "        if legend:\n",
    "            ax.legend(loc=\"best\")\n",
    "\n",
    "        fig.tight_layout()\n",
    "    \n",
    "    return fig, ax\n"
   ]
  },
  {
   "cell_type": "markdown",
   "metadata": {},
   "source": [
    "### Plotting function:  plot_ts_metro_cities (plots of each city in each metro area)"
   ]
  },
  {
   "cell_type": "code",
   "execution_count": 12,
   "metadata": {},
   "outputs": [],
   "source": [
    "def plot_ts_metro_cities(df, dict_metro_cities, col='value', figsize = (18, 80), \n",
    "                         nrows=20, ncols=2, legend=False, set_ylim=False, ylim = 1400000):\n",
    "    \n",
    "    ''' From Helper_functions python file.\n",
    "    Plots housing values of each CITY in each METRO area.  Need to use dataframe \n",
    "    grouping values by CITY.  Need DICTIONARY containing *subset* of CITIES by METRO areas \n",
    "    of choice.  *DON'T* run this for all metro areas; select a subset and create the appropriate\n",
    "    dictionary (e.g., top 30 metro areas).  Specify nrows, ncols, and figsize to match size of dataset. \n",
    "    '''\n",
    "    \n",
    "    fig = plt.figure(figsize=figsize)\n",
    "    \n",
    "    for i, key in enumerate(sorted(dict_metro_cities.keys()), start=1):\n",
    "        ax = fig.add_subplot(nrows, ncols, i)\n",
    "        for val in dict_metro_cities[key]:\n",
    "            ts = df[col].loc[df['City'] == val]\n",
    "            try: \n",
    "                max_ = ts.loc['2004':'2011'].idxmax()  \n",
    "            except:\n",
    "                continue\n",
    "\n",
    "        ts.plot(title = f'{key}: {val}', ax=ax)\n",
    "\n",
    "        max_ = ts.loc['2004':'2011'].idxmax()  \n",
    "        crash = '01-2009'\n",
    "        min_ = ts.loc[crash:].idxmin()\n",
    "        val_2003 = ts.loc['2003-01-01']\n",
    "\n",
    "        max_all = ts.idxmax()\n",
    "        min_all = ts.idxmin()\n",
    "\n",
    "        ax.axvline(max_, label=f'Max Price: {max_}', color = 'orange', ls=':')\n",
    "        ax.axvline(crash, label = 'Housing Index Drops', color='black')\n",
    "        ax.axvline(min_, label=f'Min Price Post Crash: {min_}', color = 'red', ls=':')\n",
    "        ax.axvline(max_all, label=f'All time series max {max_all}', color = 'green', ls=':')\n",
    "        ax.axvline(min_all, label=f'All time series min: {min_all}', color = 'red', ls=':')\n",
    "        try:\n",
    "            ax.axhline(val_2003, label='2003-01-01 value', color = 'blue', ls='-.', alpha=0.15)\n",
    "        except:\n",
    "            continue\n",
    "        if set_ylim:\n",
    "            ax.set_ylim(top=ylim)\n",
    "        if legend:\n",
    "            ax.legend()\n",
    "    \n",
    "        fig.tight_layout()\n",
    "    \n",
    "    return fig, ax\n"
   ]
  },
  {
   "cell_type": "markdown",
   "metadata": {},
   "source": [
    "### Plotting function:  plot_ts_zips (plots individual zip codes in a list provided to the function)"
   ]
  },
  {
   "cell_type": "code",
   "execution_count": 15,
   "metadata": {},
   "outputs": [],
   "source": [
    "# Adapted from James Irving's study group:\n",
    "    \n",
    "def plot_ts_zips(df, zipcodes, col='value', figsize = (18, 60), nrows=15, ncols=2, \n",
    "                 legend=True, set_ylim = False, ylim = 800000):\n",
    "    \n",
    "    ''' From Helper_functions python file.\n",
    "    Plots multiple zip codes in a single axes/figure.  For each zip code, marks dates of:\n",
    "    1) maximum value reached during the housing bubble; 2) minimum value after the crash;\n",
    "    3) absolute minimum across entire time horizon (e.g., 1996 if you go back that far);\n",
    "    4) absolute minimum across entire time horizon (may or may not be the height of the bubble);\n",
    "    5) date when the national housing index (Case-Schiller) dropped.  \n",
    "    ''' \n",
    "    \n",
    "    fig = plt.figure(figsize=figsize)\n",
    "    \n",
    "    for i, zc in enumerate(zipcodes, start=1):\n",
    "        ax = fig.add_subplot(nrows, ncols, i)\n",
    "        \n",
    "        ts = df[col].loc[df['Zip'] == zc]\n",
    "        ts.plot(title = zc, ax=ax)\n",
    "        \n",
    "        try: \n",
    "            max_ = ts.loc['2004':'2011'].idxmax()  \n",
    "        except:\n",
    "            continue\n",
    "\n",
    "        crash = '01-2009'\n",
    "        min_ = ts.loc[crash:].idxmin()\n",
    "        val_2003 = ts.loc['2003-01-01']\n",
    "\n",
    "        max_all = ts.idxmax()\n",
    "        min_all = ts.idxmin()\n",
    "\n",
    "        ax.axvline(max_, label=f'Max Price: {max_}', color = 'orange', ls=':')\n",
    "        ax.axvline(crash, label = 'Housing Index Drops', color='black')\n",
    "        ax.axvline(min_, label=f'Min Price Post Crash: {min_}', color = 'red', ls=':')\n",
    "        ax.axvline(max_all, label=f'All time series max {max_all}', color = 'green', ls=':')\n",
    "        ax.axvline(min_all, label=f'All time series min: {min_all}', color = 'red', ls=':')\n",
    "        ax.axhline(val_2003, label='2003-01-01 value', color = 'blue', ls='-.', alpha=0.15)\n",
    "        if set_ylim:\n",
    "            ax.set_ylim(ylim)\n",
    "        if legend:\n",
    "            ax.legend(loc='best')\n",
    "    \n",
    "        fig.tight_layout()\n",
    "    \n",
    "    return fig, ax\n"
   ]
  },
  {
   "cell_type": "markdown",
   "metadata": {},
   "source": [
    "### Plotting function:  plot_ts_zips_by_city (plot of each city with values by zip codes in a metro area)"
   ]
  },
  {
   "cell_type": "code",
   "execution_count": 16,
   "metadata": {
    "scrolled": true
   },
   "outputs": [],
   "source": [
    "# Function below adapted from James Irving's study group:\n",
    "    \n",
    "def plot_ts_zips_by_city(df, dict_zips_cities,  nrows, ncols, col='value', \n",
    "                         figsize = (18, 100), legend=True, set_ylim = False, ylim = 1400000):\n",
    "    \n",
    "    '''  From Helper_functions python file.\n",
    "    Plots zip codes by city within a metro area.  Need to use dataframe with values by \n",
    "    ZIP code and CITY for just that METRO (or specify .loc in arguments that \n",
    "    column 'MetroState' == METRO). Need DICTIONARY of ZIPS by CITY within that METRO area.  \n",
    "    Specify nrows, ncols, and figsize to match size of dataset.\n",
    "    '''\n",
    "    \n",
    "    fig = plt.figure(figsize=figsize)\n",
    "    \n",
    "    for i, key in enumerate(sorted(dict_zips_cities.keys()), start=1):\n",
    "        ax = fig.add_subplot(nrows, ncols, i)\n",
    "        for val in dict_zips_cities[key]:\n",
    "            ts = df[col].loc[df['Zip'] == val]\n",
    "            try: \n",
    "                max_ = ts.loc['2004':'2011'].idxmax()  \n",
    "            except:\n",
    "                continue\n",
    "            \n",
    "            crash = '01-2009'\n",
    "#             min_val = ts.loc[crash:].min()   # purpose of var is to use to graph horizontal line at price at 2003-01-01\n",
    "            min_ = ts.loc[crash:].idxmin()\n",
    "            ts.plot(title = key, ax=ax)\n",
    "#             val_2003 = ts.loc['2003-01-01']  # This is for graphic horizontal line at 2003 value, but can't \n",
    "                                               # get it to work on multiple zip plots \n",
    "            max_all = ts.idxmax()\n",
    "            min_all = ts.idxmin()\n",
    "\n",
    "            ax.axvline(max_, label = val, color = 'orange', ls=':')               \n",
    "            ax.axvline(crash, color='black')                         # no labels\n",
    "            ax.axvline(min_, color = 'red', ls=':')\n",
    "            ax.axvline(max_all, color = 'green', ls=':')  \n",
    "            ax.axvline(min_all, color = 'red', ls=':')  \n",
    "            ax.axvline('2003-01-01', color = 'blue', ls='-.', alpha=0.15)   # for label, insert the following:  label='2003-01-01'\n",
    "            \n",
    "            if set_ylim:\n",
    "                ax.set_ylim(ylim)\n",
    "            if legend:\n",
    "                ax.legend(loc=\"best\")\n",
    "    \n",
    "        fig.tight_layout()\n",
    "    \n",
    "    return fig, ax\n",
    "\n",
    "#  Ignore code below unless labels for each vertical line are desired\n",
    "\n",
    "#  ax.axvline(max_, label=f'Max Price: {max_}', color = 'orange', ls=':')              # contains labels\n",
    "#  ax.axvline(crash, label = 'Housing Index Drops', color='black')                     # contains labels\n",
    "#  ax.axvline(min_, label=f'Min Price Post Crash: {min_}', color = 'red', ls=':')      # contains labels\n",
    "#  ax.axhline(min_val, label=f'Min Price Post Crash: {min_}', color = 'red', ls='-.', alpha=0.15)  # can't get this to work on multiple zip plots \n",
    "#  ax.axvline(max_all, label=f'All time series max {max_all}', color = 'green', ls=':')  # contains labels\n",
    "#  ax.axvline(min_all, label=f'All time series min: {min_all}', color = 'red', ls=':')   # contains labels\n",
    "#  ax.axhline(ts.loc['2003-01-01'], label='2003-01-01 value', color = 'blue', ls='-.', alpha=0.15)  # can't get this to work on multiple zip plots \n",
    "\n"
   ]
  },
  {
   "cell_type": "markdown",
   "metadata": {},
   "source": [
    "### Plotting function:  city_zips_boxplot (boxplots of zip codes in a city)"
   ]
  },
  {
   "cell_type": "code",
   "execution_count": 17,
   "metadata": {},
   "outputs": [],
   "source": [
    "def city_zips_boxplot(df, city_zips, nrows, ncols, figsize=(18, 30)):\n",
    "    \n",
    "    ''' From Helper_functions python file.\n",
    "    Plots boxplots of each zipcode within a city.  Need to use dataframe with values by ZIP \n",
    "    for just that CITY (or specify .loc in arguments that column 'City' == CITY in question).\n",
    "    Need LIST of ZIP codes for that particular CITY.  Need to specify nrows, ncols, and figsize.\n",
    "    '''\n",
    "    \n",
    "    fig = plt.figure(figsize=figsize)\n",
    "    \n",
    "    for i, zc in enumerate(city_zips, start=1):\n",
    "        ax = fig.add_subplot(nrows, ncols, i)\n",
    "        ts = df.loc[df['Zip'] == zc]\n",
    "        ts.boxplot(column = 'value', ax = ax)\n",
    "        ax.set_title(f'{zc}')\n",
    "        fig.tight_layout()\n"
   ]
  },
  {
   "cell_type": "markdown",
   "metadata": {},
   "source": [
    "### Plotting function:  metro_zips_boxplot (boxplots by zip in metro area)"
   ]
  },
  {
   "cell_type": "code",
   "execution_count": 18,
   "metadata": {},
   "outputs": [],
   "source": [
    "def metro_zips_boxplot(df, metro_zips, nrows, ncols, figsize=(18, 100)):\n",
    "    \n",
    "    ''' From Helper_functions python file.\n",
    "    Plots boxplots of each zipcode within a city.  Need to use dataframe with values by ZIP \n",
    "    for just that METRO area (or specify .loc in arguments that column 'MetroState' == METRO).\n",
    "    Need a LIST of ZIP codes within that METRO area.  Need to specify nrows, ncols, and figsize.\n",
    "    '''\n",
    "    \n",
    "    fig = plt.figure(figsize=figsize)\n",
    "    \n",
    "    for i, zc in enumerate(metro_zips, start=1):\n",
    "        ax = fig.add_subplot(nrows, ncols, i)\n",
    "        ts = df.loc[df['Zip'] == zc]\n",
    "        ts.boxplot(column = 'value', ax = ax)\n",
    "        ax.set_title(f'{zc}')\n",
    "        fig.tight_layout()\n"
   ]
  },
  {
   "cell_type": "markdown",
   "metadata": {},
   "source": [
    "### Plotting function:  metro_cities_boxplot (boxplots by city in metro area)"
   ]
  },
  {
   "cell_type": "code",
   "execution_count": 19,
   "metadata": {},
   "outputs": [],
   "source": [
    "def metro_cities_boxplot(df, metro_cities, nrows, ncols, figsize=(18, 30)):\n",
    "    \n",
    "    ''' From Helper_functions python file.\n",
    "    Plots boxplots of each city within a metro area.  Need to use dataframe with values \n",
    "    by CITY for just that METRO (or specify .loc in arguments that column 'MetroState' == METRO.\n",
    "    Need LIST of CITIES within a particular metro area.  Need to specify nrows, ncols, and figsize.\n",
    "    '''\n",
    "    \n",
    "    fig = plt.figure(figsize=figsize)\n",
    "    \n",
    "    for i, city in enumerate(metro_cities, start=1):\n",
    "        ax = fig.add_subplot(nrows, ncols, i)\n",
    "        ts = df.loc[df['City'] == city]\n",
    "        ts.boxplot(column = 'value', ax = ax)\n",
    "        ax.set_title(f'{city}')\n",
    "        fig.tight_layout()\n"
   ]
  },
  {
   "cell_type": "markdown",
   "metadata": {},
   "source": [
    "### Plotting function:  metro_cities_zips_boxplot (boxplots by city and zip code in metro area)"
   ]
  },
  {
   "cell_type": "code",
   "execution_count": 20,
   "metadata": {},
   "outputs": [],
   "source": [
    "def metro_cities_zips_boxplot(df, dict_metro_cities_zips, nrows, ncols, figsize=(18, 40)):\n",
    "    \n",
    "    ''' From Helper_functions python file.\n",
    "    Plots boxplots of all zip codes in each city within a metro area.  Need to use dataframe \n",
    "    with values by ZIP code and CITY for just that METRO (or specify .loc in arguments that \n",
    "    column 'MetroState' == METRO). Need DICTIONARY of ZIPS by CITY within that METRO area.  \n",
    "    Need to specify nrows, ncols, and figsize.\n",
    "    '''\n",
    "    \n",
    "    fig = plt.figure(figsize=figsize)\n",
    "    \n",
    "    for i, (city, zc) in enumerate(dict_metro_cities_zips.copy().items(), start=1):\n",
    "        ax = fig.add_subplot(nrows, ncols, i)\n",
    "        ax.set_title(f'{city}')\n",
    "        for i, zc in enumerate(dict_metro_cities_zips.copy()[city], start=1):\n",
    "            ts = df.loc[df['Zip'] == zc]\n",
    "            ts.boxplot(column = 'value', ax = ax)\n",
    "            ax.set_title(f'{city}')\n",
    "            fig.tight_layout()\n"
   ]
  },
  {
   "cell_type": "markdown",
   "metadata": {},
   "source": [
    "### Creating ACF and PACF plots"
   ]
  },
  {
   "cell_type": "code",
   "execution_count": 21,
   "metadata": {},
   "outputs": [],
   "source": [
    "from statsmodels.tsa.seasonal import seasonal_decompose\n",
    "from statsmodels.graphics.tsaplots import plot_acf, plot_pacf\n",
    "from pandas.plotting import autocorrelation_plot, lag_plot"
   ]
  },
  {
   "cell_type": "code",
   "execution_count": 22,
   "metadata": {
    "scrolled": true
   },
   "outputs": [],
   "source": [
    "def plot_acf_pacf(ts, figsize=(10,6), lags=15):\n",
    "    \n",
    "    ''' From Helper_functions python file.\n",
    "    Plots both ACF and PACF for given times series (ts).  Time series needs to be a Series \n",
    "    (not DataFrame) of values.  Can modify figsize and number of lags if desired.'''\n",
    "    \n",
    "    fig, ax = plt.subplots(nrows=2, figsize=figsize)\n",
    "    plot_acf(ts, ax=ax[0], lags=lags)\n",
    "    plot_pacf(ts, ax=ax[1], lags=lags)\n",
    "    plt.tight_layout()\n",
    "    \n",
    "    for a in ax:\n",
    "        a.xaxis.set_major_locator(mpl.ticker.MaxNLocator(min_n_ticks=lags, integer=True))\n",
    "        a.xaxis.grid()\n",
    "    "
   ]
  },
  {
   "cell_type": "markdown",
   "metadata": {},
   "source": [
    "### Seasonal Decomposition"
   ]
  },
  {
   "cell_type": "code",
   "execution_count": 23,
   "metadata": {},
   "outputs": [],
   "source": [
    "# from James Irving's study group\n",
    "# plot seasonal decomposition\n",
    "\n",
    "def plot_seasonal_decomp(ts):\n",
    "    \n",
    "    '''From Helper_functions python file'''\n",
    "\n",
    "    decomp = seasonal_decompose(ts)\n",
    "    ts_seasonal = decomp.seasonal\n",
    "\n",
    "    ax = ts_seasonal.plot()\n",
    "    fig = ax.get_figure()\n",
    "    fig.set_size_inches(18,6)\n",
    "\n",
    "    min_ = ts_seasonal.idxmin()\n",
    "    max_ = ts_seasonal.idxmax()\n",
    "    max_2 = ts_seasonal.loc[min_:].idxmax()\n",
    "    min_2 = ts_seasonal.loc[max_2:].idxmin()\n",
    "\n",
    "\n",
    "    ax.axvline(min_, label=min_, c='orange')\n",
    "    ax.axvline(max_, c='orange', ls=':')\n",
    "    ax.axvline(min_2, c='orange')\n",
    "    ax.axvline(max_2, c='orange', ls=':')\n",
    "\n",
    "    period = min_2 - min_ \n",
    "    ax.set_title(f'Season Length = {period}')\n",
    "    \n",
    "    return fig, ax\n"
   ]
  },
  {
   "cell_type": "markdown",
   "metadata": {},
   "source": [
    "### Creating p, d, q, and m values for running ARIMA model"
   ]
  },
  {
   "cell_type": "code",
   "execution_count": 24,
   "metadata": {},
   "outputs": [],
   "source": [
    "import itertools\n",
    "\n",
    "p_range = [0, 1, 2, 4, 8, 10]\n",
    "q_range = range(0, 3)\n",
    "d_range = range(1, 3)\n",
    "m_range = (0, 6, 12)\n",
    "\n",
    "pdq = list(itertools.product(p_range, d_range, q_range))\n",
    "PDQM = list(itertools.product(p_range, d_range, q_range, m_range))\n"
   ]
  },
  {
   "cell_type": "code",
   "execution_count": 25,
   "metadata": {
    "scrolled": true
   },
   "outputs": [],
   "source": [
    "def make_pdq_pdqm(p_range=(0,4), d_range=(0,3), q_range=(0,4), make_seasonal=True,\n",
    "                  m_values=(0,12)):\n",
    "\n",
    "    '''From Helper_functions python file'''\n",
    "    \n",
    "    import itertools\n",
    "    p_values =range(p_range[0],p_range[1])\n",
    "    d_values =range(d_range[0],d_range[1])\n",
    "    q_values =range(q_range[0],q_range[1])\n",
    "    \n",
    "    params = {}\n",
    "    params['pdq'] = list(itertools.product(p_values, d_values, q_values))\n",
    "    \n",
    "    if make_seasonal:\n",
    "        params['PDQm'] = list(itertools.product(p_values, d_values, q_values, m_values))\n",
    "    return params\n",
    "\n",
    "# params = make_pdq_pdqm()\n"
   ]
  },
  {
   "cell_type": "markdown",
   "metadata": {},
   "source": [
    "### Setting up functions for running ARIMA models"
   ]
  },
  {
   "cell_type": "code",
   "execution_count": 26,
   "metadata": {},
   "outputs": [],
   "source": [
    "import warnings\n",
    "from statsmodels.tsa.arima_model import ARIMA\n",
    "import statsmodels.api as sm\n",
    "from sklearn.metrics import mean_squared_error\n"
   ]
  },
  {
   "cell_type": "code",
   "execution_count": 48,
   "metadata": {},
   "outputs": [],
   "source": [
    "def arima_predict_error(X, arima_order):\n",
    "    '''From Helper_functions python file'''\n",
    "    train_size = int(len(X) * .85)\n",
    "    train, test = X[0:train_size], X[train_size:]\n",
    "    predictions = list()\n",
    "    history = [x for x in train]\n",
    "    for t in range(len(test)):\n",
    "        model = ARIMA(history, order = arima_order)\n",
    "        model_fit = model.fit(disp=0)\n",
    "        y_hat = model_fit.forecast()[0]\n",
    "        predictions.append(y_hat)\n",
    "        history.append(test[t])\n",
    "    error = mean_squared_error(test, predictions)\n",
    "    return error\n",
    "\n",
    "def eval_arima_models(data, p_values, d_values, q_values):\n",
    "    '''From Helper_functions python file'''\n",
    "    data = data.astype('float32')\n",
    "    best_score, best_cfg = float(\"inf\"), None\n",
    "    for p in p_values:\n",
    "        for d in d_values:\n",
    "            for q in q_values:\n",
    "                order = (p,d,q)\n",
    "                try:\n",
    "                    mse = arima_predict_error(data, order)\n",
    "                    if mse < best_score:\n",
    "                        best_score, best_cfg = mse, order\n",
    "                    print('ARIMA%s MSE=%.3f' % (order,mse))\n",
    "                except:\n",
    "                    continue\n",
    "    print('Best ARIMA%s MSE=%.3f' % (best_cfg, best_score))\n"
   ]
  },
  {
   "cell_type": "code",
   "execution_count": 49,
   "metadata": {},
   "outputs": [],
   "source": [
    "# evaluate parameters\n",
    "p_values = [0, 1, 2, 4, 8, 10]\n",
    "d_values = range(0, 3)\n",
    "q_values = range(0, 3)\n",
    "warnings.filterwarnings(\"ignore\")\n",
    "# eval_arima_models(ts.values, p_values, d_values, q_values)    "
   ]
  },
  {
   "cell_type": "markdown",
   "metadata": {},
   "source": [
    "### Create ARIMA model and show summary results table"
   ]
  },
  {
   "cell_type": "code",
   "execution_count": 50,
   "metadata": {},
   "outputs": [],
   "source": [
    "# Define function\n",
    "\n",
    "def arima_zipcode(ts, order):\n",
    "    '''From Helper_functions python file'''\n",
    "    model = ARIMA(ts.values, order = None)\n",
    "    model_fit = model.fit(disp=0)\n",
    "    print(model_fit.summary())\n",
    "    return model_fit"
   ]
  },
  {
   "cell_type": "markdown",
   "metadata": {},
   "source": [
    "### Create forecast model"
   ]
  },
  {
   "cell_type": "code",
   "execution_count": 51,
   "metadata": {},
   "outputs": [],
   "source": [
    "# def forecast(model_fit, months=24, confint=2):\n",
    "#     forecast = model_fit.forecast(months)\n",
    "#     actual_forecast = forecast[0]\n",
    "#     std_error = forecast[1]\n",
    "#     forecast_confint = forecast[confint]\n",
    "#     return actual_forecast, std_error, forecast_confint   \n",
    "\n",
    "\n",
    "def forecast(model_fit, months=24, confint=2):\n",
    "    '''From Helper_functions python file'''\n",
    "    forecast = model_fit.forecast(months)\n",
    "    actual_forecast = forecast[0]\n",
    "    std_error = forecast[1]\n",
    "    forecast_confint = forecast[confint]\n",
    "    return actual_forecast, std_error, forecast_confint   "
   ]
  },
  {
   "cell_type": "markdown",
   "metadata": {},
   "source": [
    "### Create dataframe to hold these values and join to existing dataframe"
   ]
  },
  {
   "cell_type": "code",
   "execution_count": 52,
   "metadata": {},
   "outputs": [],
   "source": [
    "def forecast_df(actual_forecast, std_error, forecast_confint, col = 'time', daterange = pd.date_range(start='2018-05-01', end='2020-04-01', freq='MS')):\n",
    "    '''From Helper_functions python file'''\n",
    "    df_forecast = pd.DataFrame({col: daterange})\n",
    "    df_forecast['forecast'] = actual_forecast\n",
    "    df_forecast['forecast_lower'] = forecast_confint[:, 0]\n",
    "    df_forecast['forecast_upper'] = forecast_confint[:, 1]\n",
    "    df_forecast.set_index('time', inplace=True)\n",
    "    return df_forecast"
   ]
  },
  {
   "cell_type": "markdown",
   "metadata": {},
   "source": [
    "### Create df_new with historical and forecasted values"
   ]
  },
  {
   "cell_type": "code",
   "execution_count": 53,
   "metadata": {},
   "outputs": [],
   "source": [
    "def concat_values_forecast(ts, df_forecast):\n",
    "    '''From Helper_functions python file'''\n",
    "    df_new = pd.concat([ts, df_forecast])\n",
    "    df_new = df_new.rename(columns = {0: 'value'})\n",
    "    return df_new"
   ]
  },
  {
   "cell_type": "markdown",
   "metadata": {},
   "source": [
    "### Plot forecast results"
   ]
  },
  {
   "cell_type": "code",
   "execution_count": 54,
   "metadata": {},
   "outputs": [],
   "source": [
    "# Define function\n",
    "\n",
    "def plot_forecast(df_new, figsize=(12,8), geog='95616'):\n",
    "    '''From Helper_functions python file'''\n",
    "    fig = plt.figure(figsize=figsize)\n",
    "    plt.plot(df_new['value'], label='Raw Data')\n",
    "    plt.plot(df_new['forecast'], label='Forecast')\n",
    "    plt.fill_between(df_new.index, df_new['forecast_lower'], df_new['forecast_upper'], color='k', alpha = 0.2, \n",
    "                 label='Confidence Interval')\n",
    "    plt.legend(loc = 'upper left')\n",
    "    plt.title(f'Forecast for {geog}')\n"
   ]
  },
  {
   "cell_type": "markdown",
   "metadata": {},
   "source": [
    "### Figure out percent change in home values"
   ]
  },
  {
   "cell_type": "code",
   "execution_count": 55,
   "metadata": {},
   "outputs": [],
   "source": [
    "# Define functions\n",
    "\n",
    "def forecast_values(df_new, date = '2020-04-01'):\n",
    "    '''From Helper_functions python file'''\n",
    "    forecasted_price = df_new.loc[date, 'forecast']\n",
    "    forecasted_lower = df_new.loc[date, 'forecast_lower']\n",
    "    forecasted_upper = df_new.loc[date, 'forecast_upper']    \n",
    "    return forecasted_price, forecasted_lower, forecasted_upper"
   ]
  },
  {
   "cell_type": "code",
   "execution_count": 56,
   "metadata": {},
   "outputs": [],
   "source": [
    "def last_value(df_new, date = '2018-04-01'):\n",
    "    '''From Helper_functions python file'''\n",
    "    last_value = df_new.loc[date, 'value']\n",
    "    return last_value\n"
   ]
  },
  {
   "cell_type": "markdown",
   "metadata": {},
   "source": [
    "### Compute and print predicted, best, and worst case scenarios"
   ]
  },
  {
   "cell_type": "code",
   "execution_count": 1,
   "metadata": {},
   "outputs": [],
   "source": [
    "# Define function\n",
    "\n",
    "def pred_best_worst(pred, low, high, last, date='April 1, 2020'):\n",
    "    '''From Helper_functions python file'''\n",
    "    pred_pct_change = (((pred - last) / last) * 100)\n",
    "    print(f'By the model prediction, I would expect to see a {round(pred_pct_change, 3)}% change in price by April 1, 2020.')\n",
    "    lower_pct_change = ((low - last) / last) * 100\n",
    "    print(f'At the lower bound of the confidence interval, I would expect to see a {round(lower_pct_change, 3)}% change in price by April 1, 2020.')\n",
    "    upper_pct_change = ((high - last) / last) * 100\n",
    "    print(f'At the upper bound of the confidence interval, I would expect to see a {round(upper_pct_change, 3)}% change in price by April 1, 2020.')\n",
    "    return pred_pct_change, lower_pct_change, upper_pct_change\n"
   ]
  },
  {
   "cell_type": "code",
   "execution_count": null,
   "metadata": {},
   "outputs": [],
   "source": []
  }
 ],
 "metadata": {
  "kernelspec": {
   "display_name": "Python [conda env:learn-env] *",
   "language": "python",
   "name": "conda-env-learn-env-py"
  },
  "language_info": {
   "codemirror_mode": {
    "name": "ipython",
    "version": 3
   },
   "file_extension": ".py",
   "mimetype": "text/x-python",
   "name": "python",
   "nbconvert_exporter": "python",
   "pygments_lexer": "ipython3",
   "version": "3.6.9"
  },
  "toc": {
   "base_numbering": 1,
   "nav_menu": {},
   "number_sections": false,
   "sideBar": true,
   "skip_h1_title": false,
   "title_cell": "Table of Contents",
   "title_sidebar": "Contents",
   "toc_cell": false,
   "toc_position": {
    "height": "calc(100% - 180px)",
    "left": "10px",
    "top": "150px",
    "width": "240px"
   },
   "toc_section_display": true,
   "toc_window_display": true
  }
 },
 "nbformat": 4,
 "nbformat_minor": 2
}

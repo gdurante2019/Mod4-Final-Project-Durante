{
 "cells": [
  {
   "cell_type": "markdown",
   "metadata": {},
   "source": [
    "# Mod 4 Project - Gina Durante\n",
    "\n",
    "## Overview\n",
    "\n",
    "The Module 4 Project in the Flatiron School Data Science Version 2 Curriculum is meant to provide students with experience in working with time series data--in this case, monthly housing values from 04/01/1996 to 03/01/2018 for over 14,000 ZIP Codes in the U.S.  Skill sets required to complete this project include dataframe manipulation, data cleaning, data visualization, and time series analysis, and other areas (e.g., using github, Jupyter notebooks for data science projects, and writing and posting a blog).  \n",
    "\n",
    "## Project topic\n",
    "\n",
    "The project asks the student to identify the 5 \"best\" ZIP codes for investment, as defined by the student, and develop support for these recommendations to a hypothetical client (e.g., a real estate investment trust).  The student must develop a methodology for evaluating ZIP codes as potential investment targets and support these findings through a technical Jupyter notebook, a non-technical PowerPoint presentation, and a blog post.  \n",
    "\n",
    "## My focus:  Sacramento metro area\n",
    "\n",
    "Because the investment group is located in Sacramento, and because the Sacramento area has experience steady group over the last few decades (fueled in part by skyrocketing costs in the SF Bay Area, prompting some businesses to launch or relocate to the Sacramento region), I focused most of my efforts on the Sacramento metro area.  Because I have lived here for a number of years, I have some knowledge of the region, which has provided some helpful insights informing the analysis."
   ]
  },
  {
   "cell_type": "markdown",
   "metadata": {},
   "source": [
    "### Sacramento metro area (counties)"
   ]
  },
  {
   "cell_type": "markdown",
   "metadata": {},
   "source": [
    "<center><img src='images/Sac_metro_counties_map.png' height=80% width=80%>"
   ]
  },
  {
   "cell_type": "markdown",
   "metadata": {},
   "source": [
    "### Sacramento metro area (cities)"
   ]
  },
  {
   "cell_type": "markdown",
   "metadata": {},
   "source": [
    "<center><img src='images/Sac_metro_cities_map.png' height=80% width=80%>"
   ]
  },
  {
   "cell_type": "markdown",
   "metadata": {},
   "source": [
    "## Methodology, in brief\n",
    "\n",
    "### Visualization of values by city and/or ZIP code, as well as of predictions of model\n",
    "\n",
    "I developed iterative functions to visualize values by city within a metro area and across zip codes within cities in a metro area, using lists and dictionaries to iterate through the geographic areas of interest.  Using this approach, I identified 19 ZIP codes in the Sacramento region of possible interest.  Time series analysis of these 19 ZIP codes suggested 11 finalist ZIP codes to explore further.  From those, I selected 5 that I thought provided good (potentially great) returns, while limiting downside risk.  \n",
    "\n",
    "### Consideration of predicted values, worst- and best-case scenarios, and other factors in the selection process\n",
    "\n",
    "While the predicted returns over the forecast time horizon were of primary concern, I also took into account the worst-case scenario returns, the best-case scenario returns, the population in the ZIP code, the geographic location of the ZIP code, and personal knowledge of the area to inform my decision-making process.  More information is provided in the \"Decision-making process\" section of the \"Recommended ZIP codes\" section at the end of this notebook.\n",
    "\n",
    "\n",
    "### County representation in finalist and top 5 selected ZIP codes\n",
    "\n",
    "One of those ZIP codes was in El Dorado County, and the other four were in Placer County.  While there may be promising ZIP codes in both Sacramento and Yolo Counties, Sacramento City ZIP codes that I analyzed were not as competitive as those of Placer County.  I only analyzed one ZIP code in Yolo County (95616 in Davis), though others looked similar in terms of their pattern and trends.  It would probably be worthwhile to analyze one of the two ZIP codes in West Sacramento, as West Sac is an area that has been on the upswing for several years.  \n",
    "\n",
    "\n",
    "## Possible future directions\n",
    "\n",
    "Beyond analysis of at least one more ZIP code in the Sacramento area, I've identified several other possible future directions for this work:\n",
    "- While time limitations prevented a broader evaluation of investment opportunities across the country, the functions I developed allow visualizations of broader swaths of the data (e.g., values by metro area, values by city within a metro area, values by zip codes and cities within a metro area).  \n",
    "  - Creating visualizations at various geographic levels was very useful for identifying patterns that could signify promising investment opportunities.  \n",
    "  - From this effort, I identified some geographic areas, such as the Dallas-Fort Worth and the Pittsburg metro areas, that could be worthwhile to explore in future efforts.  \n",
    "- It could be interesting and potentially valuable to do some backtesting on the model to see how well it predicts the last 24 months for which we have data (May 2016 through April 2018).\n",
    "- Analyzing shorter time frames (e.g., 2013-2018)\n",
    "- Scaling investment by population size \n",
    "- Construct a basket of investments (e.g., $10M, weighted by ZIP population?)\n",
    "\n",
    "## A few words on the notebook that follows...\n",
    "\n",
    "The notebook below is what I used for performing my analyses and arriving at results.  Thus, it is technical and includes all code.  It will most likely be revised over time, so individuals interested in this work should check back periodically.  At the very end of this notebook is a table (small dataframe) that summarizes my analyses.  "
   ]
  },
  {
   "cell_type": "markdown",
   "metadata": {},
   "source": [
    "# Step 1: Load the Data/Filtering for Chosen Zipcodes"
   ]
  },
  {
   "cell_type": "code",
   "execution_count": 1,
   "metadata": {},
   "outputs": [],
   "source": [
    "import numpy as np\n",
    "import pandas as pd\n",
    "import matplotlib \n",
    "import matplotlib.pyplot as plt\n",
    "import matplotlib as mpl\n",
    "%matplotlib inline\n",
    "import seaborn as sn"
   ]
  },
  {
   "cell_type": "code",
   "execution_count": 2,
   "metadata": {},
   "outputs": [],
   "source": [
    "pd.set_option(\"display.max_rows\", 200)"
   ]
  },
  {
   "cell_type": "code",
   "execution_count": 3,
   "metadata": {},
   "outputs": [
    {
     "data": {
      "text/plain": [
       "200"
      ]
     },
     "execution_count": 3,
     "metadata": {},
     "output_type": "execute_result"
    }
   ],
   "source": [
    "pd.get_option(\"display.max_rows\")"
   ]
  },
  {
   "cell_type": "code",
   "execution_count": 4,
   "metadata": {},
   "outputs": [],
   "source": [
    "df = pd.read_csv('zillow_data.csv')"
   ]
  },
  {
   "cell_type": "code",
   "execution_count": 5,
   "metadata": {
    "scrolled": false
   },
   "outputs": [
    {
     "data": {
      "text/html": [
       "<div>\n",
       "<style scoped>\n",
       "    .dataframe tbody tr th:only-of-type {\n",
       "        vertical-align: middle;\n",
       "    }\n",
       "\n",
       "    .dataframe tbody tr th {\n",
       "        vertical-align: top;\n",
       "    }\n",
       "\n",
       "    .dataframe thead th {\n",
       "        text-align: right;\n",
       "    }\n",
       "</style>\n",
       "<table border=\"1\" class=\"dataframe\">\n",
       "  <thead>\n",
       "    <tr style=\"text-align: right;\">\n",
       "      <th></th>\n",
       "      <th>RegionID</th>\n",
       "      <th>RegionName</th>\n",
       "      <th>City</th>\n",
       "      <th>State</th>\n",
       "      <th>Metro</th>\n",
       "      <th>CountyName</th>\n",
       "      <th>SizeRank</th>\n",
       "      <th>1996-04</th>\n",
       "      <th>1996-05</th>\n",
       "      <th>1996-06</th>\n",
       "      <th>...</th>\n",
       "      <th>2017-07</th>\n",
       "      <th>2017-08</th>\n",
       "      <th>2017-09</th>\n",
       "      <th>2017-10</th>\n",
       "      <th>2017-11</th>\n",
       "      <th>2017-12</th>\n",
       "      <th>2018-01</th>\n",
       "      <th>2018-02</th>\n",
       "      <th>2018-03</th>\n",
       "      <th>2018-04</th>\n",
       "    </tr>\n",
       "  </thead>\n",
       "  <tbody>\n",
       "    <tr>\n",
       "      <td>0</td>\n",
       "      <td>84654</td>\n",
       "      <td>60657</td>\n",
       "      <td>Chicago</td>\n",
       "      <td>IL</td>\n",
       "      <td>Chicago</td>\n",
       "      <td>Cook</td>\n",
       "      <td>1</td>\n",
       "      <td>334200.0</td>\n",
       "      <td>335400.0</td>\n",
       "      <td>336500.0</td>\n",
       "      <td>...</td>\n",
       "      <td>1005500</td>\n",
       "      <td>1007500</td>\n",
       "      <td>1007800</td>\n",
       "      <td>1009600</td>\n",
       "      <td>1013300</td>\n",
       "      <td>1018700</td>\n",
       "      <td>1024400</td>\n",
       "      <td>1030700</td>\n",
       "      <td>1033800</td>\n",
       "      <td>1030600</td>\n",
       "    </tr>\n",
       "    <tr>\n",
       "      <td>1</td>\n",
       "      <td>90668</td>\n",
       "      <td>75070</td>\n",
       "      <td>McKinney</td>\n",
       "      <td>TX</td>\n",
       "      <td>Dallas-Fort Worth</td>\n",
       "      <td>Collin</td>\n",
       "      <td>2</td>\n",
       "      <td>235700.0</td>\n",
       "      <td>236900.0</td>\n",
       "      <td>236700.0</td>\n",
       "      <td>...</td>\n",
       "      <td>308000</td>\n",
       "      <td>310000</td>\n",
       "      <td>312500</td>\n",
       "      <td>314100</td>\n",
       "      <td>315000</td>\n",
       "      <td>316600</td>\n",
       "      <td>318100</td>\n",
       "      <td>319600</td>\n",
       "      <td>321100</td>\n",
       "      <td>321800</td>\n",
       "    </tr>\n",
       "    <tr>\n",
       "      <td>2</td>\n",
       "      <td>91982</td>\n",
       "      <td>77494</td>\n",
       "      <td>Katy</td>\n",
       "      <td>TX</td>\n",
       "      <td>Houston</td>\n",
       "      <td>Harris</td>\n",
       "      <td>3</td>\n",
       "      <td>210400.0</td>\n",
       "      <td>212200.0</td>\n",
       "      <td>212200.0</td>\n",
       "      <td>...</td>\n",
       "      <td>321000</td>\n",
       "      <td>320600</td>\n",
       "      <td>320200</td>\n",
       "      <td>320400</td>\n",
       "      <td>320800</td>\n",
       "      <td>321200</td>\n",
       "      <td>321200</td>\n",
       "      <td>323000</td>\n",
       "      <td>326900</td>\n",
       "      <td>329900</td>\n",
       "    </tr>\n",
       "    <tr>\n",
       "      <td>3</td>\n",
       "      <td>84616</td>\n",
       "      <td>60614</td>\n",
       "      <td>Chicago</td>\n",
       "      <td>IL</td>\n",
       "      <td>Chicago</td>\n",
       "      <td>Cook</td>\n",
       "      <td>4</td>\n",
       "      <td>498100.0</td>\n",
       "      <td>500900.0</td>\n",
       "      <td>503100.0</td>\n",
       "      <td>...</td>\n",
       "      <td>1289800</td>\n",
       "      <td>1287700</td>\n",
       "      <td>1287400</td>\n",
       "      <td>1291500</td>\n",
       "      <td>1296600</td>\n",
       "      <td>1299000</td>\n",
       "      <td>1302700</td>\n",
       "      <td>1306400</td>\n",
       "      <td>1308500</td>\n",
       "      <td>1307000</td>\n",
       "    </tr>\n",
       "    <tr>\n",
       "      <td>4</td>\n",
       "      <td>93144</td>\n",
       "      <td>79936</td>\n",
       "      <td>El Paso</td>\n",
       "      <td>TX</td>\n",
       "      <td>El Paso</td>\n",
       "      <td>El Paso</td>\n",
       "      <td>5</td>\n",
       "      <td>77300.0</td>\n",
       "      <td>77300.0</td>\n",
       "      <td>77300.0</td>\n",
       "      <td>...</td>\n",
       "      <td>119100</td>\n",
       "      <td>119400</td>\n",
       "      <td>120000</td>\n",
       "      <td>120300</td>\n",
       "      <td>120300</td>\n",
       "      <td>120300</td>\n",
       "      <td>120300</td>\n",
       "      <td>120500</td>\n",
       "      <td>121000</td>\n",
       "      <td>121500</td>\n",
       "    </tr>\n",
       "  </tbody>\n",
       "</table>\n",
       "<p>5 rows × 272 columns</p>\n",
       "</div>"
      ],
      "text/plain": [
       "   RegionID  RegionName      City State              Metro CountyName  \\\n",
       "0     84654       60657   Chicago    IL            Chicago       Cook   \n",
       "1     90668       75070  McKinney    TX  Dallas-Fort Worth     Collin   \n",
       "2     91982       77494      Katy    TX            Houston     Harris   \n",
       "3     84616       60614   Chicago    IL            Chicago       Cook   \n",
       "4     93144       79936   El Paso    TX            El Paso    El Paso   \n",
       "\n",
       "   SizeRank   1996-04   1996-05   1996-06  ...  2017-07  2017-08  2017-09  \\\n",
       "0         1  334200.0  335400.0  336500.0  ...  1005500  1007500  1007800   \n",
       "1         2  235700.0  236900.0  236700.0  ...   308000   310000   312500   \n",
       "2         3  210400.0  212200.0  212200.0  ...   321000   320600   320200   \n",
       "3         4  498100.0  500900.0  503100.0  ...  1289800  1287700  1287400   \n",
       "4         5   77300.0   77300.0   77300.0  ...   119100   119400   120000   \n",
       "\n",
       "   2017-10  2017-11  2017-12  2018-01  2018-02  2018-03  2018-04  \n",
       "0  1009600  1013300  1018700  1024400  1030700  1033800  1030600  \n",
       "1   314100   315000   316600   318100   319600   321100   321800  \n",
       "2   320400   320800   321200   321200   323000   326900   329900  \n",
       "3  1291500  1296600  1299000  1302700  1306400  1308500  1307000  \n",
       "4   120300   120300   120300   120300   120500   121000   121500  \n",
       "\n",
       "[5 rows x 272 columns]"
      ]
     },
     "execution_count": 5,
     "metadata": {},
     "output_type": "execute_result"
    }
   ],
   "source": [
    "df.head()"
   ]
  },
  {
   "cell_type": "markdown",
   "metadata": {},
   "source": [
    "# Step 2: Data Preprocessing"
   ]
  },
  {
   "cell_type": "markdown",
   "metadata": {},
   "source": [
    "## Convert time data type to datetime format"
   ]
  },
  {
   "cell_type": "code",
   "execution_count": 6,
   "metadata": {},
   "outputs": [],
   "source": [
    "def get_datetimes(df):\n",
    "    return pd.to_datetime(df.columns.values[7:], format='%Y-%m', errors = 'raise')"
   ]
  },
  {
   "cell_type": "code",
   "execution_count": 7,
   "metadata": {
    "scrolled": true
   },
   "outputs": [
    {
     "data": {
      "text/plain": [
       "DatetimeIndex(['1996-04-01', '1996-05-01', '1996-06-01', '1996-07-01',\n",
       "               '1996-08-01', '1996-09-01', '1996-10-01', '1996-11-01',\n",
       "               '1996-12-01', '1997-01-01',\n",
       "               ...\n",
       "               '2017-07-01', '2017-08-01', '2017-09-01', '2017-10-01',\n",
       "               '2017-11-01', '2017-12-01', '2018-01-01', '2018-02-01',\n",
       "               '2018-03-01', '2018-04-01'],\n",
       "              dtype='datetime64[ns]', length=265, freq=None)"
      ]
     },
     "execution_count": 7,
     "metadata": {},
     "output_type": "execute_result"
    }
   ],
   "source": [
    "get_datetimes(df)"
   ]
  },
  {
   "cell_type": "markdown",
   "metadata": {},
   "source": [
    "## Fix problem with ZIP codes beginning with '0'\n",
    "\n",
    "I have surmised that RegionName is the ZIP code for each entry.  RegionName values with only 4 digits represent ZIP codes that actually begin with '0'.  So that I can work with ZIP codes in the data set, I will need to add that zero onto every 4-digit RegionName value.  Once that's completed, I'll rename this column \"ZipCode\".  "
   ]
  },
  {
   "cell_type": "code",
   "execution_count": 8,
   "metadata": {},
   "outputs": [
    {
     "data": {
      "text/html": [
       "<div>\n",
       "<style scoped>\n",
       "    .dataframe tbody tr th:only-of-type {\n",
       "        vertical-align: middle;\n",
       "    }\n",
       "\n",
       "    .dataframe tbody tr th {\n",
       "        vertical-align: top;\n",
       "    }\n",
       "\n",
       "    .dataframe thead th {\n",
       "        text-align: right;\n",
       "    }\n",
       "</style>\n",
       "<table border=\"1\" class=\"dataframe\">\n",
       "  <thead>\n",
       "    <tr style=\"text-align: right;\">\n",
       "      <th></th>\n",
       "      <th>RegionID</th>\n",
       "      <th>RegionName</th>\n",
       "      <th>City</th>\n",
       "      <th>State</th>\n",
       "      <th>Metro</th>\n",
       "      <th>CountyName</th>\n",
       "      <th>SizeRank</th>\n",
       "      <th>1996-04</th>\n",
       "      <th>1996-05</th>\n",
       "      <th>1996-06</th>\n",
       "      <th>...</th>\n",
       "      <th>2017-07</th>\n",
       "      <th>2017-08</th>\n",
       "      <th>2017-09</th>\n",
       "      <th>2017-10</th>\n",
       "      <th>2017-11</th>\n",
       "      <th>2017-12</th>\n",
       "      <th>2018-01</th>\n",
       "      <th>2018-02</th>\n",
       "      <th>2018-03</th>\n",
       "      <th>2018-04</th>\n",
       "    </tr>\n",
       "  </thead>\n",
       "  <tbody>\n",
       "    <tr>\n",
       "      <td>0</td>\n",
       "      <td>84654</td>\n",
       "      <td>60657</td>\n",
       "      <td>Chicago</td>\n",
       "      <td>IL</td>\n",
       "      <td>Chicago</td>\n",
       "      <td>Cook</td>\n",
       "      <td>1</td>\n",
       "      <td>334200.0</td>\n",
       "      <td>335400.0</td>\n",
       "      <td>336500.0</td>\n",
       "      <td>...</td>\n",
       "      <td>1005500</td>\n",
       "      <td>1007500</td>\n",
       "      <td>1007800</td>\n",
       "      <td>1009600</td>\n",
       "      <td>1013300</td>\n",
       "      <td>1018700</td>\n",
       "      <td>1024400</td>\n",
       "      <td>1030700</td>\n",
       "      <td>1033800</td>\n",
       "      <td>1030600</td>\n",
       "    </tr>\n",
       "    <tr>\n",
       "      <td>1</td>\n",
       "      <td>90668</td>\n",
       "      <td>75070</td>\n",
       "      <td>McKinney</td>\n",
       "      <td>TX</td>\n",
       "      <td>Dallas-Fort Worth</td>\n",
       "      <td>Collin</td>\n",
       "      <td>2</td>\n",
       "      <td>235700.0</td>\n",
       "      <td>236900.0</td>\n",
       "      <td>236700.0</td>\n",
       "      <td>...</td>\n",
       "      <td>308000</td>\n",
       "      <td>310000</td>\n",
       "      <td>312500</td>\n",
       "      <td>314100</td>\n",
       "      <td>315000</td>\n",
       "      <td>316600</td>\n",
       "      <td>318100</td>\n",
       "      <td>319600</td>\n",
       "      <td>321100</td>\n",
       "      <td>321800</td>\n",
       "    </tr>\n",
       "    <tr>\n",
       "      <td>2</td>\n",
       "      <td>91982</td>\n",
       "      <td>77494</td>\n",
       "      <td>Katy</td>\n",
       "      <td>TX</td>\n",
       "      <td>Houston</td>\n",
       "      <td>Harris</td>\n",
       "      <td>3</td>\n",
       "      <td>210400.0</td>\n",
       "      <td>212200.0</td>\n",
       "      <td>212200.0</td>\n",
       "      <td>...</td>\n",
       "      <td>321000</td>\n",
       "      <td>320600</td>\n",
       "      <td>320200</td>\n",
       "      <td>320400</td>\n",
       "      <td>320800</td>\n",
       "      <td>321200</td>\n",
       "      <td>321200</td>\n",
       "      <td>323000</td>\n",
       "      <td>326900</td>\n",
       "      <td>329900</td>\n",
       "    </tr>\n",
       "    <tr>\n",
       "      <td>3</td>\n",
       "      <td>84616</td>\n",
       "      <td>60614</td>\n",
       "      <td>Chicago</td>\n",
       "      <td>IL</td>\n",
       "      <td>Chicago</td>\n",
       "      <td>Cook</td>\n",
       "      <td>4</td>\n",
       "      <td>498100.0</td>\n",
       "      <td>500900.0</td>\n",
       "      <td>503100.0</td>\n",
       "      <td>...</td>\n",
       "      <td>1289800</td>\n",
       "      <td>1287700</td>\n",
       "      <td>1287400</td>\n",
       "      <td>1291500</td>\n",
       "      <td>1296600</td>\n",
       "      <td>1299000</td>\n",
       "      <td>1302700</td>\n",
       "      <td>1306400</td>\n",
       "      <td>1308500</td>\n",
       "      <td>1307000</td>\n",
       "    </tr>\n",
       "    <tr>\n",
       "      <td>4</td>\n",
       "      <td>93144</td>\n",
       "      <td>79936</td>\n",
       "      <td>El Paso</td>\n",
       "      <td>TX</td>\n",
       "      <td>El Paso</td>\n",
       "      <td>El Paso</td>\n",
       "      <td>5</td>\n",
       "      <td>77300.0</td>\n",
       "      <td>77300.0</td>\n",
       "      <td>77300.0</td>\n",
       "      <td>...</td>\n",
       "      <td>119100</td>\n",
       "      <td>119400</td>\n",
       "      <td>120000</td>\n",
       "      <td>120300</td>\n",
       "      <td>120300</td>\n",
       "      <td>120300</td>\n",
       "      <td>120300</td>\n",
       "      <td>120500</td>\n",
       "      <td>121000</td>\n",
       "      <td>121500</td>\n",
       "    </tr>\n",
       "  </tbody>\n",
       "</table>\n",
       "<p>5 rows × 272 columns</p>\n",
       "</div>"
      ],
      "text/plain": [
       "   RegionID  RegionName      City State              Metro CountyName  \\\n",
       "0     84654       60657   Chicago    IL            Chicago       Cook   \n",
       "1     90668       75070  McKinney    TX  Dallas-Fort Worth     Collin   \n",
       "2     91982       77494      Katy    TX            Houston     Harris   \n",
       "3     84616       60614   Chicago    IL            Chicago       Cook   \n",
       "4     93144       79936   El Paso    TX            El Paso    El Paso   \n",
       "\n",
       "   SizeRank   1996-04   1996-05   1996-06  ...  2017-07  2017-08  2017-09  \\\n",
       "0         1  334200.0  335400.0  336500.0  ...  1005500  1007500  1007800   \n",
       "1         2  235700.0  236900.0  236700.0  ...   308000   310000   312500   \n",
       "2         3  210400.0  212200.0  212200.0  ...   321000   320600   320200   \n",
       "3         4  498100.0  500900.0  503100.0  ...  1289800  1287700  1287400   \n",
       "4         5   77300.0   77300.0   77300.0  ...   119100   119400   120000   \n",
       "\n",
       "   2017-10  2017-11  2017-12  2018-01  2018-02  2018-03  2018-04  \n",
       "0  1009600  1013300  1018700  1024400  1030700  1033800  1030600  \n",
       "1   314100   315000   316600   318100   319600   321100   321800  \n",
       "2   320400   320800   321200   321200   323000   326900   329900  \n",
       "3  1291500  1296600  1299000  1302700  1306400  1308500  1307000  \n",
       "4   120300   120300   120300   120300   120500   121000   121500  \n",
       "\n",
       "[5 rows x 272 columns]"
      ]
     },
     "execution_count": 8,
     "metadata": {},
     "output_type": "execute_result"
    }
   ],
   "source": [
    "df.head()"
   ]
  },
  {
   "cell_type": "code",
   "execution_count": 9,
   "metadata": {
    "scrolled": true
   },
   "outputs": [
    {
     "data": {
      "text/html": [
       "<div>\n",
       "<style scoped>\n",
       "    .dataframe tbody tr th:only-of-type {\n",
       "        vertical-align: middle;\n",
       "    }\n",
       "\n",
       "    .dataframe tbody tr th {\n",
       "        vertical-align: top;\n",
       "    }\n",
       "\n",
       "    .dataframe thead th {\n",
       "        text-align: right;\n",
       "    }\n",
       "</style>\n",
       "<table border=\"1\" class=\"dataframe\">\n",
       "  <thead>\n",
       "    <tr style=\"text-align: right;\">\n",
       "      <th></th>\n",
       "      <th>RegionID</th>\n",
       "      <th>RegionName</th>\n",
       "      <th>City</th>\n",
       "      <th>State</th>\n",
       "      <th>Metro</th>\n",
       "      <th>CountyName</th>\n",
       "      <th>SizeRank</th>\n",
       "      <th>1996-04</th>\n",
       "      <th>1996-05</th>\n",
       "      <th>1996-06</th>\n",
       "      <th>...</th>\n",
       "      <th>2017-07</th>\n",
       "      <th>2017-08</th>\n",
       "      <th>2017-09</th>\n",
       "      <th>2017-10</th>\n",
       "      <th>2017-11</th>\n",
       "      <th>2017-12</th>\n",
       "      <th>2018-01</th>\n",
       "      <th>2018-02</th>\n",
       "      <th>2018-03</th>\n",
       "      <th>2018-04</th>\n",
       "    </tr>\n",
       "  </thead>\n",
       "  <tbody>\n",
       "    <tr>\n",
       "      <td>5850</td>\n",
       "      <td>58196</td>\n",
       "      <td>1001</td>\n",
       "      <td>Agawam</td>\n",
       "      <td>MA</td>\n",
       "      <td>Springfield</td>\n",
       "      <td>Hampden</td>\n",
       "      <td>5851</td>\n",
       "      <td>113100.0</td>\n",
       "      <td>112800.0</td>\n",
       "      <td>112600.0</td>\n",
       "      <td>...</td>\n",
       "      <td>213900</td>\n",
       "      <td>215700</td>\n",
       "      <td>218200</td>\n",
       "      <td>220100</td>\n",
       "      <td>221100</td>\n",
       "      <td>221700</td>\n",
       "      <td>221700</td>\n",
       "      <td>221700</td>\n",
       "      <td>222700</td>\n",
       "      <td>223600</td>\n",
       "    </tr>\n",
       "    <tr>\n",
       "      <td>4199</td>\n",
       "      <td>58197</td>\n",
       "      <td>1002</td>\n",
       "      <td>Amherst</td>\n",
       "      <td>MA</td>\n",
       "      <td>Springfield</td>\n",
       "      <td>Hampshire</td>\n",
       "      <td>4200</td>\n",
       "      <td>161000.0</td>\n",
       "      <td>160100.0</td>\n",
       "      <td>159300.0</td>\n",
       "      <td>...</td>\n",
       "      <td>333700</td>\n",
       "      <td>334800</td>\n",
       "      <td>336700</td>\n",
       "      <td>338900</td>\n",
       "      <td>340400</td>\n",
       "      <td>342000</td>\n",
       "      <td>344500</td>\n",
       "      <td>347400</td>\n",
       "      <td>350600</td>\n",
       "      <td>353300</td>\n",
       "    </tr>\n",
       "    <tr>\n",
       "      <td>11213</td>\n",
       "      <td>58200</td>\n",
       "      <td>1005</td>\n",
       "      <td>Barre</td>\n",
       "      <td>MA</td>\n",
       "      <td>Worcester</td>\n",
       "      <td>Worcester</td>\n",
       "      <td>11214</td>\n",
       "      <td>103100.0</td>\n",
       "      <td>103400.0</td>\n",
       "      <td>103600.0</td>\n",
       "      <td>...</td>\n",
       "      <td>205600</td>\n",
       "      <td>206800</td>\n",
       "      <td>208800</td>\n",
       "      <td>210400</td>\n",
       "      <td>211300</td>\n",
       "      <td>213300</td>\n",
       "      <td>215600</td>\n",
       "      <td>217900</td>\n",
       "      <td>219500</td>\n",
       "      <td>220700</td>\n",
       "    </tr>\n",
       "    <tr>\n",
       "      <td>6850</td>\n",
       "      <td>58201</td>\n",
       "      <td>1007</td>\n",
       "      <td>Belchertown</td>\n",
       "      <td>MA</td>\n",
       "      <td>Springfield</td>\n",
       "      <td>Hampshire</td>\n",
       "      <td>6851</td>\n",
       "      <td>133400.0</td>\n",
       "      <td>132700.0</td>\n",
       "      <td>132000.0</td>\n",
       "      <td>...</td>\n",
       "      <td>266100</td>\n",
       "      <td>266300</td>\n",
       "      <td>267000</td>\n",
       "      <td>267500</td>\n",
       "      <td>268000</td>\n",
       "      <td>268100</td>\n",
       "      <td>268100</td>\n",
       "      <td>268800</td>\n",
       "      <td>270000</td>\n",
       "      <td>270600</td>\n",
       "    </tr>\n",
       "    <tr>\n",
       "      <td>14547</td>\n",
       "      <td>58202</td>\n",
       "      <td>1008</td>\n",
       "      <td>Blandford</td>\n",
       "      <td>MA</td>\n",
       "      <td>Springfield</td>\n",
       "      <td>Hampden</td>\n",
       "      <td>14548</td>\n",
       "      <td>117500.0</td>\n",
       "      <td>117300.0</td>\n",
       "      <td>117100.0</td>\n",
       "      <td>...</td>\n",
       "      <td>202400</td>\n",
       "      <td>202900</td>\n",
       "      <td>205900</td>\n",
       "      <td>208500</td>\n",
       "      <td>207500</td>\n",
       "      <td>205400</td>\n",
       "      <td>204500</td>\n",
       "      <td>206800</td>\n",
       "      <td>210900</td>\n",
       "      <td>214200</td>\n",
       "    </tr>\n",
       "  </tbody>\n",
       "</table>\n",
       "<p>5 rows × 272 columns</p>\n",
       "</div>"
      ],
      "text/plain": [
       "       RegionID  RegionName         City State        Metro CountyName  \\\n",
       "5850      58196        1001       Agawam    MA  Springfield    Hampden   \n",
       "4199      58197        1002      Amherst    MA  Springfield  Hampshire   \n",
       "11213     58200        1005        Barre    MA    Worcester  Worcester   \n",
       "6850      58201        1007  Belchertown    MA  Springfield  Hampshire   \n",
       "14547     58202        1008    Blandford    MA  Springfield    Hampden   \n",
       "\n",
       "       SizeRank   1996-04   1996-05   1996-06  ...  2017-07  2017-08  2017-09  \\\n",
       "5850       5851  113100.0  112800.0  112600.0  ...   213900   215700   218200   \n",
       "4199       4200  161000.0  160100.0  159300.0  ...   333700   334800   336700   \n",
       "11213     11214  103100.0  103400.0  103600.0  ...   205600   206800   208800   \n",
       "6850       6851  133400.0  132700.0  132000.0  ...   266100   266300   267000   \n",
       "14547     14548  117500.0  117300.0  117100.0  ...   202400   202900   205900   \n",
       "\n",
       "       2017-10  2017-11  2017-12  2018-01  2018-02  2018-03  2018-04  \n",
       "5850    220100   221100   221700   221700   221700   222700   223600  \n",
       "4199    338900   340400   342000   344500   347400   350600   353300  \n",
       "11213   210400   211300   213300   215600   217900   219500   220700  \n",
       "6850    267500   268000   268100   268100   268800   270000   270600  \n",
       "14547   208500   207500   205400   204500   206800   210900   214200  \n",
       "\n",
       "[5 rows x 272 columns]"
      ]
     },
     "execution_count": 9,
     "metadata": {},
     "output_type": "execute_result"
    }
   ],
   "source": [
    "df.sort_values(by=\"RegionName\").head()"
   ]
  },
  {
   "cell_type": "code",
   "execution_count": 10,
   "metadata": {
    "scrolled": true
   },
   "outputs": [
    {
     "data": {
      "text/plain": [
       "dtype('O')"
      ]
     },
     "execution_count": 10,
     "metadata": {},
     "output_type": "execute_result"
    }
   ],
   "source": [
    "df['RegionName'] = df.RegionName.astype(str)\n",
    "df['RegionName'].dtype\n"
   ]
  },
  {
   "cell_type": "code",
   "execution_count": 11,
   "metadata": {},
   "outputs": [
    {
     "data": {
      "text/html": [
       "<div>\n",
       "<style scoped>\n",
       "    .dataframe tbody tr th:only-of-type {\n",
       "        vertical-align: middle;\n",
       "    }\n",
       "\n",
       "    .dataframe tbody tr th {\n",
       "        vertical-align: top;\n",
       "    }\n",
       "\n",
       "    .dataframe thead th {\n",
       "        text-align: right;\n",
       "    }\n",
       "</style>\n",
       "<table border=\"1\" class=\"dataframe\">\n",
       "  <thead>\n",
       "    <tr style=\"text-align: right;\">\n",
       "      <th></th>\n",
       "      <th>RegionID</th>\n",
       "      <th>Zip</th>\n",
       "      <th>City</th>\n",
       "      <th>State</th>\n",
       "      <th>Metro</th>\n",
       "      <th>CountyName</th>\n",
       "      <th>SizeRank</th>\n",
       "      <th>1996-04</th>\n",
       "      <th>1996-05</th>\n",
       "      <th>1996-06</th>\n",
       "      <th>...</th>\n",
       "      <th>2017-07</th>\n",
       "      <th>2017-08</th>\n",
       "      <th>2017-09</th>\n",
       "      <th>2017-10</th>\n",
       "      <th>2017-11</th>\n",
       "      <th>2017-12</th>\n",
       "      <th>2018-01</th>\n",
       "      <th>2018-02</th>\n",
       "      <th>2018-03</th>\n",
       "      <th>2018-04</th>\n",
       "    </tr>\n",
       "  </thead>\n",
       "  <tbody>\n",
       "    <tr>\n",
       "      <td>0</td>\n",
       "      <td>84654</td>\n",
       "      <td>60657</td>\n",
       "      <td>Chicago</td>\n",
       "      <td>IL</td>\n",
       "      <td>Chicago</td>\n",
       "      <td>Cook</td>\n",
       "      <td>1</td>\n",
       "      <td>334200.0</td>\n",
       "      <td>335400.0</td>\n",
       "      <td>336500.0</td>\n",
       "      <td>...</td>\n",
       "      <td>1005500</td>\n",
       "      <td>1007500</td>\n",
       "      <td>1007800</td>\n",
       "      <td>1009600</td>\n",
       "      <td>1013300</td>\n",
       "      <td>1018700</td>\n",
       "      <td>1024400</td>\n",
       "      <td>1030700</td>\n",
       "      <td>1033800</td>\n",
       "      <td>1030600</td>\n",
       "    </tr>\n",
       "    <tr>\n",
       "      <td>1</td>\n",
       "      <td>90668</td>\n",
       "      <td>75070</td>\n",
       "      <td>McKinney</td>\n",
       "      <td>TX</td>\n",
       "      <td>Dallas-Fort Worth</td>\n",
       "      <td>Collin</td>\n",
       "      <td>2</td>\n",
       "      <td>235700.0</td>\n",
       "      <td>236900.0</td>\n",
       "      <td>236700.0</td>\n",
       "      <td>...</td>\n",
       "      <td>308000</td>\n",
       "      <td>310000</td>\n",
       "      <td>312500</td>\n",
       "      <td>314100</td>\n",
       "      <td>315000</td>\n",
       "      <td>316600</td>\n",
       "      <td>318100</td>\n",
       "      <td>319600</td>\n",
       "      <td>321100</td>\n",
       "      <td>321800</td>\n",
       "    </tr>\n",
       "    <tr>\n",
       "      <td>2</td>\n",
       "      <td>91982</td>\n",
       "      <td>77494</td>\n",
       "      <td>Katy</td>\n",
       "      <td>TX</td>\n",
       "      <td>Houston</td>\n",
       "      <td>Harris</td>\n",
       "      <td>3</td>\n",
       "      <td>210400.0</td>\n",
       "      <td>212200.0</td>\n",
       "      <td>212200.0</td>\n",
       "      <td>...</td>\n",
       "      <td>321000</td>\n",
       "      <td>320600</td>\n",
       "      <td>320200</td>\n",
       "      <td>320400</td>\n",
       "      <td>320800</td>\n",
       "      <td>321200</td>\n",
       "      <td>321200</td>\n",
       "      <td>323000</td>\n",
       "      <td>326900</td>\n",
       "      <td>329900</td>\n",
       "    </tr>\n",
       "    <tr>\n",
       "      <td>3</td>\n",
       "      <td>84616</td>\n",
       "      <td>60614</td>\n",
       "      <td>Chicago</td>\n",
       "      <td>IL</td>\n",
       "      <td>Chicago</td>\n",
       "      <td>Cook</td>\n",
       "      <td>4</td>\n",
       "      <td>498100.0</td>\n",
       "      <td>500900.0</td>\n",
       "      <td>503100.0</td>\n",
       "      <td>...</td>\n",
       "      <td>1289800</td>\n",
       "      <td>1287700</td>\n",
       "      <td>1287400</td>\n",
       "      <td>1291500</td>\n",
       "      <td>1296600</td>\n",
       "      <td>1299000</td>\n",
       "      <td>1302700</td>\n",
       "      <td>1306400</td>\n",
       "      <td>1308500</td>\n",
       "      <td>1307000</td>\n",
       "    </tr>\n",
       "    <tr>\n",
       "      <td>4</td>\n",
       "      <td>93144</td>\n",
       "      <td>79936</td>\n",
       "      <td>El Paso</td>\n",
       "      <td>TX</td>\n",
       "      <td>El Paso</td>\n",
       "      <td>El Paso</td>\n",
       "      <td>5</td>\n",
       "      <td>77300.0</td>\n",
       "      <td>77300.0</td>\n",
       "      <td>77300.0</td>\n",
       "      <td>...</td>\n",
       "      <td>119100</td>\n",
       "      <td>119400</td>\n",
       "      <td>120000</td>\n",
       "      <td>120300</td>\n",
       "      <td>120300</td>\n",
       "      <td>120300</td>\n",
       "      <td>120300</td>\n",
       "      <td>120500</td>\n",
       "      <td>121000</td>\n",
       "      <td>121500</td>\n",
       "    </tr>\n",
       "  </tbody>\n",
       "</table>\n",
       "<p>5 rows × 272 columns</p>\n",
       "</div>"
      ],
      "text/plain": [
       "   RegionID    Zip      City State              Metro CountyName  SizeRank  \\\n",
       "0     84654  60657   Chicago    IL            Chicago       Cook         1   \n",
       "1     90668  75070  McKinney    TX  Dallas-Fort Worth     Collin         2   \n",
       "2     91982  77494      Katy    TX            Houston     Harris         3   \n",
       "3     84616  60614   Chicago    IL            Chicago       Cook         4   \n",
       "4     93144  79936   El Paso    TX            El Paso    El Paso         5   \n",
       "\n",
       "    1996-04   1996-05   1996-06  ...  2017-07  2017-08  2017-09  2017-10  \\\n",
       "0  334200.0  335400.0  336500.0  ...  1005500  1007500  1007800  1009600   \n",
       "1  235700.0  236900.0  236700.0  ...   308000   310000   312500   314100   \n",
       "2  210400.0  212200.0  212200.0  ...   321000   320600   320200   320400   \n",
       "3  498100.0  500900.0  503100.0  ...  1289800  1287700  1287400  1291500   \n",
       "4   77300.0   77300.0   77300.0  ...   119100   119400   120000   120300   \n",
       "\n",
       "   2017-11  2017-12  2018-01  2018-02  2018-03  2018-04  \n",
       "0  1013300  1018700  1024400  1030700  1033800  1030600  \n",
       "1   315000   316600   318100   319600   321100   321800  \n",
       "2   320800   321200   321200   323000   326900   329900  \n",
       "3  1296600  1299000  1302700  1306400  1308500  1307000  \n",
       "4   120300   120300   120300   120500   121000   121500  \n",
       "\n",
       "[5 rows x 272 columns]"
      ]
     },
     "execution_count": 11,
     "metadata": {},
     "output_type": "execute_result"
    }
   ],
   "source": [
    "df.rename(columns={'RegionName': 'Zip'}, inplace=True)\n",
    "df.columns\n",
    "df.head()"
   ]
  },
  {
   "cell_type": "code",
   "execution_count": 12,
   "metadata": {
    "scrolled": false
   },
   "outputs": [
    {
     "data": {
      "text/html": [
       "<div>\n",
       "<style scoped>\n",
       "    .dataframe tbody tr th:only-of-type {\n",
       "        vertical-align: middle;\n",
       "    }\n",
       "\n",
       "    .dataframe tbody tr th {\n",
       "        vertical-align: top;\n",
       "    }\n",
       "\n",
       "    .dataframe thead th {\n",
       "        text-align: right;\n",
       "    }\n",
       "</style>\n",
       "<table border=\"1\" class=\"dataframe\">\n",
       "  <thead>\n",
       "    <tr style=\"text-align: right;\">\n",
       "      <th></th>\n",
       "      <th>RegionID</th>\n",
       "      <th>Zip</th>\n",
       "      <th>City</th>\n",
       "      <th>State</th>\n",
       "      <th>Metro</th>\n",
       "      <th>CountyName</th>\n",
       "      <th>SizeRank</th>\n",
       "      <th>1996-04</th>\n",
       "      <th>1996-05</th>\n",
       "      <th>1996-06</th>\n",
       "      <th>...</th>\n",
       "      <th>2017-07</th>\n",
       "      <th>2017-08</th>\n",
       "      <th>2017-09</th>\n",
       "      <th>2017-10</th>\n",
       "      <th>2017-11</th>\n",
       "      <th>2017-12</th>\n",
       "      <th>2018-01</th>\n",
       "      <th>2018-02</th>\n",
       "      <th>2018-03</th>\n",
       "      <th>2018-04</th>\n",
       "    </tr>\n",
       "  </thead>\n",
       "  <tbody>\n",
       "    <tr>\n",
       "      <td>5850</td>\n",
       "      <td>58196</td>\n",
       "      <td>01001</td>\n",
       "      <td>Agawam</td>\n",
       "      <td>MA</td>\n",
       "      <td>Springfield</td>\n",
       "      <td>Hampden</td>\n",
       "      <td>5851</td>\n",
       "      <td>113100.0</td>\n",
       "      <td>112800.0</td>\n",
       "      <td>112600.0</td>\n",
       "      <td>...</td>\n",
       "      <td>213900</td>\n",
       "      <td>215700</td>\n",
       "      <td>218200</td>\n",
       "      <td>220100</td>\n",
       "      <td>221100</td>\n",
       "      <td>221700</td>\n",
       "      <td>221700</td>\n",
       "      <td>221700</td>\n",
       "      <td>222700</td>\n",
       "      <td>223600</td>\n",
       "    </tr>\n",
       "    <tr>\n",
       "      <td>4199</td>\n",
       "      <td>58197</td>\n",
       "      <td>01002</td>\n",
       "      <td>Amherst</td>\n",
       "      <td>MA</td>\n",
       "      <td>Springfield</td>\n",
       "      <td>Hampshire</td>\n",
       "      <td>4200</td>\n",
       "      <td>161000.0</td>\n",
       "      <td>160100.0</td>\n",
       "      <td>159300.0</td>\n",
       "      <td>...</td>\n",
       "      <td>333700</td>\n",
       "      <td>334800</td>\n",
       "      <td>336700</td>\n",
       "      <td>338900</td>\n",
       "      <td>340400</td>\n",
       "      <td>342000</td>\n",
       "      <td>344500</td>\n",
       "      <td>347400</td>\n",
       "      <td>350600</td>\n",
       "      <td>353300</td>\n",
       "    </tr>\n",
       "    <tr>\n",
       "      <td>11213</td>\n",
       "      <td>58200</td>\n",
       "      <td>01005</td>\n",
       "      <td>Barre</td>\n",
       "      <td>MA</td>\n",
       "      <td>Worcester</td>\n",
       "      <td>Worcester</td>\n",
       "      <td>11214</td>\n",
       "      <td>103100.0</td>\n",
       "      <td>103400.0</td>\n",
       "      <td>103600.0</td>\n",
       "      <td>...</td>\n",
       "      <td>205600</td>\n",
       "      <td>206800</td>\n",
       "      <td>208800</td>\n",
       "      <td>210400</td>\n",
       "      <td>211300</td>\n",
       "      <td>213300</td>\n",
       "      <td>215600</td>\n",
       "      <td>217900</td>\n",
       "      <td>219500</td>\n",
       "      <td>220700</td>\n",
       "    </tr>\n",
       "    <tr>\n",
       "      <td>6850</td>\n",
       "      <td>58201</td>\n",
       "      <td>01007</td>\n",
       "      <td>Belchertown</td>\n",
       "      <td>MA</td>\n",
       "      <td>Springfield</td>\n",
       "      <td>Hampshire</td>\n",
       "      <td>6851</td>\n",
       "      <td>133400.0</td>\n",
       "      <td>132700.0</td>\n",
       "      <td>132000.0</td>\n",
       "      <td>...</td>\n",
       "      <td>266100</td>\n",
       "      <td>266300</td>\n",
       "      <td>267000</td>\n",
       "      <td>267500</td>\n",
       "      <td>268000</td>\n",
       "      <td>268100</td>\n",
       "      <td>268100</td>\n",
       "      <td>268800</td>\n",
       "      <td>270000</td>\n",
       "      <td>270600</td>\n",
       "    </tr>\n",
       "    <tr>\n",
       "      <td>14547</td>\n",
       "      <td>58202</td>\n",
       "      <td>01008</td>\n",
       "      <td>Blandford</td>\n",
       "      <td>MA</td>\n",
       "      <td>Springfield</td>\n",
       "      <td>Hampden</td>\n",
       "      <td>14548</td>\n",
       "      <td>117500.0</td>\n",
       "      <td>117300.0</td>\n",
       "      <td>117100.0</td>\n",
       "      <td>...</td>\n",
       "      <td>202400</td>\n",
       "      <td>202900</td>\n",
       "      <td>205900</td>\n",
       "      <td>208500</td>\n",
       "      <td>207500</td>\n",
       "      <td>205400</td>\n",
       "      <td>204500</td>\n",
       "      <td>206800</td>\n",
       "      <td>210900</td>\n",
       "      <td>214200</td>\n",
       "    </tr>\n",
       "  </tbody>\n",
       "</table>\n",
       "<p>5 rows × 272 columns</p>\n",
       "</div>"
      ],
      "text/plain": [
       "       RegionID    Zip         City State        Metro CountyName  SizeRank  \\\n",
       "5850      58196  01001       Agawam    MA  Springfield    Hampden      5851   \n",
       "4199      58197  01002      Amherst    MA  Springfield  Hampshire      4200   \n",
       "11213     58200  01005        Barre    MA    Worcester  Worcester     11214   \n",
       "6850      58201  01007  Belchertown    MA  Springfield  Hampshire      6851   \n",
       "14547     58202  01008    Blandford    MA  Springfield    Hampden     14548   \n",
       "\n",
       "        1996-04   1996-05   1996-06  ...  2017-07  2017-08  2017-09  2017-10  \\\n",
       "5850   113100.0  112800.0  112600.0  ...   213900   215700   218200   220100   \n",
       "4199   161000.0  160100.0  159300.0  ...   333700   334800   336700   338900   \n",
       "11213  103100.0  103400.0  103600.0  ...   205600   206800   208800   210400   \n",
       "6850   133400.0  132700.0  132000.0  ...   266100   266300   267000   267500   \n",
       "14547  117500.0  117300.0  117100.0  ...   202400   202900   205900   208500   \n",
       "\n",
       "       2017-11  2017-12  2018-01  2018-02  2018-03  2018-04  \n",
       "5850    221100   221700   221700   221700   222700   223600  \n",
       "4199    340400   342000   344500   347400   350600   353300  \n",
       "11213   211300   213300   215600   217900   219500   220700  \n",
       "6850    268000   268100   268100   268800   270000   270600  \n",
       "14547   207500   205400   204500   206800   210900   214200  \n",
       "\n",
       "[5 rows x 272 columns]"
      ]
     },
     "execution_count": 12,
     "metadata": {},
     "output_type": "execute_result"
    }
   ],
   "source": [
    "zips = []\n",
    "\n",
    "for i in df['Zip']:\n",
    "    if len(i) < 5:\n",
    "        i = '0' + i\n",
    "        zips.append(i)\n",
    "    else:\n",
    "        zips.append(i)\n",
    "\n",
    "zips\n",
    "df['Zip'] = pd.Series(zips)\n",
    "df.sort_values(by='Zip').head()\n",
    "# df.head()"
   ]
  },
  {
   "cell_type": "markdown",
   "metadata": {},
   "source": [
    "## Creating dataframes by various groupings and geographies"
   ]
  },
  {
   "cell_type": "markdown",
   "metadata": {},
   "source": [
    "### Creating US dataframe (df_melt) using melt function"
   ]
  },
  {
   "cell_type": "code",
   "execution_count": 13,
   "metadata": {},
   "outputs": [],
   "source": [
    "def melt_data(df):\n",
    "    melted = pd.melt(df, id_vars=['RegionID', 'Zip', 'City', 'State', 'Metro', 'CountyName', 'SizeRank'], var_name='time')\n",
    "    melted['time'] = pd.to_datetime(melted['time'], infer_datetime_format=False)\n",
    "    melted = melted.dropna(subset=['value'])\n",
    "    return melted   "
   ]
  },
  {
   "cell_type": "code",
   "execution_count": 14,
   "metadata": {},
   "outputs": [],
   "source": [
    "df_melt = melt_data(df)\n"
   ]
  },
  {
   "cell_type": "code",
   "execution_count": 15,
   "metadata": {
    "scrolled": true
   },
   "outputs": [
    {
     "data": {
      "text/html": [
       "<div>\n",
       "<style scoped>\n",
       "    .dataframe tbody tr th:only-of-type {\n",
       "        vertical-align: middle;\n",
       "    }\n",
       "\n",
       "    .dataframe tbody tr th {\n",
       "        vertical-align: top;\n",
       "    }\n",
       "\n",
       "    .dataframe thead th {\n",
       "        text-align: right;\n",
       "    }\n",
       "</style>\n",
       "<table border=\"1\" class=\"dataframe\">\n",
       "  <thead>\n",
       "    <tr style=\"text-align: right;\">\n",
       "      <th></th>\n",
       "      <th>RegionID</th>\n",
       "      <th>Zip</th>\n",
       "      <th>City</th>\n",
       "      <th>State</th>\n",
       "      <th>Metro</th>\n",
       "      <th>CountyName</th>\n",
       "      <th>SizeRank</th>\n",
       "      <th>time</th>\n",
       "      <th>value</th>\n",
       "    </tr>\n",
       "  </thead>\n",
       "  <tbody>\n",
       "    <tr>\n",
       "      <td>0</td>\n",
       "      <td>84654</td>\n",
       "      <td>60657</td>\n",
       "      <td>Chicago</td>\n",
       "      <td>IL</td>\n",
       "      <td>Chicago</td>\n",
       "      <td>Cook</td>\n",
       "      <td>1</td>\n",
       "      <td>1996-04-01</td>\n",
       "      <td>334200.0</td>\n",
       "    </tr>\n",
       "    <tr>\n",
       "      <td>1</td>\n",
       "      <td>90668</td>\n",
       "      <td>75070</td>\n",
       "      <td>McKinney</td>\n",
       "      <td>TX</td>\n",
       "      <td>Dallas-Fort Worth</td>\n",
       "      <td>Collin</td>\n",
       "      <td>2</td>\n",
       "      <td>1996-04-01</td>\n",
       "      <td>235700.0</td>\n",
       "    </tr>\n",
       "    <tr>\n",
       "      <td>2</td>\n",
       "      <td>91982</td>\n",
       "      <td>77494</td>\n",
       "      <td>Katy</td>\n",
       "      <td>TX</td>\n",
       "      <td>Houston</td>\n",
       "      <td>Harris</td>\n",
       "      <td>3</td>\n",
       "      <td>1996-04-01</td>\n",
       "      <td>210400.0</td>\n",
       "    </tr>\n",
       "    <tr>\n",
       "      <td>3</td>\n",
       "      <td>84616</td>\n",
       "      <td>60614</td>\n",
       "      <td>Chicago</td>\n",
       "      <td>IL</td>\n",
       "      <td>Chicago</td>\n",
       "      <td>Cook</td>\n",
       "      <td>4</td>\n",
       "      <td>1996-04-01</td>\n",
       "      <td>498100.0</td>\n",
       "    </tr>\n",
       "    <tr>\n",
       "      <td>4</td>\n",
       "      <td>93144</td>\n",
       "      <td>79936</td>\n",
       "      <td>El Paso</td>\n",
       "      <td>TX</td>\n",
       "      <td>El Paso</td>\n",
       "      <td>El Paso</td>\n",
       "      <td>5</td>\n",
       "      <td>1996-04-01</td>\n",
       "      <td>77300.0</td>\n",
       "    </tr>\n",
       "  </tbody>\n",
       "</table>\n",
       "</div>"
      ],
      "text/plain": [
       "   RegionID    Zip      City State              Metro CountyName  SizeRank  \\\n",
       "0     84654  60657   Chicago    IL            Chicago       Cook         1   \n",
       "1     90668  75070  McKinney    TX  Dallas-Fort Worth     Collin         2   \n",
       "2     91982  77494      Katy    TX            Houston     Harris         3   \n",
       "3     84616  60614   Chicago    IL            Chicago       Cook         4   \n",
       "4     93144  79936   El Paso    TX            El Paso    El Paso         5   \n",
       "\n",
       "        time     value  \n",
       "0 1996-04-01  334200.0  \n",
       "1 1996-04-01  235700.0  \n",
       "2 1996-04-01  210400.0  \n",
       "3 1996-04-01  498100.0  \n",
       "4 1996-04-01   77300.0  "
      ]
     },
     "execution_count": 15,
     "metadata": {},
     "output_type": "execute_result"
    }
   ],
   "source": [
    "df_melt.head()"
   ]
  },
  {
   "cell_type": "code",
   "execution_count": 16,
   "metadata": {},
   "outputs": [
    {
     "name": "stdout",
     "output_type": "stream",
     "text": [
      "<class 'pandas.core.frame.DataFrame'>\n",
      "Int64Index: 3744704 entries, 0 to 3901594\n",
      "Data columns (total 9 columns):\n",
      "RegionID      int64\n",
      "Zip           object\n",
      "City          object\n",
      "State         object\n",
      "Metro         object\n",
      "CountyName    object\n",
      "SizeRank      int64\n",
      "time          datetime64[ns]\n",
      "value         float64\n",
      "dtypes: datetime64[ns](1), float64(1), int64(2), object(5)\n",
      "memory usage: 285.7+ MB\n"
     ]
    }
   ],
   "source": [
    "df_melt.info()"
   ]
  },
  {
   "cell_type": "code",
   "execution_count": 17,
   "metadata": {},
   "outputs": [
    {
     "data": {
      "text/html": [
       "<div>\n",
       "<style scoped>\n",
       "    .dataframe tbody tr th:only-of-type {\n",
       "        vertical-align: middle;\n",
       "    }\n",
       "\n",
       "    .dataframe tbody tr th {\n",
       "        vertical-align: top;\n",
       "    }\n",
       "\n",
       "    .dataframe thead th {\n",
       "        text-align: right;\n",
       "    }\n",
       "</style>\n",
       "<table border=\"1\" class=\"dataframe\">\n",
       "  <thead>\n",
       "    <tr style=\"text-align: right;\">\n",
       "      <th></th>\n",
       "      <th>RegionID</th>\n",
       "      <th>Zip</th>\n",
       "      <th>City</th>\n",
       "      <th>State</th>\n",
       "      <th>Metro</th>\n",
       "      <th>CountyName</th>\n",
       "      <th>SizeRank</th>\n",
       "      <th>value</th>\n",
       "    </tr>\n",
       "    <tr>\n",
       "      <th>time</th>\n",
       "      <th></th>\n",
       "      <th></th>\n",
       "      <th></th>\n",
       "      <th></th>\n",
       "      <th></th>\n",
       "      <th></th>\n",
       "      <th></th>\n",
       "      <th></th>\n",
       "    </tr>\n",
       "  </thead>\n",
       "  <tbody>\n",
       "    <tr>\n",
       "      <td>1996-04-01</td>\n",
       "      <td>84654</td>\n",
       "      <td>60657</td>\n",
       "      <td>Chicago</td>\n",
       "      <td>IL</td>\n",
       "      <td>Chicago</td>\n",
       "      <td>Cook</td>\n",
       "      <td>1</td>\n",
       "      <td>334200.0</td>\n",
       "    </tr>\n",
       "    <tr>\n",
       "      <td>1996-04-01</td>\n",
       "      <td>90668</td>\n",
       "      <td>75070</td>\n",
       "      <td>McKinney</td>\n",
       "      <td>TX</td>\n",
       "      <td>Dallas-Fort Worth</td>\n",
       "      <td>Collin</td>\n",
       "      <td>2</td>\n",
       "      <td>235700.0</td>\n",
       "    </tr>\n",
       "    <tr>\n",
       "      <td>1996-04-01</td>\n",
       "      <td>91982</td>\n",
       "      <td>77494</td>\n",
       "      <td>Katy</td>\n",
       "      <td>TX</td>\n",
       "      <td>Houston</td>\n",
       "      <td>Harris</td>\n",
       "      <td>3</td>\n",
       "      <td>210400.0</td>\n",
       "    </tr>\n",
       "    <tr>\n",
       "      <td>1996-04-01</td>\n",
       "      <td>84616</td>\n",
       "      <td>60614</td>\n",
       "      <td>Chicago</td>\n",
       "      <td>IL</td>\n",
       "      <td>Chicago</td>\n",
       "      <td>Cook</td>\n",
       "      <td>4</td>\n",
       "      <td>498100.0</td>\n",
       "    </tr>\n",
       "    <tr>\n",
       "      <td>1996-04-01</td>\n",
       "      <td>93144</td>\n",
       "      <td>79936</td>\n",
       "      <td>El Paso</td>\n",
       "      <td>TX</td>\n",
       "      <td>El Paso</td>\n",
       "      <td>El Paso</td>\n",
       "      <td>5</td>\n",
       "      <td>77300.0</td>\n",
       "    </tr>\n",
       "    <tr>\n",
       "      <td>...</td>\n",
       "      <td>...</td>\n",
       "      <td>...</td>\n",
       "      <td>...</td>\n",
       "      <td>...</td>\n",
       "      <td>...</td>\n",
       "      <td>...</td>\n",
       "      <td>...</td>\n",
       "      <td>...</td>\n",
       "    </tr>\n",
       "    <tr>\n",
       "      <td>2018-04-01</td>\n",
       "      <td>58333</td>\n",
       "      <td>01338</td>\n",
       "      <td>Ashfield</td>\n",
       "      <td>MA</td>\n",
       "      <td>Greenfield Town</td>\n",
       "      <td>Franklin</td>\n",
       "      <td>14719</td>\n",
       "      <td>209300.0</td>\n",
       "    </tr>\n",
       "    <tr>\n",
       "      <td>2018-04-01</td>\n",
       "      <td>59107</td>\n",
       "      <td>03293</td>\n",
       "      <td>Woodstock</td>\n",
       "      <td>NH</td>\n",
       "      <td>Claremont</td>\n",
       "      <td>Grafton</td>\n",
       "      <td>14720</td>\n",
       "      <td>225800.0</td>\n",
       "    </tr>\n",
       "    <tr>\n",
       "      <td>2018-04-01</td>\n",
       "      <td>75672</td>\n",
       "      <td>40404</td>\n",
       "      <td>Berea</td>\n",
       "      <td>KY</td>\n",
       "      <td>Richmond</td>\n",
       "      <td>Madison</td>\n",
       "      <td>14721</td>\n",
       "      <td>133400.0</td>\n",
       "    </tr>\n",
       "    <tr>\n",
       "      <td>2018-04-01</td>\n",
       "      <td>93733</td>\n",
       "      <td>81225</td>\n",
       "      <td>Mount Crested Butte</td>\n",
       "      <td>CO</td>\n",
       "      <td>NaN</td>\n",
       "      <td>Gunnison</td>\n",
       "      <td>14722</td>\n",
       "      <td>664400.0</td>\n",
       "    </tr>\n",
       "    <tr>\n",
       "      <td>2018-04-01</td>\n",
       "      <td>95851</td>\n",
       "      <td>89155</td>\n",
       "      <td>Mesquite</td>\n",
       "      <td>NV</td>\n",
       "      <td>Las Vegas</td>\n",
       "      <td>Clark</td>\n",
       "      <td>14723</td>\n",
       "      <td>357200.0</td>\n",
       "    </tr>\n",
       "  </tbody>\n",
       "</table>\n",
       "<p>3744704 rows × 8 columns</p>\n",
       "</div>"
      ],
      "text/plain": [
       "            RegionID    Zip                 City State              Metro  \\\n",
       "time                                                                        \n",
       "1996-04-01     84654  60657              Chicago    IL            Chicago   \n",
       "1996-04-01     90668  75070             McKinney    TX  Dallas-Fort Worth   \n",
       "1996-04-01     91982  77494                 Katy    TX            Houston   \n",
       "1996-04-01     84616  60614              Chicago    IL            Chicago   \n",
       "1996-04-01     93144  79936              El Paso    TX            El Paso   \n",
       "...              ...    ...                  ...   ...                ...   \n",
       "2018-04-01     58333  01338             Ashfield    MA    Greenfield Town   \n",
       "2018-04-01     59107  03293            Woodstock    NH          Claremont   \n",
       "2018-04-01     75672  40404                Berea    KY           Richmond   \n",
       "2018-04-01     93733  81225  Mount Crested Butte    CO                NaN   \n",
       "2018-04-01     95851  89155             Mesquite    NV          Las Vegas   \n",
       "\n",
       "           CountyName  SizeRank     value  \n",
       "time                                       \n",
       "1996-04-01       Cook         1  334200.0  \n",
       "1996-04-01     Collin         2  235700.0  \n",
       "1996-04-01     Harris         3  210400.0  \n",
       "1996-04-01       Cook         4  498100.0  \n",
       "1996-04-01    El Paso         5   77300.0  \n",
       "...               ...       ...       ...  \n",
       "2018-04-01   Franklin     14719  209300.0  \n",
       "2018-04-01    Grafton     14720  225800.0  \n",
       "2018-04-01    Madison     14721  133400.0  \n",
       "2018-04-01   Gunnison     14722  664400.0  \n",
       "2018-04-01      Clark     14723  357200.0  \n",
       "\n",
       "[3744704 rows x 8 columns]"
      ]
     },
     "execution_count": 17,
     "metadata": {},
     "output_type": "execute_result"
    }
   ],
   "source": [
    "df_melt.set_index('time')"
   ]
  },
  {
   "cell_type": "code",
   "execution_count": 18,
   "metadata": {},
   "outputs": [],
   "source": [
    "## Dropping RegionID:\n",
    "\n",
    "df_melt.drop('RegionID', axis=1, inplace=True)"
   ]
  },
  {
   "cell_type": "code",
   "execution_count": 19,
   "metadata": {},
   "outputs": [
    {
     "data": {
      "text/html": [
       "<div>\n",
       "<style scoped>\n",
       "    .dataframe tbody tr th:only-of-type {\n",
       "        vertical-align: middle;\n",
       "    }\n",
       "\n",
       "    .dataframe tbody tr th {\n",
       "        vertical-align: top;\n",
       "    }\n",
       "\n",
       "    .dataframe thead th {\n",
       "        text-align: right;\n",
       "    }\n",
       "</style>\n",
       "<table border=\"1\" class=\"dataframe\">\n",
       "  <thead>\n",
       "    <tr style=\"text-align: right;\">\n",
       "      <th></th>\n",
       "      <th>Zip</th>\n",
       "      <th>City</th>\n",
       "      <th>State</th>\n",
       "      <th>Metro</th>\n",
       "      <th>CountyName</th>\n",
       "      <th>SizeRank</th>\n",
       "      <th>time</th>\n",
       "      <th>value</th>\n",
       "    </tr>\n",
       "  </thead>\n",
       "  <tbody>\n",
       "    <tr>\n",
       "      <td>0</td>\n",
       "      <td>60657</td>\n",
       "      <td>Chicago</td>\n",
       "      <td>IL</td>\n",
       "      <td>Chicago</td>\n",
       "      <td>Cook</td>\n",
       "      <td>1</td>\n",
       "      <td>1996-04-01</td>\n",
       "      <td>334200.0</td>\n",
       "    </tr>\n",
       "    <tr>\n",
       "      <td>1</td>\n",
       "      <td>75070</td>\n",
       "      <td>McKinney</td>\n",
       "      <td>TX</td>\n",
       "      <td>Dallas-Fort Worth</td>\n",
       "      <td>Collin</td>\n",
       "      <td>2</td>\n",
       "      <td>1996-04-01</td>\n",
       "      <td>235700.0</td>\n",
       "    </tr>\n",
       "    <tr>\n",
       "      <td>2</td>\n",
       "      <td>77494</td>\n",
       "      <td>Katy</td>\n",
       "      <td>TX</td>\n",
       "      <td>Houston</td>\n",
       "      <td>Harris</td>\n",
       "      <td>3</td>\n",
       "      <td>1996-04-01</td>\n",
       "      <td>210400.0</td>\n",
       "    </tr>\n",
       "    <tr>\n",
       "      <td>3</td>\n",
       "      <td>60614</td>\n",
       "      <td>Chicago</td>\n",
       "      <td>IL</td>\n",
       "      <td>Chicago</td>\n",
       "      <td>Cook</td>\n",
       "      <td>4</td>\n",
       "      <td>1996-04-01</td>\n",
       "      <td>498100.0</td>\n",
       "    </tr>\n",
       "    <tr>\n",
       "      <td>4</td>\n",
       "      <td>79936</td>\n",
       "      <td>El Paso</td>\n",
       "      <td>TX</td>\n",
       "      <td>El Paso</td>\n",
       "      <td>El Paso</td>\n",
       "      <td>5</td>\n",
       "      <td>1996-04-01</td>\n",
       "      <td>77300.0</td>\n",
       "    </tr>\n",
       "  </tbody>\n",
       "</table>\n",
       "</div>"
      ],
      "text/plain": [
       "     Zip      City State              Metro CountyName  SizeRank       time  \\\n",
       "0  60657   Chicago    IL            Chicago       Cook         1 1996-04-01   \n",
       "1  75070  McKinney    TX  Dallas-Fort Worth     Collin         2 1996-04-01   \n",
       "2  77494      Katy    TX            Houston     Harris         3 1996-04-01   \n",
       "3  60614   Chicago    IL            Chicago       Cook         4 1996-04-01   \n",
       "4  79936   El Paso    TX            El Paso    El Paso         5 1996-04-01   \n",
       "\n",
       "      value  \n",
       "0  334200.0  \n",
       "1  235700.0  \n",
       "2  210400.0  \n",
       "3  498100.0  \n",
       "4   77300.0  "
      ]
     },
     "execution_count": 19,
     "metadata": {},
     "output_type": "execute_result"
    }
   ],
   "source": [
    "df_melt.head()"
   ]
  },
  {
   "cell_type": "markdown",
   "metadata": {},
   "source": [
    "Dataframe is sorted by SizeRank by default."
   ]
  },
  {
   "cell_type": "code",
   "execution_count": 20,
   "metadata": {},
   "outputs": [
    {
     "data": {
      "text/plain": [
       "Zip                0\n",
       "City               0\n",
       "State              0\n",
       "Metro         236023\n",
       "CountyName         0\n",
       "SizeRank           0\n",
       "time               0\n",
       "value              0\n",
       "dtype: int64"
      ]
     },
     "execution_count": 20,
     "metadata": {},
     "output_type": "execute_result"
    }
   ],
   "source": [
    "df_melt.isna().sum()"
   ]
  },
  {
   "cell_type": "code",
   "execution_count": 21,
   "metadata": {
    "scrolled": true
   },
   "outputs": [
    {
     "data": {
      "text/plain": [
       "Zip           0\n",
       "City          0\n",
       "State         0\n",
       "Metro         0\n",
       "CountyName    0\n",
       "SizeRank      0\n",
       "time          0\n",
       "value         0\n",
       "dtype: int64"
      ]
     },
     "execution_count": 21,
     "metadata": {},
     "output_type": "execute_result"
    }
   ],
   "source": [
    "df_melt['Metro'].fillna('Missing', inplace=True)\n",
    "df_melt.isna().sum()"
   ]
  },
  {
   "cell_type": "code",
   "execution_count": 22,
   "metadata": {},
   "outputs": [
    {
     "data": {
      "text/html": [
       "<div>\n",
       "<style scoped>\n",
       "    .dataframe tbody tr th:only-of-type {\n",
       "        vertical-align: middle;\n",
       "    }\n",
       "\n",
       "    .dataframe tbody tr th {\n",
       "        vertical-align: top;\n",
       "    }\n",
       "\n",
       "    .dataframe thead th {\n",
       "        text-align: right;\n",
       "    }\n",
       "</style>\n",
       "<table border=\"1\" class=\"dataframe\">\n",
       "  <thead>\n",
       "    <tr style=\"text-align: right;\">\n",
       "      <th></th>\n",
       "      <th>Zip</th>\n",
       "      <th>City</th>\n",
       "      <th>State</th>\n",
       "      <th>Metro</th>\n",
       "      <th>CountyName</th>\n",
       "      <th>SizeRank</th>\n",
       "      <th>time</th>\n",
       "      <th>value</th>\n",
       "    </tr>\n",
       "  </thead>\n",
       "  <tbody>\n",
       "    <tr>\n",
       "      <td>5850</td>\n",
       "      <td>01001</td>\n",
       "      <td>Agawam</td>\n",
       "      <td>MA</td>\n",
       "      <td>Springfield</td>\n",
       "      <td>Hampden</td>\n",
       "      <td>5851</td>\n",
       "      <td>1996-04-01</td>\n",
       "      <td>113100.0</td>\n",
       "    </tr>\n",
       "    <tr>\n",
       "      <td>20573</td>\n",
       "      <td>01001</td>\n",
       "      <td>Agawam</td>\n",
       "      <td>MA</td>\n",
       "      <td>Springfield</td>\n",
       "      <td>Hampden</td>\n",
       "      <td>5851</td>\n",
       "      <td>1996-05-01</td>\n",
       "      <td>112800.0</td>\n",
       "    </tr>\n",
       "    <tr>\n",
       "      <td>35296</td>\n",
       "      <td>01001</td>\n",
       "      <td>Agawam</td>\n",
       "      <td>MA</td>\n",
       "      <td>Springfield</td>\n",
       "      <td>Hampden</td>\n",
       "      <td>5851</td>\n",
       "      <td>1996-06-01</td>\n",
       "      <td>112600.0</td>\n",
       "    </tr>\n",
       "    <tr>\n",
       "      <td>50019</td>\n",
       "      <td>01001</td>\n",
       "      <td>Agawam</td>\n",
       "      <td>MA</td>\n",
       "      <td>Springfield</td>\n",
       "      <td>Hampden</td>\n",
       "      <td>5851</td>\n",
       "      <td>1996-07-01</td>\n",
       "      <td>112300.0</td>\n",
       "    </tr>\n",
       "    <tr>\n",
       "      <td>64742</td>\n",
       "      <td>01001</td>\n",
       "      <td>Agawam</td>\n",
       "      <td>MA</td>\n",
       "      <td>Springfield</td>\n",
       "      <td>Hampden</td>\n",
       "      <td>5851</td>\n",
       "      <td>1996-08-01</td>\n",
       "      <td>112100.0</td>\n",
       "    </tr>\n",
       "    <tr>\n",
       "      <td>...</td>\n",
       "      <td>...</td>\n",
       "      <td>...</td>\n",
       "      <td>...</td>\n",
       "      <td>...</td>\n",
       "      <td>...</td>\n",
       "      <td>...</td>\n",
       "      <td>...</td>\n",
       "      <td>...</td>\n",
       "    </tr>\n",
       "    <tr>\n",
       "      <td>3835273</td>\n",
       "      <td>99901</td>\n",
       "      <td>Ketchikan</td>\n",
       "      <td>AK</td>\n",
       "      <td>Ketchikan</td>\n",
       "      <td>Ketchikan Gateway</td>\n",
       "      <td>7294</td>\n",
       "      <td>2017-12-01</td>\n",
       "      <td>291900.0</td>\n",
       "    </tr>\n",
       "    <tr>\n",
       "      <td>3849996</td>\n",
       "      <td>99901</td>\n",
       "      <td>Ketchikan</td>\n",
       "      <td>AK</td>\n",
       "      <td>Ketchikan</td>\n",
       "      <td>Ketchikan Gateway</td>\n",
       "      <td>7294</td>\n",
       "      <td>2018-01-01</td>\n",
       "      <td>294200.0</td>\n",
       "    </tr>\n",
       "    <tr>\n",
       "      <td>3864719</td>\n",
       "      <td>99901</td>\n",
       "      <td>Ketchikan</td>\n",
       "      <td>AK</td>\n",
       "      <td>Ketchikan</td>\n",
       "      <td>Ketchikan Gateway</td>\n",
       "      <td>7294</td>\n",
       "      <td>2018-02-01</td>\n",
       "      <td>297500.0</td>\n",
       "    </tr>\n",
       "    <tr>\n",
       "      <td>3879442</td>\n",
       "      <td>99901</td>\n",
       "      <td>Ketchikan</td>\n",
       "      <td>AK</td>\n",
       "      <td>Ketchikan</td>\n",
       "      <td>Ketchikan Gateway</td>\n",
       "      <td>7294</td>\n",
       "      <td>2018-03-01</td>\n",
       "      <td>302100.0</td>\n",
       "    </tr>\n",
       "    <tr>\n",
       "      <td>3894165</td>\n",
       "      <td>99901</td>\n",
       "      <td>Ketchikan</td>\n",
       "      <td>AK</td>\n",
       "      <td>Ketchikan</td>\n",
       "      <td>Ketchikan Gateway</td>\n",
       "      <td>7294</td>\n",
       "      <td>2018-04-01</td>\n",
       "      <td>305100.0</td>\n",
       "    </tr>\n",
       "  </tbody>\n",
       "</table>\n",
       "<p>3744704 rows × 8 columns</p>\n",
       "</div>"
      ],
      "text/plain": [
       "           Zip       City State        Metro         CountyName  SizeRank  \\\n",
       "5850     01001     Agawam    MA  Springfield            Hampden      5851   \n",
       "20573    01001     Agawam    MA  Springfield            Hampden      5851   \n",
       "35296    01001     Agawam    MA  Springfield            Hampden      5851   \n",
       "50019    01001     Agawam    MA  Springfield            Hampden      5851   \n",
       "64742    01001     Agawam    MA  Springfield            Hampden      5851   \n",
       "...        ...        ...   ...          ...                ...       ...   \n",
       "3835273  99901  Ketchikan    AK    Ketchikan  Ketchikan Gateway      7294   \n",
       "3849996  99901  Ketchikan    AK    Ketchikan  Ketchikan Gateway      7294   \n",
       "3864719  99901  Ketchikan    AK    Ketchikan  Ketchikan Gateway      7294   \n",
       "3879442  99901  Ketchikan    AK    Ketchikan  Ketchikan Gateway      7294   \n",
       "3894165  99901  Ketchikan    AK    Ketchikan  Ketchikan Gateway      7294   \n",
       "\n",
       "              time     value  \n",
       "5850    1996-04-01  113100.0  \n",
       "20573   1996-05-01  112800.0  \n",
       "35296   1996-06-01  112600.0  \n",
       "50019   1996-07-01  112300.0  \n",
       "64742   1996-08-01  112100.0  \n",
       "...            ...       ...  \n",
       "3835273 2017-12-01  291900.0  \n",
       "3849996 2018-01-01  294200.0  \n",
       "3864719 2018-02-01  297500.0  \n",
       "3879442 2018-03-01  302100.0  \n",
       "3894165 2018-04-01  305100.0  \n",
       "\n",
       "[3744704 rows x 8 columns]"
      ]
     },
     "execution_count": 22,
     "metadata": {},
     "output_type": "execute_result"
    }
   ],
   "source": [
    "# Sorting by zip code, then time\n",
    "\n",
    "df_melt.sort_values(by=['Zip', 'time'])"
   ]
  },
  {
   "cell_type": "markdown",
   "metadata": {},
   "source": [
    "Note that a few zip codes are missing; these rows were eliminated when Zip codes with NaN values in the 'value' column were dropped."
   ]
  },
  {
   "cell_type": "code",
   "execution_count": 23,
   "metadata": {
    "scrolled": true
   },
   "outputs": [
    {
     "data": {
      "text/plain": [
       "Zip           14723\n",
       "City           7554\n",
       "State            51\n",
       "Metro           702\n",
       "CountyName     1212\n",
       "SizeRank      14723\n",
       "time            265\n",
       "value         24372\n",
       "dtype: int64"
      ]
     },
     "execution_count": 23,
     "metadata": {},
     "output_type": "execute_result"
    }
   ],
   "source": [
    "df_melt.nunique()"
   ]
  },
  {
   "cell_type": "markdown",
   "metadata": {},
   "source": [
    "### Creating new column, MetroState, to address duplicate metro names in different states (e.g., Aberdeen in multiple states)\n",
    "\n",
    "Wanted to make sure that the values from totally unrelated metro areas in different states weren't inadvertently merged together."
   ]
  },
  {
   "cell_type": "code",
   "execution_count": 24,
   "metadata": {},
   "outputs": [],
   "source": [
    "df_melt['MetroState'] = df_melt['Metro'] + ' ' + df_melt['State']"
   ]
  },
  {
   "cell_type": "code",
   "execution_count": 25,
   "metadata": {
    "scrolled": true
   },
   "outputs": [
    {
     "data": {
      "text/html": [
       "<div>\n",
       "<style scoped>\n",
       "    .dataframe tbody tr th:only-of-type {\n",
       "        vertical-align: middle;\n",
       "    }\n",
       "\n",
       "    .dataframe tbody tr th {\n",
       "        vertical-align: top;\n",
       "    }\n",
       "\n",
       "    .dataframe thead th {\n",
       "        text-align: right;\n",
       "    }\n",
       "</style>\n",
       "<table border=\"1\" class=\"dataframe\">\n",
       "  <thead>\n",
       "    <tr style=\"text-align: right;\">\n",
       "      <th></th>\n",
       "      <th>Zip</th>\n",
       "      <th>City</th>\n",
       "      <th>State</th>\n",
       "      <th>Metro</th>\n",
       "      <th>CountyName</th>\n",
       "      <th>SizeRank</th>\n",
       "      <th>time</th>\n",
       "      <th>value</th>\n",
       "      <th>MetroState</th>\n",
       "    </tr>\n",
       "  </thead>\n",
       "  <tbody>\n",
       "    <tr>\n",
       "      <td>0</td>\n",
       "      <td>60657</td>\n",
       "      <td>Chicago</td>\n",
       "      <td>IL</td>\n",
       "      <td>Chicago</td>\n",
       "      <td>Cook</td>\n",
       "      <td>1</td>\n",
       "      <td>1996-04-01</td>\n",
       "      <td>334200.0</td>\n",
       "      <td>Chicago IL</td>\n",
       "    </tr>\n",
       "    <tr>\n",
       "      <td>1</td>\n",
       "      <td>75070</td>\n",
       "      <td>McKinney</td>\n",
       "      <td>TX</td>\n",
       "      <td>Dallas-Fort Worth</td>\n",
       "      <td>Collin</td>\n",
       "      <td>2</td>\n",
       "      <td>1996-04-01</td>\n",
       "      <td>235700.0</td>\n",
       "      <td>Dallas-Fort Worth TX</td>\n",
       "    </tr>\n",
       "    <tr>\n",
       "      <td>2</td>\n",
       "      <td>77494</td>\n",
       "      <td>Katy</td>\n",
       "      <td>TX</td>\n",
       "      <td>Houston</td>\n",
       "      <td>Harris</td>\n",
       "      <td>3</td>\n",
       "      <td>1996-04-01</td>\n",
       "      <td>210400.0</td>\n",
       "      <td>Houston TX</td>\n",
       "    </tr>\n",
       "    <tr>\n",
       "      <td>3</td>\n",
       "      <td>60614</td>\n",
       "      <td>Chicago</td>\n",
       "      <td>IL</td>\n",
       "      <td>Chicago</td>\n",
       "      <td>Cook</td>\n",
       "      <td>4</td>\n",
       "      <td>1996-04-01</td>\n",
       "      <td>498100.0</td>\n",
       "      <td>Chicago IL</td>\n",
       "    </tr>\n",
       "    <tr>\n",
       "      <td>4</td>\n",
       "      <td>79936</td>\n",
       "      <td>El Paso</td>\n",
       "      <td>TX</td>\n",
       "      <td>El Paso</td>\n",
       "      <td>El Paso</td>\n",
       "      <td>5</td>\n",
       "      <td>1996-04-01</td>\n",
       "      <td>77300.0</td>\n",
       "      <td>El Paso TX</td>\n",
       "    </tr>\n",
       "  </tbody>\n",
       "</table>\n",
       "</div>"
      ],
      "text/plain": [
       "     Zip      City State              Metro CountyName  SizeRank       time  \\\n",
       "0  60657   Chicago    IL            Chicago       Cook         1 1996-04-01   \n",
       "1  75070  McKinney    TX  Dallas-Fort Worth     Collin         2 1996-04-01   \n",
       "2  77494      Katy    TX            Houston     Harris         3 1996-04-01   \n",
       "3  60614   Chicago    IL            Chicago       Cook         4 1996-04-01   \n",
       "4  79936   El Paso    TX            El Paso    El Paso         5 1996-04-01   \n",
       "\n",
       "      value            MetroState  \n",
       "0  334200.0            Chicago IL  \n",
       "1  235700.0  Dallas-Fort Worth TX  \n",
       "2  210400.0            Houston TX  \n",
       "3  498100.0            Chicago IL  \n",
       "4   77300.0            El Paso TX  "
      ]
     },
     "execution_count": 25,
     "metadata": {},
     "output_type": "execute_result"
    }
   ],
   "source": [
    "df_melt.head()"
   ]
  },
  {
   "cell_type": "markdown",
   "metadata": {},
   "source": [
    "### Creating df_metro (US metro df) with monthly values by Zip"
   ]
  },
  {
   "cell_type": "code",
   "execution_count": 26,
   "metadata": {},
   "outputs": [],
   "source": [
    "df_melt.set_index('time', inplace=True)"
   ]
  },
  {
   "cell_type": "code",
   "execution_count": 27,
   "metadata": {
    "scrolled": true
   },
   "outputs": [
    {
     "data": {
      "text/html": [
       "<div>\n",
       "<style scoped>\n",
       "    .dataframe tbody tr th:only-of-type {\n",
       "        vertical-align: middle;\n",
       "    }\n",
       "\n",
       "    .dataframe tbody tr th {\n",
       "        vertical-align: top;\n",
       "    }\n",
       "\n",
       "    .dataframe thead th {\n",
       "        text-align: right;\n",
       "    }\n",
       "</style>\n",
       "<table border=\"1\" class=\"dataframe\">\n",
       "  <thead>\n",
       "    <tr style=\"text-align: right;\">\n",
       "      <th></th>\n",
       "      <th>Zip</th>\n",
       "      <th>City</th>\n",
       "      <th>State</th>\n",
       "      <th>Metro</th>\n",
       "      <th>CountyName</th>\n",
       "      <th>SizeRank</th>\n",
       "      <th>value</th>\n",
       "      <th>MetroState</th>\n",
       "    </tr>\n",
       "    <tr>\n",
       "      <th>time</th>\n",
       "      <th></th>\n",
       "      <th></th>\n",
       "      <th></th>\n",
       "      <th></th>\n",
       "      <th></th>\n",
       "      <th></th>\n",
       "      <th></th>\n",
       "      <th></th>\n",
       "    </tr>\n",
       "  </thead>\n",
       "  <tbody>\n",
       "    <tr>\n",
       "      <td>1996-04-01</td>\n",
       "      <td>60657</td>\n",
       "      <td>Chicago</td>\n",
       "      <td>IL</td>\n",
       "      <td>Chicago</td>\n",
       "      <td>Cook</td>\n",
       "      <td>1</td>\n",
       "      <td>334200.0</td>\n",
       "      <td>Chicago IL</td>\n",
       "    </tr>\n",
       "    <tr>\n",
       "      <td>1996-04-01</td>\n",
       "      <td>75070</td>\n",
       "      <td>McKinney</td>\n",
       "      <td>TX</td>\n",
       "      <td>Dallas-Fort Worth</td>\n",
       "      <td>Collin</td>\n",
       "      <td>2</td>\n",
       "      <td>235700.0</td>\n",
       "      <td>Dallas-Fort Worth TX</td>\n",
       "    </tr>\n",
       "    <tr>\n",
       "      <td>1996-04-01</td>\n",
       "      <td>77494</td>\n",
       "      <td>Katy</td>\n",
       "      <td>TX</td>\n",
       "      <td>Houston</td>\n",
       "      <td>Harris</td>\n",
       "      <td>3</td>\n",
       "      <td>210400.0</td>\n",
       "      <td>Houston TX</td>\n",
       "    </tr>\n",
       "    <tr>\n",
       "      <td>1996-04-01</td>\n",
       "      <td>60614</td>\n",
       "      <td>Chicago</td>\n",
       "      <td>IL</td>\n",
       "      <td>Chicago</td>\n",
       "      <td>Cook</td>\n",
       "      <td>4</td>\n",
       "      <td>498100.0</td>\n",
       "      <td>Chicago IL</td>\n",
       "    </tr>\n",
       "    <tr>\n",
       "      <td>1996-04-01</td>\n",
       "      <td>79936</td>\n",
       "      <td>El Paso</td>\n",
       "      <td>TX</td>\n",
       "      <td>El Paso</td>\n",
       "      <td>El Paso</td>\n",
       "      <td>5</td>\n",
       "      <td>77300.0</td>\n",
       "      <td>El Paso TX</td>\n",
       "    </tr>\n",
       "  </tbody>\n",
       "</table>\n",
       "</div>"
      ],
      "text/plain": [
       "              Zip      City State              Metro CountyName  SizeRank  \\\n",
       "time                                                                        \n",
       "1996-04-01  60657   Chicago    IL            Chicago       Cook         1   \n",
       "1996-04-01  75070  McKinney    TX  Dallas-Fort Worth     Collin         2   \n",
       "1996-04-01  77494      Katy    TX            Houston     Harris         3   \n",
       "1996-04-01  60614   Chicago    IL            Chicago       Cook         4   \n",
       "1996-04-01  79936   El Paso    TX            El Paso    El Paso         5   \n",
       "\n",
       "               value            MetroState  \n",
       "time                                        \n",
       "1996-04-01  334200.0            Chicago IL  \n",
       "1996-04-01  235700.0  Dallas-Fort Worth TX  \n",
       "1996-04-01  210400.0            Houston TX  \n",
       "1996-04-01  498100.0            Chicago IL  \n",
       "1996-04-01   77300.0            El Paso TX  "
      ]
     },
     "execution_count": 27,
     "metadata": {},
     "output_type": "execute_result"
    }
   ],
   "source": [
    "df_melt.head()"
   ]
  },
  {
   "cell_type": "markdown",
   "metadata": {},
   "source": [
    "Note:  the dataframe is sorted by zipcode SizeRank by default.  "
   ]
  },
  {
   "cell_type": "code",
   "execution_count": 28,
   "metadata": {},
   "outputs": [],
   "source": [
    "df_metro = df_melt.groupby(['Metro', 'MetroState', 'CountyName', 'City', 'Zip', 'time']).mean().reset_index()\n"
   ]
  },
  {
   "cell_type": "code",
   "execution_count": 29,
   "metadata": {
    "scrolled": true
   },
   "outputs": [
    {
     "data": {
      "text/html": [
       "<div>\n",
       "<style scoped>\n",
       "    .dataframe tbody tr th:only-of-type {\n",
       "        vertical-align: middle;\n",
       "    }\n",
       "\n",
       "    .dataframe tbody tr th {\n",
       "        vertical-align: top;\n",
       "    }\n",
       "\n",
       "    .dataframe thead th {\n",
       "        text-align: right;\n",
       "    }\n",
       "</style>\n",
       "<table border=\"1\" class=\"dataframe\">\n",
       "  <thead>\n",
       "    <tr style=\"text-align: right;\">\n",
       "      <th></th>\n",
       "      <th>Metro</th>\n",
       "      <th>MetroState</th>\n",
       "      <th>CountyName</th>\n",
       "      <th>City</th>\n",
       "      <th>Zip</th>\n",
       "      <th>time</th>\n",
       "      <th>SizeRank</th>\n",
       "      <th>value</th>\n",
       "    </tr>\n",
       "  </thead>\n",
       "  <tbody>\n",
       "    <tr>\n",
       "      <td>0</td>\n",
       "      <td>Aberdeen</td>\n",
       "      <td>Aberdeen WA</td>\n",
       "      <td>Grays Harbor</td>\n",
       "      <td>Aberdeen</td>\n",
       "      <td>98520</td>\n",
       "      <td>1996-04-01</td>\n",
       "      <td>5029</td>\n",
       "      <td>86600.0</td>\n",
       "    </tr>\n",
       "    <tr>\n",
       "      <td>1</td>\n",
       "      <td>Aberdeen</td>\n",
       "      <td>Aberdeen WA</td>\n",
       "      <td>Grays Harbor</td>\n",
       "      <td>Aberdeen</td>\n",
       "      <td>98520</td>\n",
       "      <td>1996-05-01</td>\n",
       "      <td>5029</td>\n",
       "      <td>86300.0</td>\n",
       "    </tr>\n",
       "    <tr>\n",
       "      <td>2</td>\n",
       "      <td>Aberdeen</td>\n",
       "      <td>Aberdeen WA</td>\n",
       "      <td>Grays Harbor</td>\n",
       "      <td>Aberdeen</td>\n",
       "      <td>98520</td>\n",
       "      <td>1996-06-01</td>\n",
       "      <td>5029</td>\n",
       "      <td>86100.0</td>\n",
       "    </tr>\n",
       "    <tr>\n",
       "      <td>3</td>\n",
       "      <td>Aberdeen</td>\n",
       "      <td>Aberdeen WA</td>\n",
       "      <td>Grays Harbor</td>\n",
       "      <td>Aberdeen</td>\n",
       "      <td>98520</td>\n",
       "      <td>1996-07-01</td>\n",
       "      <td>5029</td>\n",
       "      <td>85900.0</td>\n",
       "    </tr>\n",
       "    <tr>\n",
       "      <td>4</td>\n",
       "      <td>Aberdeen</td>\n",
       "      <td>Aberdeen WA</td>\n",
       "      <td>Grays Harbor</td>\n",
       "      <td>Aberdeen</td>\n",
       "      <td>98520</td>\n",
       "      <td>1996-08-01</td>\n",
       "      <td>5029</td>\n",
       "      <td>85700.0</td>\n",
       "    </tr>\n",
       "    <tr>\n",
       "      <td>5</td>\n",
       "      <td>Aberdeen</td>\n",
       "      <td>Aberdeen WA</td>\n",
       "      <td>Grays Harbor</td>\n",
       "      <td>Aberdeen</td>\n",
       "      <td>98520</td>\n",
       "      <td>1996-09-01</td>\n",
       "      <td>5029</td>\n",
       "      <td>85600.0</td>\n",
       "    </tr>\n",
       "    <tr>\n",
       "      <td>6</td>\n",
       "      <td>Aberdeen</td>\n",
       "      <td>Aberdeen WA</td>\n",
       "      <td>Grays Harbor</td>\n",
       "      <td>Aberdeen</td>\n",
       "      <td>98520</td>\n",
       "      <td>1996-10-01</td>\n",
       "      <td>5029</td>\n",
       "      <td>85600.0</td>\n",
       "    </tr>\n",
       "    <tr>\n",
       "      <td>7</td>\n",
       "      <td>Aberdeen</td>\n",
       "      <td>Aberdeen WA</td>\n",
       "      <td>Grays Harbor</td>\n",
       "      <td>Aberdeen</td>\n",
       "      <td>98520</td>\n",
       "      <td>1996-11-01</td>\n",
       "      <td>5029</td>\n",
       "      <td>85700.0</td>\n",
       "    </tr>\n",
       "    <tr>\n",
       "      <td>8</td>\n",
       "      <td>Aberdeen</td>\n",
       "      <td>Aberdeen WA</td>\n",
       "      <td>Grays Harbor</td>\n",
       "      <td>Aberdeen</td>\n",
       "      <td>98520</td>\n",
       "      <td>1996-12-01</td>\n",
       "      <td>5029</td>\n",
       "      <td>85800.0</td>\n",
       "    </tr>\n",
       "    <tr>\n",
       "      <td>9</td>\n",
       "      <td>Aberdeen</td>\n",
       "      <td>Aberdeen WA</td>\n",
       "      <td>Grays Harbor</td>\n",
       "      <td>Aberdeen</td>\n",
       "      <td>98520</td>\n",
       "      <td>1997-01-01</td>\n",
       "      <td>5029</td>\n",
       "      <td>85900.0</td>\n",
       "    </tr>\n",
       "  </tbody>\n",
       "</table>\n",
       "</div>"
      ],
      "text/plain": [
       "      Metro   MetroState    CountyName      City    Zip       time  SizeRank  \\\n",
       "0  Aberdeen  Aberdeen WA  Grays Harbor  Aberdeen  98520 1996-04-01      5029   \n",
       "1  Aberdeen  Aberdeen WA  Grays Harbor  Aberdeen  98520 1996-05-01      5029   \n",
       "2  Aberdeen  Aberdeen WA  Grays Harbor  Aberdeen  98520 1996-06-01      5029   \n",
       "3  Aberdeen  Aberdeen WA  Grays Harbor  Aberdeen  98520 1996-07-01      5029   \n",
       "4  Aberdeen  Aberdeen WA  Grays Harbor  Aberdeen  98520 1996-08-01      5029   \n",
       "5  Aberdeen  Aberdeen WA  Grays Harbor  Aberdeen  98520 1996-09-01      5029   \n",
       "6  Aberdeen  Aberdeen WA  Grays Harbor  Aberdeen  98520 1996-10-01      5029   \n",
       "7  Aberdeen  Aberdeen WA  Grays Harbor  Aberdeen  98520 1996-11-01      5029   \n",
       "8  Aberdeen  Aberdeen WA  Grays Harbor  Aberdeen  98520 1996-12-01      5029   \n",
       "9  Aberdeen  Aberdeen WA  Grays Harbor  Aberdeen  98520 1997-01-01      5029   \n",
       "\n",
       "     value  \n",
       "0  86600.0  \n",
       "1  86300.0  \n",
       "2  86100.0  \n",
       "3  85900.0  \n",
       "4  85700.0  \n",
       "5  85600.0  \n",
       "6  85600.0  \n",
       "7  85700.0  \n",
       "8  85800.0  \n",
       "9  85900.0  "
      ]
     },
     "execution_count": 29,
     "metadata": {},
     "output_type": "execute_result"
    }
   ],
   "source": [
    "df_metro.head(10)"
   ]
  },
  {
   "cell_type": "code",
   "execution_count": 30,
   "metadata": {},
   "outputs": [
    {
     "name": "stdout",
     "output_type": "stream",
     "text": [
      "<class 'pandas.core.frame.DataFrame'>\n",
      "RangeIndex: 3744704 entries, 0 to 3744703\n",
      "Data columns (total 8 columns):\n",
      "Metro         object\n",
      "MetroState    object\n",
      "CountyName    object\n",
      "City          object\n",
      "Zip           object\n",
      "time          datetime64[ns]\n",
      "SizeRank      int64\n",
      "value         float64\n",
      "dtypes: datetime64[ns](1), float64(1), int64(1), object(5)\n",
      "memory usage: 228.6+ MB\n"
     ]
    }
   ],
   "source": [
    "df_metro.info()"
   ]
  },
  {
   "cell_type": "code",
   "execution_count": 31,
   "metadata": {},
   "outputs": [],
   "source": [
    "df_metro.set_index('time', inplace=True)"
   ]
  },
  {
   "cell_type": "code",
   "execution_count": 32,
   "metadata": {},
   "outputs": [
    {
     "data": {
      "text/html": [
       "<div>\n",
       "<style scoped>\n",
       "    .dataframe tbody tr th:only-of-type {\n",
       "        vertical-align: middle;\n",
       "    }\n",
       "\n",
       "    .dataframe tbody tr th {\n",
       "        vertical-align: top;\n",
       "    }\n",
       "\n",
       "    .dataframe thead th {\n",
       "        text-align: right;\n",
       "    }\n",
       "</style>\n",
       "<table border=\"1\" class=\"dataframe\">\n",
       "  <thead>\n",
       "    <tr style=\"text-align: right;\">\n",
       "      <th></th>\n",
       "      <th>Metro</th>\n",
       "      <th>MetroState</th>\n",
       "      <th>CountyName</th>\n",
       "      <th>City</th>\n",
       "      <th>Zip</th>\n",
       "      <th>SizeRank</th>\n",
       "      <th>value</th>\n",
       "    </tr>\n",
       "    <tr>\n",
       "      <th>time</th>\n",
       "      <th></th>\n",
       "      <th></th>\n",
       "      <th></th>\n",
       "      <th></th>\n",
       "      <th></th>\n",
       "      <th></th>\n",
       "      <th></th>\n",
       "    </tr>\n",
       "  </thead>\n",
       "  <tbody>\n",
       "    <tr>\n",
       "      <td>1996-04-01</td>\n",
       "      <td>Aberdeen</td>\n",
       "      <td>Aberdeen WA</td>\n",
       "      <td>Grays Harbor</td>\n",
       "      <td>Aberdeen</td>\n",
       "      <td>98520</td>\n",
       "      <td>5029</td>\n",
       "      <td>86600.0</td>\n",
       "    </tr>\n",
       "    <tr>\n",
       "      <td>1996-05-01</td>\n",
       "      <td>Aberdeen</td>\n",
       "      <td>Aberdeen WA</td>\n",
       "      <td>Grays Harbor</td>\n",
       "      <td>Aberdeen</td>\n",
       "      <td>98520</td>\n",
       "      <td>5029</td>\n",
       "      <td>86300.0</td>\n",
       "    </tr>\n",
       "    <tr>\n",
       "      <td>1996-06-01</td>\n",
       "      <td>Aberdeen</td>\n",
       "      <td>Aberdeen WA</td>\n",
       "      <td>Grays Harbor</td>\n",
       "      <td>Aberdeen</td>\n",
       "      <td>98520</td>\n",
       "      <td>5029</td>\n",
       "      <td>86100.0</td>\n",
       "    </tr>\n",
       "    <tr>\n",
       "      <td>1996-07-01</td>\n",
       "      <td>Aberdeen</td>\n",
       "      <td>Aberdeen WA</td>\n",
       "      <td>Grays Harbor</td>\n",
       "      <td>Aberdeen</td>\n",
       "      <td>98520</td>\n",
       "      <td>5029</td>\n",
       "      <td>85900.0</td>\n",
       "    </tr>\n",
       "    <tr>\n",
       "      <td>1996-08-01</td>\n",
       "      <td>Aberdeen</td>\n",
       "      <td>Aberdeen WA</td>\n",
       "      <td>Grays Harbor</td>\n",
       "      <td>Aberdeen</td>\n",
       "      <td>98520</td>\n",
       "      <td>5029</td>\n",
       "      <td>85700.0</td>\n",
       "    </tr>\n",
       "  </tbody>\n",
       "</table>\n",
       "</div>"
      ],
      "text/plain": [
       "               Metro   MetroState    CountyName      City    Zip  SizeRank  \\\n",
       "time                                                                         \n",
       "1996-04-01  Aberdeen  Aberdeen WA  Grays Harbor  Aberdeen  98520      5029   \n",
       "1996-05-01  Aberdeen  Aberdeen WA  Grays Harbor  Aberdeen  98520      5029   \n",
       "1996-06-01  Aberdeen  Aberdeen WA  Grays Harbor  Aberdeen  98520      5029   \n",
       "1996-07-01  Aberdeen  Aberdeen WA  Grays Harbor  Aberdeen  98520      5029   \n",
       "1996-08-01  Aberdeen  Aberdeen WA  Grays Harbor  Aberdeen  98520      5029   \n",
       "\n",
       "              value  \n",
       "time                 \n",
       "1996-04-01  86600.0  \n",
       "1996-05-01  86300.0  \n",
       "1996-06-01  86100.0  \n",
       "1996-07-01  85900.0  \n",
       "1996-08-01  85700.0  "
      ]
     },
     "execution_count": 32,
     "metadata": {},
     "output_type": "execute_result"
    }
   ],
   "source": [
    "df_metro.head()"
   ]
  },
  {
   "cell_type": "code",
   "execution_count": 33,
   "metadata": {
    "scrolled": false
   },
   "outputs": [
    {
     "data": {
      "text/plain": [
       "Metro           702\n",
       "MetroState      865\n",
       "CountyName     1212\n",
       "City           7554\n",
       "Zip           14723\n",
       "SizeRank      14723\n",
       "value         24372\n",
       "dtype: int64"
      ]
     },
     "execution_count": 33,
     "metadata": {},
     "output_type": "execute_result"
    }
   ],
   "source": [
    "df_metro.nunique()"
   ]
  },
  {
   "cell_type": "markdown",
   "metadata": {},
   "source": [
    "### Creating df_metro_cities (US Metros df with *City* mean values)"
   ]
  },
  {
   "cell_type": "code",
   "execution_count": 34,
   "metadata": {},
   "outputs": [],
   "source": [
    "df_metro_cities = df_metro.groupby(['MetroState', 'CountyName', 'City', 'time']).mean().reset_index()"
   ]
  },
  {
   "cell_type": "code",
   "execution_count": 35,
   "metadata": {
    "scrolled": false
   },
   "outputs": [
    {
     "data": {
      "text/html": [
       "<div>\n",
       "<style scoped>\n",
       "    .dataframe tbody tr th:only-of-type {\n",
       "        vertical-align: middle;\n",
       "    }\n",
       "\n",
       "    .dataframe tbody tr th {\n",
       "        vertical-align: top;\n",
       "    }\n",
       "\n",
       "    .dataframe thead th {\n",
       "        text-align: right;\n",
       "    }\n",
       "</style>\n",
       "<table border=\"1\" class=\"dataframe\">\n",
       "  <thead>\n",
       "    <tr style=\"text-align: right;\">\n",
       "      <th></th>\n",
       "      <th>MetroState</th>\n",
       "      <th>CountyName</th>\n",
       "      <th>City</th>\n",
       "      <th>time</th>\n",
       "      <th>SizeRank</th>\n",
       "      <th>value</th>\n",
       "    </tr>\n",
       "  </thead>\n",
       "  <tbody>\n",
       "    <tr>\n",
       "      <td>0</td>\n",
       "      <td>Aberdeen WA</td>\n",
       "      <td>Grays Harbor</td>\n",
       "      <td>Aberdeen</td>\n",
       "      <td>1996-04-01</td>\n",
       "      <td>5029.0</td>\n",
       "      <td>86600.0</td>\n",
       "    </tr>\n",
       "    <tr>\n",
       "      <td>1</td>\n",
       "      <td>Aberdeen WA</td>\n",
       "      <td>Grays Harbor</td>\n",
       "      <td>Aberdeen</td>\n",
       "      <td>1996-05-01</td>\n",
       "      <td>5029.0</td>\n",
       "      <td>86300.0</td>\n",
       "    </tr>\n",
       "    <tr>\n",
       "      <td>2</td>\n",
       "      <td>Aberdeen WA</td>\n",
       "      <td>Grays Harbor</td>\n",
       "      <td>Aberdeen</td>\n",
       "      <td>1996-06-01</td>\n",
       "      <td>5029.0</td>\n",
       "      <td>86100.0</td>\n",
       "    </tr>\n",
       "    <tr>\n",
       "      <td>3</td>\n",
       "      <td>Aberdeen WA</td>\n",
       "      <td>Grays Harbor</td>\n",
       "      <td>Aberdeen</td>\n",
       "      <td>1996-07-01</td>\n",
       "      <td>5029.0</td>\n",
       "      <td>85900.0</td>\n",
       "    </tr>\n",
       "    <tr>\n",
       "      <td>4</td>\n",
       "      <td>Aberdeen WA</td>\n",
       "      <td>Grays Harbor</td>\n",
       "      <td>Aberdeen</td>\n",
       "      <td>1996-08-01</td>\n",
       "      <td>5029.0</td>\n",
       "      <td>85700.0</td>\n",
       "    </tr>\n",
       "    <tr>\n",
       "      <td>5</td>\n",
       "      <td>Aberdeen WA</td>\n",
       "      <td>Grays Harbor</td>\n",
       "      <td>Aberdeen</td>\n",
       "      <td>1996-09-01</td>\n",
       "      <td>5029.0</td>\n",
       "      <td>85600.0</td>\n",
       "    </tr>\n",
       "    <tr>\n",
       "      <td>6</td>\n",
       "      <td>Aberdeen WA</td>\n",
       "      <td>Grays Harbor</td>\n",
       "      <td>Aberdeen</td>\n",
       "      <td>1996-10-01</td>\n",
       "      <td>5029.0</td>\n",
       "      <td>85600.0</td>\n",
       "    </tr>\n",
       "    <tr>\n",
       "      <td>7</td>\n",
       "      <td>Aberdeen WA</td>\n",
       "      <td>Grays Harbor</td>\n",
       "      <td>Aberdeen</td>\n",
       "      <td>1996-11-01</td>\n",
       "      <td>5029.0</td>\n",
       "      <td>85700.0</td>\n",
       "    </tr>\n",
       "    <tr>\n",
       "      <td>8</td>\n",
       "      <td>Aberdeen WA</td>\n",
       "      <td>Grays Harbor</td>\n",
       "      <td>Aberdeen</td>\n",
       "      <td>1996-12-01</td>\n",
       "      <td>5029.0</td>\n",
       "      <td>85800.0</td>\n",
       "    </tr>\n",
       "    <tr>\n",
       "      <td>9</td>\n",
       "      <td>Aberdeen WA</td>\n",
       "      <td>Grays Harbor</td>\n",
       "      <td>Aberdeen</td>\n",
       "      <td>1997-01-01</td>\n",
       "      <td>5029.0</td>\n",
       "      <td>85900.0</td>\n",
       "    </tr>\n",
       "  </tbody>\n",
       "</table>\n",
       "</div>"
      ],
      "text/plain": [
       "    MetroState    CountyName      City       time  SizeRank    value\n",
       "0  Aberdeen WA  Grays Harbor  Aberdeen 1996-04-01    5029.0  86600.0\n",
       "1  Aberdeen WA  Grays Harbor  Aberdeen 1996-05-01    5029.0  86300.0\n",
       "2  Aberdeen WA  Grays Harbor  Aberdeen 1996-06-01    5029.0  86100.0\n",
       "3  Aberdeen WA  Grays Harbor  Aberdeen 1996-07-01    5029.0  85900.0\n",
       "4  Aberdeen WA  Grays Harbor  Aberdeen 1996-08-01    5029.0  85700.0\n",
       "5  Aberdeen WA  Grays Harbor  Aberdeen 1996-09-01    5029.0  85600.0\n",
       "6  Aberdeen WA  Grays Harbor  Aberdeen 1996-10-01    5029.0  85600.0\n",
       "7  Aberdeen WA  Grays Harbor  Aberdeen 1996-11-01    5029.0  85700.0\n",
       "8  Aberdeen WA  Grays Harbor  Aberdeen 1996-12-01    5029.0  85800.0\n",
       "9  Aberdeen WA  Grays Harbor  Aberdeen 1997-01-01    5029.0  85900.0"
      ]
     },
     "execution_count": 35,
     "metadata": {},
     "output_type": "execute_result"
    }
   ],
   "source": [
    "df_metro_cities.head(10)"
   ]
  },
  {
   "cell_type": "code",
   "execution_count": 36,
   "metadata": {},
   "outputs": [],
   "source": [
    "df_metro_cities.set_index('time', inplace=True)"
   ]
  },
  {
   "cell_type": "code",
   "execution_count": 37,
   "metadata": {},
   "outputs": [],
   "source": [
    "df_metro_cities.drop('SizeRank', axis=1, inplace=True)"
   ]
  },
  {
   "cell_type": "code",
   "execution_count": 38,
   "metadata": {},
   "outputs": [
    {
     "data": {
      "text/html": [
       "<div>\n",
       "<style scoped>\n",
       "    .dataframe tbody tr th:only-of-type {\n",
       "        vertical-align: middle;\n",
       "    }\n",
       "\n",
       "    .dataframe tbody tr th {\n",
       "        vertical-align: top;\n",
       "    }\n",
       "\n",
       "    .dataframe thead th {\n",
       "        text-align: right;\n",
       "    }\n",
       "</style>\n",
       "<table border=\"1\" class=\"dataframe\">\n",
       "  <thead>\n",
       "    <tr style=\"text-align: right;\">\n",
       "      <th></th>\n",
       "      <th>MetroState</th>\n",
       "      <th>CountyName</th>\n",
       "      <th>City</th>\n",
       "      <th>value</th>\n",
       "    </tr>\n",
       "    <tr>\n",
       "      <th>time</th>\n",
       "      <th></th>\n",
       "      <th></th>\n",
       "      <th></th>\n",
       "      <th></th>\n",
       "    </tr>\n",
       "  </thead>\n",
       "  <tbody>\n",
       "    <tr>\n",
       "      <td>1996-04-01</td>\n",
       "      <td>Aberdeen WA</td>\n",
       "      <td>Grays Harbor</td>\n",
       "      <td>Aberdeen</td>\n",
       "      <td>86600.0</td>\n",
       "    </tr>\n",
       "    <tr>\n",
       "      <td>1996-05-01</td>\n",
       "      <td>Aberdeen WA</td>\n",
       "      <td>Grays Harbor</td>\n",
       "      <td>Aberdeen</td>\n",
       "      <td>86300.0</td>\n",
       "    </tr>\n",
       "    <tr>\n",
       "      <td>1996-06-01</td>\n",
       "      <td>Aberdeen WA</td>\n",
       "      <td>Grays Harbor</td>\n",
       "      <td>Aberdeen</td>\n",
       "      <td>86100.0</td>\n",
       "    </tr>\n",
       "    <tr>\n",
       "      <td>1996-07-01</td>\n",
       "      <td>Aberdeen WA</td>\n",
       "      <td>Grays Harbor</td>\n",
       "      <td>Aberdeen</td>\n",
       "      <td>85900.0</td>\n",
       "    </tr>\n",
       "    <tr>\n",
       "      <td>1996-08-01</td>\n",
       "      <td>Aberdeen WA</td>\n",
       "      <td>Grays Harbor</td>\n",
       "      <td>Aberdeen</td>\n",
       "      <td>85700.0</td>\n",
       "    </tr>\n",
       "  </tbody>\n",
       "</table>\n",
       "</div>"
      ],
      "text/plain": [
       "             MetroState    CountyName      City    value\n",
       "time                                                    \n",
       "1996-04-01  Aberdeen WA  Grays Harbor  Aberdeen  86600.0\n",
       "1996-05-01  Aberdeen WA  Grays Harbor  Aberdeen  86300.0\n",
       "1996-06-01  Aberdeen WA  Grays Harbor  Aberdeen  86100.0\n",
       "1996-07-01  Aberdeen WA  Grays Harbor  Aberdeen  85900.0\n",
       "1996-08-01  Aberdeen WA  Grays Harbor  Aberdeen  85700.0"
      ]
     },
     "execution_count": 38,
     "metadata": {},
     "output_type": "execute_result"
    }
   ],
   "source": [
    "df_metro_cities.head()"
   ]
  },
  {
   "cell_type": "code",
   "execution_count": 39,
   "metadata": {},
   "outputs": [
    {
     "data": {
      "text/plain": [
       "MetroState      865\n",
       "CountyName     1212\n",
       "City           7554\n",
       "value         83532\n",
       "dtype: int64"
      ]
     },
     "execution_count": 39,
     "metadata": {},
     "output_type": "execute_result"
    }
   ],
   "source": [
    "df_metro_cities.nunique()"
   ]
  },
  {
   "cell_type": "markdown",
   "metadata": {},
   "source": [
    "### df_geog:  Function for creating a sub-dataframe of a particular geographic unit (e.g., MetroState area, City, CountyName)"
   ]
  },
  {
   "cell_type": "code",
   "execution_count": 40,
   "metadata": {},
   "outputs": [],
   "source": [
    "def df_geog(df, col, geog):\n",
    "    \n",
    "    '''Creates subset dataframe containing just the geographic unit \n",
    "    (e.g., 'MetroState' == 'Sacramento CA', 'City' == 'Davis', etc.) of interest.  \n",
    "    It is necessary to set df equal to a dataframe with the appropriate geographic grouping: \n",
    "    e.g., to plot values by city in a metro aree, df = df_metro_cities, col = 'MetroState',\n",
    "    geog = 'Sacramento CA' (or metro area of interest). \n",
    "    '''\n",
    "    df_metro_cities_geog = df.loc[df[col] == geog]\n",
    "    return df_metro_cities_geog\n"
   ]
  },
  {
   "cell_type": "markdown",
   "metadata": {},
   "source": [
    "### df_sac:  Sac Metro dataframe, values by Zip code"
   ]
  },
  {
   "cell_type": "code",
   "execution_count": 41,
   "metadata": {},
   "outputs": [],
   "source": [
    "# df_sac = df_melt.loc[df_melt.Metro == 'Sacramento']  # use if function throws an error\n",
    "\n",
    "df_sac = df_geog(df=df_metro, col = 'MetroState', geog = 'Sacramento CA')"
   ]
  },
  {
   "cell_type": "code",
   "execution_count": 42,
   "metadata": {
    "scrolled": true
   },
   "outputs": [
    {
     "data": {
      "text/html": [
       "<div>\n",
       "<style scoped>\n",
       "    .dataframe tbody tr th:only-of-type {\n",
       "        vertical-align: middle;\n",
       "    }\n",
       "\n",
       "    .dataframe tbody tr th {\n",
       "        vertical-align: top;\n",
       "    }\n",
       "\n",
       "    .dataframe thead th {\n",
       "        text-align: right;\n",
       "    }\n",
       "</style>\n",
       "<table border=\"1\" class=\"dataframe\">\n",
       "  <thead>\n",
       "    <tr style=\"text-align: right;\">\n",
       "      <th></th>\n",
       "      <th>Metro</th>\n",
       "      <th>MetroState</th>\n",
       "      <th>CountyName</th>\n",
       "      <th>City</th>\n",
       "      <th>Zip</th>\n",
       "      <th>SizeRank</th>\n",
       "      <th>value</th>\n",
       "    </tr>\n",
       "    <tr>\n",
       "      <th>time</th>\n",
       "      <th></th>\n",
       "      <th></th>\n",
       "      <th></th>\n",
       "      <th></th>\n",
       "      <th></th>\n",
       "      <th></th>\n",
       "      <th></th>\n",
       "    </tr>\n",
       "  </thead>\n",
       "  <tbody>\n",
       "    <tr>\n",
       "      <td>1996-04-01</td>\n",
       "      <td>Sacramento</td>\n",
       "      <td>Sacramento CA</td>\n",
       "      <td>El Dorado</td>\n",
       "      <td>Camino</td>\n",
       "      <td>95709</td>\n",
       "      <td>10422</td>\n",
       "      <td>141500.0</td>\n",
       "    </tr>\n",
       "    <tr>\n",
       "      <td>1996-05-01</td>\n",
       "      <td>Sacramento</td>\n",
       "      <td>Sacramento CA</td>\n",
       "      <td>El Dorado</td>\n",
       "      <td>Camino</td>\n",
       "      <td>95709</td>\n",
       "      <td>10422</td>\n",
       "      <td>141500.0</td>\n",
       "    </tr>\n",
       "    <tr>\n",
       "      <td>1996-06-01</td>\n",
       "      <td>Sacramento</td>\n",
       "      <td>Sacramento CA</td>\n",
       "      <td>El Dorado</td>\n",
       "      <td>Camino</td>\n",
       "      <td>95709</td>\n",
       "      <td>10422</td>\n",
       "      <td>141500.0</td>\n",
       "    </tr>\n",
       "    <tr>\n",
       "      <td>1996-07-01</td>\n",
       "      <td>Sacramento</td>\n",
       "      <td>Sacramento CA</td>\n",
       "      <td>El Dorado</td>\n",
       "      <td>Camino</td>\n",
       "      <td>95709</td>\n",
       "      <td>10422</td>\n",
       "      <td>141500.0</td>\n",
       "    </tr>\n",
       "    <tr>\n",
       "      <td>1996-08-01</td>\n",
       "      <td>Sacramento</td>\n",
       "      <td>Sacramento CA</td>\n",
       "      <td>El Dorado</td>\n",
       "      <td>Camino</td>\n",
       "      <td>95709</td>\n",
       "      <td>10422</td>\n",
       "      <td>141600.0</td>\n",
       "    </tr>\n",
       "    <tr>\n",
       "      <td>...</td>\n",
       "      <td>...</td>\n",
       "      <td>...</td>\n",
       "      <td>...</td>\n",
       "      <td>...</td>\n",
       "      <td>...</td>\n",
       "      <td>...</td>\n",
       "      <td>...</td>\n",
       "    </tr>\n",
       "    <tr>\n",
       "      <td>2017-12-01</td>\n",
       "      <td>Sacramento</td>\n",
       "      <td>Sacramento CA</td>\n",
       "      <td>Yolo</td>\n",
       "      <td>Woodland</td>\n",
       "      <td>95776</td>\n",
       "      <td>5094</td>\n",
       "      <td>391100.0</td>\n",
       "    </tr>\n",
       "    <tr>\n",
       "      <td>2018-01-01</td>\n",
       "      <td>Sacramento</td>\n",
       "      <td>Sacramento CA</td>\n",
       "      <td>Yolo</td>\n",
       "      <td>Woodland</td>\n",
       "      <td>95776</td>\n",
       "      <td>5094</td>\n",
       "      <td>397800.0</td>\n",
       "    </tr>\n",
       "    <tr>\n",
       "      <td>2018-02-01</td>\n",
       "      <td>Sacramento</td>\n",
       "      <td>Sacramento CA</td>\n",
       "      <td>Yolo</td>\n",
       "      <td>Woodland</td>\n",
       "      <td>95776</td>\n",
       "      <td>5094</td>\n",
       "      <td>401000.0</td>\n",
       "    </tr>\n",
       "    <tr>\n",
       "      <td>2018-03-01</td>\n",
       "      <td>Sacramento</td>\n",
       "      <td>Sacramento CA</td>\n",
       "      <td>Yolo</td>\n",
       "      <td>Woodland</td>\n",
       "      <td>95776</td>\n",
       "      <td>5094</td>\n",
       "      <td>401800.0</td>\n",
       "    </tr>\n",
       "    <tr>\n",
       "      <td>2018-04-01</td>\n",
       "      <td>Sacramento</td>\n",
       "      <td>Sacramento CA</td>\n",
       "      <td>Yolo</td>\n",
       "      <td>Woodland</td>\n",
       "      <td>95776</td>\n",
       "      <td>5094</td>\n",
       "      <td>401700.0</td>\n",
       "    </tr>\n",
       "  </tbody>\n",
       "</table>\n",
       "<p>23960 rows × 7 columns</p>\n",
       "</div>"
      ],
      "text/plain": [
       "                 Metro     MetroState CountyName      City    Zip  SizeRank  \\\n",
       "time                                                                          \n",
       "1996-04-01  Sacramento  Sacramento CA  El Dorado    Camino  95709     10422   \n",
       "1996-05-01  Sacramento  Sacramento CA  El Dorado    Camino  95709     10422   \n",
       "1996-06-01  Sacramento  Sacramento CA  El Dorado    Camino  95709     10422   \n",
       "1996-07-01  Sacramento  Sacramento CA  El Dorado    Camino  95709     10422   \n",
       "1996-08-01  Sacramento  Sacramento CA  El Dorado    Camino  95709     10422   \n",
       "...                ...            ...        ...       ...    ...       ...   \n",
       "2017-12-01  Sacramento  Sacramento CA       Yolo  Woodland  95776      5094   \n",
       "2018-01-01  Sacramento  Sacramento CA       Yolo  Woodland  95776      5094   \n",
       "2018-02-01  Sacramento  Sacramento CA       Yolo  Woodland  95776      5094   \n",
       "2018-03-01  Sacramento  Sacramento CA       Yolo  Woodland  95776      5094   \n",
       "2018-04-01  Sacramento  Sacramento CA       Yolo  Woodland  95776      5094   \n",
       "\n",
       "               value  \n",
       "time                  \n",
       "1996-04-01  141500.0  \n",
       "1996-05-01  141500.0  \n",
       "1996-06-01  141500.0  \n",
       "1996-07-01  141500.0  \n",
       "1996-08-01  141600.0  \n",
       "...              ...  \n",
       "2017-12-01  391100.0  \n",
       "2018-01-01  397800.0  \n",
       "2018-02-01  401000.0  \n",
       "2018-03-01  401800.0  \n",
       "2018-04-01  401700.0  \n",
       "\n",
       "[23960 rows x 7 columns]"
      ]
     },
     "execution_count": 42,
     "metadata": {},
     "output_type": "execute_result"
    }
   ],
   "source": [
    "df_sac"
   ]
  },
  {
   "cell_type": "code",
   "execution_count": 43,
   "metadata": {},
   "outputs": [
    {
     "name": "stderr",
     "output_type": "stream",
     "text": [
      "/opt/anaconda3/envs/learn-env/lib/python3.6/site-packages/pandas/core/frame.py:4102: SettingWithCopyWarning: \n",
      "A value is trying to be set on a copy of a slice from a DataFrame\n",
      "\n",
      "See the caveats in the documentation: http://pandas.pydata.org/pandas-docs/stable/user_guide/indexing.html#returning-a-view-versus-a-copy\n",
      "  errors=errors,\n"
     ]
    }
   ],
   "source": [
    "df_sac.drop('SizeRank', axis=1, inplace=True)"
   ]
  },
  {
   "cell_type": "code",
   "execution_count": 44,
   "metadata": {},
   "outputs": [
    {
     "data": {
      "text/html": [
       "<div>\n",
       "<style scoped>\n",
       "    .dataframe tbody tr th:only-of-type {\n",
       "        vertical-align: middle;\n",
       "    }\n",
       "\n",
       "    .dataframe tbody tr th {\n",
       "        vertical-align: top;\n",
       "    }\n",
       "\n",
       "    .dataframe thead th {\n",
       "        text-align: right;\n",
       "    }\n",
       "</style>\n",
       "<table border=\"1\" class=\"dataframe\">\n",
       "  <thead>\n",
       "    <tr style=\"text-align: right;\">\n",
       "      <th></th>\n",
       "      <th>Metro</th>\n",
       "      <th>MetroState</th>\n",
       "      <th>CountyName</th>\n",
       "      <th>City</th>\n",
       "      <th>Zip</th>\n",
       "      <th>value</th>\n",
       "    </tr>\n",
       "    <tr>\n",
       "      <th>time</th>\n",
       "      <th></th>\n",
       "      <th></th>\n",
       "      <th></th>\n",
       "      <th></th>\n",
       "      <th></th>\n",
       "      <th></th>\n",
       "    </tr>\n",
       "  </thead>\n",
       "  <tbody>\n",
       "    <tr>\n",
       "      <td>1996-04-01</td>\n",
       "      <td>Sacramento</td>\n",
       "      <td>Sacramento CA</td>\n",
       "      <td>El Dorado</td>\n",
       "      <td>Camino</td>\n",
       "      <td>95709</td>\n",
       "      <td>141500.0</td>\n",
       "    </tr>\n",
       "    <tr>\n",
       "      <td>1996-05-01</td>\n",
       "      <td>Sacramento</td>\n",
       "      <td>Sacramento CA</td>\n",
       "      <td>El Dorado</td>\n",
       "      <td>Camino</td>\n",
       "      <td>95709</td>\n",
       "      <td>141500.0</td>\n",
       "    </tr>\n",
       "    <tr>\n",
       "      <td>1996-06-01</td>\n",
       "      <td>Sacramento</td>\n",
       "      <td>Sacramento CA</td>\n",
       "      <td>El Dorado</td>\n",
       "      <td>Camino</td>\n",
       "      <td>95709</td>\n",
       "      <td>141500.0</td>\n",
       "    </tr>\n",
       "    <tr>\n",
       "      <td>1996-07-01</td>\n",
       "      <td>Sacramento</td>\n",
       "      <td>Sacramento CA</td>\n",
       "      <td>El Dorado</td>\n",
       "      <td>Camino</td>\n",
       "      <td>95709</td>\n",
       "      <td>141500.0</td>\n",
       "    </tr>\n",
       "    <tr>\n",
       "      <td>1996-08-01</td>\n",
       "      <td>Sacramento</td>\n",
       "      <td>Sacramento CA</td>\n",
       "      <td>El Dorado</td>\n",
       "      <td>Camino</td>\n",
       "      <td>95709</td>\n",
       "      <td>141600.0</td>\n",
       "    </tr>\n",
       "    <tr>\n",
       "      <td>...</td>\n",
       "      <td>...</td>\n",
       "      <td>...</td>\n",
       "      <td>...</td>\n",
       "      <td>...</td>\n",
       "      <td>...</td>\n",
       "      <td>...</td>\n",
       "    </tr>\n",
       "    <tr>\n",
       "      <td>2017-12-01</td>\n",
       "      <td>Sacramento</td>\n",
       "      <td>Sacramento CA</td>\n",
       "      <td>Yolo</td>\n",
       "      <td>Woodland</td>\n",
       "      <td>95776</td>\n",
       "      <td>391100.0</td>\n",
       "    </tr>\n",
       "    <tr>\n",
       "      <td>2018-01-01</td>\n",
       "      <td>Sacramento</td>\n",
       "      <td>Sacramento CA</td>\n",
       "      <td>Yolo</td>\n",
       "      <td>Woodland</td>\n",
       "      <td>95776</td>\n",
       "      <td>397800.0</td>\n",
       "    </tr>\n",
       "    <tr>\n",
       "      <td>2018-02-01</td>\n",
       "      <td>Sacramento</td>\n",
       "      <td>Sacramento CA</td>\n",
       "      <td>Yolo</td>\n",
       "      <td>Woodland</td>\n",
       "      <td>95776</td>\n",
       "      <td>401000.0</td>\n",
       "    </tr>\n",
       "    <tr>\n",
       "      <td>2018-03-01</td>\n",
       "      <td>Sacramento</td>\n",
       "      <td>Sacramento CA</td>\n",
       "      <td>Yolo</td>\n",
       "      <td>Woodland</td>\n",
       "      <td>95776</td>\n",
       "      <td>401800.0</td>\n",
       "    </tr>\n",
       "    <tr>\n",
       "      <td>2018-04-01</td>\n",
       "      <td>Sacramento</td>\n",
       "      <td>Sacramento CA</td>\n",
       "      <td>Yolo</td>\n",
       "      <td>Woodland</td>\n",
       "      <td>95776</td>\n",
       "      <td>401700.0</td>\n",
       "    </tr>\n",
       "  </tbody>\n",
       "</table>\n",
       "<p>23960 rows × 6 columns</p>\n",
       "</div>"
      ],
      "text/plain": [
       "                 Metro     MetroState CountyName      City    Zip     value\n",
       "time                                                                       \n",
       "1996-04-01  Sacramento  Sacramento CA  El Dorado    Camino  95709  141500.0\n",
       "1996-05-01  Sacramento  Sacramento CA  El Dorado    Camino  95709  141500.0\n",
       "1996-06-01  Sacramento  Sacramento CA  El Dorado    Camino  95709  141500.0\n",
       "1996-07-01  Sacramento  Sacramento CA  El Dorado    Camino  95709  141500.0\n",
       "1996-08-01  Sacramento  Sacramento CA  El Dorado    Camino  95709  141600.0\n",
       "...                ...            ...        ...       ...    ...       ...\n",
       "2017-12-01  Sacramento  Sacramento CA       Yolo  Woodland  95776  391100.0\n",
       "2018-01-01  Sacramento  Sacramento CA       Yolo  Woodland  95776  397800.0\n",
       "2018-02-01  Sacramento  Sacramento CA       Yolo  Woodland  95776  401000.0\n",
       "2018-03-01  Sacramento  Sacramento CA       Yolo  Woodland  95776  401800.0\n",
       "2018-04-01  Sacramento  Sacramento CA       Yolo  Woodland  95776  401700.0\n",
       "\n",
       "[23960 rows x 6 columns]"
      ]
     },
     "execution_count": 44,
     "metadata": {},
     "output_type": "execute_result"
    }
   ],
   "source": [
    "df_sac"
   ]
  },
  {
   "cell_type": "markdown",
   "metadata": {},
   "source": [
    "### df_sac_cities:  Sacramento, CA metro area values by city"
   ]
  },
  {
   "cell_type": "code",
   "execution_count": 45,
   "metadata": {},
   "outputs": [],
   "source": [
    "df_sac_cities = df_geog(df=df_metro_cities, col = 'MetroState', geog = 'Sacramento CA')"
   ]
  },
  {
   "cell_type": "code",
   "execution_count": 46,
   "metadata": {
    "scrolled": false
   },
   "outputs": [
    {
     "data": {
      "text/html": [
       "<div>\n",
       "<style scoped>\n",
       "    .dataframe tbody tr th:only-of-type {\n",
       "        vertical-align: middle;\n",
       "    }\n",
       "\n",
       "    .dataframe tbody tr th {\n",
       "        vertical-align: top;\n",
       "    }\n",
       "\n",
       "    .dataframe thead th {\n",
       "        text-align: right;\n",
       "    }\n",
       "</style>\n",
       "<table border=\"1\" class=\"dataframe\">\n",
       "  <thead>\n",
       "    <tr style=\"text-align: right;\">\n",
       "      <th></th>\n",
       "      <th>MetroState</th>\n",
       "      <th>CountyName</th>\n",
       "      <th>City</th>\n",
       "      <th>value</th>\n",
       "    </tr>\n",
       "    <tr>\n",
       "      <th>time</th>\n",
       "      <th></th>\n",
       "      <th></th>\n",
       "      <th></th>\n",
       "      <th></th>\n",
       "    </tr>\n",
       "  </thead>\n",
       "  <tbody>\n",
       "    <tr>\n",
       "      <td>1996-04-01</td>\n",
       "      <td>Sacramento CA</td>\n",
       "      <td>El Dorado</td>\n",
       "      <td>Camino</td>\n",
       "      <td>141500.0</td>\n",
       "    </tr>\n",
       "    <tr>\n",
       "      <td>1996-05-01</td>\n",
       "      <td>Sacramento CA</td>\n",
       "      <td>El Dorado</td>\n",
       "      <td>Camino</td>\n",
       "      <td>141500.0</td>\n",
       "    </tr>\n",
       "    <tr>\n",
       "      <td>1996-06-01</td>\n",
       "      <td>Sacramento CA</td>\n",
       "      <td>El Dorado</td>\n",
       "      <td>Camino</td>\n",
       "      <td>141500.0</td>\n",
       "    </tr>\n",
       "    <tr>\n",
       "      <td>1996-07-01</td>\n",
       "      <td>Sacramento CA</td>\n",
       "      <td>El Dorado</td>\n",
       "      <td>Camino</td>\n",
       "      <td>141500.0</td>\n",
       "    </tr>\n",
       "    <tr>\n",
       "      <td>1996-08-01</td>\n",
       "      <td>Sacramento CA</td>\n",
       "      <td>El Dorado</td>\n",
       "      <td>Camino</td>\n",
       "      <td>141600.0</td>\n",
       "    </tr>\n",
       "  </tbody>\n",
       "</table>\n",
       "</div>"
      ],
      "text/plain": [
       "               MetroState CountyName    City     value\n",
       "time                                                  \n",
       "1996-04-01  Sacramento CA  El Dorado  Camino  141500.0\n",
       "1996-05-01  Sacramento CA  El Dorado  Camino  141500.0\n",
       "1996-06-01  Sacramento CA  El Dorado  Camino  141500.0\n",
       "1996-07-01  Sacramento CA  El Dorado  Camino  141500.0\n",
       "1996-08-01  Sacramento CA  El Dorado  Camino  141600.0"
      ]
     },
     "execution_count": 46,
     "metadata": {},
     "output_type": "execute_result"
    }
   ],
   "source": [
    "df_sac_cities.head()"
   ]
  },
  {
   "cell_type": "markdown",
   "metadata": {},
   "source": [
    "### df_sac_cities:  Sacramento, CA metro area values by city"
   ]
  },
  {
   "cell_type": "code",
   "execution_count": 47,
   "metadata": {},
   "outputs": [],
   "source": [
    "df_sac_cities = df_geog(df=df_metro_cities, col = 'MetroState', geog = 'Sacramento CA')"
   ]
  },
  {
   "cell_type": "code",
   "execution_count": 48,
   "metadata": {
    "scrolled": true
   },
   "outputs": [
    {
     "data": {
      "text/html": [
       "<div>\n",
       "<style scoped>\n",
       "    .dataframe tbody tr th:only-of-type {\n",
       "        vertical-align: middle;\n",
       "    }\n",
       "\n",
       "    .dataframe tbody tr th {\n",
       "        vertical-align: top;\n",
       "    }\n",
       "\n",
       "    .dataframe thead th {\n",
       "        text-align: right;\n",
       "    }\n",
       "</style>\n",
       "<table border=\"1\" class=\"dataframe\">\n",
       "  <thead>\n",
       "    <tr style=\"text-align: right;\">\n",
       "      <th></th>\n",
       "      <th>MetroState</th>\n",
       "      <th>CountyName</th>\n",
       "      <th>City</th>\n",
       "      <th>value</th>\n",
       "    </tr>\n",
       "    <tr>\n",
       "      <th>time</th>\n",
       "      <th></th>\n",
       "      <th></th>\n",
       "      <th></th>\n",
       "      <th></th>\n",
       "    </tr>\n",
       "  </thead>\n",
       "  <tbody>\n",
       "    <tr>\n",
       "      <td>1996-04-01</td>\n",
       "      <td>Sacramento CA</td>\n",
       "      <td>El Dorado</td>\n",
       "      <td>Camino</td>\n",
       "      <td>141500.0</td>\n",
       "    </tr>\n",
       "    <tr>\n",
       "      <td>1996-05-01</td>\n",
       "      <td>Sacramento CA</td>\n",
       "      <td>El Dorado</td>\n",
       "      <td>Camino</td>\n",
       "      <td>141500.0</td>\n",
       "    </tr>\n",
       "    <tr>\n",
       "      <td>1996-06-01</td>\n",
       "      <td>Sacramento CA</td>\n",
       "      <td>El Dorado</td>\n",
       "      <td>Camino</td>\n",
       "      <td>141500.0</td>\n",
       "    </tr>\n",
       "    <tr>\n",
       "      <td>1996-07-01</td>\n",
       "      <td>Sacramento CA</td>\n",
       "      <td>El Dorado</td>\n",
       "      <td>Camino</td>\n",
       "      <td>141500.0</td>\n",
       "    </tr>\n",
       "    <tr>\n",
       "      <td>1996-08-01</td>\n",
       "      <td>Sacramento CA</td>\n",
       "      <td>El Dorado</td>\n",
       "      <td>Camino</td>\n",
       "      <td>141600.0</td>\n",
       "    </tr>\n",
       "  </tbody>\n",
       "</table>\n",
       "</div>"
      ],
      "text/plain": [
       "               MetroState CountyName    City     value\n",
       "time                                                  \n",
       "1996-04-01  Sacramento CA  El Dorado  Camino  141500.0\n",
       "1996-05-01  Sacramento CA  El Dorado  Camino  141500.0\n",
       "1996-06-01  Sacramento CA  El Dorado  Camino  141500.0\n",
       "1996-07-01  Sacramento CA  El Dorado  Camino  141500.0\n",
       "1996-08-01  Sacramento CA  El Dorado  Camino  141600.0"
      ]
     },
     "execution_count": 48,
     "metadata": {},
     "output_type": "execute_result"
    }
   ],
   "source": [
    "df_sac_cities.head()"
   ]
  },
  {
   "cell_type": "markdown",
   "metadata": {},
   "source": [
    "## Creating dictionaries -- Sac Metro region"
   ]
  },
  {
   "cell_type": "markdown",
   "metadata": {},
   "source": [
    "### Function to print first n number of items in a dictionary\n"
   ]
  },
  {
   "cell_type": "code",
   "execution_count": 49,
   "metadata": {},
   "outputs": [],
   "source": [
    "# function to print first n number of items in a dictionary\n",
    "\n",
    "def print_first_n(dictionary, n):\n",
    "    return {k: dictionary[k] for k in list(dictionary)[:n]}"
   ]
  },
  {
   "cell_type": "markdown",
   "metadata": {},
   "source": [
    "### Creating sac_metro_cities list from df_sac"
   ]
  },
  {
   "cell_type": "code",
   "execution_count": 50,
   "metadata": {},
   "outputs": [
    {
     "data": {
      "text/plain": [
       "['Orangevale', 'Rancho Cordova', 'Roseville', 'Arden-Arcade', 'Wilton']"
      ]
     },
     "execution_count": 50,
     "metadata": {},
     "output_type": "execute_result"
    }
   ],
   "source": [
    "sac_metro_cities = list(set(df_sac.City))\n",
    "sac_metro_cities[:5]"
   ]
  },
  {
   "cell_type": "code",
   "execution_count": 51,
   "metadata": {
    "scrolled": true
   },
   "outputs": [
    {
     "data": {
      "text/plain": [
       "['Applegate', 'Arden-Arcade', 'Auburn', 'Camino', 'Carmichael']"
      ]
     },
     "execution_count": 51,
     "metadata": {},
     "output_type": "execute_result"
    }
   ],
   "source": [
    "sac_metro_cities.sort()\n",
    "sac_metro_cities[:5]\n"
   ]
  },
  {
   "cell_type": "markdown",
   "metadata": {},
   "source": [
    "### Creating sac_metro_zips list from zips in Sac Metro area"
   ]
  },
  {
   "cell_type": "code",
   "execution_count": 52,
   "metadata": {},
   "outputs": [
    {
     "data": {
      "text/plain": [
       "['95614', '95618', '96150', '95832', '95661']"
      ]
     },
     "execution_count": 52,
     "metadata": {},
     "output_type": "execute_result"
    }
   ],
   "source": [
    "sac_metro_zips = list(set(df_sac.Zip))\n",
    "sac_metro_zips[:5]"
   ]
  },
  {
   "cell_type": "markdown",
   "metadata": {},
   "source": [
    "### Creating dict_zips_cities dictionary to graph zips by city"
   ]
  },
  {
   "cell_type": "code",
   "execution_count": 53,
   "metadata": {},
   "outputs": [],
   "source": [
    "df_sac_one_val = df_sac.groupby(['CountyName', 'City', 'Zip']).mean().reset_index()"
   ]
  },
  {
   "cell_type": "code",
   "execution_count": 54,
   "metadata": {
    "scrolled": false
   },
   "outputs": [
    {
     "data": {
      "text/html": [
       "<div>\n",
       "<style scoped>\n",
       "    .dataframe tbody tr th:only-of-type {\n",
       "        vertical-align: middle;\n",
       "    }\n",
       "\n",
       "    .dataframe tbody tr th {\n",
       "        vertical-align: top;\n",
       "    }\n",
       "\n",
       "    .dataframe thead th {\n",
       "        text-align: right;\n",
       "    }\n",
       "</style>\n",
       "<table border=\"1\" class=\"dataframe\">\n",
       "  <thead>\n",
       "    <tr style=\"text-align: right;\">\n",
       "      <th></th>\n",
       "      <th>CountyName</th>\n",
       "      <th>City</th>\n",
       "      <th>Zip</th>\n",
       "      <th>value</th>\n",
       "    </tr>\n",
       "  </thead>\n",
       "  <tbody>\n",
       "    <tr>\n",
       "      <td>17</td>\n",
       "      <td>Placer</td>\n",
       "      <td>Auburn</td>\n",
       "      <td>95602</td>\n",
       "      <td>348386.415094</td>\n",
       "    </tr>\n",
       "    <tr>\n",
       "      <td>18</td>\n",
       "      <td>Placer</td>\n",
       "      <td>Auburn</td>\n",
       "      <td>95603</td>\n",
       "      <td>311752.830189</td>\n",
       "    </tr>\n",
       "    <tr>\n",
       "      <td>87</td>\n",
       "      <td>Yolo</td>\n",
       "      <td>West Sacramento</td>\n",
       "      <td>95605</td>\n",
       "      <td>160125.283019</td>\n",
       "    </tr>\n",
       "    <tr>\n",
       "      <td>41</td>\n",
       "      <td>Sacramento</td>\n",
       "      <td>Carmichael</td>\n",
       "      <td>95608</td>\n",
       "      <td>286006.415094</td>\n",
       "    </tr>\n",
       "    <tr>\n",
       "      <td>42</td>\n",
       "      <td>Sacramento</td>\n",
       "      <td>Citrus Heights</td>\n",
       "      <td>95610</td>\n",
       "      <td>235864.150943</td>\n",
       "    </tr>\n",
       "  </tbody>\n",
       "</table>\n",
       "</div>"
      ],
      "text/plain": [
       "    CountyName             City    Zip          value\n",
       "17      Placer           Auburn  95602  348386.415094\n",
       "18      Placer           Auburn  95603  311752.830189\n",
       "87        Yolo  West Sacramento  95605  160125.283019\n",
       "41  Sacramento       Carmichael  95608  286006.415094\n",
       "42  Sacramento   Citrus Heights  95610  235864.150943"
      ]
     },
     "execution_count": 54,
     "metadata": {},
     "output_type": "execute_result"
    }
   ],
   "source": [
    "df_sac_one_val.sort_values(by=['Zip']).head()\n",
    "\n",
    "#### Seeking to create the dictionary showing just the unique zip code instance rather than repeating it for each row of data) "
   ]
  },
  {
   "cell_type": "code",
   "execution_count": 55,
   "metadata": {
    "scrolled": true
   },
   "outputs": [
    {
     "name": "stdout",
     "output_type": "stream",
     "text": [
      "defaultdict(<class 'list'>, {'Camino': ['95709'], 'Cool': ['95614'], 'Diamond Springs': ['95619'], 'El Dorado': ['95623'], 'El Dorado Hills': ['95762'], 'Garden Valley': ['95633'], 'Georgetown': ['95634'], 'Pilot Hill': ['95664'], 'Placerville': ['95667'], 'Pollock Pines': ['95726'], 'Rescue': ['95672'], 'Shingle Springs': ['95682'], 'Somerset': ['95636', '95684'], 'South Lake Tahoe': ['96150'], 'Tahoma': ['96142'], 'Applegate': ['95703'], 'Auburn': ['95602', '95603'], 'Carnelian Bay': ['96140'], 'Colfax': ['95713'], 'Foresthill': ['95631'], 'Granite Bay': ['95746'], 'Homewood': ['96141'], 'Kings Beach': ['96143'], 'Lincoln': ['95648'], 'Loomis': ['95650'], 'Meadow Vista': ['95722'], 'Newcastle': ['95658'], 'Penryn': ['95663'], 'Rocklin': ['95677', '95765'], 'Roseville': ['95661', '95678', '95747'], 'Tahoe City': ['96145', '96146'], 'Tahoe Vista': ['96148'], 'Arden-Arcade': ['95821', '95825', '95864'], 'Carmichael': ['95608'], 'Citrus Heights': ['95610', '95621'], 'Elk Grove': ['95624', '95757', '95758'], 'Elverta': ['95626'], 'Fair Oaks': ['95628'], 'Florin': ['95828'], 'Folsom': ['95630'], 'Galt': ['95632'], 'Herald': ['95638'], 'Mather Air Force Base': ['95655'], 'Orangevale': ['95662'], 'Rancho Cordova': ['95670', '95742', '95827'], 'Rio Linda': ['95673'], 'Rosemont': ['95826'], 'Sacramento': ['95660', '95811', '95815', '95816', '95817', '95818', '95819', '95820', '95822', '95823', '95824', '95829', '95831', '95832', '95833', '95834', '95835', '95838', '95841', '95842', '95843'], 'Sloughhouse': ['95683'], 'Walnut Grove': ['95690'], 'Wilton': ['95693'], 'Davis': ['95616', '95618'], 'Esparto': ['95627'], 'West Sacramento': ['95605', '95691'], 'Winters': ['95694'], 'Woodland': ['95695', '95776']})\n"
     ]
    }
   ],
   "source": [
    "from collections import defaultdict\n",
    "\n",
    "dict_sac_zips_cities = defaultdict(list)\n",
    "\n",
    "for idx,row in df_sac_one_val.iterrows():\n",
    "    dict_sac_zips_cities[row['City']].append(row['Zip'])\n",
    "    \n",
    "print(dict_sac_zips_cities)"
   ]
  },
  {
   "cell_type": "code",
   "execution_count": 56,
   "metadata": {},
   "outputs": [
    {
     "data": {
      "text/plain": [
       "collections.OrderedDict"
      ]
     },
     "execution_count": 56,
     "metadata": {},
     "output_type": "execute_result"
    }
   ],
   "source": [
    "from collections import OrderedDict\n",
    "\n",
    "# Create Ordered dictionary of cities and zip codes\n",
    "\n",
    "ordict_sac_zips_cities = OrderedDict(sorted(dict_sac_zips_cities.items()))\n",
    "                                     \n",
    "type(ordict_sac_zips_cities)\n"
   ]
  },
  {
   "cell_type": "code",
   "execution_count": 57,
   "metadata": {},
   "outputs": [
    {
     "data": {
      "text/plain": [
       "{'Applegate': ['95703'],\n",
       " 'Arden-Arcade': ['95821', '95825', '95864'],\n",
       " 'Auburn': ['95602', '95603'],\n",
       " 'Camino': ['95709'],\n",
       " 'Carmichael': ['95608'],\n",
       " 'Carnelian Bay': ['96140'],\n",
       " 'Citrus Heights': ['95610', '95621'],\n",
       " 'Colfax': ['95713'],\n",
       " 'Cool': ['95614'],\n",
       " 'Davis': ['95616', '95618']}"
      ]
     },
     "execution_count": 57,
     "metadata": {},
     "output_type": "execute_result"
    }
   ],
   "source": [
    "print_first_n(ordict_sac_zips_cities, n=10)"
   ]
  },
  {
   "cell_type": "code",
   "execution_count": 58,
   "metadata": {},
   "outputs": [
    {
     "data": {
      "text/plain": [
       "{'Applegate': ['95703'],\n",
       " 'Arden-Arcade': ['95821', '95825', '95864'],\n",
       " 'Auburn': ['95602', '95603'],\n",
       " 'Camino': ['95709'],\n",
       " 'Carmichael': ['95608'],\n",
       " 'Carnelian Bay': ['96140'],\n",
       " 'Citrus Heights': ['95610', '95621'],\n",
       " 'Colfax': ['95713'],\n",
       " 'Cool': ['95614'],\n",
       " 'Davis': ['95616', '95618']}"
      ]
     },
     "execution_count": 58,
     "metadata": {},
     "output_type": "execute_result"
    }
   ],
   "source": [
    "dict_sac_zips_cities = dict(sorted(ordict_sac_zips_cities.items()))\n",
    "print_first_n(dict_sac_zips_cities, n=10)"
   ]
  },
  {
   "cell_type": "markdown",
   "metadata": {},
   "source": [
    "### Function to return slice of an ordered dictionary (for use in plotting)"
   ]
  },
  {
   "cell_type": "code",
   "execution_count": 59,
   "metadata": {},
   "outputs": [],
   "source": [
    "def return_slice(dictionary, m, n):\n",
    "    sub_dict = {k: dictionary[k] for k in list(dictionary)[m:n]}\n",
    "    return sub_dict"
   ]
  },
  {
   "cell_type": "code",
   "execution_count": 60,
   "metadata": {},
   "outputs": [
    {
     "data": {
      "text/plain": [
       "{'Applegate': ['95703'],\n",
       " 'Arden-Arcade': ['95821', '95825', '95864'],\n",
       " 'Auburn': ['95602', '95603'],\n",
       " 'Camino': ['95709'],\n",
       " 'Carmichael': ['95608'],\n",
       " 'Carnelian Bay': ['96140']}"
      ]
     },
     "execution_count": 60,
     "metadata": {},
     "output_type": "execute_result"
    }
   ],
   "source": [
    "dict_0_6 = return_slice(dict_sac_zips_cities, 0, 6)\n",
    "dict_0_6"
   ]
  },
  {
   "cell_type": "code",
   "execution_count": 61,
   "metadata": {},
   "outputs": [
    {
     "data": {
      "text/plain": [
       "{'Citrus Heights': ['95610', '95621'],\n",
       " 'Colfax': ['95713'],\n",
       " 'Cool': ['95614'],\n",
       " 'Davis': ['95616', '95618'],\n",
       " 'Diamond Springs': ['95619'],\n",
       " 'El Dorado': ['95623']}"
      ]
     },
     "execution_count": 61,
     "metadata": {},
     "output_type": "execute_result"
    }
   ],
   "source": [
    "dict_6_12 = return_slice(dict_sac_zips_cities, 6, 12)\n",
    "dict_6_12"
   ]
  },
  {
   "cell_type": "code",
   "execution_count": 62,
   "metadata": {},
   "outputs": [
    {
     "data": {
      "text/plain": [
       "{'El Dorado Hills': ['95762'],\n",
       " 'Elk Grove': ['95624', '95757', '95758'],\n",
       " 'Elverta': ['95626'],\n",
       " 'Esparto': ['95627'],\n",
       " 'Fair Oaks': ['95628'],\n",
       " 'Florin': ['95828']}"
      ]
     },
     "execution_count": 62,
     "metadata": {},
     "output_type": "execute_result"
    }
   ],
   "source": [
    "dict_12_18 = return_slice(dict_sac_zips_cities, 12, 18)\n",
    "dict_12_18"
   ]
  },
  {
   "cell_type": "code",
   "execution_count": 63,
   "metadata": {},
   "outputs": [
    {
     "data": {
      "text/plain": [
       "{'Folsom': ['95630'],\n",
       " 'Foresthill': ['95631'],\n",
       " 'Galt': ['95632'],\n",
       " 'Garden Valley': ['95633'],\n",
       " 'Georgetown': ['95634'],\n",
       " 'Granite Bay': ['95746']}"
      ]
     },
     "execution_count": 63,
     "metadata": {},
     "output_type": "execute_result"
    }
   ],
   "source": [
    "dict_18_24 = return_slice(dict_sac_zips_cities, 18, 24)\n",
    "dict_18_24"
   ]
  },
  {
   "cell_type": "code",
   "execution_count": 64,
   "metadata": {},
   "outputs": [
    {
     "data": {
      "text/plain": [
       "{'Herald': ['95638'],\n",
       " 'Homewood': ['96141'],\n",
       " 'Kings Beach': ['96143'],\n",
       " 'Lincoln': ['95648'],\n",
       " 'Loomis': ['95650'],\n",
       " 'Mather Air Force Base': ['95655']}"
      ]
     },
     "execution_count": 64,
     "metadata": {},
     "output_type": "execute_result"
    }
   ],
   "source": [
    "dict_24_30 = return_slice(dict_sac_zips_cities, 24, 30)\n",
    "dict_24_30"
   ]
  },
  {
   "cell_type": "code",
   "execution_count": 65,
   "metadata": {},
   "outputs": [
    {
     "data": {
      "text/plain": [
       "{'Meadow Vista': ['95722'],\n",
       " 'Newcastle': ['95658'],\n",
       " 'Orangevale': ['95662'],\n",
       " 'Penryn': ['95663'],\n",
       " 'Pilot Hill': ['95664'],\n",
       " 'Placerville': ['95667']}"
      ]
     },
     "execution_count": 65,
     "metadata": {},
     "output_type": "execute_result"
    }
   ],
   "source": [
    "dict_30_36 = return_slice(dict_sac_zips_cities, 30, 36)\n",
    "dict_30_36"
   ]
  },
  {
   "cell_type": "code",
   "execution_count": 66,
   "metadata": {},
   "outputs": [
    {
     "data": {
      "text/plain": [
       "{'Pollock Pines': ['95726'],\n",
       " 'Rancho Cordova': ['95670', '95742', '95827'],\n",
       " 'Rescue': ['95672'],\n",
       " 'Rio Linda': ['95673'],\n",
       " 'Rocklin': ['95677', '95765'],\n",
       " 'Rosemont': ['95826']}"
      ]
     },
     "execution_count": 66,
     "metadata": {},
     "output_type": "execute_result"
    }
   ],
   "source": [
    "dict_36_42 = return_slice(dict_sac_zips_cities, 36, 42)\n",
    "dict_36_42"
   ]
  },
  {
   "cell_type": "code",
   "execution_count": 67,
   "metadata": {},
   "outputs": [
    {
     "data": {
      "text/plain": [
       "{'Roseville': ['95661', '95678', '95747'],\n",
       " 'Sacramento': ['95660',\n",
       "  '95811',\n",
       "  '95815',\n",
       "  '95816',\n",
       "  '95817',\n",
       "  '95818',\n",
       "  '95819',\n",
       "  '95820',\n",
       "  '95822',\n",
       "  '95823',\n",
       "  '95824',\n",
       "  '95829',\n",
       "  '95831',\n",
       "  '95832',\n",
       "  '95833',\n",
       "  '95834',\n",
       "  '95835',\n",
       "  '95838',\n",
       "  '95841',\n",
       "  '95842',\n",
       "  '95843'],\n",
       " 'Shingle Springs': ['95682'],\n",
       " 'Sloughhouse': ['95683'],\n",
       " 'Somerset': ['95636', '95684'],\n",
       " 'South Lake Tahoe': ['96150']}"
      ]
     },
     "execution_count": 67,
     "metadata": {},
     "output_type": "execute_result"
    }
   ],
   "source": [
    "dict_42_48 = return_slice(dict_sac_zips_cities, 42, 48)\n",
    "dict_42_48"
   ]
  },
  {
   "cell_type": "code",
   "execution_count": 68,
   "metadata": {},
   "outputs": [
    {
     "data": {
      "text/plain": [
       "{'Tahoe City': ['96145', '96146'],\n",
       " 'Tahoe Vista': ['96148'],\n",
       " 'Tahoma': ['96142'],\n",
       " 'Walnut Grove': ['95690'],\n",
       " 'West Sacramento': ['95605', '95691'],\n",
       " 'Wilton': ['95693']}"
      ]
     },
     "execution_count": 68,
     "metadata": {},
     "output_type": "execute_result"
    }
   ],
   "source": [
    "dict_48_54 = return_slice(dict_sac_zips_cities, 48, 54)\n",
    "dict_48_54"
   ]
  },
  {
   "cell_type": "code",
   "execution_count": 69,
   "metadata": {},
   "outputs": [
    {
     "data": {
      "text/plain": [
       "{'Winters': ['95694'], 'Woodland': ['95695', '95776']}"
      ]
     },
     "execution_count": 69,
     "metadata": {},
     "output_type": "execute_result"
    }
   ],
   "source": [
    "dict_54_56 = return_slice(dict_sac_zips_cities, 54, 56)\n",
    "dict_54_56"
   ]
  },
  {
   "cell_type": "markdown",
   "metadata": {},
   "source": [
    "# Step 3: EDA/Visualizations"
   ]
  },
  {
   "cell_type": "markdown",
   "metadata": {},
   "source": [
    "## Plotting functions"
   ]
  },
  {
   "cell_type": "markdown",
   "metadata": {},
   "source": [
    "### Plotting function:  plot_single_geog function (plots a single geographic unit)"
   ]
  },
  {
   "cell_type": "code",
   "execution_count": 70,
   "metadata": {},
   "outputs": [],
   "source": [
    "# Be sure to use df with appropriate value grouping (e.g., metro, city, zip)\n",
    "\n",
    "def plot_single_geog(df, geog_area, col1, col2, figsize=(12, 6), fontsize1=12, fontsize2=16):\n",
    "    \n",
    "    ''' Plots housing values for individual geographic unit, e.g., MetroState, City, County.  \n",
    "    Be sure to use the appropriate dataframe for the selected grouping (df_metro_cities for \n",
    "    cities in a metro area, for example).  Specify nrows, ncols, and figsize to match size of list.\n",
    "    '''\n",
    "    \n",
    "    ts = df[col1].loc[df[col2] == geog_area]\n",
    "    ax = ts.plot(figsize=figsize, fontsize=fontsize1, label = 'Raw Price')\n",
    "    plt.title(geog_area, fontsize=fontsize2)\n",
    "    plt.xlabel('')\n",
    "\n",
    "    max_ = ts.loc['2004':'2010'].idxmax()  \n",
    "    crash = '01-2009'\n",
    "    min_ = ts.loc[crash:].idxmin()\n",
    "    val_2003 = ts.loc['2003-01-01']\n",
    "\n",
    "    ax.axvline(max_, label='Max price during bubble', color = 'green', ls=':')\n",
    "    ax.axvline(crash, label = 'Housing Index Drops', color='red', ls=':')\n",
    "    ax.axvline(min_, label=f'Min price post-crash {min_}', color = 'black', ls=':')\n",
    "    ax.axhline(val_2003, label='Value on 2003-01-01', color = 'blue', ls='-.', alpha=0.15)\n",
    "\n",
    "    ax.legend(loc='upper left', fontsize=fontsize1)\n",
    "\n"
   ]
  },
  {
   "cell_type": "markdown",
   "metadata": {},
   "source": [
    "### Plotting function:   plot_ts_cities (plot values by city)"
   ]
  },
  {
   "cell_type": "code",
   "execution_count": 71,
   "metadata": {},
   "outputs": [],
   "source": [
    "# Adapted from James Irving's study group:\n",
    "    \n",
    "def plot_ts_cities(df, cities, col='value', figsize = (18, 100), fontsize1=14, fontsize2=20, nrows=30, ncols=2, \n",
    "                   legend=True, set_ylim = False, ylim = 1400000):\n",
    "    \n",
    "    '''Plots housing values by city within a metro area.  Need to use dataframe \n",
    "    with values by CITY for just that METRO (specify .loc in arguments that \n",
    "    column 'MetroState' == METRO). Need LIST of CITIES within that METRO area.  \n",
    "    Specify nrows, ncols, and figsize to match size of dataset.\n",
    "    '''\n",
    "    \n",
    "    fig = plt.figure(figsize=figsize)\n",
    "    \n",
    "    for i, city in enumerate(cities, start=1):\n",
    "        ax = fig.add_subplot(nrows, ncols, i)\n",
    "        \n",
    "        ts = df[col].loc[df['City'] == city]\n",
    "        ts = ts.rename('Average home values')\n",
    "        ts.plot(fontsize=fontsize1, ax=ax)\n",
    "        plt.title(city, fontsize=fontsize2)\n",
    "        plt.xlabel('')\n",
    "\n",
    "        try:\n",
    "            max_ = ts.loc['2004':'2011'].idxmax() \n",
    "        except:\n",
    "            continue\n",
    "            \n",
    "        crash = '01-2009'\n",
    "        min_ = ts.loc[crash:].idxmin()\n",
    "        try:\n",
    "            val_2003 = ts.loc['2003-01-01']\n",
    "        except:\n",
    "            continue\n",
    "\n",
    "        ax.axvline(max_, label=f'Max price during \\nbubble', color = 'orange', ls=':')\n",
    "        ax.axvline(crash, label = 'US median house \\nprice bottom (crash)', color='black', ls=':')\n",
    "        ax.axvline(min_, label=f'Min price post-crash', color = 'red', ls=':')\n",
    "       \n",
    "        try:\n",
    "            ax.axhline(val_2003, label='Value on 2003-01-01', color = 'blue', ls='-.', alpha=0.15)\n",
    "        except:\n",
    "            continue\n",
    "            \n",
    "        if set_ylim:\n",
    "            ax.set_ylim(ylim)\n",
    "        if legend:\n",
    "            ax.legend(loc=\"upper left\", fontsize=fontsize1)\n",
    "            \n",
    "        fig.tight_layout()\n",
    "    \n",
    "    return fig, ax\n"
   ]
  },
  {
   "cell_type": "markdown",
   "metadata": {},
   "source": [
    "### Plotting function:  plot_ts_zips (plots individual zip codes in a list provided to the function)"
   ]
  },
  {
   "cell_type": "code",
   "execution_count": 72,
   "metadata": {},
   "outputs": [],
   "source": [
    "# Adapted from James Irving's study group:\n",
    "    \n",
    "def plot_ts_zips(df, zipcodes, col='value', figsize = (12, 6), fontsize1=14, fontsize2=18, nrows=2, ncols=2, \n",
    "                 legend=True, set_ylim = False, ylim = 800000):\n",
    "        \n",
    "    ''' Plots multiple zip codes in a single axes/figure.  For each zip code, marks dates of:\n",
    "    1) maximum value reached during the housing bubble; 2) minimum value after the crash;\n",
    "    3) absolute minimum across entire time horizon (e.g., 1996 if you go back that far);\n",
    "    4) absolute minimum across entire time horizon (may or may not be the height of the bubble);\n",
    "    5) date when the national housing index (Case-Schiller) dropped.  \n",
    "    ''' \n",
    "\n",
    "    fig = plt.figure(figsize=figsize)\n",
    "    \n",
    "    for i, zc in enumerate(zipcodes, start=1):\n",
    "        ax = fig.add_subplot(nrows, ncols, i)\n",
    "        \n",
    "        ts = df[col].loc[df['Zip'] == zc]\n",
    "        ts = ts.rename(zc)\n",
    "        ts.plot(ax=ax, fontsize=fontsize1)\n",
    "        plt.title(zc, fontsize=fontsize2)\n",
    "        plt.xlabel('')\n",
    "        \n",
    "        try: \n",
    "            max_ = ts.loc['2004':'2011'].idxmax()  \n",
    "        except:\n",
    "            continue\n",
    "\n",
    "        crash = '01-2009'\n",
    "        min_ = ts.loc[crash:].idxmin()\n",
    "        val_2003 = ts.loc['2003-01-01']\n",
    "\n",
    "        ax.axvline(max_, label=f'Max price during bubble', color = 'orange', ls=':')\n",
    "        ax.axvline(crash, label = 'US median home price, \\npost-bubble low', color='black', ls=':')\n",
    "        ax.axvline(min_, label=f'ZIP code min price, \\npost-crash', color = 'red', ls=':')\n",
    "        ax.axhline(val_2003, label='Value on \\n01/01/2003', color = 'blue', ls='-.', alpha=0.15)\n",
    "        if set_ylim:\n",
    "            ax.set_ylim(ylim)\n",
    "        if legend:\n",
    "            ax.legend(loc='upper left', fontsize=fontsize1)\n",
    "    \n",
    "        fig.tight_layout()\n",
    "    \n",
    "    return fig, ax\n"
   ]
  },
  {
   "cell_type": "markdown",
   "metadata": {},
   "source": [
    "### Plotting function:  plot_ts_zips_by_city (plot of each city with values by zip codes in a metro area)"
   ]
  },
  {
   "cell_type": "code",
   "execution_count": 73,
   "metadata": {
    "scrolled": true
   },
   "outputs": [],
   "source": [
    "# Function below adapted from James Irving's study group:\n",
    "    \n",
    "def plot_ts_zips_by_city(df, dict_zips_cities, col='value', figsize = (18, 120), fontsize1=14, fontsize2=18, \n",
    "                         nrows=30, ncols=2, legend=True, set_ylim = False, ylim = 1400000):\n",
    "        \n",
    "    '''Plots values for zip codes by city within a metro area.  Need to use dataframe \n",
    "    with values by ZIP code and CITY for just that METRO (or specify .loc in arguments that \n",
    "    column 'MetroState' == METRO). Need DICTIONARY of ZIPS by CITY within that METRO area.  \n",
    "    Specify nrows, ncols, and figsize to match size of dataset.\n",
    "    '''\n",
    "\n",
    "    fig = plt.figure(figsize=figsize)\n",
    "    \n",
    "    for i, key in enumerate(sorted(dict_zips_cities.keys()), start=1):\n",
    "        ax = fig.add_subplot(nrows, ncols, i)\n",
    "\n",
    "        for val in dict_zips_cities[key]:\n",
    "            ts = df[col].loc[df['Zip'] == val]\n",
    "            ts = ts.rename(val)\n",
    "            ts.plot(ax=ax, fontsize=fontsize1)   \n",
    "            plt.title(key, fontsize=fontsize2)\n",
    "            plt.xlabel('')\n",
    "            \n",
    "            try: \n",
    "                max_ = ts.loc['2004':'2011'].idxmax()  \n",
    "            except:\n",
    "                continue\n",
    "\n",
    "            crash = '01-2009'\n",
    "            min_ = ts.loc[crash:].idxmin()\n",
    "            \n",
    "#             val_2003 = ts.loc['2003-01-01']\n",
    "\n",
    "#             ax.axvline(max_, label=f'Max price during bubble for {val}', color = 'orange', ls=':')               \n",
    "#             ax.axvline(min_, label=f'Min Price Post Crash for {val}', color = 'red', ls=':')\n",
    "#             ax.axvline(crash, color='black')            # if label is desired, insert the following:  label = 'Case-Schiller index declines'\n",
    "#             ax.axvline('2003-01-01', color = 'blue', ls='-.', alpha=0.15)   # for label, insert the following:  label='2003-01-01'\n",
    "#             ax.axhline(ts.loc['2003-01-01'], label='2003-01-01 value for {val}', ls='-.', alpha = 0.15)  # can't get this to work on multiple zip plots \n",
    "    \n",
    "            if set_ylim:\n",
    "                ax.set_ylim(ylim)\n",
    "            if legend:\n",
    "                ax.legend(loc=\"upper left\", fontsize=fontsize1)\n",
    "        \n",
    "        peak = '01-2007'\n",
    "        crash = '01-2009'\n",
    "        ax.axvline(crash, label = 'US median home price, \\npost-bubble low', color='red', ls=':')   \n",
    "        ax.axvline(peak, label = 'US median home price \\npeak during bubble', color='black', ls=':')\n",
    "        ax.axvline('2003-01-01', label = 'Beginning of bubble', color = 'blue', ls='-.', alpha=0.25)\n",
    "        \n",
    "        if legend:\n",
    "            ax.legend(loc='upper left', fontsize=fontsize1)\n",
    "\n",
    "        fig.tight_layout()\n",
    "    \n",
    "    return fig, ax\n"
   ]
  },
  {
   "cell_type": "markdown",
   "metadata": {},
   "source": [
    "### Plotting function:  single_zip_boxplot (boxplots of a single ZIP code)"
   ]
  },
  {
   "cell_type": "code",
   "execution_count": 74,
   "metadata": {},
   "outputs": [],
   "source": [
    "def single_zip_boxplot(df, geog_area, col1 = 'value', col2 = 'Zip', figsize=(8, 4)):\n",
    "    \n",
    "    '''Plots boxplots of each zipcode within a city.  Need to use dataframe with values by ZIP \n",
    "    for just that CITY (or specify .loc in arguments that column 'City' == CITY in question).\n",
    "    Need LIST of ZIP codes for that particular CITY.  Need to specify nrows, ncols, and figsize.\n",
    "    '''\n",
    "    \n",
    "    fig = plt.figure(figsize=figsize)\n",
    "    ts = df.loc[df[col2] == geog_area]\n",
    "    ts.boxplot(column = col1)\n",
    "    plt.title(f'{geog_area}')\n",
    "    "
   ]
  },
  {
   "cell_type": "markdown",
   "metadata": {},
   "source": [
    "### Plotting function:  city_zips_boxplot (boxplots of zip codes in a city)"
   ]
  },
  {
   "cell_type": "code",
   "execution_count": 75,
   "metadata": {},
   "outputs": [],
   "source": [
    "def city_zips_boxplot(df, city_zips, nrows, ncols, figsize=(18, 30)):\n",
    "    \n",
    "    '''Plots boxplots of each zipcode within a city.  Need to use dataframe with values by ZIP \n",
    "    for just that CITY (or specify .loc in arguments that column 'City' == CITY in question).\n",
    "    Need LIST of ZIP codes for that particular CITY.  Need to specify nrows, ncols, and figsize.\n",
    "    '''\n",
    "    \n",
    "    fig = plt.figure(figsize=figsize)\n",
    "    \n",
    "    for i, zc in enumerate(city_zips, start=1):\n",
    "        ax = fig.add_subplot(nrows, ncols, i)\n",
    "        ts = df.loc[df['Zip'] == zc]\n",
    "        ts.boxplot(column = 'value', ax = ax)\n",
    "        ax.set_title(f'{zc}')\n",
    "        fig.tight_layout()\n"
   ]
  },
  {
   "cell_type": "markdown",
   "metadata": {},
   "source": [
    "### Plotting function:  metro_zips_boxplot (boxplots by zip in metro area)"
   ]
  },
  {
   "cell_type": "code",
   "execution_count": 76,
   "metadata": {},
   "outputs": [],
   "source": [
    "def metro_zips_boxplot(df, metro_zips, nrows, ncols, figsize=(18, 100)):\n",
    "    \n",
    "    '''Plots boxplots of each zipcode within a city.  Need to use dataframe with values by ZIP \n",
    "    for just that METRO area (or specify .loc in arguments that column 'MetroState' == METRO).\n",
    "    Need a LIST of ZIP codes within that METRO area.  Need to specify nrows, ncols, and figsize.\n",
    "    '''\n",
    "    \n",
    "    fig = plt.figure(figsize=figsize)\n",
    "    \n",
    "    for i, zc in enumerate(metro_zips, start=1):\n",
    "        ax = fig.add_subplot(nrows, ncols, i)\n",
    "        ts = df.loc[df['Zip'] == zc]\n",
    "        ts.boxplot(column = 'value', ax = ax)\n",
    "        ax.set_title(f'{zc}')\n",
    "        fig.tight_layout()\n"
   ]
  },
  {
   "cell_type": "markdown",
   "metadata": {},
   "source": [
    "### Plotting function:  metro_cities_boxplot (boxplots by city in metro area)"
   ]
  },
  {
   "cell_type": "code",
   "execution_count": 77,
   "metadata": {},
   "outputs": [],
   "source": [
    "def metro_cities_boxplot(df, metro_cities, nrows, ncols, figsize=(18, 30)):\n",
    "    \n",
    "    '''Plots boxplots of each city within a metro area.  Need to use dataframe with values \n",
    "    by CITY for just that METRO (or specify .loc in arguments that column 'MetroState' == METRO.\n",
    "    Need LIST of CITIES within a particular metro area.  Need to specify nrows, ncols, and figsize.\n",
    "    '''\n",
    "    \n",
    "    fig = plt.figure(figsize=figsize)\n",
    "    \n",
    "    for i, city in enumerate(metro_cities, start=1):\n",
    "        ax = fig.add_subplot(nrows, ncols, i)\n",
    "        ts = df.loc[df['City'] == city]\n",
    "        ts.boxplot(column = 'value', ax = ax)\n",
    "        ax.set_title(f'{city}')\n",
    "        fig.tight_layout()\n"
   ]
  },
  {
   "cell_type": "markdown",
   "metadata": {},
   "source": [
    "### Plotting function:  metro_cities_zips_boxplot (boxplots by city and zip code in metro area)"
   ]
  },
  {
   "cell_type": "code",
   "execution_count": 78,
   "metadata": {},
   "outputs": [],
   "source": [
    "def metro_cities_zips_boxplot(df, dict_metro_cities_zips, nrows, ncols, figsize=(18, 40)):\n",
    "    \n",
    "    '''Plots boxplots of all zip codes in each city within a metro area.  Need to use dataframe \n",
    "    with values by ZIP code and CITY for just that METRO (or specify .loc in arguments that \n",
    "    column 'MetroState' == METRO). Need DICTIONARY of ZIPS by CITY within that METRO area.  \n",
    "    Need to specify nrows, ncols, and figsize.\n",
    "    '''\n",
    "    \n",
    "    fig = plt.figure(figsize=figsize)\n",
    "    \n",
    "    for i, (city, zc) in enumerate(dict_metro_cities_zips.copy().items(), start=1):\n",
    "        ax = fig.add_subplot(nrows, ncols, i)\n",
    "        ax.set_title(f'{city}')\n",
    "        for i, zc in enumerate(dict_metro_cities_zips.copy()[city], start=1):\n",
    "            ts = df.loc[df['Zip'] == zc]\n",
    "            ts.boxplot(column = 'value', ax = ax)\n",
    "            ax.set_title(f'{city}')\n",
    "            fig.tight_layout()\n"
   ]
  },
  {
   "cell_type": "markdown",
   "metadata": {},
   "source": [
    "### Plotting function: violin plot for zip codes in a city or metro area"
   ]
  },
  {
   "cell_type": "code",
   "execution_count": 79,
   "metadata": {
    "scrolled": false
   },
   "outputs": [],
   "source": [
    "# got figure size  modification example from https://exceptionshub.com/how-do-i-change-the-figure-size-for-a-seaborn-plot.html\n",
    "\n",
    "# fig, ax = plt.subplots()\n",
    "# fig.set_size_inches(16, 6)\n",
    "# sns.violinplot(x=\"Zip\", y=\"value\", data=df_44, scale=\"count\", inner=\"stick\", ax=ax)\n",
    "\n",
    "def violin_plt(x, y, data, scale=\"width\", inner=\"quartile\", set_size_inches=(16, 6)):\n",
    "    \n",
    "    '''Plots zip codes within a city on one violin plot.  Set defaults to x='Zip', y='value', \n",
    "    data=df_sac_city, scale=\"width\", inner=\"quartile\", set_size_inches=(16, 6), ax=ax)\n",
    "    '''\n",
    "    \n",
    "    import seaborn as sns\n",
    "    fig, ax = plt.subplots()\n",
    "    fig.set_size_inches\n",
    "    sns.violinplot(x, y, data, scale, inner, ax)\n",
    "    \n",
    "    "
   ]
  },
  {
   "cell_type": "markdown",
   "metadata": {},
   "source": [
    "### Creating ACF and PACF plots"
   ]
  },
  {
   "cell_type": "code",
   "execution_count": 80,
   "metadata": {},
   "outputs": [],
   "source": [
    "from statsmodels.tsa.seasonal import seasonal_decompose\n",
    "from statsmodels.graphics.tsaplots import plot_acf, plot_pacf\n",
    "from pandas.plotting import autocorrelation_plot, lag_plot"
   ]
  },
  {
   "cell_type": "code",
   "execution_count": 81,
   "metadata": {
    "scrolled": false
   },
   "outputs": [],
   "source": [
    "# Adapted from James Irving's study group discussion\n",
    "\n",
    "def plot_acf_pacf(ts, figsize=(10,6), lags=15):\n",
    "    \n",
    "    ''' Plots both ACF and PACF for given times series (ts).  Time series needs to be a Series \n",
    "    (not DataFrame) of values.  Can modify figsize and number of lags if desired.'''\n",
    "\n",
    "    fig, ax = plt.subplots(nrows=2, figsize=figsize)\n",
    "    plot_acf(ts, ax=ax[0], lags=lags)\n",
    "    plot_pacf(ts, ax=ax[1], lags=lags)\n",
    "    plt.tight_layout()\n",
    "    \n",
    "    for a in ax:\n",
    "        a.xaxis.set_major_locator(mpl.ticker.MaxNLocator(min_n_ticks=lags, integer=True))\n",
    "        a.xaxis.grid()\n",
    "#         a.xaxis_date()\n",
    "    "
   ]
  },
  {
   "cell_type": "markdown",
   "metadata": {},
   "source": [
    "### Seasonal Decomposition"
   ]
  },
  {
   "cell_type": "code",
   "execution_count": 82,
   "metadata": {},
   "outputs": [],
   "source": [
    "# from James Irving's study group\n",
    "# plot seasonal decomposition\n",
    "\n",
    "def plot_seasonal_decomp(ts):\n",
    "    decomp = seasonal_decompose(ts)\n",
    "    ts_seasonal = decomp.seasonal\n",
    "\n",
    "    ax = ts_seasonal.plot()\n",
    "    fig = ax.get_figure()\n",
    "    fig.set_size_inches(18,6)\n",
    "\n",
    "    min_ = ts_seasonal.idxmin()\n",
    "    max_ = ts_seasonal.idxmax()\n",
    "    max_2 = ts_seasonal.loc[min_:].idxmax()\n",
    "    min_2 = ts_seasonal.loc[max_2:].idxmin()\n",
    "\n",
    "\n",
    "    ax.axvline(min_, label=min_, c='orange')\n",
    "    ax.axvline(max_, c='orange', ls=':')\n",
    "    ax.axvline(min_2, c='orange')\n",
    "    ax.axvline(max_2, c='orange', ls=':')\n",
    "\n",
    "    period = min_2 - min_ \n",
    "    ax.set_title(f'Season Length = {period}')\n",
    "    \n",
    "    return fig, ax\n"
   ]
  },
  {
   "cell_type": "markdown",
   "metadata": {},
   "source": [
    "## Plotting Sacramento values by zip code, grouped by city or within a city"
   ]
  },
  {
   "cell_type": "markdown",
   "metadata": {},
   "source": [
    "### Plotting values by city"
   ]
  },
  {
   "cell_type": "code",
   "execution_count": null,
   "metadata": {
    "scrolled": false
   },
   "outputs": [],
   "source": [
    "plot_ts_cities(df_sac_cities, sac_metro_cities, col='value', figsize=(18, 150));\n"
   ]
  },
  {
   "cell_type": "code",
   "execution_count": null,
   "metadata": {
    "scrolled": false
   },
   "outputs": [],
   "source": [
    "plot_ts_cities(df_sac_cities, sac_metro_cities[:6], nrows = 3, ncols = 2, figsize=(18,14), col='value', legend=True);"
   ]
  },
  {
   "cell_type": "code",
   "execution_count": null,
   "metadata": {},
   "outputs": [],
   "source": [
    "plot_ts_cities(df_sac_cities, sac_metro_cities[6:12], nrows = 3, ncols = 2, figsize=(18,14), col='value', legend=True);"
   ]
  },
  {
   "cell_type": "code",
   "execution_count": null,
   "metadata": {},
   "outputs": [],
   "source": [
    "plot_ts_cities(df_sac_cities, sac_metro_cities[12:18], nrows = 3, ncols = 2, figsize=(18,14), col='value', legend=True);\n"
   ]
  },
  {
   "cell_type": "code",
   "execution_count": null,
   "metadata": {},
   "outputs": [],
   "source": [
    "plot_ts_cities(df_sac_cities, sac_metro_cities[18:24], nrows = 3, ncols = 2, figsize=(16,14), col='value', legend=True)"
   ]
  },
  {
   "cell_type": "code",
   "execution_count": null,
   "metadata": {},
   "outputs": [],
   "source": [
    "plot_ts_cities(df_sac_cities, sac_metro_cities[24:30], nrows = 3, ncols = 2, figsize=(16,14), col='value', legend=True)"
   ]
  },
  {
   "cell_type": "code",
   "execution_count": null,
   "metadata": {},
   "outputs": [],
   "source": [
    "plot_ts_cities(df_sac_cities, sac_metro_cities[30:36], nrows = 3, ncols = 2, figsize=(16,14), col='value', legend=True)"
   ]
  },
  {
   "cell_type": "code",
   "execution_count": null,
   "metadata": {},
   "outputs": [],
   "source": [
    "plot_ts_cities(df_sac_cities, sac_metro_cities[36:42], nrows = 3, ncols = 2, figsize=(16,14), col='value', legend=True)"
   ]
  },
  {
   "cell_type": "code",
   "execution_count": null,
   "metadata": {},
   "outputs": [],
   "source": [
    "plot_ts_cities(df_sac_cities, sac_metro_cities[42:48], nrows = 3, ncols = 2, figsize=(16,14), col='value', legend=True)"
   ]
  },
  {
   "cell_type": "code",
   "execution_count": null,
   "metadata": {},
   "outputs": [],
   "source": [
    "plot_ts_cities(df_sac_cities, sac_metro_cities[48:54], nrows = 3, ncols = 2, figsize=(16,14), col='value', legend=True)"
   ]
  },
  {
   "cell_type": "code",
   "execution_count": null,
   "metadata": {},
   "outputs": [],
   "source": [
    "plot_ts_cities(df_sac_cities, sac_metro_cities[54:56], nrows = 3, ncols = 2, figsize=(16,14), col='value', legend=True)"
   ]
  },
  {
   "cell_type": "markdown",
   "metadata": {},
   "source": [
    "### Plots of zip codes within City of Sacramento"
   ]
  },
  {
   "cell_type": "code",
   "execution_count": null,
   "metadata": {},
   "outputs": [],
   "source": [
    "df_sacto_city_zips = df_sac.loc[df_sac['City'] == 'Sacramento']\n",
    "df_sacto_city_zips.head()"
   ]
  },
  {
   "cell_type": "code",
   "execution_count": null,
   "metadata": {},
   "outputs": [],
   "source": [
    "df_sacto_city_zips['Zip'].value_counts()"
   ]
  },
  {
   "cell_type": "code",
   "execution_count": null,
   "metadata": {},
   "outputs": [],
   "source": [
    "sacto_zips = list(set(df_sacto_city_zips['Zip']))\n",
    "len(sacto_zips)"
   ]
  },
  {
   "cell_type": "code",
   "execution_count": null,
   "metadata": {
    "scrolled": true
   },
   "outputs": [],
   "source": [
    "ts = df_sacto_city_zips['value'].loc[df_sacto_city_zips['Zip'] == '95823']\n",
    "ts.head()"
   ]
  },
  {
   "cell_type": "code",
   "execution_count": null,
   "metadata": {
    "scrolled": false
   },
   "outputs": [],
   "source": [
    "fig, ax = plot_ts_zips(df_sac, sacto_zips, nrows=11, ncols=2, figsize=(18, 50), legend=True);\n"
   ]
  },
  {
   "cell_type": "markdown",
   "metadata": {},
   "source": [
    "### Plotting cities and zip codes within Sacramento Metro area "
   ]
  },
  {
   "cell_type": "code",
   "execution_count": null,
   "metadata": {
    "scrolled": false
   },
   "outputs": [],
   "source": [
    "fig, ax = plot_ts_zips_by_city(df_sac, dict_sac_zips_cities, figsize=(18, 120), nrows=30, ncols=2, legend=False);\n"
   ]
  },
  {
   "cell_type": "code",
   "execution_count": null,
   "metadata": {},
   "outputs": [],
   "source": [
    "fig, ax = plot_ts_zips_by_city(df_sac, dict_0_6, figsize=(18, 14), nrows=3, ncols=2, legend=True);"
   ]
  },
  {
   "cell_type": "code",
   "execution_count": null,
   "metadata": {},
   "outputs": [],
   "source": [
    "fig, ax = plot_ts_zips_by_city(df_sac, dict_6_12, figsize=(18, 14), nrows=3, ncols=2, legend=True);"
   ]
  },
  {
   "cell_type": "code",
   "execution_count": null,
   "metadata": {},
   "outputs": [],
   "source": [
    "fig, ax = plot_ts_zips_by_city(df_sac, dict_12_18, figsize=(18, 14), nrows=3, ncols=2, legend=True);"
   ]
  },
  {
   "cell_type": "code",
   "execution_count": null,
   "metadata": {},
   "outputs": [],
   "source": [
    "fig, ax = plot_ts_zips_by_city(df_sac, dict_18_24, figsize=(18, 14), nrows=3, ncols=2, legend=True);"
   ]
  },
  {
   "cell_type": "code",
   "execution_count": null,
   "metadata": {},
   "outputs": [],
   "source": [
    "fig, ax = plot_ts_zips_by_city(df_sac, dict_24_30, figsize=(18, 14), nrows=3, ncols=2, legend=True);"
   ]
  },
  {
   "cell_type": "code",
   "execution_count": null,
   "metadata": {},
   "outputs": [],
   "source": [
    "fig, ax = plot_ts_zips_by_city(df_sac, dict_30_36, figsize=(18, 14), nrows=3, ncols=2, legend=True);"
   ]
  },
  {
   "cell_type": "code",
   "execution_count": null,
   "metadata": {},
   "outputs": [],
   "source": [
    "fig, ax = plot_ts_zips_by_city(df_sac, dict_36_42, figsize=(18, 14), nrows=3, ncols=2, legend=True);"
   ]
  },
  {
   "cell_type": "code",
   "execution_count": null,
   "metadata": {},
   "outputs": [],
   "source": [
    "fig, ax = plot_ts_zips_by_city(df_sac, dict_42_48, figsize=(16, 13), nrows=3, ncols=2, legend=False);"
   ]
  },
  {
   "cell_type": "code",
   "execution_count": null,
   "metadata": {},
   "outputs": [],
   "source": [
    "fig, ax = plot_ts_zips_by_city(df_sac, dict_48_54, figsize=(16, 13), nrows=3, ncols=2, legend=True);"
   ]
  },
  {
   "cell_type": "code",
   "execution_count": null,
   "metadata": {},
   "outputs": [],
   "source": [
    "fig, ax = plot_ts_zips_by_city(df_sac, dict_54_56, figsize=(16, 13), nrows=3, ncols=2, legend=True);"
   ]
  },
  {
   "cell_type": "markdown",
   "metadata": {},
   "source": [
    "### Plotting boxplots for each city in Sacto Metro region"
   ]
  },
  {
   "cell_type": "code",
   "execution_count": null,
   "metadata": {
    "scrolled": false
   },
   "outputs": [],
   "source": [
    "metro_cities_boxplot(df_sac, sac_metro_cities, nrows=10, ncols=6, figsize=(18, 40))\n"
   ]
  },
  {
   "cell_type": "markdown",
   "metadata": {},
   "source": [
    "### Plotting boxplots for each zip in Sacramento metro region"
   ]
  },
  {
   "cell_type": "code",
   "execution_count": null,
   "metadata": {
    "scrolled": true
   },
   "outputs": [],
   "source": [
    "metro_zips_boxplot(df_sac, sac_metro_zips, nrows = 12, ncols=8, figsize=(18, 60))\n"
   ]
  },
  {
   "cell_type": "code",
   "execution_count": null,
   "metadata": {},
   "outputs": [],
   "source": [
    "metro_cities_zips_boxplot(df_sac, dict_sac_zips_cities, nrows=14, ncols=6, figsize=(18, 50))\n"
   ]
  },
  {
   "cell_type": "code",
   "execution_count": null,
   "metadata": {},
   "outputs": [],
   "source": [
    "df_sac_city = df_sac.loc[df_sac['City'] == 'Sacramento']\n",
    "\n",
    "df_sac_city.head()"
   ]
  },
  {
   "cell_type": "code",
   "execution_count": null,
   "metadata": {},
   "outputs": [],
   "source": [
    "sacto_zips = list(set(df_sac_city['Zip']))\n",
    "len(sacto_zips)\n"
   ]
  },
  {
   "cell_type": "code",
   "execution_count": null,
   "metadata": {},
   "outputs": [],
   "source": [
    "df_sac_city.boxplot(by='Zip', column = 'value', figsize=(16, 6))\n"
   ]
  },
  {
   "cell_type": "markdown",
   "metadata": {},
   "source": [
    "### Violin plot for Sacramento city zip codes"
   ]
  },
  {
   "cell_type": "code",
   "execution_count": null,
   "metadata": {},
   "outputs": [],
   "source": [
    "import seaborn as sns\n"
   ]
  },
  {
   "cell_type": "code",
   "execution_count": null,
   "metadata": {
    "scrolled": false
   },
   "outputs": [],
   "source": [
    "# got figure size  modification example from https://exceptionshub.com/how-do-i-change-the-figure-size-for-a-seaborn-plot.html\n",
    "\n",
    "# fig, ax = plt.subplots()\n",
    "# fig.set_size_inches(16, 6)\n",
    "# sns.violinplot(x=\"Zip\", y=\"value\", data=df_44, scale=\"count\", inner=\"stick\", ax=ax)\n",
    "\n",
    "def violin_plt(x, y, data, scale=\"width\", inner=\"quartile\", set_size_inches=(16, 6)):\n",
    "    \n",
    "    '''Plots zip codes within a city on one violin plot.  Set defaults to x='Zip', y='value', \n",
    "    data=df_sac_city, scale=\"width\", inner=\"quartile\", set_size_inches=(16, 6), ax=ax)\n",
    "    '''\n",
    "    \n",
    "    import seaborn as sns\n",
    "    fig, ax = plt.subplots()\n",
    "    fig.set_size_inches\n",
    "    sns.violinplot(x, y, data, scale, inner, ax)\n",
    "    \n",
    "    "
   ]
  },
  {
   "cell_type": "code",
   "execution_count": null,
   "metadata": {
    "scrolled": false
   },
   "outputs": [],
   "source": [
    "# got figure size  modification example from https://exceptionshub.com/how-do-i-change-the-figure-size-for-a-seaborn-plot.html\n",
    "\n",
    "# fig, ax = plt.subplots()\n",
    "# fig.set_size_inches(16, 6)\n",
    "# sns.violinplot(x=\"Zip\", y=\"value\", data=df_44, scale=\"count\", inner=\"stick\", ax=ax)\n",
    "\n",
    "import seaborn as sns\n",
    "\n",
    "fig, ax = plt.subplots()\n",
    "fig.set_size_inches(16, 6)\n",
    "sns.violinplot(x=\"Zip\", y=\"value\", data=df_sac_city, scale=\"width\", inner=\"quartile\", ax=ax)"
   ]
  },
  {
   "cell_type": "code",
   "execution_count": null,
   "metadata": {},
   "outputs": [],
   "source": [
    "df_sac_city_1996_1999 = df_sac_city.loc['1996-04-01':'1999-12-01']\n",
    "df_sac_city_1996_1999.tail()"
   ]
  },
  {
   "cell_type": "code",
   "execution_count": null,
   "metadata": {},
   "outputs": [],
   "source": [
    "fig, ax = plt.subplots()\n",
    "fig.set_size_inches(16, 6)\n",
    "sns.violinplot(x=\"Zip\", y=\"value\", data=df_sac_city_1996_1999, scale=\"width\", inner=\"quartile\", ax=ax)"
   ]
  },
  {
   "cell_type": "code",
   "execution_count": null,
   "metadata": {},
   "outputs": [],
   "source": [
    "df_sac_city_2000_2003 = df_sac_city.loc['2000-01-01':'2003-12-01']\n",
    "df_sac_city_2000_2003.head()"
   ]
  },
  {
   "cell_type": "code",
   "execution_count": null,
   "metadata": {},
   "outputs": [],
   "source": [
    "fig, ax = plt.subplots()\n",
    "fig.set_size_inches(16, 6)\n",
    "sns.violinplot(x=\"Zip\", y=\"value\", data=df_sac_city_2000_2003, scale=\"width\", inner=\"quartile\", ax=ax)"
   ]
  },
  {
   "cell_type": "code",
   "execution_count": null,
   "metadata": {},
   "outputs": [],
   "source": [
    "df_sac_city_2004_2006 = df_sac_city.loc['2004-01-01':'2006-12-01']\n",
    "df_sac_city_2004_2006.head()"
   ]
  },
  {
   "cell_type": "code",
   "execution_count": null,
   "metadata": {},
   "outputs": [],
   "source": [
    "fig, ax = plt.subplots()\n",
    "fig.set_size_inches(16, 6)\n",
    "sns.violinplot(x=\"Zip\", y=\"value\", data=df_sac_city_2004_2006, scale=\"width\", inner=\"quartile\", ax=ax)"
   ]
  },
  {
   "cell_type": "code",
   "execution_count": null,
   "metadata": {},
   "outputs": [],
   "source": [
    "df_sac_city_2007_2012 = df_sac_city.loc['2007-01-01':'2012-12-01']\n",
    "df_sac_city_2007_2012.head()"
   ]
  },
  {
   "cell_type": "code",
   "execution_count": null,
   "metadata": {},
   "outputs": [],
   "source": [
    "fig, ax = plt.subplots()\n",
    "fig.set_size_inches(16, 6)\n",
    "sns.violinplot(x=\"Zip\", y=\"value\", data=df_sac_city_2007_2012, scale=\"width\", inner=\"quartile\", ax=ax)"
   ]
  },
  {
   "cell_type": "code",
   "execution_count": null,
   "metadata": {},
   "outputs": [],
   "source": [
    "df_sac_city_2013_2018 = df_sac_city.loc['2013-01-01':'2018']\n",
    "df_sac_city_2013_2018.tail()"
   ]
  },
  {
   "cell_type": "code",
   "execution_count": null,
   "metadata": {},
   "outputs": [],
   "source": [
    "fig, ax = plt.subplots()\n",
    "fig.set_size_inches(16, 6)\n",
    "sns.violinplot(x=\"Zip\", y=\"value\", data=df_sac_city_2013_2018, scale=\"width\", inner=\"quartile\", ax=ax)"
   ]
  },
  {
   "cell_type": "markdown",
   "metadata": {},
   "source": [
    "# Step 4:  ARIMA Modeling"
   ]
  },
  {
   "cell_type": "markdown",
   "metadata": {},
   "source": [
    "## Setting up functions for running ARIMA models"
   ]
  },
  {
   "cell_type": "code",
   "execution_count": 83,
   "metadata": {},
   "outputs": [],
   "source": [
    "# Set geog_area = ZIP code\n",
    "\n",
    "geog_area = '95616'"
   ]
  },
  {
   "cell_type": "code",
   "execution_count": 84,
   "metadata": {},
   "outputs": [],
   "source": [
    "ts = df_melt['value'].loc[df_melt['Zip'] == geog_area]"
   ]
  },
  {
   "cell_type": "code",
   "execution_count": 85,
   "metadata": {},
   "outputs": [
    {
     "data": {
      "text/plain": [
       "time\n",
       "1996-04-01    202500.0\n",
       "1996-05-01    202500.0\n",
       "1996-06-01    202500.0\n",
       "1996-07-01    202500.0\n",
       "1996-08-01    202500.0\n",
       "Name: value, dtype: float64"
      ]
     },
     "execution_count": 85,
     "metadata": {},
     "output_type": "execute_result"
    }
   ],
   "source": [
    "ts.head()"
   ]
  },
  {
   "cell_type": "markdown",
   "metadata": {},
   "source": [
    "### Function for model parameter fine-tuning"
   ]
  },
  {
   "cell_type": "code",
   "execution_count": 86,
   "metadata": {},
   "outputs": [],
   "source": [
    "import warnings\n",
    "from statsmodels.tsa.arima_model import ARIMA\n",
    "import statsmodels.api as sm\n",
    "from sklearn.metrics import mean_squared_error\n"
   ]
  },
  {
   "cell_type": "markdown",
   "metadata": {},
   "source": [
    "### Creating p, d, q, and m values for running ARIMA model"
   ]
  },
  {
   "cell_type": "code",
   "execution_count": 137,
   "metadata": {},
   "outputs": [],
   "source": [
    "# evaluate parameters\n",
    "p_values = [0, 1, 2, 4, 8, 10]\n",
    "d_values = range(0, 3)\n",
    "q_values = range(0, 3)\n",
    "warnings.filterwarnings(\"ignore\")\n"
   ]
  },
  {
   "cell_type": "code",
   "execution_count": 138,
   "metadata": {
    "scrolled": true
   },
   "outputs": [
    {
     "name": "stdout",
     "output_type": "stream",
     "text": [
      "[(0, 1, 0), (0, 1, 1), (0, 1, 2), (0, 2, 0), (0, 2, 1), (0, 2, 2), (1, 1, 0), (1, 1, 1), (1, 1, 2), (1, 2, 0), (1, 2, 1), (1, 2, 2), (2, 1, 0), (2, 1, 1), (2, 1, 2), (2, 2, 0), (2, 2, 1), (2, 2, 2), (4, 1, 0), (4, 1, 1), (4, 1, 2), (4, 2, 0), (4, 2, 1), (4, 2, 2), (8, 1, 0), (8, 1, 1), (8, 1, 2), (8, 2, 0), (8, 2, 1), (8, 2, 2), (10, 1, 0), (10, 1, 1), (10, 1, 2), (10, 2, 0), (10, 2, 1), (10, 2, 2)]\n",
      "\n",
      "[(0, 1, 0, 0), (0, 1, 0, 6), (0, 1, 0, 12), (0, 1, 1, 0), (0, 1, 1, 6), (0, 1, 1, 12), (0, 1, 2, 0), (0, 1, 2, 6), (0, 1, 2, 12), (0, 2, 0, 0), (0, 2, 0, 6), (0, 2, 0, 12), (0, 2, 1, 0), (0, 2, 1, 6), (0, 2, 1, 12), (0, 2, 2, 0), (0, 2, 2, 6), (0, 2, 2, 12), (1, 1, 0, 0), (1, 1, 0, 6)]\n"
     ]
    }
   ],
   "source": [
    "import itertools\n",
    "\n",
    "p_range = [0, 1, 2, 4, 8, 10]\n",
    "q_range = range(0, 3)\n",
    "d_range = range(1, 3)\n",
    "m_range = (0, 6, 12)\n",
    "\n",
    "pdq = list(itertools.product(p_range, d_range, q_range))\n",
    "print(pdq)\n",
    "print()\n",
    "PDQM = list(itertools.product(p_range, d_range, q_range, m_range))\n",
    "print(PDQM[:20])"
   ]
  },
  {
   "cell_type": "markdown",
   "metadata": {},
   "source": [
    "## Parameter fine-tuning function"
   ]
  },
  {
   "cell_type": "code",
   "execution_count": 139,
   "metadata": {},
   "outputs": [],
   "source": [
    "# def arima_predict_error(X, arima_order):\n",
    "#     train_size = int(len(X) * .85)\n",
    "#     train, test = X[0:train_size], X[train_size:]\n",
    "#     predictions = list()\n",
    "#     history = [x for x in train]\n",
    "#     for t in range(len(test)):\n",
    "#         model = ARIMA(history, order = arima_order)\n",
    "#         model_fit = model.fit(disp=0)\n",
    "#         y_hat = model_fit.forecast()[0]\n",
    "#         predictions.append(y_hat)\n",
    "#         history.append(test[t])\n",
    "#     error = mean_squared_error(test, predictions)\n",
    "#     return error\n",
    "\n",
    "# def eval_arima_models(data, p_values, d_values, q_values):\n",
    "#     data = data.astype('float32')\n",
    "#     best_score, best_cfg = float(\"inf\"), None\n",
    "#     for p in p_values:\n",
    "#         for d in d_values:\n",
    "#             for q in q_values:\n",
    "#                 order = (p,d,q)\n",
    "#                 try:\n",
    "#                     mse = arima_predict_error(data, order)\n",
    "#                     if mse < best_score:\n",
    "#                         best_score, best_cfg = mse, order\n",
    "#                     print('ARIMA%s MSE=%.3f' % (order,mse))\n",
    "#                 except:\n",
    "#                     continue\n",
    "#     print('Best ARIMA%s MSE=%.3f' % (best_cfg, best_score))\n",
    "#     return best_cfg\n"
   ]
  },
  {
   "cell_type": "code",
   "execution_count": 220,
   "metadata": {},
   "outputs": [],
   "source": [
    "def arima_predict_error(X, arima_order):\n",
    "    train_size = int(len(X) * .85)\n",
    "    train, test = X[0:train_size], X[train_size:]\n",
    "    predictions = list()\n",
    "    history = [x for x in train]\n",
    "    for t in range(len(test)):\n",
    "        model = ARIMA(history, order = arima_order)\n",
    "        model_fit = model.fit(disp=0)\n",
    "        y_hat = model_fit.forecast()[0]\n",
    "        predictions.append(y_hat)\n",
    "        history.append(test[t])\n",
    "    error = mean_squared_error(test, predictions)\n",
    "    return error\n",
    "\n"
   ]
  },
  {
   "cell_type": "code",
   "execution_count": 222,
   "metadata": {},
   "outputs": [],
   "source": [
    "def eval_arima_models(ts, p_values, d_values, q_values):\n",
    "    ts_value = ts['value']\n",
    "    ts_value = ts_value.astype('float32')\n",
    "    best_score, best_cfg = float(\"inf\"), None\n",
    "    for p in p_values:\n",
    "        for d in d_values:\n",
    "            for q in q_values:\n",
    "                order = (p,d,q)\n",
    "                try:\n",
    "                    mse = arima_predict_error(ts_value, order)\n",
    "                    if mse < best_score:\n",
    "                        best_score, best_cfg = mse, order\n",
    "                    print('ARIMA%s MSE=%.3f' % (order,mse))\n",
    "                except:\n",
    "                    continue\n",
    "    print('Best ARIMA%s MSE=%.3f' % (best_cfg, best_score))\n",
    "    return best_cfg\n"
   ]
  },
  {
   "cell_type": "code",
   "execution_count": 157,
   "metadata": {},
   "outputs": [],
   "source": [
    "# # Adapted from Jeff Herman's starter notebook\n",
    "\n",
    "# def param_fine_tune(data, p_values, d_values, q_values):\n",
    "#     for p in p_values:\n",
    "#         for d in d_values:\n",
    "#             for q in q_values:\n",
    "#                 order = (p,d,q)\n",
    "    \n",
    "\n",
    "    \n",
    "    \n",
    "#     arima_order = (p,d,q)\n",
    "    \n",
    "    \n",
    "# def arima_predict_error(X, arima_order):\n",
    "#     train_size = int(len(X) * .85)\n",
    "#     train, test = X[0:train_size], X[train_size:]\n",
    "#     predictions = list()\n",
    "#     history = [x for x in train]\n",
    "#     for t in range(len(test)):\n",
    "#         model = ARIMA(history, order = arima_order)\n",
    "#         model_fit = model.fit(disp=0)\n",
    "#         y_hat = model_fit.forecast()[0]\n",
    "#         predictions.append(y_hat)\n",
    "#         history.append(test[t])\n",
    "#     error = mean_squared_error(test, predictions)\n",
    "#     return error\n",
    "\n",
    "# def eval_arima_models(data, p_values, d_values, q_values):\n",
    "#     data = data.astype('float32')\n",
    "#     best_score, best_cfg = float(\"inf\"), None\n",
    "#     for p in p_values:\n",
    "#         for d in d_values:\n",
    "#             for q in q_values:\n",
    "#                 order = (p,d,q)\n",
    "#                 try:\n",
    "#                     mse = arima_predict_error(data, order)\n",
    "#                     if mse < best_score:\n",
    "#                         best_score, best_cfg = mse, order\n",
    "#                     print('ARIMA%s MSE=%.3f' % (order,mse))\n",
    "#                 except:\n",
    "#                     continue\n",
    "#     print('Best ARIMA%s MSE=%.3f' % (best_cfg, best_score))\n",
    "#     return best_cfg\n"
   ]
  },
  {
   "cell_type": "code",
   "execution_count": 90,
   "metadata": {},
   "outputs": [],
   "source": [
    "# eval_arima_models(ts.values, p_values, d_values, q_values)    "
   ]
  },
  {
   "cell_type": "markdown",
   "metadata": {},
   "source": [
    "# Step 5: Functions for Interpreting Results"
   ]
  },
  {
   "cell_type": "markdown",
   "metadata": {},
   "source": [
    "## Create ARIMA model show summary results table"
   ]
  },
  {
   "cell_type": "code",
   "execution_count": 235,
   "metadata": {},
   "outputs": [],
   "source": [
    "# Define function\n",
    "\n",
    "def arima_zipcode(ts, order):\n",
    "    ts_value = ts.value\n",
    "    model = ARIMA(ts_value, order = order)\n",
    "    model_fit = model.fit(disp=0)\n",
    "    print(model_fit.summary())\n",
    "    return model_fit\n",
    "\n",
    "# model_fit = arima_zipcode(ts_values, order = order)"
   ]
  },
  {
   "cell_type": "code",
   "execution_count": 92,
   "metadata": {
    "scrolled": true
   },
   "outputs": [],
   "source": [
    "# model_fit = arima_zipcode(ts_values, order = order)"
   ]
  },
  {
   "cell_type": "markdown",
   "metadata": {},
   "source": [
    "## Create forecast model"
   ]
  },
  {
   "cell_type": "code",
   "execution_count": 93,
   "metadata": {},
   "outputs": [],
   "source": [
    "# Define function\n",
    "\n",
    "def forecast(model_fit, months=24, confint=2):\n",
    "    forecast = model_fit.forecast(months)\n",
    "    actual_forecast = forecast[0]\n",
    "    std_error = forecast[1]\n",
    "    forecast_confint = forecast[confint]\n",
    "    return actual_forecast, std_error, forecast_confint   \n",
    "\n",
    "# actual_forecast, std_error, forecast_confint = forecast(model_fit)"
   ]
  },
  {
   "cell_type": "code",
   "execution_count": 94,
   "metadata": {},
   "outputs": [],
   "source": [
    "# actual_forecast, std_error, forecast_confint  "
   ]
  },
  {
   "cell_type": "markdown",
   "metadata": {},
   "source": [
    "## Create dataframe to hold these values and join to existing dataframe"
   ]
  },
  {
   "cell_type": "code",
   "execution_count": 95,
   "metadata": {},
   "outputs": [],
   "source": [
    "# Define function\n",
    "\n",
    "def forecast_df(actual_forecast, forecast_confint, std_error, col = 'time', \n",
    "                daterange = pd.date_range(start='2018-05-01', end='2020-04-01', freq='MS')):\n",
    "    df_forecast = pd.DataFrame({col: daterange})\n",
    "    df_forecast['forecast'] = actual_forecast\n",
    "    df_forecast['forecast_lower'] = forecast_confint[:, 0]\n",
    "    df_forecast['forecast_upper'] = forecast_confint[:, 1]\n",
    "    df_forecast['standard error'] = std_error\n",
    "    df_forecast.set_index('time', inplace=True)\n",
    "    return df_forecast\n"
   ]
  },
  {
   "cell_type": "code",
   "execution_count": 96,
   "metadata": {
    "scrolled": true
   },
   "outputs": [],
   "source": [
    "# df_forecast = forecast_df(actual_forecast, forecast_confint, std_error)"
   ]
  },
  {
   "cell_type": "markdown",
   "metadata": {},
   "source": [
    "## Create df_new with historical and forecasted values"
   ]
  },
  {
   "cell_type": "code",
   "execution_count": 285,
   "metadata": {},
   "outputs": [],
   "source": [
    "def concat_values_forecast(ts, df_forecast):\n",
    "    df_new = pd.concat([ts, df_forecast])\n",
    "    df_new = df_new.rename(columns = {0: 'value'})\n",
    "    return df_new"
   ]
  },
  {
   "cell_type": "code",
   "execution_count": 98,
   "metadata": {},
   "outputs": [],
   "source": [
    "# df_new = concat_values_forecast(ts, df_forecast)"
   ]
  },
  {
   "cell_type": "code",
   "execution_count": 99,
   "metadata": {},
   "outputs": [],
   "source": [
    "# df_new.head()"
   ]
  },
  {
   "cell_type": "markdown",
   "metadata": {},
   "source": [
    "## Plot forecast results"
   ]
  },
  {
   "cell_type": "code",
   "execution_count": 288,
   "metadata": {},
   "outputs": [],
   "source": [
    "# Define function\n",
    "\n",
    "def plot_forecast(df_new, geog_area, figsize=(12,8)):\n",
    "    fig = plt.figure(figsize=figsize)\n",
    "    plt.plot(df_new['value'], label='Raw Data')\n",
    "    plt.plot(df_new['forecast'], label='Forecast')\n",
    "    plt.fill_between(df_new.index, df_new['forecast_lower'], df_new['forecast_upper'], color='k', alpha = 0.2, \n",
    "                 label='Confidence Interval')\n",
    "    plt.legend(loc = 'upper left')\n",
    "    plt.title(f'Forecast for {geog_area}')\n"
   ]
  },
  {
   "cell_type": "code",
   "execution_count": 101,
   "metadata": {
    "scrolled": false
   },
   "outputs": [],
   "source": [
    "# plot_forecast(df_new)"
   ]
  },
  {
   "cell_type": "markdown",
   "metadata": {},
   "source": [
    "## Figure out percent change in home values"
   ]
  },
  {
   "cell_type": "code",
   "execution_count": 102,
   "metadata": {},
   "outputs": [],
   "source": [
    "# Define functions\n",
    "\n",
    "def forecast_values(df_new, date = '2020-04-01'):\n",
    "    forecasted_price = df_new.loc[date, 'forecast']\n",
    "    forecasted_lower = df_new.loc[date, 'forecast_lower']\n",
    "    forecasted_upper = df_new.loc[date, 'forecast_upper']    \n",
    "    return forecasted_price, forecasted_lower, forecasted_upper\n"
   ]
  },
  {
   "cell_type": "code",
   "execution_count": 103,
   "metadata": {},
   "outputs": [],
   "source": [
    "# forecasted_price, forecasted_lower, forecasted_upper = forecast_values(df_new)"
   ]
  },
  {
   "cell_type": "code",
   "execution_count": 104,
   "metadata": {},
   "outputs": [],
   "source": [
    "# forecasted_price, forecasted_lower, forecasted_upper"
   ]
  },
  {
   "cell_type": "code",
   "execution_count": 105,
   "metadata": {},
   "outputs": [],
   "source": [
    "def last_value(df, date = '2018-04-01'):\n",
    "    last_value = df.loc[date, 'value']\n",
    "    return last_value\n"
   ]
  },
  {
   "cell_type": "code",
   "execution_count": 106,
   "metadata": {},
   "outputs": [],
   "source": [
    "# last_value = last_value(df_new)"
   ]
  },
  {
   "cell_type": "code",
   "execution_count": 107,
   "metadata": {},
   "outputs": [],
   "source": [
    "# last_value"
   ]
  },
  {
   "cell_type": "markdown",
   "metadata": {},
   "source": [
    "## Compute and print predicted, best, and worst case scenarios"
   ]
  },
  {
   "cell_type": "code",
   "execution_count": 108,
   "metadata": {},
   "outputs": [],
   "source": [
    "def pred_best_worst(pred, low, high, last, date='April 1, 2020'):\n",
    "    \n",
    "    '''Prints out predicted, best-case, and worst-case scencarios from forecast'''\n",
    "    \n",
    "    pred_pct_change = (((pred - last) / last) * 100)\n",
    "    print(f'By the model prediction, I would expect to see a {round(pred_pct_change, 3)}% change in price by April 1, 2020.')\n",
    "    lower_pct_change = ((low - last) / last) * 100\n",
    "    print(f'At the lower bound of the confidence interval, I would expect to see a {round(lower_pct_change, 3)}% change in price by April 1, 2020.')\n",
    "    upper_pct_change = ((high - last) / last) * 100\n",
    "    print(f'At the upper bound of the confidence interval, I would expect to see a {round(upper_pct_change, 3)}% change in price by April 1, 2020.')\n",
    "    print(round(pred_pct_change, 3), round(lower_pct_change, 3), round(upper_pct_change, 3))\n",
    "        "
   ]
  },
  {
   "cell_type": "code",
   "execution_count": 109,
   "metadata": {},
   "outputs": [],
   "source": [
    "# pred_pct_change, lower_pct_change, upper_pct_change = pred_best_worst(pred=forecasted_price, low=forecasted_lower, high=forecasted_upper, last=last_value, date='April 1, 2020')\n"
   ]
  },
  {
   "cell_type": "code",
   "execution_count": 110,
   "metadata": {},
   "outputs": [],
   "source": [
    "# pred_pct_change, lower_pct_change, upper_pct_change"
   ]
  },
  {
   "cell_type": "markdown",
   "metadata": {},
   "source": [
    "## Recommendation--Zip code (City):   [Recommendation]\n",
    "\n",
    "*(Cut and paste the results printed out by the ARIMA modeling and forecasting function.  See example below.)*\n",
    "\n",
    "By the model prediction, I would expect to see a 1.756% change in price by April 1, 2020\n",
    "At the lower bound of the confidence interval, I would expect to see a -14.007% change in price by April 1, 2020\n",
    "At the upper bound of the confidence interval, I would expect to see a 17.518% change in price by April 1, 2020\n"
   ]
  },
  {
   "cell_type": "markdown",
   "metadata": {},
   "source": [
    "## Function for running ARIMA modeling and generating prediction results"
   ]
  },
  {
   "cell_type": "code",
   "execution_count": 289,
   "metadata": {},
   "outputs": [],
   "source": [
    "p_values = [0, 1, 2, 4, 8, 10]\n",
    "d_values = range(0, 3)\n",
    "q_values = range(0, 3)\n",
    "\n",
    "geog_areas = []\n",
    "cities = []\n",
    "orders = []\n",
    "predicted_prices = []\n",
    "lower_bound_prices = [] \n",
    "upper_bound_prices = []\n",
    "last_values = []\n",
    "pred_pct_changes = []\n",
    "lower_pct_changes = []\n",
    "upper_pct_changes = []\n",
    "\n",
    "\n",
    "def arima_forecast(ts, geog_area, city, p_values, d_values, q_values, best_pdq, confint=2, run_pdq = False):   # months = 24 by default\n",
    "    # evaluate parameters\n",
    "    print(f'For {geog_area} ({city}):')\n",
    "    p_values = [0, 1, 2, 4, 8, 10]\n",
    "    d_values = range(0, 3)\n",
    "    q_values = range(0, 3)\n",
    "    warnings.filterwarnings(\"ignore\")\n",
    "    \n",
    "    if run_pdq:\n",
    "        eval_arima_models(ts, p_values, d_values, q_values)     # returns order (variable best_cfg)\n",
    "        order = best_cfg\n",
    "    else:\n",
    "        order = best_pdq\n",
    "        \n",
    "    print(f'Best ARIMA order = {order}')\n",
    "    print(ts)\n",
    "    model_fit = arima_zipcode(ts, order)                                # returns model_fit\n",
    "    actual_forecast, forecast_confint, std_error = forecast(model_fit)  # returns actual_forecast, forecast_confint, std_error\n",
    "    df_forecast = forecast_df(actual_forecast, std_error, forecast_confint, col = 'time',     # returns df_forecast with future predictions\n",
    "                              daterange = pd.date_range(start='2018-05-01', end='2020-04-01', freq='MS'))\n",
    "    df_new = concat_values_forecast(ts, df_forecast)                    # concatenates historical and forecasted values into df_new\n",
    "    print(df_new.head())\n",
    "    print(df_new.tail())\n",
    "    plot_forecast(df_new, geog_area)                                    # plots forecast with the label of geog_area\n",
    "    forecasted_price, forecasted_lower, forecasted_upper = forecast_values(df_new, date = '2020-04-01')   # returns forecasted_price, forecasted_lower, forecasted_upper\n",
    "    last_value = last_value(df_new, date = '2018-04-01')                # returns the value on the last date in historical dataset (2018-01-03)\n",
    "    pred_pct_change, lower_pct_change, upper_pct_change = pred_best_worst(pred,         # returns predicted, worst-case (2 conf. intervals below),\n",
    "                    low, high, last, date='April 1, 2020')                              # and best-case (2 conf. intervals above) values\n",
    "                                                                                        # pred_pct_change, lower_pct_change, upper_pct_change\n",
    "    geog_areas.append(geog_area)\n",
    "    cities.append(city)\n",
    "    orders.append(order)\n",
    "    predicted_prices.append(forecasted_price)\n",
    "    lower_bound_prices.append(forecasted_lower)\n",
    "    upper_bound_prices.append(forecasted_upper)\n",
    "    last_values.append(last_value)\n",
    "    pred_pct_changes.append(pred_pct_change)\n",
    "    lower_pct_changes.append(lower_pct_change)\n",
    "    upper_pct_changes.append(upper_pct_change)\n",
    "    return geog_areas, cities, orders, predicted_prices, lower_bound_prices, upper_bound_prices, last_values, pred_pct_changes, lower_pct_changes, upper_pct_changes\n",
    "           # returns the following as lists:  geog_areas, cities, orders, predicted_prices, lower_bound_prices, \n",
    "           # upper_bound_prices, last_values, pred_pct_changes, lower_pct_changes, upper_pct_changes\n"
   ]
  },
  {
   "cell_type": "code",
   "execution_count": 276,
   "metadata": {},
   "outputs": [],
   "source": [
    "p_values = [0, 1, 2, 4, 8, 10]\n",
    "d_values = range(0, 3)\n",
    "q_values = range(0, 3)\n",
    "\n",
    "geog_areas = []\n",
    "cities = []\n",
    "orders = []\n",
    "predicted_prices = []\n",
    "lower_bound_prices = [] \n",
    "upper_bound_prices = []\n",
    "last_values = []\n",
    "pred_pct_changes = []\n",
    "lower_pct_changes = []\n",
    "upper_pct_changes = []\n",
    "\n",
    "\n",
    "def arima_forecast(ts, geog_area, city, p_values, d_values, q_values, best_pdq, confint=2, run_pdq = False):   # months = 24 by default\n",
    "    # evaluate parameters\n",
    "    print(f'For {geog_area} ({city}):')\n",
    "    p_values = [0, 1, 2, 4, 8, 10]\n",
    "    d_values = range(0, 3)\n",
    "    q_values = range(0, 3)\n",
    "    warnings.filterwarnings(\"ignore\")\n",
    "    \n",
    "    if run_pdq:\n",
    "        eval_arima_models(ts, p_values, d_values, q_values)     # returns order (variable best_cfg)\n",
    "        order = best_cfg\n",
    "    else:\n",
    "        order = best_pdq\n",
    "        \n",
    "    print(f'Best ARIMA order = {order}')\n",
    "    print(ts)\n",
    "#     arima_zipcode(ts, order)                          # returns model_fit\n",
    "    forecast(arima_zipcode(ts, order))                  # returns actual_forecast, forecast_confint, std_error\n",
    "    forecast_df(forecast(arima_zipcode(ts, order))[0],  # returns df_forecast with future predictions\n",
    "                forecast(arima_zipcode(ts, order))[2], \n",
    "                forecast(arima_zipcode(ts, order))[]col = 'time', \n",
    "                daterange = pd.date_range(start='2018-05-01', end='2020-04-01', freq='MS'))\n",
    "    concat_values_forecast(ts, df_forecast)        # concatenates historical and forecasted values into df_new\n",
    "    print(df_new.head())\n",
    "    print(df_new.tail())\n",
    "    plot_forecast(df_new, geog_area)               # plots forecast with the label of geog_area\n",
    "    forecast_values(df_new, date = '2020-04-01')   # returns forecasted_price, forecasted_lower, forecasted_upper\n",
    "    last_value(df_new, date = '2018-04-01')        # returns the value on the last date in historical dataset (2018-01-03)\n",
    "    pred_best_worst(pred, low, high,               # returns predicted, worst-case (2 conf. intervals below),\n",
    "                    last, date='April 1, 2020')    # and best-case (2 conf. intervals above) values\n",
    "                                                   # pred_pct_change, lower_pct_change, upper_pct_change\n",
    "\n",
    "    geog_areas.append(geog_area)\n",
    "    cities.append(city)\n",
    "    orders.append(order)\n",
    "    predicted_prices.append(forecasted_price)\n",
    "    lower_bound_prices.append(forecasted_lower)\n",
    "    upper_bound_prices.append(forecasted_upper)\n",
    "    last_values.append(last_value)\n",
    "    pred_pct_changes.append(pred_pct_change)\n",
    "    lower_pct_changes.append(lower_pct_change)\n",
    "    upper_pct_changes.append(upper_pct_change)\n",
    "    return geog_areas, cities, orders, predicted_prices, lower_bound_prices, upper_bound_prices, last_values, pred_pct_changes, lower_pct_changes, upper_pct_changes\n",
    "           # returns the following as lists:  geog_areas, cities, orders, predicted_prices, lower_bound_prices, \n",
    "           # upper_bound_prices, last_values, pred_pct_changes, lower_pct_changes, upper_pct_changes\n"
   ]
  },
  {
   "cell_type": "markdown",
   "metadata": {},
   "source": [
    "# Analysis by ZIP code"
   ]
  },
  {
   "cell_type": "markdown",
   "metadata": {},
   "source": [
    "## SacMetro: 95616 (Davis) "
   ]
  },
  {
   "cell_type": "markdown",
   "metadata": {},
   "source": [
    "### Set up time series dataframe for this ZIP code"
   ]
  },
  {
   "cell_type": "code",
   "execution_count": 121,
   "metadata": {},
   "outputs": [],
   "source": [
    "geog_area = '95616'"
   ]
  },
  {
   "cell_type": "code",
   "execution_count": 122,
   "metadata": {
    "scrolled": true
   },
   "outputs": [],
   "source": [
    "ts = df_melt.loc[df_melt['Zip'] == geog_area]"
   ]
  },
  {
   "cell_type": "code",
   "execution_count": 123,
   "metadata": {
    "scrolled": true
   },
   "outputs": [
    {
     "data": {
      "text/html": [
       "<div>\n",
       "<style scoped>\n",
       "    .dataframe tbody tr th:only-of-type {\n",
       "        vertical-align: middle;\n",
       "    }\n",
       "\n",
       "    .dataframe tbody tr th {\n",
       "        vertical-align: top;\n",
       "    }\n",
       "\n",
       "    .dataframe thead th {\n",
       "        text-align: right;\n",
       "    }\n",
       "</style>\n",
       "<table border=\"1\" class=\"dataframe\">\n",
       "  <thead>\n",
       "    <tr style=\"text-align: right;\">\n",
       "      <th></th>\n",
       "      <th>Zip</th>\n",
       "      <th>City</th>\n",
       "      <th>State</th>\n",
       "      <th>Metro</th>\n",
       "      <th>CountyName</th>\n",
       "      <th>SizeRank</th>\n",
       "      <th>value</th>\n",
       "      <th>MetroState</th>\n",
       "    </tr>\n",
       "    <tr>\n",
       "      <th>time</th>\n",
       "      <th></th>\n",
       "      <th></th>\n",
       "      <th></th>\n",
       "      <th></th>\n",
       "      <th></th>\n",
       "      <th></th>\n",
       "      <th></th>\n",
       "      <th></th>\n",
       "    </tr>\n",
       "  </thead>\n",
       "  <tbody>\n",
       "    <tr>\n",
       "      <td>1996-04-01</td>\n",
       "      <td>95616</td>\n",
       "      <td>Davis</td>\n",
       "      <td>CA</td>\n",
       "      <td>Sacramento</td>\n",
       "      <td>Yolo</td>\n",
       "      <td>955</td>\n",
       "      <td>202500.0</td>\n",
       "      <td>Sacramento CA</td>\n",
       "    </tr>\n",
       "    <tr>\n",
       "      <td>1996-05-01</td>\n",
       "      <td>95616</td>\n",
       "      <td>Davis</td>\n",
       "      <td>CA</td>\n",
       "      <td>Sacramento</td>\n",
       "      <td>Yolo</td>\n",
       "      <td>955</td>\n",
       "      <td>202500.0</td>\n",
       "      <td>Sacramento CA</td>\n",
       "    </tr>\n",
       "    <tr>\n",
       "      <td>1996-06-01</td>\n",
       "      <td>95616</td>\n",
       "      <td>Davis</td>\n",
       "      <td>CA</td>\n",
       "      <td>Sacramento</td>\n",
       "      <td>Yolo</td>\n",
       "      <td>955</td>\n",
       "      <td>202500.0</td>\n",
       "      <td>Sacramento CA</td>\n",
       "    </tr>\n",
       "    <tr>\n",
       "      <td>1996-07-01</td>\n",
       "      <td>95616</td>\n",
       "      <td>Davis</td>\n",
       "      <td>CA</td>\n",
       "      <td>Sacramento</td>\n",
       "      <td>Yolo</td>\n",
       "      <td>955</td>\n",
       "      <td>202500.0</td>\n",
       "      <td>Sacramento CA</td>\n",
       "    </tr>\n",
       "    <tr>\n",
       "      <td>1996-08-01</td>\n",
       "      <td>95616</td>\n",
       "      <td>Davis</td>\n",
       "      <td>CA</td>\n",
       "      <td>Sacramento</td>\n",
       "      <td>Yolo</td>\n",
       "      <td>955</td>\n",
       "      <td>202500.0</td>\n",
       "      <td>Sacramento CA</td>\n",
       "    </tr>\n",
       "  </tbody>\n",
       "</table>\n",
       "</div>"
      ],
      "text/plain": [
       "              Zip   City State       Metro CountyName  SizeRank     value  \\\n",
       "time                                                                        \n",
       "1996-04-01  95616  Davis    CA  Sacramento       Yolo       955  202500.0   \n",
       "1996-05-01  95616  Davis    CA  Sacramento       Yolo       955  202500.0   \n",
       "1996-06-01  95616  Davis    CA  Sacramento       Yolo       955  202500.0   \n",
       "1996-07-01  95616  Davis    CA  Sacramento       Yolo       955  202500.0   \n",
       "1996-08-01  95616  Davis    CA  Sacramento       Yolo       955  202500.0   \n",
       "\n",
       "               MetroState  \n",
       "time                       \n",
       "1996-04-01  Sacramento CA  \n",
       "1996-05-01  Sacramento CA  \n",
       "1996-06-01  Sacramento CA  \n",
       "1996-07-01  Sacramento CA  \n",
       "1996-08-01  Sacramento CA  "
      ]
     },
     "execution_count": 123,
     "metadata": {},
     "output_type": "execute_result"
    }
   ],
   "source": [
    "ts.head()"
   ]
  },
  {
   "cell_type": "code",
   "execution_count": 124,
   "metadata": {},
   "outputs": [],
   "source": [
    "ts = ts.resample('MS').asfreq()"
   ]
  },
  {
   "cell_type": "code",
   "execution_count": 125,
   "metadata": {},
   "outputs": [
    {
     "data": {
      "text/html": [
       "<div>\n",
       "<style scoped>\n",
       "    .dataframe tbody tr th:only-of-type {\n",
       "        vertical-align: middle;\n",
       "    }\n",
       "\n",
       "    .dataframe tbody tr th {\n",
       "        vertical-align: top;\n",
       "    }\n",
       "\n",
       "    .dataframe thead th {\n",
       "        text-align: right;\n",
       "    }\n",
       "</style>\n",
       "<table border=\"1\" class=\"dataframe\">\n",
       "  <thead>\n",
       "    <tr style=\"text-align: right;\">\n",
       "      <th></th>\n",
       "      <th>Zip</th>\n",
       "      <th>City</th>\n",
       "      <th>State</th>\n",
       "      <th>Metro</th>\n",
       "      <th>CountyName</th>\n",
       "      <th>SizeRank</th>\n",
       "      <th>value</th>\n",
       "      <th>MetroState</th>\n",
       "    </tr>\n",
       "    <tr>\n",
       "      <th>time</th>\n",
       "      <th></th>\n",
       "      <th></th>\n",
       "      <th></th>\n",
       "      <th></th>\n",
       "      <th></th>\n",
       "      <th></th>\n",
       "      <th></th>\n",
       "      <th></th>\n",
       "    </tr>\n",
       "  </thead>\n",
       "  <tbody>\n",
       "    <tr>\n",
       "      <td>1996-04-01</td>\n",
       "      <td>95616</td>\n",
       "      <td>Davis</td>\n",
       "      <td>CA</td>\n",
       "      <td>Sacramento</td>\n",
       "      <td>Yolo</td>\n",
       "      <td>955</td>\n",
       "      <td>202500.0</td>\n",
       "      <td>Sacramento CA</td>\n",
       "    </tr>\n",
       "    <tr>\n",
       "      <td>1996-05-01</td>\n",
       "      <td>95616</td>\n",
       "      <td>Davis</td>\n",
       "      <td>CA</td>\n",
       "      <td>Sacramento</td>\n",
       "      <td>Yolo</td>\n",
       "      <td>955</td>\n",
       "      <td>202500.0</td>\n",
       "      <td>Sacramento CA</td>\n",
       "    </tr>\n",
       "    <tr>\n",
       "      <td>1996-06-01</td>\n",
       "      <td>95616</td>\n",
       "      <td>Davis</td>\n",
       "      <td>CA</td>\n",
       "      <td>Sacramento</td>\n",
       "      <td>Yolo</td>\n",
       "      <td>955</td>\n",
       "      <td>202500.0</td>\n",
       "      <td>Sacramento CA</td>\n",
       "    </tr>\n",
       "    <tr>\n",
       "      <td>1996-07-01</td>\n",
       "      <td>95616</td>\n",
       "      <td>Davis</td>\n",
       "      <td>CA</td>\n",
       "      <td>Sacramento</td>\n",
       "      <td>Yolo</td>\n",
       "      <td>955</td>\n",
       "      <td>202500.0</td>\n",
       "      <td>Sacramento CA</td>\n",
       "    </tr>\n",
       "    <tr>\n",
       "      <td>1996-08-01</td>\n",
       "      <td>95616</td>\n",
       "      <td>Davis</td>\n",
       "      <td>CA</td>\n",
       "      <td>Sacramento</td>\n",
       "      <td>Yolo</td>\n",
       "      <td>955</td>\n",
       "      <td>202500.0</td>\n",
       "      <td>Sacramento CA</td>\n",
       "    </tr>\n",
       "  </tbody>\n",
       "</table>\n",
       "</div>"
      ],
      "text/plain": [
       "              Zip   City State       Metro CountyName  SizeRank     value  \\\n",
       "time                                                                        \n",
       "1996-04-01  95616  Davis    CA  Sacramento       Yolo       955  202500.0   \n",
       "1996-05-01  95616  Davis    CA  Sacramento       Yolo       955  202500.0   \n",
       "1996-06-01  95616  Davis    CA  Sacramento       Yolo       955  202500.0   \n",
       "1996-07-01  95616  Davis    CA  Sacramento       Yolo       955  202500.0   \n",
       "1996-08-01  95616  Davis    CA  Sacramento       Yolo       955  202500.0   \n",
       "\n",
       "               MetroState  \n",
       "time                       \n",
       "1996-04-01  Sacramento CA  \n",
       "1996-05-01  Sacramento CA  \n",
       "1996-06-01  Sacramento CA  \n",
       "1996-07-01  Sacramento CA  \n",
       "1996-08-01  Sacramento CA  "
      ]
     },
     "execution_count": 125,
     "metadata": {},
     "output_type": "execute_result"
    }
   ],
   "source": [
    "ts.head()"
   ]
  },
  {
   "cell_type": "markdown",
   "metadata": {},
   "source": [
    "### Visualizations:  95616 (Davis, CA)"
   ]
  },
  {
   "cell_type": "markdown",
   "metadata": {},
   "source": [
    "#### Line and box plots"
   ]
  },
  {
   "cell_type": "code",
   "execution_count": 126,
   "metadata": {
    "scrolled": false
   },
   "outputs": [
    {
     "data": {
      "image/png": "[encoded data removed]",
      "text/plain": [
       "<Figure size 1296x576 with 1 Axes>"
      ]
     },
     "metadata": {
      "needs_background": "light"
     },
     "output_type": "display_data"
    }
   ],
   "source": [
    "plot_ts_zips(df_melt, col='value', figsize=(18, 8), zipcodes=['95616']);"
   ]
  },
  {
   "cell_type": "code",
   "execution_count": 127,
   "metadata": {},
   "outputs": [
    {
     "data": {
      "image/png": "[encoded data removed]",
      "text/plain": [
       "<Figure size 432x288 with 1 Axes>"
      ]
     },
     "metadata": {
      "needs_background": "light"
     },
     "output_type": "display_data"
    }
   ],
   "source": [
    "ts.boxplot(column = 'value')\n",
    "plt.title('95616');\n"
   ]
  },
  {
   "cell_type": "markdown",
   "metadata": {},
   "source": [
    "#### ACF and PACF plot"
   ]
  },
  {
   "cell_type": "code",
   "execution_count": 128,
   "metadata": {},
   "outputs": [
    {
     "data": {
      "image/png": "[encoded data removed]",
      "text/plain": [
       "<Figure size 720x432 with 2 Axes>"
      ]
     },
     "metadata": {
      "needs_background": "light"
     },
     "output_type": "display_data"
    }
   ],
   "source": [
    "plot_acf_pacf(ts.value)"
   ]
  },
  {
   "cell_type": "markdown",
   "metadata": {},
   "source": [
    "#### Seasonal Decomposition"
   ]
  },
  {
   "cell_type": "code",
   "execution_count": 129,
   "metadata": {
    "scrolled": true
   },
   "outputs": [
    {
     "data": {
      "image/png": "[encoded data removed]",
      "text/plain": [
       "<Figure size 1296x432 with 1 Axes>"
      ]
     },
     "metadata": {
      "needs_background": "light"
     },
     "output_type": "display_data"
    }
   ],
   "source": [
    "plot_seasonal_decomp(ts.value);\n",
    "\n",
    "# Note that seasonality isn't much of a factor here; maximum difference of about $700 over the course of a year"
   ]
  },
  {
   "cell_type": "markdown",
   "metadata": {},
   "source": [
    "### ARIMA modeling and forecasting results"
   ]
  },
  {
   "cell_type": "code",
   "execution_count": 224,
   "metadata": {},
   "outputs": [
    {
     "name": "stdout",
     "output_type": "stream",
     "text": [
      "For 95616 (Davis):\n",
      "ARIMA(0, 0, 0) MSE=42458532025.858\n",
      "ARIMA(0, 0, 1) MSE=10708928644.462\n",
      "ARIMA(0, 1, 0) MSE=13405273.211\n",
      "ARIMA(0, 1, 1) MSE=5828581.221\n",
      "ARIMA(0, 2, 0) MSE=9312480.329\n",
      "ARIMA(0, 2, 1) MSE=6321527.892\n",
      "ARIMA(1, 0, 0) MSE=18597889.711\n",
      "ARIMA(1, 1, 0) MSE=8776594.779\n",
      "ARIMA(1, 1, 1) MSE=5672167.133\n",
      "ARIMA(1, 1, 2) MSE=4787450.348\n",
      "ARIMA(1, 2, 0) MSE=8848416.715\n",
      "ARIMA(1, 2, 1) MSE=6507749.602\n",
      "ARIMA(2, 0, 1) MSE=5815203.801\n",
      "ARIMA(2, 0, 2) MSE=5273127.510\n",
      "ARIMA(2, 1, 0) MSE=7736073.424\n",
      "ARIMA(2, 1, 1) MSE=5746161.029\n",
      "ARIMA(2, 1, 2) MSE=4035352.413\n",
      "ARIMA(2, 2, 0) MSE=5781558.424\n",
      "ARIMA(2, 2, 1) MSE=5371716.844\n",
      "ARIMA(2, 2, 2) MSE=4492411.094\n",
      "ARIMA(4, 0, 0) MSE=5629227.425\n",
      "ARIMA(4, 0, 1) MSE=5173173.083\n",
      "ARIMA(4, 0, 2) MSE=4140675.493\n",
      "ARIMA(4, 1, 0) MSE=5069812.501\n",
      "ARIMA(4, 1, 1) MSE=5030509.557\n",
      "ARIMA(4, 2, 0) MSE=5162780.421\n",
      "ARIMA(4, 2, 1) MSE=5197933.157\n",
      "ARIMA(8, 0, 0) MSE=4920179.084\n",
      "ARIMA(8, 0, 1) MSE=4798690.146\n",
      "ARIMA(8, 1, 0) MSE=4814233.028\n",
      "ARIMA(8, 2, 0) MSE=4912362.737\n",
      "ARIMA(8, 2, 1) MSE=4849657.300\n",
      "ARIMA(10, 0, 0) MSE=4824303.409\n",
      "ARIMA(10, 2, 0) MSE=4930343.191\n",
      "ARIMA(10, 2, 1) MSE=4633202.351\n",
      "Best ARIMA(2, 1, 2) MSE=4035352.413\n"
     ]
    },
    {
     "ename": "NameError",
     "evalue": "name 'best_cfg' is not defined",
     "output_type": "error",
     "traceback": [
      "\u001b[0;31m---------------------------------------------------------------------------\u001b[0m",
      "\u001b[0;31mNameError\u001b[0m                                 Traceback (most recent call last)",
      "\u001b[0;32m<ipython-input-224-fbbb7d72e916>\u001b[0m in \u001b[0;36m<module>\u001b[0;34m\u001b[0m\n\u001b[0;32m----> 1\u001b[0;31m \u001b[0marima_forecast\u001b[0m\u001b[0;34m(\u001b[0m\u001b[0mts\u001b[0m\u001b[0;34m,\u001b[0m \u001b[0;34m'95616'\u001b[0m\u001b[0;34m,\u001b[0m \u001b[0;34m'Davis'\u001b[0m\u001b[0;34m,\u001b[0m \u001b[0mp_values\u001b[0m\u001b[0;34m,\u001b[0m \u001b[0md_values\u001b[0m\u001b[0;34m,\u001b[0m \u001b[0mq_values\u001b[0m\u001b[0;34m)\u001b[0m\u001b[0;34m\u001b[0m\u001b[0;34m\u001b[0m\u001b[0m\n\u001b[0m",
      "\u001b[0;32m<ipython-input-223-bb9e0e39d792>\u001b[0m in \u001b[0;36marima_forecast\u001b[0;34m(ts, geog_area, city, p_values, d_values, q_values, confint)\u001b[0m\n\u001b[1;32m     23\u001b[0m     \u001b[0mwarnings\u001b[0m\u001b[0;34m.\u001b[0m\u001b[0mfilterwarnings\u001b[0m\u001b[0;34m(\u001b[0m\u001b[0;34m\"ignore\"\u001b[0m\u001b[0;34m)\u001b[0m\u001b[0;34m\u001b[0m\u001b[0;34m\u001b[0m\u001b[0m\n\u001b[1;32m     24\u001b[0m     \u001b[0meval_arima_models\u001b[0m\u001b[0;34m(\u001b[0m\u001b[0mts\u001b[0m\u001b[0;34m,\u001b[0m \u001b[0mp_values\u001b[0m\u001b[0;34m,\u001b[0m \u001b[0md_values\u001b[0m\u001b[0;34m,\u001b[0m \u001b[0mq_values\u001b[0m\u001b[0;34m)\u001b[0m     \u001b[0;31m# returns order (variable best_cfg)\u001b[0m\u001b[0;34m\u001b[0m\u001b[0;34m\u001b[0m\u001b[0m\n\u001b[0;32m---> 25\u001b[0;31m     \u001b[0morder\u001b[0m \u001b[0;34m=\u001b[0m \u001b[0mbest_cfg\u001b[0m\u001b[0;34m\u001b[0m\u001b[0;34m\u001b[0m\u001b[0m\n\u001b[0m\u001b[1;32m     26\u001b[0m     \u001b[0mprint\u001b[0m\u001b[0;34m(\u001b[0m\u001b[0;34mf'Best ARIMA order = {order}'\u001b[0m\u001b[0;34m)\u001b[0m\u001b[0;34m\u001b[0m\u001b[0;34m\u001b[0m\u001b[0m\n\u001b[1;32m     27\u001b[0m     \u001b[0marima_zipcode\u001b[0m\u001b[0;34m(\u001b[0m\u001b[0mts\u001b[0m\u001b[0;34m,\u001b[0m \u001b[0morder\u001b[0m\u001b[0;34m)\u001b[0m                       \u001b[0;31m# returns model_fit\u001b[0m\u001b[0;34m\u001b[0m\u001b[0;34m\u001b[0m\u001b[0m\n",
      "\u001b[0;31mNameError\u001b[0m: name 'best_cfg' is not defined"
     ]
    }
   ],
   "source": [
    "# arima_forecast(ts, '95616', 'Davis', p_values, d_values, q_values)  # (produces Best ARIMA(2, 1, 2) MSE=4035352.413)\n"
   ]
  },
  {
   "cell_type": "code",
   "execution_count": 290,
   "metadata": {
    "scrolled": false
   },
   "outputs": [
    {
     "name": "stdout",
     "output_type": "stream",
     "text": [
      "For 95616 (Davis):\n",
      "Best ARIMA order = (2, 1, 2)\n",
      "              Zip   City State       Metro CountyName  SizeRank     value  \\\n",
      "time                                                                        \n",
      "1996-04-01  95616  Davis    CA  Sacramento       Yolo       955  202500.0   \n",
      "1996-05-01  95616  Davis    CA  Sacramento       Yolo       955  202500.0   \n",
      "1996-06-01  95616  Davis    CA  Sacramento       Yolo       955  202500.0   \n",
      "1996-07-01  95616  Davis    CA  Sacramento       Yolo       955  202500.0   \n",
      "1996-08-01  95616  Davis    CA  Sacramento       Yolo       955  202500.0   \n",
      "...           ...    ...   ...         ...        ...       ...       ...   \n",
      "2017-12-01  95616  Davis    CA  Sacramento       Yolo       955  687700.0   \n",
      "2018-01-01  95616  Davis    CA  Sacramento       Yolo       955  696700.0   \n",
      "2018-02-01  95616  Davis    CA  Sacramento       Yolo       955  697500.0   \n",
      "2018-03-01  95616  Davis    CA  Sacramento       Yolo       955  695000.0   \n",
      "2018-04-01  95616  Davis    CA  Sacramento       Yolo       955  692300.0   \n",
      "\n",
      "               MetroState  \n",
      "time                       \n",
      "1996-04-01  Sacramento CA  \n",
      "1996-05-01  Sacramento CA  \n",
      "1996-06-01  Sacramento CA  \n",
      "1996-07-01  Sacramento CA  \n",
      "1996-08-01  Sacramento CA  \n",
      "...                   ...  \n",
      "2017-12-01  Sacramento CA  \n",
      "2018-01-01  Sacramento CA  \n",
      "2018-02-01  Sacramento CA  \n",
      "2018-03-01  Sacramento CA  \n",
      "2018-04-01  Sacramento CA  \n",
      "\n",
      "[265 rows x 8 columns]\n",
      "                             ARIMA Model Results                              \n",
      "==============================================================================\n",
      "Dep. Variable:                D.value   No. Observations:                  264\n",
      "Model:                 ARIMA(2, 1, 2)   Log Likelihood               -2235.766\n",
      "Method:                       css-mle   S.D. of innovations           1139.451\n",
      "Date:                Sat, 14 Mar 2020   AIC                           4483.533\n",
      "Time:                        19:19:54   BIC                           4504.989\n",
      "Sample:                    05-01-1996   HQIC                          4492.154\n",
      "                         - 04-01-2018                                         \n",
      "=================================================================================\n",
      "                    coef    std err          z      P>|z|      [0.025      0.975]\n",
      "---------------------------------------------------------------------------------\n",
      "const          1755.9811    715.096      2.456      0.015     354.419    3157.544\n",
      "ar.L1.D.value     0.2768      0.068      4.058      0.000       0.143       0.411\n",
      "ar.L2.D.value     0.3793      0.066      5.783      0.000       0.251       0.508\n",
      "ma.L1.D.value     1.6283      0.042     39.156      0.000       1.547       1.710\n",
      "ma.L2.D.value     0.9295      0.041     22.913      0.000       0.850       1.009\n",
      "                                    Roots                                    \n",
      "=============================================================================\n",
      "                  Real          Imaginary           Modulus         Frequency\n",
      "-----------------------------------------------------------------------------\n",
      "AR.1            1.2993           +0.0000j            1.2993            0.0000\n",
      "AR.2           -2.0291           +0.0000j            2.0291            0.5000\n",
      "MA.1           -0.8759           -0.5555j            1.0372           -0.4100\n",
      "MA.2           -0.8759           +0.5555j            1.0372            0.4100\n",
      "-----------------------------------------------------------------------------\n",
      "             City CountyName       Metro     MetroState  SizeRank State  \\\n",
      "time                                                                      \n",
      "1996-04-01  Davis       Yolo  Sacramento  Sacramento CA     955.0    CA   \n",
      "1996-05-01  Davis       Yolo  Sacramento  Sacramento CA     955.0    CA   \n",
      "1996-06-01  Davis       Yolo  Sacramento  Sacramento CA     955.0    CA   \n",
      "1996-07-01  Davis       Yolo  Sacramento  Sacramento CA     955.0    CA   \n",
      "1996-08-01  Davis       Yolo  Sacramento  Sacramento CA     955.0    CA   \n",
      "\n",
      "              Zip  forecast  forecast_lower  forecast_upper  standard error  \\\n",
      "time                                                                          \n",
      "1996-04-01  95616       NaN             NaN             NaN             NaN   \n",
      "1996-05-01  95616       NaN             NaN             NaN             NaN   \n",
      "1996-06-01  95616       NaN             NaN             NaN             NaN   \n",
      "1996-07-01  95616       NaN             NaN             NaN             NaN   \n",
      "1996-08-01  95616       NaN             NaN             NaN             NaN   \n",
      "\n",
      "               value  \n",
      "time                  \n",
      "1996-04-01  202500.0  \n",
      "1996-05-01  202500.0  \n",
      "1996-06-01  202500.0  \n",
      "1996-07-01  202500.0  \n",
      "1996-08-01  202500.0  \n",
      "           City CountyName Metro MetroState  SizeRank State  Zip  \\\n",
      "time                                                               \n",
      "2019-12-01  NaN        NaN   NaN        NaN       NaN   NaN  NaN   \n",
      "2020-01-01  NaN        NaN   NaN        NaN       NaN   NaN  NaN   \n",
      "2020-02-01  NaN        NaN   NaN        NaN       NaN   NaN  NaN   \n",
      "2020-03-01  NaN        NaN   NaN        NaN       NaN   NaN  NaN   \n",
      "2020-04-01  NaN        NaN   NaN        NaN       NaN   NaN  NaN   \n",
      "\n",
      "                 forecast  forecast_lower  forecast_upper  standard error  \\\n",
      "time                                                                        \n",
      "2019-12-01  710928.846388   624098.924737   797758.768039    44301.794490   \n",
      "2020-01-01  712664.446499   622841.929756   802486.963243    45828.656777   \n",
      "2020-02-01  714404.741447   621679.691030   807129.791865    47309.568517   \n",
      "2020-03-01  716148.649853   620604.362130   811692.937576    48747.981329   \n",
      "2020-04-01  717895.339271   619609.024438   816181.654105    50147.000460   \n",
      "\n",
      "            value  \n",
      "time               \n",
      "2019-12-01    NaN  \n",
      "2020-01-01    NaN  \n",
      "2020-02-01    NaN  \n",
      "2020-03-01    NaN  \n",
      "2020-04-01    NaN  \n"
     ]
    },
    {
     "ename": "UnboundLocalError",
     "evalue": "local variable 'last_value' referenced before assignment",
     "output_type": "error",
     "traceback": [
      "\u001b[0;31m---------------------------------------------------------------------------\u001b[0m",
      "\u001b[0;31mUnboundLocalError\u001b[0m                         Traceback (most recent call last)",
      "\u001b[0;32m<ipython-input-290-aa09d46446a1>\u001b[0m in \u001b[0;36m<module>\u001b[0;34m\u001b[0m\n\u001b[0;32m----> 1\u001b[0;31m \u001b[0marima_forecast\u001b[0m\u001b[0;34m(\u001b[0m\u001b[0mts\u001b[0m\u001b[0;34m,\u001b[0m \u001b[0;34m'95616'\u001b[0m\u001b[0;34m,\u001b[0m \u001b[0;34m'Davis'\u001b[0m\u001b[0;34m,\u001b[0m \u001b[0mp_values\u001b[0m\u001b[0;34m,\u001b[0m \u001b[0md_values\u001b[0m\u001b[0;34m,\u001b[0m \u001b[0mq_values\u001b[0m\u001b[0;34m,\u001b[0m \u001b[0mbest_pdq\u001b[0m\u001b[0;34m=\u001b[0m\u001b[0;34m(\u001b[0m\u001b[0;36m2\u001b[0m\u001b[0;34m,\u001b[0m\u001b[0;36m1\u001b[0m\u001b[0;34m,\u001b[0m\u001b[0;36m2\u001b[0m\u001b[0;34m)\u001b[0m\u001b[0;34m)\u001b[0m  \u001b[0;31m# (produces Best ARIMA(2, 1, 2) MSE=4035352.413)\u001b[0m\u001b[0;34m\u001b[0m\u001b[0;34m\u001b[0m\u001b[0m\n\u001b[0m",
      "\u001b[0;32m<ipython-input-289-d27e025ee07d>\u001b[0m in \u001b[0;36marima_forecast\u001b[0;34m(ts, geog_area, city, p_values, d_values, q_values, best_pdq, confint, run_pdq)\u001b[0m\n\u001b[1;32m     40\u001b[0m     \u001b[0mplot_forecast\u001b[0m\u001b[0;34m(\u001b[0m\u001b[0mdf_new\u001b[0m\u001b[0;34m,\u001b[0m \u001b[0mgeog_area\u001b[0m\u001b[0;34m)\u001b[0m                                    \u001b[0;31m# plots forecast with the label of geog_area\u001b[0m\u001b[0;34m\u001b[0m\u001b[0;34m\u001b[0m\u001b[0m\n\u001b[1;32m     41\u001b[0m     \u001b[0mforecasted_price\u001b[0m\u001b[0;34m,\u001b[0m \u001b[0mforecasted_lower\u001b[0m\u001b[0;34m,\u001b[0m \u001b[0mforecasted_upper\u001b[0m \u001b[0;34m=\u001b[0m \u001b[0mforecast_values\u001b[0m\u001b[0;34m(\u001b[0m\u001b[0mdf_new\u001b[0m\u001b[0;34m,\u001b[0m \u001b[0mdate\u001b[0m \u001b[0;34m=\u001b[0m \u001b[0;34m'2020-04-01'\u001b[0m\u001b[0;34m)\u001b[0m   \u001b[0;31m# returns forecasted_price, forecasted_lower, forecasted_upper\u001b[0m\u001b[0;34m\u001b[0m\u001b[0;34m\u001b[0m\u001b[0m\n\u001b[0;32m---> 42\u001b[0;31m     \u001b[0mlast_value\u001b[0m \u001b[0;34m=\u001b[0m \u001b[0mlast_value\u001b[0m\u001b[0;34m(\u001b[0m\u001b[0mdf_new\u001b[0m\u001b[0;34m,\u001b[0m \u001b[0mdate\u001b[0m \u001b[0;34m=\u001b[0m \u001b[0;34m'2018-04-01'\u001b[0m\u001b[0;34m)\u001b[0m                \u001b[0;31m# returns the value on the last date in historical dataset (2018-01-03)\u001b[0m\u001b[0;34m\u001b[0m\u001b[0;34m\u001b[0m\u001b[0m\n\u001b[0m\u001b[1;32m     43\u001b[0m     pred_pct_change, lower_pct_change, upper_pct_change = pred_best_worst(pred,         # returns predicted, worst-case (2 conf. intervals below),\n\u001b[1;32m     44\u001b[0m                     low, high, last, date='April 1, 2020')                              # and best-case (2 conf. intervals above) values\n",
      "\u001b[0;31mUnboundLocalError\u001b[0m: local variable 'last_value' referenced before assignment"
     ]
    },
    {
     "data": {
      "image/png": "[encoded data removed]",
      "text/plain": [
       "<Figure size 864x576 with 1 Axes>"
      ]
     },
     "metadata": {
      "needs_background": "light"
     },
     "output_type": "display_data"
    }
   ],
   "source": [
    "arima_forecast(ts, '95616', 'Davis', p_values, d_values, q_values, best_pdq=(2,1,2))  # (produces Best ARIMA(2, 1, 2) MSE=4035352.413)\n"
   ]
  },
  {
   "cell_type": "markdown",
   "metadata": {},
   "source": [
    "## Recommendation--Zip code 95616:   would not recommend\n",
    "\n",
    "By the model prediction, I would expect to see a 1.756% change in price by April 1, 2020\n",
    "At the lower bound of the confidence interval, I would expect to see a -14.007% change in price by April 1, 2020\n",
    "At the upper bound of the confidence interval, I would expect to see a 17.518% change in price by April 1, 2020\n"
   ]
  },
  {
   "cell_type": "markdown",
   "metadata": {},
   "source": [
    "# SacMetro: 95619 (Diamond Springs) -- Good potential investment candidate"
   ]
  },
  {
   "cell_type": "markdown",
   "metadata": {},
   "source": [
    "### Visualizations:  95619 (Diamond Springs)"
   ]
  },
  {
   "cell_type": "markdown",
   "metadata": {},
   "source": [
    "#### Set up time series dataframe for this ZIP code"
   ]
  },
  {
   "cell_type": "code",
   "execution_count": 238,
   "metadata": {},
   "outputs": [
    {
     "data": {
      "text/html": [
       "<div>\n",
       "<style scoped>\n",
       "    .dataframe tbody tr th:only-of-type {\n",
       "        vertical-align: middle;\n",
       "    }\n",
       "\n",
       "    .dataframe tbody tr th {\n",
       "        vertical-align: top;\n",
       "    }\n",
       "\n",
       "    .dataframe thead th {\n",
       "        text-align: right;\n",
       "    }\n",
       "</style>\n",
       "<table border=\"1\" class=\"dataframe\">\n",
       "  <thead>\n",
       "    <tr style=\"text-align: right;\">\n",
       "      <th></th>\n",
       "      <th>Metro</th>\n",
       "      <th>MetroState</th>\n",
       "      <th>CountyName</th>\n",
       "      <th>City</th>\n",
       "      <th>Zip</th>\n",
       "      <th>value</th>\n",
       "    </tr>\n",
       "    <tr>\n",
       "      <th>time</th>\n",
       "      <th></th>\n",
       "      <th></th>\n",
       "      <th></th>\n",
       "      <th></th>\n",
       "      <th></th>\n",
       "      <th></th>\n",
       "    </tr>\n",
       "  </thead>\n",
       "  <tbody>\n",
       "    <tr>\n",
       "      <td>1996-04-01</td>\n",
       "      <td>Sacramento</td>\n",
       "      <td>Sacramento CA</td>\n",
       "      <td>El Dorado</td>\n",
       "      <td>Diamond Springs</td>\n",
       "      <td>95619</td>\n",
       "      <td>122400.0</td>\n",
       "    </tr>\n",
       "    <tr>\n",
       "      <td>1996-05-01</td>\n",
       "      <td>Sacramento</td>\n",
       "      <td>Sacramento CA</td>\n",
       "      <td>El Dorado</td>\n",
       "      <td>Diamond Springs</td>\n",
       "      <td>95619</td>\n",
       "      <td>121800.0</td>\n",
       "    </tr>\n",
       "    <tr>\n",
       "      <td>1996-06-01</td>\n",
       "      <td>Sacramento</td>\n",
       "      <td>Sacramento CA</td>\n",
       "      <td>El Dorado</td>\n",
       "      <td>Diamond Springs</td>\n",
       "      <td>95619</td>\n",
       "      <td>121200.0</td>\n",
       "    </tr>\n",
       "    <tr>\n",
       "      <td>1996-07-01</td>\n",
       "      <td>Sacramento</td>\n",
       "      <td>Sacramento CA</td>\n",
       "      <td>El Dorado</td>\n",
       "      <td>Diamond Springs</td>\n",
       "      <td>95619</td>\n",
       "      <td>120700.0</td>\n",
       "    </tr>\n",
       "    <tr>\n",
       "      <td>1996-08-01</td>\n",
       "      <td>Sacramento</td>\n",
       "      <td>Sacramento CA</td>\n",
       "      <td>El Dorado</td>\n",
       "      <td>Diamond Springs</td>\n",
       "      <td>95619</td>\n",
       "      <td>120200.0</td>\n",
       "    </tr>\n",
       "  </tbody>\n",
       "</table>\n",
       "</div>"
      ],
      "text/plain": [
       "                 Metro     MetroState CountyName             City    Zip  \\\n",
       "time                                                                       \n",
       "1996-04-01  Sacramento  Sacramento CA  El Dorado  Diamond Springs  95619   \n",
       "1996-05-01  Sacramento  Sacramento CA  El Dorado  Diamond Springs  95619   \n",
       "1996-06-01  Sacramento  Sacramento CA  El Dorado  Diamond Springs  95619   \n",
       "1996-07-01  Sacramento  Sacramento CA  El Dorado  Diamond Springs  95619   \n",
       "1996-08-01  Sacramento  Sacramento CA  El Dorado  Diamond Springs  95619   \n",
       "\n",
       "               value  \n",
       "time                  \n",
       "1996-04-01  122400.0  \n",
       "1996-05-01  121800.0  \n",
       "1996-06-01  121200.0  \n",
       "1996-07-01  120700.0  \n",
       "1996-08-01  120200.0  "
      ]
     },
     "execution_count": 238,
     "metadata": {},
     "output_type": "execute_result"
    }
   ],
   "source": [
    "ts_95619 = df_sac.loc[df_sac['Zip'] == '95619']  # ts for all of the following functions should have only one zipcode\n",
    "ts_95619.head()\n"
   ]
  },
  {
   "cell_type": "code",
   "execution_count": 239,
   "metadata": {
    "scrolled": true
   },
   "outputs": [
    {
     "data": {
      "text/html": [
       "<div>\n",
       "<style scoped>\n",
       "    .dataframe tbody tr th:only-of-type {\n",
       "        vertical-align: middle;\n",
       "    }\n",
       "\n",
       "    .dataframe tbody tr th {\n",
       "        vertical-align: top;\n",
       "    }\n",
       "\n",
       "    .dataframe thead th {\n",
       "        text-align: right;\n",
       "    }\n",
       "</style>\n",
       "<table border=\"1\" class=\"dataframe\">\n",
       "  <thead>\n",
       "    <tr style=\"text-align: right;\">\n",
       "      <th></th>\n",
       "      <th>Metro</th>\n",
       "      <th>MetroState</th>\n",
       "      <th>CountyName</th>\n",
       "      <th>City</th>\n",
       "      <th>Zip</th>\n",
       "      <th>value</th>\n",
       "    </tr>\n",
       "    <tr>\n",
       "      <th>time</th>\n",
       "      <th></th>\n",
       "      <th></th>\n",
       "      <th></th>\n",
       "      <th></th>\n",
       "      <th></th>\n",
       "      <th></th>\n",
       "    </tr>\n",
       "  </thead>\n",
       "  <tbody>\n",
       "    <tr>\n",
       "      <td>1996-04-01</td>\n",
       "      <td>Sacramento</td>\n",
       "      <td>Sacramento CA</td>\n",
       "      <td>El Dorado</td>\n",
       "      <td>Diamond Springs</td>\n",
       "      <td>95619</td>\n",
       "      <td>122400.0</td>\n",
       "    </tr>\n",
       "    <tr>\n",
       "      <td>1996-05-01</td>\n",
       "      <td>Sacramento</td>\n",
       "      <td>Sacramento CA</td>\n",
       "      <td>El Dorado</td>\n",
       "      <td>Diamond Springs</td>\n",
       "      <td>95619</td>\n",
       "      <td>121800.0</td>\n",
       "    </tr>\n",
       "    <tr>\n",
       "      <td>1996-06-01</td>\n",
       "      <td>Sacramento</td>\n",
       "      <td>Sacramento CA</td>\n",
       "      <td>El Dorado</td>\n",
       "      <td>Diamond Springs</td>\n",
       "      <td>95619</td>\n",
       "      <td>121200.0</td>\n",
       "    </tr>\n",
       "    <tr>\n",
       "      <td>1996-07-01</td>\n",
       "      <td>Sacramento</td>\n",
       "      <td>Sacramento CA</td>\n",
       "      <td>El Dorado</td>\n",
       "      <td>Diamond Springs</td>\n",
       "      <td>95619</td>\n",
       "      <td>120700.0</td>\n",
       "    </tr>\n",
       "    <tr>\n",
       "      <td>1996-08-01</td>\n",
       "      <td>Sacramento</td>\n",
       "      <td>Sacramento CA</td>\n",
       "      <td>El Dorado</td>\n",
       "      <td>Diamond Springs</td>\n",
       "      <td>95619</td>\n",
       "      <td>120200.0</td>\n",
       "    </tr>\n",
       "  </tbody>\n",
       "</table>\n",
       "</div>"
      ],
      "text/plain": [
       "                 Metro     MetroState CountyName             City    Zip  \\\n",
       "time                                                                       \n",
       "1996-04-01  Sacramento  Sacramento CA  El Dorado  Diamond Springs  95619   \n",
       "1996-05-01  Sacramento  Sacramento CA  El Dorado  Diamond Springs  95619   \n",
       "1996-06-01  Sacramento  Sacramento CA  El Dorado  Diamond Springs  95619   \n",
       "1996-07-01  Sacramento  Sacramento CA  El Dorado  Diamond Springs  95619   \n",
       "1996-08-01  Sacramento  Sacramento CA  El Dorado  Diamond Springs  95619   \n",
       "\n",
       "               value  \n",
       "time                  \n",
       "1996-04-01  122400.0  \n",
       "1996-05-01  121800.0  \n",
       "1996-06-01  121200.0  \n",
       "1996-07-01  120700.0  \n",
       "1996-08-01  120200.0  "
      ]
     },
     "execution_count": 239,
     "metadata": {},
     "output_type": "execute_result"
    }
   ],
   "source": [
    "# ts.head()\n",
    "\n",
    "ts_95619.head()"
   ]
  },
  {
   "cell_type": "code",
   "execution_count": 240,
   "metadata": {},
   "outputs": [],
   "source": [
    "# ts = ts.value\n",
    "\n",
    "ts_95619_values = ts_95619.value"
   ]
  },
  {
   "cell_type": "code",
   "execution_count": 241,
   "metadata": {},
   "outputs": [
    {
     "data": {
      "text/plain": [
       "time\n",
       "1996-04-01    122400.0\n",
       "1996-05-01    121800.0\n",
       "1996-06-01    121200.0\n",
       "1996-07-01    120700.0\n",
       "1996-08-01    120200.0\n",
       "Name: value, dtype: float64"
      ]
     },
     "execution_count": 241,
     "metadata": {},
     "output_type": "execute_result"
    }
   ],
   "source": [
    "# ts.head()\n",
    "\n",
    "ts_95619_values.head()"
   ]
  },
  {
   "cell_type": "code",
   "execution_count": null,
   "metadata": {},
   "outputs": [],
   "source": []
  },
  {
   "cell_type": "markdown",
   "metadata": {},
   "source": [
    "#### Line plots and box plots"
   ]
  },
  {
   "cell_type": "code",
   "execution_count": 242,
   "metadata": {
    "scrolled": false
   },
   "outputs": [
    {
     "data": {
      "image/png": "[encoded data removed]",
      "text/plain": [
       "<Figure size 864x432 with 1 Axes>"
      ]
     },
     "metadata": {
      "needs_background": "light"
     },
     "output_type": "display_data"
    }
   ],
   "source": [
    "fig, ax = plot_ts_zips(df_melt, zipcodes=['95619'])  # enter desired zip code(s)"
   ]
  },
  {
   "cell_type": "code",
   "execution_count": 243,
   "metadata": {},
   "outputs": [
    {
     "data": {
      "image/png": "[encoded data removed]",
      "text/plain": [
       "<Figure size 432x288 with 1 Axes>"
      ]
     },
     "metadata": {
      "needs_background": "light"
     },
     "output_type": "display_data"
    }
   ],
   "source": [
    "ts_95619.boxplot(column = 'value')\n",
    "plt.title('95619');\n"
   ]
  },
  {
   "cell_type": "markdown",
   "metadata": {},
   "source": [
    "#### ACF and PACF"
   ]
  },
  {
   "cell_type": "code",
   "execution_count": 244,
   "metadata": {
    "scrolled": false
   },
   "outputs": [
    {
     "data": {
      "image/png": "[encoded data removed]",
      "text/plain": [
       "<Figure size 720x432 with 2 Axes>"
      ]
     },
     "metadata": {
      "needs_background": "light"
     },
     "output_type": "display_data"
    }
   ],
   "source": [
    "# plot_acf_pacf(ts, figsize=(10,6), lags=15)  # note that ts must only contain values and time as index\n",
    "\n",
    "plot_acf_pacf(ts_95619_values, figsize=(10,6), lags=15)"
   ]
  },
  {
   "cell_type": "markdown",
   "metadata": {},
   "source": [
    "#### Seasonal decomposition"
   ]
  },
  {
   "cell_type": "code",
   "execution_count": 247,
   "metadata": {
    "scrolled": false
   },
   "outputs": [
    {
     "data": {
      "image/png": "[encoded data removed]",
      "text/plain": [
       "<Figure size 1296x432 with 1 Axes>"
      ]
     },
     "metadata": {
      "needs_background": "light"
     },
     "output_type": "display_data"
    }
   ],
   "source": [
    "# plot_seasonal_decomp(ts)\n",
    "\n",
    "plot_seasonal_decomp(ts_95619_values);\n",
    "\n",
    "# Seasonality does not appear to be a significant factor in this zip code."
   ]
  },
  {
   "cell_type": "code",
   "execution_count": 248,
   "metadata": {},
   "outputs": [
    {
     "data": {
      "text/html": [
       "<div>\n",
       "<style scoped>\n",
       "    .dataframe tbody tr th:only-of-type {\n",
       "        vertical-align: middle;\n",
       "    }\n",
       "\n",
       "    .dataframe tbody tr th {\n",
       "        vertical-align: top;\n",
       "    }\n",
       "\n",
       "    .dataframe thead th {\n",
       "        text-align: right;\n",
       "    }\n",
       "</style>\n",
       "<table border=\"1\" class=\"dataframe\">\n",
       "  <thead>\n",
       "    <tr style=\"text-align: right;\">\n",
       "      <th></th>\n",
       "      <th>Metro</th>\n",
       "      <th>MetroState</th>\n",
       "      <th>CountyName</th>\n",
       "      <th>City</th>\n",
       "      <th>Zip</th>\n",
       "      <th>value</th>\n",
       "    </tr>\n",
       "    <tr>\n",
       "      <th>time</th>\n",
       "      <th></th>\n",
       "      <th></th>\n",
       "      <th></th>\n",
       "      <th></th>\n",
       "      <th></th>\n",
       "      <th></th>\n",
       "    </tr>\n",
       "  </thead>\n",
       "  <tbody>\n",
       "    <tr>\n",
       "      <td>1996-04-01</td>\n",
       "      <td>Sacramento</td>\n",
       "      <td>Sacramento CA</td>\n",
       "      <td>El Dorado</td>\n",
       "      <td>Diamond Springs</td>\n",
       "      <td>95619</td>\n",
       "      <td>122400.0</td>\n",
       "    </tr>\n",
       "    <tr>\n",
       "      <td>1996-05-01</td>\n",
       "      <td>Sacramento</td>\n",
       "      <td>Sacramento CA</td>\n",
       "      <td>El Dorado</td>\n",
       "      <td>Diamond Springs</td>\n",
       "      <td>95619</td>\n",
       "      <td>121800.0</td>\n",
       "    </tr>\n",
       "    <tr>\n",
       "      <td>1996-06-01</td>\n",
       "      <td>Sacramento</td>\n",
       "      <td>Sacramento CA</td>\n",
       "      <td>El Dorado</td>\n",
       "      <td>Diamond Springs</td>\n",
       "      <td>95619</td>\n",
       "      <td>121200.0</td>\n",
       "    </tr>\n",
       "    <tr>\n",
       "      <td>1996-07-01</td>\n",
       "      <td>Sacramento</td>\n",
       "      <td>Sacramento CA</td>\n",
       "      <td>El Dorado</td>\n",
       "      <td>Diamond Springs</td>\n",
       "      <td>95619</td>\n",
       "      <td>120700.0</td>\n",
       "    </tr>\n",
       "    <tr>\n",
       "      <td>1996-08-01</td>\n",
       "      <td>Sacramento</td>\n",
       "      <td>Sacramento CA</td>\n",
       "      <td>El Dorado</td>\n",
       "      <td>Diamond Springs</td>\n",
       "      <td>95619</td>\n",
       "      <td>120200.0</td>\n",
       "    </tr>\n",
       "  </tbody>\n",
       "</table>\n",
       "</div>"
      ],
      "text/plain": [
       "                 Metro     MetroState CountyName             City    Zip  \\\n",
       "time                                                                       \n",
       "1996-04-01  Sacramento  Sacramento CA  El Dorado  Diamond Springs  95619   \n",
       "1996-05-01  Sacramento  Sacramento CA  El Dorado  Diamond Springs  95619   \n",
       "1996-06-01  Sacramento  Sacramento CA  El Dorado  Diamond Springs  95619   \n",
       "1996-07-01  Sacramento  Sacramento CA  El Dorado  Diamond Springs  95619   \n",
       "1996-08-01  Sacramento  Sacramento CA  El Dorado  Diamond Springs  95619   \n",
       "\n",
       "               value  \n",
       "time                  \n",
       "1996-04-01  122400.0  \n",
       "1996-05-01  121800.0  \n",
       "1996-06-01  121200.0  \n",
       "1996-07-01  120700.0  \n",
       "1996-08-01  120200.0  "
      ]
     },
     "execution_count": 248,
     "metadata": {},
     "output_type": "execute_result"
    }
   ],
   "source": [
    "ts_95619 = df_sac.loc[df_sac['Zip'] == '95619']  # ts for all of the following functions should have only one zipcode\n",
    "ts_95619.head()\n"
   ]
  },
  {
   "cell_type": "code",
   "execution_count": 249,
   "metadata": {
    "scrolled": true
   },
   "outputs": [
    {
     "data": {
      "text/html": [
       "<div>\n",
       "<style scoped>\n",
       "    .dataframe tbody tr th:only-of-type {\n",
       "        vertical-align: middle;\n",
       "    }\n",
       "\n",
       "    .dataframe tbody tr th {\n",
       "        vertical-align: top;\n",
       "    }\n",
       "\n",
       "    .dataframe thead th {\n",
       "        text-align: right;\n",
       "    }\n",
       "</style>\n",
       "<table border=\"1\" class=\"dataframe\">\n",
       "  <thead>\n",
       "    <tr style=\"text-align: right;\">\n",
       "      <th></th>\n",
       "      <th>Metro</th>\n",
       "      <th>MetroState</th>\n",
       "      <th>CountyName</th>\n",
       "      <th>City</th>\n",
       "      <th>Zip</th>\n",
       "      <th>value</th>\n",
       "    </tr>\n",
       "    <tr>\n",
       "      <th>time</th>\n",
       "      <th></th>\n",
       "      <th></th>\n",
       "      <th></th>\n",
       "      <th></th>\n",
       "      <th></th>\n",
       "      <th></th>\n",
       "    </tr>\n",
       "  </thead>\n",
       "  <tbody>\n",
       "    <tr>\n",
       "      <td>1996-04-01</td>\n",
       "      <td>Sacramento</td>\n",
       "      <td>Sacramento CA</td>\n",
       "      <td>El Dorado</td>\n",
       "      <td>Diamond Springs</td>\n",
       "      <td>95619</td>\n",
       "      <td>122400.0</td>\n",
       "    </tr>\n",
       "    <tr>\n",
       "      <td>1996-05-01</td>\n",
       "      <td>Sacramento</td>\n",
       "      <td>Sacramento CA</td>\n",
       "      <td>El Dorado</td>\n",
       "      <td>Diamond Springs</td>\n",
       "      <td>95619</td>\n",
       "      <td>121800.0</td>\n",
       "    </tr>\n",
       "    <tr>\n",
       "      <td>1996-06-01</td>\n",
       "      <td>Sacramento</td>\n",
       "      <td>Sacramento CA</td>\n",
       "      <td>El Dorado</td>\n",
       "      <td>Diamond Springs</td>\n",
       "      <td>95619</td>\n",
       "      <td>121200.0</td>\n",
       "    </tr>\n",
       "    <tr>\n",
       "      <td>1996-07-01</td>\n",
       "      <td>Sacramento</td>\n",
       "      <td>Sacramento CA</td>\n",
       "      <td>El Dorado</td>\n",
       "      <td>Diamond Springs</td>\n",
       "      <td>95619</td>\n",
       "      <td>120700.0</td>\n",
       "    </tr>\n",
       "    <tr>\n",
       "      <td>1996-08-01</td>\n",
       "      <td>Sacramento</td>\n",
       "      <td>Sacramento CA</td>\n",
       "      <td>El Dorado</td>\n",
       "      <td>Diamond Springs</td>\n",
       "      <td>95619</td>\n",
       "      <td>120200.0</td>\n",
       "    </tr>\n",
       "  </tbody>\n",
       "</table>\n",
       "</div>"
      ],
      "text/plain": [
       "                 Metro     MetroState CountyName             City    Zip  \\\n",
       "time                                                                       \n",
       "1996-04-01  Sacramento  Sacramento CA  El Dorado  Diamond Springs  95619   \n",
       "1996-05-01  Sacramento  Sacramento CA  El Dorado  Diamond Springs  95619   \n",
       "1996-06-01  Sacramento  Sacramento CA  El Dorado  Diamond Springs  95619   \n",
       "1996-07-01  Sacramento  Sacramento CA  El Dorado  Diamond Springs  95619   \n",
       "1996-08-01  Sacramento  Sacramento CA  El Dorado  Diamond Springs  95619   \n",
       "\n",
       "               value  \n",
       "time                  \n",
       "1996-04-01  122400.0  \n",
       "1996-05-01  121800.0  \n",
       "1996-06-01  121200.0  \n",
       "1996-07-01  120700.0  \n",
       "1996-08-01  120200.0  "
      ]
     },
     "execution_count": 249,
     "metadata": {},
     "output_type": "execute_result"
    }
   ],
   "source": [
    "# ts.head()\n",
    "\n",
    "ts_95619.head()"
   ]
  },
  {
   "cell_type": "code",
   "execution_count": 250,
   "metadata": {},
   "outputs": [],
   "source": [
    "# ts = ts.value\n",
    "\n",
    "ts_95619_values = ts_95619.value"
   ]
  },
  {
   "cell_type": "code",
   "execution_count": 251,
   "metadata": {},
   "outputs": [
    {
     "data": {
      "text/plain": [
       "time\n",
       "1996-04-01    122400.0\n",
       "1996-05-01    121800.0\n",
       "1996-06-01    121200.0\n",
       "1996-07-01    120700.0\n",
       "1996-08-01    120200.0\n",
       "Name: value, dtype: float64"
      ]
     },
     "execution_count": 251,
     "metadata": {},
     "output_type": "execute_result"
    }
   ],
   "source": [
    "# ts.head()\n",
    "\n",
    "ts_95619_values.head()"
   ]
  },
  {
   "cell_type": "markdown",
   "metadata": {},
   "source": [
    "## ARIMA model parameters and optimization"
   ]
  },
  {
   "cell_type": "markdown",
   "metadata": {},
   "source": [
    "### Generate list of (p,d,q) and (p,d,q,m) values"
   ]
  },
  {
   "cell_type": "code",
   "execution_count": null,
   "metadata": {},
   "outputs": [],
   "source": [
    "p_values = [0, 1, 2, 4, 6, 8]\n",
    "d_values = range(0, 3)\n",
    "q_values = range(0, 3)\n",
    "warnings.filterwarnings(\"ignore\")"
   ]
  },
  {
   "cell_type": "markdown",
   "metadata": {},
   "source": [
    "### Run ARIMA model on ts dataframe with list of p,d,q values "
   ]
  },
  {
   "cell_type": "code",
   "execution_count": null,
   "metadata": {},
   "outputs": [],
   "source": [
    "# eval_arima_models(ts, p_values, d_values, q_values)  # don't run this until you have some time, since it take time\n",
    "# note that ts must only contain values and time as index\n",
    "\n",
    "# eval_arima_models(ts_95619_values, p_values, d_values, q_values)  # don't run this until you have some time, since it takes time\n"
   ]
  },
  {
   "cell_type": "markdown",
   "metadata": {},
   "source": [
    "### Generate model fit summary"
   ]
  },
  {
   "cell_type": "code",
   "execution_count": 253,
   "metadata": {
    "scrolled": true
   },
   "outputs": [
    {
     "name": "stdout",
     "output_type": "stream",
     "text": [
      "                             ARIMA Model Results                              \n",
      "==============================================================================\n",
      "Dep. Variable:                D.value   No. Observations:                  264\n",
      "Model:                 ARIMA(2, 1, 2)   Log Likelihood               -2074.470\n",
      "Method:                       css-mle   S.D. of innovations            619.869\n",
      "Date:                Sat, 14 Mar 2020   AIC                           4160.940\n",
      "Time:                        18:54:34   BIC                           4182.396\n",
      "Sample:                    05-01-1996   HQIC                          4169.562\n",
      "                         - 04-01-2018                                         \n",
      "=================================================================================\n",
      "                    coef    std err          z      P>|z|      [0.025      0.975]\n",
      "---------------------------------------------------------------------------------\n",
      "const           752.6516    701.630      1.073      0.284    -622.518    2127.821\n",
      "ar.L1.D.value     0.2992      0.066      4.505      0.000       0.169       0.429\n",
      "ar.L2.D.value     0.5239      0.066      7.935      0.000       0.394       0.653\n",
      "ma.L1.D.value     1.5296      0.043     35.246      0.000       1.445       1.615\n",
      "ma.L2.D.value     0.8276      0.044     18.947      0.000       0.742       0.913\n",
      "                                    Roots                                    \n",
      "=============================================================================\n",
      "                  Real          Imaginary           Modulus         Frequency\n",
      "-----------------------------------------------------------------------------\n",
      "AR.1            1.1252           +0.0000j            1.1252            0.0000\n",
      "AR.2           -1.6963           +0.0000j            1.6963            0.5000\n",
      "MA.1           -0.9242           -0.5952j            1.0993           -0.4089\n",
      "MA.2           -0.9242           +0.5952j            1.0993            0.4089\n",
      "-----------------------------------------------------------------------------\n"
     ]
    }
   ],
   "source": [
    "# model_fit = arima_zipcode(ts, order = None)   # change order = tuple to correspond to the best MSE produced by previous function\n",
    "\n",
    "# Best ARIMA(2, 1, 2) MSE=1084744.932\n",
    "\n",
    "model_fit_95619 = arima_zipcode(ts_95619, order = (2,1,2))\n"
   ]
  },
  {
   "cell_type": "code",
   "execution_count": 261,
   "metadata": {},
   "outputs": [
    {
     "data": {
      "text/plain": [
       "(array([323941.32620535, 326351.73163503, 328694.63587584, 330791.58258218,\n",
       "        332779.57686675, 334606.11508162, 336327.26638031, 337932.29916728,\n",
       "        339447.37759531, 340874.70738836, 342228.65602492, 343514.67770993,\n",
       "        344741.9314927 , 345916.01516284, 347043.40200352, 348128.9614733 ,\n",
       "        349177.54185762, 350193.14485435, 351179.50777767, 352139.84530868,\n",
       "        353077.07724948, 353993.76136674, 354892.19262083, 355774.39767053]),\n",
       " array([  619.86884619,  1859.8092769 ,  3470.71847751,  5203.08945879,\n",
       "         7062.73332149,  8976.76432596, 10933.02684515, 12902.24077475,\n",
       "        14873.9231942 , 16834.41378929, 18776.86014438, 20694.47468014,\n",
       "        22583.31862073, 24440.08329009, 26262.81684727, 28050.13209546,\n",
       "        29801.35319487, 31516.20165156, 33194.79198111, 34837.49107208,\n",
       "        36444.88458762, 38017.70607071, 39556.80570851, 41063.1111798 ]),\n",
       " array([[322726.40559167, 325156.24681903],\n",
       "        [322706.57243419, 329996.89083587],\n",
       "        [321892.15265945, 335497.11909223],\n",
       "        [320593.71463462, 340989.45052975],\n",
       "        [318936.87392422, 346622.27980928],\n",
       "        [317011.98030503, 352200.24985821],\n",
       "        [314898.92752181, 357755.60523881],\n",
       "        [312644.3719289 , 363220.22640566],\n",
       "        [310295.02382585, 368599.73136476],\n",
       "        [307879.86266051, 373869.55211621],\n",
       "        [305426.68639919, 379030.62565065],\n",
       "        [302954.25265787, 384075.10276199],\n",
       "        [300479.44034467, 389004.42264073],\n",
       "        [298014.3321351 , 393817.69819059],\n",
       "        [295569.22685031, 398517.57715673],\n",
       "        [293151.7128046 , 403106.210142  ],\n",
       "        [290767.96290511, 407587.12081013],\n",
       "        [288422.52468778, 411963.76502092],\n",
       "        [286118.91102041, 416240.10453494],\n",
       "        [283859.61749567, 420420.0731217 ],\n",
       "        [281646.41603703, 424507.73846193],\n",
       "        [279480.42669332, 428507.09604017],\n",
       "        [277362.2780887 , 432422.10715296],\n",
       "        [275292.17866496, 436256.6166761 ]]))"
      ]
     },
     "execution_count": 261,
     "metadata": {},
     "output_type": "execute_result"
    }
   ],
   "source": [
    "model_fit_95619.forecast(24)"
   ]
  },
  {
   "cell_type": "markdown",
   "metadata": {},
   "source": [
    "## ARIMA modeling results:  predictions and visualization"
   ]
  },
  {
   "cell_type": "markdown",
   "metadata": {},
   "source": [
    "### Produce forecasts from ARIMA model fit"
   ]
  },
  {
   "cell_type": "code",
   "execution_count": null,
   "metadata": {},
   "outputs": [],
   "source": [
    "def forecast(model_fit, months=24, confint=2):\n",
    "    '''From Helper_functions python file'''\n",
    "    forecast = model_fit.forecast(months)\n",
    "    actual_forecast = forecast[0]\n",
    "    std_error = forecast[1]\n",
    "    forecast_confint = forecast[confint]\n",
    "    return actual_forecast, std_error, forecast_confint   \n",
    "\n",
    "actual_forecast_95619, std_error_95619, forecast_confint_95619 = forecast(model_fit_95619)\n",
    "\n",
    "# actual_forecast, forecast_confint = forecast(model_fit_dallas, months=24, confint=2)"
   ]
  },
  {
   "cell_type": "code",
   "execution_count": null,
   "metadata": {},
   "outputs": [],
   "source": [
    "actual_forecast_95619, std_error_95619, forecast_confint_95619"
   ]
  },
  {
   "cell_type": "markdown",
   "metadata": {},
   "source": [
    "### Create dataframe to hold forecast results"
   ]
  },
  {
   "cell_type": "code",
   "execution_count": null,
   "metadata": {},
   "outputs": [],
   "source": [
    "# df_forecast = forecast_df(col = 'time', daterange = pd.date_range(start='2018-05-01', end='2020-04-01', freq='MS'), \n",
    "#                 actual_forecast=actual_forecast, forecast_confint = forecast_confint)\n",
    "\n",
    "df_forecast_95619 = forecast_df(actual_forecast_95619, forecast_confint_95619, col = 'time', daterange = pd.date_range(start='2018-05-01', end='2020-04-01', freq='MS'))\n"
   ]
  },
  {
   "cell_type": "markdown",
   "metadata": {},
   "source": [
    "### Create new dataframe concatenating historic values and forecast results"
   ]
  },
  {
   "cell_type": "code",
   "execution_count": null,
   "metadata": {},
   "outputs": [],
   "source": [
    "# df_new = concat_values_forecast(ts, df_forecast)\n",
    "\n",
    "df_new_95619 = concat_values_forecast(ts_95619_values, df_forecast_95619)"
   ]
  },
  {
   "cell_type": "code",
   "execution_count": null,
   "metadata": {},
   "outputs": [],
   "source": [
    "df_new_95619.head()"
   ]
  },
  {
   "cell_type": "code",
   "execution_count": null,
   "metadata": {},
   "outputs": [],
   "source": [
    "df_new_95619.tail()"
   ]
  },
  {
   "cell_type": "markdown",
   "metadata": {},
   "source": [
    "### Calculate predicted, lower bound, and upper bound forecasted prices"
   ]
  },
  {
   "cell_type": "code",
   "execution_count": null,
   "metadata": {},
   "outputs": [],
   "source": [
    "forecasted_price_95619, forecasted_lower_95619, forecasted_upper_95619 = forecast_values(df_new_95619)"
   ]
  },
  {
   "cell_type": "code",
   "execution_count": null,
   "metadata": {},
   "outputs": [],
   "source": [
    "forecasted_price_95619, forecasted_lower_95619, forecasted_upper_95619  # predicted, best-case, and worst-case prices in 2020"
   ]
  },
  {
   "cell_type": "code",
   "execution_count": null,
   "metadata": {},
   "outputs": [],
   "source": [
    "last_value_95619 = df_new_95619['value'].loc['2018-04-01']"
   ]
  },
  {
   "cell_type": "code",
   "execution_count": null,
   "metadata": {},
   "outputs": [],
   "source": [
    "last_value_95619"
   ]
  },
  {
   "cell_type": "markdown",
   "metadata": {},
   "source": [
    "### Plot forecast with confidence intervals"
   ]
  },
  {
   "cell_type": "code",
   "execution_count": null,
   "metadata": {},
   "outputs": [],
   "source": [
    "# plot_forecast(df = df_new, figsize=(12,8), geog=None)\n",
    "\n",
    "plot_forecast(df_new_95619, figsize=(12,8), geog='95619 (Diamond Springs)')"
   ]
  },
  {
   "cell_type": "markdown",
   "metadata": {},
   "source": [
    "### Print summary of predicted, worst-case, and best-case scenarios"
   ]
  },
  {
   "cell_type": "code",
   "execution_count": null,
   "metadata": {
    "scrolled": true
   },
   "outputs": [],
   "source": [
    "diamond_springs_95619_pred, diamond_springs_95619_low, diamond_springs_95619_high = pred_best_worst(pred=forecasted_price_95619, low=forecasted_lower_95619, high=forecasted_upper_95619, last=last_value_95619, date='April 1, 2020')\n",
    "diamond_springs_95619_pred, diamond_springs_95619_low, diamond_springs_95619_high"
   ]
  },
  {
   "cell_type": "markdown",
   "metadata": {},
   "source": [
    "## Recommendation--Zip code 95619:  potential investment candidate\n",
    "\n",
    "By the model prediction, I would expect to see a 10.799% change in price by April 1, 2020.\n",
    "At the lower bound of the confidence interval, I would expect to see a -14.266% change in price by April 1, 2020.\n",
    "At the upper bound of the confidence interval, I would expect to see a 35.863% change in price by April 1, 2020.\n",
    "\n"
   ]
  },
  {
   "cell_type": "markdown",
   "metadata": {},
   "source": [
    "# SacMetro: 95864 (Arden-Arcade) -- Don't invest"
   ]
  },
  {
   "cell_type": "code",
   "execution_count": null,
   "metadata": {},
   "outputs": [],
   "source": [
    "# df_geog = df_geog(df=df_metro_cities, col = 'MetroState', geog = 'New York NY')\n",
    "\n",
    "ts_95864 = df_sac.loc[df_sac['Zip'] == '95864']  # ts for all of the following functions should have only one zipcode\n",
    "ts_95864.head()\n"
   ]
  },
  {
   "cell_type": "code",
   "execution_count": null,
   "metadata": {
    "scrolled": true
   },
   "outputs": [],
   "source": [
    "# ts.head()\n",
    "\n",
    "ts_95864.tail()"
   ]
  },
  {
   "cell_type": "code",
   "execution_count": null,
   "metadata": {},
   "outputs": [],
   "source": [
    "# ts = ts.value\n",
    "\n",
    "ts_95864_values = ts_95864.value"
   ]
  },
  {
   "cell_type": "code",
   "execution_count": null,
   "metadata": {},
   "outputs": [],
   "source": [
    "# ts.head()\n",
    "\n",
    "ts_95864_values.head()"
   ]
  },
  {
   "cell_type": "markdown",
   "metadata": {},
   "source": [
    "### Visualizations"
   ]
  },
  {
   "cell_type": "markdown",
   "metadata": {},
   "source": [
    "#### plot_ts:  Plot zip code(s) of interest over time, with market highs and lows"
   ]
  },
  {
   "cell_type": "code",
   "execution_count": null,
   "metadata": {
    "scrolled": false
   },
   "outputs": [],
   "source": [
    "# fig, ax = plot_ts(df_melt, zipcodes=['95616', '92008', '90035', '90025', '60625', '57701'])  # enter desired zip code(s)\n",
    "\n",
    "fig, ax = plot_ts_zips(df_melt, zipcodes=['95864'])  # enter desired zip code(s)"
   ]
  },
  {
   "cell_type": "markdown",
   "metadata": {},
   "source": [
    "#### Boxplot of zip codes by city in a metro area"
   ]
  },
  {
   "cell_type": "code",
   "execution_count": null,
   "metadata": {},
   "outputs": [],
   "source": [
    "ts_95864.boxplot(column = 'value')\n",
    "plt.title('95864');\n"
   ]
  },
  {
   "cell_type": "markdown",
   "metadata": {},
   "source": [
    "### Plot ACF and PACF for ts dataframe"
   ]
  },
  {
   "cell_type": "code",
   "execution_count": null,
   "metadata": {
    "scrolled": true
   },
   "outputs": [],
   "source": [
    "# note that ts must only contain values and time as index\n",
    "\n",
    "# plot_acf_pacf(ts, figsize=(10,6), lags=15)  # note that ts must only contain values and time as index\n",
    "\n",
    "plot_acf_pacf(ts_95864_values, figsize=(10,6), lags=15)"
   ]
  },
  {
   "cell_type": "markdown",
   "metadata": {},
   "source": [
    "### Plot seasonal decomposition for ts dataframe"
   ]
  },
  {
   "cell_type": "code",
   "execution_count": null,
   "metadata": {
    "scrolled": false
   },
   "outputs": [],
   "source": [
    "# plot_seasonal_decomp(ts)\n",
    "\n",
    "plot_seasonal_decomp(ts_95864_values)\n"
   ]
  },
  {
   "cell_type": "markdown",
   "metadata": {},
   "source": [
    "## ARIMA model parameters and optimization"
   ]
  },
  {
   "cell_type": "markdown",
   "metadata": {},
   "source": [
    "### Run ARIMA model on ts dataframe with list of p,d,q values "
   ]
  },
  {
   "cell_type": "code",
   "execution_count": null,
   "metadata": {},
   "outputs": [],
   "source": [
    "p_values = [0, 1, 2, 4, 6, 8]\n",
    "d_values = range(0, 3)\n",
    "q_values = range(0, 3)\n",
    "warnings.filterwarnings(\"ignore\")"
   ]
  },
  {
   "cell_type": "code",
   "execution_count": null,
   "metadata": {},
   "outputs": [],
   "source": [
    "# eval_arima_models(ts, p_values, d_values, q_values)  # don't run this until you have some time, since it take time\n",
    "# note that ts must only contain values and time as index\n",
    "\n",
    "# eval_arima_models(ts_95864_values, p_values, d_values, q_values)  # don't run this until you have some time, since it take time"
   ]
  },
  {
   "cell_type": "markdown",
   "metadata": {},
   "source": [
    "### Generate model fit summary"
   ]
  },
  {
   "cell_type": "code",
   "execution_count": null,
   "metadata": {
    "scrolled": true
   },
   "outputs": [],
   "source": [
    "# model_fit = arima_zipcode(ts, order = None)   # change order = tuple to correspond to the best MSE produced by previous function\n",
    "\n",
    "# Best ARIMA(4, 1, 1) MSE=1137443.820\n",
    "\n",
    "model_fit_95864 = arima_zipcode(ts_95864_values, order = (4,1,1))"
   ]
  },
  {
   "cell_type": "markdown",
   "metadata": {},
   "source": [
    "## ARIMA modeling results:  predictions and visualization"
   ]
  },
  {
   "cell_type": "markdown",
   "metadata": {},
   "source": [
    "### Produce forecasts from ARIMA model fit"
   ]
  },
  {
   "cell_type": "code",
   "execution_count": null,
   "metadata": {},
   "outputs": [],
   "source": [
    "actual_forecast_95864, std_error_95864, forecast_confint_95864 = forecast(model_fit_95864)\n",
    "\n",
    "# actual_forecast, forecast_confint = forecast(model_fit_dallas, months=24, confint=2)"
   ]
  },
  {
   "cell_type": "code",
   "execution_count": null,
   "metadata": {},
   "outputs": [],
   "source": [
    "actual_forecast_95864, std_error_95864, forecast_confint_95864"
   ]
  },
  {
   "cell_type": "markdown",
   "metadata": {},
   "source": [
    "### Create dataframe to hold forecast results"
   ]
  },
  {
   "cell_type": "code",
   "execution_count": null,
   "metadata": {},
   "outputs": [],
   "source": [
    "# df_forecast = forecast_df(col = 'time', daterange = pd.date_range(start='2018-05-01', end='2020-04-01', freq='MS'), \n",
    "#                 actual_forecast=actual_forecast, forecast_confint = forecast_confint)\n",
    "\n",
    "df_forecast_95864 = forecast_df(actual_forecast_95864, forecast_confint_95864, col = 'time', daterange = pd.date_range(start='2018-05-01', end='2020-04-01', freq='MS'))\n"
   ]
  },
  {
   "cell_type": "markdown",
   "metadata": {},
   "source": [
    "### Create new dataframe concatenating historic values and forecast results"
   ]
  },
  {
   "cell_type": "code",
   "execution_count": null,
   "metadata": {},
   "outputs": [],
   "source": [
    "# df_new = concat_values_forecast(ts, df_forecast)\n",
    "\n",
    "df_new_95864 = concat_values_forecast(ts_95864_values, df_forecast_95864)"
   ]
  },
  {
   "cell_type": "code",
   "execution_count": null,
   "metadata": {},
   "outputs": [],
   "source": [
    "df_new_95864.head()"
   ]
  },
  {
   "cell_type": "markdown",
   "metadata": {},
   "source": [
    "### Calculate predicted, lower bound, and upper bound forecasted prices"
   ]
  },
  {
   "cell_type": "code",
   "execution_count": null,
   "metadata": {},
   "outputs": [],
   "source": [
    "forecasted_price_95864, forecasted_lower_95864, forecasted_upper_95864 = forecast_values(df_new_95864)"
   ]
  },
  {
   "cell_type": "code",
   "execution_count": null,
   "metadata": {},
   "outputs": [],
   "source": [
    "forecasted_price_95864, forecasted_lower_95864, forecasted_upper_95864  # predicted, best-case, and worst-case prices in 2020"
   ]
  },
  {
   "cell_type": "code",
   "execution_count": null,
   "metadata": {},
   "outputs": [],
   "source": [
    "last_value_95864 = df_new_95864['value'].loc['2018-04-01']"
   ]
  },
  {
   "cell_type": "code",
   "execution_count": null,
   "metadata": {},
   "outputs": [],
   "source": [
    "last_value_95864"
   ]
  },
  {
   "cell_type": "markdown",
   "metadata": {},
   "source": [
    "### Plot forecast with confidence intervals"
   ]
  },
  {
   "cell_type": "code",
   "execution_count": null,
   "metadata": {},
   "outputs": [],
   "source": [
    "# plot_forecast(df = df_new, figsize=(12,8), geog=None)\n",
    "\n",
    "plot_forecast(df_new_95864, figsize=(12,8), geog='95864 (Arden-Arcade)')"
   ]
  },
  {
   "cell_type": "markdown",
   "metadata": {},
   "source": [
    "### Print summary of predicted, worst-case, and best-case scenarios"
   ]
  },
  {
   "cell_type": "code",
   "execution_count": null,
   "metadata": {
    "scrolled": true
   },
   "outputs": [],
   "source": [
    "arden_95864_pred, arden_95864_low, arden_95864_high  = pred_best_worst(pred=forecasted_price_95864, low=forecasted_lower_95864, high=forecasted_upper_95864, last=last_value_95864, date='April 1, 2020')\n",
    "arden_95864_pred, arden_95864_low, arden_95864_high"
   ]
  },
  {
   "cell_type": "markdown",
   "metadata": {},
   "source": [
    "## Recommendation for ZIP code 95864:  Don't invest"
   ]
  },
  {
   "cell_type": "markdown",
   "metadata": {},
   "source": [
    "By the model prediction, I would expect to see a -4.669% change in price by April 1, 2020. \n",
    "At the lower bound of the confidence interval, I would expect to see a -26.572% change in price by April 1, 2020.\n",
    "At the upper bound of the confidence interval, I would expect to see a 17.233% change in price by April 1, 2020."
   ]
  },
  {
   "cell_type": "markdown",
   "metadata": {},
   "source": [
    "# SacMetro:  95831 (Sacramento) -- Don't invest; lots of downside risk"
   ]
  },
  {
   "cell_type": "code",
   "execution_count": null,
   "metadata": {},
   "outputs": [],
   "source": [
    "geog_area = '95831'"
   ]
  },
  {
   "cell_type": "markdown",
   "metadata": {},
   "source": [
    "### Create dataframe containing values for just this geographic unit"
   ]
  },
  {
   "cell_type": "code",
   "execution_count": null,
   "metadata": {},
   "outputs": [],
   "source": [
    "ts_95831 = df_sac.loc[df_sac['Zip'] == geog_area]  # ts for all of the following functions should have only one zipcode\n",
    "ts_95831.head()\n"
   ]
  },
  {
   "cell_type": "code",
   "execution_count": null,
   "metadata": {
    "scrolled": true
   },
   "outputs": [],
   "source": [
    "# ts.head()\n",
    "\n",
    "ts_95831.head()"
   ]
  },
  {
   "cell_type": "code",
   "execution_count": null,
   "metadata": {},
   "outputs": [],
   "source": [
    "# ts = ts.value\n",
    "\n",
    "ts_95831_values = ts_95831.value"
   ]
  },
  {
   "cell_type": "code",
   "execution_count": null,
   "metadata": {},
   "outputs": [],
   "source": [
    "# ts.head()\n",
    "\n",
    "ts_95831_values.head()"
   ]
  },
  {
   "cell_type": "markdown",
   "metadata": {},
   "source": [
    "### Visualizations"
   ]
  },
  {
   "cell_type": "markdown",
   "metadata": {},
   "source": [
    "#### plot_ts:  Plot zip code(s) of interest over time, with market highs and lows"
   ]
  },
  {
   "cell_type": "code",
   "execution_count": null,
   "metadata": {
    "scrolled": false
   },
   "outputs": [],
   "source": [
    "# fig, ax = plot_ts(df_melt, zipcodes=['95616', '92008', '90035', '90025', '60625', '57701'])  # enter desired zip code(s)\n",
    "\n",
    "fig, ax = plot_ts_zips(df_melt, zipcodes=['95831'])  # enter desired zip code(s)"
   ]
  },
  {
   "cell_type": "markdown",
   "metadata": {},
   "source": [
    "#### Boxplot of zip code"
   ]
  },
  {
   "cell_type": "code",
   "execution_count": null,
   "metadata": {},
   "outputs": [],
   "source": [
    "# # note--check for SizeRank column and drop if needed\n",
    "ts_95831.boxplot(column = 'value')\n",
    "plt.title('95831');"
   ]
  },
  {
   "cell_type": "markdown",
   "metadata": {},
   "source": [
    "### Plot ACF and PACF for ts dataframe"
   ]
  },
  {
   "cell_type": "code",
   "execution_count": null,
   "metadata": {
    "scrolled": false
   },
   "outputs": [],
   "source": [
    "# plot_acf_pacf(ts, figsize=(10,6), lags=15)  # note that ts must only contain values and time as index\n",
    "\n",
    "plot_acf_pacf(ts_95831_values, figsize=(10,6), lags=15)"
   ]
  },
  {
   "cell_type": "markdown",
   "metadata": {},
   "source": [
    "### Plot seasonal decomposition for ts dataframe"
   ]
  },
  {
   "cell_type": "code",
   "execution_count": null,
   "metadata": {
    "scrolled": false
   },
   "outputs": [],
   "source": [
    "# plot_seasonal_decomp(ts)\n",
    "\n",
    "plot_seasonal_decomp(ts_95831_values)\n",
    "\n",
    "# Seasonality does not appear to be a significant factor in this zip code."
   ]
  },
  {
   "cell_type": "markdown",
   "metadata": {},
   "source": [
    "## ARIMA model parameters and optimization"
   ]
  },
  {
   "cell_type": "markdown",
   "metadata": {},
   "source": [
    "### Generate list of (p,d,q) and (p,d,q,m) values"
   ]
  },
  {
   "cell_type": "code",
   "execution_count": null,
   "metadata": {},
   "outputs": [],
   "source": [
    "p_values = [0, 1, 2, 4, 6, 8]\n",
    "d_values = range(0, 3)\n",
    "q_values = range(0, 3)\n",
    "warnings.filterwarnings(\"ignore\")"
   ]
  },
  {
   "cell_type": "markdown",
   "metadata": {},
   "source": [
    "### Run ARIMA model on ts dataframe with list of p,d,q values "
   ]
  },
  {
   "cell_type": "code",
   "execution_count": null,
   "metadata": {},
   "outputs": [],
   "source": [
    "# eval_arima_models(ts, p_values, d_values, q_values)  # don't run this until you have some time, since it take time\n",
    "# note that ts must only contain values and time as index\n",
    "\n",
    "# eval_arima_models(ts_95831_values, p_values, d_values, q_values)  # don't run this until you have some time, since it takes time\n"
   ]
  },
  {
   "cell_type": "markdown",
   "metadata": {},
   "source": [
    "### Generate model fit summary"
   ]
  },
  {
   "cell_type": "code",
   "execution_count": null,
   "metadata": {
    "scrolled": true
   },
   "outputs": [],
   "source": [
    "# model_fit = arima_zipcode(ts, order = None)   # change order = tuple to correspond to the best MSE produced by previous function\n",
    "\n",
    "# Best ARIMA(6, 0, 2) MSE=955633.913\n",
    "\n",
    "model_fit_95831 = arima_zipcode(ts_95831_values, order = (6,0,2))\n"
   ]
  },
  {
   "cell_type": "markdown",
   "metadata": {},
   "source": [
    "## ARIMA modeling results:  predictions and visualization"
   ]
  },
  {
   "cell_type": "markdown",
   "metadata": {},
   "source": [
    "### Produce forecasts from ARIMA model fit"
   ]
  },
  {
   "cell_type": "code",
   "execution_count": null,
   "metadata": {},
   "outputs": [],
   "source": [
    "actual_forecast_95831, std_error_95831, forecast_confint_95831 = forecast(model_fit_95831)\n",
    "\n",
    "# actual_forecast, forecast_confint = forecast(model_fit_dallas, months=24, confint=2)"
   ]
  },
  {
   "cell_type": "code",
   "execution_count": null,
   "metadata": {},
   "outputs": [],
   "source": [
    "actual_forecast_95831, std_error_95831, forecast_confint_95831"
   ]
  },
  {
   "cell_type": "markdown",
   "metadata": {},
   "source": [
    "### Create dataframe to hold forecast results"
   ]
  },
  {
   "cell_type": "code",
   "execution_count": null,
   "metadata": {},
   "outputs": [],
   "source": [
    "# df_forecast = forecast_df(col = 'time', daterange = pd.date_range(start='2018-05-01', end='2020-04-01', freq='MS'), \n",
    "#                 actual_forecast=actual_forecast, forecast_confint = forecast_confint)\n",
    "\n",
    "df_forecast_95831 = forecast_df(actual_forecast_95831, forecast_confint_95831, col = 'time', daterange = pd.date_range(start='2018-05-01', end='2020-04-01', freq='MS'))\n"
   ]
  },
  {
   "cell_type": "markdown",
   "metadata": {},
   "source": [
    "### Create new dataframe concatenating historic values and forecast results"
   ]
  },
  {
   "cell_type": "code",
   "execution_count": null,
   "metadata": {},
   "outputs": [],
   "source": [
    "# df_new = concat_values_forecast(ts, df_forecast)\n",
    "\n",
    "df_new_95831 = concat_values_forecast(ts_95831_values, df_forecast_95831)"
   ]
  },
  {
   "cell_type": "code",
   "execution_count": null,
   "metadata": {},
   "outputs": [],
   "source": [
    "df_new_95831.head()"
   ]
  },
  {
   "cell_type": "markdown",
   "metadata": {},
   "source": [
    "### Calculate predicted, lower bound, and upper bound forecasted prices"
   ]
  },
  {
   "cell_type": "code",
   "execution_count": null,
   "metadata": {},
   "outputs": [],
   "source": [
    "forecasted_price_95831, forecasted_lower_95831, forecasted_upper_95831 = forecast_values(df_new_95831)"
   ]
  },
  {
   "cell_type": "code",
   "execution_count": null,
   "metadata": {},
   "outputs": [],
   "source": [
    "forecasted_price_95831, forecasted_lower_95831, forecasted_upper_95831  # predicted, best-case, and worst-case prices in 2020\n"
   ]
  },
  {
   "cell_type": "code",
   "execution_count": null,
   "metadata": {},
   "outputs": [],
   "source": [
    "last_value_95831 = df_new_95831['value'].loc['2018-04-01']"
   ]
  },
  {
   "cell_type": "code",
   "execution_count": null,
   "metadata": {},
   "outputs": [],
   "source": [
    "last_value_95831"
   ]
  },
  {
   "cell_type": "markdown",
   "metadata": {},
   "source": [
    "### Plot forecast with confidence intervals"
   ]
  },
  {
   "cell_type": "code",
   "execution_count": null,
   "metadata": {},
   "outputs": [],
   "source": [
    "# plot_forecast(df = df_new, figsize=(12,8), geog=None)\n",
    "\n",
    "plot_forecast(df_new_95831, figsize=(12,8), geog='95831 (Sacramento)')"
   ]
  },
  {
   "cell_type": "markdown",
   "metadata": {},
   "source": [
    "### Print summary of predicted, worst-case, and best-case scenarios"
   ]
  },
  {
   "cell_type": "code",
   "execution_count": null,
   "metadata": {
    "scrolled": true
   },
   "outputs": [],
   "source": [
    "sac_pocket_95831_pred, sac_pocket_95831_low, sac_pocket_95831_high = pred_best_worst(pred=forecasted_price_95831, low=forecasted_lower_95831, high=forecasted_upper_95831, last=last_value_95831, date='April 1, 2020')\n",
    "sac_pocket_95831_pred, sac_pocket_95831_low, sac_pocket_95831_high"
   ]
  },
  {
   "cell_type": "markdown",
   "metadata": {},
   "source": [
    "## Zip code 95831:  don't invest; lots of downside risk\n",
    "\n",
    "By the model prediction, I would expect to see a -13.413% change in price by April 1, 2020.\n",
    "At the lower bound of the confidence interval, I would expect to see a -32.77% change in price by April 1, 2020.\n",
    "At the upper bound of the confidence interval, I would expect to see a 5.945% change in price by April 1, 2020."
   ]
  },
  {
   "cell_type": "markdown",
   "metadata": {},
   "source": [
    "# SacMetro:  96142 (Tahoma) -- Potentially solid gains"
   ]
  },
  {
   "cell_type": "code",
   "execution_count": null,
   "metadata": {},
   "outputs": [],
   "source": [
    "geog_area = '96142'"
   ]
  },
  {
   "cell_type": "code",
   "execution_count": null,
   "metadata": {},
   "outputs": [],
   "source": [
    "ts_96142 = df_sac.loc[df_sac['Zip'] == geog_area]  # ts for all of the following functions should have only one zipcode\n",
    "ts_96142.head()\n"
   ]
  },
  {
   "cell_type": "code",
   "execution_count": null,
   "metadata": {
    "scrolled": true
   },
   "outputs": [],
   "source": [
    "# ts.head()\n",
    "\n",
    "ts_96142.head()"
   ]
  },
  {
   "cell_type": "code",
   "execution_count": null,
   "metadata": {},
   "outputs": [],
   "source": [
    "# ts = ts.value\n",
    "\n",
    "ts_96142_values = ts_96142.value"
   ]
  },
  {
   "cell_type": "code",
   "execution_count": null,
   "metadata": {},
   "outputs": [],
   "source": [
    "# ts.head()\n",
    "\n",
    "ts_96142_values.head()"
   ]
  },
  {
   "cell_type": "code",
   "execution_count": null,
   "metadata": {},
   "outputs": [],
   "source": [
    "ts_96142_values.tail()"
   ]
  },
  {
   "cell_type": "markdown",
   "metadata": {},
   "source": [
    "### Visualizations"
   ]
  },
  {
   "cell_type": "markdown",
   "metadata": {},
   "source": [
    "#### plot_ts:  Plot zip code(s) of interest over time, with market highs and lows"
   ]
  },
  {
   "cell_type": "code",
   "execution_count": null,
   "metadata": {
    "scrolled": true
   },
   "outputs": [],
   "source": [
    "# fig, ax = plot_ts(df_melt, zipcodes=['95616', '92008', '90035', '90025', '60625', '57701'])  # enter desired zip code(s)\n",
    "\n",
    "fig, ax = plot_ts_zips(df_melt, zipcodes=['96142'])  # enter desired zip code(s)"
   ]
  },
  {
   "cell_type": "code",
   "execution_count": null,
   "metadata": {},
   "outputs": [],
   "source": [
    "ts_96142.head()"
   ]
  },
  {
   "cell_type": "markdown",
   "metadata": {},
   "source": [
    "#### Boxplot of zip code"
   ]
  },
  {
   "cell_type": "code",
   "execution_count": null,
   "metadata": {},
   "outputs": [],
   "source": [
    "ts_96142.boxplot(column = 'value')\n",
    "plt.title('96142');"
   ]
  },
  {
   "cell_type": "markdown",
   "metadata": {},
   "source": [
    "### Plot ACF and PACF for ts dataframe"
   ]
  },
  {
   "cell_type": "code",
   "execution_count": null,
   "metadata": {
    "scrolled": false
   },
   "outputs": [],
   "source": [
    "# plot_acf_pacf(ts, figsize=(10,6), lags=15)  # note that ts must only contain values and time as index\n",
    "\n",
    "plot_acf_pacf(ts_96142_values, figsize=(10,6), lags=15)"
   ]
  },
  {
   "cell_type": "markdown",
   "metadata": {},
   "source": [
    "### Plot seasonal decomposition for ts dataframe"
   ]
  },
  {
   "cell_type": "code",
   "execution_count": null,
   "metadata": {
    "scrolled": false
   },
   "outputs": [],
   "source": [
    "# plot_seasonal_decomp(ts)\n",
    "\n",
    "plot_seasonal_decomp(ts_96142_values)\n",
    "\n",
    "# Seasonality does not appear to be a significant factor in this zip code."
   ]
  },
  {
   "cell_type": "markdown",
   "metadata": {},
   "source": [
    "## ARIMA model parameters and optimization"
   ]
  },
  {
   "cell_type": "markdown",
   "metadata": {},
   "source": [
    "### Generate list of (p,d,q) and (p,d,q,m) values"
   ]
  },
  {
   "cell_type": "code",
   "execution_count": null,
   "metadata": {},
   "outputs": [],
   "source": [
    "p_values = [0, 1, 2, 4, 6, 8]\n",
    "d_values = range(0, 3)\n",
    "q_values = range(0, 3)\n",
    "warnings.filterwarnings(\"ignore\")"
   ]
  },
  {
   "cell_type": "markdown",
   "metadata": {},
   "source": [
    "### Run ARIMA model on ts dataframe with list of p,d,q values "
   ]
  },
  {
   "cell_type": "code",
   "execution_count": null,
   "metadata": {},
   "outputs": [],
   "source": [
    "# eval_arima_models(ts, p_values, d_values, q_values)  # don't run this until you have some time, since it take time\n",
    "# note that ts must only contain values and time as index\n",
    "\n",
    "# eval_arima_models(ts_96142_values, p_values, d_values, q_values)  # don't run this until you have some time, since it takes time\n"
   ]
  },
  {
   "cell_type": "markdown",
   "metadata": {},
   "source": [
    "### Generate model fit summary"
   ]
  },
  {
   "cell_type": "code",
   "execution_count": null,
   "metadata": {
    "scrolled": true
   },
   "outputs": [],
   "source": [
    "# model_fit = arima_zipcode(ts, order = None)   # change order = tuple to correspond to the best MSE produced by previous function\n",
    "\n",
    "# Best ARIMA(6, 1, 2) MSE=10423029.066\n",
    "\n",
    "model_fit_96142 = arima_zipcode(ts_96142_values, order = (6,1,2))\n"
   ]
  },
  {
   "cell_type": "markdown",
   "metadata": {},
   "source": [
    "## ARIMA modeling results:  predictions and visualization"
   ]
  },
  {
   "cell_type": "markdown",
   "metadata": {},
   "source": [
    "### Produce forecasts from ARIMA model fit"
   ]
  },
  {
   "cell_type": "code",
   "execution_count": null,
   "metadata": {},
   "outputs": [],
   "source": [
    "actual_forecast_96142, std_error_96142, forecast_confint_96142 = forecast(model_fit_96142)"
   ]
  },
  {
   "cell_type": "code",
   "execution_count": null,
   "metadata": {},
   "outputs": [],
   "source": [
    "actual_forecast_96142, std_error_96142, forecast_confint_96142"
   ]
  },
  {
   "cell_type": "markdown",
   "metadata": {},
   "source": [
    "### Create dataframe to hold forecast results"
   ]
  },
  {
   "cell_type": "code",
   "execution_count": null,
   "metadata": {},
   "outputs": [],
   "source": [
    "# df_forecast = forecast_df(col = 'time', daterange = pd.date_range(start='2018-05-01', end='2020-04-01', freq='MS'), \n",
    "#                 actual_forecast=actual_forecast, forecast_confint = forecast_confint)\n",
    "\n",
    "df_forecast_96142 = forecast_df(actual_forecast_96142, forecast_confint_96142, col = 'time', daterange = pd.date_range(start='2018-05-01', end='2020-04-01', freq='MS'))\n"
   ]
  },
  {
   "cell_type": "markdown",
   "metadata": {},
   "source": [
    "### Create new dataframe concatenating historic values and forecast results"
   ]
  },
  {
   "cell_type": "code",
   "execution_count": null,
   "metadata": {},
   "outputs": [],
   "source": [
    "# df_new = concat_values_forecast(ts, df_forecast)\n",
    "\n",
    "df_new_96142 = concat_values_forecast(ts_96142_values, df_forecast_96142)"
   ]
  },
  {
   "cell_type": "code",
   "execution_count": null,
   "metadata": {},
   "outputs": [],
   "source": [
    "df_new_96142.head()"
   ]
  },
  {
   "cell_type": "markdown",
   "metadata": {},
   "source": [
    "### Calculate predicted, lower bound, and upper bound forecasted prices"
   ]
  },
  {
   "cell_type": "code",
   "execution_count": null,
   "metadata": {},
   "outputs": [],
   "source": [
    "forecasted_price_96142, forecasted_lower_96142, forecasted_upper_96142 = forecast_values(df_new_96142)"
   ]
  },
  {
   "cell_type": "code",
   "execution_count": null,
   "metadata": {},
   "outputs": [],
   "source": [
    "forecasted_price_96142, forecasted_lower_96142, forecasted_upper_96142  # predicted, best-case, and worst-case prices in 2020\n"
   ]
  },
  {
   "cell_type": "code",
   "execution_count": null,
   "metadata": {},
   "outputs": [],
   "source": [
    "last_value_96142 = df_new_96142['value'].loc['2018-04-01']"
   ]
  },
  {
   "cell_type": "code",
   "execution_count": null,
   "metadata": {},
   "outputs": [],
   "source": [
    "last_value_96142"
   ]
  },
  {
   "cell_type": "markdown",
   "metadata": {},
   "source": [
    "### Plot forecast with confidence intervals"
   ]
  },
  {
   "cell_type": "code",
   "execution_count": null,
   "metadata": {},
   "outputs": [],
   "source": [
    "# plot_forecast(df = df_new, figsize=(12,8), geog=None)\n",
    "\n",
    "plot_forecast(df_new_96142, figsize=(12,8), geog='96142 (Tahoma)')"
   ]
  },
  {
   "cell_type": "markdown",
   "metadata": {},
   "source": [
    "### Print summary of predicted, worst-case, and best-case scenarios"
   ]
  },
  {
   "cell_type": "code",
   "execution_count": null,
   "metadata": {
    "scrolled": true
   },
   "outputs": [],
   "source": [
    "tahoma_96142_pred, tahoma_96142_low, tahoma_96142_high = pred_best_worst(pred=forecasted_price_96142, low=forecasted_lower_96142, high=forecasted_upper_96142, last=last_value_96142, date='April 1, 2020')\n",
    "tahoma_96142_pred, tahoma_96142_low, tahoma_96142_high"
   ]
  },
  {
   "cell_type": "markdown",
   "metadata": {},
   "source": [
    "## Zip code 96142:  Potentially solid gains, with possibly large upside or downside\n",
    "\n",
    "By the model prediction, I would expect to see a 9.791% change in price by April 1, 2020.\n",
    "At the lower bound of the confidence interval, I would expect to see a -15.663% change in price by April 1, 2020.\n",
    "At the upper bound of the confidence interval, I would expect to see a 35.246% change in price by April 1, 2020.\n"
   ]
  },
  {
   "cell_type": "markdown",
   "metadata": {},
   "source": [
    "# SacMetro:  95811 (Sacramento) -- Mediocre predicted returns"
   ]
  },
  {
   "cell_type": "code",
   "execution_count": null,
   "metadata": {},
   "outputs": [],
   "source": [
    "geog_area = '95811'"
   ]
  },
  {
   "cell_type": "markdown",
   "metadata": {},
   "source": [
    "### Create dataframe containing values for just this geographic unit"
   ]
  },
  {
   "cell_type": "code",
   "execution_count": null,
   "metadata": {},
   "outputs": [],
   "source": [
    "ts_95811 = df_sac.loc[df_sac['Zip'] == geog_area]  # ts for all of the following functions should have only one zipcode\n",
    "ts_95811.head()\n"
   ]
  },
  {
   "cell_type": "code",
   "execution_count": null,
   "metadata": {
    "scrolled": true
   },
   "outputs": [],
   "source": [
    "# ts.head()\n",
    "\n",
    "ts_95811.head()"
   ]
  },
  {
   "cell_type": "code",
   "execution_count": null,
   "metadata": {},
   "outputs": [],
   "source": [
    "# ts = ts.value\n",
    "\n",
    "ts_95811_values = ts_95811.value"
   ]
  },
  {
   "cell_type": "code",
   "execution_count": null,
   "metadata": {},
   "outputs": [],
   "source": [
    "# ts.head()\n",
    "\n",
    "ts_95811_values.head()"
   ]
  },
  {
   "cell_type": "code",
   "execution_count": null,
   "metadata": {},
   "outputs": [],
   "source": [
    "ts_95811_values.tail()"
   ]
  },
  {
   "cell_type": "markdown",
   "metadata": {},
   "source": [
    "### Visualizations"
   ]
  },
  {
   "cell_type": "markdown",
   "metadata": {},
   "source": [
    "#### plot_ts:  Plot zip code(s) of interest over time, with market highs and lows"
   ]
  },
  {
   "cell_type": "code",
   "execution_count": null,
   "metadata": {
    "scrolled": true
   },
   "outputs": [],
   "source": [
    "# fig, ax = plot_ts(df_melt, zipcodes=['95616', '92008', '90035', '90025', '60625', '57701'])  # enter desired zip code(s)\n",
    "\n",
    "fig, ax = plot_ts_zips(df_melt, zipcodes=['95811'], figsize=(12,5))  # enter desired zip code(s)"
   ]
  },
  {
   "cell_type": "markdown",
   "metadata": {},
   "source": [
    "#### Boxplot of zip code"
   ]
  },
  {
   "cell_type": "code",
   "execution_count": null,
   "metadata": {},
   "outputs": [],
   "source": [
    "# # note--check for SizeRank column and drop if needed\n",
    "\n",
    "ts_95811.boxplot(column = 'value')\n",
    "plt.title('95811');\n"
   ]
  },
  {
   "cell_type": "markdown",
   "metadata": {},
   "source": [
    "### Plot ACF and PACF for ts dataframe"
   ]
  },
  {
   "cell_type": "code",
   "execution_count": null,
   "metadata": {
    "scrolled": false
   },
   "outputs": [],
   "source": [
    "# plot_acf_pacf(ts, figsize=(10,6), lags=15)  # note that ts must only contain values and time as index\n",
    "\n",
    "plot_acf_pacf(ts_95811_values, figsize=(10,6), lags=15)"
   ]
  },
  {
   "cell_type": "markdown",
   "metadata": {},
   "source": [
    "### Plot seasonal decomposition for ts dataframe"
   ]
  },
  {
   "cell_type": "code",
   "execution_count": null,
   "metadata": {
    "scrolled": false
   },
   "outputs": [],
   "source": [
    "# plot_seasonal_decomp(ts)\n",
    "\n",
    "plot_seasonal_decomp(ts_95811_values)\n",
    "\n",
    "# Seasonality does not appear to be a significant factor in this zip code."
   ]
  },
  {
   "cell_type": "markdown",
   "metadata": {},
   "source": [
    "## ARIMA model parameters and optimization"
   ]
  },
  {
   "cell_type": "markdown",
   "metadata": {},
   "source": [
    "### Generate list of (p,d,q) and (p,d,q,m) values"
   ]
  },
  {
   "cell_type": "code",
   "execution_count": null,
   "metadata": {},
   "outputs": [],
   "source": [
    "p_values = [0, 1, 2, 4, 6, 8]\n",
    "d_values = range(0, 3)\n",
    "q_values = range(0, 3)\n",
    "warnings.filterwarnings(\"ignore\")"
   ]
  },
  {
   "cell_type": "markdown",
   "metadata": {},
   "source": [
    "### Run ARIMA model on ts dataframe with list of p,d,q values "
   ]
  },
  {
   "cell_type": "code",
   "execution_count": null,
   "metadata": {},
   "outputs": [],
   "source": [
    "# eval_arima_models(ts, p_values, d_values, q_values)  # don't run this until you have some time, since it take time\n",
    "# note that ts must only contain values and time as index\n",
    "\n",
    "# eval_arima_models(ts_95811_values, p_values, d_values, q_values)  # don't run this until you have some time, since it takes time\n"
   ]
  },
  {
   "cell_type": "markdown",
   "metadata": {},
   "source": [
    "### Generate model fit summary"
   ]
  },
  {
   "cell_type": "code",
   "execution_count": null,
   "metadata": {
    "scrolled": true
   },
   "outputs": [],
   "source": [
    "# model_fit = arima_zipcode(ts, order = None)   # change order = tuple to correspond to the best MSE produced by previous function\n",
    "\n",
    "# Best ARIMA(4, 1, 2) MSE=3195605.437\n",
    "\n",
    "model_fit_95811 = arima_zipcode(ts_95811_values, order = (4,1,2))\n"
   ]
  },
  {
   "cell_type": "markdown",
   "metadata": {},
   "source": [
    "## ARIMA modeling results:  predictions and visualization"
   ]
  },
  {
   "cell_type": "markdown",
   "metadata": {},
   "source": [
    "### Produce forecasts from ARIMA model fit"
   ]
  },
  {
   "cell_type": "code",
   "execution_count": null,
   "metadata": {},
   "outputs": [],
   "source": [
    "# def forecast(model_fit, months=24, confint=2):\n",
    "#     forecast = model_fit.forecast(months)\n",
    "#     actual_forecast = forecast[0]\n",
    "#     std_error = forecast[1]\n",
    "#     forecast_confint = forecast[confint]\n",
    "#     return actual_forecast, std_error, forecast_confint  \n",
    "\n",
    "# actual_forecast, forecast_confint = forecast(model_fit, months=24, confint=2)\n",
    "\n",
    "actual_forecast_95811, std_error_95811, forecast_confint_95811 = forecast(model_fit_95811)\n"
   ]
  },
  {
   "cell_type": "code",
   "execution_count": null,
   "metadata": {},
   "outputs": [],
   "source": [
    "actual_forecast_95811, std_error_95811, forecast_confint_95811"
   ]
  },
  {
   "cell_type": "markdown",
   "metadata": {},
   "source": [
    "### Create dataframe to hold forecast results"
   ]
  },
  {
   "cell_type": "code",
   "execution_count": null,
   "metadata": {},
   "outputs": [],
   "source": [
    "# df_forecast = forecast_df(col = 'time', daterange = pd.date_range(start='2018-05-01', end='2020-04-01', freq='MS'), \n",
    "#                 actual_forecast=actual_forecast, forecast_confint = forecast_confint)\n",
    "\n",
    "df_forecast_95811 = forecast_df(actual_forecast_95811, forecast_confint_95811, col = 'time', daterange = pd.date_range(start='2018-05-01', end='2020-04-01', freq='MS'))"
   ]
  },
  {
   "cell_type": "markdown",
   "metadata": {},
   "source": [
    "### Create new dataframe concatenating historic values and forecast results"
   ]
  },
  {
   "cell_type": "code",
   "execution_count": null,
   "metadata": {},
   "outputs": [],
   "source": [
    "# df_new = concat_values_forecast(ts, df_forecast)\n",
    "\n",
    "df_new_95811 = concat_values_forecast(ts_95811_values, df_forecast_95811)"
   ]
  },
  {
   "cell_type": "code",
   "execution_count": null,
   "metadata": {},
   "outputs": [],
   "source": [
    "df_new_95811.head()"
   ]
  },
  {
   "cell_type": "markdown",
   "metadata": {},
   "source": [
    "### Calculate predicted, lower bound, and upper bound forecasted prices"
   ]
  },
  {
   "cell_type": "code",
   "execution_count": null,
   "metadata": {},
   "outputs": [],
   "source": [
    "forecasted_price_95811, forecasted_lower_95811, forecasted_upper_95811 = forecast_values(df_new_95811)"
   ]
  },
  {
   "cell_type": "code",
   "execution_count": null,
   "metadata": {},
   "outputs": [],
   "source": [
    "forecasted_price_95811, forecasted_lower_95811, forecasted_upper_95811  # predicted, best-case, and worst-case prices in 2020\n"
   ]
  },
  {
   "cell_type": "code",
   "execution_count": null,
   "metadata": {},
   "outputs": [],
   "source": [
    "last_value_95811 = df_new_95811['value'].loc['2018-04-01']"
   ]
  },
  {
   "cell_type": "code",
   "execution_count": null,
   "metadata": {},
   "outputs": [],
   "source": [
    "last_value_95811"
   ]
  },
  {
   "cell_type": "markdown",
   "metadata": {},
   "source": [
    "### Plot forecast with confidence intervals"
   ]
  },
  {
   "cell_type": "code",
   "execution_count": null,
   "metadata": {},
   "outputs": [],
   "source": [
    "# plot_forecast(df = df_new, figsize=(12,8), geog=None)\n",
    "\n",
    "plot_forecast(df_new_95811, figsize=(12,8), geog='95811 (Sacramento)')"
   ]
  },
  {
   "cell_type": "markdown",
   "metadata": {},
   "source": [
    "### Print summary of predicted, worst-case, and best-case scenarios"
   ]
  },
  {
   "cell_type": "code",
   "execution_count": null,
   "metadata": {
    "scrolled": true
   },
   "outputs": [],
   "source": [
    "sac_95811_pred, sac_95811_low, sac_95811_high = pred_best_worst(pred=forecasted_price_95811, low=forecasted_lower_95811, high=forecasted_upper_95811, last=last_value_95811, date='April 1, 2020')\n",
    "sac_95811_pred, sac_95811_low, sac_95811_high"
   ]
  },
  {
   "cell_type": "markdown",
   "metadata": {},
   "source": [
    "## Zip code 95811:  Don't invest--mediocre predicted returns with significant potential downside (but also significant potential upside)\n",
    "\n",
    "By the model prediction, I would expect to see a 2.254% change in price by April 1, 2020.\n",
    "At the lower bound of the confidence interval, I would expect to see a -17.073% change in price by April 1, 2020.\n",
    "At the upper bound of the confidence interval, I would expect to see a 21.582% change in price by April 1, 2020."
   ]
  },
  {
   "cell_type": "markdown",
   "metadata": {},
   "source": [
    "# SacMetro:  95818 (Sacramento) -- Do not invest"
   ]
  },
  {
   "cell_type": "code",
   "execution_count": null,
   "metadata": {},
   "outputs": [],
   "source": [
    "geog_area = '95818'"
   ]
  },
  {
   "cell_type": "code",
   "execution_count": null,
   "metadata": {},
   "outputs": [],
   "source": [
    "ts_95818 = df_sac.loc[df_sac['Zip'] == geog_area]  # ts for all of the following functions should have only one zipcode\n",
    "ts_95818.head()\n"
   ]
  },
  {
   "cell_type": "code",
   "execution_count": null,
   "metadata": {
    "scrolled": true
   },
   "outputs": [],
   "source": [
    "# ts.head()\n",
    "\n",
    "ts_95818.head()"
   ]
  },
  {
   "cell_type": "code",
   "execution_count": null,
   "metadata": {},
   "outputs": [],
   "source": [
    "# ts = ts.value\n",
    "\n",
    "ts_95818_values = ts_95818.value"
   ]
  },
  {
   "cell_type": "code",
   "execution_count": null,
   "metadata": {},
   "outputs": [],
   "source": [
    "# ts.head()\n",
    "\n",
    "ts_95818_values.head()"
   ]
  },
  {
   "cell_type": "code",
   "execution_count": null,
   "metadata": {},
   "outputs": [],
   "source": [
    "ts_95818_values.tail()"
   ]
  },
  {
   "cell_type": "markdown",
   "metadata": {},
   "source": [
    "### Visualizations"
   ]
  },
  {
   "cell_type": "markdown",
   "metadata": {},
   "source": [
    "#### plot_ts:  Plot zip code(s) of interest over time, with market highs and lows"
   ]
  },
  {
   "cell_type": "code",
   "execution_count": null,
   "metadata": {
    "scrolled": true
   },
   "outputs": [],
   "source": [
    "# fig, ax = plot_ts(df_melt, zipcodes=['95616', '92008', '90035', '90025', '60625', '57701'])  # enter desired zip code(s)\n",
    "\n",
    "fig, ax = plot_ts_zips(df_melt, zipcodes=['95818'], figsize=(12,6))  # enter desired zip code(s)"
   ]
  },
  {
   "cell_type": "markdown",
   "metadata": {},
   "source": [
    "#### Boxplot of zip code"
   ]
  },
  {
   "cell_type": "code",
   "execution_count": null,
   "metadata": {},
   "outputs": [],
   "source": [
    "# # note--check for SizeRank column and drop if needed\n",
    "\n",
    "# fig = plt.figure(figsize=(18, 30))\n",
    "\n",
    "# for i, zc in enumerate(sac_metro_zips[:48], start=1):\n",
    "#     ax = fig.add_subplot(8,6,i)\n",
    "#     ts = df_sac.loc[df_sac['Zip'] == zc]\n",
    "#     ts.boxplot(column = 'value', ax = ax)\n",
    "#     ax.set_title(f'{zc}')\n",
    "#     fig.tight_layout()\n",
    "\n",
    "ts_95818.boxplot(column = 'value')\n",
    "plt.title('95818');"
   ]
  },
  {
   "cell_type": "markdown",
   "metadata": {},
   "source": [
    "### Plot ACF and PACF for ts dataframe"
   ]
  },
  {
   "cell_type": "code",
   "execution_count": null,
   "metadata": {
    "scrolled": false
   },
   "outputs": [],
   "source": [
    "# plot_acf_pacf(ts, figsize=(10,6), lags=15)  # note that ts must only contain values and time as index\n",
    "\n",
    "plot_acf_pacf(ts_95818_values, figsize=(10,6), lags=15)"
   ]
  },
  {
   "cell_type": "markdown",
   "metadata": {},
   "source": [
    "### Plot seasonal decomposition for ts dataframe"
   ]
  },
  {
   "cell_type": "code",
   "execution_count": null,
   "metadata": {
    "scrolled": false
   },
   "outputs": [],
   "source": [
    "# plot_seasonal_decomp(ts)\n",
    "\n",
    "plot_seasonal_decomp(ts_95818_values)\n",
    "\n",
    "# Seasonality does not appear to be a significant factor in this zip code."
   ]
  },
  {
   "cell_type": "markdown",
   "metadata": {},
   "source": [
    "## ARIMA model parameters and optimization"
   ]
  },
  {
   "cell_type": "markdown",
   "metadata": {},
   "source": [
    "### Generate list of (p,d,q) and (p,d,q,m) values"
   ]
  },
  {
   "cell_type": "code",
   "execution_count": null,
   "metadata": {},
   "outputs": [],
   "source": [
    "p_values = [0, 1, 2, 4, 6, 8]\n",
    "d_values = range(0, 3)\n",
    "q_values = range(0, 3)\n",
    "warnings.filterwarnings(\"ignore\")"
   ]
  },
  {
   "cell_type": "markdown",
   "metadata": {},
   "source": [
    "### Run ARIMA model on ts dataframe with list of p,d,q values "
   ]
  },
  {
   "cell_type": "code",
   "execution_count": null,
   "metadata": {},
   "outputs": [],
   "source": [
    "# eval_arima_models(ts, p_values, d_values, q_values)  # don't run this until you have some time, since it take time\n",
    "# note that ts must only contain values and time as index\n",
    "\n",
    "# eval_arima_models(ts_95818_values, p_values, d_values, q_values)  # don't run this until you have some time, since it takes time\n"
   ]
  },
  {
   "cell_type": "markdown",
   "metadata": {},
   "source": [
    "### Generate model fit summary"
   ]
  },
  {
   "cell_type": "code",
   "execution_count": null,
   "metadata": {
    "scrolled": true
   },
   "outputs": [],
   "source": [
    "# model_fit = arima_zipcode(ts, order = None)   # change order = tuple to correspond to the best MSE produced by previous function\n",
    "\n",
    "# Best ARIMA(6, 2, 2) MSE=2089095.204\n",
    "\n",
    "model_fit_95818 = arima_zipcode(ts_95818_values, order = (6,2,2))\n"
   ]
  },
  {
   "cell_type": "markdown",
   "metadata": {},
   "source": [
    "## ARIMA modeling results:  predictions and visualization"
   ]
  },
  {
   "cell_type": "markdown",
   "metadata": {},
   "source": [
    "### Produce forecasts from ARIMA model fit"
   ]
  },
  {
   "cell_type": "code",
   "execution_count": null,
   "metadata": {},
   "outputs": [],
   "source": [
    "actual_forecast_95818, std_error_95818, forecast_confint_95818 = forecast(model_fit_95818)\n"
   ]
  },
  {
   "cell_type": "code",
   "execution_count": null,
   "metadata": {},
   "outputs": [],
   "source": [
    "actual_forecast_95818, std_error_95818, forecast_confint_95818"
   ]
  },
  {
   "cell_type": "markdown",
   "metadata": {},
   "source": [
    "### Create dataframe to hold forecast results"
   ]
  },
  {
   "cell_type": "code",
   "execution_count": null,
   "metadata": {},
   "outputs": [],
   "source": [
    "# df_forecast = forecast_df(col = 'time', daterange = pd.date_range(start='2018-05-01', end='2020-04-01', freq='MS'), \n",
    "#                 actual_forecast=actual_forecast, forecast_confint = forecast_confint)\n",
    "\n",
    "df_forecast_95818 = forecast_df(actual_forecast_95818, forecast_confint_95818, col = 'time', daterange = pd.date_range(start='2018-05-01', end='2020-04-01', freq='MS'))\n"
   ]
  },
  {
   "cell_type": "markdown",
   "metadata": {},
   "source": [
    "### Create new dataframe concatenating historic values and forecast results"
   ]
  },
  {
   "cell_type": "code",
   "execution_count": null,
   "metadata": {},
   "outputs": [],
   "source": [
    "# df_new = concat_values_forecast(ts, df_forecast)\n",
    "\n",
    "df_new_95818 = concat_values_forecast(ts_95818_values, df_forecast_95818)"
   ]
  },
  {
   "cell_type": "code",
   "execution_count": null,
   "metadata": {},
   "outputs": [],
   "source": [
    "df_new_95818.head()"
   ]
  },
  {
   "cell_type": "markdown",
   "metadata": {},
   "source": [
    "### Calculate predicted, lower bound, and upper bound forecasted prices"
   ]
  },
  {
   "cell_type": "code",
   "execution_count": null,
   "metadata": {},
   "outputs": [],
   "source": [
    "forecasted_price_95818, forecasted_lower_95818, forecasted_upper_95818 = forecast_values(df_new_95818)"
   ]
  },
  {
   "cell_type": "code",
   "execution_count": null,
   "metadata": {},
   "outputs": [],
   "source": [
    "forecasted_price_95818, forecasted_lower_95818, forecasted_upper_95818  # predicted, best-case, and worst-case prices in 2020\n"
   ]
  },
  {
   "cell_type": "code",
   "execution_count": null,
   "metadata": {},
   "outputs": [],
   "source": [
    "last_value_95818 = df_new_95818['value'].loc['2018-04-01']"
   ]
  },
  {
   "cell_type": "code",
   "execution_count": null,
   "metadata": {},
   "outputs": [],
   "source": [
    "last_value_95818"
   ]
  },
  {
   "cell_type": "markdown",
   "metadata": {},
   "source": [
    "### Plot forecast with confidence intervals"
   ]
  },
  {
   "cell_type": "code",
   "execution_count": null,
   "metadata": {},
   "outputs": [],
   "source": [
    "# plot_forecast(df = df_new, figsize=(12,8), geog=None)\n",
    "\n",
    "plot_forecast(df_new_95818, figsize=(12,8), geog='95818')"
   ]
  },
  {
   "cell_type": "markdown",
   "metadata": {},
   "source": [
    "### Print summary of predicted, worst-case, and best-case scenarios"
   ]
  },
  {
   "cell_type": "code",
   "execution_count": null,
   "metadata": {
    "scrolled": true
   },
   "outputs": [],
   "source": [
    "sac_95818_pred, sac_95818_low, sac_95818_high = pred_best_worst(pred=forecasted_price_95818, low=forecasted_lower_95818, \n",
    "                                                                high=forecasted_upper_95818, last=last_value_95818, \n",
    "                                                                date='April 1, 2020')\n",
    "sac_95818_pred, sac_95818_low, sac_95818_high"
   ]
  },
  {
   "cell_type": "markdown",
   "metadata": {},
   "source": [
    "## Zip code 95818:  Do not invest--negative predicted return\n",
    "\n",
    "By the model prediction, I would expect to see a -0.978% change in price by April 1, 2020\n",
    "At the lower bound of the confidence interval, I would expect to see a -25.772% change in price by April 1, 2020\n",
    "At the upper bound of the confidence interval, I would expect to see a 23.816% change in price by April 1, 2020\n"
   ]
  },
  {
   "cell_type": "markdown",
   "metadata": {},
   "source": [
    "# SacMetro:  95630 (Folsom)--Mediocre predicted returns "
   ]
  },
  {
   "cell_type": "code",
   "execution_count": null,
   "metadata": {},
   "outputs": [],
   "source": [
    "geog_area = '95630'"
   ]
  },
  {
   "cell_type": "code",
   "execution_count": null,
   "metadata": {},
   "outputs": [],
   "source": [
    "ts_95630 = df_sac.loc[df_sac['Zip'] == geog_area]  # ts for all of the following functions should have only one zipcode\n",
    "ts_95630.head()\n"
   ]
  },
  {
   "cell_type": "code",
   "execution_count": null,
   "metadata": {
    "scrolled": true
   },
   "outputs": [],
   "source": [
    "# ts.head()\n",
    "\n",
    "ts_95630.head()"
   ]
  },
  {
   "cell_type": "code",
   "execution_count": null,
   "metadata": {},
   "outputs": [],
   "source": [
    "# ts = ts.value\n",
    "\n",
    "ts_95630_values = ts_95630.value"
   ]
  },
  {
   "cell_type": "code",
   "execution_count": null,
   "metadata": {},
   "outputs": [],
   "source": [
    "# ts.head()\n",
    "\n",
    "ts_95630_values.head()"
   ]
  },
  {
   "cell_type": "code",
   "execution_count": null,
   "metadata": {},
   "outputs": [],
   "source": [
    "ts_95630_values.tail()"
   ]
  },
  {
   "cell_type": "markdown",
   "metadata": {},
   "source": [
    "### Visualizations"
   ]
  },
  {
   "cell_type": "markdown",
   "metadata": {},
   "source": [
    "#### plot_ts:  Plot zip code(s) of interest over time, with market highs and lows"
   ]
  },
  {
   "cell_type": "code",
   "execution_count": null,
   "metadata": {
    "scrolled": true
   },
   "outputs": [],
   "source": [
    "# fig, ax = plot_ts(df_melt, zipcodes=['95616', '92008', '90035', '90025', '60625', '57701'])  # enter desired zip code(s)\n",
    "\n",
    "fig, ax = plot_ts_zips(df_melt, zipcodes=['95630'], figsize=(12,6))  # enter desired zip code(s)"
   ]
  },
  {
   "cell_type": "code",
   "execution_count": null,
   "metadata": {},
   "outputs": [],
   "source": [
    "ts_95630.head(3)"
   ]
  },
  {
   "cell_type": "markdown",
   "metadata": {},
   "source": [
    "#### Boxplot of zip code"
   ]
  },
  {
   "cell_type": "code",
   "execution_count": null,
   "metadata": {},
   "outputs": [],
   "source": [
    "ts_95630.boxplot(column = 'value')\n",
    "plt.title('95630');\n"
   ]
  },
  {
   "cell_type": "markdown",
   "metadata": {},
   "source": [
    "### Plot ACF and PACF for ts dataframe"
   ]
  },
  {
   "cell_type": "code",
   "execution_count": null,
   "metadata": {
    "scrolled": false
   },
   "outputs": [],
   "source": [
    "# plot_acf_pacf(ts, figsize=(10,6), lags=15)  # note that ts must only contain values and time as index\n",
    "\n",
    "plot_acf_pacf(ts_95630_values, figsize=(10,6), lags=15)"
   ]
  },
  {
   "cell_type": "markdown",
   "metadata": {},
   "source": [
    "### Plot seasonal decomposition for ts dataframe"
   ]
  },
  {
   "cell_type": "code",
   "execution_count": null,
   "metadata": {
    "scrolled": false
   },
   "outputs": [],
   "source": [
    "# plot_seasonal_decomp(ts)\n",
    "\n",
    "plot_seasonal_decomp(ts_95630_values)\n",
    "\n",
    "# Seasonality does not appear to be a significant factor in this zip code."
   ]
  },
  {
   "cell_type": "markdown",
   "metadata": {},
   "source": [
    "## ARIMA model parameters and optimization"
   ]
  },
  {
   "cell_type": "markdown",
   "metadata": {},
   "source": [
    "### Generate list of (p,d,q) and (p,d,q,m) values"
   ]
  },
  {
   "cell_type": "code",
   "execution_count": null,
   "metadata": {},
   "outputs": [],
   "source": [
    "p_values = [0, 1, 2, 4, 6, 8]\n",
    "d_values = range(0, 3)\n",
    "q_values = range(0, 3)\n",
    "warnings.filterwarnings(\"ignore\")"
   ]
  },
  {
   "cell_type": "markdown",
   "metadata": {},
   "source": [
    "### Run ARIMA model on ts dataframe with list of p,d,q values "
   ]
  },
  {
   "cell_type": "code",
   "execution_count": null,
   "metadata": {},
   "outputs": [],
   "source": [
    "# eval_arima_models(ts, p_values, d_values, q_values)  # don't run this until you have some time, since it take time\n",
    "# note that ts must only contain values and time as index\n",
    "\n",
    "# eval_arima_models(ts_95630_values, p_values, d_values, q_values)  # don't run this until you have some time, since it takes time\n"
   ]
  },
  {
   "cell_type": "markdown",
   "metadata": {},
   "source": [
    "### Generate model fit summary"
   ]
  },
  {
   "cell_type": "code",
   "execution_count": null,
   "metadata": {
    "scrolled": true
   },
   "outputs": [],
   "source": [
    "# model_fit = arima_zipcode(ts, order = None)   # change order = tuple to correspond to the best MSE produced by previous function\n",
    "\n",
    "# Best ARIMA(2, 2, 0) MSE=1373937.757\n",
    "\n",
    "model_fit_95630 = arima_zipcode(ts_95630_values, order = (2,2,0))\n"
   ]
  },
  {
   "cell_type": "markdown",
   "metadata": {},
   "source": [
    "## ARIMA modeling results:  predictions and visualization"
   ]
  },
  {
   "cell_type": "markdown",
   "metadata": {},
   "source": [
    "### Produce forecasts from ARIMA model fit"
   ]
  },
  {
   "cell_type": "code",
   "execution_count": null,
   "metadata": {},
   "outputs": [],
   "source": [
    "# actual_forecast, forecast_confint = forecast(model_fit, months=24, confint=2)\n",
    "\n",
    "actual_forecast_95630, std_error_95630, forecast_confint_95630 = forecast(model_fit_95630)\n"
   ]
  },
  {
   "cell_type": "code",
   "execution_count": null,
   "metadata": {},
   "outputs": [],
   "source": [
    "actual_forecast_95630, std_error_95630, forecast_confint_95630"
   ]
  },
  {
   "cell_type": "markdown",
   "metadata": {},
   "source": [
    "### Create dataframe to hold forecast results"
   ]
  },
  {
   "cell_type": "code",
   "execution_count": null,
   "metadata": {},
   "outputs": [],
   "source": [
    "# df_forecast = forecast_df(col = 'time', daterange = pd.date_range(start='2018-05-01', end='2020-04-01', freq='MS'), \n",
    "#                 actual_forecast=actual_forecast, forecast_confint = forecast_confint)\n",
    "\n",
    "df_forecast_95630 = forecast_df(actual_forecast_95630, forecast_confint_95630, col = 'time', daterange = pd.date_range(start='2018-05-01', end='2020-04-01', freq='MS'))\n"
   ]
  },
  {
   "cell_type": "markdown",
   "metadata": {},
   "source": [
    "### Create new dataframe concatenating historic values and forecast results"
   ]
  },
  {
   "cell_type": "code",
   "execution_count": null,
   "metadata": {},
   "outputs": [],
   "source": [
    "# df_new = concat_values_forecast(ts, df_forecast)\n",
    "\n",
    "df_new_95630 = concat_values_forecast(ts_95630_values, df_forecast_95630)"
   ]
  },
  {
   "cell_type": "code",
   "execution_count": null,
   "metadata": {},
   "outputs": [],
   "source": [
    "df_new_95630.head()"
   ]
  },
  {
   "cell_type": "markdown",
   "metadata": {},
   "source": [
    "### Calculate predicted, lower bound, and upper bound forecasted prices"
   ]
  },
  {
   "cell_type": "code",
   "execution_count": null,
   "metadata": {},
   "outputs": [],
   "source": [
    "forecasted_price_95630, forecasted_lower_95630, forecasted_upper_95630 = forecast_values(df_new_95630)"
   ]
  },
  {
   "cell_type": "code",
   "execution_count": null,
   "metadata": {},
   "outputs": [],
   "source": [
    "forecasted_price_95630, forecasted_lower_95630, forecasted_upper_95630  # predicted, best-case, and worst-case prices in 2020\n"
   ]
  },
  {
   "cell_type": "code",
   "execution_count": null,
   "metadata": {},
   "outputs": [],
   "source": [
    "last_value_95630 = df_new_95630['value'].loc['2018-04-01']"
   ]
  },
  {
   "cell_type": "code",
   "execution_count": null,
   "metadata": {},
   "outputs": [],
   "source": [
    "last_value_95630"
   ]
  },
  {
   "cell_type": "markdown",
   "metadata": {},
   "source": [
    "### Plot forecast with confidence intervals"
   ]
  },
  {
   "cell_type": "code",
   "execution_count": null,
   "metadata": {},
   "outputs": [],
   "source": [
    "# plot_forecast(df = df_new, figsize=(12,8), geog=None)\n",
    "\n",
    "plot_forecast(df_new_95630, figsize=(12,8), geog='95630 (Folsom)')"
   ]
  },
  {
   "cell_type": "markdown",
   "metadata": {},
   "source": [
    "### Print summary of predicted, worst-case, and best-case scenarios"
   ]
  },
  {
   "cell_type": "code",
   "execution_count": null,
   "metadata": {
    "scrolled": true
   },
   "outputs": [],
   "source": [
    "folsom_95630_pred, folsom_95630_low, folsom_95630_high = pred_best_worst(pred=forecasted_price_95630, low=forecasted_lower_95630, \n",
    "                                                                         high=forecasted_upper_95630, last=last_value_95630, date='April 1, 2020')\n",
    "folsom_95630_pred, folsom_95630_low, folsom_95630_high"
   ]
  },
  {
   "cell_type": "markdown",
   "metadata": {},
   "source": [
    "## Zip code 95630:  Mediocre earning potential, significant downside risk (but equally possible upside risk)\n",
    "\n",
    "By the model prediction, I would expect to see a 0.538% change in price by April 1, 2020.\n",
    "At the lower bound of the confidence interval, I would expect to see a -21.171% change in price by April 1, 2020. \n",
    "At the upper bound of the confidence interval, I would expect to see a 22.247% change in price by April 1, 2020. \n"
   ]
  },
  {
   "cell_type": "markdown",
   "metadata": {},
   "source": [
    "# SacMetro:  96140 (Carnelian Bay) -- Definite investment opportunity¶"
   ]
  },
  {
   "cell_type": "code",
   "execution_count": null,
   "metadata": {},
   "outputs": [],
   "source": [
    "geog_area = '96140'"
   ]
  },
  {
   "cell_type": "code",
   "execution_count": null,
   "metadata": {},
   "outputs": [],
   "source": [
    "ts_96140 = df_sac.loc[df_sac['Zip'] == geog_area]  # ts for all of the following functions should have only one zipcode\n",
    "ts_96140.head()\n"
   ]
  },
  {
   "cell_type": "code",
   "execution_count": null,
   "metadata": {
    "scrolled": true
   },
   "outputs": [],
   "source": [
    "# ts.head()\n",
    "\n",
    "ts_96140.head()"
   ]
  },
  {
   "cell_type": "code",
   "execution_count": null,
   "metadata": {},
   "outputs": [],
   "source": [
    "# ts = ts.value\n",
    "\n",
    "ts_96140_values = ts_96140.value"
   ]
  },
  {
   "cell_type": "code",
   "execution_count": null,
   "metadata": {},
   "outputs": [],
   "source": [
    "# ts.head()\n",
    "\n",
    "ts_96140_values.head()"
   ]
  },
  {
   "cell_type": "code",
   "execution_count": null,
   "metadata": {},
   "outputs": [],
   "source": [
    "ts_96140_values.tail()"
   ]
  },
  {
   "cell_type": "markdown",
   "metadata": {},
   "source": [
    "### Visualizations"
   ]
  },
  {
   "cell_type": "markdown",
   "metadata": {},
   "source": [
    "#### plot_ts:  Plot zip code(s) of interest over time, with market highs and lows"
   ]
  },
  {
   "cell_type": "code",
   "execution_count": null,
   "metadata": {
    "scrolled": true
   },
   "outputs": [],
   "source": [
    "# fig, ax = plot_ts(df_melt, zipcodes=['95616', '92008', '90035', '90025', '60625', '57701'])  # enter desired zip code(s)\n",
    "\n",
    "fig, ax = plot_ts_zips(df_melt, zipcodes=['96140'], figsize=(12,6))  # enter desired zip code(s)"
   ]
  },
  {
   "cell_type": "code",
   "execution_count": null,
   "metadata": {},
   "outputs": [],
   "source": [
    "ts_96140.head(3)"
   ]
  },
  {
   "cell_type": "markdown",
   "metadata": {},
   "source": [
    "#### Boxplot of zip code"
   ]
  },
  {
   "cell_type": "code",
   "execution_count": null,
   "metadata": {},
   "outputs": [],
   "source": [
    "ts_96140.boxplot(column = 'value')\n",
    "plt.title('96140:  Carnelian Bay');\n"
   ]
  },
  {
   "cell_type": "markdown",
   "metadata": {},
   "source": [
    "### Plot ACF and PACF for ts dataframe"
   ]
  },
  {
   "cell_type": "code",
   "execution_count": null,
   "metadata": {
    "scrolled": false
   },
   "outputs": [],
   "source": [
    "# plot_acf_pacf(ts, figsize=(10,6), lags=15)  # note that ts must only contain values and time as index\n",
    "\n",
    "plot_acf_pacf(ts_96140_values, figsize=(10,6), lags=15)"
   ]
  },
  {
   "cell_type": "markdown",
   "metadata": {},
   "source": [
    "### Plot seasonal decomposition for ts dataframe"
   ]
  },
  {
   "cell_type": "code",
   "execution_count": null,
   "metadata": {
    "scrolled": false
   },
   "outputs": [],
   "source": [
    "# plot_seasonal_decomp(ts)\n",
    "\n",
    "plot_seasonal_decomp(ts_96140_values)\n",
    "\n",
    "# Seasonality does not appear to be a significant factor in this zip code."
   ]
  },
  {
   "cell_type": "markdown",
   "metadata": {},
   "source": [
    "## ARIMA model parameters and optimization"
   ]
  },
  {
   "cell_type": "markdown",
   "metadata": {},
   "source": [
    "### Generate list of (p,d,q) and (p,d,q,m) values"
   ]
  },
  {
   "cell_type": "code",
   "execution_count": null,
   "metadata": {},
   "outputs": [],
   "source": [
    "p_values = [0, 1, 2, 4, 6, 8]\n",
    "d_values = range(0, 3)\n",
    "q_values = range(0, 3)\n",
    "warnings.filterwarnings(\"ignore\")"
   ]
  },
  {
   "cell_type": "markdown",
   "metadata": {},
   "source": [
    "### Run ARIMA model on ts dataframe with list of p,d,q values "
   ]
  },
  {
   "cell_type": "code",
   "execution_count": null,
   "metadata": {},
   "outputs": [],
   "source": [
    "# eval_arima_models(ts, p_values, d_values, q_values)  # don't run this until you have some time, since it take time\n",
    "# note that ts must only contain values and time as index\n",
    "\n",
    "# eval_arima_models(ts_96140_values, p_values, d_values, q_values)  # don't run this until you have some time, since it takes time\n"
   ]
  },
  {
   "cell_type": "markdown",
   "metadata": {},
   "source": [
    "### Generate model fit summary"
   ]
  },
  {
   "cell_type": "code",
   "execution_count": null,
   "metadata": {
    "scrolled": true
   },
   "outputs": [],
   "source": [
    "# model_fit = arima_zipcode(ts, order = None)   # change order = tuple to correspond to the best MSE produced by previous function\n",
    "\n",
    "# Best ARIMA(4, 2, 1) MSE=3386317.647\n",
    "\n",
    "model_fit_96140 = arima_zipcode(ts_96140_values, order = (4,2,1))\n"
   ]
  },
  {
   "cell_type": "markdown",
   "metadata": {},
   "source": [
    "## ARIMA modeling results:  predictions and visualization"
   ]
  },
  {
   "cell_type": "markdown",
   "metadata": {},
   "source": [
    "### Produce forecasts from ARIMA model fit"
   ]
  },
  {
   "cell_type": "code",
   "execution_count": null,
   "metadata": {},
   "outputs": [],
   "source": [
    "actual_forecast_96140, std_error_96140, forecast_confint_96140 = forecast(model_fit_96140)"
   ]
  },
  {
   "cell_type": "code",
   "execution_count": null,
   "metadata": {},
   "outputs": [],
   "source": [
    "actual_forecast_96140, std_error_96140, forecast_confint_96140"
   ]
  },
  {
   "cell_type": "markdown",
   "metadata": {},
   "source": [
    "### Create dataframe to hold forecast results"
   ]
  },
  {
   "cell_type": "code",
   "execution_count": null,
   "metadata": {},
   "outputs": [],
   "source": [
    "# df_forecast = forecast_df(col = 'time', daterange = pd.date_range(start='2018-05-01', end='2020-04-01', freq='MS'), \n",
    "#                 actual_forecast=actual_forecast, forecast_confint = forecast_confint)\n",
    "\n",
    "df_forecast_96140 = forecast_df(actual_forecast_96140, forecast_confint_96140, col = 'time', daterange = pd.date_range(start='2018-05-01', end='2020-04-01', freq='MS'))\n"
   ]
  },
  {
   "cell_type": "markdown",
   "metadata": {},
   "source": [
    "### Create new dataframe concatenating historic values and forecast results"
   ]
  },
  {
   "cell_type": "code",
   "execution_count": null,
   "metadata": {},
   "outputs": [],
   "source": [
    "# df_new = concat_values_forecast(ts, df_forecast)\n",
    "\n",
    "df_new_96140 = concat_values_forecast(ts_96140_values, df_forecast_96140)"
   ]
  },
  {
   "cell_type": "code",
   "execution_count": null,
   "metadata": {},
   "outputs": [],
   "source": [
    "df_new_96140.head()"
   ]
  },
  {
   "cell_type": "markdown",
   "metadata": {},
   "source": [
    "### Calculate predicted, lower bound, and upper bound forecasted prices"
   ]
  },
  {
   "cell_type": "code",
   "execution_count": null,
   "metadata": {},
   "outputs": [],
   "source": [
    "forecasted_price_96140, forecasted_lower_96140, forecasted_upper_96140 = forecast_values(df_new_96140)"
   ]
  },
  {
   "cell_type": "code",
   "execution_count": null,
   "metadata": {},
   "outputs": [],
   "source": [
    "forecasted_price_96140, forecasted_lower_96140, forecasted_upper_96140  # predicted, best-case, and worst-case prices in 2020\n"
   ]
  },
  {
   "cell_type": "code",
   "execution_count": null,
   "metadata": {},
   "outputs": [],
   "source": [
    "last_value_96140 = df_new_96140['value'].loc['2018-04-01']"
   ]
  },
  {
   "cell_type": "code",
   "execution_count": null,
   "metadata": {},
   "outputs": [],
   "source": [
    "last_value_96140"
   ]
  },
  {
   "cell_type": "markdown",
   "metadata": {},
   "source": [
    "### Plot forecast with confidence intervals"
   ]
  },
  {
   "cell_type": "code",
   "execution_count": null,
   "metadata": {
    "scrolled": true
   },
   "outputs": [],
   "source": [
    "# plot_forecast(df = df_new, figsize=(12,8), geog=None)\n",
    "\n",
    "plot_forecast(df_new_96140, figsize=(12,8), geog='96140:  Carnelian Bay')"
   ]
  },
  {
   "cell_type": "markdown",
   "metadata": {},
   "source": [
    "### Print summary of predicted, worst-case, and best-case scenarios"
   ]
  },
  {
   "cell_type": "code",
   "execution_count": null,
   "metadata": {
    "scrolled": true
   },
   "outputs": [],
   "source": [
    "cb_96140_pred, cb_96140_low, cb_96140_high = pred_best_worst(pred=forecasted_price_96140, low=forecasted_lower_96140, high=forecasted_upper_96140, last=last_value_96140, date='April 1, 2020')\n",
    "cb_96140_pred, cb_96140_low, cb_96140_high"
   ]
  },
  {
   "cell_type": "markdown",
   "metadata": {},
   "source": [
    "## Zip code 96140:  Definite investment opportunity with potentially large upside returns\n",
    "\n",
    "By the model prediction, I would expect to see a 19.421% change in price by April 1, 2020\n",
    "At the lower bound of the confidence interval, I would expect to see a -19.639% change in price by April 1, 2020\n",
    "At the upper bound of the confidence interval, I would expect to see a 58.48% change in price by April 1, 2020\n"
   ]
  },
  {
   "cell_type": "markdown",
   "metadata": {},
   "source": [
    "# SacMetro:  95672 (Rescue) -- Solid investment opportunity "
   ]
  },
  {
   "cell_type": "code",
   "execution_count": null,
   "metadata": {},
   "outputs": [],
   "source": [
    "geog_area = '95672'"
   ]
  },
  {
   "cell_type": "code",
   "execution_count": null,
   "metadata": {},
   "outputs": [],
   "source": [
    "ts_95672 = df_sac.loc[df_sac['Zip'] == geog_area]  # ts for all of the following functions should have only one zipcode\n",
    "ts_95672.head()\n"
   ]
  },
  {
   "cell_type": "code",
   "execution_count": null,
   "metadata": {
    "scrolled": true
   },
   "outputs": [],
   "source": [
    "# ts.head()\n",
    "\n",
    "ts_95672.head()"
   ]
  },
  {
   "cell_type": "code",
   "execution_count": null,
   "metadata": {},
   "outputs": [],
   "source": [
    "# ts = ts.value\n",
    "\n",
    "ts_95672_values = ts_95672.value"
   ]
  },
  {
   "cell_type": "code",
   "execution_count": null,
   "metadata": {},
   "outputs": [],
   "source": [
    "# ts.head()\n",
    "\n",
    "ts_95672_values.head()"
   ]
  },
  {
   "cell_type": "code",
   "execution_count": null,
   "metadata": {},
   "outputs": [],
   "source": [
    "ts_95672_values.tail()"
   ]
  },
  {
   "cell_type": "markdown",
   "metadata": {},
   "source": [
    "### Visualizations"
   ]
  },
  {
   "cell_type": "markdown",
   "metadata": {},
   "source": [
    "#### plot_ts:  Plot zip code(s) of interest over time, with market highs and lows"
   ]
  },
  {
   "cell_type": "code",
   "execution_count": null,
   "metadata": {
    "scrolled": false
   },
   "outputs": [],
   "source": [
    "# fig, ax = plot_ts(df_melt, zipcodes=['95616', '92008', '90035', '90025', '60625', '57701'])  # enter desired zip code(s)\n",
    "\n",
    "fig, ax = plot_ts_zips(df_melt, zipcodes=['95672'], figsize=(12,6))  # enter desired zip code(s)"
   ]
  },
  {
   "cell_type": "markdown",
   "metadata": {},
   "source": [
    "#### Boxplot of zip code"
   ]
  },
  {
   "cell_type": "code",
   "execution_count": null,
   "metadata": {},
   "outputs": [],
   "source": [
    "ts_95672.boxplot(column = 'value')\n",
    "plt.title('95672');"
   ]
  },
  {
   "cell_type": "markdown",
   "metadata": {},
   "source": [
    "### Plot ACF and PACF for ts dataframe"
   ]
  },
  {
   "cell_type": "code",
   "execution_count": null,
   "metadata": {
    "scrolled": false
   },
   "outputs": [],
   "source": [
    "# plot_acf_pacf(ts, figsize=(10,6), lags=15)  # note that ts must only contain values and time as index\n",
    "\n",
    "plot_acf_pacf(ts_95672_values, figsize=(10,6), lags=15)"
   ]
  },
  {
   "cell_type": "markdown",
   "metadata": {},
   "source": [
    "### Plot seasonal decomposition for ts dataframe"
   ]
  },
  {
   "cell_type": "code",
   "execution_count": null,
   "metadata": {
    "scrolled": false
   },
   "outputs": [],
   "source": [
    "# plot_seasonal_decomp(ts)\n",
    "\n",
    "plot_seasonal_decomp(ts_95672_values)\n",
    "\n",
    "# Seasonality does not appear to be a significant factor in this zip code."
   ]
  },
  {
   "cell_type": "markdown",
   "metadata": {},
   "source": [
    "## ARIMA model parameters and optimization"
   ]
  },
  {
   "cell_type": "markdown",
   "metadata": {},
   "source": [
    "### Generate list of (p,d,q) and (p,d,q,m) values"
   ]
  },
  {
   "cell_type": "code",
   "execution_count": null,
   "metadata": {},
   "outputs": [],
   "source": [
    "p_values = [0, 1, 2, 4, 6, 8]\n",
    "d_values = range(0, 3)\n",
    "q_values = range(0, 3)\n",
    "warnings.filterwarnings(\"ignore\")"
   ]
  },
  {
   "cell_type": "markdown",
   "metadata": {},
   "source": [
    "### Run ARIMA model on ts dataframe with list of p,d,q values "
   ]
  },
  {
   "cell_type": "code",
   "execution_count": null,
   "metadata": {},
   "outputs": [],
   "source": [
    "# eval_arima_models(ts, p_values, d_values, q_values)  # don't run this until you have some time, since it take time\n",
    "# note that ts must only contain values and time as index\n",
    "\n",
    "# eval_arima_models(ts_95672_values, p_values, d_values, q_values)  # don't run this until you have some time, since it takes time\n"
   ]
  },
  {
   "cell_type": "markdown",
   "metadata": {},
   "source": [
    "### Generate model fit summary"
   ]
  },
  {
   "cell_type": "code",
   "execution_count": null,
   "metadata": {
    "scrolled": true
   },
   "outputs": [],
   "source": [
    "# model_fit = arima_zipcode(ts, order = None)   # change order = tuple to correspond to the best MSE produced by previous function\n",
    "\n",
    "# Best ARIMA(8, 2, 0) MSE=3175806.269\n",
    "\n",
    "model_fit_95672 = arima_zipcode(ts_95672_values, order = (8,2,0))\n"
   ]
  },
  {
   "cell_type": "markdown",
   "metadata": {},
   "source": [
    "## ARIMA modeling results:  predictions and visualization"
   ]
  },
  {
   "cell_type": "markdown",
   "metadata": {},
   "source": [
    "### Produce forecasts from ARIMA model fit"
   ]
  },
  {
   "cell_type": "code",
   "execution_count": null,
   "metadata": {},
   "outputs": [],
   "source": [
    "# actual_forecast, forecast_confint = forecast(model_fit, months=24, confint=2)\n",
    "\n",
    "actual_forecast_95672, std_error_95672, forecast_confint_95672 = forecast(model_fit_95672)\n"
   ]
  },
  {
   "cell_type": "code",
   "execution_count": null,
   "metadata": {},
   "outputs": [],
   "source": [
    "actual_forecast_95672, std_error_95672, forecast_confint_95672"
   ]
  },
  {
   "cell_type": "markdown",
   "metadata": {},
   "source": [
    "### Create dataframe to hold forecast results"
   ]
  },
  {
   "cell_type": "code",
   "execution_count": null,
   "metadata": {},
   "outputs": [],
   "source": [
    "# df_forecast = forecast_df(col = 'time', daterange = pd.date_range(start='2018-05-01', end='2020-04-01', freq='MS'), \n",
    "#                 actual_forecast=actual_forecast, forecast_confint = forecast_confint)\n",
    "\n",
    "df_forecast_95672 = forecast_df(actual_forecast_95672, forecast_confint_95672, col = 'time', daterange = pd.date_range(start='2018-05-01', end='2020-04-01', freq='MS'))\n"
   ]
  },
  {
   "cell_type": "markdown",
   "metadata": {},
   "source": [
    "### Create new dataframe concatenating historic values and forecast results"
   ]
  },
  {
   "cell_type": "code",
   "execution_count": null,
   "metadata": {},
   "outputs": [],
   "source": [
    "# df_new = concat_values_forecast(ts, df_forecast)\n",
    "\n",
    "df_new_95672 = concat_values_forecast(ts_95672_values, df_forecast_95672)"
   ]
  },
  {
   "cell_type": "code",
   "execution_count": null,
   "metadata": {},
   "outputs": [],
   "source": [
    "df_new_95672.head()"
   ]
  },
  {
   "cell_type": "markdown",
   "metadata": {},
   "source": [
    "### Calculate predicted, lower bound, and upper bound forecasted prices"
   ]
  },
  {
   "cell_type": "code",
   "execution_count": null,
   "metadata": {},
   "outputs": [],
   "source": [
    "forecasted_price_95672, forecasted_lower_95672, forecasted_upper_95672 = forecast_values(df_new_95672)"
   ]
  },
  {
   "cell_type": "code",
   "execution_count": null,
   "metadata": {},
   "outputs": [],
   "source": [
    "forecasted_price_95672, forecasted_lower_95672, forecasted_upper_95672  # predicted, best-case, and worst-case prices in 2020\n"
   ]
  },
  {
   "cell_type": "code",
   "execution_count": null,
   "metadata": {},
   "outputs": [],
   "source": [
    "last_value_95672 = df_new_95672['value'].loc['2018-04-01']"
   ]
  },
  {
   "cell_type": "code",
   "execution_count": null,
   "metadata": {},
   "outputs": [],
   "source": [
    "last_value_95672"
   ]
  },
  {
   "cell_type": "markdown",
   "metadata": {},
   "source": [
    "### Plot forecast with confidence intervals"
   ]
  },
  {
   "cell_type": "code",
   "execution_count": null,
   "metadata": {},
   "outputs": [],
   "source": [
    "# plot_forecast(df = df_new, figsize=(12,8), geog=None)\n",
    "\n",
    "plot_forecast(df_new_95672, figsize=(12,8), geog='95672 (Rescue)')"
   ]
  },
  {
   "cell_type": "markdown",
   "metadata": {},
   "source": [
    "### Print summary of predicted, worst-case, and best-case scenarios"
   ]
  },
  {
   "cell_type": "code",
   "execution_count": null,
   "metadata": {
    "scrolled": true
   },
   "outputs": [],
   "source": [
    "rescue_95672_pred, rescue_95672_low, rescue_95672_high = pred_best_worst(pred=forecasted_price_95672, low=forecasted_lower_95672, \n",
    "                                                                         high=forecasted_upper_95672, last=last_value_95672, date='April 1, 2020')\n",
    "rescue_95672_pred, rescue_95672_low, rescue_95672_high"
   ]
  },
  {
   "cell_type": "markdown",
   "metadata": {},
   "source": [
    "## Zip code 95672 (Rescue):  Good investment opportunity\n",
    "\n",
    "By the model prediction, I would expect to see a 32.296% change in price by April 1, 2020\n",
    "At the lower bound of the confidence interval, I would expect to see a -2.975% change in price by April 1, 2020\n",
    "At the upper bound of the confidence interval, I would expect to see a 67.567% change in price by April 1, 2020\n",
    "\n"
   ]
  },
  {
   "cell_type": "markdown",
   "metadata": {},
   "source": [
    "# SacMetro:  95636 (Somerset) -- Potential investment opportunity"
   ]
  },
  {
   "cell_type": "code",
   "execution_count": null,
   "metadata": {},
   "outputs": [],
   "source": [
    "geog_area = '95636'"
   ]
  },
  {
   "cell_type": "code",
   "execution_count": null,
   "metadata": {},
   "outputs": [],
   "source": [
    "ts_95636 = df_sac.loc[df_sac['Zip'] == geog_area]  # ts for all of the following functions should have only one zipcode\n",
    "ts_95636.head()\n"
   ]
  },
  {
   "cell_type": "code",
   "execution_count": null,
   "metadata": {
    "scrolled": true
   },
   "outputs": [],
   "source": [
    "# ts.head()\n",
    "\n",
    "ts_95636.head()"
   ]
  },
  {
   "cell_type": "code",
   "execution_count": null,
   "metadata": {},
   "outputs": [],
   "source": [
    "# ts = ts.value\n",
    "\n",
    "ts_95636_values = ts_95636.value"
   ]
  },
  {
   "cell_type": "code",
   "execution_count": null,
   "metadata": {},
   "outputs": [],
   "source": [
    "# ts.head()\n",
    "\n",
    "ts_95636_values.head()"
   ]
  },
  {
   "cell_type": "code",
   "execution_count": null,
   "metadata": {},
   "outputs": [],
   "source": [
    "ts_95636_values.tail()"
   ]
  },
  {
   "cell_type": "markdown",
   "metadata": {},
   "source": [
    "### Visualizations"
   ]
  },
  {
   "cell_type": "markdown",
   "metadata": {},
   "source": [
    "#### plot_ts:  Plot zip code(s) of interest over time, with market highs and lows"
   ]
  },
  {
   "cell_type": "code",
   "execution_count": null,
   "metadata": {
    "scrolled": true
   },
   "outputs": [],
   "source": [
    "# fig, ax = plot_ts(df_melt, zipcodes=['95616', '92008', '90035', '90025', '60625', '57701'])  # enter desired zip code(s)\n",
    "\n",
    "fig, ax = plot_ts_zips(df_melt, zipcodes=['95636'], figsize=(12,6))  # enter desired zip code(s)"
   ]
  },
  {
   "cell_type": "markdown",
   "metadata": {},
   "source": [
    "#### Boxplot of zip code"
   ]
  },
  {
   "cell_type": "code",
   "execution_count": null,
   "metadata": {},
   "outputs": [],
   "source": [
    "ts_95636.boxplot(column = 'value')\n",
    "plt.title('95636');"
   ]
  },
  {
   "cell_type": "markdown",
   "metadata": {},
   "source": [
    "### Plot ACF and PACF for ts dataframe"
   ]
  },
  {
   "cell_type": "code",
   "execution_count": null,
   "metadata": {
    "scrolled": false
   },
   "outputs": [],
   "source": [
    "# plot_acf_pacf(ts, figsize=(10,6), lags=15)  # note that ts must only contain values and time as index\n",
    "\n",
    "plot_acf_pacf(ts_95636_values, figsize=(10,6), lags=15)"
   ]
  },
  {
   "cell_type": "markdown",
   "metadata": {},
   "source": [
    "### Plot seasonal decomposition for ts dataframe"
   ]
  },
  {
   "cell_type": "code",
   "execution_count": null,
   "metadata": {
    "scrolled": false
   },
   "outputs": [],
   "source": [
    "# plot_seasonal_decomp(ts)\n",
    "\n",
    "plot_seasonal_decomp(ts_95636_values)\n",
    "\n",
    "# Seasonality does not appear to be a significant factor in this zip code."
   ]
  },
  {
   "cell_type": "markdown",
   "metadata": {},
   "source": [
    "## ARIMA model parameters and optimization"
   ]
  },
  {
   "cell_type": "markdown",
   "metadata": {},
   "source": [
    "### Generate list of (p,d,q) and (p,d,q,m) values"
   ]
  },
  {
   "cell_type": "code",
   "execution_count": null,
   "metadata": {},
   "outputs": [],
   "source": [
    "p_values = [0, 1, 2, 4, 6, 8]\n",
    "d_values = range(0, 3)\n",
    "q_values = range(0, 3)\n",
    "warnings.filterwarnings(\"ignore\")"
   ]
  },
  {
   "cell_type": "markdown",
   "metadata": {},
   "source": [
    "### Run ARIMA model on ts dataframe with list of p,d,q values "
   ]
  },
  {
   "cell_type": "code",
   "execution_count": null,
   "metadata": {},
   "outputs": [],
   "source": [
    "# eval_arima_models(ts, p_values, d_values, q_values)  # don't run this until you have some time, since it take time\n",
    "# note that ts must only contain values and time as index\n",
    "\n",
    "# eval_arima_models(ts_95636_values, p_values, d_values, q_values)  # don't run this until you have some time, since it takes time\n"
   ]
  },
  {
   "cell_type": "markdown",
   "metadata": {},
   "source": [
    "### Generate model fit summary"
   ]
  },
  {
   "cell_type": "code",
   "execution_count": null,
   "metadata": {
    "scrolled": true
   },
   "outputs": [],
   "source": [
    "# model_fit = arima_zipcode(ts, order = None)   # change order = tuple to correspond to the best MSE produced by previous function\n",
    "\n",
    "# Best ARIMA(8, 2, 1) MSE=1389280.792\n",
    "\n",
    "model_fit_95636 = arima_zipcode(ts_95636_values, order = (8,2,1))"
   ]
  },
  {
   "cell_type": "markdown",
   "metadata": {},
   "source": [
    "## ARIMA modeling results:  predictions and visualization"
   ]
  },
  {
   "cell_type": "markdown",
   "metadata": {},
   "source": [
    "### Produce forecasts from ARIMA model fit"
   ]
  },
  {
   "cell_type": "code",
   "execution_count": null,
   "metadata": {},
   "outputs": [],
   "source": [
    "actual_forecast_95636, std_error_95636, forecast_confint_95636 = forecast(model_fit_95636)\n",
    "\n",
    "# actual_forecast, forecast_confint = forecast(model_fit_dallas, months=24, confint=2)"
   ]
  },
  {
   "cell_type": "code",
   "execution_count": null,
   "metadata": {},
   "outputs": [],
   "source": [
    "actual_forecast_95636, std_error_95636, forecast_confint_95636"
   ]
  },
  {
   "cell_type": "markdown",
   "metadata": {},
   "source": [
    "### Create dataframe to hold forecast results"
   ]
  },
  {
   "cell_type": "code",
   "execution_count": null,
   "metadata": {},
   "outputs": [],
   "source": [
    "# df_forecast = forecast_df(col = 'time', daterange = pd.date_range(start='2018-05-01', end='2020-04-01', freq='MS'), \n",
    "#                 actual_forecast=actual_forecast, forecast_confint = forecast_confint)\n",
    "\n",
    "df_forecast_95636 = forecast_df(actual_forecast_95636, forecast_confint_95636, col = 'time', daterange = pd.date_range(start='2018-05-01', end='2020-04-01', freq='MS'))"
   ]
  },
  {
   "cell_type": "markdown",
   "metadata": {},
   "source": [
    "### Create new dataframe concatenating historic values and forecast results"
   ]
  },
  {
   "cell_type": "code",
   "execution_count": null,
   "metadata": {},
   "outputs": [],
   "source": [
    "# df_new = concat_values_forecast(ts, df_forecast)\n",
    "\n",
    "df_new_95636 = concat_values_forecast(ts_95636_values, df_forecast_95636)"
   ]
  },
  {
   "cell_type": "code",
   "execution_count": null,
   "metadata": {},
   "outputs": [],
   "source": [
    "df_new_95636.head()"
   ]
  },
  {
   "cell_type": "markdown",
   "metadata": {},
   "source": [
    "### Calculate predicted, lower bound, and upper bound forecasted prices"
   ]
  },
  {
   "cell_type": "code",
   "execution_count": null,
   "metadata": {},
   "outputs": [],
   "source": [
    "forecasted_price_95636, forecasted_lower_95636, forecasted_upper_95636 = forecast_values(df_new_95636)"
   ]
  },
  {
   "cell_type": "code",
   "execution_count": null,
   "metadata": {},
   "outputs": [],
   "source": [
    "forecasted_price_95636, forecasted_lower_95636, forecasted_upper_95636  # predicted, best-case, and worst-case prices in 2020\n"
   ]
  },
  {
   "cell_type": "code",
   "execution_count": null,
   "metadata": {},
   "outputs": [],
   "source": [
    "last_value_95636 = df_new_95636['value'].loc['2018-04-01']"
   ]
  },
  {
   "cell_type": "code",
   "execution_count": null,
   "metadata": {},
   "outputs": [],
   "source": [
    "last_value_95636"
   ]
  },
  {
   "cell_type": "markdown",
   "metadata": {},
   "source": [
    "### Plot forecast with confidence intervals"
   ]
  },
  {
   "cell_type": "code",
   "execution_count": null,
   "metadata": {
    "scrolled": false
   },
   "outputs": [],
   "source": [
    "# plot_forecast(df = df_new, figsize=(12,8), geog=None)\n",
    "\n",
    "plot_forecast(df_new_95636, figsize=(12,8), geog='95636 (Somerset)')"
   ]
  },
  {
   "cell_type": "markdown",
   "metadata": {},
   "source": [
    "### Print summary of predicted, worst-case, and best-case scenarios"
   ]
  },
  {
   "cell_type": "code",
   "execution_count": null,
   "metadata": {
    "scrolled": true
   },
   "outputs": [],
   "source": [
    "somerset_95636_pred, somerset_95636_low, somerset_95636_high = pred_best_worst(pred=forecasted_price_95636, low=forecasted_lower_95636, \n",
    "                                                                               high=forecasted_upper_95636, last=last_value_95636, date='April 1, 2020')\n",
    "somerset_95636_pred, somerset_95636_low, somerset_95636_high "
   ]
  },
  {
   "cell_type": "markdown",
   "metadata": {},
   "source": [
    "## Zip code 95636:  Good return predicted, but has very large potential downside (as well as large potential upside)\n",
    "\n",
    "By the model prediction, I would expect to see a 11.207% change in price by April 1, 2020\n",
    "At the lower bound of the confidence interval, I would expect to see a -38.231% change in price by April 1, 2020\n",
    "At the upper bound of the confidence interval, I would expect to see a 60.646% change in price by April 1, 2020\n",
    "\n",
    "\n"
   ]
  },
  {
   "cell_type": "markdown",
   "metadata": {},
   "source": [
    "# SacMetro:  95709 (Camino) -- Don't invest"
   ]
  },
  {
   "cell_type": "code",
   "execution_count": null,
   "metadata": {},
   "outputs": [],
   "source": [
    "geog_area = '95709'"
   ]
  },
  {
   "cell_type": "code",
   "execution_count": null,
   "metadata": {},
   "outputs": [],
   "source": [
    "ts_95709 = df_sac.loc[df_sac['Zip'] == geog_area]  # ts for all of the following functions should have only one zipcode\n",
    "ts_95709.head()\n"
   ]
  },
  {
   "cell_type": "code",
   "execution_count": null,
   "metadata": {
    "scrolled": true
   },
   "outputs": [],
   "source": [
    "# ts.head()\n",
    "\n",
    "ts_95709.tail()"
   ]
  },
  {
   "cell_type": "code",
   "execution_count": null,
   "metadata": {},
   "outputs": [],
   "source": [
    "# ts = ts.value\n",
    "\n",
    "ts_95709_values = ts_95709.value"
   ]
  },
  {
   "cell_type": "code",
   "execution_count": null,
   "metadata": {},
   "outputs": [],
   "source": [
    "# ts.head()\n",
    "\n",
    "ts_95709_values.head()"
   ]
  },
  {
   "cell_type": "code",
   "execution_count": null,
   "metadata": {},
   "outputs": [],
   "source": [
    "ts_95709_values.tail()"
   ]
  },
  {
   "cell_type": "markdown",
   "metadata": {},
   "source": [
    "### Visualizations"
   ]
  },
  {
   "cell_type": "markdown",
   "metadata": {},
   "source": [
    "#### plot_ts:  Plot zip code(s) of interest over time, with market highs and lows"
   ]
  },
  {
   "cell_type": "code",
   "execution_count": null,
   "metadata": {
    "scrolled": true
   },
   "outputs": [],
   "source": [
    "# fig, ax = plot_ts(df_melt, zipcodes=['95616', '92008', '90035', '90025', '60625', '57701'])  # enter desired zip code(s)\n",
    "\n",
    "fig, ax = plot_ts_zips(df_melt, zipcodes=['95709'], figsize=(12,6))  # enter desired zip code(s)"
   ]
  },
  {
   "cell_type": "markdown",
   "metadata": {},
   "source": [
    "#### Boxplot of zip code"
   ]
  },
  {
   "cell_type": "code",
   "execution_count": null,
   "metadata": {},
   "outputs": [],
   "source": [
    "ts_95709.boxplot(column = 'value')\n",
    "plt.title('95709');\n"
   ]
  },
  {
   "cell_type": "markdown",
   "metadata": {},
   "source": [
    "### Plot ACF and PACF for ts dataframe"
   ]
  },
  {
   "cell_type": "code",
   "execution_count": null,
   "metadata": {
    "scrolled": false
   },
   "outputs": [],
   "source": [
    "# plot_acf_pacf(ts, figsize=(10,6), lags=15)  # note that ts must only contain values and time as index\n",
    "\n",
    "plot_acf_pacf(ts_95709_values, figsize=(10,6), lags=15)"
   ]
  },
  {
   "cell_type": "markdown",
   "metadata": {},
   "source": [
    "### Plot seasonal decomposition for ts dataframe"
   ]
  },
  {
   "cell_type": "code",
   "execution_count": null,
   "metadata": {
    "scrolled": false
   },
   "outputs": [],
   "source": [
    "# plot_seasonal_decomp(ts)\n",
    "\n",
    "plot_seasonal_decomp(ts_95709_values)\n",
    "\n",
    "# Seasonality does not appear to be a significant factor in this zip code."
   ]
  },
  {
   "cell_type": "markdown",
   "metadata": {},
   "source": [
    "## ARIMA model parameters and optimization"
   ]
  },
  {
   "cell_type": "markdown",
   "metadata": {},
   "source": [
    "### Generate list of (p,d,q) and (p,d,q,m) values"
   ]
  },
  {
   "cell_type": "code",
   "execution_count": null,
   "metadata": {},
   "outputs": [],
   "source": [
    "p_values = [0, 1, 2, 4, 6, 8]\n",
    "d_values = range(0, 3)\n",
    "q_values = range(0, 3)\n",
    "warnings.filterwarnings(\"ignore\")"
   ]
  },
  {
   "cell_type": "markdown",
   "metadata": {},
   "source": [
    "### Run ARIMA model on ts dataframe with list of p,d,q values "
   ]
  },
  {
   "cell_type": "code",
   "execution_count": null,
   "metadata": {},
   "outputs": [],
   "source": [
    "# eval_arima_models(ts, p_values, d_values, q_values)  # don't run this until you have some time, since it take time\n",
    "# note that ts must only contain values and time as index\n",
    "\n",
    "# eval_arima_models(ts_95709_values, p_values, d_values, q_values)  # don't run this until you have some time, since it takes time\n"
   ]
  },
  {
   "cell_type": "markdown",
   "metadata": {},
   "source": [
    "### Generate model fit summary"
   ]
  },
  {
   "cell_type": "code",
   "execution_count": null,
   "metadata": {
    "scrolled": true
   },
   "outputs": [],
   "source": [
    "# model_fit = arima_zipcode(ts, order = None)   # change order = tuple to correspond to the best MSE produced by previous function\n",
    "\n",
    "# Best ARIMA(8, 0, 2) MSE=717546.010\n",
    "model_fit_95709 = arima_zipcode(ts_95709_values, order = (8, 0, 2))"
   ]
  },
  {
   "cell_type": "markdown",
   "metadata": {},
   "source": [
    "## ARIMA modeling results:  predictions and visualization"
   ]
  },
  {
   "cell_type": "markdown",
   "metadata": {},
   "source": [
    "### Produce forecasts from ARIMA model fit"
   ]
  },
  {
   "cell_type": "code",
   "execution_count": null,
   "metadata": {},
   "outputs": [],
   "source": [
    "actual_forecast_95709, std_error_95709, forecast_confint_95709 = forecast(model_fit_95709)"
   ]
  },
  {
   "cell_type": "code",
   "execution_count": null,
   "metadata": {},
   "outputs": [],
   "source": [
    "actual_forecast_95709, std_error_95709, forecast_confint_95709"
   ]
  },
  {
   "cell_type": "markdown",
   "metadata": {},
   "source": [
    "### Create dataframe to hold forecast results"
   ]
  },
  {
   "cell_type": "code",
   "execution_count": null,
   "metadata": {},
   "outputs": [],
   "source": [
    "# df_forecast = forecast_df(col = 'time', daterange = pd.date_range(start='2018-05-01', end='2020-04-01', freq='MS'), \n",
    "#                 actual_forecast=actual_forecast, forecast_confint = forecast_confint)\n",
    "\n",
    "df_forecast_95709 = forecast_df(actual_forecast_95709, forecast_confint_95709, col = 'time', daterange = pd.date_range(start='2018-05-01', end='2020-04-01', freq='MS'))\n"
   ]
  },
  {
   "cell_type": "markdown",
   "metadata": {},
   "source": [
    "### Create new dataframe concatenating historic values and forecast results"
   ]
  },
  {
   "cell_type": "code",
   "execution_count": null,
   "metadata": {},
   "outputs": [],
   "source": [
    "# df_new = concat_values_forecast(ts, df_forecast)\n",
    "\n",
    "df_new_95709 = concat_values_forecast(ts_95709_values, df_forecast_95709)"
   ]
  },
  {
   "cell_type": "code",
   "execution_count": null,
   "metadata": {},
   "outputs": [],
   "source": [
    "df_new_95709.head()"
   ]
  },
  {
   "cell_type": "markdown",
   "metadata": {},
   "source": [
    "### Calculate predicted, lower bound, and upper bound forecasted prices"
   ]
  },
  {
   "cell_type": "code",
   "execution_count": null,
   "metadata": {},
   "outputs": [],
   "source": [
    "forecasted_price_95709, forecasted_lower_95709, forecasted_upper_95709 = forecast_values(df_new_95709)"
   ]
  },
  {
   "cell_type": "code",
   "execution_count": null,
   "metadata": {},
   "outputs": [],
   "source": [
    "forecasted_price_95709, forecasted_lower_95709, forecasted_upper_95709  # predicted, best-case, and worst-case prices in 2020\n"
   ]
  },
  {
   "cell_type": "code",
   "execution_count": null,
   "metadata": {},
   "outputs": [],
   "source": [
    "last_value_95709 = df_new_95709['value'].loc['2018-04-01']"
   ]
  },
  {
   "cell_type": "code",
   "execution_count": null,
   "metadata": {},
   "outputs": [],
   "source": [
    "last_value_95709"
   ]
  },
  {
   "cell_type": "markdown",
   "metadata": {},
   "source": [
    "### Plot forecast with confidence intervals"
   ]
  },
  {
   "cell_type": "code",
   "execution_count": null,
   "metadata": {
    "scrolled": false
   },
   "outputs": [],
   "source": [
    "# plot_forecast(df = df_new, figsize=(12,8), geog=None)\n",
    "\n",
    "plot_forecast(df_new_95709, figsize=(12,8), geog='95709 (Camino)')"
   ]
  },
  {
   "cell_type": "markdown",
   "metadata": {},
   "source": [
    "### Print summary of predicted, worst-case, and best-case scenarios"
   ]
  },
  {
   "cell_type": "code",
   "execution_count": null,
   "metadata": {
    "scrolled": true
   },
   "outputs": [],
   "source": [
    "camino_95709_pred, camino_95709_low, camino_95709_high  = pred_best_worst(pred=forecasted_price_95709, low=forecasted_lower_95709, \n",
    "                                                                          high=forecasted_upper_95709, last=last_value_95709, date='April 1, 2020')\n",
    "camino_95709_pred, camino_95709_low, camino_95709_high"
   ]
  },
  {
   "cell_type": "markdown",
   "metadata": {},
   "source": [
    "## Zip code 95709 (Camino):  Don't invest\n",
    "\n",
    "By the model prediction, I would expect to see a -0.349% change in price by April 1, 2020\n",
    "At the lower bound of the confidence interval, I would expect to see a -21.147% change in price by April 1, 2020\n",
    "At the upper bound of the confidence interval, I would expect to see a 20.448% change in price by April 1, 2020\n"
   ]
  },
  {
   "cell_type": "markdown",
   "metadata": {},
   "source": [
    "# SacMetro:  95746 (Granite Bay) -- Solid investment opportunity"
   ]
  },
  {
   "cell_type": "code",
   "execution_count": null,
   "metadata": {},
   "outputs": [],
   "source": [
    "geog_area = '95746'"
   ]
  },
  {
   "cell_type": "code",
   "execution_count": null,
   "metadata": {},
   "outputs": [],
   "source": [
    "ts_95746 = df_sac.loc[df_sac['Zip'] == geog_area]  # ts for all of the following functions should have only one zipcode\n",
    "ts_95746.head()\n"
   ]
  },
  {
   "cell_type": "code",
   "execution_count": null,
   "metadata": {
    "scrolled": true
   },
   "outputs": [],
   "source": [
    "# ts.head()\n",
    "\n",
    "ts_95746.tail()"
   ]
  },
  {
   "cell_type": "code",
   "execution_count": null,
   "metadata": {},
   "outputs": [],
   "source": [
    "# ts = ts.value\n",
    "\n",
    "ts_95746_values = ts_95746.value"
   ]
  },
  {
   "cell_type": "code",
   "execution_count": null,
   "metadata": {},
   "outputs": [],
   "source": [
    "# ts.head()\n",
    "\n",
    "ts_95746_values.head()"
   ]
  },
  {
   "cell_type": "code",
   "execution_count": null,
   "metadata": {},
   "outputs": [],
   "source": [
    "ts_95746_values.tail()"
   ]
  },
  {
   "cell_type": "markdown",
   "metadata": {},
   "source": [
    "### Visualizations"
   ]
  },
  {
   "cell_type": "markdown",
   "metadata": {},
   "source": [
    "#### plot_ts:  Plot zip code(s) of interest over time, with market highs and lows"
   ]
  },
  {
   "cell_type": "code",
   "execution_count": null,
   "metadata": {
    "scrolled": true
   },
   "outputs": [],
   "source": [
    "# fig, ax = plot_ts(df_melt, zipcodes=['95616', '92008', '90035', '90025', '60625', '57701'])  # enter desired zip code(s)\n",
    "\n",
    "fig, ax = plot_ts_zips(df_melt, zipcodes=['95746'], figsize=(12,6))  # enter desired zip code(s)"
   ]
  },
  {
   "cell_type": "markdown",
   "metadata": {},
   "source": [
    "#### Boxplot of zip code"
   ]
  },
  {
   "cell_type": "code",
   "execution_count": null,
   "metadata": {},
   "outputs": [],
   "source": [
    "ts_95746.boxplot(column = 'value')\n",
    "plt.title('95746');"
   ]
  },
  {
   "cell_type": "markdown",
   "metadata": {},
   "source": [
    "### Plot ACF and PACF for ts dataframe"
   ]
  },
  {
   "cell_type": "code",
   "execution_count": null,
   "metadata": {
    "scrolled": false
   },
   "outputs": [],
   "source": [
    "# plot_acf_pacf(ts, figsize=(10,6), lags=15)  # note that ts must only contain values and time as index\n",
    "\n",
    "plot_acf_pacf(ts_95746_values, figsize=(10,6), lags=15)"
   ]
  },
  {
   "cell_type": "markdown",
   "metadata": {},
   "source": [
    "### Plot seasonal decomposition for ts dataframe"
   ]
  },
  {
   "cell_type": "code",
   "execution_count": null,
   "metadata": {
    "scrolled": false
   },
   "outputs": [],
   "source": [
    "# plot_seasonal_decomp(ts)\n",
    "\n",
    "plot_seasonal_decomp(ts_95746_values)\n",
    "\n",
    "# Seasonality does not appear to be a significant factor in this zip code."
   ]
  },
  {
   "cell_type": "markdown",
   "metadata": {},
   "source": [
    "## ARIMA model parameters and optimization"
   ]
  },
  {
   "cell_type": "markdown",
   "metadata": {},
   "source": [
    "### Generate list of (p,d,q) and (p,d,q,m) values"
   ]
  },
  {
   "cell_type": "code",
   "execution_count": null,
   "metadata": {},
   "outputs": [],
   "source": [
    "p_values = [0, 1, 2, 4, 6, 8]\n",
    "d_values = range(0, 3)\n",
    "q_values = range(0, 3)\n",
    "warnings.filterwarnings(\"ignore\")"
   ]
  },
  {
   "cell_type": "markdown",
   "metadata": {},
   "source": [
    "### Run ARIMA model on ts dataframe with list of p,d,q values "
   ]
  },
  {
   "cell_type": "code",
   "execution_count": null,
   "metadata": {},
   "outputs": [],
   "source": [
    "# eval_arima_models(ts, p_values, d_values, q_values)  # don't run this until you have some time, since it take time\n",
    "# note that ts must only contain values and time as index\n",
    "\n",
    "# eval_arima_models(ts_95746_values, p_values, d_values, q_values)  # don't run this until you have some time, since it takes time\n"
   ]
  },
  {
   "cell_type": "markdown",
   "metadata": {},
   "source": [
    "### Generate model fit summary"
   ]
  },
  {
   "cell_type": "code",
   "execution_count": null,
   "metadata": {
    "scrolled": true
   },
   "outputs": [],
   "source": [
    "# model_fit = arima_zipcode(ts, order = None)   # change order = tuple to correspond to the best MSE produced by previous function\n",
    "\n",
    "# Best ARIMA(6, 1, 2) MSE=3329403.484\n",
    "\n",
    "model_fit_95746 = arima_zipcode(ts_95746_values, order = (6, 1, 2))\n"
   ]
  },
  {
   "cell_type": "markdown",
   "metadata": {},
   "source": [
    "## ARIMA modeling results:  predictions and visualization"
   ]
  },
  {
   "cell_type": "markdown",
   "metadata": {},
   "source": [
    "### Produce forecasts from ARIMA model fit"
   ]
  },
  {
   "cell_type": "code",
   "execution_count": null,
   "metadata": {},
   "outputs": [],
   "source": [
    "actual_forecast_95746, std_error_95746, forecast_confint_95746 = forecast(model_fit_95746)"
   ]
  },
  {
   "cell_type": "code",
   "execution_count": null,
   "metadata": {},
   "outputs": [],
   "source": [
    "actual_forecast_95746, std_error_95746, forecast_confint_95746"
   ]
  },
  {
   "cell_type": "markdown",
   "metadata": {},
   "source": [
    "### Create dataframe to hold forecast results"
   ]
  },
  {
   "cell_type": "code",
   "execution_count": null,
   "metadata": {},
   "outputs": [],
   "source": [
    "# df_forecast = forecast_df(col = 'time', daterange = pd.date_range(start='2018-05-01', end='2020-04-01', freq='MS'), \n",
    "#                 actual_forecast=actual_forecast, forecast_confint = forecast_confint)\n",
    "\n",
    "df_forecast_95746 = forecast_df(actual_forecast_95746, forecast_confint_95746, col = 'time', daterange = pd.date_range(start='2018-05-01', end='2020-04-01', freq='MS'))\n"
   ]
  },
  {
   "cell_type": "markdown",
   "metadata": {},
   "source": [
    "### Create new dataframe concatenating historic values and forecast results"
   ]
  },
  {
   "cell_type": "code",
   "execution_count": null,
   "metadata": {},
   "outputs": [],
   "source": [
    "# df_new = concat_values_forecast(ts, df_forecast)\n",
    "\n",
    "df_new_95746 = concat_values_forecast(ts_95746_values, df_forecast_95746)"
   ]
  },
  {
   "cell_type": "code",
   "execution_count": null,
   "metadata": {},
   "outputs": [],
   "source": [
    "df_new_95746.head()"
   ]
  },
  {
   "cell_type": "markdown",
   "metadata": {},
   "source": [
    "### Calculate predicted, lower bound, and upper bound forecasted prices"
   ]
  },
  {
   "cell_type": "code",
   "execution_count": null,
   "metadata": {},
   "outputs": [],
   "source": [
    "forecasted_price_95746, forecasted_lower_95746, forecasted_upper_95746 = forecast_values(df_new_95746)"
   ]
  },
  {
   "cell_type": "code",
   "execution_count": null,
   "metadata": {},
   "outputs": [],
   "source": [
    "forecasted_price_95746, forecasted_lower_95746, forecasted_upper_95746  # predicted, best-case, and worst-case prices in 2020\n"
   ]
  },
  {
   "cell_type": "code",
   "execution_count": null,
   "metadata": {},
   "outputs": [],
   "source": [
    "last_value_95746 = df_new_95746['value'].loc['2018-04-01']"
   ]
  },
  {
   "cell_type": "code",
   "execution_count": null,
   "metadata": {},
   "outputs": [],
   "source": [
    "last_value_95746"
   ]
  },
  {
   "cell_type": "markdown",
   "metadata": {},
   "source": [
    "### Plot forecast with confidence intervals"
   ]
  },
  {
   "cell_type": "code",
   "execution_count": null,
   "metadata": {
    "scrolled": false
   },
   "outputs": [],
   "source": [
    "# plot_forecast(df = df_new, figsize=(12,8), geog=None)\n",
    "\n",
    "plot_forecast(df_new_95746, figsize=(12,8), geog='95746 (Granite Bay)')"
   ]
  },
  {
   "cell_type": "markdown",
   "metadata": {},
   "source": [
    "### Print summary of predicted, worst-case, and best-case scenarios"
   ]
  },
  {
   "cell_type": "code",
   "execution_count": null,
   "metadata": {
    "scrolled": true
   },
   "outputs": [],
   "source": [
    "gb_95746_pred, gb_95746_low, gb_95746_high = pred_best_worst(pred=forecasted_price_95746, low=forecasted_lower_95746, \n",
    "                                                             high=forecasted_upper_95746, last=last_value_95746, date='April 1, 2020')\n",
    "gb_95746_pred, gb_95746_low, gb_95746_high"
   ]
  },
  {
   "cell_type": "markdown",
   "metadata": {},
   "source": [
    "## Zip code 95746 (Granite Bay):  Solid investment opportunity\n",
    "\n",
    "By the model prediction, I would expect to see a 7.906% change in price by April 1, 2020.\n",
    "At the lower bound of the confidence interval, I would expect to see a -9.561% change in price by April 1, 2020.\n",
    "At the upper bound of the confidence interval, I would expect to see a 25.374% change in price by April 1, 2020."
   ]
  },
  {
   "cell_type": "markdown",
   "metadata": {},
   "source": [
    "# SacMetro:  95614 (Cool) -- Not a great investment opportunity"
   ]
  },
  {
   "cell_type": "code",
   "execution_count": null,
   "metadata": {},
   "outputs": [],
   "source": [
    "geog_area = '95614'"
   ]
  },
  {
   "cell_type": "code",
   "execution_count": null,
   "metadata": {},
   "outputs": [],
   "source": [
    "ts_95614 = df_sac.loc[df_sac['Zip'] == geog_area]  # ts for all of the following functions should have only one zipcode\n",
    "ts_95614.head()\n"
   ]
  },
  {
   "cell_type": "code",
   "execution_count": null,
   "metadata": {
    "scrolled": true
   },
   "outputs": [],
   "source": [
    "# ts.head()\n",
    "\n",
    "ts_95614.tail()"
   ]
  },
  {
   "cell_type": "code",
   "execution_count": null,
   "metadata": {},
   "outputs": [],
   "source": [
    "# ts = ts.value\n",
    "\n",
    "ts_95614_values = ts_95614.value"
   ]
  },
  {
   "cell_type": "code",
   "execution_count": null,
   "metadata": {},
   "outputs": [],
   "source": [
    "# ts.head()\n",
    "\n",
    "ts_95614_values.head()"
   ]
  },
  {
   "cell_type": "code",
   "execution_count": null,
   "metadata": {},
   "outputs": [],
   "source": [
    "ts_95614_values.tail()"
   ]
  },
  {
   "cell_type": "markdown",
   "metadata": {},
   "source": [
    "### Visualizations"
   ]
  },
  {
   "cell_type": "markdown",
   "metadata": {},
   "source": [
    "#### plot_ts:  Plot zip code(s) of interest over time, with market highs and lows"
   ]
  },
  {
   "cell_type": "code",
   "execution_count": null,
   "metadata": {
    "scrolled": false
   },
   "outputs": [],
   "source": [
    "# fig, ax = plot_ts(df_melt, zipcodes=['95616', '92008', '90035', '90025', '60625', '57701'])  # enter desired zip code(s)\n",
    "\n",
    "fig, ax = plot_ts_zips(df_melt, zipcodes=['95614'], nrows=1, ncols=1, figsize=(10,6))  # enter desired zip code(s)"
   ]
  },
  {
   "cell_type": "markdown",
   "metadata": {},
   "source": [
    "#### Boxplot of zip code"
   ]
  },
  {
   "cell_type": "code",
   "execution_count": null,
   "metadata": {},
   "outputs": [],
   "source": [
    "ts_95614.boxplot(column = 'value')\n",
    "plt.title('95614');\n"
   ]
  },
  {
   "cell_type": "markdown",
   "metadata": {},
   "source": [
    "### Plot ACF and PACF for ts dataframe"
   ]
  },
  {
   "cell_type": "code",
   "execution_count": null,
   "metadata": {
    "scrolled": false
   },
   "outputs": [],
   "source": [
    "# plot_acf_pacf(ts, figsize=(10,6), lags=15)  # note that ts must only contain values and time as index\n",
    "\n",
    "plot_acf_pacf(ts_95614_values, figsize=(10,6), lags=15)"
   ]
  },
  {
   "cell_type": "markdown",
   "metadata": {},
   "source": [
    "### Plot seasonal decomposition for ts dataframe"
   ]
  },
  {
   "cell_type": "code",
   "execution_count": null,
   "metadata": {
    "scrolled": false
   },
   "outputs": [],
   "source": [
    "# plot_seasonal_decomp(ts)\n",
    "\n",
    "plot_seasonal_decomp(ts_95614_values)\n",
    "\n",
    "# Seasonality does not appear to be a significant factor in this zip code."
   ]
  },
  {
   "cell_type": "markdown",
   "metadata": {},
   "source": [
    "## ARIMA model parameters and optimization"
   ]
  },
  {
   "cell_type": "markdown",
   "metadata": {},
   "source": [
    "### Generate list of (p,d,q) and (p,d,q,m) values"
   ]
  },
  {
   "cell_type": "code",
   "execution_count": null,
   "metadata": {},
   "outputs": [],
   "source": [
    "p_values = [0, 1, 2, 4, 6, 8]\n",
    "d_values = range(0, 3)\n",
    "q_values = range(0, 3)\n",
    "warnings.filterwarnings(\"ignore\")"
   ]
  },
  {
   "cell_type": "markdown",
   "metadata": {},
   "source": [
    "### Run ARIMA model on ts dataframe with list of p,d,q values "
   ]
  },
  {
   "cell_type": "code",
   "execution_count": null,
   "metadata": {},
   "outputs": [],
   "source": [
    "# eval_arima_models(ts, p_values, d_values, q_values)  # don't run this until you have some time, since it take time\n",
    "# note that ts must only contain values and time as index\n",
    "\n",
    "# eval_arima_models(ts_95614_values, p_values, d_values, q_values)  # don't run this until you have some time, since it takes time\n"
   ]
  },
  {
   "cell_type": "markdown",
   "metadata": {},
   "source": [
    "### Generate model fit summary"
   ]
  },
  {
   "cell_type": "code",
   "execution_count": null,
   "metadata": {
    "scrolled": true
   },
   "outputs": [],
   "source": [
    "# model_fit = arima_zipcode(ts, order = None)   # change order = tuple to correspond to the best MSE produced by previous function\n",
    "\n",
    "# Best ARIMA(8, 0, 2) MSE=1365126.920\n",
    "\n",
    "model_fit_95614 = arima_zipcode(ts_95614_values, order = (8,0,2))\n"
   ]
  },
  {
   "cell_type": "markdown",
   "metadata": {},
   "source": [
    "## ARIMA modeling results:  predictions and visualization"
   ]
  },
  {
   "cell_type": "markdown",
   "metadata": {},
   "source": [
    "### Produce forecasts from ARIMA model fit"
   ]
  },
  {
   "cell_type": "code",
   "execution_count": null,
   "metadata": {},
   "outputs": [],
   "source": [
    "actual_forecast_95614, std_error_95614, forecast_confint_95614 = forecast(model_fit_95614)\n"
   ]
  },
  {
   "cell_type": "code",
   "execution_count": null,
   "metadata": {},
   "outputs": [],
   "source": [
    "actual_forecast_95614, std_error_95614, forecast_confint_95614"
   ]
  },
  {
   "cell_type": "markdown",
   "metadata": {},
   "source": [
    "### Create dataframe to hold forecast results"
   ]
  },
  {
   "cell_type": "code",
   "execution_count": null,
   "metadata": {},
   "outputs": [],
   "source": [
    "# df_forecast = forecast_df(col = 'time', daterange = pd.date_range(start='2018-05-01', end='2020-04-01', freq='MS'), \n",
    "#                 actual_forecast=actual_forecast, forecast_confint = forecast_confint)\n",
    "\n",
    "df_forecast_95614 = forecast_df(actual_forecast_95614, forecast_confint_95614, \n",
    "                                col = 'time', daterange = pd.date_range(start='2018-05-01', end='2020-04-01', freq='MS'))"
   ]
  },
  {
   "cell_type": "markdown",
   "metadata": {},
   "source": [
    "### Create new dataframe concatenating historic values and forecast results"
   ]
  },
  {
   "cell_type": "code",
   "execution_count": null,
   "metadata": {},
   "outputs": [],
   "source": [
    "# df_new = concat_values_forecast(ts, df_forecast)\n",
    "\n",
    "df_new_95614 = concat_values_forecast(ts_95614_values, df_forecast_95614)"
   ]
  },
  {
   "cell_type": "code",
   "execution_count": null,
   "metadata": {},
   "outputs": [],
   "source": [
    "df_new_95614.head()"
   ]
  },
  {
   "cell_type": "markdown",
   "metadata": {},
   "source": [
    "### Calculate predicted, lower bound, and upper bound forecasted prices"
   ]
  },
  {
   "cell_type": "code",
   "execution_count": null,
   "metadata": {},
   "outputs": [],
   "source": [
    "forecasted_price_95614, forecasted_lower_95614, forecasted_upper_95614 = forecast_values(df_new_95614)"
   ]
  },
  {
   "cell_type": "code",
   "execution_count": null,
   "metadata": {},
   "outputs": [],
   "source": [
    "forecasted_price_95614, forecasted_lower_95614, forecasted_upper_95614  # predicted, best-case, and worst-case prices in 2020"
   ]
  },
  {
   "cell_type": "code",
   "execution_count": null,
   "metadata": {},
   "outputs": [],
   "source": [
    "last_value_95614 = df_new_95614['value'].loc['2018-04-01']"
   ]
  },
  {
   "cell_type": "code",
   "execution_count": null,
   "metadata": {},
   "outputs": [],
   "source": [
    "last_value_95614"
   ]
  },
  {
   "cell_type": "markdown",
   "metadata": {},
   "source": [
    "### Plot forecast with confidence intervals"
   ]
  },
  {
   "cell_type": "code",
   "execution_count": null,
   "metadata": {
    "scrolled": false
   },
   "outputs": [],
   "source": [
    "# plot_forecast(df = df_new, figsize=(12,8), geog=None)\n",
    "\n",
    "plot_forecast(df_new_95614, figsize=(12,8), geog='95614 (Cool)')"
   ]
  },
  {
   "cell_type": "markdown",
   "metadata": {},
   "source": [
    "### Print summary of predicted, worst-case, and best-case scenarios"
   ]
  },
  {
   "cell_type": "code",
   "execution_count": null,
   "metadata": {
    "scrolled": true
   },
   "outputs": [],
   "source": [
    "cool_95614_pred, cool_95614_low, cool_95614_high = pred_best_worst(pred=forecasted_price_95614, low=forecasted_lower_95614, \n",
    "                                                                   high=forecasted_upper_95614, last=last_value_95614, date='April 1, 2020')\n",
    "cool_95614_pred, cool_95614_low, cool_95614_high "
   ]
  },
  {
   "cell_type": "markdown",
   "metadata": {},
   "source": [
    "## Zip code 95614 (Cool):  Not a great investment opportunity\n",
    "\n",
    "By the model prediction, I would expect to see a 2.466% change in price by April 1, 2020.\n",
    "At the lower bound of the confidence interval, I would expect to see a -18.714% change in price by April 1, 2020.\n",
    "At the upper bound of the confidence interval, I would expect to see a 23.646% change in price by April 1, 2020.\n"
   ]
  },
  {
   "cell_type": "markdown",
   "metadata": {},
   "source": [
    "# SacMetro:  95663 (Penryn) -- Excellent investment opportunity"
   ]
  },
  {
   "cell_type": "code",
   "execution_count": null,
   "metadata": {},
   "outputs": [],
   "source": [
    "geog_area = '95663'"
   ]
  },
  {
   "cell_type": "code",
   "execution_count": null,
   "metadata": {},
   "outputs": [],
   "source": [
    "ts_95663 = df_sac.loc[df_sac['Zip'] == geog_area]  # ts for all of the following functions should have only one zipcode\n",
    "ts_95663.head()\n"
   ]
  },
  {
   "cell_type": "code",
   "execution_count": null,
   "metadata": {
    "scrolled": true
   },
   "outputs": [],
   "source": [
    "# ts.head()\n",
    "\n",
    "ts_95663.tail()"
   ]
  },
  {
   "cell_type": "code",
   "execution_count": null,
   "metadata": {},
   "outputs": [],
   "source": [
    "# ts = ts.value\n",
    "\n",
    "ts_95663_values = ts_95663.value"
   ]
  },
  {
   "cell_type": "code",
   "execution_count": null,
   "metadata": {},
   "outputs": [],
   "source": [
    "# ts.head()\n",
    "\n",
    "ts_95663_values.head()"
   ]
  },
  {
   "cell_type": "code",
   "execution_count": null,
   "metadata": {},
   "outputs": [],
   "source": [
    "ts_95663_values.tail()"
   ]
  },
  {
   "cell_type": "markdown",
   "metadata": {},
   "source": [
    "### Visualizations"
   ]
  },
  {
   "cell_type": "markdown",
   "metadata": {},
   "source": [
    "#### plot_ts:  Plot zip code(s) of interest over time, with market highs and lows"
   ]
  },
  {
   "cell_type": "code",
   "execution_count": null,
   "metadata": {
    "scrolled": true
   },
   "outputs": [],
   "source": [
    "# fig, ax = plot_ts(df_melt, zipcodes=['95616', '92008', '90035', '90025', '60625', '57701'])  # enter desired zip code(s)\n",
    "\n",
    "fig, ax = plot_ts_zips(df_melt, zipcodes=['95663'], figsize=(12,6))  # enter desired zip code(s)"
   ]
  },
  {
   "cell_type": "markdown",
   "metadata": {},
   "source": [
    "#### Boxplot of zip code"
   ]
  },
  {
   "cell_type": "code",
   "execution_count": null,
   "metadata": {},
   "outputs": [],
   "source": [
    "ts_95663.boxplot(column = 'value')\n",
    "plt.title('95663');"
   ]
  },
  {
   "cell_type": "markdown",
   "metadata": {},
   "source": [
    "### Plot ACF and PACF for ts dataframe"
   ]
  },
  {
   "cell_type": "code",
   "execution_count": null,
   "metadata": {
    "scrolled": false
   },
   "outputs": [],
   "source": [
    "# plot_acf_pacf(ts, figsize=(10,6), lags=15)  # note that ts must only contain values and time as index\n",
    "\n",
    "plot_acf_pacf(ts_95663_values, figsize=(10,6), lags=15)"
   ]
  },
  {
   "cell_type": "markdown",
   "metadata": {},
   "source": [
    "### Plot seasonal decomposition for ts dataframe"
   ]
  },
  {
   "cell_type": "code",
   "execution_count": null,
   "metadata": {
    "scrolled": false
   },
   "outputs": [],
   "source": [
    "# plot_seasonal_decomp(ts)\n",
    "\n",
    "plot_seasonal_decomp(ts_95663_values)\n",
    "\n",
    "# Seasonality does not appear to be a significant factor in this zip code."
   ]
  },
  {
   "cell_type": "markdown",
   "metadata": {},
   "source": [
    "## ARIMA model parameters and optimization"
   ]
  },
  {
   "cell_type": "markdown",
   "metadata": {},
   "source": [
    "### Generate list of (p,d,q) and (p,d,q,m) values"
   ]
  },
  {
   "cell_type": "code",
   "execution_count": null,
   "metadata": {},
   "outputs": [],
   "source": [
    "p_values = [0, 1, 2, 4, 6, 8]\n",
    "d_values = range(0, 3)\n",
    "q_values = range(0, 3)\n",
    "warnings.filterwarnings(\"ignore\")"
   ]
  },
  {
   "cell_type": "markdown",
   "metadata": {},
   "source": [
    "### Run ARIMA model on ts dataframe with list of p,d,q values "
   ]
  },
  {
   "cell_type": "code",
   "execution_count": null,
   "metadata": {},
   "outputs": [],
   "source": [
    "# eval_arima_models(ts, p_values, d_values, q_values)  # don't run this until you have some time, since it take time\n",
    "# note that ts must only contain values and time as index\n",
    "\n",
    "# eval_arima_models(ts_95663_values, p_values, d_values, q_values)  # don't run this until you have some time, since it takes time\n"
   ]
  },
  {
   "cell_type": "markdown",
   "metadata": {},
   "source": [
    "### Generate model fit summary"
   ]
  },
  {
   "cell_type": "code",
   "execution_count": null,
   "metadata": {
    "scrolled": true
   },
   "outputs": [],
   "source": [
    "# model_fit = arima_zipcode(ts, order = None)   # change order = tuple to correspond to the best MSE produced by previous function\n",
    "\n",
    "# Best ARIMA(6, 1, 1) MSE=4616814.652\n",
    "\n",
    "model_fit_95663 = arima_zipcode(ts_95663_values, order = (6, 1, 1))\n"
   ]
  },
  {
   "cell_type": "markdown",
   "metadata": {},
   "source": [
    "## ARIMA modeling results:  predictions and visualization"
   ]
  },
  {
   "cell_type": "markdown",
   "metadata": {},
   "source": [
    "### Produce forecasts from ARIMA model fit"
   ]
  },
  {
   "cell_type": "code",
   "execution_count": null,
   "metadata": {},
   "outputs": [],
   "source": [
    "actual_forecast_95663, std_error_95663, forecast_confint_95663 = forecast(model_fit_95663)\n"
   ]
  },
  {
   "cell_type": "code",
   "execution_count": null,
   "metadata": {},
   "outputs": [],
   "source": [
    "actual_forecast_95663, std_error_95663, forecast_confint_95663"
   ]
  },
  {
   "cell_type": "markdown",
   "metadata": {},
   "source": [
    "### Create dataframe to hold forecast results"
   ]
  },
  {
   "cell_type": "code",
   "execution_count": null,
   "metadata": {},
   "outputs": [],
   "source": [
    "# df_forecast = forecast_df(col = 'time', daterange = pd.date_range(start='2018-05-01', end='2020-04-01', freq='MS'), \n",
    "#                 actual_forecast=actual_forecast, forecast_confint = forecast_confint)\n",
    "\n",
    "df_forecast_95663 = forecast_df(actual_forecast_95663, forecast_confint_95663, col = 'time', daterange = pd.date_range(start='2018-05-01', end='2020-04-01', freq='MS'))\n"
   ]
  },
  {
   "cell_type": "markdown",
   "metadata": {},
   "source": [
    "### Create new dataframe concatenating historic values and forecast results"
   ]
  },
  {
   "cell_type": "code",
   "execution_count": null,
   "metadata": {},
   "outputs": [],
   "source": [
    "# df_new = concat_values_forecast(ts, df_forecast)\n",
    "\n",
    "df_new_95663 = concat_values_forecast(ts_95663_values, df_forecast_95663)"
   ]
  },
  {
   "cell_type": "code",
   "execution_count": null,
   "metadata": {},
   "outputs": [],
   "source": [
    "df_new_95663.head()"
   ]
  },
  {
   "cell_type": "markdown",
   "metadata": {},
   "source": [
    "### Calculate predicted, lower bound, and upper bound forecasted prices"
   ]
  },
  {
   "cell_type": "code",
   "execution_count": null,
   "metadata": {},
   "outputs": [],
   "source": [
    "forecasted_price_95663, forecasted_lower_95663, forecasted_upper_95663 = forecast_values(df_new_95663)"
   ]
  },
  {
   "cell_type": "code",
   "execution_count": null,
   "metadata": {},
   "outputs": [],
   "source": [
    "forecasted_price_95663, forecasted_lower_95663, forecasted_upper_95663  # predicted, best-case, and worst-case prices in 2020\n"
   ]
  },
  {
   "cell_type": "code",
   "execution_count": null,
   "metadata": {},
   "outputs": [],
   "source": [
    "last_value_95663 = df_new_95663['value'].loc['2018-04-01']"
   ]
  },
  {
   "cell_type": "code",
   "execution_count": null,
   "metadata": {},
   "outputs": [],
   "source": [
    "last_value_95663"
   ]
  },
  {
   "cell_type": "markdown",
   "metadata": {},
   "source": [
    "### Plot forecast with confidence intervals"
   ]
  },
  {
   "cell_type": "code",
   "execution_count": null,
   "metadata": {
    "scrolled": false
   },
   "outputs": [],
   "source": [
    "# plot_forecast(df = df_new, figsize=(12,8), geog=None)\n",
    "\n",
    "plot_forecast(df_new_95663, figsize=(12,8), geog='95663 (Penryn)')"
   ]
  },
  {
   "cell_type": "markdown",
   "metadata": {},
   "source": [
    "### Print summary of predicted, worst-case, and best-case scenarios"
   ]
  },
  {
   "cell_type": "code",
   "execution_count": null,
   "metadata": {
    "scrolled": true
   },
   "outputs": [],
   "source": [
    "penryn_95663_pred, penryn_95663_low, penryn_95663_high = pred_best_worst(pred=forecasted_price_95663, low=forecasted_lower_95663, \n",
    "                                                                         high=forecasted_upper_95663, last=last_value_95663, date='April 1, 2020')\n",
    "penryn_95663_pred, penryn_95663_low, penryn_95663_high"
   ]
  },
  {
   "cell_type": "markdown",
   "metadata": {},
   "source": [
    "## Zip code 95663 (Penryn):  Excellent investment opportunity\n",
    "\n",
    "By the model prediction, I would expect to see a 13.679% change in price by April 1, 2020.\n",
    "At the lower bound of the confidence interval, I would expect to see a -8.334% change in price by April 1, 2020.\n",
    "At the upper bound of the confidence interval, I would expect to see a 35.692% change in price by April 1, 2020."
   ]
  },
  {
   "cell_type": "markdown",
   "metadata": {},
   "source": [
    "# SacMetro:  95623 (El Dorado) -- Good investment opportunity"
   ]
  },
  {
   "cell_type": "code",
   "execution_count": null,
   "metadata": {},
   "outputs": [],
   "source": [
    "geog_area = '95623'"
   ]
  },
  {
   "cell_type": "code",
   "execution_count": null,
   "metadata": {},
   "outputs": [],
   "source": [
    "ts_95623 = df_sac.loc[df_sac['Zip'] == geog_area]  # ts for all of the following functions should have only one zipcode\n",
    "ts_95623.head()\n"
   ]
  },
  {
   "cell_type": "code",
   "execution_count": null,
   "metadata": {
    "scrolled": true
   },
   "outputs": [],
   "source": [
    "ts_95623.tail()"
   ]
  },
  {
   "cell_type": "code",
   "execution_count": null,
   "metadata": {},
   "outputs": [],
   "source": [
    "# ts = ts.value\n",
    "\n",
    "ts_95623_values = ts_95623.value"
   ]
  },
  {
   "cell_type": "code",
   "execution_count": null,
   "metadata": {},
   "outputs": [],
   "source": [
    "# ts.head()\n",
    "\n",
    "ts_95623_values.head()"
   ]
  },
  {
   "cell_type": "code",
   "execution_count": null,
   "metadata": {},
   "outputs": [],
   "source": [
    "ts_95623_values.tail()"
   ]
  },
  {
   "cell_type": "markdown",
   "metadata": {},
   "source": [
    "### Visualizations"
   ]
  },
  {
   "cell_type": "markdown",
   "metadata": {},
   "source": [
    "#### plot_ts:  Plot zip code(s) of interest over time, with market highs and lows"
   ]
  },
  {
   "cell_type": "code",
   "execution_count": null,
   "metadata": {
    "scrolled": true
   },
   "outputs": [],
   "source": [
    "# fig, ax = plot_ts(df_melt, zipcodes=['95616', '92008', '90035', '90025', '60625', '57701'])  # enter desired zip code(s)\n",
    "\n",
    "fig, ax = plot_ts_zips(df_melt, zipcodes=['95623'], figsize=(12,6))  # enter desired zip code(s)"
   ]
  },
  {
   "cell_type": "markdown",
   "metadata": {},
   "source": [
    "#### Boxplot of zip code"
   ]
  },
  {
   "cell_type": "code",
   "execution_count": null,
   "metadata": {},
   "outputs": [],
   "source": [
    "ts_95623.boxplot(column = 'value')\n",
    "plt.title('95623');\n"
   ]
  },
  {
   "cell_type": "markdown",
   "metadata": {},
   "source": [
    "### Plot ACF and PACF for ts dataframe"
   ]
  },
  {
   "cell_type": "code",
   "execution_count": null,
   "metadata": {
    "scrolled": false
   },
   "outputs": [],
   "source": [
    "# plot_acf_pacf(ts, figsize=(10,6), lags=15)  # note that ts must only contain values and time as index\n",
    "\n",
    "plot_acf_pacf(ts_95623_values, figsize=(10,6), lags=15)"
   ]
  },
  {
   "cell_type": "markdown",
   "metadata": {},
   "source": [
    "### Plot seasonal decomposition for ts dataframe"
   ]
  },
  {
   "cell_type": "code",
   "execution_count": null,
   "metadata": {
    "scrolled": false
   },
   "outputs": [],
   "source": [
    "# plot_seasonal_decomp(ts)\n",
    "\n",
    "plot_seasonal_decomp(ts_95623_values)\n",
    "\n",
    "# Seasonality does not appear to be a significant factor in this zip code."
   ]
  },
  {
   "cell_type": "markdown",
   "metadata": {},
   "source": [
    "## ARIMA model parameters and optimization"
   ]
  },
  {
   "cell_type": "markdown",
   "metadata": {},
   "source": [
    "### Generate list of (p,d,q) and (p,d,q,m) values"
   ]
  },
  {
   "cell_type": "markdown",
   "metadata": {},
   "source": [
    "### Run ARIMA model on ts dataframe with list of p,d,q values "
   ]
  },
  {
   "cell_type": "code",
   "execution_count": null,
   "metadata": {},
   "outputs": [],
   "source": [
    "p_values = [0, 1, 2, 4, 6, 8]\n",
    "d_values = range(0, 3)\n",
    "q_values = range(0, 3)\n",
    "warnings.filterwarnings(\"ignore\")"
   ]
  },
  {
   "cell_type": "code",
   "execution_count": null,
   "metadata": {},
   "outputs": [],
   "source": [
    "# eval_arima_models(ts, p_values, d_values, q_values)  # don't run this until you have some time, since it take time\n",
    "# note that ts must only contain values and time as index\n",
    "\n",
    "# eval_arima_models(ts_95623_values, p_values, d_values, q_values)  # don't run this until you have some time, since it takes time\n"
   ]
  },
  {
   "cell_type": "markdown",
   "metadata": {},
   "source": [
    "### Generate model fit summary"
   ]
  },
  {
   "cell_type": "code",
   "execution_count": null,
   "metadata": {
    "scrolled": true
   },
   "outputs": [],
   "source": [
    "# model_fit = arima_zipcode(ts, order = None)   # change order = tuple to correspond to the best MSE produced by previous function\n",
    "\n",
    "# Best ARIMA(6, 1, 2) MSE=2032900.464\n",
    "\n",
    "model_fit_95623 = arima_zipcode(ts_95623_values, order = (6,1,2))\n"
   ]
  },
  {
   "cell_type": "markdown",
   "metadata": {},
   "source": [
    "## ARIMA modeling results:  predictions and visualization"
   ]
  },
  {
   "cell_type": "markdown",
   "metadata": {},
   "source": [
    "### Produce forecasts from ARIMA model fit"
   ]
  },
  {
   "cell_type": "code",
   "execution_count": null,
   "metadata": {},
   "outputs": [],
   "source": [
    "actual_forecast_95623, std_error_95623, forecast_confint_95623 = forecast(model_fit_95623)\n"
   ]
  },
  {
   "cell_type": "code",
   "execution_count": null,
   "metadata": {},
   "outputs": [],
   "source": [
    "actual_forecast_95623, std_error_95623, forecast_confint_95623"
   ]
  },
  {
   "cell_type": "markdown",
   "metadata": {},
   "source": [
    "### Create dataframe to hold forecast results"
   ]
  },
  {
   "cell_type": "code",
   "execution_count": null,
   "metadata": {},
   "outputs": [],
   "source": [
    "# df_forecast = forecast_df(col = 'time', daterange = pd.date_range(start='2018-05-01', end='2020-04-01', freq='MS'), \n",
    "#                 actual_forecast=actual_forecast, forecast_confint = forecast_confint)\n",
    "\n",
    "df_forecast_95623 = forecast_df(actual_forecast_95623, forecast_confint_95623, col = 'time', daterange = pd.date_range(start='2018-05-01', end='2020-04-01', freq='MS'))"
   ]
  },
  {
   "cell_type": "markdown",
   "metadata": {},
   "source": [
    "### Create new dataframe concatenating historic values and forecast results"
   ]
  },
  {
   "cell_type": "code",
   "execution_count": null,
   "metadata": {},
   "outputs": [],
   "source": [
    "# df_new = concat_values_forecast(ts, df_forecast)\n",
    "\n",
    "df_new_95623 = concat_values_forecast(ts_95623_values, df_forecast_95623)"
   ]
  },
  {
   "cell_type": "code",
   "execution_count": null,
   "metadata": {},
   "outputs": [],
   "source": [
    "df_new_95623"
   ]
  },
  {
   "cell_type": "markdown",
   "metadata": {},
   "source": [
    "### Calculate predicted, lower bound, and upper bound forecasted prices"
   ]
  },
  {
   "cell_type": "code",
   "execution_count": null,
   "metadata": {},
   "outputs": [],
   "source": [
    "forecasted_price_95623, forecasted_lower_95623, forecasted_upper_95623 = forecast_values(df_new_95623)"
   ]
  },
  {
   "cell_type": "code",
   "execution_count": null,
   "metadata": {},
   "outputs": [],
   "source": [
    "forecasted_price_95623, forecasted_lower_95623, forecasted_upper_95623  # predicted, best-case, and worst-case prices in 2020\n"
   ]
  },
  {
   "cell_type": "code",
   "execution_count": null,
   "metadata": {},
   "outputs": [],
   "source": [
    "last_value_95623 = df_new_95623['value'].loc['2018-04-01']"
   ]
  },
  {
   "cell_type": "code",
   "execution_count": null,
   "metadata": {},
   "outputs": [],
   "source": [
    "last_value_95623"
   ]
  },
  {
   "cell_type": "markdown",
   "metadata": {},
   "source": [
    "### Plot forecast with confidence intervals"
   ]
  },
  {
   "cell_type": "code",
   "execution_count": null,
   "metadata": {
    "scrolled": false
   },
   "outputs": [],
   "source": [
    "# plot_forecast(df = df_new, figsize=(12,8), geog=None)\n",
    "\n",
    "plot_forecast(df_new_95623, figsize=(12,8), geog='95623 (El Dorado)')"
   ]
  },
  {
   "cell_type": "markdown",
   "metadata": {},
   "source": [
    "### Print summary of predicted, worst-case, and best-case scenarios"
   ]
  },
  {
   "cell_type": "code",
   "execution_count": null,
   "metadata": {
    "scrolled": true
   },
   "outputs": [],
   "source": [
    "eldorado_95623_pred, eldorado_95623_low, eldorado_95623_high = pred_best_worst(pred=forecasted_price_95623, low=forecasted_lower_95623, \n",
    "                                                                               high=forecasted_upper_95623, last=last_value_95623, date='April 1, 2020')\n",
    "eldorado_95623_pred, eldorado_95623_low, eldorado_95623_high "
   ]
  },
  {
   "cell_type": "markdown",
   "metadata": {},
   "source": [
    "## Zip code 95623 (El Dorado):   Good investment opportunity\n",
    "\n",
    "By the model prediction, I would expect to see a 8.258% change in price by April 1, 2020.\n",
    "At the lower bound of the confidence interval, I would expect to see a -14.768% change in price by April 1, 2020.\n",
    "At the upper bound of the confidence interval, I would expect to see a 31.285% change in price by April 1, 2020."
   ]
  },
  {
   "cell_type": "markdown",
   "metadata": {},
   "source": [
    "# SacMetro:  95747 (Roseville) -- Potential investment opportunity with more upside than downside potential"
   ]
  },
  {
   "cell_type": "code",
   "execution_count": null,
   "metadata": {},
   "outputs": [],
   "source": [
    "geog_area = '95747'"
   ]
  },
  {
   "cell_type": "code",
   "execution_count": null,
   "metadata": {},
   "outputs": [],
   "source": [
    "ts_95747 = df_sac.loc[df_sac['Zip'] == geog_area]  # ts for all of the following functions should have only one zipcode\n",
    "ts_95747.head()\n"
   ]
  },
  {
   "cell_type": "code",
   "execution_count": null,
   "metadata": {
    "scrolled": true
   },
   "outputs": [],
   "source": [
    "ts_95747.tail()"
   ]
  },
  {
   "cell_type": "code",
   "execution_count": null,
   "metadata": {},
   "outputs": [],
   "source": [
    "# ts = ts.value\n",
    "\n",
    "ts_95747_values = ts_95747.value"
   ]
  },
  {
   "cell_type": "code",
   "execution_count": null,
   "metadata": {},
   "outputs": [],
   "source": [
    "# ts.head()\n",
    "\n",
    "ts_95747_values.head()"
   ]
  },
  {
   "cell_type": "code",
   "execution_count": null,
   "metadata": {},
   "outputs": [],
   "source": [
    "ts_95747_values.tail()"
   ]
  },
  {
   "cell_type": "markdown",
   "metadata": {},
   "source": [
    "### Visualizations"
   ]
  },
  {
   "cell_type": "markdown",
   "metadata": {},
   "source": [
    "#### plot_ts:  Plot zip code(s) of interest over time, with market highs and lows"
   ]
  },
  {
   "cell_type": "code",
   "execution_count": null,
   "metadata": {
    "scrolled": true
   },
   "outputs": [],
   "source": [
    "# fig, ax = plot_ts(df_melt, zipcodes=['95616', '92008', '90035', '90025', '60625', '57701'])  # enter desired zip code(s)\n",
    "\n",
    "fig, ax = plot_ts_zips(df_melt, zipcodes=['95747'], figsize=(12,6))  # enter desired zip code(s)"
   ]
  },
  {
   "cell_type": "markdown",
   "metadata": {},
   "source": [
    "#### Boxplot of zip code"
   ]
  },
  {
   "cell_type": "code",
   "execution_count": null,
   "metadata": {},
   "outputs": [],
   "source": [
    "ts_95747.boxplot(column = 'value')\n",
    "plt.title('95747');\n"
   ]
  },
  {
   "cell_type": "markdown",
   "metadata": {},
   "source": [
    "### Plot ACF and PACF for ts dataframe"
   ]
  },
  {
   "cell_type": "code",
   "execution_count": null,
   "metadata": {
    "scrolled": false
   },
   "outputs": [],
   "source": [
    "# plot_acf_pacf(ts, figsize=(10,6), lags=15)  # note that ts must only contain values and time as index\n",
    "\n",
    "plot_acf_pacf(ts_95747_values, figsize=(10,6), lags=15)"
   ]
  },
  {
   "cell_type": "markdown",
   "metadata": {},
   "source": [
    "### Plot seasonal decomposition for ts dataframe"
   ]
  },
  {
   "cell_type": "code",
   "execution_count": null,
   "metadata": {
    "scrolled": false
   },
   "outputs": [],
   "source": [
    "# plot_seasonal_decomp(ts)\n",
    "\n",
    "plot_seasonal_decomp(ts_95747_values)\n",
    "\n",
    "# Seasonality does not appear to be a significant factor in this zip code."
   ]
  },
  {
   "cell_type": "markdown",
   "metadata": {},
   "source": [
    "## ARIMA model parameters and optimization"
   ]
  },
  {
   "cell_type": "markdown",
   "metadata": {},
   "source": [
    "### Generate list of (p,d,q) and (p,d,q,m) values"
   ]
  },
  {
   "cell_type": "code",
   "execution_count": null,
   "metadata": {},
   "outputs": [],
   "source": [
    "p_values = [0, 1, 2, 4, 6, 8]\n",
    "d_values = range(0, 3)\n",
    "q_values = range(0, 3)\n",
    "warnings.filterwarnings(\"ignore\")"
   ]
  },
  {
   "cell_type": "markdown",
   "metadata": {},
   "source": [
    "### Run ARIMA model on ts dataframe with list of p,d,q values "
   ]
  },
  {
   "cell_type": "code",
   "execution_count": null,
   "metadata": {},
   "outputs": [],
   "source": [
    "# eval_arima_models(ts, p_values, d_values, q_values)  # don't run this until you have some time, since it take time\n",
    "# note that ts must only contain values and time as index\n",
    "\n",
    "# eval_arima_models(ts_95747_values, p_values, d_values, q_values)  # don't run this until you have some time, since it takes time\n"
   ]
  },
  {
   "cell_type": "markdown",
   "metadata": {},
   "source": [
    "### Generate model fit summary"
   ]
  },
  {
   "cell_type": "code",
   "execution_count": null,
   "metadata": {
    "scrolled": true
   },
   "outputs": [],
   "source": [
    "# model_fit = arima_zipcode(ts, order = None)   # change order = tuple to correspond to the best MSE produced by previous function\n",
    "\n",
    "# Best ARIMA(4, 1, 2) MSE=956941.458\n",
    "\n",
    "model_fit_95747 = arima_zipcode(ts_95747_values, order = (4,1,2))\n"
   ]
  },
  {
   "cell_type": "markdown",
   "metadata": {},
   "source": [
    "## ARIMA modeling results:  predictions and visualization"
   ]
  },
  {
   "cell_type": "markdown",
   "metadata": {},
   "source": [
    "### Produce forecasts from ARIMA model fit"
   ]
  },
  {
   "cell_type": "code",
   "execution_count": null,
   "metadata": {},
   "outputs": [],
   "source": [
    "actual_forecast_95747, std_error_95747, forecast_confint_95747 = forecast(model_fit_95747)\n"
   ]
  },
  {
   "cell_type": "code",
   "execution_count": null,
   "metadata": {},
   "outputs": [],
   "source": [
    "actual_forecast_95747, std_error_95747, forecast_confint_95747"
   ]
  },
  {
   "cell_type": "markdown",
   "metadata": {},
   "source": [
    "### Create dataframe to hold forecast results"
   ]
  },
  {
   "cell_type": "code",
   "execution_count": null,
   "metadata": {},
   "outputs": [],
   "source": [
    "# df_forecast = forecast_df(col = 'time', daterange = pd.date_range(start='2018-05-01', end='2020-04-01', freq='MS'), \n",
    "#                 actual_forecast=actual_forecast, forecast_confint = forecast_confint)\n",
    "\n",
    "df_forecast_95747 = forecast_df(actual_forecast_95747, forecast_confint_95747, col = 'time', daterange = pd.date_range(start='2018-05-01', end='2020-04-01', freq='MS'))\n"
   ]
  },
  {
   "cell_type": "markdown",
   "metadata": {},
   "source": [
    "### Create new dataframe concatenating historic values and forecast results"
   ]
  },
  {
   "cell_type": "code",
   "execution_count": null,
   "metadata": {},
   "outputs": [],
   "source": [
    "# df_new = concat_values_forecast(ts, df_forecast)\n",
    "\n",
    "df_new_95747 = concat_values_forecast(ts_95747_values, df_forecast_95747)"
   ]
  },
  {
   "cell_type": "code",
   "execution_count": null,
   "metadata": {},
   "outputs": [],
   "source": [
    "df_new_95747"
   ]
  },
  {
   "cell_type": "markdown",
   "metadata": {},
   "source": [
    "### Calculate predicted, lower bound, and upper bound forecasted prices"
   ]
  },
  {
   "cell_type": "code",
   "execution_count": null,
   "metadata": {},
   "outputs": [],
   "source": [
    "forecasted_price_95747, forecasted_lower_95747, forecasted_upper_95747 = forecast_values(df_new_95747)"
   ]
  },
  {
   "cell_type": "code",
   "execution_count": null,
   "metadata": {},
   "outputs": [],
   "source": [
    "forecasted_price_95747, forecasted_lower_95747, forecasted_upper_95747  # predicted, best-case, and worst-case prices in 2020\n"
   ]
  },
  {
   "cell_type": "code",
   "execution_count": null,
   "metadata": {},
   "outputs": [],
   "source": [
    "last_value_95747 = df_new_95747['value'].loc['2018-04-01']"
   ]
  },
  {
   "cell_type": "code",
   "execution_count": null,
   "metadata": {},
   "outputs": [],
   "source": [
    "last_value_95747"
   ]
  },
  {
   "cell_type": "markdown",
   "metadata": {},
   "source": [
    "### Plot forecast with confidence intervals"
   ]
  },
  {
   "cell_type": "code",
   "execution_count": null,
   "metadata": {
    "scrolled": false
   },
   "outputs": [],
   "source": [
    "# plot_forecast(df = df_new, figsize=(12,8), geog=None)\n",
    "\n",
    "plot_forecast(df_new_95747, figsize=(12,8), geog='95747 (Roseville)')"
   ]
  },
  {
   "cell_type": "markdown",
   "metadata": {},
   "source": [
    "### Print summary of predicted, worst-case, and best-case scenarios"
   ]
  },
  {
   "cell_type": "code",
   "execution_count": null,
   "metadata": {
    "scrolled": true
   },
   "outputs": [],
   "source": [
    "roseville_95747_pred, roseville_95747_low, roseville_95747_high = pred_best_worst(pred=forecasted_price_95747, low=forecasted_lower_95747, \n",
    "                                                                                  high=forecasted_upper_95747, last=last_value_95747, date='April 1, 2020')\n",
    "roseville_95747_pred, roseville_95747_low, roseville_95747_high "
   ]
  },
  {
   "cell_type": "markdown",
   "metadata": {},
   "source": [
    "## Zip code 95747 (Roseville):  Potential opportunity, with mediocre predicted returns but more upside than downside\n",
    "\n",
    "By the model prediction, I would expect to see a 5.556% change in price by April 1, 2020.\n",
    "At the lower bound of the confidence interval, I would expect to see a -10.609% change in price by April 1, 2020.\n",
    "At the upper bound of the confidence interval, I would expect to see a 21.722% change in price by April 1, 2020."
   ]
  },
  {
   "cell_type": "markdown",
   "metadata": {},
   "source": [
    "# SacMetro:  95765 (Rocklin) -- Solid investment opportunity with minimal downside risk"
   ]
  },
  {
   "cell_type": "code",
   "execution_count": null,
   "metadata": {},
   "outputs": [],
   "source": [
    "geog_area = '95765'"
   ]
  },
  {
   "cell_type": "code",
   "execution_count": null,
   "metadata": {},
   "outputs": [],
   "source": [
    "ts_95765 = df_sac.loc[df_sac['Zip'] == geog_area]  # ts for all of the following functions should have only one zipcode\n",
    "ts_95765.head()\n"
   ]
  },
  {
   "cell_type": "code",
   "execution_count": null,
   "metadata": {
    "scrolled": true
   },
   "outputs": [],
   "source": [
    "ts_95765.tail()"
   ]
  },
  {
   "cell_type": "code",
   "execution_count": null,
   "metadata": {},
   "outputs": [],
   "source": [
    "# ts = ts.value\n",
    "\n",
    "ts_95765_values = ts_95765.value"
   ]
  },
  {
   "cell_type": "code",
   "execution_count": null,
   "metadata": {},
   "outputs": [],
   "source": [
    "ts_95765_values.head()"
   ]
  },
  {
   "cell_type": "code",
   "execution_count": null,
   "metadata": {},
   "outputs": [],
   "source": [
    "ts_95765_values.tail()"
   ]
  },
  {
   "cell_type": "markdown",
   "metadata": {},
   "source": [
    "### Visualizations"
   ]
  },
  {
   "cell_type": "markdown",
   "metadata": {},
   "source": [
    "#### plot_ts:  Plot zip code(s) of interest over time, with market highs and lows"
   ]
  },
  {
   "cell_type": "code",
   "execution_count": null,
   "metadata": {
    "scrolled": false
   },
   "outputs": [],
   "source": [
    "# fig, ax = plot_ts(df_melt, zipcodes=['95616', '92008', '90035', '90025', '60625', '57701'])  # enter desired zip code(s)\n",
    "\n",
    "fig, ax = plot_ts_zips(df_melt, zipcodes=['95765'], figsize=(12,6))  # enter desired zip code(s)"
   ]
  },
  {
   "cell_type": "markdown",
   "metadata": {},
   "source": [
    "#### Boxplot of zip code"
   ]
  },
  {
   "cell_type": "code",
   "execution_count": null,
   "metadata": {},
   "outputs": [],
   "source": [
    "ts_95765.boxplot(column = 'value')\n",
    "plt.title('95765');\n"
   ]
  },
  {
   "cell_type": "markdown",
   "metadata": {},
   "source": [
    "### Plot ACF and PACF for ts dataframe"
   ]
  },
  {
   "cell_type": "code",
   "execution_count": null,
   "metadata": {
    "scrolled": false
   },
   "outputs": [],
   "source": [
    "# plot_acf_pacf(ts, figsize=(10,6), lags=15)  # note that ts must only contain values and time as index\n",
    "\n",
    "plot_acf_pacf(ts_95765_values, figsize=(10,6), lags=15)"
   ]
  },
  {
   "cell_type": "markdown",
   "metadata": {},
   "source": [
    "### Plot seasonal decomposition for ts dataframe"
   ]
  },
  {
   "cell_type": "code",
   "execution_count": null,
   "metadata": {
    "scrolled": false
   },
   "outputs": [],
   "source": [
    "# plot_seasonal_decomp(ts)\n",
    "\n",
    "plot_seasonal_decomp(ts_95765_values)\n",
    "\n",
    "# Seasonality does not appear to be a significant factor in this zip code."
   ]
  },
  {
   "cell_type": "markdown",
   "metadata": {},
   "source": [
    "## ARIMA model parameters and optimization"
   ]
  },
  {
   "cell_type": "markdown",
   "metadata": {},
   "source": [
    "### Generate list of (p,d,q) and (p,d,q,m) values"
   ]
  },
  {
   "cell_type": "code",
   "execution_count": null,
   "metadata": {},
   "outputs": [],
   "source": [
    "p_values = [0, 1, 2, 4, 6, 8]\n",
    "d_values = range(0, 3)\n",
    "q_values = range(0, 3)\n",
    "warnings.filterwarnings(\"ignore\")"
   ]
  },
  {
   "cell_type": "markdown",
   "metadata": {},
   "source": [
    "### Run ARIMA model on ts dataframe with list of p,d,q values "
   ]
  },
  {
   "cell_type": "code",
   "execution_count": null,
   "metadata": {},
   "outputs": [],
   "source": [
    "# eval_arima_models(ts, p_values, d_values, q_values)  # don't run this until you have some time, since it take time\n",
    "# note that ts must only contain values and time as index\n",
    "\n",
    "# eval_arima_models(ts_95765_values, p_values, d_values, q_values)  # don't run this until you have some time, since it takes time\n"
   ]
  },
  {
   "cell_type": "markdown",
   "metadata": {},
   "source": [
    "### Generate model fit summary"
   ]
  },
  {
   "cell_type": "code",
   "execution_count": null,
   "metadata": {
    "scrolled": true
   },
   "outputs": [],
   "source": [
    "# model_fit = arima_zipcode(ts, order = None)   # change order = tuple to correspond to the best MSE produced by previous function\n",
    "\n",
    "# Best ARIMA(4, 1, 2) MSE=958549.703\n",
    "\n",
    "model_fit_95765 = arima_zipcode(ts_95765_values, order = (4,1,2))\n"
   ]
  },
  {
   "cell_type": "markdown",
   "metadata": {},
   "source": [
    "## ARIMA modeling results:  predictions and visualization"
   ]
  },
  {
   "cell_type": "markdown",
   "metadata": {},
   "source": [
    "### Produce forecasts from ARIMA model fit"
   ]
  },
  {
   "cell_type": "code",
   "execution_count": null,
   "metadata": {},
   "outputs": [],
   "source": [
    "actual_forecast_95765, std_error_95765, forecast_confint_95765 = forecast(model_fit_95765)\n"
   ]
  },
  {
   "cell_type": "code",
   "execution_count": null,
   "metadata": {},
   "outputs": [],
   "source": [
    "actual_forecast_95765, std_error_95765, forecast_confint_95765"
   ]
  },
  {
   "cell_type": "markdown",
   "metadata": {},
   "source": [
    "### Create dataframe to hold forecast results"
   ]
  },
  {
   "cell_type": "code",
   "execution_count": null,
   "metadata": {},
   "outputs": [],
   "source": [
    "# df_forecast = forecast_df(col = 'time', daterange = pd.date_range(start='2018-05-01', end='2020-04-01', freq='MS'), \n",
    "#                 actual_forecast=actual_forecast, forecast_confint = forecast_confint)\n",
    "\n",
    "df_forecast_95765 = forecast_df(actual_forecast_95765, forecast_confint_95765, col = 'time', \n",
    "                                daterange = pd.date_range(start='2018-05-01', end='2020-04-01', freq='MS'))"
   ]
  },
  {
   "cell_type": "markdown",
   "metadata": {},
   "source": [
    "### Create new dataframe concatenating historic values and forecast results"
   ]
  },
  {
   "cell_type": "code",
   "execution_count": null,
   "metadata": {},
   "outputs": [],
   "source": [
    "# df_new = concat_values_forecast(ts, df_forecast)\n",
    "\n",
    "df_new_95765 = concat_values_forecast(ts_95765_values, df_forecast_95765)"
   ]
  },
  {
   "cell_type": "code",
   "execution_count": null,
   "metadata": {},
   "outputs": [],
   "source": [
    "df_new_95765.head()"
   ]
  },
  {
   "cell_type": "markdown",
   "metadata": {},
   "source": [
    "### Calculate predicted, lower bound, and upper bound forecasted prices"
   ]
  },
  {
   "cell_type": "code",
   "execution_count": null,
   "metadata": {},
   "outputs": [],
   "source": [
    "forecasted_price_95765, forecasted_lower_95765, forecasted_upper_95765 = forecast_values(df_new_95765)"
   ]
  },
  {
   "cell_type": "code",
   "execution_count": null,
   "metadata": {},
   "outputs": [],
   "source": [
    "forecasted_price_95765, forecasted_lower_95765, forecasted_upper_95765  # predicted, best-case, and worst-case prices in 2020"
   ]
  },
  {
   "cell_type": "code",
   "execution_count": null,
   "metadata": {},
   "outputs": [],
   "source": [
    "last_value_95765 = df_new_95765['value'].loc['2018-04-01']"
   ]
  },
  {
   "cell_type": "code",
   "execution_count": null,
   "metadata": {},
   "outputs": [],
   "source": [
    "last_value_95765"
   ]
  },
  {
   "cell_type": "markdown",
   "metadata": {},
   "source": [
    "### Plot forecast with confidence intervals"
   ]
  },
  {
   "cell_type": "code",
   "execution_count": null,
   "metadata": {
    "scrolled": false
   },
   "outputs": [],
   "source": [
    "# plot_forecast(df = df_new, figsize=(12,8), geog=None)\n",
    "\n",
    "plot_forecast(df_new_95765, figsize=(12,8), geog='95765 (Rocklin)')"
   ]
  },
  {
   "cell_type": "markdown",
   "metadata": {},
   "source": [
    "### Print summary of predicted, worst-case, and best-case scenarios"
   ]
  },
  {
   "cell_type": "code",
   "execution_count": null,
   "metadata": {
    "scrolled": true
   },
   "outputs": [],
   "source": [
    "rocklin_95765_pred, rocklin_95765_low, rocklin_95765_high = pred_best_worst(pred=forecasted_price_95765, low=forecasted_lower_95765, \n",
    "                                                                            high=forecasted_upper_95765, last=last_value_95765, date='April 1, 2020')\n",
    "rocklin_95765_pred, rocklin_95765_low, rocklin_95765_high "
   ]
  },
  {
   "cell_type": "markdown",
   "metadata": {},
   "source": [
    "## Zip code 95765 (Rocklin):  Solid investment opportunity with minimal downside\n",
    "\n",
    "By the model prediction, I would expect to see a 11.779% change in price by April 1, 2020.\n",
    "At the lower bound of the confidence interval, I would expect to see a -8.471% change in price by April 1, 2020.\n",
    "At the upper bound of the confidence interval, I would expect to see a 32.029% change in price by April 1, 2020.\n"
   ]
  },
  {
   "cell_type": "markdown",
   "metadata": {},
   "source": [
    "# SacMetro:  95602 (Auburn) -- Strong investment opportunity with minimal downside"
   ]
  },
  {
   "cell_type": "code",
   "execution_count": null,
   "metadata": {},
   "outputs": [],
   "source": [
    "geog_area = '95602'"
   ]
  },
  {
   "cell_type": "code",
   "execution_count": null,
   "metadata": {},
   "outputs": [],
   "source": [
    "ts_95602 = df_sac.loc[df_sac['Zip'] == geog_area]  # ts for all of the following functions should have only one zipcode\n",
    "ts_95602.head()\n"
   ]
  },
  {
   "cell_type": "code",
   "execution_count": null,
   "metadata": {
    "scrolled": true
   },
   "outputs": [],
   "source": [
    "ts_95602.tail()"
   ]
  },
  {
   "cell_type": "code",
   "execution_count": null,
   "metadata": {},
   "outputs": [],
   "source": [
    "# ts = ts.value\n",
    "\n",
    "ts_95602_values = ts_95602.value"
   ]
  },
  {
   "cell_type": "code",
   "execution_count": null,
   "metadata": {},
   "outputs": [],
   "source": [
    "# ts.head()\n",
    "\n",
    "ts_95602_values.head()"
   ]
  },
  {
   "cell_type": "code",
   "execution_count": null,
   "metadata": {},
   "outputs": [],
   "source": [
    "ts_95602_values.tail()"
   ]
  },
  {
   "cell_type": "markdown",
   "metadata": {},
   "source": [
    "### Visualizations"
   ]
  },
  {
   "cell_type": "markdown",
   "metadata": {},
   "source": [
    "#### plot_ts:  Plot zip code(s) of interest over time, with market highs and lows"
   ]
  },
  {
   "cell_type": "code",
   "execution_count": null,
   "metadata": {
    "scrolled": false
   },
   "outputs": [],
   "source": [
    "# fig, ax = plot_ts(df_melt, zipcodes=['95616', '92008', '90035', '90025', '60625', '57701'])  # enter desired zip code(s)\n",
    "\n",
    "fig, ax = plot_ts_zips(df_melt, zipcodes=['95602'], figsize=(12,6))  # enter desired zip code(s)"
   ]
  },
  {
   "cell_type": "markdown",
   "metadata": {},
   "source": [
    "#### Boxplot of zip code"
   ]
  },
  {
   "cell_type": "code",
   "execution_count": null,
   "metadata": {},
   "outputs": [],
   "source": [
    "ts_95602.boxplot(column = 'value')\n",
    "plt.title('95602');\n"
   ]
  },
  {
   "cell_type": "markdown",
   "metadata": {},
   "source": [
    "### Plot ACF and PACF for ts dataframe"
   ]
  },
  {
   "cell_type": "code",
   "execution_count": null,
   "metadata": {
    "scrolled": false
   },
   "outputs": [],
   "source": [
    "# plot_acf_pacf(ts, figsize=(10,6), lags=15)  # note that ts must only contain values and time as index\n",
    "\n",
    "plot_acf_pacf(ts_95602_values, figsize=(10,6), lags=15)"
   ]
  },
  {
   "cell_type": "markdown",
   "metadata": {},
   "source": [
    "### Plot seasonal decomposition for ts dataframe"
   ]
  },
  {
   "cell_type": "code",
   "execution_count": null,
   "metadata": {
    "scrolled": false
   },
   "outputs": [],
   "source": [
    "# plot_seasonal_decomp(ts)\n",
    "\n",
    "plot_seasonal_decomp(ts_95602_values)\n",
    "\n",
    "# Seasonality does not appear to be a significant factor in this zip code."
   ]
  },
  {
   "cell_type": "markdown",
   "metadata": {},
   "source": [
    "## ARIMA model parameters and optimization"
   ]
  },
  {
   "cell_type": "markdown",
   "metadata": {},
   "source": [
    "### Generate list of (p,d,q) and (p,d,q,m) values"
   ]
  },
  {
   "cell_type": "code",
   "execution_count": null,
   "metadata": {},
   "outputs": [],
   "source": [
    "p_values = [0, 1, 2, 4, 6, 8]\n",
    "d_values = range(0, 3)\n",
    "q_values = range(0, 3)\n",
    "warnings.filterwarnings(\"ignore\")"
   ]
  },
  {
   "cell_type": "markdown",
   "metadata": {},
   "source": [
    "### Run ARIMA model on ts dataframe with list of p,d,q values "
   ]
  },
  {
   "cell_type": "code",
   "execution_count": null,
   "metadata": {},
   "outputs": [],
   "source": [
    "# eval_arima_models(ts, p_values, d_values, q_values)  # don't run this until you have some time, since it take time\n",
    "# note that ts must only contain values and time as index\n",
    "\n",
    "# eval_arima_models(ts_95602_values, p_values, d_values, q_values)  # don't run this until you have some time, since it takes time\n"
   ]
  },
  {
   "cell_type": "markdown",
   "metadata": {},
   "source": [
    "### Generate model fit summary"
   ]
  },
  {
   "cell_type": "code",
   "execution_count": null,
   "metadata": {
    "scrolled": true
   },
   "outputs": [],
   "source": [
    "# model_fit = arima_zipcode(ts, order = None)   # change order = tuple to correspond to the best MSE produced by previous function\n",
    "\n",
    "# Best ARIMA(4, 0, 2) MSE=584168.034\n",
    "\n",
    "model_fit_95602 = arima_zipcode(ts_95602_values, order = (4,1,2))\n"
   ]
  },
  {
   "cell_type": "markdown",
   "metadata": {},
   "source": [
    "## ARIMA modeling results:  predictions and visualization"
   ]
  },
  {
   "cell_type": "markdown",
   "metadata": {},
   "source": [
    "### Produce forecasts from ARIMA model fit"
   ]
  },
  {
   "cell_type": "code",
   "execution_count": null,
   "metadata": {},
   "outputs": [],
   "source": [
    "actual_forecast_95602, std_error_95602, forecast_confint_95602 = forecast(model_fit_95602)\n"
   ]
  },
  {
   "cell_type": "code",
   "execution_count": null,
   "metadata": {},
   "outputs": [],
   "source": [
    "actual_forecast_95602, std_error_95602, forecast_confint_95602"
   ]
  },
  {
   "cell_type": "markdown",
   "metadata": {},
   "source": [
    "### Create dataframe to hold forecast results"
   ]
  },
  {
   "cell_type": "code",
   "execution_count": null,
   "metadata": {},
   "outputs": [],
   "source": [
    "# df_forecast = forecast_df(col = 'time', daterange = pd.date_range(start='2018-05-01', end='2020-04-01', freq='MS'), \n",
    "#                 actual_forecast=actual_forecast, forecast_confint = forecast_confint)\n",
    "\n",
    "df_forecast_95602 = forecast_df(actual_forecast_95602, forecast_confint_95602, col = 'time', \n",
    "                                daterange = pd.date_range(start='2018-05-01', end='2020-04-01', freq='MS'))"
   ]
  },
  {
   "cell_type": "markdown",
   "metadata": {},
   "source": [
    "### Create new dataframe concatenating historic values and forecast results"
   ]
  },
  {
   "cell_type": "code",
   "execution_count": null,
   "metadata": {},
   "outputs": [],
   "source": [
    "# df_new = concat_values_forecast(ts, df_forecast)\n",
    "\n",
    "df_new_95602 = concat_values_forecast(ts_95602_values, df_forecast_95602)"
   ]
  },
  {
   "cell_type": "code",
   "execution_count": null,
   "metadata": {},
   "outputs": [],
   "source": [
    "df_new_95602.head()"
   ]
  },
  {
   "cell_type": "markdown",
   "metadata": {},
   "source": [
    "### Calculate predicted, lower bound, and upper bound forecasted prices"
   ]
  },
  {
   "cell_type": "code",
   "execution_count": null,
   "metadata": {},
   "outputs": [],
   "source": [
    "forecasted_price_95602, forecasted_lower_95602, forecasted_upper_95602 = forecast_values(df_new_95602)"
   ]
  },
  {
   "cell_type": "code",
   "execution_count": null,
   "metadata": {},
   "outputs": [],
   "source": [
    "forecasted_price_95602, forecasted_lower_95602, forecasted_upper_95602  # predicted, best-case, and worst-case prices in 2020\n"
   ]
  },
  {
   "cell_type": "code",
   "execution_count": null,
   "metadata": {},
   "outputs": [],
   "source": [
    "last_value_95602 = df_new_95602['value'].loc['2018-04-01']"
   ]
  },
  {
   "cell_type": "code",
   "execution_count": null,
   "metadata": {},
   "outputs": [],
   "source": [
    "last_value_95602"
   ]
  },
  {
   "cell_type": "markdown",
   "metadata": {},
   "source": [
    "### Plot forecast with confidence intervals"
   ]
  },
  {
   "cell_type": "code",
   "execution_count": null,
   "metadata": {
    "scrolled": false
   },
   "outputs": [],
   "source": [
    "# plot_forecast(df = df_new, figsize=(12,8), geog=None)\n",
    "\n",
    "plot_forecast(df_new_95602, figsize=(12,8), geog='95602 (Auburn)')"
   ]
  },
  {
   "cell_type": "markdown",
   "metadata": {},
   "source": [
    "### Print summary of predicted, worst-case, and best-case scenarios"
   ]
  },
  {
   "cell_type": "code",
   "execution_count": null,
   "metadata": {
    "scrolled": false
   },
   "outputs": [],
   "source": [
    "auburn_95602_pred, auburn_95602_low, auburn_95602_high = pred_best_worst(pred=forecasted_price_95602, low=forecasted_lower_95602, \n",
    "                                                                         high=forecasted_upper_95602, last=last_value_95602, date='April 1, 2020')\n",
    "auburn_95602_pred, auburn_95602_low, auburn_95602_high "
   ]
  },
  {
   "cell_type": "markdown",
   "metadata": {},
   "source": [
    "## Zip code 95602 (Auburn):  Strong investment opportunity with minimal downside\n",
    "\n",
    "By the model prediction, I would expect to see a 11.831% change in price by April 1, 2020.\n",
    "At the lower bound of the confidence interval, I would expect to see a -7.957% change in price by April 1, 2020.\n",
    "At the upper bound of the confidence interval, I would expect to see a 31.619% change in price by April 1, 2020."
   ]
  },
  {
   "cell_type": "markdown",
   "metadata": {},
   "source": [
    "# SacMetro:  96150 (South Lake Tahoe) -- "
   ]
  },
  {
   "cell_type": "code",
   "execution_count": null,
   "metadata": {},
   "outputs": [],
   "source": [
    "geog_area = '96150'"
   ]
  },
  {
   "cell_type": "code",
   "execution_count": null,
   "metadata": {},
   "outputs": [],
   "source": [
    "ts_96150 = df_sac.loc[df_sac['Zip'] == geog_area]  # ts for all of the following functions should have only one zipcode\n",
    "ts_96150.head()\n"
   ]
  },
  {
   "cell_type": "code",
   "execution_count": null,
   "metadata": {
    "scrolled": true
   },
   "outputs": [],
   "source": [
    "ts_96150.tail()"
   ]
  },
  {
   "cell_type": "code",
   "execution_count": null,
   "metadata": {},
   "outputs": [],
   "source": [
    "# ts = ts.value\n",
    "\n",
    "ts_96150_values = ts_96150.value"
   ]
  },
  {
   "cell_type": "code",
   "execution_count": null,
   "metadata": {},
   "outputs": [],
   "source": [
    "# ts.head()\n",
    "\n",
    "ts_96150_values.head()"
   ]
  },
  {
   "cell_type": "code",
   "execution_count": null,
   "metadata": {},
   "outputs": [],
   "source": [
    "ts_96150_values.tail()"
   ]
  },
  {
   "cell_type": "markdown",
   "metadata": {},
   "source": [
    "### Visualizations"
   ]
  },
  {
   "cell_type": "markdown",
   "metadata": {},
   "source": [
    "#### plot_ts:  Plot zip code(s) of interest over time, with market highs and lows"
   ]
  },
  {
   "cell_type": "code",
   "execution_count": null,
   "metadata": {
    "scrolled": false
   },
   "outputs": [],
   "source": [
    "# fig, ax = plot_ts(df_melt, zipcodes=['95616', '92008', '90035', '90025', '60625', '57701'])  # enter desired zip code(s)\n",
    "\n",
    "fig, ax = plot_ts_zips(df_melt, zipcodes=['96150'], figsize=(12,6))  # enter desired zip code(s)"
   ]
  },
  {
   "cell_type": "markdown",
   "metadata": {},
   "source": [
    "#### Boxplot of zip code"
   ]
  },
  {
   "cell_type": "code",
   "execution_count": null,
   "metadata": {},
   "outputs": [],
   "source": [
    "ts_96150.boxplot(column = 'value')\n",
    "plt.title('95602');\n"
   ]
  },
  {
   "cell_type": "markdown",
   "metadata": {},
   "source": [
    "### Plot ACF and PACF for ts dataframe"
   ]
  },
  {
   "cell_type": "code",
   "execution_count": null,
   "metadata": {
    "scrolled": false
   },
   "outputs": [],
   "source": [
    "# plot_acf_pacf(ts, figsize=(10,6), lags=15)  # note that ts must only contain values and time as index\n",
    "\n",
    "plot_acf_pacf(ts_96150_values, figsize=(10,6), lags=15)"
   ]
  },
  {
   "cell_type": "markdown",
   "metadata": {},
   "source": [
    "### Plot seasonal decomposition for ts dataframe"
   ]
  },
  {
   "cell_type": "code",
   "execution_count": null,
   "metadata": {
    "scrolled": false
   },
   "outputs": [],
   "source": [
    "# plot_seasonal_decomp(ts)\n",
    "\n",
    "plot_seasonal_decomp(ts_96150_values)\n",
    "\n",
    "# Seasonality does not appear to be a significant factor in this zip code."
   ]
  },
  {
   "cell_type": "markdown",
   "metadata": {},
   "source": [
    "## ARIMA model parameters and optimization"
   ]
  },
  {
   "cell_type": "markdown",
   "metadata": {},
   "source": [
    "### Generate list of (p,d,q) and (p,d,q,m) values"
   ]
  },
  {
   "cell_type": "code",
   "execution_count": null,
   "metadata": {},
   "outputs": [],
   "source": [
    "p_values = [0, 1, 2, 4, 6, 8]\n",
    "d_values = range(0, 3)\n",
    "q_values = range(0, 3)\n",
    "warnings.filterwarnings(\"ignore\")"
   ]
  },
  {
   "cell_type": "markdown",
   "metadata": {},
   "source": [
    "### Run ARIMA model on ts dataframe with list of p,d,q values "
   ]
  },
  {
   "cell_type": "code",
   "execution_count": null,
   "metadata": {},
   "outputs": [],
   "source": [
    "# eval_arima_models(ts, p_values, d_values, q_values)  # don't run this until you have some time, since it take time\n",
    "# note that ts must only contain values and time as index\n",
    "\n",
    "# eval_arima_models(ts_96150_values, p_values, d_values, q_values)  # don't run this until you have some time, since it takes time\n"
   ]
  },
  {
   "cell_type": "markdown",
   "metadata": {},
   "source": [
    "### Generate model fit summary"
   ]
  },
  {
   "cell_type": "code",
   "execution_count": null,
   "metadata": {
    "scrolled": true
   },
   "outputs": [],
   "source": [
    "# model_fit = arima_zipcode(ts, order = None)   # change order = tuple to correspond to the best MSE produced by previous function\n",
    "\n",
    "# Best ARIMA(2, 1, 2) MSE=700451.029\n",
    "\n",
    "model_fit_96150 = arima_zipcode(ts_96150_values, order = (2,1,2))\n"
   ]
  },
  {
   "cell_type": "markdown",
   "metadata": {},
   "source": [
    "## ARIMA modeling results:  predictions and visualization"
   ]
  },
  {
   "cell_type": "markdown",
   "metadata": {},
   "source": [
    "### Produce forecasts from ARIMA model fit"
   ]
  },
  {
   "cell_type": "code",
   "execution_count": null,
   "metadata": {},
   "outputs": [],
   "source": [
    "actual_forecast_96150, std_error_96150, forecast_confint_96150 = forecast(model_fit_96150)\n"
   ]
  },
  {
   "cell_type": "code",
   "execution_count": null,
   "metadata": {},
   "outputs": [],
   "source": [
    "actual_forecast_96150, std_error_96150, forecast_confint_96150"
   ]
  },
  {
   "cell_type": "markdown",
   "metadata": {},
   "source": [
    "### Create dataframe to hold forecast results"
   ]
  },
  {
   "cell_type": "code",
   "execution_count": null,
   "metadata": {},
   "outputs": [],
   "source": [
    "# df_forecast = forecast_df(col = 'time', daterange = pd.date_range(start='2018-05-01', end='2020-04-01', freq='MS'), \n",
    "#                 actual_forecast=actual_forecast, forecast_confint = forecast_confint)\n",
    "\n",
    "df_forecast_96150 = forecast_df(actual_forecast_96150, forecast_confint_96150, col = 'time', \n",
    "                                daterange = pd.date_range(start='2018-05-01', end='2020-04-01', freq='MS'))"
   ]
  },
  {
   "cell_type": "markdown",
   "metadata": {},
   "source": [
    "### Create new dataframe concatenating historic values and forecast results"
   ]
  },
  {
   "cell_type": "code",
   "execution_count": null,
   "metadata": {},
   "outputs": [],
   "source": [
    "# df_new = concat_values_forecast(ts, df_forecast)\n",
    "\n",
    "df_new_96150 = concat_values_forecast(ts_96150_values, df_forecast_96150)"
   ]
  },
  {
   "cell_type": "code",
   "execution_count": null,
   "metadata": {},
   "outputs": [],
   "source": [
    "df_new_96150.head()"
   ]
  },
  {
   "cell_type": "markdown",
   "metadata": {},
   "source": [
    "### Calculate predicted, lower bound, and upper bound forecasted prices"
   ]
  },
  {
   "cell_type": "code",
   "execution_count": null,
   "metadata": {},
   "outputs": [],
   "source": [
    "forecasted_price_96150, forecasted_lower_96150, forecasted_upper_96150 = forecast_values(df_new_96150)"
   ]
  },
  {
   "cell_type": "code",
   "execution_count": null,
   "metadata": {},
   "outputs": [],
   "source": [
    "forecasted_price_96150, forecasted_lower_96150, forecasted_upper_96150  # predicted, best-case, and worst-case prices in 2020\n"
   ]
  },
  {
   "cell_type": "code",
   "execution_count": null,
   "metadata": {},
   "outputs": [],
   "source": [
    "last_value_96150 = df_new_96150['value'].loc['2018-04-01']"
   ]
  },
  {
   "cell_type": "code",
   "execution_count": null,
   "metadata": {},
   "outputs": [],
   "source": [
    "last_value_96150"
   ]
  },
  {
   "cell_type": "markdown",
   "metadata": {},
   "source": [
    "### Plot forecast with confidence intervals"
   ]
  },
  {
   "cell_type": "code",
   "execution_count": null,
   "metadata": {
    "scrolled": false
   },
   "outputs": [],
   "source": [
    "# plot_forecast(df = df_new, figsize=(12,8), geog=None)\n",
    "\n",
    "plot_forecast(df_new_96150, figsize=(12,8), geog='96150 (South Lake Tahoe)')"
   ]
  },
  {
   "cell_type": "markdown",
   "metadata": {},
   "source": [
    "### Print summary of predicted, worst-case, and best-case scenarios"
   ]
  },
  {
   "cell_type": "code",
   "execution_count": null,
   "metadata": {
    "scrolled": false
   },
   "outputs": [],
   "source": [
    "slt_96150_pred, slt_96150_low, slt_96150_high = pred_best_worst(pred=forecasted_price_96150, low=forecasted_lower_96150, \n",
    "                                                                         high=forecasted_upper_96150, last=last_value_96150, date='April 1, 2020')\n",
    "slt_96150_pred, slt_96150_low, slt_96150_high"
   ]
  },
  {
   "cell_type": "markdown",
   "metadata": {},
   "source": [
    "## Zip code  (South Lake Tahoe):  Good potential investment opportunity, with some downside but significant potential upside\n",
    "\n",
    "By the model prediction, I would expect to see a 8.539% change in price by April 1, 2020.\n",
    "At the lower bound of the confidence interval, I would expect to see a -14.673% change in price by April 1, 2020.\n",
    "At the upper bound of the confidence interval, I would expect to see a 31.75% change."
   ]
  },
  {
   "cell_type": "markdown",
   "metadata": {},
   "source": [
    "# SacMetro:  95650 (Loomis) -- Excellent investment opportunity with limited downside and large potential upside"
   ]
  },
  {
   "cell_type": "code",
   "execution_count": null,
   "metadata": {},
   "outputs": [],
   "source": [
    "geog_area = '95650'"
   ]
  },
  {
   "cell_type": "code",
   "execution_count": null,
   "metadata": {},
   "outputs": [],
   "source": [
    "ts_95650 = df_sac.loc[df_sac['Zip'] == geog_area]  # ts for all of the following functions should have only one zipcode\n",
    "ts_95650.head()\n"
   ]
  },
  {
   "cell_type": "code",
   "execution_count": null,
   "metadata": {
    "scrolled": true
   },
   "outputs": [],
   "source": [
    "ts_95650.tail()"
   ]
  },
  {
   "cell_type": "code",
   "execution_count": null,
   "metadata": {},
   "outputs": [],
   "source": [
    "# ts = ts.value\n",
    "\n",
    "ts_95650_values = ts_95650.value"
   ]
  },
  {
   "cell_type": "code",
   "execution_count": null,
   "metadata": {},
   "outputs": [],
   "source": [
    "# ts.head()\n",
    "\n",
    "ts_95650_values.head()"
   ]
  },
  {
   "cell_type": "code",
   "execution_count": null,
   "metadata": {},
   "outputs": [],
   "source": [
    "ts_95650_values.tail()"
   ]
  },
  {
   "cell_type": "markdown",
   "metadata": {},
   "source": [
    "### Visualizations"
   ]
  },
  {
   "cell_type": "markdown",
   "metadata": {},
   "source": [
    "#### plot_ts:  Plot zip code(s) of interest over time, with market highs and lows"
   ]
  },
  {
   "cell_type": "code",
   "execution_count": null,
   "metadata": {
    "scrolled": false
   },
   "outputs": [],
   "source": [
    "# fig, ax = plot_ts(df_melt, zipcodes=['95616', '92008', '90035', '90025', '60625', '57701'])  # enter desired zip code(s)\n",
    "\n",
    "fig, ax = plot_ts_zips(df_melt, zipcodes=['95650'], figsize=(12,6))  # enter desired zip code(s)"
   ]
  },
  {
   "cell_type": "markdown",
   "metadata": {},
   "source": [
    "#### Boxplot of zip code"
   ]
  },
  {
   "cell_type": "code",
   "execution_count": null,
   "metadata": {},
   "outputs": [],
   "source": [
    "ts_95650.boxplot(column = 'value')\n",
    "plt.title('95650');\n"
   ]
  },
  {
   "cell_type": "markdown",
   "metadata": {},
   "source": [
    "### Plot ACF and PACF for ts dataframe"
   ]
  },
  {
   "cell_type": "code",
   "execution_count": null,
   "metadata": {
    "scrolled": false
   },
   "outputs": [],
   "source": [
    "# plot_acf_pacf(ts, figsize=(10,6), lags=15)  # note that ts must only contain values and time as index\n",
    "\n",
    "plot_acf_pacf(ts_95650_values, figsize=(10,6), lags=15)"
   ]
  },
  {
   "cell_type": "markdown",
   "metadata": {},
   "source": [
    "### Plot seasonal decomposition for ts dataframe"
   ]
  },
  {
   "cell_type": "code",
   "execution_count": null,
   "metadata": {
    "scrolled": false
   },
   "outputs": [],
   "source": [
    "# plot_seasonal_decomp(ts)\n",
    "\n",
    "plot_seasonal_decomp(ts_95650_values)\n",
    "\n",
    "# Seasonality does not appear to be a significant factor in this zip code."
   ]
  },
  {
   "cell_type": "markdown",
   "metadata": {},
   "source": [
    "## ARIMA model parameters and optimization"
   ]
  },
  {
   "cell_type": "markdown",
   "metadata": {},
   "source": [
    "### Generate list of (p,d,q) and (p,d,q,m) values"
   ]
  },
  {
   "cell_type": "code",
   "execution_count": null,
   "metadata": {},
   "outputs": [],
   "source": [
    "p_values = [0, 1, 2, 4, 6, 8]\n",
    "d_values = range(0, 3)\n",
    "q_values = range(0, 3)\n",
    "warnings.filterwarnings(\"ignore\")"
   ]
  },
  {
   "cell_type": "markdown",
   "metadata": {},
   "source": [
    "### Run ARIMA model on ts dataframe with list of p,d,q values "
   ]
  },
  {
   "cell_type": "code",
   "execution_count": null,
   "metadata": {},
   "outputs": [],
   "source": [
    "# eval_arima_models(ts, p_values, d_values, q_values)  # don't run this until you have some time, since it take time\n",
    "# note that ts must only contain values and time as index\n",
    "\n",
    "# eval_arima_models(ts_95650_values, p_values, d_values, q_values)  # don't run this until you have some time, since it takes time\n"
   ]
  },
  {
   "cell_type": "markdown",
   "metadata": {},
   "source": [
    "### Generate model fit summary"
   ]
  },
  {
   "cell_type": "code",
   "execution_count": null,
   "metadata": {
    "scrolled": true
   },
   "outputs": [],
   "source": [
    "# model_fit = arima_zipcode(ts, order = None)   # change order = tuple to correspond to the best MSE produced by previous function\n",
    "\n",
    "# Best ARIMA(8, 1, 2) MSE=3366956.253\n",
    "\n",
    "model_fit_95650 = arima_zipcode(ts_95650_values, order = (8, 1, 2))\n"
   ]
  },
  {
   "cell_type": "markdown",
   "metadata": {},
   "source": [
    "## ARIMA modeling results:  predictions and visualization"
   ]
  },
  {
   "cell_type": "markdown",
   "metadata": {},
   "source": [
    "### Produce forecasts from ARIMA model fit"
   ]
  },
  {
   "cell_type": "code",
   "execution_count": null,
   "metadata": {},
   "outputs": [],
   "source": [
    "actual_forecast_95650, std_error_95650, forecast_confint_95650 = forecast(model_fit_95650)\n"
   ]
  },
  {
   "cell_type": "code",
   "execution_count": null,
   "metadata": {},
   "outputs": [],
   "source": [
    "actual_forecast_95650, std_error_95650, forecast_confint_95650"
   ]
  },
  {
   "cell_type": "markdown",
   "metadata": {},
   "source": [
    "### Create dataframe to hold forecast results"
   ]
  },
  {
   "cell_type": "code",
   "execution_count": null,
   "metadata": {},
   "outputs": [],
   "source": [
    "# df_forecast = forecast_df(col = 'time', daterange = pd.date_range(start='2018-05-01', end='2020-04-01', freq='MS'), \n",
    "#                 actual_forecast=actual_forecast, forecast_confint = forecast_confint)\n",
    "\n",
    "df_forecast_95650 = forecast_df(actual_forecast_95650, forecast_confint_95650, col = 'time', \n",
    "                                daterange = pd.date_range(start='2018-05-01', end='2020-04-01', freq='MS'))"
   ]
  },
  {
   "cell_type": "markdown",
   "metadata": {},
   "source": [
    "### Create new dataframe concatenating historic values and forecast results"
   ]
  },
  {
   "cell_type": "code",
   "execution_count": null,
   "metadata": {},
   "outputs": [],
   "source": [
    "# df_new = concat_values_forecast(ts, df_forecast)\n",
    "\n",
    "df_new_95650 = concat_values_forecast(ts_95650_values, df_forecast_95650)"
   ]
  },
  {
   "cell_type": "code",
   "execution_count": null,
   "metadata": {},
   "outputs": [],
   "source": [
    "df_new_95650.head()"
   ]
  },
  {
   "cell_type": "markdown",
   "metadata": {},
   "source": [
    "### Calculate predicted, lower bound, and upper bound forecasted prices"
   ]
  },
  {
   "cell_type": "code",
   "execution_count": null,
   "metadata": {},
   "outputs": [],
   "source": [
    "forecasted_price_95650, forecasted_lower_95650, forecasted_upper_95650 = forecast_values(df_new_95650)"
   ]
  },
  {
   "cell_type": "code",
   "execution_count": null,
   "metadata": {},
   "outputs": [],
   "source": [
    "forecasted_price_95650, forecasted_lower_95650, forecasted_upper_95650  # predicted, best-case, and worst-case prices in 2020\n"
   ]
  },
  {
   "cell_type": "code",
   "execution_count": null,
   "metadata": {},
   "outputs": [],
   "source": [
    "last_value_95650 = df_new_95650['value'].loc['2018-04-01']"
   ]
  },
  {
   "cell_type": "code",
   "execution_count": null,
   "metadata": {},
   "outputs": [],
   "source": [
    "last_value_95650"
   ]
  },
  {
   "cell_type": "markdown",
   "metadata": {},
   "source": [
    "### Plot forecast with confidence intervals"
   ]
  },
  {
   "cell_type": "code",
   "execution_count": null,
   "metadata": {
    "scrolled": false
   },
   "outputs": [],
   "source": [
    "# plot_forecast(df = df_new, figsize=(12,8), geog=None)\n",
    "\n",
    "plot_forecast(df_new_95650, figsize=(12,8), geog='95650 (Loomis)')"
   ]
  },
  {
   "cell_type": "markdown",
   "metadata": {},
   "source": [
    "### Print summary of predicted, worst-case, and best-case scenarios"
   ]
  },
  {
   "cell_type": "code",
   "execution_count": null,
   "metadata": {
    "scrolled": false
   },
   "outputs": [],
   "source": [
    "loomis_95650_pred, loomis_95650_low, loomis_95650_high = pred_best_worst(pred=forecasted_price_95650, low=forecasted_lower_95650, \n",
    "                                                                         high=forecasted_upper_95650, last=last_value_95650, date='April 1, 2020')\n",
    "loomis_95650_pred, loomis_95650_low, loomis_95650_high"
   ]
  },
  {
   "cell_type": "markdown",
   "metadata": {},
   "source": [
    "## Zip code 95650 (Loomis):  Excellent investment opportunity with limited downside and large potential upside\n",
    "\n",
    "By the model prediction, I would expect to see a 12.756% change in price by April 1, 2020.\n",
    "At the lower bound of the confidence interval, I would expect to see a -8.199% change in price by April 1, 2020.\n",
    "At the upper bound of the confidence interval, I would expect to see a 33.712% change in price by April 1, 2020.\n"
   ]
  },
  {
   "cell_type": "markdown",
   "metadata": {},
   "source": [
    "# Dataframe summarizing findings"
   ]
  },
  {
   "cell_type": "code",
   "execution_count": null,
   "metadata": {},
   "outputs": [],
   "source": [
    "zipcodes = ['95616', '95619', '95864', '95831', '96142', '95811', '95818', '95630', '96140', '95672', '95636', \n",
    "            '95709','95746', '95614', '95663', '95623', '95747', '95765', '95602', '96150' , '95650']\n",
    "len(zipcodes)"
   ]
  },
  {
   "cell_type": "code",
   "execution_count": null,
   "metadata": {},
   "outputs": [],
   "source": [
    "last_value_2018 = [last_value_95616, last_value_95619, last_value_95864, last_value_95831, last_value_96142, last_value_95811,\n",
    "                  last_value_95818, last_value_95630, last_value_96140, last_value_95672, last_value_95636, last_value_95709,\n",
    "                  last_value_95746, last_value_95614, last_value_95663, last_value_95623, last_value_95747, last_value_95765, \n",
    "                   last_value_95602, last_value_96150, last_value_95650]"
   ]
  },
  {
   "cell_type": "code",
   "execution_count": null,
   "metadata": {},
   "outputs": [],
   "source": [
    "len(last_value_2018)\n",
    "# last_value_2018"
   ]
  },
  {
   "cell_type": "code",
   "execution_count": null,
   "metadata": {},
   "outputs": [],
   "source": [
    "cities = ['Davis', 'Diamond Springs', 'Arden-Arcade', 'Sacramento_Pocket', 'Tahoma', 'Sacramento_DosRios', 'Sacramento_LandPark', 'Folsom', \n",
    "          'Carnelian Bay', 'Rescue', 'Somerset', 'Camino', 'Granite Bay', 'Cool', 'Penryn', 'El Dorado', \n",
    "         'Roseville', 'Rocklin', 'Auburn', 'South Lake Tahoe', 'Loomis']\n",
    "len(cities)\n",
    "cities"
   ]
  },
  {
   "cell_type": "code",
   "execution_count": null,
   "metadata": {},
   "outputs": [],
   "source": [
    "population = [45500, 4359, 92186, 42952, 1037, 7630, 21825, 74111, 1170, 4592, 1000, 4354, 22482, 3882, 2468, 3986,\n",
    "             72437, 41810, 18290, 30000, 12600]\n",
    "len(population)"
   ]
  },
  {
   "cell_type": "code",
   "execution_count": null,
   "metadata": {},
   "outputs": [],
   "source": [
    "county = ['Yolo', 'El Dorado', 'Sacramento', 'Sacramento', 'El Dorado', 'Sacramento', 'Sacramento', 'Sacramento', \n",
    "          'Placer', 'El Dorado', 'El Dorado', 'El Dorado', 'Placer', 'El Dorado', 'Placer', 'El Dorado', \n",
    "          'Placer', 'Placer', 'Placer', 'El Dorado', 'Placer']\n",
    "print(len(county))"
   ]
  },
  {
   "cell_type": "code",
   "execution_count": null,
   "metadata": {},
   "outputs": [],
   "source": [
    "invest_rec = ['mediocre','good', 'poor', 'poor', 'good', 'mediocre', 'poor', 'mediocre', 'excellent', \n",
    "              'excellent', 'good', 'poor', 'good', 'mediocre', 'excellent', 'good', 'good', 'excellent', \n",
    "              'excellent', 'good', 'excellent']\n",
    "len(invest_rec)"
   ]
  },
  {
   "cell_type": "code",
   "execution_count": null,
   "metadata": {},
   "outputs": [],
   "source": [
    "pred_value_pct_change = [davis_95616_pred, diamond_springs_95619_pred, arden_95864_pred, sac_pocket_95831_pred, tahoma_96142_pred, \n",
    "              sac_95811_pred, sac_95818_pred, folsom_95630_pred, cb_96140_pred, rescue_95672_pred, \n",
    "              somerset_95636_pred, camino_95709_pred, gb_95746_pred, cool_95614_pred, penryn_95663_pred, \n",
    "             eldorado_95623_pred, roseville_95747_pred, rocklin_95765_pred, auburn_95602_pred, slt_96150_pred, loomis_95650_pred]\n"
   ]
  },
  {
   "cell_type": "code",
   "execution_count": null,
   "metadata": {},
   "outputs": [],
   "source": [
    "len(pred_value_pct_change)"
   ]
  },
  {
   "cell_type": "code",
   "execution_count": null,
   "metadata": {},
   "outputs": [],
   "source": [
    "worst_case_pct_change = [davis_95616_lower, diamond_springs_95619_low, arden_95864_low, sac_pocket_95831_low, tahoma_96142_low, \n",
    "              sac_95811_low, sac_95818_low, folsom_95630_low, cb_96140_low, rescue_95672_low, \n",
    "              somerset_95636_low, camino_95709_low, gb_95746_low, cool_95614_low, penryn_95663_low, eldorado_95623_low, \n",
    "             roseville_95747_low, rocklin_95765_low, auburn_95602_low, slt_96150_low, loomis_95650_low]"
   ]
  },
  {
   "cell_type": "code",
   "execution_count": null,
   "metadata": {},
   "outputs": [],
   "source": [
    "len(worst_case_pct_change)"
   ]
  },
  {
   "cell_type": "code",
   "execution_count": null,
   "metadata": {},
   "outputs": [],
   "source": [
    "best_case_pct_change = [davis_95616_upper, diamond_springs_95619_high, arden_95864_high, sac_pocket_95831_high, tahoma_96142_high, \n",
    "             sac_95811_high, sac_95818_high, folsom_95630_high, cb_96140_high, rescue_95672_high, \n",
    "             somerset_95636_high, camino_95709_high, gb_95746_high, cool_95614_high, penryn_95663_high, eldorado_95623_high, \n",
    "            roseville_95747_high, rocklin_95765_high, auburn_95602_high, slt_96150_high, loomis_95650_high]"
   ]
  },
  {
   "cell_type": "code",
   "execution_count": null,
   "metadata": {},
   "outputs": [],
   "source": [
    "len(best_case_pct_change)"
   ]
  },
  {
   "cell_type": "code",
   "execution_count": null,
   "metadata": {},
   "outputs": [],
   "source": [
    "df_findings = pd.DataFrame({'ZIP code': zipcodes, '2018 value': last_value_2018, 'City': cities, 'Pop': population, 'County': county, \n",
    "                            'Investment rating': invest_rec, 'Predicted':pred_value_pct_change, 'Worst Case':worst_case_pct_change, \n",
    "                            'Best Case':best_case_pct_change})"
   ]
  },
  {
   "cell_type": "code",
   "execution_count": null,
   "metadata": {
    "scrolled": false
   },
   "outputs": [],
   "source": [
    "df_findings"
   ]
  },
  {
   "cell_type": "code",
   "execution_count": null,
   "metadata": {},
   "outputs": [],
   "source": [
    "df_findings.set_index('ZIP code', inplace=True)"
   ]
  },
  {
   "cell_type": "code",
   "execution_count": null,
   "metadata": {
    "scrolled": true
   },
   "outputs": [],
   "source": [
    "df_findings.sort_values(by='Predicted', ascending=False, inplace=True)"
   ]
  },
  {
   "cell_type": "code",
   "execution_count": null,
   "metadata": {
    "scrolled": false
   },
   "outputs": [],
   "source": [
    "df_findings"
   ]
  },
  {
   "cell_type": "markdown",
   "metadata": {},
   "source": [
    "## Visualization of semi-finalist ZIP codes"
   ]
  },
  {
   "cell_type": "code",
   "execution_count": null,
   "metadata": {
    "scrolled": false
   },
   "outputs": [],
   "source": [
    "fig, ax = plot_ts_zips(df_sac, zipcodes, nrows=11, ncols=2, figsize=(18, 50), legend=True)\n"
   ]
  },
  {
   "cell_type": "markdown",
   "metadata": {},
   "source": [
    "## Visualization of semi-finalist ZIP codes, labeled with ZIP and city\n"
   ]
  },
  {
   "cell_type": "markdown",
   "metadata": {},
   "source": [
    "### Create function to automate plotting of semifinalist ZIP codes with city and ZIP labels"
   ]
  },
  {
   "cell_type": "code",
   "execution_count": null,
   "metadata": {},
   "outputs": [],
   "source": [
    "def zip_semifinalists(df, dict_zip_city, col = 'value', nrows=11, ncols=2, figsize=(18, 40), legend=True):\n",
    "\n",
    "    fig = plt.figure(figsize=figsize)\n",
    "\n",
    "    for i, key in enumerate(dict_zip_city.keys(), start=1):\n",
    "        ax = fig.add_subplot(nrows, ncols, i)   \n",
    "        ts = df[col].loc[df['Zip'] == dict_zip_city[key]]\n",
    "        ts = ts.rename(dict_zip_city[key])\n",
    "        try: \n",
    "            max_ = ts.loc['2004':'2011'].idxmax()  \n",
    "        except:\n",
    "            continue\n",
    "\n",
    "        crash = '01-2009'\n",
    "        min_ = ts.loc[crash:].idxmin()\n",
    "        val_2003 = ts.loc['2003-01-01']\n",
    "        ts.plot(ax=ax, fontsize=12)   \n",
    "        plt.title(f'{key} ({dict_zip_city[key]})', fontsize=16)\n",
    "        plt.xlabel('')\n",
    "\n",
    "        ax.axvline(max_, label = 'Maximum value during bubble', color = 'orange', ls=':')               \n",
    "        ax.axvline(crash, label = 'Housing market declines', color='black')                         \n",
    "        ax.axvline(min_, label = 'Minimum value after crash', color = 'red', ls=':')\n",
    "        ax.axhline(val_2003, label='Value on 2003-01-01', color = 'blue', ls='-.', alpha=0.15)\n",
    "\n",
    "        if legend:\n",
    "            ax.legend(loc='upper left', prop={'size': 10})\n",
    "\n",
    "        fig.tight_layout()\n",
    "        \n",
    "    return fig, ax\n"
   ]
  },
  {
   "cell_type": "code",
   "execution_count": null,
   "metadata": {
    "scrolled": false
   },
   "outputs": [],
   "source": [
    "ts = ts.rename('95616')"
   ]
  },
  {
   "cell_type": "code",
   "execution_count": null,
   "metadata": {},
   "outputs": [],
   "source": [
    "ts.plot()\n",
    "plt.legend()"
   ]
  },
  {
   "cell_type": "markdown",
   "metadata": {
    "heading_collapsed": true
   },
   "source": [
    "### Create dictionary of each ZIP code and the city to which it belongs\n",
    "\n"
   ]
  },
  {
   "cell_type": "code",
   "execution_count": null,
   "metadata": {
    "hidden": true
   },
   "outputs": [],
   "source": [
    "dict_semifinal_city_zip = dict(zip(cities, zipcodes))"
   ]
  },
  {
   "cell_type": "code",
   "execution_count": null,
   "metadata": {
    "hidden": true
   },
   "outputs": [],
   "source": [
    "dict_semifinal_city_zip"
   ]
  },
  {
   "cell_type": "code",
   "execution_count": null,
   "metadata": {
    "hidden": true
   },
   "outputs": [],
   "source": [
    "dict_semifinal_city_zip = dict(sorted(dict_semifinal_city_zip.items()))"
   ]
  },
  {
   "cell_type": "code",
   "execution_count": null,
   "metadata": {
    "hidden": true
   },
   "outputs": [],
   "source": [
    "dict_semifinal_city_zip"
   ]
  },
  {
   "cell_type": "code",
   "execution_count": null,
   "metadata": {
    "hidden": true
   },
   "outputs": [],
   "source": [
    "len(dict_semifinal_city_zip)"
   ]
  },
  {
   "cell_type": "markdown",
   "metadata": {},
   "source": [
    "### Run function to generate plots for all ZIP codes"
   ]
  },
  {
   "cell_type": "code",
   "execution_count": null,
   "metadata": {
    "scrolled": false
   },
   "outputs": [],
   "source": [
    "zip_semifinalists(df_sac, dict_semifinal_city_zip, col = 'value', nrows=11, ncols=2, figsize=(18, 40), legend=True);"
   ]
  },
  {
   "cell_type": "markdown",
   "metadata": {},
   "source": [
    "## Create 6 ZIP plots at one time (PowerPoint-friendlier format)\n",
    "\n",
    "### Need to first create subset dictionaries to plot over"
   ]
  },
  {
   "cell_type": "code",
   "execution_count": null,
   "metadata": {},
   "outputs": [],
   "source": [
    "def return_slice(dictionary, m, n):\n",
    "    sub_dict = {k: dictionary[k] for k in list(dictionary)[m:n]}\n",
    "    return sub_dict\n"
   ]
  },
  {
   "cell_type": "code",
   "execution_count": null,
   "metadata": {},
   "outputs": [],
   "source": [
    "dict_semi_0_6 = return_slice(dict_semifinal_city_zip, 0, 6)\n",
    "dict_semi_0_6"
   ]
  },
  {
   "cell_type": "code",
   "execution_count": null,
   "metadata": {},
   "outputs": [],
   "source": [
    "dict_semi_6_12 = return_slice(dict_semifinal_city_zip, 6, 12)\n",
    "dict_semi_6_12"
   ]
  },
  {
   "cell_type": "code",
   "execution_count": null,
   "metadata": {},
   "outputs": [],
   "source": [
    "dict_semi_12_18 = return_slice(dict_semifinal_city_zip, 12, 18)\n",
    "dict_semi_12_18"
   ]
  },
  {
   "cell_type": "code",
   "execution_count": null,
   "metadata": {},
   "outputs": [],
   "source": [
    "dict_semi_18_21 = return_slice(dict_semifinal_city_zip, 18, 21)\n",
    "dict_semi_18_21"
   ]
  },
  {
   "cell_type": "markdown",
   "metadata": {},
   "source": [
    "### Run function on subset dictionaries"
   ]
  },
  {
   "cell_type": "code",
   "execution_count": null,
   "metadata": {},
   "outputs": [],
   "source": [
    "zip_semifinalists(df_sac, dict_semi_0_6, col = 'value', nrows=3, ncols=2, figsize=(16, 12), legend=True);"
   ]
  },
  {
   "cell_type": "code",
   "execution_count": null,
   "metadata": {},
   "outputs": [],
   "source": [
    "zip_semifinalists(df_sac, dict_semi_6_12, col = 'value', nrows=3, ncols=2, figsize=(16, 12), legend=True);"
   ]
  },
  {
   "cell_type": "code",
   "execution_count": null,
   "metadata": {},
   "outputs": [],
   "source": [
    "zip_semifinalists(df_sac, dict_semi_12_18, col = 'value', nrows=3, ncols=2, figsize=(16, 12), legend=True);"
   ]
  },
  {
   "cell_type": "code",
   "execution_count": null,
   "metadata": {},
   "outputs": [],
   "source": [
    "zip_semifinalists(df_sac, dict_semi_18_21, col = 'value', nrows=3, ncols=2, figsize=(16, 12), legend=True);"
   ]
  },
  {
   "cell_type": "code",
   "execution_count": null,
   "metadata": {},
   "outputs": [],
   "source": []
  },
  {
   "cell_type": "markdown",
   "metadata": {},
   "source": [
    "# Recommended ZIP Codes"
   ]
  },
  {
   "cell_type": "markdown",
   "metadata": {},
   "source": [
    "## Decision-making process"
   ]
  },
  {
   "cell_type": "markdown",
   "metadata": {},
   "source": [
    "*First,* I sorted ZIP codes based on __predicted return__.  This is how the summary table is sorted.  \n",
    "\n",
    "*Second,* I considered the potential __worst-case valuation scenario__.  \n",
    "- There are a few ZIP codes that have relatively good predicted valuations over the two-year time horizon, but also have substantial potential downside.  Examples include Carnelian Bay, Somerset, Diamond Springs, Tahoma, El Dorado, and Roseville.  \n",
    "- Because of the significant possible downsides of these ZIP codes, I put them in the 'maybe' column.  I subsequently removed them after the considerations below.\n",
    "\n",
    "*Third,* I reviewed the potential __best-case valuation scenario,__ just to see how much potential upside the ZIP code could yield.  \n",
    "- Since time series predictions are so uncertain--as illustrated by the large differences between the upper bound and lower bound values--I don't put much weight on the upper end of potential yields.  \n",
    "- Predicted values as well as downside risk are more important, but looking at the best-case scenario can suggest whether a higher return is more likely.  \n",
    "\n",
    "*Finally,* I looked at the __population__ in each ZIP code, as well as the __geographic location__ of the ZIP code.  Doing this caused me to modify my initial assessment (and prompted me to analyze more ZIP codes).  \n",
    "- Several of the \"maybe\"s on the chart are for very small towns clustered around Lake Tahoe.  I would recommend against selecting more than one of these ZIP codes for the top 5.  \n",
    "   - For one thing, the towns are very small, so the pool of potential investment opportunities in each is small. \n",
    "   - For another thing, many of the homes in these towns are vacation homes, so a significant economic downturn could cause a significant drop in prices.  \n",
    "   - Third, the region's economy is based almost entirely on tourism (especially skiing in the winter and water sports in the summer).  Economic downturns could depress housing values in the near term, while larger trends such as climate change may have a significant long-term effect (e.g., less natural snowpack in the winter). \n"
   ]
  },
  {
   "cell_type": "markdown",
   "metadata": {},
   "source": [
    "## Top 5 ZIP codes the Sacramento Metro region:\n",
    "\n",
    "1.  *Rescue, CA (95672).*  While the population is fairly small, average home values are high.  Home values for the ZIP code in 4/1/2020 are forecasted to be ___32% higher___ than they are now.  Furthermore, the downside is very limited (~3%) and the upside is potentially large (68%).\n",
    "\n",
    "2.  *Penryn, CA (95663).*  The population here is small, but average home values are even higher than Rescue.  While Rescue is in El Dorado County, Penryn is in Placer County, offering a bit of geographic diversity.  Penryn's home values are predicted to rise ___almost 14% higher___ by 4/1/2020.  Downside is limited (8.3% at the lower bound) and upside is potentially substantial (over 35%).  \n",
    "\n",
    "3.  *Auburn, CA (95602).* Auburn's population is significantly larger than the first two, offering additional investment opportunities and stablity within one ZIP code.  Its location in the foothills of the Sierra Nevada is desireable for many homebuyers, as evidenced by the average home value.  Home values are predicted to ___increase 11.8%___ over 24 months, with minimal downside (-8% at the lower bound) and substantial potential upside (31.6%).\n",
    "\n",
    "4.  *Rocklin, CA (95765).*  This ZIP code's population (almost 42,000) is larger than Auburn, Rescue, and Penryn put together, and so offers a wider range of opportunities, both expensive and affordable.  The model predicts an ___11.8% increase___ in home values, with a potential lower-bound downside of -8.5% and a large potential upside at 32%.  \n",
    "\n",
    "5.  *Granite Bay, CA (95746).*  This ZIP code represents an affluent community on the west-northwest side of Folsom Lake.  Home values in this very desireable location are expected to ___increase 7.9%___, with a potential downside of -9.6% and significant possible upside of 25.4%\n",
    "\n"
   ]
  },
  {
   "cell_type": "markdown",
   "metadata": {},
   "source": [
    "## Maps"
   ]
  },
  {
   "cell_type": "markdown",
   "metadata": {},
   "source": [
    "### Sacramento metro area county map"
   ]
  },
  {
   "cell_type": "markdown",
   "metadata": {},
   "source": [
    "<center><img src='images/Sac_metro_counties_map.png' height=80% width=80%>"
   ]
  },
  {
   "cell_type": "markdown",
   "metadata": {},
   "source": [
    "### El Dorado County"
   ]
  },
  {
   "cell_type": "markdown",
   "metadata": {},
   "source": [
    "<center><img src='images/ElDorado_Cty_map.png' height=80% width=80%>"
   ]
  },
  {
   "cell_type": "markdown",
   "metadata": {},
   "source": [
    "### Placer County"
   ]
  },
  {
   "cell_type": "markdown",
   "metadata": {},
   "source": [
    "<center><img src='images/Placer_cty_map.png' height=80% width=80%>"
   ]
  },
  {
   "cell_type": "markdown",
   "metadata": {},
   "source": [
    "### Rescue, CA (95672) ZIP code map (El Dorado County)"
   ]
  },
  {
   "cell_type": "markdown",
   "metadata": {},
   "source": [
    "<center><img src='images/Rescue_95672_map.png' height=50% width=50%>"
   ]
  },
  {
   "cell_type": "markdown",
   "metadata": {},
   "source": [
    "### Penryn, CA (95663) ZIP code map (Placer County)"
   ]
  },
  {
   "cell_type": "markdown",
   "metadata": {},
   "source": [
    "<center><img src='images/Penryn_95663_map.png' height=50% width=50%>"
   ]
  },
  {
   "cell_type": "markdown",
   "metadata": {},
   "source": [
    "### Auburn, CA (95602) ZIP code map (Placer County)"
   ]
  },
  {
   "cell_type": "markdown",
   "metadata": {},
   "source": [
    "<center><img src='images/Auburn_95602_map.png' height=50% width=50%>"
   ]
  },
  {
   "cell_type": "markdown",
   "metadata": {},
   "source": [
    "### Rocklin, CA (95765) ZIP code map (Placer County)"
   ]
  },
  {
   "cell_type": "markdown",
   "metadata": {},
   "source": [
    "<center><img src='images/Rocklin_95765_map.png' height=50% width=50%>"
   ]
  },
  {
   "cell_type": "markdown",
   "metadata": {},
   "source": [
    "### Granite Bay, CA (95746) ZIP code map (Placer County)"
   ]
  },
  {
   "cell_type": "markdown",
   "metadata": {},
   "source": [
    "<center><img src='images/GraniteBay_95746_map.png' height=50% width=50%>"
   ]
  },
  {
   "cell_type": "code",
   "execution_count": null,
   "metadata": {},
   "outputs": [],
   "source": []
  },
  {
   "cell_type": "markdown",
   "metadata": {},
   "source": [
    "# Ancillary functions"
   ]
  },
  {
   "cell_type": "markdown",
   "metadata": {},
   "source": [
    "## Search metro area by str.contains"
   ]
  },
  {
   "cell_type": "code",
   "execution_count": null,
   "metadata": {},
   "outputs": [],
   "source": [
    "# df_metro_values[df_metro_values['MetroState'].str.contains('New York', regex=False)]\n"
   ]
  },
  {
   "cell_type": "markdown",
   "metadata": {},
   "source": [
    "## Creating df_metro_values (US Metros df with *Metro* mean values)"
   ]
  },
  {
   "cell_type": "code",
   "execution_count": null,
   "metadata": {},
   "outputs": [],
   "source": [
    "df_metro_values = df_melt.groupby(['MetroState', 'State', 'time']).mean().reset_index()"
   ]
  },
  {
   "cell_type": "code",
   "execution_count": null,
   "metadata": {
    "scrolled": false
   },
   "outputs": [],
   "source": [
    "df_metro_values.head()"
   ]
  },
  {
   "cell_type": "code",
   "execution_count": null,
   "metadata": {},
   "outputs": [],
   "source": [
    "df_metro_values = df_metro_values.set_index('time')"
   ]
  },
  {
   "cell_type": "code",
   "execution_count": null,
   "metadata": {},
   "outputs": [],
   "source": [
    "df_metro_values.drop('SizeRank', axis=1, inplace=True)"
   ]
  },
  {
   "cell_type": "code",
   "execution_count": null,
   "metadata": {},
   "outputs": [],
   "source": [
    "df_metro_values.head()"
   ]
  },
  {
   "cell_type": "code",
   "execution_count": null,
   "metadata": {},
   "outputs": [],
   "source": [
    "df_metro_values.MetroState.value_counts().head()"
   ]
  },
  {
   "cell_type": "code",
   "execution_count": null,
   "metadata": {},
   "outputs": [],
   "source": [
    "df_metro_values.nunique()"
   ]
  },
  {
   "cell_type": "code",
   "execution_count": null,
   "metadata": {
    "scrolled": true
   },
   "outputs": [],
   "source": [
    "df_metro_values.info()"
   ]
  },
  {
   "cell_type": "markdown",
   "metadata": {},
   "source": [
    "## df_geog:  Function for creating a dataframe based on particular geographic unit (e.g., MetroState area, City, CountyName)"
   ]
  },
  {
   "cell_type": "code",
   "execution_count": null,
   "metadata": {},
   "outputs": [],
   "source": [
    "def df_geog(df, col, geog):\n",
    "    \n",
    "    '''Creates subset dataframe containing just the geographic unit \n",
    "    (e.g., 'MetroState' == 'Sacramento CA', 'City' == 'Davis', etc.) of interest.  \n",
    "    It is necessary to set df equal to a dataframe with the appropriate geographic grouping: \n",
    "    e.g., to plot values by city in a metro aree, df = df_metro_cities, col = 'MetroState',\n",
    "    geog = 'Sacramento CA' (or metro area of interest). \n",
    "    '''\n",
    "    df_metro_cities_geog = df.loc[df[col] == geog]\n",
    "    return df_metro_cities_geog\n"
   ]
  },
  {
   "cell_type": "markdown",
   "metadata": {},
   "source": [
    "## Plotting functions"
   ]
  },
  {
   "cell_type": "markdown",
   "metadata": {},
   "source": [
    "### Plotting function:  plot_single_geog function (plots a single geographic unit)"
   ]
  },
  {
   "cell_type": "code",
   "execution_count": null,
   "metadata": {},
   "outputs": [],
   "source": [
    "# Be sure to use df with appropriate value grouping (e.g., metro, city, zip)\n",
    "\n",
    "def plot_single_geog(df, col = 'value', col2 = 'MetroState', metunit = 'Sacramento CA', figsize=(12, 6), fontsize1=12, fontsize2=16):\n",
    "    \n",
    "    ''' Plots housing values for individual geographic unit, e.g., MetroState, City, County.  \n",
    "    Be sure to use the appropriate dataframe for the selected grouping (df_metro_cities for \n",
    "    cities in a metro area, for example).  Specify nrows, ncols, and figsize to match size of list.\n",
    "    '''\n",
    "    \n",
    "    ts = df[col].loc[df[col2] == metunit]\n",
    "    ax = ts.plot(figsize=figsize, title = metunit, fontsize=fontsize2, label = 'Raw Price')\n",
    "    plt.xlabel('')\n",
    "\n",
    "    max_ = ts.loc['2004':'2010'].idxmax()  \n",
    "    crash = '01-2009'\n",
    "    min_ = ts.loc[crash:].idxmin()\n",
    "    val_2003 = ts.loc['2003-01-01']\n",
    "\n",
    "    ax.axvline(max_, label='Max price during bubble', color = 'green', ls=':')\n",
    "    ax.axvline(crash, label = 'Housing Index Drops', color='red', ls=':')\n",
    "    ax.axvline(min_, label=f'Min price post-crash {min_}', color = 'black', ls=':')\n",
    "    ax.axhline(val_2003, label='Value on 2003-01-01', color = 'blue', ls='-.', alpha=0.15)\n",
    "\n",
    "    ax.legend(loc='upper left', fontsize=fontsize1)\n",
    "\n"
   ]
  },
  {
   "cell_type": "markdown",
   "metadata": {},
   "source": [
    "### Plotting function:  Combining line plot, boxplot, ACF, PACF, and seasonal decomposition"
   ]
  },
  {
   "cell_type": "code",
   "execution_count": null,
   "metadata": {},
   "outputs": [],
   "source": [
    "# doesn't work in current form\n",
    "\n",
    "def plotting_eda(df, geog_area, col1='value', col2 = 'Zip', figsize_plot = (12, 6), fontsize1=14, \n",
    "                 fontsize2=18, figsize_box=(8, 4), figsize_acf = (10, 6), legend=True, \n",
    "                 set_ylim = False, ylim = 800000, lags=15):\n",
    "    \n",
    "    from statsmodels.tsa.seasonal import seasonal_decompose\n",
    "    from statsmodels.graphics.tsaplots import plot_acf, plot_pacf\n",
    "    from pandas.plotting import autocorrelation_plot, lag_plot\n",
    "    \n",
    "#     ts = df[col1].loc[df[col2] == geog_area]\n",
    "    single_zip_boxplot(df, geog_area, figsize=figsize_box)    \n",
    "    plot_single_geog(df, geog_area, col1, col2, figsize=figsize_plot)\n",
    "    plot_acf_pacf(ts, figsize_acf, lags)\n",
    "    plot_seasonal_decomp(ts)\n",
    "    "
   ]
  },
  {
   "cell_type": "code",
   "execution_count": null,
   "metadata": {},
   "outputs": [],
   "source": []
  },
  {
   "cell_type": "markdown",
   "metadata": {},
   "source": [
    "### ARIMA modeling and forecasting results"
   ]
  },
  {
   "cell_type": "code",
   "execution_count": null,
   "metadata": {},
   "outputs": [],
   "source": [
    "# arima_forecast(data, ts, geog_area, city, p_values, d_values, q_values, figsize=(12,8), confint=2)"
   ]
  },
  {
   "cell_type": "markdown",
   "metadata": {},
   "source": [
    "### Model parameter fine-tuning"
   ]
  },
  {
   "cell_type": "code",
   "execution_count": null,
   "metadata": {},
   "outputs": [],
   "source": [
    "# eval_arima_models(ts.values, p_values, d_values, q_values)    "
   ]
  },
  {
   "cell_type": "markdown",
   "metadata": {},
   "source": [
    "### ARIMA model fit"
   ]
  },
  {
   "cell_type": "code",
   "execution_count": null,
   "metadata": {
    "scrolled": false
   },
   "outputs": [],
   "source": [
    "model_fit = arima_zipcode(ts, order = order)"
   ]
  },
  {
   "cell_type": "markdown",
   "metadata": {},
   "source": [
    "### Create forecast model"
   ]
  },
  {
   "cell_type": "code",
   "execution_count": null,
   "metadata": {},
   "outputs": [],
   "source": [
    "# actual_forecast, std_error, forecast_confint  "
   ]
  },
  {
   "cell_type": "markdown",
   "metadata": {},
   "source": [
    "### Create dataframe to hold these values and join to existing dataframe"
   ]
  },
  {
   "cell_type": "code",
   "execution_count": null,
   "metadata": {
    "scrolled": true
   },
   "outputs": [],
   "source": [
    "# df_forecast = forecast_df(actual_forecast, forecast_confint, std_error)"
   ]
  },
  {
   "cell_type": "markdown",
   "metadata": {},
   "source": [
    "### Create df_new with historical and forecasted values"
   ]
  },
  {
   "cell_type": "code",
   "execution_count": null,
   "metadata": {},
   "outputs": [],
   "source": [
    "def concat_values_forecast(ts, df_forecast):\n",
    "    df_new = pd.concat([ts, df_forecast])\n",
    "    df_new = df_new.rename(columns = {0: 'value'})\n",
    "    return df_new"
   ]
  },
  {
   "cell_type": "code",
   "execution_count": null,
   "metadata": {},
   "outputs": [],
   "source": [
    "# df_new = concat_values_forecast(ts, df_forecast)"
   ]
  },
  {
   "cell_type": "code",
   "execution_count": null,
   "metadata": {},
   "outputs": [],
   "source": [
    "# df_new.head()"
   ]
  },
  {
   "cell_type": "markdown",
   "metadata": {},
   "source": [
    "### Plot forecast results"
   ]
  },
  {
   "cell_type": "code",
   "execution_count": null,
   "metadata": {},
   "outputs": [],
   "source": [
    "# Define function\n",
    "\n",
    "def plot_forecast(df, figsize=(12,8), geog_area='95616'):\n",
    "    fig = plt.figure(figsize=figsize)\n",
    "    plt.plot(df['value'], label='Raw Data')\n",
    "    plt.plot(df['forecast'], label='Forecast')\n",
    "    plt.fill_between(df.index, df['forecast_lower'], df['forecast_upper'], color='k', alpha = 0.2, \n",
    "                 label='Confidence Interval')\n",
    "    plt.legend(loc = 'upper left')\n",
    "    plt.title(f'Forecast for {geog_area}')\n"
   ]
  },
  {
   "cell_type": "code",
   "execution_count": null,
   "metadata": {
    "scrolled": false
   },
   "outputs": [],
   "source": [
    "# plot_forecast(df_new)"
   ]
  },
  {
   "cell_type": "markdown",
   "metadata": {},
   "source": [
    "### Figure out percent change in home values"
   ]
  },
  {
   "cell_type": "code",
   "execution_count": null,
   "metadata": {},
   "outputs": [],
   "source": [
    "# Define functions\n",
    "\n",
    "def forecast_values(df=df, date = '2020-04-01'):\n",
    "    forecasted_price = df.loc[date, 'forecast']\n",
    "    forecasted_lower = df.loc[date, 'forecast_lower']\n",
    "    forecasted_upper = df.loc[date, 'forecast_upper']    \n",
    "    return forecasted_price, forecasted_lower, forecasted_upper\n"
   ]
  },
  {
   "cell_type": "code",
   "execution_count": null,
   "metadata": {},
   "outputs": [],
   "source": [
    "# forecasted_price, forecasted_lower, forecasted_upper = forecast_values(df_new)"
   ]
  },
  {
   "cell_type": "code",
   "execution_count": null,
   "metadata": {},
   "outputs": [],
   "source": [
    "# forecasted_price, forecasted_lower, forecasted_upper"
   ]
  },
  {
   "cell_type": "code",
   "execution_count": null,
   "metadata": {},
   "outputs": [],
   "source": [
    "def last_value(df, date = '2018-04-01'):\n",
    "    last_value = df.loc[date, 'value']\n",
    "    return last_value\n"
   ]
  },
  {
   "cell_type": "code",
   "execution_count": null,
   "metadata": {},
   "outputs": [],
   "source": [
    "# last_value = last_value(df_new)"
   ]
  },
  {
   "cell_type": "code",
   "execution_count": null,
   "metadata": {},
   "outputs": [],
   "source": [
    "# last_value"
   ]
  },
  {
   "cell_type": "markdown",
   "metadata": {},
   "source": [
    "### Compute and print predicted, best, and worst case scenarios"
   ]
  },
  {
   "cell_type": "code",
   "execution_count": null,
   "metadata": {},
   "outputs": [],
   "source": [
    "def pred_best_worst(pred, low, high, last, date='April 1, 2020'):\n",
    "    \n",
    "    '''Prints out predicted, best-case, and worst-case scencarios from forecast'''\n",
    "    \n",
    "    pred_pct_change = (((pred - last) / last) * 100)\n",
    "    print(f'By the model prediction, I would expect to see a {round(pred_pct_change, 3)}% change in price by April 1, 2020.')\n",
    "    lower_pct_change = ((low - last) / last) * 100\n",
    "    print(f'At the lower bound of the confidence interval, I would expect to see a {round(lower_pct_change, 3)}% change in price by April 1, 2020.')\n",
    "    upper_pct_change = ((high - last) / last) * 100\n",
    "    print(f'At the upper bound of the confidence interval, I would expect to see a {round(upper_pct_change, 3)}% change in price by April 1, 2020.')\n",
    "    return round(pred_pct_change, 3), round(lower_pct_change, 3), round(upper_pct_change, 3)\n",
    "        "
   ]
  },
  {
   "cell_type": "code",
   "execution_count": null,
   "metadata": {},
   "outputs": [],
   "source": [
    "# pred, lower, upper = pred_best_worst(pred=forecasted_price, low=forecasted_lower, high=forecasted_upper, last=last_value, date='April 1, 2020')\n"
   ]
  },
  {
   "cell_type": "markdown",
   "metadata": {},
   "source": [
    "# Notebook spacer"
   ]
  },
  {
   "cell_type": "markdown",
   "metadata": {},
   "source": [
    "# Notebook spacer"
   ]
  },
  {
   "cell_type": "markdown",
   "metadata": {},
   "source": [
    "# Notebook spacer"
   ]
  }
 ],
 "metadata": {
  "celltoolbar": "Raw Cell Format",
  "kernelspec": {
   "display_name": "Python [conda env:learn-env] *",
   "language": "python",
   "name": "conda-env-learn-env-py"
  },
  "language_info": {
   "codemirror_mode": {
    "name": "ipython",
    "version": 3
   },
   "file_extension": ".py",
   "mimetype": "text/x-python",
   "name": "python",
   "nbconvert_exporter": "python",
   "pygments_lexer": "ipython3",
   "version": "3.6.9"
  },
  "toc": {
   "base_numbering": 1,
   "nav_menu": {},
   "number_sections": false,
   "sideBar": true,
   "skip_h1_title": false,
   "title_cell": "Table of Contents",
   "title_sidebar": "Contents",
   "toc_cell": false,
   "toc_position": {
    "height": "540px",
    "left": "95px",
    "top": "275.4px",
    "width": "308.667px"
   },
   "toc_section_display": true,
   "toc_window_display": true
  }
 },
 "nbformat": 4,
 "nbformat_minor": 2
}

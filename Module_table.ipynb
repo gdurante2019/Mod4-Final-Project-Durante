{
 "cells": [
  {
   "cell_type": "markdown",
   "metadata": {},
   "source": [
    "# Creating table of modules, handles, and descriptions"
   ]
  },
  {
   "cell_type": "code",
   "execution_count": 1,
   "metadata": {},
   "outputs": [
    {
     "data": {
      "text/html": [
       "<div>\n",
       "<style scoped>\n",
       "    .dataframe tbody tr th:only-of-type {\n",
       "        vertical-align: middle;\n",
       "    }\n",
       "\n",
       "    .dataframe tbody tr th {\n",
       "        vertical-align: top;\n",
       "    }\n",
       "\n",
       "    .dataframe thead th {\n",
       "        text-align: right;\n",
       "    }\n",
       "</style>\n",
       "<table border=\"1\" class=\"dataframe\">\n",
       "  <thead>\n",
       "    <tr style=\"text-align: right;\">\n",
       "      <th></th>\n",
       "      <th>Module/Package Handle</th>\n",
       "    </tr>\n",
       "  </thead>\n",
       "  <tbody>\n",
       "    <tr>\n",
       "      <td>pandas</td>\n",
       "      <td>pd</td>\n",
       "    </tr>\n",
       "    <tr>\n",
       "      <td>numpy</td>\n",
       "      <td>np</td>\n",
       "    </tr>\n",
       "    <tr>\n",
       "      <td>matplotlib</td>\n",
       "      <td>mpl</td>\n",
       "    </tr>\n",
       "    <tr>\n",
       "      <td>matplotlib.pyplot</td>\n",
       "      <td>plt</td>\n",
       "    </tr>\n",
       "    <tr>\n",
       "      <td>seaborn</td>\n",
       "      <td>sns</td>\n",
       "    </tr>\n",
       "    <tr>\n",
       "      <td>Helper_functions</td>\n",
       "      <td>hf</td>\n",
       "    </tr>\n",
       "  </tbody>\n",
       "</table>\n",
       "</div>"
      ],
      "text/plain": [
       "                  Module/Package Handle\n",
       "pandas                               pd\n",
       "numpy                                np\n",
       "matplotlib                          mpl\n",
       "matplotlib.pyplot                   plt\n",
       "seaborn                             sns\n",
       "Helper_functions                     hf"
      ]
     },
     "metadata": {},
     "output_type": "display_data"
    },
    {
     "data": {
      "text/html": [
       "<style  type=\"text/css\" >\n",
       "</style><table id=\"T_0cb2de74_5f48_11ea_bbff_f45c89b65f5d\" ><caption>Loaded Packages and Handles</caption><thead>    <tr>        <th class=\"col_heading level0 col0\" >Package</th>        <th class=\"col_heading level0 col1\" >Handle</th>        <th class=\"col_heading level0 col2\" >Description</th>    </tr></thead><tbody>\n",
       "                <tr>\n",
       "                                <td id=\"T_0cb2de74_5f48_11ea_bbff_f45c89b65f5drow0_col0\" class=\"data row0 col0\" >Helper_functions</td>\n",
       "                        <td id=\"T_0cb2de74_5f48_11ea_bbff_f45c89b65f5drow0_col1\" class=\"data row0 col1\" >hf</td>\n",
       "                        <td id=\"T_0cb2de74_5f48_11ea_bbff_f45c89b65f5drow0_col2\" class=\"data row0 col2\" >Helper functions for mod4 project</td>\n",
       "            </tr>\n",
       "            <tr>\n",
       "                                <td id=\"T_0cb2de74_5f48_11ea_bbff_f45c89b65f5drow1_col0\" class=\"data row1 col0\" >matplotlib</td>\n",
       "                        <td id=\"T_0cb2de74_5f48_11ea_bbff_f45c89b65f5drow1_col1\" class=\"data row1 col1\" >mpl</td>\n",
       "                        <td id=\"T_0cb2de74_5f48_11ea_bbff_f45c89b65f5drow1_col2\" class=\"data row1 col2\" >Matplotlib's base OOP module with formatting artists</td>\n",
       "            </tr>\n",
       "            <tr>\n",
       "                                <td id=\"T_0cb2de74_5f48_11ea_bbff_f45c89b65f5drow2_col0\" class=\"data row2 col0\" >matplotlib.pyplot</td>\n",
       "                        <td id=\"T_0cb2de74_5f48_11ea_bbff_f45c89b65f5drow2_col1\" class=\"data row2 col1\" >plt</td>\n",
       "                        <td id=\"T_0cb2de74_5f48_11ea_bbff_f45c89b65f5drow2_col2\" class=\"data row2 col2\" >Matplotlib's matlab-like plotting module</td>\n",
       "            </tr>\n",
       "            <tr>\n",
       "                                <td id=\"T_0cb2de74_5f48_11ea_bbff_f45c89b65f5drow3_col0\" class=\"data row3 col0\" >numpy</td>\n",
       "                        <td id=\"T_0cb2de74_5f48_11ea_bbff_f45c89b65f5drow3_col1\" class=\"data row3 col1\" >np</td>\n",
       "                        <td id=\"T_0cb2de74_5f48_11ea_bbff_f45c89b65f5drow3_col2\" class=\"data row3 col2\" >scientific computing with Python</td>\n",
       "            </tr>\n",
       "            <tr>\n",
       "                                <td id=\"T_0cb2de74_5f48_11ea_bbff_f45c89b65f5drow4_col0\" class=\"data row4 col0\" >pandas</td>\n",
       "                        <td id=\"T_0cb2de74_5f48_11ea_bbff_f45c89b65f5drow4_col1\" class=\"data row4 col1\" >pd</td>\n",
       "                        <td id=\"T_0cb2de74_5f48_11ea_bbff_f45c89b65f5drow4_col2\" class=\"data row4 col2\" >High performance data structures and tools</td>\n",
       "            </tr>\n",
       "            <tr>\n",
       "                                <td id=\"T_0cb2de74_5f48_11ea_bbff_f45c89b65f5drow5_col0\" class=\"data row5 col0\" >seaborn</td>\n",
       "                        <td id=\"T_0cb2de74_5f48_11ea_bbff_f45c89b65f5drow5_col1\" class=\"data row5 col1\" >sns</td>\n",
       "                        <td id=\"T_0cb2de74_5f48_11ea_bbff_f45c89b65f5drow5_col2\" class=\"data row5 col2\" >High-level data visualization library based on matplotlib</td>\n",
       "            </tr>\n",
       "    </tbody></table>"
      ],
      "text/plain": [
       "<pandas.io.formats.style.Styler at 0x1c20088b70>"
      ]
     },
     "metadata": {},
     "output_type": "display_data"
    }
   ],
   "source": [
    "# !pip install prettypandas\n",
    "\n",
    "import_dict = {'pandas':'pd',\n",
    "                'numpy':'np',\n",
    "                'matplotlib':'mpl',\n",
    "                'matplotlib.pyplot':'plt',\n",
    "                'seaborn':'sns',\n",
    "                'Helper_functions':'hf'\n",
    "              }\n",
    "for package, handle in import_dict.items():\n",
    "    exec(f'import {package} as {handle}')\n",
    "\n",
    "from IPython.display import display\n",
    "# from IPython.display import HTML\n",
    "\n",
    "df_imported= pd.DataFrame.from_dict(import_dict,orient='index')\n",
    "df_imported.columns=['Module/Package Handle']\n",
    "\n",
    "from prettypandas import *\n",
    "display(df_imported)\n",
    "\n",
    "import pandas as pd\n",
    "from IPython.display import display\n",
    "\n",
    "imports_list = [('pandas','pd','High performance data structures and tools'),\n",
    "                ('numpy','np','scientific computing with Python'),\n",
    "                ('matplotlib','mpl',\"Matplotlib's base OOP module with formatting artists\"),\n",
    "                ('matplotlib.pyplot','plt',\"Matplotlib's matlab-like plotting module\"),\n",
    "                ('seaborn','sns',\"High-level data visualization library based on matplotlib\"),\n",
    "                ('Helper_functions','hf','Helper functions for mod4 project')]\n",
    "\n",
    "for package_tuple in imports_list:\n",
    "    package=package_tuple[0]\n",
    "    handle=package_tuple[1]\n",
    "    exec(f'import {package} as {handle}')\n",
    "\n",
    "df_imported= pd.DataFrame(imports_list,columns=['Package','Handle','Description'])\n",
    "display(df_imported.sort_values('Package').style.hide_index().set_caption('Loaded Packages and Handles'))"
   ]
  },
  {
   "cell_type": "code",
   "execution_count": null,
   "metadata": {},
   "outputs": [],
   "source": []
  }
 ],
 "metadata": {
  "kernelspec": {
   "display_name": "Python [conda env:learn-env] *",
   "language": "python",
   "name": "conda-env-learn-env-py"
  },
  "language_info": {
   "codemirror_mode": {
    "name": "ipython",
    "version": 3
   },
   "file_extension": ".py",
   "mimetype": "text/x-python",
   "name": "python",
   "nbconvert_exporter": "python",
   "pygments_lexer": "ipython3",
   "version": "3.6.9"
  },
  "toc": {
   "base_numbering": 1,
   "nav_menu": {},
   "number_sections": false,
   "sideBar": true,
   "skip_h1_title": false,
   "title_cell": "Table of Contents",
   "title_sidebar": "Contents",
   "toc_cell": false,
   "toc_position": {},
   "toc_section_display": true,
   "toc_window_display": false
  }
 },
 "nbformat": 4,
 "nbformat_minor": 2
}
